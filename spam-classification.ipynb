{
 "cells": [
  {
   "cell_type": "code",
   "execution_count": 1,
   "id": "99ced466",
   "metadata": {
    "execution": {
     "iopub.execute_input": "2023-01-04T12:16:43.483860Z",
     "iopub.status.busy": "2023-01-04T12:16:43.483348Z",
     "iopub.status.idle": "2023-01-04T12:16:43.499853Z",
     "shell.execute_reply": "2023-01-04T12:16:43.499108Z"
    },
    "papermill": {
     "duration": 0.044055,
     "end_time": "2023-01-04T12:16:43.501937",
     "exception": false,
     "start_time": "2023-01-04T12:16:43.457882",
     "status": "completed"
    },
    "tags": []
   },
   "outputs": [
    {
     "name": "stdout",
     "output_type": "stream",
     "text": [
      "/kaggle/input/sms-spam-collection-dataset/spam.csv\n"
     ]
    }
   ],
   "source": [
    "# This Python 3 environment comes with many helpful analytics libraries installed\n",
    "# It is defined by the kaggle/python Docker image: https://github.com/kaggle/docker-python\n",
    "# For example, here's several helpful packages to load\n",
    "\n",
    "import numpy as np # linear algebra\n",
    "import pandas as pd # data processing, CSV file I/O (e.g. pd.read_csv)\n",
    "\n",
    "# Input data files are available in the read-only \"../input/\" directory\n",
    "# For example, running this (by clicking run or pressing Shift+Enter) will list all files under the input directory\n",
    "\n",
    "import os\n",
    "for dirname, _, filenames in os.walk('/kaggle/input'):\n",
    "    for filename in filenames:\n",
    "        print(os.path.join(dirname, filename))\n",
    "\n",
    "# You can write up to 20GB to the current directory (/kaggle/working/) that gets preserved as output when you create a version using \"Save & Run All\" \n",
    "# You can also write temporary files to /kaggle/temp/, but they won't be saved outside of the current session"
   ]
  },
  {
   "cell_type": "code",
   "execution_count": 2,
   "id": "5b96643a",
   "metadata": {
    "execution": {
     "iopub.execute_input": "2023-01-04T12:16:43.546772Z",
     "iopub.status.busy": "2023-01-04T12:16:43.546067Z",
     "iopub.status.idle": "2023-01-04T12:16:49.194565Z",
     "shell.execute_reply": "2023-01-04T12:16:49.193533Z"
    },
    "papermill": {
     "duration": 5.674247,
     "end_time": "2023-01-04T12:16:49.197500",
     "exception": false,
     "start_time": "2023-01-04T12:16:43.523253",
     "status": "completed"
    },
    "tags": []
   },
   "outputs": [],
   "source": [
    "import tensorflow as tf\n",
    "import pandas as pd\n",
    "import numpy as np\n",
    "import seaborn as sb\n",
    "import matplotlib.pyplot as plt"
   ]
  },
  {
   "cell_type": "code",
   "execution_count": 3,
   "id": "1e2d23fb",
   "metadata": {
    "execution": {
     "iopub.execute_input": "2023-01-04T12:16:49.246373Z",
     "iopub.status.busy": "2023-01-04T12:16:49.245465Z",
     "iopub.status.idle": "2023-01-04T12:16:49.297952Z",
     "shell.execute_reply": "2023-01-04T12:16:49.296695Z"
    },
    "id": "nK5T32GFFGKO",
    "papermill": {
     "duration": 0.079818,
     "end_time": "2023-01-04T12:16:49.301151",
     "exception": false,
     "start_time": "2023-01-04T12:16:49.221333",
     "status": "completed"
    },
    "tags": []
   },
   "outputs": [],
   "source": [
    "df = pd.read_csv('/kaggle/input/sms-spam-collection-dataset/spam.csv',encoding = 'ISO-8859-1')"
   ]
  },
  {
   "cell_type": "code",
   "execution_count": 4,
   "id": "7a8fa12e",
   "metadata": {
    "execution": {
     "iopub.execute_input": "2023-01-04T12:16:49.349190Z",
     "iopub.status.busy": "2023-01-04T12:16:49.348734Z",
     "iopub.status.idle": "2023-01-04T12:16:49.370292Z",
     "shell.execute_reply": "2023-01-04T12:16:49.369069Z"
    },
    "id": "hGvEy1dtFnaq",
    "outputId": "593f4747-638f-4712-d187-e9cedcf1d44a",
    "papermill": {
     "duration": 0.048521,
     "end_time": "2023-01-04T12:16:49.372400",
     "exception": false,
     "start_time": "2023-01-04T12:16:49.323879",
     "status": "completed"
    },
    "tags": []
   },
   "outputs": [
    {
     "data": {
      "text/html": [
       "<div>\n",
       "<style scoped>\n",
       "    .dataframe tbody tr th:only-of-type {\n",
       "        vertical-align: middle;\n",
       "    }\n",
       "\n",
       "    .dataframe tbody tr th {\n",
       "        vertical-align: top;\n",
       "    }\n",
       "\n",
       "    .dataframe thead th {\n",
       "        text-align: right;\n",
       "    }\n",
       "</style>\n",
       "<table border=\"1\" class=\"dataframe\">\n",
       "  <thead>\n",
       "    <tr style=\"text-align: right;\">\n",
       "      <th></th>\n",
       "      <th>v1</th>\n",
       "      <th>v2</th>\n",
       "      <th>Unnamed: 2</th>\n",
       "      <th>Unnamed: 3</th>\n",
       "      <th>Unnamed: 4</th>\n",
       "    </tr>\n",
       "  </thead>\n",
       "  <tbody>\n",
       "    <tr>\n",
       "      <th>0</th>\n",
       "      <td>ham</td>\n",
       "      <td>Go until jurong point, crazy.. Available only ...</td>\n",
       "      <td>NaN</td>\n",
       "      <td>NaN</td>\n",
       "      <td>NaN</td>\n",
       "    </tr>\n",
       "    <tr>\n",
       "      <th>1</th>\n",
       "      <td>ham</td>\n",
       "      <td>Ok lar... Joking wif u oni...</td>\n",
       "      <td>NaN</td>\n",
       "      <td>NaN</td>\n",
       "      <td>NaN</td>\n",
       "    </tr>\n",
       "    <tr>\n",
       "      <th>2</th>\n",
       "      <td>spam</td>\n",
       "      <td>Free entry in 2 a wkly comp to win FA Cup fina...</td>\n",
       "      <td>NaN</td>\n",
       "      <td>NaN</td>\n",
       "      <td>NaN</td>\n",
       "    </tr>\n",
       "    <tr>\n",
       "      <th>3</th>\n",
       "      <td>ham</td>\n",
       "      <td>U dun say so early hor... U c already then say...</td>\n",
       "      <td>NaN</td>\n",
       "      <td>NaN</td>\n",
       "      <td>NaN</td>\n",
       "    </tr>\n",
       "    <tr>\n",
       "      <th>4</th>\n",
       "      <td>ham</td>\n",
       "      <td>Nah I don't think he goes to usf, he lives aro...</td>\n",
       "      <td>NaN</td>\n",
       "      <td>NaN</td>\n",
       "      <td>NaN</td>\n",
       "    </tr>\n",
       "  </tbody>\n",
       "</table>\n",
       "</div>"
      ],
      "text/plain": [
       "     v1                                                 v2 Unnamed: 2  \\\n",
       "0   ham  Go until jurong point, crazy.. Available only ...        NaN   \n",
       "1   ham                      Ok lar... Joking wif u oni...        NaN   \n",
       "2  spam  Free entry in 2 a wkly comp to win FA Cup fina...        NaN   \n",
       "3   ham  U dun say so early hor... U c already then say...        NaN   \n",
       "4   ham  Nah I don't think he goes to usf, he lives aro...        NaN   \n",
       "\n",
       "  Unnamed: 3 Unnamed: 4  \n",
       "0        NaN        NaN  \n",
       "1        NaN        NaN  \n",
       "2        NaN        NaN  \n",
       "3        NaN        NaN  \n",
       "4        NaN        NaN  "
      ]
     },
     "execution_count": 4,
     "metadata": {},
     "output_type": "execute_result"
    }
   ],
   "source": [
    "df.head()"
   ]
  },
  {
   "cell_type": "code",
   "execution_count": 5,
   "id": "8b959ed1",
   "metadata": {
    "execution": {
     "iopub.execute_input": "2023-01-04T12:16:49.421466Z",
     "iopub.status.busy": "2023-01-04T12:16:49.421002Z",
     "iopub.status.idle": "2023-01-04T12:16:49.430693Z",
     "shell.execute_reply": "2023-01-04T12:16:49.429756Z"
    },
    "id": "BrM7Wu1_M3cI",
    "outputId": "8ad75759-f68a-43e4-9327-ec18f1e40af5",
    "papermill": {
     "duration": 0.03689,
     "end_time": "2023-01-04T12:16:49.432873",
     "exception": false,
     "start_time": "2023-01-04T12:16:49.395983",
     "status": "completed"
    },
    "tags": []
   },
   "outputs": [
    {
     "data": {
      "text/plain": [
       "v1               0\n",
       "v2               0\n",
       "Unnamed: 2    5522\n",
       "Unnamed: 3    5560\n",
       "Unnamed: 4    5566\n",
       "dtype: int64"
      ]
     },
     "execution_count": 5,
     "metadata": {},
     "output_type": "execute_result"
    }
   ],
   "source": [
    "df.isnull().sum()"
   ]
  },
  {
   "cell_type": "code",
   "execution_count": 6,
   "id": "a4cd0ac9",
   "metadata": {
    "execution": {
     "iopub.execute_input": "2023-01-04T12:16:49.480947Z",
     "iopub.status.busy": "2023-01-04T12:16:49.480518Z",
     "iopub.status.idle": "2023-01-04T12:16:49.507401Z",
     "shell.execute_reply": "2023-01-04T12:16:49.506178Z"
    },
    "id": "zMe01KhXM66b",
    "outputId": "6aad9731-0d1f-42dd-da20-3e3c99029815",
    "papermill": {
     "duration": 0.054056,
     "end_time": "2023-01-04T12:16:49.509882",
     "exception": false,
     "start_time": "2023-01-04T12:16:49.455826",
     "status": "completed"
    },
    "tags": []
   },
   "outputs": [
    {
     "name": "stdout",
     "output_type": "stream",
     "text": [
      "<class 'pandas.core.frame.DataFrame'>\n",
      "RangeIndex: 5572 entries, 0 to 5571\n",
      "Data columns (total 5 columns):\n",
      " #   Column      Non-Null Count  Dtype \n",
      "---  ------      --------------  ----- \n",
      " 0   v1          5572 non-null   object\n",
      " 1   v2          5572 non-null   object\n",
      " 2   Unnamed: 2  50 non-null     object\n",
      " 3   Unnamed: 3  12 non-null     object\n",
      " 4   Unnamed: 4  6 non-null      object\n",
      "dtypes: object(5)\n",
      "memory usage: 217.8+ KB\n"
     ]
    }
   ],
   "source": [
    "df.info()"
   ]
  },
  {
   "cell_type": "code",
   "execution_count": 7,
   "id": "f18fb4aa",
   "metadata": {
    "execution": {
     "iopub.execute_input": "2023-01-04T12:16:49.558038Z",
     "iopub.status.busy": "2023-01-04T12:16:49.556632Z",
     "iopub.status.idle": "2023-01-04T12:16:49.564472Z",
     "shell.execute_reply": "2023-01-04T12:16:49.563440Z"
    },
    "id": "-6uO2-NTM9XK",
    "outputId": "03397c2e-e57c-4fe0-e3d8-31f8bc463642",
    "papermill": {
     "duration": 0.033901,
     "end_time": "2023-01-04T12:16:49.566599",
     "exception": false,
     "start_time": "2023-01-04T12:16:49.532698",
     "status": "completed"
    },
    "tags": []
   },
   "outputs": [
    {
     "data": {
      "text/plain": [
       "(5572, 5)"
      ]
     },
     "execution_count": 7,
     "metadata": {},
     "output_type": "execute_result"
    }
   ],
   "source": [
    "df.shape"
   ]
  },
  {
   "cell_type": "code",
   "execution_count": 8,
   "id": "ecc2c665",
   "metadata": {
    "execution": {
     "iopub.execute_input": "2023-01-04T12:16:49.615556Z",
     "iopub.status.busy": "2023-01-04T12:16:49.614603Z",
     "iopub.status.idle": "2023-01-04T12:16:49.622167Z",
     "shell.execute_reply": "2023-01-04T12:16:49.621109Z"
    },
    "id": "V9Y4J6gyHEZm",
    "papermill": {
     "duration": 0.034389,
     "end_time": "2023-01-04T12:16:49.624360",
     "exception": false,
     "start_time": "2023-01-04T12:16:49.589971",
     "status": "completed"
    },
    "tags": []
   },
   "outputs": [],
   "source": [
    "df.drop(['Unnamed: 2','Unnamed: 3','Unnamed: 4'], axis=1,inplace = True)"
   ]
  },
  {
   "cell_type": "code",
   "execution_count": 9,
   "id": "42edb2c7",
   "metadata": {
    "execution": {
     "iopub.execute_input": "2023-01-04T12:16:49.673419Z",
     "iopub.status.busy": "2023-01-04T12:16:49.672307Z",
     "iopub.status.idle": "2023-01-04T12:16:49.683229Z",
     "shell.execute_reply": "2023-01-04T12:16:49.682407Z"
    },
    "id": "Q_jKe0gTHdvw",
    "outputId": "4bf0d853-4db6-4682-db66-0064cb935682",
    "papermill": {
     "duration": 0.037695,
     "end_time": "2023-01-04T12:16:49.685336",
     "exception": false,
     "start_time": "2023-01-04T12:16:49.647641",
     "status": "completed"
    },
    "tags": []
   },
   "outputs": [
    {
     "data": {
      "text/html": [
       "<div>\n",
       "<style scoped>\n",
       "    .dataframe tbody tr th:only-of-type {\n",
       "        vertical-align: middle;\n",
       "    }\n",
       "\n",
       "    .dataframe tbody tr th {\n",
       "        vertical-align: top;\n",
       "    }\n",
       "\n",
       "    .dataframe thead th {\n",
       "        text-align: right;\n",
       "    }\n",
       "</style>\n",
       "<table border=\"1\" class=\"dataframe\">\n",
       "  <thead>\n",
       "    <tr style=\"text-align: right;\">\n",
       "      <th></th>\n",
       "      <th>v1</th>\n",
       "      <th>v2</th>\n",
       "    </tr>\n",
       "  </thead>\n",
       "  <tbody>\n",
       "    <tr>\n",
       "      <th>0</th>\n",
       "      <td>ham</td>\n",
       "      <td>Go until jurong point, crazy.. Available only ...</td>\n",
       "    </tr>\n",
       "    <tr>\n",
       "      <th>1</th>\n",
       "      <td>ham</td>\n",
       "      <td>Ok lar... Joking wif u oni...</td>\n",
       "    </tr>\n",
       "    <tr>\n",
       "      <th>2</th>\n",
       "      <td>spam</td>\n",
       "      <td>Free entry in 2 a wkly comp to win FA Cup fina...</td>\n",
       "    </tr>\n",
       "    <tr>\n",
       "      <th>3</th>\n",
       "      <td>ham</td>\n",
       "      <td>U dun say so early hor... U c already then say...</td>\n",
       "    </tr>\n",
       "    <tr>\n",
       "      <th>4</th>\n",
       "      <td>ham</td>\n",
       "      <td>Nah I don't think he goes to usf, he lives aro...</td>\n",
       "    </tr>\n",
       "  </tbody>\n",
       "</table>\n",
       "</div>"
      ],
      "text/plain": [
       "     v1                                                 v2\n",
       "0   ham  Go until jurong point, crazy.. Available only ...\n",
       "1   ham                      Ok lar... Joking wif u oni...\n",
       "2  spam  Free entry in 2 a wkly comp to win FA Cup fina...\n",
       "3   ham  U dun say so early hor... U c already then say...\n",
       "4   ham  Nah I don't think he goes to usf, he lives aro..."
      ]
     },
     "execution_count": 9,
     "metadata": {},
     "output_type": "execute_result"
    }
   ],
   "source": [
    "df.head()"
   ]
  },
  {
   "cell_type": "code",
   "execution_count": 10,
   "id": "487219cb",
   "metadata": {
    "execution": {
     "iopub.execute_input": "2023-01-04T12:16:49.734244Z",
     "iopub.status.busy": "2023-01-04T12:16:49.733766Z",
     "iopub.status.idle": "2023-01-04T12:16:49.740180Z",
     "shell.execute_reply": "2023-01-04T12:16:49.739118Z"
    },
    "id": "mL_pylqtHfg_",
    "papermill": {
     "duration": 0.032188,
     "end_time": "2023-01-04T12:16:49.742324",
     "exception": false,
     "start_time": "2023-01-04T12:16:49.710136",
     "status": "completed"
    },
    "tags": []
   },
   "outputs": [],
   "source": [
    "df.rename(columns = {'v1':'Label','v2':'Messsage'}, inplace = True)"
   ]
  },
  {
   "cell_type": "code",
   "execution_count": 11,
   "id": "f019b6a6",
   "metadata": {
    "execution": {
     "iopub.execute_input": "2023-01-04T12:16:49.789652Z",
     "iopub.status.busy": "2023-01-04T12:16:49.788922Z",
     "iopub.status.idle": "2023-01-04T12:16:49.799540Z",
     "shell.execute_reply": "2023-01-04T12:16:49.798429Z"
    },
    "id": "Fv_sW-c1HzIB",
    "outputId": "ebcbaabb-ff36-47d4-b935-718126dfeecc",
    "papermill": {
     "duration": 0.037035,
     "end_time": "2023-01-04T12:16:49.801854",
     "exception": false,
     "start_time": "2023-01-04T12:16:49.764819",
     "status": "completed"
    },
    "tags": []
   },
   "outputs": [
    {
     "data": {
      "text/html": [
       "<div>\n",
       "<style scoped>\n",
       "    .dataframe tbody tr th:only-of-type {\n",
       "        vertical-align: middle;\n",
       "    }\n",
       "\n",
       "    .dataframe tbody tr th {\n",
       "        vertical-align: top;\n",
       "    }\n",
       "\n",
       "    .dataframe thead th {\n",
       "        text-align: right;\n",
       "    }\n",
       "</style>\n",
       "<table border=\"1\" class=\"dataframe\">\n",
       "  <thead>\n",
       "    <tr style=\"text-align: right;\">\n",
       "      <th></th>\n",
       "      <th>Label</th>\n",
       "      <th>Messsage</th>\n",
       "    </tr>\n",
       "  </thead>\n",
       "  <tbody>\n",
       "    <tr>\n",
       "      <th>0</th>\n",
       "      <td>ham</td>\n",
       "      <td>Go until jurong point, crazy.. Available only ...</td>\n",
       "    </tr>\n",
       "    <tr>\n",
       "      <th>1</th>\n",
       "      <td>ham</td>\n",
       "      <td>Ok lar... Joking wif u oni...</td>\n",
       "    </tr>\n",
       "    <tr>\n",
       "      <th>2</th>\n",
       "      <td>spam</td>\n",
       "      <td>Free entry in 2 a wkly comp to win FA Cup fina...</td>\n",
       "    </tr>\n",
       "    <tr>\n",
       "      <th>3</th>\n",
       "      <td>ham</td>\n",
       "      <td>U dun say so early hor... U c already then say...</td>\n",
       "    </tr>\n",
       "    <tr>\n",
       "      <th>4</th>\n",
       "      <td>ham</td>\n",
       "      <td>Nah I don't think he goes to usf, he lives aro...</td>\n",
       "    </tr>\n",
       "  </tbody>\n",
       "</table>\n",
       "</div>"
      ],
      "text/plain": [
       "  Label                                           Messsage\n",
       "0   ham  Go until jurong point, crazy.. Available only ...\n",
       "1   ham                      Ok lar... Joking wif u oni...\n",
       "2  spam  Free entry in 2 a wkly comp to win FA Cup fina...\n",
       "3   ham  U dun say so early hor... U c already then say...\n",
       "4   ham  Nah I don't think he goes to usf, he lives aro..."
      ]
     },
     "execution_count": 11,
     "metadata": {},
     "output_type": "execute_result"
    }
   ],
   "source": [
    "df.head()"
   ]
  },
  {
   "cell_type": "code",
   "execution_count": 12,
   "id": "7425e3ae",
   "metadata": {
    "execution": {
     "iopub.execute_input": "2023-01-04T12:16:49.850163Z",
     "iopub.status.busy": "2023-01-04T12:16:49.849678Z",
     "iopub.status.idle": "2023-01-04T12:16:49.858626Z",
     "shell.execute_reply": "2023-01-04T12:16:49.857645Z"
    },
    "id": "tBqUDIWp4hHJ",
    "outputId": "e2bf2430-69cd-450f-968a-1b4d8b95031c",
    "papermill": {
     "duration": 0.035914,
     "end_time": "2023-01-04T12:16:49.860739",
     "exception": false,
     "start_time": "2023-01-04T12:16:49.824825",
     "status": "completed"
    },
    "tags": []
   },
   "outputs": [
    {
     "data": {
      "text/plain": [
       "ham     4825\n",
       "spam     747\n",
       "Name: Label, dtype: int64"
      ]
     },
     "execution_count": 12,
     "metadata": {},
     "output_type": "execute_result"
    }
   ],
   "source": [
    "df.Label.value_counts()"
   ]
  },
  {
   "cell_type": "code",
   "execution_count": 13,
   "id": "11e3c94a",
   "metadata": {
    "execution": {
     "iopub.execute_input": "2023-01-04T12:16:49.910032Z",
     "iopub.status.busy": "2023-01-04T12:16:49.908835Z",
     "iopub.status.idle": "2023-01-04T12:17:01.654840Z",
     "shell.execute_reply": "2023-01-04T12:17:01.653296Z"
    },
    "id": "TeYBnNPK4ovP",
    "outputId": "394f492d-bf25-45c7-d877-14022d23dcdc",
    "papermill": {
     "duration": 11.773075,
     "end_time": "2023-01-04T12:17:01.657343",
     "exception": false,
     "start_time": "2023-01-04T12:16:49.884268",
     "status": "completed"
    },
    "tags": []
   },
   "outputs": [
    {
     "name": "stdout",
     "output_type": "stream",
     "text": [
      "Collecting imblearn\r\n",
      "  Downloading imblearn-0.0-py2.py3-none-any.whl (1.9 kB)\r\n",
      "Requirement already satisfied: imbalanced-learn in /opt/conda/lib/python3.7/site-packages (from imblearn) (0.9.0)\r\n",
      "Requirement already satisfied: numpy>=1.14.6 in /opt/conda/lib/python3.7/site-packages (from imbalanced-learn->imblearn) (1.21.6)\r\n",
      "Requirement already satisfied: threadpoolctl>=2.0.0 in /opt/conda/lib/python3.7/site-packages (from imbalanced-learn->imblearn) (3.1.0)\r\n",
      "Requirement already satisfied: scikit-learn>=1.0.1 in /opt/conda/lib/python3.7/site-packages (from imbalanced-learn->imblearn) (1.0.2)\r\n",
      "Requirement already satisfied: joblib>=0.11 in /opt/conda/lib/python3.7/site-packages (from imbalanced-learn->imblearn) (1.0.1)\r\n",
      "Requirement already satisfied: scipy>=1.1.0 in /opt/conda/lib/python3.7/site-packages (from imbalanced-learn->imblearn) (1.7.3)\r\n",
      "Installing collected packages: imblearn\r\n",
      "Successfully installed imblearn-0.0\r\n",
      "\u001b[33mWARNING: Running pip as the 'root' user can result in broken permissions and conflicting behaviour with the system package manager. It is recommended to use a virtual environment instead: https://pip.pypa.io/warnings/venv\u001b[0m\u001b[33m\r\n",
      "\u001b[0mNote: you may need to restart the kernel to use updated packages.\n"
     ]
    }
   ],
   "source": [
    "pip install imblearn"
   ]
  },
  {
   "cell_type": "code",
   "execution_count": 14,
   "id": "d57cfea6",
   "metadata": {
    "execution": {
     "iopub.execute_input": "2023-01-04T12:17:01.704848Z",
     "iopub.status.busy": "2023-01-04T12:17:01.703953Z",
     "iopub.status.idle": "2023-01-04T12:17:01.711196Z",
     "shell.execute_reply": "2023-01-04T12:17:01.710260Z"
    },
    "id": "KGhJPHzA24ck",
    "papermill": {
     "duration": 0.03344,
     "end_time": "2023-01-04T12:17:01.713236",
     "exception": false,
     "start_time": "2023-01-04T12:17:01.679796",
     "status": "completed"
    },
    "tags": []
   },
   "outputs": [],
   "source": [
    "import re\n",
    "\n",
    "def cleaning_text(text):\n",
    "  text = re.sub('[^a-zA-Z]', ' ', text)\n",
    "  text = re.sub('<.*?>','',text)\n",
    "  text = re.sub('[^\\w\\d\\s]','',text)\n",
    "  text = re.sub('^\\s+|\\s+?$','',text)\n",
    "  return text"
   ]
  },
  {
   "cell_type": "code",
   "execution_count": 15,
   "id": "9ed6c0e9",
   "metadata": {
    "execution": {
     "iopub.execute_input": "2023-01-04T12:17:01.758112Z",
     "iopub.status.busy": "2023-01-04T12:17:01.757707Z",
     "iopub.status.idle": "2023-01-04T12:17:01.851053Z",
     "shell.execute_reply": "2023-01-04T12:17:01.849923Z"
    },
    "id": "jZ3LKiFa24Y6",
    "outputId": "481fdf26-0a07-458f-cbb8-761d5483ed4c",
    "papermill": {
     "duration": 0.118263,
     "end_time": "2023-01-04T12:17:01.853237",
     "exception": false,
     "start_time": "2023-01-04T12:17:01.734974",
     "status": "completed"
    },
    "tags": []
   },
   "outputs": [
    {
     "data": {
      "text/plain": [
       "0    Go until jurong point  crazy   Available only ...\n",
       "1                           Ok lar    Joking wif u oni\n",
       "2    Free entry in   a wkly comp to win FA Cup fina...\n",
       "3       U dun say so early hor    U c already then say\n",
       "4    Nah I don t think he goes to usf  he lives aro...\n",
       "Name: Messsage, dtype: object"
      ]
     },
     "execution_count": 15,
     "metadata": {},
     "output_type": "execute_result"
    }
   ],
   "source": [
    "clean_messages = df['Messsage'].apply(func=cleaning_text)\n",
    "clean_messages.head()"
   ]
  },
  {
   "cell_type": "code",
   "execution_count": 16,
   "id": "5b9251f1",
   "metadata": {
    "execution": {
     "iopub.execute_input": "2023-01-04T12:17:01.898893Z",
     "iopub.status.busy": "2023-01-04T12:17:01.898424Z",
     "iopub.status.idle": "2023-01-04T12:17:02.914467Z",
     "shell.execute_reply": "2023-01-04T12:17:02.913080Z"
    },
    "id": "ap-cpdM6oOT6",
    "outputId": "c129ab71-2658-436d-866f-b0f4f523e0e8",
    "papermill": {
     "duration": 1.041797,
     "end_time": "2023-01-04T12:17:02.917298",
     "exception": false,
     "start_time": "2023-01-04T12:17:01.875501",
     "status": "completed"
    },
    "tags": []
   },
   "outputs": [
    {
     "name": "stderr",
     "output_type": "stream",
     "text": [
      "[nltk_data] Downloading package stopwords to /usr/share/nltk_data...\n",
      "[nltk_data]   Package stopwords is already up-to-date!\n"
     ]
    },
    {
     "data": {
      "text/plain": [
       "True"
      ]
     },
     "execution_count": 16,
     "metadata": {},
     "output_type": "execute_result"
    }
   ],
   "source": [
    "import nltk\n",
    "nltk.download('stopwords')"
   ]
  },
  {
   "cell_type": "code",
   "execution_count": 17,
   "id": "0aa17619",
   "metadata": {
    "execution": {
     "iopub.execute_input": "2023-01-04T12:17:02.964871Z",
     "iopub.status.busy": "2023-01-04T12:17:02.963664Z",
     "iopub.status.idle": "2023-01-04T12:17:03.183866Z",
     "shell.execute_reply": "2023-01-04T12:17:03.182671Z"
    },
    "id": "E7TilCM7nnAD",
    "outputId": "3c14ca5b-76ab-4e60-dd27-273d3404c3d6",
    "papermill": {
     "duration": 0.24571,
     "end_time": "2023-01-04T12:17:03.186080",
     "exception": false,
     "start_time": "2023-01-04T12:17:02.940370",
     "status": "completed"
    },
    "tags": []
   },
   "outputs": [
    {
     "data": {
      "text/plain": [
       "0       Go jurong point crazy Available bugis n great ...\n",
       "1                                 Ok lar Joking wif u oni\n",
       "2       Free entry wkly comp win FA Cup final tkts st ...\n",
       "3                     U dun say early hor U c already say\n",
       "4                Nah I think goes usf lives around though\n",
       "                              ...                        \n",
       "5567    This nd time tried contact u U Pound prize cla...\n",
       "5568                       Will b going esplanade fr home\n",
       "5569                             Pity mood So suggestions\n",
       "5570    The guy bitching I acted like interested buyin...\n",
       "5571                                   Rofl Its true name\n",
       "Name: Messsage, Length: 5572, dtype: object"
      ]
     },
     "execution_count": 17,
     "metadata": {},
     "output_type": "execute_result"
    }
   ],
   "source": [
    "import nltk\n",
    "from nltk.corpus import stopwords\n",
    "stopwords = nltk.corpus.stopwords.words(\"english\")\n",
    "clean_messages =clean_messages.apply(lambda x: ' '.join(word for word in x.split() if word not in stopwords))\n",
    "clean_messages"
   ]
  },
  {
   "cell_type": "code",
   "execution_count": 18,
   "id": "2c1c5893",
   "metadata": {
    "execution": {
     "iopub.execute_input": "2023-01-04T12:17:03.235687Z",
     "iopub.status.busy": "2023-01-04T12:17:03.234873Z",
     "iopub.status.idle": "2023-01-04T12:17:03.300354Z",
     "shell.execute_reply": "2023-01-04T12:17:03.299007Z"
    },
    "id": "dczu6wvhoWvn",
    "outputId": "831afb6b-579a-4e89-b63d-d4083e7c1e38",
    "papermill": {
     "duration": 0.092644,
     "end_time": "2023-01-04T12:17:03.302595",
     "exception": false,
     "start_time": "2023-01-04T12:17:03.209951",
     "status": "completed"
    },
    "tags": []
   },
   "outputs": [
    {
     "name": "stderr",
     "output_type": "stream",
     "text": [
      "[nltk_data] Downloading package wordnet to /usr/share/nltk_data...\n",
      "[nltk_data]   Package wordnet is already up-to-date!\n"
     ]
    },
    {
     "data": {
      "text/plain": [
       "True"
      ]
     },
     "execution_count": 18,
     "metadata": {},
     "output_type": "execute_result"
    }
   ],
   "source": [
    "nltk.download('wordnet')"
   ]
  },
  {
   "cell_type": "code",
   "execution_count": 19,
   "id": "d032228b",
   "metadata": {
    "execution": {
     "iopub.execute_input": "2023-01-04T12:17:03.351902Z",
     "iopub.status.busy": "2023-01-04T12:17:03.350994Z",
     "iopub.status.idle": "2023-01-04T12:17:03.557037Z",
     "shell.execute_reply": "2023-01-04T12:17:03.556000Z"
    },
    "id": "KkthIAoIoa6q",
    "outputId": "b8a1f782-c16c-4f31-85e8-6a59b23a1240",
    "papermill": {
     "duration": 0.233392,
     "end_time": "2023-01-04T12:17:03.559349",
     "exception": false,
     "start_time": "2023-01-04T12:17:03.325957",
     "status": "completed"
    },
    "tags": []
   },
   "outputs": [
    {
     "name": "stderr",
     "output_type": "stream",
     "text": [
      "[nltk_data] Downloading package omw-1.4 to /usr/share/nltk_data...\n"
     ]
    },
    {
     "data": {
      "text/plain": [
       "True"
      ]
     },
     "execution_count": 19,
     "metadata": {},
     "output_type": "execute_result"
    }
   ],
   "source": [
    "nltk.download('omw-1.4')"
   ]
  },
  {
   "cell_type": "code",
   "execution_count": 20,
   "id": "ef9888fa",
   "metadata": {
    "execution": {
     "iopub.execute_input": "2023-01-04T12:17:03.609032Z",
     "iopub.status.busy": "2023-01-04T12:17:03.608144Z",
     "iopub.status.idle": "2023-01-04T12:17:05.866480Z",
     "shell.execute_reply": "2023-01-04T12:17:05.865235Z"
    },
    "id": "oaby3Q6snmu1",
    "outputId": "585ff83b-0eec-48ae-f48f-7fd1d642d6cc",
    "papermill": {
     "duration": 2.285513,
     "end_time": "2023-01-04T12:17:05.869090",
     "exception": false,
     "start_time": "2023-01-04T12:17:03.583577",
     "status": "completed"
    },
    "tags": []
   },
   "outputs": [
    {
     "data": {
      "text/plain": [
       "0       Go jurong point crazy Available bugis n great ...\n",
       "1                                 Ok lar Joking wif u oni\n",
       "2       Free entry wkly comp win FA Cup final tkts st ...\n",
       "3                     U dun say early hor U c already say\n",
       "4                   Nah I think go usf life around though\n",
       "                              ...                        \n",
       "5567    This nd time tried contact u U Pound prize cla...\n",
       "5568                       Will b going esplanade fr home\n",
       "5569                              Pity mood So suggestion\n",
       "5570    The guy bitching I acted like interested buyin...\n",
       "5571                                   Rofl Its true name\n",
       "Name: Messsage, Length: 5572, dtype: object"
      ]
     },
     "execution_count": 20,
     "metadata": {},
     "output_type": "execute_result"
    }
   ],
   "source": [
    "from nltk.stem import WordNetLemmatizer\n",
    "\n",
    "wn_lemmatizer = WordNetLemmatizer()\n",
    "clean_messages = clean_messages.apply(lambda x: ' '.join(wn_lemmatizer.lemmatize(word) for word in x.split()))\n",
    "\n",
    "clean_messages"
   ]
  },
  {
   "cell_type": "code",
   "execution_count": 21,
   "id": "b9795868",
   "metadata": {
    "execution": {
     "iopub.execute_input": "2023-01-04T12:17:05.921343Z",
     "iopub.status.busy": "2023-01-04T12:17:05.920847Z",
     "iopub.status.idle": "2023-01-04T12:17:06.389764Z",
     "shell.execute_reply": "2023-01-04T12:17:06.388876Z"
    },
    "id": "UN8-upJWnmcR",
    "outputId": "320b2f61-b133-496a-b38e-aef672899867",
    "papermill": {
     "duration": 0.499521,
     "end_time": "2023-01-04T12:17:06.393864",
     "exception": false,
     "start_time": "2023-01-04T12:17:05.894343",
     "status": "completed"
    },
    "tags": []
   },
   "outputs": [
    {
     "data": {
      "image/png": "[encoded data removed]",
      "text/plain": [
       "<Figure size 720x504 with 1 Axes>"
      ]
     },
     "metadata": {
      "needs_background": "light"
     },
     "output_type": "display_data"
    }
   ],
   "source": [
    "import matplotlib.pyplot as plt\n",
    "from wordcloud import WordCloud\n",
    "\n",
    "wordcloud = WordCloud(width=600, \n",
    "                     height=400, \n",
    "                     random_state=2, \n",
    "                     max_font_size=100).generate(str(clean_messages))\n",
    "\n",
    "plt.figure(figsize=(10, 7))\n",
    "plt.imshow(wordcloud, interpolation='bilinear')\n",
    "plt.axis('off')\n",
    "plt.show()"
   ]
  },
  {
   "cell_type": "code",
   "execution_count": 22,
   "id": "a6cd108c",
   "metadata": {
    "execution": {
     "iopub.execute_input": "2023-01-04T12:17:06.456385Z",
     "iopub.status.busy": "2023-01-04T12:17:06.455596Z",
     "iopub.status.idle": "2023-01-04T12:17:06.459968Z",
     "shell.execute_reply": "2023-01-04T12:17:06.459290Z"
    },
    "id": "kXMzG7hr24WY",
    "papermill": {
     "duration": 0.038431,
     "end_time": "2023-01-04T12:17:06.461966",
     "exception": false,
     "start_time": "2023-01-04T12:17:06.423535",
     "status": "completed"
    },
    "tags": []
   },
   "outputs": [],
   "source": [
    "labels = df['Label']"
   ]
  },
  {
   "cell_type": "code",
   "execution_count": 23,
   "id": "584ad92e",
   "metadata": {
    "execution": {
     "iopub.execute_input": "2023-01-04T12:17:06.512576Z",
     "iopub.status.busy": "2023-01-04T12:17:06.512193Z",
     "iopub.status.idle": "2023-01-04T12:17:06.518433Z",
     "shell.execute_reply": "2023-01-04T12:17:06.517676Z"
    },
    "id": "froagQYK24Tj",
    "papermill": {
     "duration": 0.033551,
     "end_time": "2023-01-04T12:17:06.520221",
     "exception": false,
     "start_time": "2023-01-04T12:17:06.486670",
     "status": "completed"
    },
    "tags": []
   },
   "outputs": [],
   "source": [
    "labels = pd.get_dummies(labels, columns=['Label'])"
   ]
  },
  {
   "cell_type": "code",
   "execution_count": 24,
   "id": "e7033e36",
   "metadata": {
    "execution": {
     "iopub.execute_input": "2023-01-04T12:17:06.572386Z",
     "iopub.status.busy": "2023-01-04T12:17:06.571163Z",
     "iopub.status.idle": "2023-01-04T12:17:06.577135Z",
     "shell.execute_reply": "2023-01-04T12:17:06.576440Z"
    },
    "id": "MJL7rIH324Qo",
    "papermill": {
     "duration": 0.034375,
     "end_time": "2023-01-04T12:17:06.579107",
     "exception": false,
     "start_time": "2023-01-04T12:17:06.544732",
     "status": "completed"
    },
    "tags": []
   },
   "outputs": [],
   "source": [
    "labels.drop(['ham'], axis=1,inplace = True)"
   ]
  },
  {
   "cell_type": "code",
   "execution_count": 25,
   "id": "3af1b427",
   "metadata": {
    "execution": {
     "iopub.execute_input": "2023-01-04T12:17:06.631333Z",
     "iopub.status.busy": "2023-01-04T12:17:06.630874Z",
     "iopub.status.idle": "2023-01-04T12:17:06.639807Z",
     "shell.execute_reply": "2023-01-04T12:17:06.639004Z"
    },
    "id": "81C3Z7qq24N3",
    "outputId": "3e46dd00-d31e-4abc-b362-5fe0306ba6ca",
    "papermill": {
     "duration": 0.037453,
     "end_time": "2023-01-04T12:17:06.641711",
     "exception": false,
     "start_time": "2023-01-04T12:17:06.604258",
     "status": "completed"
    },
    "tags": []
   },
   "outputs": [
    {
     "data": {
      "text/html": [
       "<div>\n",
       "<style scoped>\n",
       "    .dataframe tbody tr th:only-of-type {\n",
       "        vertical-align: middle;\n",
       "    }\n",
       "\n",
       "    .dataframe tbody tr th {\n",
       "        vertical-align: top;\n",
       "    }\n",
       "\n",
       "    .dataframe thead th {\n",
       "        text-align: right;\n",
       "    }\n",
       "</style>\n",
       "<table border=\"1\" class=\"dataframe\">\n",
       "  <thead>\n",
       "    <tr style=\"text-align: right;\">\n",
       "      <th></th>\n",
       "      <th>spam</th>\n",
       "    </tr>\n",
       "  </thead>\n",
       "  <tbody>\n",
       "    <tr>\n",
       "      <th>0</th>\n",
       "      <td>0</td>\n",
       "    </tr>\n",
       "    <tr>\n",
       "      <th>1</th>\n",
       "      <td>0</td>\n",
       "    </tr>\n",
       "    <tr>\n",
       "      <th>2</th>\n",
       "      <td>1</td>\n",
       "    </tr>\n",
       "    <tr>\n",
       "      <th>3</th>\n",
       "      <td>0</td>\n",
       "    </tr>\n",
       "    <tr>\n",
       "      <th>4</th>\n",
       "      <td>0</td>\n",
       "    </tr>\n",
       "  </tbody>\n",
       "</table>\n",
       "</div>"
      ],
      "text/plain": [
       "   spam\n",
       "0     0\n",
       "1     0\n",
       "2     1\n",
       "3     0\n",
       "4     0"
      ]
     },
     "execution_count": 25,
     "metadata": {},
     "output_type": "execute_result"
    }
   ],
   "source": [
    "labels.head()"
   ]
  },
  {
   "cell_type": "code",
   "execution_count": 26,
   "id": "cfb5385f",
   "metadata": {
    "execution": {
     "iopub.execute_input": "2023-01-04T12:17:06.694688Z",
     "iopub.status.busy": "2023-01-04T12:17:06.693743Z",
     "iopub.status.idle": "2023-01-04T12:17:06.699492Z",
     "shell.execute_reply": "2023-01-04T12:17:06.698574Z"
    },
    "id": "ShPHOovw24LG",
    "papermill": {
     "duration": 0.033866,
     "end_time": "2023-01-04T12:17:06.701581",
     "exception": false,
     "start_time": "2023-01-04T12:17:06.667715",
     "status": "completed"
    },
    "tags": []
   },
   "outputs": [],
   "source": [
    "labels.rename(columns = {'spam':'Label'}, inplace = True)"
   ]
  },
  {
   "cell_type": "code",
   "execution_count": 27,
   "id": "00e3131e",
   "metadata": {
    "execution": {
     "iopub.execute_input": "2023-01-04T12:17:06.752624Z",
     "iopub.status.busy": "2023-01-04T12:17:06.751912Z",
     "iopub.status.idle": "2023-01-04T12:17:06.761437Z",
     "shell.execute_reply": "2023-01-04T12:17:06.760720Z"
    },
    "id": "74Mlky0I24IR",
    "outputId": "9b0d09bb-5984-415e-f213-a80917f7ebe7",
    "papermill": {
     "duration": 0.037146,
     "end_time": "2023-01-04T12:17:06.763055",
     "exception": false,
     "start_time": "2023-01-04T12:17:06.725909",
     "status": "completed"
    },
    "tags": []
   },
   "outputs": [
    {
     "data": {
      "text/html": [
       "<div>\n",
       "<style scoped>\n",
       "    .dataframe tbody tr th:only-of-type {\n",
       "        vertical-align: middle;\n",
       "    }\n",
       "\n",
       "    .dataframe tbody tr th {\n",
       "        vertical-align: top;\n",
       "    }\n",
       "\n",
       "    .dataframe thead th {\n",
       "        text-align: right;\n",
       "    }\n",
       "</style>\n",
       "<table border=\"1\" class=\"dataframe\">\n",
       "  <thead>\n",
       "    <tr style=\"text-align: right;\">\n",
       "      <th></th>\n",
       "      <th>Label</th>\n",
       "    </tr>\n",
       "  </thead>\n",
       "  <tbody>\n",
       "    <tr>\n",
       "      <th>0</th>\n",
       "      <td>0</td>\n",
       "    </tr>\n",
       "    <tr>\n",
       "      <th>1</th>\n",
       "      <td>0</td>\n",
       "    </tr>\n",
       "    <tr>\n",
       "      <th>2</th>\n",
       "      <td>1</td>\n",
       "    </tr>\n",
       "    <tr>\n",
       "      <th>3</th>\n",
       "      <td>0</td>\n",
       "    </tr>\n",
       "    <tr>\n",
       "      <th>4</th>\n",
       "      <td>0</td>\n",
       "    </tr>\n",
       "    <tr>\n",
       "      <th>...</th>\n",
       "      <td>...</td>\n",
       "    </tr>\n",
       "    <tr>\n",
       "      <th>5567</th>\n",
       "      <td>1</td>\n",
       "    </tr>\n",
       "    <tr>\n",
       "      <th>5568</th>\n",
       "      <td>0</td>\n",
       "    </tr>\n",
       "    <tr>\n",
       "      <th>5569</th>\n",
       "      <td>0</td>\n",
       "    </tr>\n",
       "    <tr>\n",
       "      <th>5570</th>\n",
       "      <td>0</td>\n",
       "    </tr>\n",
       "    <tr>\n",
       "      <th>5571</th>\n",
       "      <td>0</td>\n",
       "    </tr>\n",
       "  </tbody>\n",
       "</table>\n",
       "<p>5572 rows × 1 columns</p>\n",
       "</div>"
      ],
      "text/plain": [
       "      Label\n",
       "0         0\n",
       "1         0\n",
       "2         1\n",
       "3         0\n",
       "4         0\n",
       "...     ...\n",
       "5567      1\n",
       "5568      0\n",
       "5569      0\n",
       "5570      0\n",
       "5571      0\n",
       "\n",
       "[5572 rows x 1 columns]"
      ]
     },
     "execution_count": 27,
     "metadata": {},
     "output_type": "execute_result"
    }
   ],
   "source": [
    "labels"
   ]
  },
  {
   "cell_type": "code",
   "execution_count": 28,
   "id": "eaffb879",
   "metadata": {
    "execution": {
     "iopub.execute_input": "2023-01-04T12:17:06.813009Z",
     "iopub.status.busy": "2023-01-04T12:17:06.812333Z",
     "iopub.status.idle": "2023-01-04T12:17:06.819014Z",
     "shell.execute_reply": "2023-01-04T12:17:06.818322Z"
    },
    "id": "yZTp2QlU24Ff",
    "papermill": {
     "duration": 0.034001,
     "end_time": "2023-01-04T12:17:06.820749",
     "exception": false,
     "start_time": "2023-01-04T12:17:06.786748",
     "status": "completed"
    },
    "tags": []
   },
   "outputs": [],
   "source": [
    "from sklearn.model_selection import train_test_split\n",
    "\n",
    "x_train, x_test, y_train, y_test = train_test_split(clean_messages, labels, test_size=0.20, random_state=19)"
   ]
  },
  {
   "cell_type": "code",
   "execution_count": 29,
   "id": "4063e7fc",
   "metadata": {
    "execution": {
     "iopub.execute_input": "2023-01-04T12:17:06.871680Z",
     "iopub.status.busy": "2023-01-04T12:17:06.871308Z",
     "iopub.status.idle": "2023-01-04T12:17:06.877738Z",
     "shell.execute_reply": "2023-01-04T12:17:06.876602Z"
    },
    "id": "EdIWhH8k24Cz",
    "outputId": "3926d899-9af1-4d15-c78f-55d744084ca1",
    "papermill": {
     "duration": 0.035307,
     "end_time": "2023-01-04T12:17:06.880484",
     "exception": false,
     "start_time": "2023-01-04T12:17:06.845177",
     "status": "completed"
    },
    "tags": []
   },
   "outputs": [
    {
     "name": "stdout",
     "output_type": "stream",
     "text": [
      "shape of x_train :(4457,)\n",
      "shape of x_test :(1115,)\n",
      "shape of y_train :(4457, 1)\n",
      "shape of y_test :(1115, 1)\n"
     ]
    }
   ],
   "source": [
    "print(f'shape of x_train :{x_train.shape}')\n",
    "print(f'shape of x_test :{x_test.shape}')\n",
    "print(f'shape of y_train :{y_train.shape}')\n",
    "print(f'shape of y_test :{y_test.shape}')"
   ]
  },
  {
   "cell_type": "code",
   "execution_count": 30,
   "id": "f559ee0c",
   "metadata": {
    "execution": {
     "iopub.execute_input": "2023-01-04T12:17:06.934556Z",
     "iopub.status.busy": "2023-01-04T12:17:06.933771Z",
     "iopub.status.idle": "2023-01-04T12:17:06.939130Z",
     "shell.execute_reply": "2023-01-04T12:17:06.938397Z"
    },
    "id": "OYOMd8LG9QXh",
    "papermill": {
     "duration": 0.035339,
     "end_time": "2023-01-04T12:17:06.941405",
     "exception": false,
     "start_time": "2023-01-04T12:17:06.906066",
     "status": "completed"
    },
    "tags": []
   },
   "outputs": [],
   "source": [
    "y_train = np.squeeze(y_train)"
   ]
  },
  {
   "cell_type": "code",
   "execution_count": 31,
   "id": "755d5ab8",
   "metadata": {
    "execution": {
     "iopub.execute_input": "2023-01-04T12:17:06.995063Z",
     "iopub.status.busy": "2023-01-04T12:17:06.994253Z",
     "iopub.status.idle": "2023-01-04T12:17:06.999579Z",
     "shell.execute_reply": "2023-01-04T12:17:06.998824Z"
    },
    "id": "3jnmkQXW9rs4",
    "papermill": {
     "duration": 0.034228,
     "end_time": "2023-01-04T12:17:07.001571",
     "exception": false,
     "start_time": "2023-01-04T12:17:06.967343",
     "status": "completed"
    },
    "tags": []
   },
   "outputs": [],
   "source": [
    "y_test = np.squeeze(y_test)"
   ]
  },
  {
   "cell_type": "code",
   "execution_count": 32,
   "id": "989313f4",
   "metadata": {
    "execution": {
     "iopub.execute_input": "2023-01-04T12:17:07.054526Z",
     "iopub.status.busy": "2023-01-04T12:17:07.054112Z",
     "iopub.status.idle": "2023-01-04T12:17:07.061640Z",
     "shell.execute_reply": "2023-01-04T12:17:07.060677Z"
    },
    "id": "QLefg1oe23_8",
    "outputId": "699752c7-9542-44f0-89f5-58bb5f9fc5a2",
    "papermill": {
     "duration": 0.03716,
     "end_time": "2023-01-04T12:17:07.063702",
     "exception": false,
     "start_time": "2023-01-04T12:17:07.026542",
     "status": "completed"
    },
    "tags": []
   },
   "outputs": [
    {
     "data": {
      "text/plain": [
       "4209    0\n",
       "5466    1\n",
       "2455    0\n",
       "2513    1\n",
       "80      0\n",
       "Name: Label, dtype: uint8"
      ]
     },
     "execution_count": 32,
     "metadata": {},
     "output_type": "execute_result"
    }
   ],
   "source": [
    "y_test.head()"
   ]
  },
  {
   "cell_type": "code",
   "execution_count": 33,
   "id": "5df5072d",
   "metadata": {
    "execution": {
     "iopub.execute_input": "2023-01-04T12:17:07.117717Z",
     "iopub.status.busy": "2023-01-04T12:17:07.117328Z",
     "iopub.status.idle": "2023-01-04T12:17:07.122998Z",
     "shell.execute_reply": "2023-01-04T12:17:07.121853Z"
    },
    "id": "ZALFNi6o2388",
    "outputId": "ddde9a49-1d6c-4225-bdab-112340f1b58a",
    "papermill": {
     "duration": 0.034647,
     "end_time": "2023-01-04T12:17:07.124831",
     "exception": false,
     "start_time": "2023-01-04T12:17:07.090184",
     "status": "completed"
    },
    "tags": []
   },
   "outputs": [
    {
     "name": "stdout",
     "output_type": "stream",
     "text": [
      "shape of y_train :(4457,)\n",
      "shape of y_test :(1115,)\n"
     ]
    }
   ],
   "source": [
    "print(f'shape of y_train :{y_train.shape}')\n",
    "print(f'shape of y_test :{y_test.shape}')"
   ]
  },
  {
   "cell_type": "code",
   "execution_count": 34,
   "id": "cd311cb0",
   "metadata": {
    "execution": {
     "iopub.execute_input": "2023-01-04T12:17:07.180919Z",
     "iopub.status.busy": "2023-01-04T12:17:07.180461Z",
     "iopub.status.idle": "2023-01-04T12:17:08.093481Z",
     "shell.execute_reply": "2023-01-04T12:17:08.092471Z"
    },
    "id": "K7Mil4_T236L",
    "papermill": {
     "duration": 0.943822,
     "end_time": "2023-01-04T12:17:08.096193",
     "exception": false,
     "start_time": "2023-01-04T12:17:07.152371",
     "status": "completed"
    },
    "tags": []
   },
   "outputs": [],
   "source": [
    "from tensorflow.keras.preprocessing.text import Tokenizer"
   ]
  },
  {
   "cell_type": "code",
   "execution_count": 35,
   "id": "7404c5cc",
   "metadata": {
    "execution": {
     "iopub.execute_input": "2023-01-04T12:17:08.149721Z",
     "iopub.status.busy": "2023-01-04T12:17:08.149314Z",
     "iopub.status.idle": "2023-01-04T12:17:08.333169Z",
     "shell.execute_reply": "2023-01-04T12:17:08.332253Z"
    },
    "id": "tc6HFygb233l",
    "papermill": {
     "duration": 0.213353,
     "end_time": "2023-01-04T12:17:08.335917",
     "exception": false,
     "start_time": "2023-01-04T12:17:08.122564",
     "status": "completed"
    },
    "tags": []
   },
   "outputs": [],
   "source": [
    "tokenize = Tokenizer(num_words=10000)\n",
    "\n",
    "tokenize.fit_on_texts(x_train)\n",
    "\n",
    "x_train = tokenize.texts_to_sequences(x_train)\n",
    "x_test = tokenize.texts_to_sequences(x_test)"
   ]
  },
  {
   "cell_type": "code",
   "execution_count": 36,
   "id": "3a963c6f",
   "metadata": {
    "execution": {
     "iopub.execute_input": "2023-01-04T12:17:08.390409Z",
     "iopub.status.busy": "2023-01-04T12:17:08.389713Z",
     "iopub.status.idle": "2023-01-04T12:17:08.398060Z",
     "shell.execute_reply": "2023-01-04T12:17:08.397111Z"
    },
    "id": "MYCyDExa230q",
    "outputId": "7df813f8-f27a-4f52-8c2e-a664fb6b89b2",
    "papermill": {
     "duration": 0.040225,
     "end_time": "2023-01-04T12:17:08.403349",
     "exception": false,
     "start_time": "2023-01-04T12:17:08.363124",
     "status": "completed"
    },
    "tags": []
   },
   "outputs": [
    {
     "name": "stdout",
     "output_type": "stream",
     "text": [
      "{'i': 1, 'u': 2, 'call': 3, 'get': 4, 'ur': 5, 'you': 6, 'gt': 7, 'go': 8, 'lt': 9, 'ok': 10, 'day': 11, 'know': 12, 'free': 13, 'come': 14, 'time': 15, 'good': 16, 'got': 17, 'like': 18, 'no': 19, 'love': 20, 'want': 21, 'text': 22, 'send': 23, 'one': 24, 'p': 25, 'n': 26, 'need': 27, 'txt': 28, 'r': 29, 'going': 30, 'today': 31, 'lor': 32, 'how': 33, 'sorry': 34, 'still': 35, 'home': 36, 'k': 37, 'back': 38, 'mobile': 39, 'stop': 40, 'but': 41, 'take': 42, 'see': 43, 'we': 44, 'da': 45, 'reply': 46, 'tell': 47, 'if': 48, 'dont': 49, 'think': 50, 'hi': 51, 'week': 52, 'new': 53, 'phone': 54, 'night': 55, 'later': 56, 'c': 57, 'it': 58, 'so': 59, 'pls': 60, 'just': 61, 'do': 62, 'what': 63, 'msg': 64, 'please': 65, 'make': 66, 'dear': 67, 'the': 68, 'thing': 69, 'my': 70, 'hope': 71, 'claim': 72, 'say': 73, 'well': 74, 'b': 75, 'min': 76, 'great': 77, 'work': 78, 'give': 79, 'much': 80, 'hey': 81, 'number': 82, 'and': 83, 'a': 84, 'way': 85, 'co': 86, 'have': 87, 'wat': 88, 'your': 89, 'message': 90, 'e': 91, 'oh': 92, 'happy': 93, 'yes': 94, 'this': 95, 'to': 96, 'www': 97, 'can': 98, 'tomorrow': 99, 'meet': 100, 'ask': 101, 'prize': 102, 'are': 103, 'already': 104, 'now': 105, 'right': 106, 'said': 107, 'cash': 108, 't': 109, 'friend': 110, 'really': 111, 'let': 112, 'win': 113, 'morning': 114, 'yeah': 115, 'life': 116, 'its': 117, 'im': 118, 'that': 119, 'miss': 120, 'amp': 121, 'last': 122, 'find': 123, 'thanks': 124, 'would': 125, 'year': 126, 'is': 127, 'babe': 128, 'also': 129, 'feel': 130, 'lol': 131, 'service': 132, 'care': 133, 'anything': 134, 'pick': 135, 'tone': 136, 'uk': 137, 'cant': 138, 'sure': 139, 'something': 140, 'every': 141, 'x': 142, 'place': 143, 'not': 144, 'com': 145, 'nokia': 146, 'w': 147, 'urgent': 148, 'soon': 149, 'contact': 150, 'someone': 151, 'around': 152, 'first': 153, 'help': 154, 'keep': 155, 'me': 156, 'even': 157, 'sent': 158, 'next': 159, 'guy': 160, 'wait': 161, 'in': 162, 'nice': 163, 'chat': 164, 'late': 165, 'buy': 166, 'ya': 167, 'tonight': 168, 'wan': 169, 'word': 170, 'then': 171, 'wish': 172, 'he': 173, 'pm': 174, 'told': 175, 'money': 176, 'leave': 177, 'gud': 178, 'as': 179, 'dun': 180, 'show': 181, 'could': 182, 'v': 183, 'customer': 184, 'haha': 185, 'many': 186, 'lot': 187, 'gonna': 188, 'per': 189, 'girl': 190, 'name': 191, 'did': 192, 'yet': 193, 'sleep': 194, 'went': 195, 'fine': 196, 'th': 197, 'st': 198, 'she': 199, 'coming': 200, 'when': 201, 'always': 202, 'use': 203, 'box': 204, 'try': 205, 'month': 206, 'hour': 207, 'end': 208, 'finish': 209, 'person': 210, 'waiting': 211, 'class': 212, 'holiday': 213, 'hello': 214, 'done': 215, 'for': 216, 'bit': 217, 'line': 218, 'smile': 219, 'lunch': 220, 'getting': 221, 'ppm': 222, 'better': 223, 'may': 224, 'thought': 225, 'cost': 226, 'draw': 227, 'thk': 228, 'offer': 229, 'live': 230, 'start': 231, 'heart': 232, 'guaranteed': 233, 'cs': 234, 'ready': 235, 'minute': 236, 'god': 237, 'dat': 238, 'chance': 239, 'never': 240, 'or': 241, 'special': 242, 'people': 243, 'house': 244, 'where': 245, 'job': 246, 'all': 247, 'best': 248, 'they': 249, 'car': 250, 'man': 251, 'enjoy': 252, 'problem': 253, 'meeting': 254, 'pobox': 255, 'room': 256, 'stuff': 257, 'talk': 258, 'plan': 259, 'wk': 260, 'receive': 261, 'at': 262, 'rate': 263, 'mind': 264, 'eat': 265, 'guess': 266, 'account': 267, 'yup': 268, 'weekend': 269, 'lar': 270, 'thats': 271, 'cool': 272, 'wanna': 273, 'only': 274, 's': 275, 'real': 276, 'ill': 277, 'mean': 278, 'quite': 279, 'ever': 280, 'big': 281, 'hr': 282, 'sir': 283, 'half': 284, 'xxx': 285, 'nothing': 286, 'game': 287, 'dinner': 288, 'sweet': 289, 'g': 290, 'pic': 291, 'video': 292, 'thanx': 293, 'latest': 294, 'long': 295, 'liao': 296, 'jus': 297, 'yo': 298, 'check': 299, 'will': 300, 'voucher': 301, 'don': 302, 'watch': 303, 'trying': 304, 'might': 305, 'forgot': 306, 'watching': 307, 'nd': 308, 'sms': 309, 'boy': 310, 'baby': 311, 'bad': 312, 'face': 313, 'play': 314, 'camera': 315, 'luv': 316, 'wont': 317, 'two': 318, 'look': 319, 'tv': 320, 'office': 321, 'network': 322, 'bt': 323, 'didnt': 324, 'dunno': 325, 'nite': 326, 'awarded': 327, 'made': 328, 'another': 329, 'landline': 330, 'question': 331, 'm': 332, 'reach': 333, 'early': 334, 'speak': 335, 'birthday': 336, 'actually': 337, 'age': 338, 'remember': 339, 'pay': 340, 'put': 341, 'bed': 342, 'movie': 343, 'princess': 344, 'ah': 345, 'aight': 346, 'shit': 347, 'selected': 348, 'everything': 349, 'am': 350, 'leh': 351, 'apply': 352, 'asked': 353, 'pa': 354, 'xx': 355, 'orange': 356, 'dream': 357, 'maybe': 358, 'why': 359, 'po': 360, 'part': 361, 'up': 362, 'award': 363, 'there': 364, 'must': 365, 'missing': 366, 'anyway': 367, 'worry': 368, 'book': 369, 'pound': 370, 'left': 371, 'little': 372, 'shopping': 373, 'shall': 374, 'thank': 375, 'probably': 376, 'sat': 377, 'mail': 378, 'collect': 379, 'charge': 380, 'entry': 381, 'kiss': 382, 'dad': 383, 'easy': 384, 'wanted': 385, 'pain': 386, 'world': 387, 'called': 388, 'den': 389, 'price': 390, 'town': 391, 'bus': 392, 'afternoon': 393, 'though': 394, 'evening': 395, 'point': 396, 'code': 397, 'join': 398, 'abt': 399, 'update': 400, 'dis': 401, 'tmr': 402, 'hurt': 403, 'school': 404, 'de': 405, 'gift': 406, 'came': 407, 'sexy': 408, 'hav': 409, 'missed': 410, 'on': 411, 'detail': 412, 'else': 413, 'wif': 414, 'looking': 415, 'juz': 416, 'without': 417, 'fuck': 418, 'bring': 419, 'since': 420, 'able': 421, 'wot': 422, 'yesterday': 423, 'collection': 424, 'valid': 425, 'hair': 426, 'hear': 427, 'plz': 428, 'yr': 429, 'driving': 430, 'havent': 431, 'ringtone': 432, 'enough': 433, 'answer': 434, 'had': 435, 'music': 436, 'test': 437, 'j': 438, 'sch': 439, 'run': 440, 'y': 441, 'saw': 442, 'from': 443, 'fun': 444, 'wife': 445, 'mate': 446, 'address': 447, 'away': 448, 'wen': 449, 'true': 450, 'was': 451, 'important': 452, 'colour': 453, 'lesson': 454, 'optout': 455, 'ard': 456, 'til': 457, 'of': 458, 'alright': 459, 'sad': 460, 'our': 461, 'net': 462, 'double': 463, 'weekly': 464, 'stay': 465, 'club': 466, 'top': 467, 'oso': 468, 'working': 469, 'haf': 470, 'wake': 471, 'trip': 472, 'mob': 473, 'change': 474, 'won': 475, 'plus': 476, 'decimal': 477, 'calling': 478, 'xmas': 479, 'nt': 480, 'okay': 481, 'beautiful': 482, 'dude': 483, 'friendship': 484, 'id': 485, 'mum': 486, 'goin': 487, 'shop': 488, 'simple': 489, 'with': 490, 'smoke': 491, 'taking': 492, 'wid': 493, 'credit': 494, 'noe': 495, 'lei': 496, 'walk': 497, 'tried': 498, 'chikku': 499, 'hand': 500, 'full': 501, 'old': 502, 'head': 503, 'bored': 504, 'cause': 505, 'cos': 506, 'feeling': 507, 'till': 508, 'drive': 509, 'making': 510, 'coz': 511, 'tot': 512, 'attempt': 513, 'family': 514, 'happen': 515, 'tomo': 516, 'land': 517, 'row': 518, 'started': 519, 'forget': 520, 'd': 521, 'busy': 522, 'player': 523, 'available': 524, 'mine': 525, 'believe': 526, 'await': 527, 'sae': 528, 'congrats': 529, 'brother': 530, 'hot': 531, 'online': 532, 'delivery': 533, 'mom': 534, 'sister': 535, 'reason': 536, 'pub': 537, 'drink': 538, 'type': 539, 'sm': 540, 'food': 541, 'hard': 542, 'gr': 543, 'date': 544, 'wil': 545, 'bonus': 546, 'alone': 547, 'neva': 548, 'mths': 549, 'national': 550, 'rite': 551, 'suite': 552, 'hl': 553, 'tho': 554, 'story': 555, 'together': 556, 'open': 557, 'leaving': 558, 'ha': 559, 'welcome': 560, 'eve': 561, 'far': 562, 'mobileupd': 563, 'todays': 564, 'smth': 565, 'post': 566, 'huh': 567, 'anyone': 568, 'awesome': 569, 'close': 570, 'o': 571, 'uncle': 572, 'oredi': 573, 'be': 574, 'any': 575, 'si': 576, 'gone': 577, 'dating': 578, 'lovely': 579, 'party': 580, 'gal': 581, 'hit': 582, 'thinking': 583, 'after': 584, 'touch': 585, 'card': 586, 'order': 587, 'treat': 588, 'sun': 589, 'company': 590, 'fancy': 591, 'darlin': 592, 'search': 593, 'choose': 594, 'gd': 595, 'finished': 596, 'hows': 597, 'whats': 598, 'sleeping': 599, 'private': 600, 'worth': 601, 'lucky': 602, 'sunday': 603, 'content': 604, 'loving': 605, 'chennai': 606, 'smiling': 607, 'aft': 608, 'song': 609, 'unsubscribe': 610, 'project': 611, 'read': 612, 'light': 613, 'gbp': 614, 'lands': 615, 'frnds': 616, 'decided': 617, 'ni': 618, 'out': 619, 'auction': 620, 'which': 621, 'boytoy': 622, 'computer': 623, 'unlimited': 624, 'download': 625, 'http': 626, 'tel': 627, 'carlos': 628, 'fri': 629, 'everyone': 630, 'email': 631, 'statement': 632, 'drop': 633, 'valued': 634, 'winner': 635, 'more': 636, 'info': 637, 'savamob': 638, 'mrng': 639, 'set': 640, 'talking': 641, 'goodmorning': 642, 'drug': 643, 'break': 644, 'seen': 645, 'press': 646, 'congratulations': 647, 'fone': 648, 'whole': 649, 'hee': 650, 'kind': 651, 'news': 652, 'wkly': 653, 'gym': 654, 'found': 655, 'single': 656, 'bout': 657, 'fucking': 658, 'took': 659, 'nope': 660, 'telling': 661, 'l': 662, 'angry': 663, 'almost': 664, 'luck': 665, 'course': 666, 'hungry': 667, 'least': 668, 'sound': 669, 'an': 670, 'enter': 671, 'move': 672, 'okie': 673, 'ish': 674, 'txts': 675, 'motorola': 676, 'match': 677, 'bill': 678, 'outside': 679, 'mr': 680, 'ring': 681, 'f': 682, 'anytime': 683, 'poly': 684, 'knw': 685, 'lose': 686, 'either': 687, 'frm': 688, 'pretty': 689, 'happiness': 690, 'fr': 691, 'meant': 692, 'finally': 693, 'blue': 694, 'by': 695, 'prob': 696, 'who': 697, 'checking': 698, 'felt': 699, 'eh': 700, 'balance': 701, 'ts': 702, 'max': 703, 'photo': 704, 'side': 705, 'operator': 706, 'yar': 707, 'fast': 708, 'secret': 709, 'snow': 710, 'invited': 711, 'cut': 712, 'same': 713, 'sell': 714, 'abiola': 715, 'tc': 716, 'comin': 717, 'sk': 718, 'college': 719, 'reward': 720, 'final': 721, 'freemsg': 722, 'fact': 723, 'ten': 724, 'mah': 725, 'wonderful': 726, 'bslvyl': 727, 'difficult': 728, 'kate': 729, 'ticket': 730, 'camcorder': 731, 'ex': 732, 'dnt': 733, 'march': 734, 'visit': 735, 'met': 736, 'should': 737, 'exam': 738, 'identifier': 739, 'expires': 740, 'dogging': 741, 'nyt': 742, 'hold': 743, 'tired': 744, 'joy': 745, 'log': 746, 'frnd': 747, 'na': 748, 'christmas': 749, 'promise': 750, 'bath': 751, 'listen': 752, 'saturday': 753, 'happened': 754, 'semester': 755, 'safe': 756, 'moment': 757, 'small': 758, 'idea': 759, 'sending': 760, 'confirm': 761, 'wit': 762, 'wrong': 763, 'currently': 764, 'hg': 765, 'leaf': 766, 'wonder': 767, 'rd': 768, 'tones': 769, 'study': 770, 'via': 771, 'quiz': 772, 'mm': 773, 'askd': 774, 'std': 775, 'hmmm': 776, 'asking': 777, 'store': 778, 'hoping': 779, 'figure': 780, 'il': 781, 'heard': 782, 'area': 783, 'cum': 784, 'sub': 785, 'second': 786, 'within': 787, 'wow': 788, 'monday': 789, 'rest': 790, 'lovable': 791, 'rent': 792, 'sex': 793, 'saying': 794, 'red': 795, 'pas': 796, 'ugh': 797, 'gas': 798, 'jay': 799, 'complimentary': 800, 'picking': 801, 'couple': 802, 'ipod': 803, 'john': 804, 'discount': 805, 'laugh': 806, 'understand': 807, 'bag': 808, 'laptop': 809, 'orchard': 810, 'mu': 811, 'load': 812, 'asap': 813, 'gave': 814, 'direct': 815, 'ago': 816, 'paper': 817, 'return': 818, 'die': 819, 'nah': 820, 'page': 821, 'road': 822, 'whatever': 823, 'slow': 824, 'reading': 825, 'wq': 826, 'empty': 827, 'lost': 828, 'sea': 829, 'bank': 830, 'seeing': 831, 'wap': 832, 'case': 833, 'cheap': 834, 'friday': 835, 'mode': 836, 'remove': 837, 'truth': 838, 'friends': 839, 'surprise': 840, 'request': 841, 'style': 842, 'hiya': 843, 'ldn': 844, 'hw': 845, 'eg': 846, 'entered': 847, 'bb': 848, 'muz': 849, 'glad': 850, 'access': 851, 'del': 852, 'round': 853, 'sick': 854, 'wana': 855, 'used': 856, 'film': 857, 'doin': 858, 'deep': 859, 'india': 860, 'opinion': 861, 'over': 862, 'supposed': 863, 'spend': 864, 'swing': 865, 'none': 866, 'door': 867, 'etc': 868, 'bcoz': 869, 'un': 870, 'bluetooth': 871, 'especially': 872, 'stupid': 873, 'hospital': 874, 'booked': 875, 'hotel': 876, 'eye': 877, 'ho': 878, 'his': 879, 'father': 880, 'woke': 881, 'opt': 882, 'yep': 883, 'wc': 884, 'gay': 885, 'extra': 886, 'valentine': 887, 'somewhere': 888, 'save': 889, 'txting': 890, 'catch': 891, 'tht': 892, 'caller': 893, 'reached': 894, 'warm': 895, 'trust': 896, 'copy': 897, 'le': 898, 'sort': 899, 'em': 900, 'short': 901, 'information': 902, 'rental': 903, 'comp': 904, 'park': 905, 'knew': 906, 'whenever': 907, 'starting': 908, 'bathe': 909, 'custcare': 910, 'gap': 911, 'darren': 912, 'calls': 913, 'rock': 914, 'xy': 915, 'nobody': 916, 'write': 917, 'cover': 918, 'black': 919, 'parents': 920, 'gotta': 921, 'ringtones': 922, 'clean': 923, 'umma': 924, 'energy': 925, 'moral': 926, 'tonite': 927, 'usf': 928, 'sunshine': 929, 'q': 930, 'sony': 931, 'goodnight': 932, 'bold': 933, 'mistake': 934, 'lover': 935, 'oops': 936, 'lady': 937, 'earlier': 938, 'possible': 939, 'mon': 940, 'rs': 941, 'usual': 942, 'pete': 943, 'quick': 944, 'term': 945, 'wednesday': 946, 'cup': 947, 'loan': 948, 'picture': 949, 'rply': 950, 'daddy': 951, 'pc': 952, 'seriously': 953, 'silent': 954, 'doesnt': 955, 'sounds': 956, 'ltd': 957, 'dead': 958, 'bx': 959, 'ive': 960, 'redeemed': 961, 'sign': 962, 'water': 963, 'normal': 964, 'ending': 965, 'rakhesh': 966, 'interested': 967, 'letter': 968, 'sitting': 969, 'specially': 970, 'support': 971, 'reveal': 972, 'crazy': 973, 'others': 974, 'shower': 975, 'voice': 976, 'spent': 977, 'pray': 978, 'buying': 979, 'fat': 980, 'slowly': 981, 'entitled': 982, 'hmm': 983, 'ave': 984, 'joke': 985, 'space': 986, 'ldew': 987, 'mrt': 988, 'train': 989, 'studying': 990, 'does': 991, 'fall': 992, 'mayb': 993, 'gn': 994, 'ge': 995, 'representative': 996, 'once': 997, 'slept': 998, 'issue': 999, 'comuk': 1000, 'different': 1001, 'student': 1002, 'excuse': 1003, 'sale': 1004, 'callertune': 1005, 'flight': 1006, 'al': 1007, 'mo': 1008, 'ac': 1009, 'vl': 1010, 'mins': 1011, 'din': 1012, 'colleagues': 1013, 'meh': 1014, 'cd': 1015, 'unless': 1016, 'loved': 1017, 'kick': 1018, 'sp': 1019, 'matter': 1020, 'apartment': 1021, 'omg': 1022, 'kid': 1023, 'mark': 1024, 'pix': 1025, 'teach': 1026, 'bugis': 1027, 'otherwise': 1028, 'complete': 1029, 'worried': 1030, 'urself': 1031, 'excellent': 1032, 'suck': 1033, 'turn': 1034, 'pizza': 1035, 'darling': 1036, 'list': 1037, 'coffee': 1038, 'menu': 1039, 'noon': 1040, 'la': 1041, 'mid': 1042, 'character': 1043, 'aha': 1044, 'been': 1045, 'charged': 1046, 'cinema': 1047, 'ip': 1048, 'ta': 1049, 'gettin': 1050, 'convey': 1051, 'shirt': 1052, 'king': 1053, 'tea': 1054, 'cell': 1055, 'bedroom': 1056, 'behind': 1057, 'alrite': 1058, 'internet': 1059, 'near': 1060, 'blood': 1061, 'including': 1062, 'poor': 1063, 'med': 1064, 'admirer': 1065, 'ice': 1066, 'registered': 1067, 'correct': 1068, 'january': 1069, 'however': 1070, 'freephone': 1071, 'er': 1072, 'happening': 1073, 'dey': 1074, 'summer': 1075, 'present': 1076, 'member': 1077, 'unsub': 1078, 'egg': 1079, 'immediately': 1080, 'izzit': 1081, 'reaching': 1082, 'file': 1083, 'ppmx': 1084, 'link': 1085, 'strong': 1086, 'wishing': 1087, 'hop': 1088, 'lazy': 1089, 'mood': 1090, 'crave': 1091, 'doctor': 1092, 'key': 1093, 'system': 1094, 'lets': 1095, 'merry': 1096, 'men': 1097, 'planned': 1098, 'iam': 1099, 'wine': 1100, 'user': 1101, 'fantastic': 1102, 'grin': 1103, 'connection': 1104, 'rain': 1105, 'street': 1106, 'nigeria': 1107, 'decide': 1108, 'high': 1109, 'paying': 1110, 'bird': 1111, 'weight': 1112, 'wondering': 1113, 'hurry': 1114, 'completely': 1115, 'changed': 1116, 'brings': 1117, 'staying': 1118, 'lect': 1119, 'feb': 1120, 'fault': 1121, 'sim': 1122, 'flirt': 1123, 'cold': 1124, 'closed': 1125, 'cc': 1126, 'heavy': 1127, 'sofa': 1128, 'aiyo': 1129, 'coin': 1130, 'liked': 1131, 'situation': 1132, 'naughty': 1133, 'bought': 1134, 'rcvd': 1135, 'towards': 1136, 'hell': 1137, 'dvd': 1138, 'country': 1139, 'anybody': 1140, 'alex': 1141, 'eating': 1142, 'power': 1143, 'accept': 1144, 'library': 1145, 'instead': 1146, 'definitely': 1147, 'costa': 1148, 'sol': 1149, 'xh': 1150, 'wats': 1151, 'battery': 1152, 'stand': 1153, 'inc': 1154, 'cuz': 1155, 'bid': 1156, 'cal': 1157, 'facebook': 1158, 'digital': 1159, 'honey': 1160, 'loverboy': 1161, 'experience': 1162, 'cheers': 1163, 'fetch': 1164, 'fullonsms': 1165, 'tm': 1166, 'very': 1167, 'slave': 1168, 'depends': 1169, 'holder': 1170, 'showing': 1171, 'team': 1172, 'cancel': 1173, 'sense': 1174, 'vikky': 1175, 'biz': 1176, 'nxt': 1177, 'putting': 1178, 'parent': 1179, 'reference': 1180, 'pussy': 1181, 'inside': 1182, 'tear': 1183, 'regard': 1184, 'pleased': 1185, 'review': 1186, 'waste': 1187, 'thinkin': 1188, 'exciting': 1189, 'workin': 1190, 'happens': 1191, 'somebody': 1192, 'add': 1193, 'swt': 1194, 'serious': 1195, 'model': 1196, 'lemme': 1197, 'fyi': 1198, 'sport': 1199, 'kerala': 1200, 'imma': 1201, 'games': 1202, 'standard': 1203, 'plenty': 1204, 'ar': 1205, 'yest': 1206, 'funny': 1207, 'past': 1208, 'wherever': 1209, 'location': 1210, 'envelope': 1211, 'awaiting': 1212, 'straight': 1213, 'fill': 1214, 'quality': 1215, 'holla': 1216, 'giving': 1217, 'uz': 1218, 'raining': 1219, 'kinda': 1220, 'subscription': 1221, 'valentines': 1222, 'goto': 1223, 'weed': 1224, 'meaning': 1225, 'moon': 1226, 'result': 1227, 'advance': 1228, 'adult': 1229, 'cine': 1230, 'howz': 1231, 'using': 1232, 'arcade': 1233, 'setting': 1234, 'hmv': 1235, 'disturb': 1236, 'south': 1237, 'armand': 1238, 'seems': 1239, 'omw': 1240, 'getzed': 1241, 'norm': 1242, 'finger': 1243, 'sigh': 1244, 'version': 1245, 'fix': 1246, 'training': 1247, 'forwarded': 1248, 'tampa': 1249, 'cm': 1250, 'shd': 1251, 'lift': 1252, 'ntt': 1253, 'created': 1254, 'holding': 1255, 'bak': 1256, 'isnt': 1257, 'share': 1258, 'melle': 1259, 'choice': 1260, 'realy': 1261, 'fixed': 1262, 'future': 1263, 'planning': 1264, 'replying': 1265, 'sometimes': 1266, 'april': 1267, 'lmao': 1268, 'across': 1269, 'dollar': 1270, 'dint': 1271, 'air': 1272, 'pleasure': 1273, 'mp': 1274, 'tick': 1275, 'record': 1276, 'wer': 1277, 'charity': 1278, 'foot': 1279, 'cbe': 1280, 'contacted': 1281, 'become': 1282, 'maximize': 1283, 'screaming': 1284, 'naked': 1285, 'nature': 1286, 'tat': 1287, 'again': 1288, 'ran': 1289, 'boost': 1290, 'hv': 1291, 'inch': 1292, 'yahoo': 1293, 'wks': 1294, 'torch': 1295, 'kb': 1296, 'yoga': 1297, 'rem': 1298, 'rose': 1299, 'marry': 1300, 'greet': 1301, 'hun': 1302, 'toclaim': 1303, 'stockport': 1304, 'thru': 1305, 'hopefully': 1306, 'tyler': 1307, 'partner': 1308, 'quit': 1309, 'bun': 1310, 'broke': 1311, 'basically': 1312, 'handset': 1313, 'google': 1314, 'ym': 1315, 'salary': 1316, 'whether': 1317, 'childish': 1318, 'horny': 1319, 'hostel': 1320, 'aftr': 1321, 'surely': 1322, 'london': 1323, 'roommate': 1324, 'bother': 1325, 'mrw': 1326, 'revealed': 1327, 'role': 1328, 'ec': 1329, 'tenerife': 1330, 'sam': 1331, 'vodafone': 1332, 'shuhui': 1333, 'qatar': 1334, 'asleep': 1335, 'following': 1336, 'boston': 1337, 'ls': 1338, 'dog': 1339, 'fb': 1340, 'december': 1341, 'group': 1342, 'jazz': 1343, 'gee': 1344, 'notice': 1345, 'onto': 1346, 'relation': 1347, 'sonyericsson': 1348, 'num': 1349, 'maid': 1350, 'murderer': 1351, 'murdered': 1352, 'begin': 1353, 'logo': 1354, 'paid': 1355, 'appointment': 1356, 'scream': 1357, 'tour': 1358, 'voda': 1359, 'quoting': 1360, 'site': 1361, 'self': 1362, 'thts': 1363, 'kallis': 1364, 'aint': 1365, 'imagine': 1366, 'moan': 1367, 'us': 1368, 'cartoon': 1369, 'listening': 1370, 'step': 1371, 'forever': 1372, 'trouble': 1373, 'tncs': 1374, 'arrange': 1375, 'theatre': 1376, 'login': 1377, 'thursday': 1378, 'scared': 1379, 'belly': 1380, 'surfing': 1381, 'respond': 1382, 'wear': 1383, 'law': 1384, 'uni': 1385, 'centre': 1386, 'rather': 1387, 'because': 1388, 'anymore': 1389, 'usually': 1390, 'body': 1391, 'medical': 1392, 'terms': 1393, 'learn': 1394, 'bin': 1395, 'those': 1396, 'recently': 1397, 'exactly': 1398, 'station': 1399, 'five': 1400, 'tscs': 1401, 'brand': 1402, 'cute': 1403, 'picked': 1404, 'willing': 1405, 'pin': 1406, 'evng': 1407, 'spree': 1408, 'acc': 1409, 'appreciate': 1410, 'except': 1411, 'expecting': 1412, 'decision': 1413, 'wed': 1414, 'ttyl': 1415, 'cr': 1416, 'polyphonic': 1417, 'wiv': 1418, 'dropped': 1419, 'police': 1420, 'hai': 1421, 'app': 1422, 'green': 1423, 'thnk': 1424, 'vry': 1425, 'purchase': 1426, 'wa': 1427, 'yogasana': 1428, 'directly': 1429, 'joined': 1430, 'joking': 1431, 'condition': 1432, 'pongal': 1433, 'fight': 1434, 'vary': 1435, 'hp': 1436, 'tuesday': 1437, 'about': 1438, 'sunny': 1439, 'asks': 1440, 'atm': 1441, 'yun': 1442, 'stock': 1443, 'polys': 1444, 'sit': 1445, 'wnt': 1446, 'btw': 1447, 'inviting': 1448, 'bye': 1449, 'ignore': 1450, 'child': 1451, 'tough': 1452, 'aiyah': 1453, 'horrible': 1454, 'gb': 1455, 'damn': 1456, 'due': 1457, 'worse': 1458, 'airport': 1459, 'sura': 1460, 'both': 1461, 'bcm': 1462, 'frens': 1463, 'cake': 1464, 'romantic': 1465, 'england': 1466, 'sed': 1467, 'kano': 1468, 'teasing': 1469, 'weather': 1470, 'plane': 1471, 'blessing': 1472, 'themob': 1473, 'waking': 1474, 'dictionary': 1475, 'gently': 1476, 'interesting': 1477, 'wearing': 1478, 'gravity': 1479, 'carefully': 1480, 'personality': 1481, 'original': 1482, 'saved': 1483, 'replied': 1484, 'yetunde': 1485, 'ansr': 1486, 'tyrone': 1487, 'cabin': 1488, 'boss': 1489, 'iz': 1490, 'timing': 1491, 'enjoyed': 1492, 'practice': 1493, 'buck': 1494, 'explain': 1495, 'respect': 1496, 'mother': 1497, 'died': 1498, 'barely': 1499, 'meal': 1500, 'skype': 1501, 'official': 1502, 'cream': 1503, 'intro': 1504, 'purpose': 1505, 'tenants': 1506, 'yijue': 1507, 'sipix': 1508, 'boo': 1509, 'spoke': 1510, 'mumtaz': 1511, 'somethin': 1512, 'looks': 1513, 'wtf': 1514, 'texting': 1515, 'series': 1516, 'iq': 1517, 'jada': 1518, 'kusruthi': 1519, 'spl': 1520, 'matured': 1521, 'stylish': 1522, 'apparently': 1523, 'perfect': 1524, 'ad': 1525, 'lookin': 1526, 'ru': 1527, 'arrive': 1528, 'ppl': 1529, 'wu': 1530, 'playing': 1531, 'celebrate': 1532, 'bloody': 1533, 'ate': 1534, 'laughing': 1535, 'rude': 1536, 'upto': 1537, 'twice': 1538, 'white': 1539, 'nyc': 1540, 'sw': 1541, 'ss': 1542, 'aunt': 1543, 'easier': 1544, 'posted': 1545, 'bishan': 1546, 'meetin': 1547, 'cha': 1548, 'simply': 1549, 'career': 1550, 'added': 1551, 'before': 1552, 'wx': 1553, 'discus': 1554, 'cheer': 1555, 'village': 1556, 'linerental': 1557, 'tuition': 1558, 'campus': 1559, 'stopped': 1560, 'lonely': 1561, 'happend': 1562, 'unsold': 1563, 'subscriber': 1564, 'public': 1565, 'govt': 1566, 'instituitions': 1567, 'social': 1568, 'gentle': 1569, 'upset': 1570, 'passed': 1571, 'ron': 1572, 'fren': 1573, 'aunty': 1574, 'deal': 1575, 'arm': 1576, 'dare': 1577, 'aathi': 1578, 'santa': 1579, 'geeee': 1580, 'remind': 1581, 'preferably': 1582, 'def': 1583, 'process': 1584, 'english': 1585, 'wylie': 1586, 'bitch': 1587, 'mad': 1588, 'laid': 1589, 'largest': 1590, 'hols': 1591, 'activate': 1592, 'comedy': 1593, 'temple': 1594, 'module': 1595, 'were': 1596, 'urgnt': 1597, 'receiving': 1598, 'nw': 1599, 'form': 1600, 'unable': 1601, 'connect': 1602, 'beer': 1603, 'hip': 1604, 'other': 1605, 'enemy': 1606, 'ham': 1607, 'xchat': 1608, 'research': 1609, 'cud': 1610, 'amazing': 1611, 'woman': 1612, 'loyalty': 1613, 'esplanade': 1614, 'ma': 1615, 'thangam': 1616, 'outta': 1617, 'yay': 1618, 'videophones': 1619, 'videochat': 1620, 'java': 1621, 'dload': 1622, 'noline': 1623, 'rentl': 1624, 'bathing': 1625, 'june': 1626, 'surprised': 1627, 'delivered': 1628, 'addicted': 1629, 'guide': 1630, 'gm': 1631, 'keeping': 1632, 'expensive': 1633, 'urawinner': 1634, 'february': 1635, 'ibiza': 1636, 'wp': 1637, 'stoptxt': 1638, 'pod': 1639, 'flat': 1640, 'lab': 1641, 'radio': 1642, 'fever': 1643, 'forward': 1644, 'expect': 1645, 'understanding': 1646, 'atlanta': 1647, 'eatin': 1648, 'cds': 1649, 'shortly': 1650, 'malaria': 1651, 'hill': 1652, 'miracle': 1653, 'lik': 1654, 'cry': 1655, 'doc': 1656, 'amt': 1657, 'services': 1658, 'inclusive': 1659, 'qxj': 1660, 'ae': 1661, 'eerie': 1662, 'zed': 1663, 'nvm': 1664, 'pg': 1665, 'window': 1666, 'croydon': 1667, 'wb': 1668, 'oru': 1669, 'marriage': 1670, 'sheet': 1671, 'report': 1672, 'harry': 1673, 'askin': 1674, 'ahead': 1675, 'anyways': 1676, 'sky': 1677, 'cannot': 1678, 'gram': 1679, 'flower': 1680, 'random': 1681, 'loves': 1682, 'tt': 1683, 'urn': 1684, 'freefone': 1685, 'callers': 1686, 'longer': 1687, 'diet': 1688, 'bday': 1689, 'here': 1690, 'alert': 1691, 'three': 1692, 'embarassed': 1693, 'exact': 1694, 'password': 1695, 'spending': 1696, 'milk': 1697, 'allah': 1698, 'sometime': 1699, 'mtmsg': 1700, 'txtauction': 1701, 'indian': 1702, 'him': 1703, 'down': 1704, 'cafe': 1705, 'looked': 1706, 'tb': 1707, 'giv': 1708, 'spk': 1709, 'jordan': 1710, 'lecture': 1711, 'taunton': 1712, 'competition': 1713, 'personal': 1714, 'announcement': 1715, 'most': 1716, 'hug': 1717, 'textpod': 1718, 'sum': 1719, 'ended': 1720, 'ray': 1721, 'track': 1722, 'str': 1723, 'clock': 1724, 'sec': 1725, 'idiot': 1726, 'bright': 1727, 'mile': 1728, 'common': 1729, 'pack': 1730, 'lick': 1731, 'vomit': 1732, 'contract': 1733, 'jst': 1734, 'cleaning': 1735, 'followed': 1736, 'insurance': 1737, 'minuts': 1738, 'latr': 1739, 'queen': 1740, 'relax': 1741, 'penny': 1742, 'kids': 1743, 'leg': 1744, 'argument': 1745, 'regret': 1746, 'born': 1747, 'height': 1748, 'flag': 1749, 'pple': 1750, 'earth': 1751, 'forum': 1752, 'didn': 1753, 'throw': 1754, 'living': 1755, 'tariff': 1756, 'wall': 1757, 'blank': 1758, 'biggest': 1759, 'rule': 1760, 'grl': 1761, 'click': 1762, 'lousy': 1763, 'kept': 1764, 'cat': 1765, 'frying': 1766, 'likely': 1767, 'business': 1768, 'screen': 1769, 'prepare': 1770, 'snake': 1771, 'buff': 1772, 'vip': 1773, 'kidz': 1774, 'pissed': 1775, 'senthil': 1776, 'hardcore': 1777, 'thm': 1778, 'wn': 1779, 'cn': 1780, 'shouted': 1781, 'drinking': 1782, 'fifteen': 1783, 'moji': 1784, 'seem': 1785, 'messenger': 1786, 'season': 1787, 'goal': 1788, 'machan': 1789, 'haiz': 1790, 'drivin': 1791, 'ntwk': 1792, 'collecting': 1793, 'girls': 1794, 'frndship': 1795, 'tablet': 1796, 'meanwhile': 1797, 'ringtoneking': 1798, 'shut': 1799, 'james': 1800, 'travel': 1801, 'bottom': 1802, 'jamster': 1803, 'wallpaper': 1804, 'years': 1805, 'rang': 1806, 'mite': 1807, 'sorted': 1808, 'pending': 1809, 'knackered': 1810, 'walmart': 1811, 'subscribe': 1812, 'wrk': 1813, 'basic': 1814, 'violence': 1815, 'popped': 1816, 'xuhui': 1817, 'audition': 1818, 'tkts': 1819, 'cam': 1820, 'homeowners': 1821, 'previously': 1822, 'refused': 1823, 'regarding': 1824, 'selling': 1825, 'chatting': 1826, 'foreign': 1827, 'stamp': 1828, 'slice': 1829, 'channel': 1830, 'soup': 1831, 'moby': 1832, 'rcv': 1833, 'symbol': 1834, 'married': 1835, 'iouri': 1836, 'starts': 1837, 'total': 1838, 'smart': 1839, 'oz': 1840, 'chinese': 1841, 'prefer': 1842, 'tlp': 1843, 'bcums': 1844, 'affection': 1845, 'kettoda': 1846, 'manda': 1847, 'blame': 1848, 'brought': 1849, 'captain': 1850, 'tirupur': 1851, 'sry': 1852, 'wkend': 1853, 'suprman': 1854, 'matrix': 1855, 'starwars': 1856, 'randomly': 1857, 'wanting': 1858, 'teacher': 1859, 'instruction': 1860, 'lp': 1861, 'fish': 1862, 'sorrow': 1863, 'forevr': 1864, 'math': 1865, 'drunk': 1866, 'suntec': 1867, 'advise': 1868, 'recent': 1869, 'released': 1870, 'havin': 1871, 'hanging': 1872, 'aah': 1873, 'midnight': 1874, 'oic': 1875, 'understood': 1876, 'boat': 1877, 'flaked': 1878, 'lil': 1879, 'kadeem': 1880, 'answering': 1881, 'tcs': 1882, 'aiya': 1883, 'fear': 1884, 'ti': 1885, 'praying': 1886, 'texted': 1887, 'american': 1888, 'warner': 1889, 'vijay': 1890, 'appt': 1891, 'ride': 1892, 'fool': 1893, 'whenevr': 1894, 'opportunity': 1895, 'chart': 1896, 'some': 1897, 'ikea': 1898, 'csbcm': 1899, 'callcost': 1900, 'responce': 1901, 'assume': 1902, 'bringing': 1903, 'settle': 1904, 'selection': 1905, 'often': 1906, 'six': 1907, 'hundred': 1908, 'bless': 1909, 'talent': 1910, 'cust': 1911, 'bf': 1912, 'awake': 1913, 'hunny': 1914, 'bat': 1915, 'inning': 1916, 'nat': 1917, 'mall': 1918, 'lido': 1919, 'shelf': 1920, 'fantasy': 1921, 'fuckin': 1922, 'needed': 1923, 'interview': 1924, 'smoking': 1925, 'sooner': 1926, 'legal': 1927, 'church': 1928, 'table': 1929, 'eight': 1930, 'bloke': 1931, 'gona': 1932, 'beyond': 1933, 'position': 1934, 'apologise': 1935, 'burger': 1936, 'shipping': 1937, 'wud': 1938, 'morn': 1939, 'waitin': 1940, 'shld': 1941, 'eng': 1942, 'piece': 1943, 'newest': 1944, 'gossip': 1945, 'fit': 1946, 'idk': 1947, 'sing': 1948, 'sept': 1949, 'super': 1950, 'sha': 1951, 'beware': 1952, 'belovd': 1953, 'anti': 1954, 'yummy': 1955, 'sen': 1956, 'taken': 1957, 'railway': 1958, 'vava': 1959, 'dirty': 1960, 'twelve': 1961, 'repair': 1962, 'membership': 1963, 'error': 1964, 'effect': 1965, 'certainly': 1966, 'ummmmmaah': 1967, 'impossible': 1968, 'challenge': 1969, 'possession': 1970, 'thurs': 1971, 'wun': 1972, 'polyph': 1973, 'bell': 1974, 'porn': 1975, 'flash': 1976, 'madam': 1977, 'auto': 1978, 'constantly': 1979, 'ic': 1980, 'jan': 1981, 'percent': 1982, 'msging': 1983, 'vote': 1984, 'honeybee': 1985, 'sweetest': 1986, 'laughed': 1987, 'havnt': 1988, 'crack': 1989, 'jokes': 1990, 'knowing': 1991, 'failed': 1992, 'grand': 1993, 'truly': 1994, 'avatar': 1995, 'fly': 1996, 'murder': 1997, 'parked': 1998, 'weak': 1999, 'fran': 2000, 'fair': 2001, 'push': 2002, 'pull': 2003, 'note': 2004, 'brain': 2005, 'building': 2006, 'map': 2007, 'sup': 2008, 'vouchers': 2009, 'skillgame': 2010, 'winaweek': 2011, 'ppermesssubscription': 2012, 'fighting': 2013, 'proof': 2014, 'ranjith': 2015, 'supply': 2016, 'pig': 2017, 'catching': 2018, 'tf': 2019, 'california': 2020, 'advice': 2021, 'staff': 2022, 'walking': 2023, 'mega': 2024, 'upload': 2025, 'software': 2026, 'purity': 2027, 'everybody': 2028, 'se': 2029, 'action': 2030, 'arun': 2031, 'package': 2032, 'program': 2033, 'missin': 2034, 'guilty': 2035, 'too': 2036, 'pie': 2037, 'boring': 2038, 'lay': 2039, 'spook': 2040, 'arrested': 2041, 'intelligent': 2042, 'valuable': 2043, 'blake': 2044, 'avent': 2045, 'clear': 2046, 'enuff': 2047, 'magical': 2048, 'web': 2049, 'wt': 2050, 'china': 2051, 'cornwall': 2052, 'shesil': 2053, 'fantasies': 2054, 'pink': 2055, 'sentence': 2056, 'ptbo': 2057, 'cheaper': 2058, 'children': 2059, 'brilliant': 2060, 'among': 2061, 'sight': 2062, 'addie': 2063, 'networking': 2064, 'unique': 2065, 'dark': 2066, 'strike': 2067, 'quote': 2068, 'express': 2069, 'ben': 2070, 'buzy': 2071, 'anythin': 2072, 'threat': 2073, 'affair': 2074, 'rush': 2075, 'informed': 2076, 'minnaminunginte': 2077, 'nurungu': 2078, 'vettam': 2079, 'realize': 2080, 'running': 2081, 'vodka': 2082, 'winning': 2083, 'mmm': 2084, 'wah': 2085, 'booking': 2086, 'hella': 2087, 'successful': 2088, 'history': 2089, 'luxury': 2090, 'considering': 2091, 'textcomp': 2092, 'fl': 2093, 'ga': 2094, 'successfully': 2095, 'transaction': 2096, 'greeting': 2097, 'value': 2098, 'dearly': 2099, 'qp': 2100, 'outstanding': 2101, 'kindly': 2102, 'chasing': 2103, 'confidence': 2104, 'derek': 2105, 'management': 2106, 'scotland': 2107, 'wisdom': 2108, 'alwys': 2109, 'mobiles': 2110, 'sender': 2111, 'di': 2112, 'science': 2113, 'teeth': 2114, 'jess': 2115, 'url': 2116, 'football': 2117, 'pass': 2118, 'jealous': 2119, 'accident': 2120, 'lots': 2121, 'careful': 2122, 'sn': 2123, 'mac': 2124, 'celeb': 2125, 'pocketbabe': 2126, 'roger': 2127, 'schedule': 2128, 'attend': 2129, 'realized': 2130, 'bay': 2131, 'force': 2132, 'chosen': 2133, 'buzz': 2134, 'bar': 2135, 'unredeemed': 2136, 'ful': 2137, 'fire': 2138, 'prabha': 2139, 'credited': 2140, 'prey': 2141, 'inform': 2142, 'alive': 2143, 'quickly': 2144, 'payment': 2145, 'faster': 2146, 'philosophy': 2147, 'transfered': 2148, 'mummy': 2149, 'elsewhere': 2150, 'gimme': 2151, 'each': 2152, 'totally': 2153, 'source': 2154, 'jhl': 2155, 'evn': 2156, 'itz': 2157, 'becoz': 2158, 'textoperator': 2159, 'score': 2160, 'painful': 2161, 'afraid': 2162, 'chechi': 2163, 'confirmed': 2164, 'dem': 2165, 'headache': 2166, 'bigger': 2167, 'lounge': 2168, 'gautham': 2169, 'msgrcvdhg': 2170, 'local': 2171, 'usc': 2172, 'bet': 2173, 'prolly': 2174, 'chicken': 2175, 'ubi': 2176, 'wkg': 2177, 'shoot': 2178, 'dry': 2179, 'minutes': 2180, 'ba': 2181, 'mt': 2182, 'ure': 2183, 'calicut': 2184, 'insha': 2185, 'paris': 2186, 'wet': 2187, 'helen': 2188, 'blackberry': 2189, 'settled': 2190, 'lip': 2191, 'switch': 2192, 'roast': 2193, 'fathima': 2194, 'lead': 2195, 'display': 2196, 'slap': 2197, 'oni': 2198, 'ache': 2199, 'lotr': 2200, 'toa': 2201, 'payoh': 2202, 'provided': 2203, 'macho': 2204, 'yor': 2205, 'amount': 2206, 'welp': 2207, 'art': 2208, 'stone': 2209, 'title': 2210, 'ordered': 2211, 'played': 2212, 'city': 2213, 'h': 2214, 'ldnw': 2215, 'thanksgiving': 2216, 'spoken': 2217, 'searching': 2218, 'essential': 2219, 'argh': 2220, 'cancer': 2221, 'raise': 2222, 'monkey': 2223, 'mi': 2224, 'hook': 2225, 'nimya': 2226, 'accordingly': 2227, 'cross': 2228, 'mini': 2229, 'budget': 2230, 'hint': 2231, 'incident': 2232, 'pout': 2233, 'stomp': 2234, 'claire': 2235, 'bite': 2236, 'desparate': 2237, 'fake': 2238, 'exhausted': 2239, 'pan': 2240, 'perhaps': 2241, 'specific': 2242, 'tg': 2243, 'bbd': 2244, 'sux': 2245, 'tickets': 2246, 'blu': 2247, 'concert': 2248, 'smsco': 2249, 'uh': 2250, 'nitros': 2251, 'hsbc': 2252, 'unbelievable': 2253, 'funk': 2254, 'custom': 2255, 'approx': 2256, 'clothes': 2257, 'propsd': 2258, 'gv': 2259, 'lv': 2260, 'lttrs': 2261, 'threw': 2262, 'aproach': 2263, 'dt': 2264, 'truck': 2265, 'speeding': 2266, 'instantly': 2267, 'thy': 2268, 'lived': 2269, 'happily': 2270, 'gthr': 2271, 'evrydy': 2272, 'algarve': 2273, 'tahan': 2274, 'anot': 2275, 'lo': 2276, 'hate': 2277, 'messaged': 2278, 'silver': 2279, 'postcard': 2280, 'nervous': 2281, 'yellow': 2282, 'taste': 2283, 'applebees': 2284, 'reaction': 2285, 'gudnite': 2286, 'jenny': 2287, 'geeeee': 2288, 'mnth': 2289, 'txtstop': 2290, 'jane': 2291, 'lst': 2292, 'genius': 2293, 'spider': 2294, 'ball': 2295, 'shipped': 2296, 'sticky': 2297, 'silence': 2298, 'euro': 2299, 'treated': 2300, 'fab': 2301, 'eighth': 2302, 'dislike': 2303, 'fromm': 2304, 'sweetheart': 2305, 'sugar': 2306, 'maneesha': 2307, 'satisfied': 2308, 'toll': 2309, 'mahal': 2310, 'shahjahan': 2311, 'killed': 2312, 'husband': 2313, 'gorgeous': 2314, 'onwards': 2315, 'sarcastic': 2316, 'faggy': 2317, 'poop': 2318, 'slip': 2319, 'fujitsu': 2320, 'siva': 2321, 'costume': 2322, 'shame': 2323, 'wld': 2324, 'constant': 2325, 'cared': 2326, 'imp': 2327, 'headin': 2328, 'hrishi': 2329, 'piss': 2330, 'conduct': 2331, 'dx': 2332, 'stick': 2333, 'follow': 2334, 'propose': 2335, 'funky': 2336, 'lux': 2337, 'hppnss': 2338, 'goodfriend': 2339, 'av': 2340, 'ela': 2341, 'shagged': 2342, 'nap': 2343, 'hex': 2344, 'fell': 2345, 'lie': 2346, 'vday': 2347, 'underwear': 2348, 'costing': 2349, 'rr': 2350, 'agent': 2351, 'shoe': 2352, 'dumb': 2353, 'hb': 2354, 'british': 2355, 'useful': 2356, 'ruin': 2357, 'thesis': 2358, 'minor': 2359, 'rstm': 2360, 'anniversary': 2361, 'spring': 2362, 'cuddle': 2363, 'lush': 2364, 'doubt': 2365, 'handle': 2366, 'blanket': 2367, 'sufficient': 2368, 'thx': 2369, 'foley': 2370, 'tiwary': 2371, 'bang': 2372, 'mei': 2373, 'tis': 2374, 'ias': 2375, 'indyarocks': 2376, 'reboot': 2377, 'wee': 2378, 'ag': 2379, 'promo': 2380, 'dave': 2381, 'cw': 2382, 'weird': 2383, 'nic': 2384, 'poem': 2385, 'luvs': 2386, 'base': 2387, 'callin': 2388, 'jen': 2389, 'kiosk': 2390, 'tooth': 2391, 'ideal': 2392, 'include': 2393, 'jaya': 2394, 'gibbs': 2395, 'cheat': 2396, 'remembr': 2397, 'lyk': 2398, 'receipt': 2399, 'mess': 2400, 'mobilesvary': 2401, 'cardiff': 2402, 'tight': 2403, 'voicemail': 2404, 'gold': 2405, 'haven': 2406, 'xavier': 2407, 'ow': 2408, 'anthony': 2409, 'fee': 2410, 'garden': 2411, 'bulb': 2412, 'seed': 2413, 'scotsman': 2414, 'notxt': 2415, 'loud': 2416, 'shoving': 2417, 'reminder': 2418, 'postcode': 2419, 'swatch': 2420, 'lov': 2421, 'aiyar': 2422, 'scold': 2423, 'downloads': 2424, 'farm': 2425, 'current': 2426, 'tomarrow': 2427, 'beg': 2428, 'rgds': 2429, 'recd': 2430, 'cashto': 2431, 'getstop': 2432, 'php': 2433, 'oooh': 2434, 'wind': 2435, 'xxxxx': 2436, 'smell': 2437, 'chip': 2438, 'bear': 2439, 'babes': 2440, 'scary': 2441, 'sumthin': 2442, 'elaine': 2443, 'tape': 2444, 'measure': 2445, 'shocking': 2446, 'crash': 2447, 'telugu': 2448, 'nasty': 2449, 'slo': 2450, 'crisis': 2451, 'island': 2452, 'tcr': 2453, 'wesley': 2454, 'stamped': 2455, 'drinks': 2456, 'bray': 2457, 'wicklow': 2458, 'eire': 2459, 'forgiven': 2460, 'sore': 2461, 'woken': 2462, 'ey': 2463, 'sem': 2464, 'item': 2465, 'university': 2466, 'minimum': 2467, 'period': 2468, 'aww': 2469, 'nearly': 2470, 'iscoming': 2471, 'stayin': 2472, 'stranger': 2473, 'pen': 2474, 'master': 2475, 'curry': 2476, 'earn': 2477, 'doggy': 2478, 'fave': 2479, 'cali': 2480, 'killing': 2481, 'shy': 2482, 'partnership': 2483, 'invest': 2484, 'fret': 2485, 'ovulation': 2486, 'rich': 2487, 'deus': 2488, 'escape': 2489, 'drinkin': 2490, 'otside': 2491, 'sleepy': 2492, 'xxxxxxxxx': 2493, 'bowl': 2494, 'seat': 2495, 'lower': 2496, 'serving': 2497, 'select': 2498, 'benefit': 2499, 'priscilla': 2500, 'desert': 2501, 'female': 2502, 'weigh': 2503, 'ahmad': 2504, 'adoring': 2505, 'regular': 2506, 'prem': 2507, 'officially': 2508, 'market': 2509, 'clos': 2510, 'lvblefrnd': 2511, 'jstfrnd': 2512, 'cutefrnd': 2513, 'lifpartnr': 2514, 'swtheart': 2515, 'bstfrnd': 2516, 'rofl': 2517, 'jolly': 2518, 'furniture': 2519, 'lock': 2520, 'oil': 2521, 'vth': 2522, 'eveb': 2523, 'chocolate': 2524, 'alcohol': 2525, 'noun': 2526, 'election': 2527, 'suzy': 2528, 'website': 2529, 'tension': 2530, 'upgrade': 2531, 'morrow': 2532, 'maga': 2533, 'deleted': 2534, 'px': 2535, 'control': 2536, 'massive': 2537, 'held': 2538, 'rewarding': 2539, 'range': 2540, 'chill': 2541, 'parco': 2542, 'nb': 2543, 'bud': 2544, 'ne': 2545, 'remain': 2546, 'tool': 2547, 'brothas': 2548, 'signing': 2549, 'risk': 2550, 'royal': 2551, 'reg': 2552, 'eurodisinc': 2553, 'trav': 2554, 'aco': 2555, 'morefrmmob': 2556, 'shracomorsglsuplt': 2557, 'aj': 2558, 'juicy': 2559, 'boys': 2560, 'hrs': 2561, 'wuld': 2562, 'nuther': 2563, 'ear': 2564, 'biola': 2565, 'necklace': 2566, 'genuine': 2567, 'xin': 2568, 'lib': 2569, 'recovery': 2570, 'calculation': 2571, 'flirting': 2572, 'zoe': 2573, 'mobilesdirect': 2574, 'westlife': 2575, 'unbreakable': 2576, 'untamed': 2577, 'unkempt': 2578, 'completed': 2579, 'continue': 2580, 'blow': 2581, 'revision': 2582, 'garbage': 2583, 'seven': 2584, 'ml': 2585, 'block': 2586, 'howard': 2587, 'neither': 2588, 'sucker': 2589, 'ps': 2590, 'mmmm': 2591, 'weakness': 2592, 'paragon': 2593, 'received': 2594, 'acted': 2595, 'epsilon': 2596, 'unnecessarily': 2597, 'billion': 2598, 'reverse': 2599, 'cheating': 2600, 'mathematics': 2601, 'confuses': 2602, 'ke': 2603, 'holy': 2604, 'kidding': 2605, 'prospect': 2606, 'jean': 2607, 'hurting': 2608, 'dealer': 2609, 'impatient': 2610, 'idew': 2611, 'handed': 2612, 'funeral': 2613, 'maturity': 2614, 'drpd': 2615, 'deeraj': 2616, 'deepak': 2617, 'reality': 2618, 'virgin': 2619, 'mystery': 2620, 'probs': 2621, 'obviously': 2622, 'normally': 2623, 'takin': 2624, 'placement': 2625, 'path': 2626, 'front': 2627, 'journey': 2628, 'allowed': 2629, 're': 2630, 'solved': 2631, 'batch': 2632, 'isn': 2633, 'sweetie': 2634, 'slide': 2635, 'musthu': 2636, 'doesn': 2637, 'jesus': 2638, 'edge': 2639, 'cock': 2640, 'hubby': 2641, 'satisfy': 2642, 'rec': 2643, 'solve': 2644, 'transfr': 2645, 'cutting': 2646, 'west': 2647, 'coast': 2648, 'kegger': 2649, 'shining': 2650, 'responding': 2651, 'breath': 2652, 'butt': 2653, 'spanish': 2654, 'prescription': 2655, 'transfer': 2656, 'crap': 2657, 'borin': 2658, 'halloween': 2659, 'boyfriend': 2660, 'driver': 2661, 'oi': 2662, 'plaza': 2663, 'bedrm': 2664, 'tee': 2665, 'csh': 2666, 'tsandcs': 2667, 'toot': 2668, 'four': 2669, 'simpler': 2670, 'subs': 2671, 'tues': 2672, 'medicine': 2673, 'storming': 2674, 'phne': 2675, 'margaret': 2676, 'girlfrnd': 2677, 'grahmbell': 2678, 'invnted': 2679, 'telphone': 2680, 'duchess': 2681, 'msgs': 2682, 'silently': 2683, 'tip': 2684, 'pt': 2685, 'txtin': 2686, 'tog': 2687, 'concentrate': 2688, 'educational': 2689, 'pole': 2690, 'woot': 2691, 'nahi': 2692, 'zindgi': 2693, 'wo': 2694, 'jo': 2695, 'moved': 2696, 'jason': 2697, 'suggest': 2698, 'definite': 2699, 'gary': 2700, 'dot': 2701, 'cook': 2702, 'cooking': 2703, 'freak': 2704, 'potter': 2705, 'phoenix': 2706, 'reader': 2707, 'sh': 2708, 'wave': 2709, 'asp': 2710, 'supervisor': 2711, 'technical': 2712, 'field': 2713, 'inconsiderate': 2714, 'nag': 2715, 'recession': 2716, 'hence': 2717, 'agree': 2718, 'her': 2719, 'sleepin': 2720, 'color': 2721, 'peaceful': 2722, 'everywhere': 2723, 'cousin': 2724, 'scrounge': 2725, 'grow': 2726, 'dining': 2727, 'jerry': 2728, 'irritates': 2729, 'fails': 2730, 'checked': 2731, 'wating': 2732, 'suggestion': 2733, 'previous': 2734, 'creep': 2735, 'sarasota': 2736, 'puttin': 2737, 'selfish': 2738, 'executive': 2739, 'complaint': 2740, 'infernal': 2741, 'sinco': 2742, 'payee': 2743, 'icicibank': 2744, 'fraud': 2745, 'disclose': 2746, 'oranges': 2747, 'upd': 2748, 'odi': 2749, 'easter': 2750, 'bck': 2751, 'dan': 2752, 'wiskey': 2753, 'brandy': 2754, 'rum': 2755, 'gin': 2756, 'scotch': 2757, 'shampain': 2758, 'kudi': 2759, 'yarasu': 2760, 'dhina': 2761, 'vaazhthukkal': 2762, 'remains': 2763, 'atlast': 2764, 'memory': 2765, 'transport': 2766, 'painting': 2767, 'galileo': 2768, 'dresser': 2769, 'death': 2770, 'topic': 2771, 'moro': 2772, 'onion': 2773, 'petrol': 2774, 'canary': 2775, 'islands': 2776, 'although': 2777, 'build': 2778, 'fucked': 2779, 'nan': 2780, 'bos': 2781, 'lucy': 2782, 'minmobsmorelkpobox': 2783, 'xxxx': 2784, 'invaders': 2785, 'orig': 2786, 'console': 2787, 'favourite': 2788, 'intention': 2789, 'visitor': 2790, 'response': 2791, 'occupy': 2792, 'refilled': 2793, 'inr': 2794, 'keralacircle': 2795, 'prepaid': 2796, 'kr': 2797, 'necessarily': 2798, 'cann': 2799, 'lag': 2800, 'gpu': 2801, 'accidentally': 2802, 'ny': 2803, 'abj': 2804, 'under': 2805, 'coat': 2806, 'msgrcvd': 2807, 'skip': 2808, 'ding': 2809, 'tree': 2810, 'commercial': 2811, 'protect': 2812, 'sib': 2813, 'sensitive': 2814, 'passwords': 2815, 'makin': 2816, 'brownie': 2817, 'picsfree': 2818, 'printed': 2819, 'upstairs': 2820, 'diff': 2821, 'stress': 2822, 'dorm': 2823, 'strange': 2824, 'rumour': 2825, 'langport': 2826, 'taylor': 2827, 'admin': 2828, 'slightly': 2829, 'eyes': 2830, 'salam': 2831, 'grace': 2832, 'tayseer': 2833, 'tissco': 2834, 'japanese': 2835, 'proverb': 2836, 'mth': 2837, 'melt': 2838, 'sunlight': 2839, 'loss': 2840, 'difficulty': 2841, 'dedicated': 2842, 'dedicate': 2843, 'andros': 2844, 'neighbor': 2845, 'qu': 2846, 'permission': 2847, 'seemed': 2848, 'behave': 2849, 'sends': 2850, 'gentleman': 2851, 'dignity': 2852, 'george': 2853, 'saucy': 2854, 'male': 2855, 'peak': 2856, 'pattern': 2857, 'befor': 2858, 'argue': 2859, 'filling': 2860, 'sachin': 2861, 'standing': 2862, 'theory': 2863, 'jiayin': 2864, 'prepared': 2865, 'anna': 2866, 'nagar': 2867, 'hol': 2868, 'falling': 2869, 'smeone': 2870, 'expressoffer': 2871, 'slp': 2872, 'muah': 2873, 'panic': 2874, 'whose': 2875, 'allow': 2876, 'hon': 2877, 'things': 2878, 'several': 2879, 'bottle': 2880, 'karaoke': 2881, 'en': 2882, 'pics': 2883, 'realise': 2884, 'violated': 2885, 'privacy': 2886, 'paperwork': 2887, 'gotten': 2888, 'speed': 2889, 'sathya': 2890, 'castor': 2891, 'east': 2892, 'flame': 2893, 'woulda': 2894, 'calm': 2895, 'swimming': 2896, 'tease': 2897, 'application': 2898, 'breathe': 2899, 'avoiding': 2900, 'kill': 2901, 'guessing': 2902, 'album': 2903, 'repeat': 2904, 'dentist': 2905, 'eek': 2906, 'singing': 2907, 'format': 2908, 'tom': 2909, 'dick': 2910, 'generally': 2911, 'pro': 2912, 'brief': 2913, 'edward': 2914, 'ground': 2915, 'carry': 2916, 'wales': 2917, 'spoiled': 2918, 'bmw': 2919, 'urgently': 2920, 'shortage': 2921, 'lacs': 2922, 'arng': 2923, 'lac': 2924, 'ages': 2925, 'ja': 2926, 'blur': 2927, 'pilate': 2928, 'star': 2929, 'sarcasm': 2930, 'appreciated': 2931, 'knows': 2932, 'subscribed': 2933, 'lf': 2934, 'mouth': 2935, 'somtimes': 2936, 'quiet': 2937, 'toshiba': 2938, 'shu': 2939, 'xam': 2940, 'manage': 2941, 'goodnite': 2942, 'losing': 2943, 'desperate': 2944, 'xxxxxxx': 2945, 'netcollex': 2946, 'lk': 2947, 'morro': 2948, 'various': 2949, 'gist': 2950, 'bruv': 2951, 'drove': 2952, 'tomorro': 2953, 'points': 2954, 'pw': 2955, 'tech': 2956, 'ph': 2957, 'ryan': 2958, 'stretch': 2959, 'trade': 2960, 'gender': 2961, 'pride': 2962, 'respectful': 2963, 'bootydelious': 2964, 'lifetime': 2965, 'hyde': 2966, 'bristol': 2967, 'off': 2968, 'reminding': 2969, 'owns': 2970, 'chillin': 2971, 'exeter': 2972, 'buffet': 2973, 'reserve': 2974, 'outage': 2975, 'clark': 2976, 'utter': 2977, 'mb': 2978, 'bec': 2979, 'dai': 2980, 'loyal': 2981, 'nu': 2982, 'spell': 2983, 'movietrivia': 2984, 'bluff': 2985, 'lookatme': 2986, 'differ': 2987, 'buyer': 2988, 'difference': 2989, 'charles': 2990, 'misbehaved': 2991, 'exhaust': 2992, 'hor': 2993, 'tlk': 2994, 'register': 2995, 'irritating': 2996, 'deliver': 2997, 'print': 2998, 'disconnect': 2999, 'terrorist': 3000, 'confirmd': 3001, 'verified': 3002, 'cnn': 3003, 'ibn': 3004, 'nit': 3005, 'mono': 3006, 'bp': 3007, 'warranty': 3008, 'cancelled': 3009, 'has': 3010, 'tirunelvali': 3011, 'dress': 3012, 'stomach': 3013, 'administrator': 3014, 'petey': 3015, 'deciding': 3016, 'billed': 3017, 'uks': 3018, 'granite': 3019, 'explosive': 3020, 'members': 3021, 'nasdaq': 3022, 'cdgt': 3023, 'planet': 3024, 'knock': 3025, 'goldviking': 3026, 'donno': 3027, 'removal': 3028, 'engin': 3029, 'morphine': 3030, 'diamond': 3031, 'days': 3032, 'dracula': 3033, 'titles': 3034, 'ghost': 3035, 'addamsfa': 3036, 'munsters': 3037, 'exorcist': 3038, 'twilight': 3039, 'yer': 3040, 'garage': 3041, 'mcat': 3042, 'joining': 3043, 'ques': 3044, 'suit': 3045, 'aeronautics': 3046, 'professor': 3047, 'calld': 3048, 'aeroplane': 3049, 'hurried': 3050, 'unknown': 3051, 'swoop': 3052, 'indicate': 3053, 'helloooo': 3054, 'nowadays': 3055, 'testing': 3056, 'delete': 3057, 'finishing': 3058, 'fo': 3059, 'liverpool': 3060, 'ibhltd': 3061, 'mtmsgrcvd': 3062, 'rg': 3063, 'thread': 3064, 'section': 3065, 'donate': 3066, 'tsunami': 3067, 'disaster': 3068, 'slot': 3069, 'prof': 3070, 'hahaha': 3071, 'amy': 3072, 'yuo': 3073, 'ese': 3074, 'tihs': 3075, 'million': 3076, 'alfie': 3077, 'nokias': 3078, 'profit': 3079, 'potential': 3080, 'july': 3081, 'massage': 3082, 'spare': 3083, 'dearer': 3084, 'rub': 3085, 'birla': 3086, 'soft': 3087, 'passionate': 3088, 'telly': 3089, 'doing': 3090, 'sue': 3091, 'apps': 3092, 'apple': 3093, 'kothi': 3094, 'river': 3095, 'penis': 3096, 'snowman': 3097, 'property': 3098, 'faith': 3099, 'aom': 3100, 'skilgme': 3101, 'winawk': 3102, 'edu': 3103, 'teaching': 3104, 'conform': 3105, 'ned': 3106, 'main': 3107, 'hamster': 3108, 'evr': 3109, 'low': 3110, 'cochin': 3111, 'skyped': 3112, 'kz': 3113, 'given': 3114, 'ultimatum': 3115, 'countin': 3116, 'aburo': 3117, 'favorite': 3118, 'adore': 3119, 'recognise': 3120, 'confused': 3121, 'premium': 3122, 'tooo': 3123, 'these': 3124, 'along': 3125, 'natural': 3126, 'anywhere': 3127, 'telephone': 3128, 'sorting': 3129, 'combine': 3130, 'shock': 3131, 'smith': 3132, 'hang': 3133, 'bro': 3134, 'juan': 3135, 'opening': 3136, 'natalie': 3137, 'subpoly': 3138, 'bc': 3139, 'temp': 3140, 'fan': 3141, 'tessy': 3142, 'favor': 3143, 'shijas': 3144, 'improved': 3145, 'cuddling': 3146, 'sleepwell': 3147, 'infront': 3148, 'apart': 3149, 'gods': 3150, 'rhythm': 3151, 'absolutly': 3152, 'activity': 3153, 'heater': 3154, 'degree': 3155, 'ebay': 3156, 'italian': 3157, 'chain': 3158, 'premier': 3159, 'acl': 3160, 'fav': 3161, 'lou': 3162, 'wise': 3163, 'leona': 3164, 'lyfu': 3165, 'lyf': 3166, 'ali': 3167, 'meow': 3168, 'having': 3169, 'finance': 3170, 'messy': 3171, 'yeh': 3172, 'mojibiola': 3173, 'caught': 3174, 'blind': 3175, 'responsibility': 3176, 'birthdate': 3177, 'receivea': 3178, 'kl': 3179, 'pre': 3180, 'europe': 3181, 'divorce': 3182, 'jsco': 3183, 'dime': 3184, 'practical': 3185, 'clearly': 3186, 'sary': 3187, 'vu': 3188, 'walked': 3189, 'pop': 3190, 'booty': 3191, 'bleh': 3192, 'boye': 3193, 'waheed': 3194, 'wedding': 3195, 'fa': 3196, 'horo': 3197, 'reckon': 3198, 'denis': 3199, 'forgotten': 3200, 'bread': 3201, 'closer': 3202, 'image': 3203, 'ofice': 3204, 'erm': 3205, 'profile': 3206, 'community': 3207, 'convinced': 3208, 'speedchat': 3209, 'ton': 3210, 'prince': 3211, 'dancing': 3212, 'steam': 3213, 'floor': 3214, 'germany': 3215, 'prepayment': 3216, 'yelling': 3217, 'plm': 3218, 'cashbin': 3219, 'cherish': 3220, 'expression': 3221, 'dough': 3222, 'interflora': 3223, 'drunken': 3224, 'suppose': 3225, 'vewy': 3226, 'agalla': 3227, 'jeremiah': 3228, 'lastest': 3229, 'stereophonics': 3230, 'marley': 3231, 'dizzee': 3232, 'racal': 3233, 'libertines': 3234, 'strokes': 3235, 'nookii': 3236, 'bookmark': 3237, 'learned': 3238, 'cozy': 3239, 'silly': 3240, 'pooja': 3241, 'pimple': 3242, 'sweatter': 3243, 'meg': 3244, 'raiden': 3245, 'november': 3246, 'nutter': 3247, 'cutter': 3248, 'ctter': 3249, 'cttergg': 3250, 'cttargg': 3251, 'ctargg': 3252, 'ctagg': 3253, 'ie': 3254, 'factory': 3255, 'arnt': 3256, 'xxxxxxxxxxxxxx': 3257, 'faglord': 3258, 'lightly': 3259, 'checkboxes': 3260, 'gurl': 3261, 'appropriate': 3262, 'haircut': 3263, 'breezy': 3264, 'whos': 3265, 'predicting': 3266, 'accumulation': 3267, 'screamed': 3268, 'forgive': 3269, 'villa': 3270, 'tactful': 3271, 'onluy': 3272, 'offcampus': 3273, 'mro': 3274, 'te': 3275, 'kanji': 3276, 'weekday': 3277, 'nail': 3278, 'xafter': 3279, 'cst': 3280, 'chg': 3281, 'cashed': 3282, 'announced': 3283, 'blog': 3284, 'until': 3285, 'slipper': 3286, 'newquay': 3287, 'while': 3288, 'talkin': 3289, 'browsin': 3290, 'compulsory': 3291, 'misscall': 3292, 'frndz': 3293, 'barred': 3294, 'twat': 3295, 'dungerees': 3296, 'decking': 3297, 'punch': 3298, 'dust': 3299, 'fondly': 3300, 'bein': 3301, 'thot': 3302, 'changing': 3303, 'diaper': 3304, 'owed': 3305, 'crucify': 3306, 'farting': 3307, 'kay': 3308, 'shanghai': 3309, 'cya': 3310, 'rimac': 3311, 'ava': 3312, 'goodtime': 3313, 'oli': 3314, 'melnite': 3315, 'ifink': 3316, 'everythin': 3317, 'audrie': 3318, 'autocorrect': 3319, 'leanne': 3320, 'bare': 3321, 'cncl': 3322, 'stopcs': 3323, 'lark': 3324, 'mids': 3325, 'gamb': 3326, 'onbus': 3327, 'donyt': 3328, 'latelyxxx': 3329, 'foned': 3330, 'chuck': 3331, 'highest': 3332, 'maximum': 3333, 'bids': 3334, 'ch': 3335, 'marvel': 3336, 'ultimate': 3337, 'sometme': 3338, 'pilates': 3339, 'suffers': 3340, 'whatsup': 3341, 'loo': 3342, 'ed': 3343, 'dependent': 3344, 'elama': 3345, 'mudyadhu': 3346, 'lacking': 3347, 'particular': 3348, 'dramastorm': 3349, 'digi': 3350, 'coupla': 3351, 'textbook': 3352, 'algorithm': 3353, 'edition': 3354, 'forced': 3355, 'tortilla': 3356, 'yummmm': 3357, 'plum': 3358, 'smack': 3359, 'arestaurant': 3360, 'squid': 3361, 'dosomething': 3362, 'utxt': 3363, 'hlp': 3364, 'taj': 3365, 'lesser': 3366, 'known': 3367, 'arises': 3368, 'hari': 3369, 'arranging': 3370, 'supose': 3371, 'babysit': 3372, 'squishy': 3373, 'mwahs': 3374, 'significant': 3375, 'shade': 3376, 'nordstrom': 3377, 'swan': 3378, 'ujhhhhhhh': 3379, 'sandiago': 3380, 'parantella': 3381, 'lane': 3382, 'boooo': 3383, 'converter': 3384, 'videos': 3385, 'shsex': 3386, 'netun': 3387, 'fgkslpopw': 3388, 'fgkslpo': 3389, 'webadres': 3390, 'geting': 3391, 'general': 3392, 'western': 3393, 'lifebook': 3394, 'aaooooright': 3395, 'harish': 3396, 'transfred': 3397, 'acnt': 3398, 'sexiest': 3399, 'dirtiest': 3400, 'gep': 3401, 'dramatic': 3402, 'schools': 3403, 'wikipedia': 3404, 'restriction': 3405, 'buddy': 3406, 'somewhr': 3407, 'crush': 3408, 'polo': 3409, 'lovin': 3410, 'typical': 3411, 'evaluation': 3412, 'cld': 3413, 'nosh': 3414, 'wondar': 3415, 'flim': 3416, 'explicitly': 3417, 'nora': 3418, 'shiny': 3419, 'warming': 3420, 'nigh': 3421, 'dled': 3422, 'nowhere': 3423, 'ikno': 3424, 'doesdiscount': 3425, 'shitinnit': 3426, 'byatch': 3427, 'whassup': 3428, 'hellogorgeous': 3429, 'nitw': 3430, 'texd': 3431, 'hopeu': 3432, 'ward': 3433, 'jaz': 3434, 'busetop': 3435, 'walkabout': 3436, 'txtstar': 3437, 'cheyyamo': 3438, 'asus': 3439, 'reformat': 3440, 'allday': 3441, 'clas': 3442, 'strict': 3443, 'lessons': 3444, 'shb': 3445, 'entertaining': 3446, 'hugh': 3447, 'laurie': 3448, 'indeed': 3449, 'horniest': 3450, 'lolnice': 3451, 'faggot': 3452, 'seing': 3453, 'asssssholeeee': 3454, 'spageddies': 3455, 'matthew': 3456, 'onum': 3457, 'eachother': 3458, 'breadstick': 3459, 'thnx': 3460, 'nearby': 3461, 'cliff': 3462, 'steamboat': 3463, 'achan': 3464, 'amma': 3465, 'dreading': 3466, 'thou': 3467, 'steyn': 3468, 'wicket': 3469, 'wining': 3470, 'splashmobile': 3471, 'subscrition': 3472, 'experiment': 3473, 'shindig': 3474, 'textin': 3475, 'tarpon': 3476, 'fumbling': 3477, 'lavender': 3478, 'entirely': 3479, 'dock': 3480, 'rolled': 3481, 'newscaster': 3482, 'dabbles': 3483, 'flute': 3484, 'wheel': 3485, 'rcb': 3486, 'battle': 3487, 'kochi': 3488, 'bao': 3489, 'sugardad': 3490, 'vegas': 3491, 'vega': 3492, 'liquor': 3493, 'loko': 3494, 'beverage': 3495, 'pist': 3496, 'fffff': 3497, 'phonebook': 3498, 'payback': 3499, 'popping': 3500, 'ibuprofen': 3501, 'correctly': 3502, 'marsms': 3503, 'utele': 3504, 'checkin': 3505, 'stressfull': 3506, 'pshew': 3507, 'ninish': 3508, 'icky': 3509, 'freek': 3510, 'colin': 3511, 'farrell': 3512, 'swat': 3513, 'popcorn': 3514, 'mre': 3515, 'beerage': 3516, 'occasion': 3517, 'celebrated': 3518, 'reflection': 3519, 'values': 3520, 'desires': 3521, 'affections': 3522, 'traditions': 3523, 'frog': 3524, 'axel': 3525, 'akon': 3526, 'eyed': 3527, 'crashing': 3528, 'rounder': 3529, 'required': 3530, 'gei': 3531, 'tron': 3532, 'dl': 3533, 'soooo': 3534, 'provider': 3535, 'tming': 3536, 'ryder': 3537, 'gray': 3538, 'listn': 3539, 'watevr': 3540, 'headset': 3541, 'adp': 3542, 'mostly': 3543, 'footbl': 3544, 'crckt': 3545, 'hero': 3546, 'apt': 3547, 'optin': 3548, 'bbc': 3549, 'lasting': 3550, 'scraped': 3551, 'barrel': 3552, 'misfit': 3553, 'survey': 3554, 'props': 3555, 'bull': 3556, 'floating': 3557, 'rgent': 3558, 'radiator': 3559, 'macha': 3560, 'mindset': 3561, 'videosound': 3562, 'videosounds': 3563, 'musicnews': 3564, 'recorded': 3565, 'orh': 3566, 'fifty': 3567, 'thousad': 3568, 'smoothly': 3569, 'hoped': 3570, 'challenging': 3571, 'gyno': 3572, 'belong': 3573, 'phasing': 3574, 'fourth': 3575, 'dimension': 3576, 'prasanth': 3577, 'ettans': 3578, 'brainy': 3579, 'nevr': 3580, 'unrecognized': 3581, 'somone': 3582, 'valuing': 3583, 'definitly': 3584, 'undrstnd': 3585, 'flip': 3586, 'ripped': 3587, 'clubmoby': 3588, 'handsomes': 3589, 'beauty': 3590, 'wtlp': 3591, 'pax': 3592, 'deposit': 3593, 'leading': 3594, 'pause': 3595, 'reception': 3596, 'inner': 3597, 'tigress': 3598, 'pickle': 3599, 'uworld': 3600, 'qbank': 3601, 'assessment': 3602, 'court': 3603, 'knickers': 3604, 'nikiyu': 3605, 'rct': 3606, 'thnq': 3607, 'adrian': 3608, 'vatian': 3609, 'tonght': 3610, 'inever': 3611, 'objection': 3612, 'toledo': 3613, 'flavour': 3614, 'soc': 3615, 'va': 3616, 'tex': 3617, 'mecause': 3618, 'werebored': 3619, 'okden': 3620, 'uin': 3621, 'likeyour': 3622, 'updat': 3623, 'countinlots': 3624, 'loveme': 3625, 'urgh': 3626, 'coach': 3627, 'duvet': 3628, 'predictive': 3629, 'pap': 3630, 'twinks': 3631, 'scallies': 3632, 'skin': 3633, 'jock': 3634, 'cmon': 3635, 'showr': 3636, 'ccna': 3637, 'kotees': 3638, 'taxi': 3639, 'arithmetic': 3640, 'percentage': 3641, 'hcl': 3642, 'requires': 3643, 'freshers': 3644, 'ms': 3645, 'suman': 3646, 'telephonic': 3647, 'justify': 3648, 'ruining': 3649, 'mike': 3650, 'hussey': 3651, 'filthyguys': 3652, 'rhode': 3653, 'bong': 3654, 'antha': 3655, 'corrct': 3656, 'dane': 3657, 'smartcall': 3658, 'subscriptn': 3659, 'landlineonly': 3660, 'ahhhh': 3661, 'ridden': 3662, 'humanity': 3663, 'cfca': 3664, 'cer': 3665, 'florida': 3666, 'fredericksburg': 3667, 'cab': 3668, 'resuming': 3669, 'reapply': 3670, 'sq': 3671, 'arrival': 3672, 'jez': 3673, 'todo': 3674, 'workand': 3675, 'whilltake': 3676, 'thinks': 3677, 'getha': 3678, 'biro': 3679, 'requirement': 3680, 'lunchtime': 3681, 'organise': 3682, 'oral': 3683, 'invitation': 3684, 'weddin': 3685, 'ola': 3686, 'reliant': 3687, 'strip': 3688, 'postal': 3689, 'referin': 3690, 'bridge': 3691, 'lager': 3692, 'rocking': 3693, 'ash': 3694, 'heavily': 3695, 'answerin': 3696, 'reasonable': 3697, 'fetching': 3698, 'comingdown': 3699, 'initiate': 3700, 'consent': 3701, 'darker': 3702, 'styling': 3703, 'trained': 3704, 'advisor': 3705, 'dialling': 3706, 'blimey': 3707, 'exercise': 3708, 'chez': 3709, 'jules': 3710, 'wipro': 3711, 'jot': 3712, 'salad': 3713, 'parking': 3714, 'bawling': 3715, 'failure': 3716, 'failing': 3717, 'pai': 3718, 'seh': 3719, 'hu': 3720, 'citizen': 3721, 'navigate': 3722, 'choosing': 3723, 'require': 3724, 'guidance': 3725, 'footy': 3726, 'stadium': 3727, 'large': 3728, 'coca': 3729, 'cola': 3730, 'kg': 3731, 'stability': 3732, 'tranquility': 3733, 'vibrant': 3734, 'colourful': 3735, 'goten': 3736, 'scammer': 3737, 'avalarr': 3738, 'hollalater': 3739, 'betta': 3740, 'aging': 3741, 'product': 3742, 'easily': 3743, 'forgets': 3744, 'arabian': 3745, 'steed': 3746, 'mmmmmm': 3747, 'allo': 3748, 'braved': 3749, 'triumphed': 3750, 'jenne': 3751, 'mornin': 3752, 'thanku': 3753, 'heat': 3754, 'applyed': 3755, 'ooooooh': 3756, 'yoville': 3757, 'wnevr': 3758, 'fal': 3759, 'fals': 3760, 'yen': 3761, 'madodu': 3762, 'nav': 3763, 'pretsorginta': 3764, 'nammanna': 3765, 'pretsovru': 3766, 'alwa': 3767, 'foward': 3768, 'intrude': 3769, 'guoyang': 3770, 'plural': 3771, 'gota': 3772, 'nudist': 3773, 'themed': 3774, 'rearrange': 3775, 'dormitory': 3776, 'astronomer': 3777, 'starer': 3778, 'lies': 3779, 'recount': 3780, 'hitler': 3781, 'eleven': 3782, 'shag': 3783, 'sextextuk': 3784, 'xxuk': 3785, 'ubandu': 3786, 'installing': 3787, 'disk': 3788, 'machi': 3789, 'thmarch': 3790, 'availa': 3791, 'stalking': 3792, 'sth': 3793, 'spec': 3794, 'miserable': 3795, 'birth': 3796, 'gut': 3797, 'wrenching': 3798, 'cramp': 3799, 'perspective': 3800, 'envy': 3801, 'chillaxin': 3802, 'prasad': 3803, 'rodger': 3804, 'burns': 3805, 'appendix': 3806, 'outsider': 3807, 'forfeit': 3808, 'yan': 3809, 'jiu': 3810, 'vill': 3811, 'orc': 3812, 'immed': 3813, 'offense': 3814, 'wrking': 3815, 'stitch': 3816, 'trouser': 3817, 'unconvinced': 3818, 'elaborate': 3819, 'willpower': 3820, 'attracts': 3821, 'swell': 3822, 'ello': 3823, 'puppy': 3824, 'noise': 3825, 'dizzamn': 3826, 'suitemates': 3827, 'chief': 3828, 'tke': 3829, 'ciao': 3830, 'lul': 3831, 'nurse': 3832, 'shes': 3833, 'obese': 3834, 'oyea': 3835, 'concentration': 3836, 'drunkard': 3837, 'stopbcm': 3838, 'sf': 3839, 'feelin': 3840, 'shorter': 3841, 'gaze': 3842, 'nationwide': 3843, 'newport': 3844, 'julianaland': 3845, 'oblivious': 3846, 'lotta': 3847, 'childporn': 3848, 'fne': 3849, 'hugging': 3850, 'actual': 3851, 'harder': 3852, 'nbme': 3853, 'rayman': 3854, 'golf': 3855, 'activ': 3856, 'termsapply': 3857, 'token': 3858, 'liking': 3859, 'hui': 3860, 'cooped': 3861, 'printer': 3862, 'groovy': 3863, 'groovying': 3864, 'unit': 3865, 'practicing': 3866, 'accent': 3867, 'dental': 3868, 'nmde': 3869, 'success': 3870, 'starve': 3871, 'photoshop': 3872, 'command': 3873, 'shant': 3874, 'jia': 3875, 'ashwini': 3876, 'progress': 3877, 'mention': 3878, 'served': 3879, 'theyre': 3880, 'hhahhaahahah': 3881, 'nig': 3882, 'leonardo': 3883, 'crammed': 3884, 'incredible': 3885, 'fwd': 3886, 'jod': 3887, 'keris': 3888, 'smidgin': 3889, 'cocksucker': 3890, 'ipads': 3891, 'worthless': 3892, 'novelty': 3893, 'shouting': 3894, 'absolutely': 3895, 'hittng': 3896, 'reflex': 3897, 'spirit': 3898, 'sunroof': 3899, 'gravel': 3900, 'seventeen': 3901, 'saibaba': 3902, 'colany': 3903, 'armenia': 3904, 'swann': 3905, 'sterm': 3906, 'resolved': 3907, 'nri': 3908, 'studyn': 3909, 'stubborn': 3910, 'hospitals': 3911, 'anal': 3912, 'gang': 3913, 'knee': 3914, 'expose': 3915, 'wicked': 3916, 'ew': 3917, 'nearer': 3918, 'flaky': 3919, 'data': 3920, 'analysis': 3921, 'oclock': 3922, 'bash': 3923, 'treasure': 3924, 'bognor': 3925, 'splendid': 3926, 'amk': 3927, 'upon': 3928, 'hostile': 3929, 'bot': 3930, 'justbeen': 3931, 'overa': 3932, 'mush': 3933, 'stressful': 3934, 'goggles': 3935, 'zaher': 3936, 'button': 3937, 'coincidence': 3938, 'ree': 3939, 'laready': 3940, 'yeesh': 3941, 'crying': 3942, 'imprtant': 3943, 'tomorw': 3944, 'suffering': 3945, 'dysentry': 3946, 'qi': 3947, 'suddenly': 3948, 'bathroom': 3949, 'coco': 3950, 'filthy': 3951, 'tobacco': 3952, 'ultimately': 3953, 'tor': 3954, 'motive': 3955, 'tui': 3956, 'achieve': 3957, 'korli': 3958, 'audiitions': 3959, 'relocate': 3960, 'sorta': 3961, 'blown': 3962, 'quarter': 3963, 'logging': 3964, 'geoenvironmental': 3965, 'implication': 3966, 'meaningful': 3967, 'compromised': 3968, 'sts': 3969, 'sane': 3970, 'helping': 3971, 'forwarding': 3972, 'burgundy': 3973, 'captaining': 3974, 'mountain': 3975, 'deer': 3976, 'records': 3977, 'install': 3978, 'browse': 3979, 'artist': 3980, 'mesages': 3981, 'wahala': 3982, 'bani': 3983, 'taco': 3984, 'raja': 3985, 'burrito': 3986, 'worc': 3987, 'foregate': 3988, 'shrub': 3989, 'mila': 3990, 'blonde': 3991, 'mtalk': 3992, 'pp': 3993, 'increment': 3994, 'instant': 3995, 'wins': 3996, 'riley': 3997, 'aptitude': 3998, 'manageable': 3999, 'uncomfortable': 4000, 'perumbavoor': 4001, 'wifi': 4002, 'blanked': 4003, 'amrita': 4004, 'appear': 4005, 'moving': 4006, 'spin': 4007, 'sr': 4008, 'pixel': 4009, 'optical': 4010, 'doom': 4011, 'predicte': 4012, 'floppy': 4013, 'snappy': 4014, 'opened': 4015, 'samus': 4016, 'shoulder': 4017, 'designation': 4018, 'developer': 4019, 'identification': 4020, 'minded': 4021, 'minapn': 4022, 'zoom': 4023, 'tantrum': 4024, 'involve': 4025, 'imposed': 4026, 'thus': 4027, 'gokila': 4028, 'webpage': 4029, 'packing': 4030, 'zhong': 4031, 'qing': 4032, 'act': 4033, 'underdtand': 4034, 'string': 4035, 'ea': 4036, 'otbox': 4037, 'ws': 4038, 'dusk': 4039, 'puzzle': 4040, 'temales': 4041, 'chk': 4042, 'dict': 4043, 'borrow': 4044, 'motivate': 4045, 'darkness': 4046, 'gotto': 4047, 'screwd': 4048, 'bothering': 4049, 'romcapspam': 4050, 'presence': 4051, 'outgoing': 4052, 'surname': 4053, 'clue': 4054, 'specify': 4055, 'domain': 4056, 'nusstu': 4057, 'complacent': 4058, 'grr': 4059, 'pharmacy': 4060, 'tallent': 4061, 'wasting': 4062, 'boggy': 4063, 'biatch': 4064, 'bimbo': 4065, 'ugo': 4066, 'afterwards': 4067, 'purse': 4068, 'motherfucker': 4069, 'companion': 4070, 'chef': 4071, 'listener': 4072, 'organizer': 4073, 'sympathetic': 4074, 'athletic': 4075, 'courageous': 4076, 'determined': 4077, 'dependable': 4078, 'psychologist': 4079, 'pest': 4080, 'exterminator': 4081, 'psychiatrist': 4082, 'healer': 4083, 'stylist': 4084, 'aaniye': 4085, 'pudunga': 4086, 'venaam': 4087, 'ami': 4088, 'parchi': 4089, 'kicchu': 4090, 'kaaj': 4091, 'korte': 4092, 'iccha': 4093, 'korche': 4094, 'tul': 4095, 'loosing': 4096, 'que': 4097, 'buen': 4098, 'tiempo': 4099, 'hype': 4100, 'studio': 4101, 'goigng': 4102, 'perfume': 4103, 'stoner': 4104, 'lodge': 4105, 'pleassssssseeeeee': 4106, 'sportsx': 4107, 'fringe': 4108, 'strongly': 4109, 'sacrifice': 4110, 'creativity': 4111, 'stifled': 4112, 'cthen': 4113, 'conclusion': 4114, 'hairdresser': 4115, 'beforehand': 4116, 'txtx': 4117, 'arrived': 4118, 'lambda': 4119, 'jacket': 4120, 'ystrday': 4121, 'fainting': 4122, 'housework': 4123, 'cuppa': 4124, 'logoff': 4125, 'emailed': 4126, 'yifeng': 4127, 'noisy': 4128, 'drms': 4129, 'cramps': 4130, 'alot': 4131, 'freaky': 4132, 'honestly': 4133, 'promptly': 4134, 'burnt': 4135, 'dull': 4136, 'proper': 4137, 'tongued': 4138, 'velachery': 4139, 'alle': 4140, 'mone': 4141, 'eppolum': 4142, 'allalo': 4143, 'pert': 4144, 'potato': 4145, 'toilet': 4146, 'stolen': 4147, 'cop': 4148, 'stuffing': 4149, 'arms': 4150, 'tarot': 4151, 'texts': 4152, 'waqt': 4153, 'pehle': 4154, 'naseeb': 4155, 'zyada': 4156, 'kisi': 4157, 'ko': 4158, 'kuch': 4159, 'milta': 4160, 'hum': 4161, 'sochte': 4162, 'jeetey': 4163, 'cheque': 4164, 'greece': 4165, 'machine': 4166, 'sitter': 4167, 'kaitlyn': 4168, 'pleasured': 4169, 'fring': 4170, 'chuckin': 4171, 'trainners': 4172, 'carryin': 4173, 'bac': 4174, 'psp': 4175, 'posible': 4176, 'century': 4177, 'frwd': 4178, 'questioned': 4179, 'gardener': 4180, 'vegetable': 4181, 'neighbour': 4182, 'seeking': 4183, 'dang': 4184, 'maintain': 4185, 'jas': 4186, 'alto': 4187, 'operate': 4188, 'anyones': 4189, 'mylife': 4190, 'lifted': 4191, 'approach': 4192, 'dub': 4193, 'je': 4194, 'stars': 4195, 'musical': 4196, 'multimedia': 4197, 'tram': 4198, 'vic': 4199, 'antelope': 4200, 'toplay': 4201, 'fieldof': 4202, 'selfindependence': 4203, 'contention': 4204, 'experiencehttp': 4205, 'vouch': 4206, 'etlp': 4207, 'kilo': 4208, 'balls': 4209, 'embassy': 4210, 'forgt': 4211, 'squeezed': 4212, 'openin': 4213, 'formal': 4214, 'uawake': 4215, 'feellikw': 4216, 'justfound': 4217, 'aletter': 4218, 'thatmum': 4219, 'gotmarried': 4220, 'thnov': 4221, 'ourbacks': 4222, 'fuckinnice': 4223, 'shifad': 4224, 'raised': 4225, 'thkin': 4226, 'coughing': 4227, 'pandy': 4228, 'technology': 4229, 'stoptx': 4230, 'trivia': 4231, 'accommodationvouchers': 4232, 'mustprovide': 4233, 'gauti': 4234, 'sehwag': 4235, 'bead': 4236, 'renewal': 4237, 'stu': 4238, 'truble': 4239, 'evone': 4240, 'hates': 4241, 'thousand': 4242, 'tattoo': 4243, 'watever': 4244, 'built': 4245, 'lonlines': 4246, 'lotz': 4247, 'apeshit': 4248, 'jide': 4249, 'visiting': 4250, 'increase': 4251, 'jolt': 4252, 'problematic': 4253, 'noice': 4254, 'defer': 4255, 'admission': 4256, 'relieved': 4257, 'westonzoyland': 4258, 'adventure': 4259, 'dying': 4260, 'ape': 4261, 'intrepid': 4262, 'duo': 4263, 'french': 4264, 'fooled': 4265, 'shijutta': 4266, 'anyplaces': 4267, 'casualty': 4268, 'includes': 4269, 'comfort': 4270, 'sold': 4271, 'aq': 4272, 'eventually': 4273, 'tolerance': 4274, 'sonathaya': 4275, 'soladha': 4276, 'cro': 4277, 'deltomorrow': 4278, 'deficient': 4279, 'tix': 4280, 'meetins': 4281, 'cumin': 4282, 'geva': 4283, 'mint': 4284, 'smokin': 4285, 'leo': 4286, 'secretly': 4287, 'datebox': 4288, 'essexcm': 4289, 'xn': 4290, 'db': 4291, 'professional': 4292, 'tiger': 4293, 'woods': 4294, 'skateboarding': 4295, 'despite': 4296, 'thrown': 4297, 'bandage': 4298, 'powerful': 4299, 'weapon': 4300, 'legitimat': 4301, 'efreefone': 4302, 'them': 4303, 'sumfing': 4304, 'triple': 4305, 'echo': 4306, 'repent': 4307, 'mission': 4308, 'soz': 4309, 'imat': 4310, 'mums': 4311, 'wrks': 4312, 'asa': 4313, 'steve': 4314, 'asda': 4315, 'count': 4316, 'celebration': 4317, 'compliments': 4318, 'lifeis': 4319, 'daywith': 4320, 'somewheresomeone': 4321, 'tosend': 4322, 'africa': 4323, 'avin': 4324, 'brisk': 4325, 'gosh': 4326, 'spose': 4327, 'customercare': 4328, 'surly': 4329, 'tai': 4330, 'feng': 4331, 'reservation': 4332, 'resolution': 4333, 'frank': 4334, 'sao': 4335, 'occupied': 4336, 'slaaaaave': 4337, 'summon': 4338, 'whens': 4339, 'hasbro': 4340, 'august': 4341, 'jump': 4342, 'hoop': 4343, 'firsg': 4344, 'weirdy': 4345, 'cooky': 4346, 'gail': 4347, 'tr': 4348, 'yaxxx': 4349, 'rats': 4350, 'theme': 4351, 'vid': 4352, 'keyword': 4353, 'ouch': 4354, 'stayed': 4355, 'cantdo': 4356, 'anythingtomorrow': 4357, 'myparents': 4358, 'aretaking': 4359, 'outfor': 4360, 'katexxx': 4361, 'drama': 4362, 'struggling': 4363, 'ego': 4364, 'necessity': 4365, 'reppurcussions': 4366, 'magic': 4367, 'loose': 4368, 'janx': 4369, 'dads': 4370, 'jjc': 4371, 'tendency': 4372, 'dubsack': 4373, 'parachute': 4374, 'wahleykkum': 4375, 'sharing': 4376, 'inshah': 4377, 'spatula': 4378, 'kappa': 4379, 'feathery': 4380, 'bowa': 4381, 'bruce': 4382, 'fletcher': 4383, 'esaplanade': 4384, 'correction': 4385, 'stage': 4386, 'hidden': 4387, 'ortxt': 4388, 'summers': 4389, 'matched': 4390, 'young': 4391, 'basketball': 4392, 'outdoors': 4393, 'uhhhhrmm': 4394, 'youre': 4395, 'purple': 4396, 'yelow': 4397, 'brown': 4398, 'dabooks': 4399, 'classmate': 4400, 'alibi': 4401, 'divert': 4402, 'wadebridge': 4403, 'natalja': 4404, 'notified': 4405, 'marketing': 4406, 'rajitha': 4407, 'raj': 4408, 'ranju': 4409, 'throat': 4410, 'scratch': 4411, 'gopalettan': 4412, 'participate': 4413, 'urfeeling': 4414, 'bettersn': 4415, 'probthat': 4416, 'overdose': 4417, 'lovejen': 4418, 'easiest': 4419, 'barcelona': 4420, 'yoyyooo': 4421, 'usb': 4422, 'irritation': 4423, 'fortune': 4424, 'judgemental': 4425, 'missy': 4426, 'approve': 4427, 'panalam': 4428, 'unconscious': 4429, 'abnormally': 4430, 'grumble': 4431, 'miller': 4432, 'mix': 4433, 'html': 4434, 'mfl': 4435, 'sonetimes': 4436, 'rough': 4437, 'spjanuary': 4438, 'everyday': 4439, 'fatty': 4440, 'emerging': 4441, 'fiend': 4442, 'impede': 4443, 'hesitant': 4444, 'sef': 4445, 'anjie': 4446, 'fps': 4447, 'snowboarding': 4448, 'gumby': 4449, 'cheese': 4450, 'ffffffffff': 4451, 'sang': 4452, 'uptown': 4453, 'prompt': 4454, 'nydc': 4455, 'wheellock': 4456, 'aid': 4457, 'patent': 4458, 'ref': 4459, 'barring': 4460, 'sudden': 4461, 'influx': 4462, 'arguing': 4463, 'delay': 4464, 'necessary': 4465, 'thinl': 4466, 'tiime': 4467, 'practising': 4468, 'curtsey': 4469, 'drizzling': 4470, 'lennon': 4471, 'absence': 4472, 'jon': 4473, 'spain': 4474, 'dinero': 4475, 'pe': 4476, 'rv': 4477, 'rvx': 4478, 'withdraw': 4479, 'anyhow': 4480, 'spun': 4481, 'wrld': 4482, 'pity': 4483, 'asthma': 4484, 'attack': 4485, 'pract': 4486, 'flung': 4487, 'chickened': 4488, 'woould': 4489, 'spreadsheet': 4490, 'determine': 4491, 'entire': 4492, 'zac': 4493, 'networks': 4494, 'responsible': 4495, 'supplier': 4496, 'resent': 4497, 'queries': 4498, 'customersqueries': 4499, 'netvision': 4500, 'lindsay': 4501, 'heron': 4502, 'salon': 4503, 'dodgey': 4504, 'awww': 4505, 'tok': 4506, 'chit': 4507, 'logon': 4508, 'zf': 4509, 'prevent': 4510, 'dehydration': 4511, 'fluid': 4512, 'honeymoon': 4513, 'outfit': 4514, 'yourself': 4515, 'atleast': 4516, 'shakespeare': 4517, 'adventuring': 4518, 'invoice': 4519, 'shun': 4520, 'bian': 4521, 'glass': 4522, 'exhibition': 4523, 'amused': 4524, 'miwa': 4525, 'incomm': 4526, 'frankie': 4527, 'bennys': 4528, 'dialogue': 4529, 'reltnship': 4530, 'howda': 4531, 'mathe': 4532, 'samachara': 4533, 'heroes': 4534, 'realised': 4535, 'wahay': 4536, 'vomiting': 4537, 'backwards': 4538, 'southern': 4539, 'evaporated': 4540, 'stealing': 4541, 'employer': 4542, 'refund': 4543, 'begun': 4544, 'registration': 4545, 'permanent': 4546, 'residency': 4547, 'ambrith': 4548, 'madurai': 4549, 'dha': 4550, 'marrge': 4551, 'lyric': 4552, 'greatness': 4553, 'raviyog': 4554, 'peripherals': 4555, 'bhayandar': 4556, 'ktv': 4557, 'soul': 4558, 'spark': 4559, 'rawring': 4560, 'xoxo': 4561, 'flippin': 4562, 'jd': 4563, 'accounts': 4564, 'unfortunately': 4565, 'soryda': 4566, 'sory': 4567, 'fills': 4568, 'reassurance': 4569, 'textand': 4570, 'deliveredtomorrow': 4571, 'messages': 4572, 'pool': 4573, 'jacuzzi': 4574, 'devouring': 4575, 'airtel': 4576, 'broadband': 4577, 'processed': 4578, 'installation': 4579, 'dawn': 4580, 'refreshed': 4581, 'burden': 4582, 'annoncement': 4583, 'seperated': 4584, 'ud': 4585, 'abroad': 4586, 'xxsp': 4587, 'visionsms': 4588, 'stopcost': 4589, 'fedex': 4590, 'lodging': 4591, 'reminded': 4592, 'jb': 4593, 'begging': 4594, 'slower': 4595, 'maniac': 4596, 'breeze': 4597, 'fresh': 4598, 'twittering': 4599, 'como': 4600, 'listened': 4601, 'plaid': 4602, 'hilarious': 4603, 'braindance': 4604, 'ofstuff': 4605, 'aphex': 4606, 'abel': 4607, 'recharge': 4608, 'handsome': 4609, 'finding': 4610, 'dogbreath': 4611, 'sounding': 4612, 'breaker': 4613, 'deluxe': 4614, 'feature': 4615, 'graphic': 4616, 'bbdeluxe': 4617, 'nottingham': 4618, 'mph': 4619, 'virtual': 4620, 'girlie': 4621, 'bears': 4622, 'nick': 4623, 'hlday': 4624, 'camp': 4625, 'amrca': 4626, 'serena': 4627, 'warwick': 4628, 'tmw': 4629, 'canceled': 4630, 'havn': 4631, 'affectionate': 4632, 'pump': 4633, 'useless': 4634, 'dessert': 4635, 'lyricalladie': 4636, 'hmmross': 4637, 'uncountable': 4638, 'trend': 4639, 'con': 4640, 'description': 4641, 'nuclear': 4642, 'fusion': 4643, 'iter': 4644, 'jet': 4645, 'ger': 4646, 'toking': 4647, 'syd': 4648, 'raglan': 4649, 'cricket': 4650, 'closeby': 4651, 'disturbing': 4652, 'cutie': 4653, 'prone': 4654, 'gnarls': 4655, 'barkleys': 4656, 'grab': 4657, 'hearin': 4658, 'cedar': 4659, 'physic': 4660, 'witin': 4661, 'downon': 4662, 'theacusations': 4663, 'itxt': 4664, 'iwana': 4665, 'wotu': 4666, 'thew': 4667, 'haventcn': 4668, 'nething': 4669, 'jewelry': 4670, 'cereal': 4671, 'gari': 4672, 'ndship': 4673, 'needle': 4674, 'conected': 4675, 'lucyxx': 4676, 'bsn': 4677, 'advising': 4678, 'dancin': 4679, 'seeker': 4680, 'twin': 4681, 'woo': 4682, 'hoo': 4683, 'breaking': 4684, 'cstore': 4685, 'merely': 4686, 'relationship': 4687, 'wherevr': 4688, 'gudnyt': 4689, 'rt': 4690, 'redeemable': 4691, 'pours': 4692, 'hurts': 4693, 'banneduk': 4694, 'batt': 4695, 'split': 4696, 'punto': 4697, 'ummma': 4698, 'loans': 4699, 'noworriesloans': 4700, 'sophas': 4701, 'secondary': 4702, 'applying': 4703, 'ogunrinde': 4704, 'corect': 4705, 'speling': 4706, 'soo': 4707, 'muchxxlove': 4708, 'locaxx': 4709, 'holby': 4710, 'spoil': 4711, 'contribute': 4712, 'greatly': 4713, 'maintaining': 4714, 'northampton': 4715, 'skyving': 4716, 'cutest': 4717, 'garment': 4718, 'secure': 4719, 'extreme': 4720, 'sic': 4721, 'prashanthettan': 4722, 'follows': 4723, 'subsequent': 4724, 'scrumptious': 4725, 'shoppin': 4726, 'bcaz': 4727, 'maangalyam': 4728, 'alaipayuthe': 4729, 'subtoitles': 4730, 'lara': 4731, 'natwest': 4732, 'prsn': 4733, 'nothin': 4734, 'younger': 4735, 'prakesh': 4736, 'ibm': 4737, 'bw': 4738, 'babyjontet': 4739, 'trash': 4740, 'singapore': 4741, 'squeeeeeze': 4742, 'frndshp': 4743, 'luvd': 4744, 'hall': 4745, 'hesitation': 4746, 'intha': 4747, 'ponnungale': 4748, 'ipaditan': 4749, 'payed': 4750, 'suganya': 4751, 'mobstorequiz': 4752, 'beneath': 4753, 'pale': 4754, 'hm': 4755, 'ore': 4756, 'owo': 4757, 'fro': 4758, 'ummifying': 4759, 'gprs': 4760, 'authorise': 4761, 'hack': 4762, 'backdoor': 4763, 'fraction': 4764, 'neo': 4765, 'dps': 4766, 'dhanush': 4767, 'strt': 4768, 'ltdhelpdesk': 4769, 'rushing': 4770, 'sculpture': 4771, 'entrepreneur': 4772, 'ericson': 4773, 'der': 4774, 'luks': 4775, 'modl': 4776, 'complaining': 4777, 'vague': 4778, 'accounting': 4779, 'delayed': 4780, 'housing': 4781, 'agency': 4782, 'renting': 4783, 'yf': 4784, 'thinkthis': 4785, 'dangerous': 4786, 'ctxt': 4787, 'impressed': 4788, 'panasonic': 4789, 'bluetoothhdset': 4790, 'doublemins': 4791, 'doubletxt': 4792, 'showered': 4793, 'ything': 4794, 'signin': 4795, 'wv': 4796, 'fightng': 4797, 'dificult': 4798, 'quitting': 4799, 'wudn': 4800, 'mc': 4801, 'passion': 4802, 'dena': 4803, 'theoretically': 4804, 'yeovil': 4805, 'motor': 4806, 'hangin': 4807, 'hitter': 4808, 'necesity': 4809, 'witout': 4810, 'colleg': 4811, 'wth': 4812, 'function': 4813, 'event': 4814, 'espe': 4815, 'irritated': 4816, 'wrd': 4817, 'wthout': 4818, 'takecare': 4819, 'alian': 4820, 'asia': 4821, 'nigro': 4822, 'horse': 4823, 'racing': 4824, 'rice': 4825, 'nange': 4826, 'bakra': 4827, 'kalstiya': 4828, 'pant': 4829, 'emigrated': 4830, 'hopeful': 4831, 'lakh': 4832, 'nichols': 4833, 'middle': 4834, 'dealing': 4835, 'shite': 4836, 'kip': 4837, 'irene': 4838, 'ere': 4839, 'cres': 4840, 'pouch': 4841, 'dip': 4842, 'forgiveness': 4843, 'arr': 4844, 'oscar': 4845, 'interest': 4846, 'figuring': 4847, 'needing': 4848, 'asjesus': 4849, 'wrote': 4850, 'completing': 4851, 'mapquest': 4852, 'dogwood': 4853, 'didntgive': 4854, 'bellearlier': 4855, 'non': 4856, 'arsenal': 4857, 'dartboard': 4858, 'treble': 4859, 'manual': 4860, 'reset': 4861, 'troubleshooting': 4862, 'concerned': 4863, 'gua': 4864, 'faber': 4865, 'abbey': 4866, 'vpod': 4867, 'buffy': 4868, 'randy': 4869, 'qlynnbv': 4870, 'singles': 4871, 'wither': 4872, 'elvis': 4873, 'presleys': 4874, 'alaikkum': 4875, 'regards': 4876, 'tbs': 4877, 'persolvo': 4878, 'kath': 4879, 'manchester': 4880, 'rejected': 4881, 'portege': 4882, 'payasam': 4883, 'rinu': 4884, 'african': 4885, 'soil': 4886, 'meaningless': 4887, 'westshore': 4888, 'coimbatore': 4889, 'nose': 4890, 'essay': 4891, 'capital': 4892, 'les': 4893, 'rudi': 4894, 'yrs': 4895, 'snoring': 4896, 'ink': 4897, 'answered': 4898, 'sink': 4899, 'pace': 4900, 'cage': 4901, 'surrounded': 4902, 'cuck': 4903, 'relaxing': 4904, 'fifth': 4905, 'woozles': 4906, 'weasel': 4907, 'bhaji': 4908, 'cricketer': 4909, 'jurong': 4910, 'amore': 4911, 'ay': 4912, 'papa': 4913, 'chad': 4914, 'gymnastics': 4915, 'christians': 4916, 'develop': 4917, 'cps': 4918, 'causing': 4919, 'conserve': 4920, 'icic': 4921, 'tensed': 4922, 'peach': 4923, 'tasts': 4924, 'continent': 4925, 'brum': 4926, 'fwiw': 4927, 'afford': 4928, 'means': 4929, 'naal': 4930, 'eruku': 4931, 'smoked': 4932, 'resubbing': 4933, 'karnan': 4934, 'gam': 4935, 'bbq': 4936, 'scenery': 4937, 'macedonia': 4938, 'poboxox': 4939, 'onam': 4940, 'sirji': 4941, 'remembered': 4942, 'tata': 4943, 'aig': 4944, 'sc': 4945, 'specialise': 4946, 'wad': 4947, 'stuck': 4948, 'whore': 4949, 'rtf': 4950, 'sphosting': 4951, 'bleak': 4952, 'filled': 4953, 'widelive': 4954, 'index': 4955, 'wml': 4956, 'ecef': 4957, 'ff': 4958, 'jul': 4959, 'reache': 4960, 'appeal': 4961, 'thriller': 4962, 'director': 4963, 'erotic': 4964, 'ecstacy': 4965, 'neft': 4966, 'beneficiary': 4967, 'north': 4968, 'carolina': 4969, 'texas': 4970, 'gre': 4971, 'maaaan': 4972, 'mouse': 4973, 'desk': 4974, 'passable': 4975, 'phd': 4976, 'chick': 4977, 'huge': 4978, 'boob': 4979, 'port': 4980, 'positive': 4981, 'negative': 4982, 'hmmmm': 4983, 'clip': 4984, 'mmsto': 4985, 'tddnewsletter': 4986, 'emc': 4987, 'thedailydraw': 4988, 'dozens': 4989, 'prizeswith': 4990, 'chile': 4991, 'subletting': 4992, 'enters': 4993, 'removed': 4994, 'convenience': 4995, 'slippery': 4996, 'nosy': 4997, 'reacting': 4998, 'freaked': 4999, 'dammit': 5000, 'obedient': 5001, 'carton': 5002, 'followin': 5003, 'aldrine': 5004, 'rtm': 5005, 'ship': 5006, 'grave': 5007, 'familiar': 5008, 'miles': 5009, 'lately': 5010, 'waheeda': 5011, 'deserve': 5012, 'muhommad': 5013, 'rebtel': 5014, 'firefox': 5015, 'gate': 5016, 'snickering': 5017, 'chord': 5018, 'sian': 5019, 'limping': 5020, 'aa': 5021, 'jumper': 5022, 'hat': 5023, 'belt': 5024, 'cribbs': 5025, 'cumming': 5026, 'flood': 5027, 'hardly': 5028, 'accessible': 5029, 'culture': 5030, 'flirtparty': 5031, 'replys': 5032, 'enc': 5033, 'pathaya': 5034, 'enketa': 5035, 'maraikara': 5036, 'kavalan': 5037, 'gamestar': 5038, 'active': 5039, 'scoring': 5040, 'simulate': 5041, 'readiness': 5042, 'bhaskar': 5043, 'hourish': 5044, 'praveesh': 5045, 'delicious': 5046, 'relative': 5047, 'curious': 5048, 'evo': 5049, 'loses': 5050, 'grinule': 5051, 'mys': 5052, 'cruise': 5053, 'impressively': 5054, 'sensible': 5055, 'mising': 5056, 'downstem': 5057, 'rebooting': 5058, 'reunion': 5059, 'ana': 5060, 'sathy': 5061, 'rto': 5062, 'polyh': 5063, 'dileep': 5064, 'muchand': 5065, 'venugopal': 5066, 'mentioned': 5067, 'endowed': 5068, 'meat': 5069, 'supreme': 5070, 'interfued': 5071, 'prin': 5072, 'gloucesterroad': 5073, 'uup': 5074, 'andre': 5075, 'virgil': 5076, 'satsgettin': 5077, 'hustle': 5078, 'forth': 5079, 'harlem': 5080, 'olave': 5081, 'mandara': 5082, 'trishul': 5083, 'continued': 5084, 'president': 5085, 'boltblue': 5086, 'jamz': 5087, 'toxic': 5088, 'dogg': 5089, 'wrkin': 5090, 'submitting': 5091, 'delhi': 5092, 'sabarish': 5093, 'printing': 5094, 'handing': 5095, 'jokin': 5096, 'guessin': 5097, 'wined': 5098, 'dined': 5099, 'ovulate': 5100, 'brainless': 5101, 'doll': 5102, 'vehicle': 5103, 'sariyag': 5104, 'madoke': 5105, 'barolla': 5106, 'z': 5107, 'rip': 5108, 'uterus': 5109, 'nhs': 5110, 'terminated': 5111, 'inconvenience': 5112, 'retired': 5113, 'fired': 5114, 'freedom': 5115, 'lunsford': 5116, 'tall': 5117, 'whereare': 5118, 'friendsare': 5119, 'thekingshead': 5120, 'canlove': 5121, 'zogtorius': 5122, 'staring': 5123, 'adewale': 5124, 'aka': 5125, 'egbon': 5126, 'stash': 5127, 'wondarfull': 5128, 'postponed': 5129, 'stocked': 5130, 'bitching': 5131, 'symptoms': 5132, 'beloved': 5133, 'shortcode': 5134, 'refunded': 5135, 'spelling': 5136, 'stopsms': 5137, 'nooooooo': 5138, 'cable': 5139, 'disc': 5140, 'eldest': 5141, 'internal': 5142, 'extract': 5143, 'recycling': 5144, 'earning': 5145, 'wamma': 5146, 'doggin': 5147, 'dorothy': 5148, 'kiefer': 5149, 'attraction': 5150, 'named': 5151, 'craziest': 5152, 'proove': 5153, 'praise': 5154, 'makiing': 5155, 'sambar': 5156, 'tkls': 5157, 'stoptxtstop': 5158, 'sppok': 5159, 'arty': 5160, 'collage': 5161, 'tryin': 5162, 'gene': 5163, 'complementary': 5164, 'thirunelvali': 5165, 'tackle': 5166, 'dump': 5167, 'heap': 5168, 'lowes': 5169, 'slacking': 5170, 'univ': 5171, 'beach': 5172, 'expected': 5173, 'remb': 5174, 'eastenders': 5175, 'compare': 5176, 'violet': 5177, 'tulip': 5178, 'lily': 5179, 'wkent': 5180, 'belligerent': 5181, 'bridgwater': 5182, 'banter': 5183, 'fishrman': 5184, 'waited': 5185, 'sack': 5186, 'strtd': 5187, 'throwin': 5188, 'shitload': 5189, 'chatlines': 5190, 'inclu': 5191, 'servs': 5192, 'bailiff': 5193, 'loosu': 5194, 'careless': 5195, 'flatter': 5196, 'pint': 5197, 'carlin': 5198, 'hesitate': 5199, 'notebook': 5200, 'grandma': 5201, 'hungover': 5202, 'replacing': 5203, 'signal': 5204, 'unusual': 5205, 'hugs': 5206, 'snogs': 5207, 'yavnt': 5208, 'gon': 5209, 'lap': 5210, 'misplaced': 5211, 'healthy': 5212, 'ing': 5213, 'tiring': 5214, 'concentrating': 5215, 'formally': 5216, 'dose': 5217, 'dhoni': 5218, 'atten': 5219, 'compensation': 5220, 'mobno': 5221, 'adam': 5222, 'txtno': 5223, 'stil': 5224, 'tobed': 5225, 'showroom': 5226, 'shaping': 5227, 'luton': 5228, 'txttowin': 5229, 'clever': 5230, 'pear': 5231, 'tmrw': 5232, 'nelson': 5233, 'newspaper': 5234, 'skint': 5235, 'fancied': 5236, 'bevy': 5237, 'waz': 5238, 'othrs': 5239, 'spoon': 5240, 'watchng': 5241, 'comfey': 5242, 'fingers': 5243, 'makes': 5244, 'hdd': 5245, 'casing': 5246, 'rencontre': 5247, 'mountains': 5248, 'senor': 5249, 'dao': 5250, 'ou': 5251, 'becausethey': 5252, 'aust': 5253, 'bk': 5254, 'tank': 5255, 'stressed': 5256, 'depressed': 5257, 'monster': 5258, 'jackpot': 5259, 'dbuk': 5260, 'lccltd': 5261, 'rw': 5262, 'wishlist': 5263, 'nitro': 5264, 'derp': 5265, 'abuser': 5266, 'unicef': 5267, 'asian': 5268, 'fund': 5269, 'everyboy': 5270, 'xxxxxxxx': 5271, 'smaller': 5272, 'capacity': 5273, 'yupz': 5274, 'gf': 5275, 'enna': 5276, 'kalaachutaarama': 5277, 'offering': 5278, 'workout': 5279, 'thirtyeight': 5280, 'konw': 5281, 'waht': 5282, 'rael': 5283, 'gving': 5284, 'exmpel': 5285, 'jsut': 5286, 'evrey': 5287, 'splleing': 5288, 'wrnog': 5289, 'sitll': 5290, 'raed': 5291, 'wihtuot': 5292, 'ayn': 5293, 'mitsake': 5294, 'dreams': 5295, 'dual': 5296, 'knocking': 5297, 'ppt': 5298, 'jy': 5299, 'ahhh': 5300, 'vaguely': 5301, 'sayy': 5302, 'rupaul': 5303, 'thesmszone': 5304, 'anonymous': 5305, 'masked': 5306, 'abuse': 5307, 'danger': 5308, 'peep': 5309, 'comment': 5310, 'weighed': 5311, 'woohoo': 5312, 'resume': 5313, 'fried': 5314, 'looovvve': 5315, 'wire': 5316, 'mobcudb': 5317, 'books': 5318, 'dial': 5319, 'thfeb': 5320, 'placed': 5321, 'afternon': 5322, 'veggie': 5323, 'ibh': 5324, 'yours': 5325, 'engalnd': 5326, 'mia': 5327, 'elliot': 5328, 'kissing': 5329, 'grocer': 5330, 'dvg': 5331, 'vinobanagar': 5332, 'passport': 5333, 'saeed': 5334, 'hallaq': 5335, 'kaiez': 5336, 'hiphop': 5337, 'meds': 5338, 'annie': 5339, 'lapdancer': 5340, 'ppmsg': 5341, 'varaya': 5342, 'elaya': 5343, 'uve': 5344, 'wildest': 5345, 'balloon': 5346, 'lord': 5347, 'rings': 5348, 'soundtrack': 5349, 'stdtxtrate': 5350, 'involved': 5351, 'tunji': 5352, 'ldns': 5353, 'chapter': 5354, 'tulsi': 5355, 'lemon': 5356, 'bone': 5357, 'problms': 5358, 'litres': 5359, 'watr': 5360, 'diseases': 5361, 'snd': 5362, 'whom': 5363, 'marandratha': 5364, 'dance': 5365, 'cheesy': 5366, 'frosty': 5367, 'harri': 5368, 'mag': 5369, 'avo': 5370, 'grandfather': 5371, 'expired': 5372, 'resizing': 5373, 'owe': 5374, 'smsservices': 5375, 'yourinclusive': 5376, 'cast': 5377, 'pair': 5378, 'malarky': 5379, 'memorable': 5380, 'sized': 5381, 'thankyou': 5382, 'belive': 5383, 'financial': 5384, 'promotion': 5385, 'perwksub': 5386, 'qet': 5387, 'marrow': 5388, 'sg': 5389, 'phyhcmk': 5390, 'puzzeles': 5391, 'ammo': 5392, 'ak': 5393, 'jog': 5394, 'goody': 5395, 'mat': 5396, 'mca': 5397, 'patty': 5398, 'haul': 5399, 'vivek': 5400, 'pushbutton': 5401, 'dontcha': 5402, 'babygoodbye': 5403, 'golddigger': 5404, 'webeburnin': 5405, 'happiest': 5406, 'mailed': 5407, 'varma': 5408, 'convince': 5409, 'witot': 5410, 'praps': 5411, 'goodo': 5412, 'ipad': 5413, 'yck': 5414, 'restrict': 5415, 'escalator': 5416, 'noooooooo': 5417, 'alter': 5418, 'arrow': 5419, 'priority': 5420, 'heading': 5421, 'prediction': 5422, 'surrender': 5423, 'perpetual': 5424, 'dd': 5425, 'returned': 5426, 'poo': 5427, 'lit': 5428, 'pounded': 5429, 'shanil': 5430, 'exchanged': 5431, 'uncut': 5432, 'dino': 5433, 'upping': 5434, 'diddy': 5435, 'toothpaste': 5436, 'conacted': 5437, 'managed': 5438, 'oxygen': 5439, 'resort': 5440, 'roller': 5441, 'option': 5442, 'flying': 5443, 'limit': 5444, 'boundary': 5445, 'endless': 5446, 'adding': 5447, 'zero': 5448, 'saving': 5449, 'keen': 5450, 'kent': 5451, 'vale': 5452, 'cudnt': 5453, 'ctla': 5454, 'ente': 5455, 'ishtamayoo': 5456, 'bakrid': 5457, 'tnc': 5458, 'dice': 5459, 'sexychat': 5460, 'oyster': 5461, 'sashimi': 5462, 'rumbling': 5463, 'shitin': 5464, 'myself': 5465, 'defo': 5466, 'hardest': 5467, 'morow': 5468, 'millions': 5469, 'lekdog': 5470, 'bomb': 5471, 'commit': 5472, 'attending': 5473, 'panther': 5474, 'sugababes': 5475, 'zebra': 5476, 'animation': 5477, 'badass': 5478, 'hoody': 5479, 'yalrigu': 5480, 'heltini': 5481, 'iyo': 5482, 'shared': 5483, 'uttered': 5484, 'trusting': 5485, 'nte': 5486, 'lambu': 5487, 'ji': 5488, 'batchlor': 5489, 'yetty': 5490, 'amanda': 5491, 'renewing': 5492, 'upgrading': 5493, 'subject': 5494, 'smsing': 5495, 'ducking': 5496, 'chinchilla': 5497, 'paranoid': 5498, 'volcano': 5499, 'erupt': 5500, 'arise': 5501, 'hurricane': 5502, 'sway': 5503, 'aroundn': 5504, 'wr': 5505, 'investigate': 5506, 'stereo': 5507, 'btwn': 5508, 'recieve': 5509, 'teletext': 5510, 'mandy': 5511, 'sullivan': 5512, 'hotmix': 5513, 'fm': 5514, 'transferred': 5515, 'okey': 5516, 'dokey': 5517, 'simpsons': 5518, 'band': 5519, 'hottest': 5520, 'das': 5521, 'iknow': 5522, 'wellda': 5523, 'peril': 5524, 'studentfinancial': 5525, 'salt': 5526, 'wound': 5527, 'fights': 5528, 'minecraft': 5529, 'server': 5530, 'raji': 5531, 'favour': 5532, 'satanic': 5533, 'imposter': 5534, 'destiny': 5535, 'intend': 5536, 'iwas': 5537, 'marine': 5538, 'itried': 5539, 'urmom': 5540, 'careabout': 5541, 'guild': 5542, 'apologize': 5543, 'admit': 5544, 'dismay': 5545, 'ibored': 5546, 'prometazine': 5547, 'syrup': 5548, 'feed': 5549, 'headstart': 5550, 'rummer': 5551, 'gonnamissu': 5552, 'buttheres': 5553, 'aboutas': 5554, 'merememberin': 5555, 'asthere': 5556, 'ofsi': 5557, 'breakin': 5558, 'yaxx': 5559, 'vibrate': 5560, 'acting': 5561, 'mcfly': 5562, 'ab': 5563, 'sara': 5564, 'jorge': 5565, 'jp': 5566, 'mofo': 5567, 'neck': 5568, 'amigo': 5569, 'burn': 5570, 'tirunelvai': 5571, 'soiree': 5572, 'fundamental': 5573, 'quiteamuzing': 5574, 'scool': 5575, 'yah': 5576, 'wrongly': 5577, 'enufcredeit': 5578, 'tocall': 5579, 'ileave': 5580, 'amongst': 5581, 'bros': 5582, 'cheetos': 5583, 'decorating': 5584, 'cheery': 5585, 'auntie': 5586, 'huai': 5587, 'finn': 5588, 'route': 5589, 'randomlly': 5590, 'toppoly': 5591, 'tune': 5592, 'flow': 5593, 'developed': 5594, 'ovarian': 5595, 'cyst': 5596, 'shrink': 5597, 'trek': 5598, 'unmits': 5599, 'listed': 5600, 'pure': 5601, 'hearted': 5602, 'smiley': 5603, 'visa': 5604, 'gucci': 5605, 'clarify': 5606, 'preponed': 5607, 'grown': 5608, 'sri': 5609, 'lanka': 5610, 'unhappiness': 5611, 'attention': 5612, 'inspection': 5613, 'nursery': 5614, 'eva': 5615, 'svc': 5616, 'verify': 5617, 'establish': 5618, 'gran': 5619, 'onlyfound': 5620, 'afew': 5621, 'cusoon': 5622, 'honi': 5623, 'dom': 5624, 'hiding': 5625, 'stair': 5626, 'phews': 5627, 'thin': 5628, 'fed': 5629, 'himso': 5630, 'restock': 5631, 'rahul': 5632, 'dengra': 5633, 'swimsuit': 5634, 'nr': 5635, 'zs': 5636, 'rightio': 5637, 'arent': 5638, 'lasagna': 5639, 'yowifes': 5640, 'weightloss': 5641, 'sday': 5642, 'diesel': 5643, 've': 5644, 'rajini': 5645, 'jetton': 5646, 'maggi': 5647, 'mee': 5648, 'conference': 5649, 'guessed': 5650, 'throwing': 5651, 'aslamalaikkum': 5652, 'tohar': 5653, 'beeen': 5654, 'muht': 5655, 'albi': 5656, 'mufti': 5657, 'mahfuuz': 5658, 'equally': 5659, 'uneventful': 5660, 'pesky': 5661, 'cyclist': 5662, 'limited': 5663, 'eta': 5664, 'okday': 5665, 'fireplace': 5666, 'icon': 5667, 'document': 5668, 'submitted': 5669, 'stapati': 5670, 'thet': 5671, 'skinny': 5672, 'casting': 5673, 'watched': 5674, 'drastic': 5675, 'guai': 5676, 'jogging': 5677, 'belongs': 5678, 'fated': 5679, 'shoranur': 5680, 'fuelled': 5681, 'concern': 5682, 'prior': 5683, 'grief': 5684, 'against': 5685, 'women': 5686, 'dr': 5687, 'punj': 5688, 'human': 5689, 'nauseous': 5690, 'dieting': 5691, 'fink': 5692, 'promised': 5693, 'carlie': 5694, 'minmobsmore': 5695, 'lkpobox': 5696, 'phoned': 5697, 'disconnected': 5698, 'sez': 5699, 'arab': 5700, 'evry': 5701, 'eshxxxxxxxxxxx': 5702, 'hvae': 5703, 'disastrous': 5704, 'womdarfull': 5705, 'actor': 5706, 'ericsson': 5707, 'freezing': 5708, 'err': 5709, 'mk': 5710, 'mental': 5711, 'ability': 5712, 'chase': 5713, 'stated': 5714, 'gailxx': 5715, 'scorable': 5716, 'brin': 5717, 'properly': 5718, 'perweeksub': 5719, 'ofcourse': 5720, 'broken': 5721, 'breakfast': 5722, 'hamper': 5723, 'into': 5724, 'ijust': 5725, 'talked': 5726, 'presnts': 5727, 'bcz': 5728, 'jeevithathile': 5729, 'irulinae': 5730, 'neekunna': 5731, 'prakasamanu': 5732, 'sneham': 5733, 'prakasam': 5734, 'ennal': 5735, 'mn': 5736, 'msn': 5737, 'bookedthe': 5738, 'hut': 5739, 'yalru': 5740, 'astne': 5741, 'innu': 5742, 'mundhe': 5743, 'halla': 5744, 'bilo': 5745, 'edhae': 5746, 'ovr': 5747, 'vargu': 5748, 'invite': 5749, 'terrible': 5750, 'mary': 5751, 'philosophical': 5752, 'hole': 5753, 'performed': 5754, 'smarter': 5755, 'worm': 5756, 'retard': 5757, 'bangbabes': 5758, 'bangb': 5759, 'lovly': 5760, 'santacalling': 5761, 'somerset': 5762, 'portal': 5763, 'kama': 5764, 'sutra': 5765, 'jap': 5766, 'abta': 5767, 'pressies': 5768, 'vitamin': 5769, 'recognises': 5770, 'indians': 5771, 'kane': 5772, 'shud': 5773, 'burial': 5774, 'scarcasim': 5775, 'apologetic': 5776, 'fallen': 5777, 'actin': 5778, 'spoilt': 5779, 'badly': 5780, 'loneliness': 5781, 'rodds': 5782, 'aberdeen': 5783, 'united': 5784, 'kingdom': 5785, 'img': 5786, 'icmb': 5787, 'cktz': 5788, 'dates': 5789, 'hide': 5790, 'semi': 5791, 'spy': 5792, 'tescos': 5793, 'earliest': 5794, 'vco': 5795, 'ceiling': 5796, 'honesty': 5797, 'tp': 5798, 'sporadically': 5799, 'invention': 5800, 'el': 5801, 'nino': 5802, 'lions': 5803, 'lionm': 5804, 'lionp': 5805, 'olowoyey': 5806, 'argentina': 5807, 'secretary': 5808, 'baig': 5809, 'touched': 5810, 'hf': 5811, 'opposite': 5812, 'baaaaaaaabe': 5813, 'audrey': 5814, 'christ': 5815, 'electricity': 5816, 'upcharge': 5817, 'disturbance': 5818, 'dlf': 5819, 'premarica': 5820, 'tap': 5821, 'spile': 5822, 'broad': 5823, 'canal': 5824, 'certificate': 5825, 'publish': 5826, 'xxxxxx': 5827, 'prizeawaiting': 5828, 'trackmarque': 5829, 'vipclub': 5830, 'nnfwfly': 5831, 'sdryb': 5832, 'thout': 5833, 'hep': 5834, 'immunisation': 5835, 'cleared': 5836, 'such': 5837, 'dressed': 5838, 'oooooh': 5839, 'aluable': 5840, 'ffectionate': 5841, 'oveable': 5842, 'ternal': 5843, 'oble': 5844, 'ruthful': 5845, 'ntimate': 5846, 'atural': 5847, 'namous': 5848, 'thgt': 5849, 'clash': 5850, 'mushy': 5851, 'embarrassed': 5852, 'panty': 5853, 'ringing': 5854, 'houseful': 5855, 'brat': 5856, 'pulling': 5857, 'playin': 5858, 'poker': 5859, 'hockey': 5860, 'blowing': 5861, 'mallika': 5862, 'sherawat': 5863, 'caveboy': 5864, 'associate': 5865, 'flurry': 5866, 'pose': 5867, 'comb': 5868, 'dryer': 5869, 'gimmi': 5870, 'goss': 5871, 'fifa': 5872, 'srsly': 5873, 'yi': 5874, 'canteen': 5875, 'officer': 5876, 'swhrt': 5877, 'iraq': 5878, 'afghanistan': 5879, 'stable': 5880, 'honest': 5881, 'traveling': 5882, 'spiritual': 5883, 'llc': 5884, 'usa': 5885, 'wouldn': 5886, 'leadership': 5887, 'skill': 5888, 'psychic': 5889, 'ans': 5890, 'strain': 5891, 'sapna': 5892, 'manege': 5893, 'hogidhe': 5894, 'chinnu': 5895, 'swalpa': 5896, 'agidhane': 5897, 'ax': 5898, 'adsense': 5899, 'approved': 5900, 'applausestore': 5901, 'monthlysubscription': 5902, 'csc': 5903, 'goodmate': 5904, 'asusual': 5905, 'cheered': 5906, 'franyxxxxx': 5907, 'notixiquating': 5908, 'laxinorficated': 5909, 'bambling': 5910, 'entropication': 5911, 'oblisingately': 5912, 'opted': 5913, 'masteriastering': 5914, 'amplikater': 5915, 'fidalfication': 5916, 'champlaxigating': 5917, 'atrocious': 5918, 'wotz': 5919, 'junna': 5920, 'spiffing': 5921, 'workage': 5922, 'gastroenteritis': 5923, 'replace': 5924, 'reduce': 5925, 'limiting': 5926, 'illness': 5927, 'configure': 5928, 'tunde': 5929, 'stagwood': 5930, 'winterstone': 5931, 'victor': 5932, 'helpline': 5933, 'edison': 5934, 'rightly': 5935, 'speechless': 5936, 'viva': 5937, 'stuffed': 5938, 'writhing': 5939, 'bffs': 5940, 'carly': 5941, 'treatin': 5942, 'treacle': 5943, 'melody': 5944, 'prestige': 5945, 'reffering': 5946, 'getiing': 5947, 'lobby': 5948, 'wallet': 5949, 'rugby': 5950, 'greatest': 5951, 'courage': 5952, 'defeat': 5953, 'checkmate': 5954, 'chess': 5955, 'persian': 5956, 'phrase': 5957, 'shah': 5958, 'maat': 5959, 'crickiting': 5960, 'fones': 5961, 'wild': 5962, 'apnt': 5963, 'nver': 5964, 'hearts': 5965, 'flew': 5966, 'wisheds': 5967, 'cloud': 5968, 'caroline': 5969, 'toughest': 5970, 'accidant': 5971, 'tookplace': 5972, 'ghodbandar': 5973, 'traffic': 5974, 'slovely': 5975, 'robinson': 5976, 'meatball': 5977, 'fixedline': 5978, 'axis': 5979, 'sake': 5980, 'tallahassee': 5981, 'breather': 5982, 'granted': 5983, 'fulfil': 5984, 'brdget': 5985, 'jones': 5986, 'nalla': 5987, 'abstract': 5988, 'avoid': 5989, 'weirdest': 5990, 'hank': 5991, 'lotsly': 5992, 'flyng': 5993, 'aries': 5994, 'juliana': 5995, 'overtime': 5996, 'nigpun': 5997, 'sacked': 5998, 'infact': 5999, 'youdoing': 6000, 'sar': 6001, 'waaaat': 6002, 'lololo': 6003, 'tote': 6004, 'being': 6005, 'eightish': 6006, 'carpark': 6007, 'pdate': 6008, 'yhl': 6009, 'warned': 6010, 'sprint': 6011, 'daaaaa': 6012, 'mina': 6013, 'peace': 6014, 'blessed': 6015, 'mg': 6016, 'daily': 6017, 'pierre': 6018, 'cardin': 6019, 'ayo': 6020, 'travelled': 6021, 'ploughing': 6022, 'pile': 6023, 'ironing': 6024, 'chinky': 6025, 'synced': 6026, 'shangela': 6027, 'fassyole': 6028, 'blacko': 6029, 'londn': 6030, 'improve': 6031, 'jam': 6032, 'hannaford': 6033, 'wheat': 6034, 'chex': 6035, 'dobby': 6036, 'owl': 6037, 'apology': 6038, 'tamilnadu': 6039, 'giggle': 6040, 'possibly': 6041, 'nvq': 6042, 'clearer': 6043, 'wtc': 6044, 'weiyi': 6045, 'gandhipuram': 6046, 'mentor': 6047, 'jontin': 6048, 'mailbox': 6049, 'messaging': 6050, 'retrieve': 6051, 'goodnoon': 6052, 'annoying': 6053, 'rp': 6054, 'regalportfolio': 6055, 'glorious': 6056, 'coaxing': 6057, 'fond': 6058, 'souveniers': 6059, 'cougar': 6060, 'whn': 6061, 'duffer': 6062, 'iphone': 6063, 'woodland': 6064, 'avenue': 6065, 'parish': 6066, 'magazine': 6067, 'fuuuuck': 6068, 'exp': 6069, 'apr': 6070, 'acknowledgement': 6071, 'astoundingly': 6072, 'tactless': 6073, 'demand': 6074, 'oath': 6075, 'matric': 6076, 'bpo': 6077, 'folk': 6078, 'brolly': 6079, 'franxx': 6080, 'footie': 6081, 'phil': 6082, 'neville': 6083, 'nike': 6084, 'miiiiiiissssssssss': 6085, 'kaila': 6086, 'hasnt': 6087, 'jaklin': 6088, 'kvb': 6089, 'sac': 6090, 'batsman': 6091, 'priest': 6092, 'conversation': 6093, 'sens': 6094, 'overemphasise': 6095, 'firmware': 6096, 'swap': 6097, 'chatter': 6098, 'rcd': 6099, 'starving': 6100, 'cooked': 6101, 'unsubscribed': 6102, 'hunk': 6103, 'gotbabes': 6104, 'apo': 6105, 'pocy': 6106, 'bend': 6107, 'thia': 6108, 'inlude': 6109, 'preview': 6110, 'hunt': 6111, 'monthly': 6112, 'mobsi': 6113, 'snap': 6114, 'quizclub': 6115, 'rwm': 6116, 'chop': 6117, 'wendy': 6118, 'consider': 6119, 'bunker': 6120, 'shell': 6121, 'unconsciously': 6122, 'unhappy': 6123, 'textbuddy': 6124, 'gaytextbuddy': 6125, 'washob': 6126, 'nobbing': 6127, 'nickey': 6128, 'platt': 6129, 'sunoco': 6130, 'debating': 6131, 'panren': 6132, 'paru': 6133, 'possibility': 6134, 'obey': 6135, 'chapel': 6136, 'frontierville': 6137, 'watt': 6138, 'ooh': 6139, 'moseley': 6140, 'arngd': 6141, 'walkin': 6142, 'unfortuntly': 6143, 'frnt': 6144, 'sayin': 6145, 'pee': 6146, 'revealing': 6147, 'prescribed': 6148, 'neshanth': 6149, 'selflessness': 6150, 'significance': 6151, 'palm': 6152, 'grumpy': 6153, 'lying': 6154, 'ahold': 6155, 'musta': 6156, 'overdid': 6157, 'view': 6158, 'nighters': 6159, 'persevered': 6160, 'occurs': 6161, 'cruisin': 6162, 'haunt': 6163, 'promoting': 6164, 'dirt': 6165, 'flowing': 6166, 'chore': 6167, 'exist': 6168, 'hail': 6169, 'mist': 6170, 'hypertension': 6171, 'crashed': 6172, 'cuddled': 6173, 'stripe': 6174, 'skirt': 6175, 'sickness': 6176, 'engagement': 6177, 'fixd': 6178, 'njan': 6179, 'vilikkam': 6180, 'sudn': 6181, 'guys': 6182, 'dolls': 6183, 'patrick': 6184, 'swayze': 6185, 'finalise': 6186, 'urination': 6187, 'complexity': 6188, 'freely': 6189, 'tax': 6190, 'outrageous': 6191, 'mokka': 6192, 'animal': 6193, 'individual': 6194, 'gong': 6195, 'kaypoh': 6196, 'hont': 6197, 'vomitin': 6198, 'chrgd': 6199, 'exit': 6200, 'answr': 6201, 'anand': 6202, 'infra': 6203, 'ignorant': 6204, 'juswoke': 6205, 'boatin': 6206, 'docks': 6207, 'spinout': 6208, 'steal': 6209, 'cloth': 6210, 'consistently': 6211, 'practicum': 6212, 'ppmmobilesvary': 6213, 'hava': 6214, 'bcum': 6215, 'taught': 6216, 'becaus': 6217, 'verifying': 6218, 'prabu': 6219, 'steak': 6220, 'ashley': 6221, 'spelled': 6222, 'cap': 6223, 'bullshit': 6224, 'housewife': 6225, 'wasted': 6226, 'watchin': 6227, 'expert': 6228, 'method': 6229, 'mittelschmertz': 6230, 'paracetamol': 6231, 'whr': 6232, 'posh': 6233, 'chap': 6234, 'trial': 6235, 'prod': 6236, 'champneys': 6237, 'dob': 6238, 'ambitious': 6239, 'loxahatchee': 6240, 'burning': 6241, 'distract': 6242, 'isaiah': 6243, 'noi': 6244, 'semiobscure': 6245, 'mentionned': 6246, 'spouse': 6247, 'pmt': 6248, 'shldxxxx': 6249, 'tag': 6250, 'laundry': 6251, 'bra': 6252, 'strewn': 6253, 'pillow': 6254, 'annoyin': 6255, 'chachi': 6256, 'pl': 6257, 'tiz': 6258, 'kanagu': 6259, 'okors': 6260, 'sparkling': 6261, 'shortbreaks': 6262, 'org': 6263, 'jx': 6264, 'dehydrated': 6265, 'pleasant': 6266, 'smashed': 6267, 'dent': 6268, 'creepy': 6269, 'board': 6270, 'overheating': 6271, 'reslove': 6272, 'inst': 6273, 'barbie': 6274, 'ken': 6275, 'drivby': 6276, 'edrunk': 6277, 'iff': 6278, 'pthis': 6279, 'senrd': 6280, 'dnot': 6281, 'dancce': 6282, 'drum': 6283, 'basq': 6284, 'ihave': 6285, 'nhite': 6286, 'ro': 6287, 'tightly': 6288, 'qf': 6289, 'plate': 6290, 'leftover': 6291, 'wenever': 6292, 'gmw': 6293, 'connected': 6294, 'waxsto': 6295, 'major': 6296, 'desparately': 6297, 'depression': 6298, 'stalk': 6299, 'collected': 6300, 'angel': 6301, 'snowball': 6302, 'hasn': 6303, 'habba': 6304, 'minmoremobsemspobox': 6305, 'grasp': 6306, 'mel': 6307, 'opps': 6308, 'eaten': 6309, 'huiming': 6310, 'minus': 6311, 'paragraph': 6312, 'lipo': 6313, 'charming': 6314, 'broth': 6315, 'ramen': 6316, 'vijaykanth': 6317, 'needy': 6318, 'uniform': 6319, 'varunnathu': 6320, 'edukkukayee': 6321, 'raksha': 6322, 'ollu': 6323, 'olol': 6324, 'replacement': 6325, 'ups': 6326, 'usps': 6327, 'bribe': 6328, 'nipost': 6329, 'destination': 6330, 'shrek': 6331, 'host': 6332, 'based': 6333, 'idps': 6334, 'linux': 6335, 'haiyoh': 6336, 'badrith': 6337, 'starshine': 6338, 'sip': 6339, 'cappuccino': 6340, 'elaborating': 6341, 'safety': 6342, 'aspect': 6343, 'phony': 6344, 'jade': 6345, 'paul': 6346, 'barmed': 6347, 'jos': 6348, 'jackson': 6349, 'center': 6350, 'teju': 6351, 'deny': 6352, 'astrology': 6353, 'speaking': 6354, 'sentiment': 6355, 'rowdy': 6356, 'attitude': 6357, 'attractive': 6358, 'environment': 6359, 'terrific': 6360, 'recharged': 6361, 'taxt': 6362, 'tie': 6363, 'lool': 6364, 'prix': 6365, 'october': 6366, 'paypal': 6367, 'voila': 6368, 'pocket': 6369, 'archive': 6370, 'lighter': 6371, 'excited': 6372, 'opposed': 6373, 'cherthala': 6374, 'bfore': 6375, 'tmorow': 6376, 'engaged': 6377, 'innocent': 6378, 'terror': 6379, 'cruel': 6380, 'decent': 6381, 'joker': 6382, 'level': 6383, 'toss': 6384, 'gudni': 6385, 'hooked': 6386, 'scrappy': 6387, 'mnths': 6388, 'callback': 6389, 'torrent': 6390, 'particularly': 6391, 'slowing': 6392, 'asshole': 6393, 'spotty': 6394, 'province': 6395, 'sterling': 6396, 'hectic': 6397, 'nanny': 6398, 'needa': 6399, 'wewa': 6400, 'iriver': 6401, 'posting': 6402, 'lubly': 6403, 'skye': 6404, 'dismissial': 6405, 'rubber': 6406, 'hogolo': 6407, 'kodstini': 6408, 'madstini': 6409, 'hogli': 6410, 'mutai': 6411, 'eerulli': 6412, 'kodthini': 6413, 'turning': 6414, 'related': 6415, 'arul': 6416, 'tim': 6417, 'bollox': 6418, 'tol': 6419, 'khelate': 6420, 'kintu': 6421, 'opponenter': 6422, 'dhorte': 6423, 'lage': 6424, 'teenager': 6425, 'slurp': 6426, 'affidavit': 6427, 'twiggs': 6428, 'division': 6429, 'courtroom': 6430, 'mandan': 6431, 'abi': 6432, 'bookshelf': 6433, 'truro': 6434, 'ext': 6435, 'consensus': 6436, 'landmark': 6437, 'bob': 6438, 'barry': 6439, 'mmmmmmm': 6440, 'snuggle': 6441, 'contented': 6442, 'whisper': 6443, 'efficient': 6444, 'computational': 6445, 'enjoying': 6446, 'attached': 6447, 'converted': 6448, 'solihull': 6449, 'chgs': 6450, 'conveying': 6451, 'feels': 6452, 'beth': 6453, 'charlie': 6454, 'inpersonation': 6455, 'flea': 6456, 'hmph': 6457, 'baller': 6458, 'telediscount': 6459, 'mathews': 6460, 'tait': 6461, 'anderson': 6462, 'weirdo': 6463, 'sundayish': 6464, 'chastity': 6465, 'device': 6466, 'beating': 6467, 'splash': 6468, 'words': 6469, 'superior': 6470, 'department': 6471, 'grownup': 6472, 'exams': 6473, 'boyf': 6474, 'interviw': 6475, 'creative': 6476, 'kfc': 6477, 'gravy': 6478, 'resubmit': 6479, 'expiry': 6480, 'classic': 6481, 'alternative': 6482, 'erutupalam': 6483, 'thandiyachu': 6484, 'joanna': 6485, 'toyota': 6486, 'camry': 6487, 'olayiwola': 6488, 'mileage': 6489, 'landing': 6490, 'crucial': 6491, 'cough': 6492, 'shot': 6493, 'brison': 6494, 'language': 6495, 'doinat': 6496, 'beside': 6497, 'someplace': 6498, 'gage': 6499, 'deck': 6500, 'cnupdates': 6501, 'newsletter': 6502, 'gayle': 6503, 'durban': 6504, 'lim': 6505, 'surya': 6506, 'pokkiri': 6507, 'accomodations': 6508, 'cave': 6509, 'offered': 6510, 'embarassing': 6511, 'wishin': 6512, 'idc': 6513, 'weaseling': 6514, 'reminds': 6515, 'status': 6516, 'frequently': 6517, 'loads': 6518, 'nicky': 6519, 'impression': 6520, 'lancaster': 6521, 'neway': 6522, 'baaaaabe': 6523, 'youuuuu': 6524, 'dudette': 6525}\n"
     ]
    }
   ],
   "source": [
    "print(tokenize.word_index)"
   ]
  },
  {
   "cell_type": "code",
   "execution_count": 37,
   "id": "87fd9ecd",
   "metadata": {
    "execution": {
     "iopub.execute_input": "2023-01-04T12:17:08.459727Z",
     "iopub.status.busy": "2023-01-04T12:17:08.458893Z",
     "iopub.status.idle": "2023-01-04T12:17:08.464841Z",
     "shell.execute_reply": "2023-01-04T12:17:08.463874Z"
    },
    "id": "G66IFAiO23x7",
    "papermill": {
     "duration": 0.036512,
     "end_time": "2023-01-04T12:17:08.466943",
     "exception": false,
     "start_time": "2023-01-04T12:17:08.430431",
     "status": "completed"
    },
    "tags": []
   },
   "outputs": [],
   "source": [
    "from tensorflow.keras.preprocessing.sequence import pad_sequences"
   ]
  },
  {
   "cell_type": "code",
   "execution_count": 38,
   "id": "6f0a7878",
   "metadata": {
    "execution": {
     "iopub.execute_input": "2023-01-04T12:17:08.522441Z",
     "iopub.status.busy": "2023-01-04T12:17:08.521541Z",
     "iopub.status.idle": "2023-01-04T12:17:08.527951Z",
     "shell.execute_reply": "2023-01-04T12:17:08.526631Z"
    },
    "id": "y0YcIvmf23vB",
    "outputId": "263e54bd-3fe0-4045-ce6f-b66041fa83f7",
    "papermill": {
     "duration": 0.035715,
     "end_time": "2023-01-04T12:17:08.530013",
     "exception": false,
     "start_time": "2023-01-04T12:17:08.494298",
     "status": "completed"
    },
    "tags": []
   },
   "outputs": [
    {
     "name": "stdout",
     "output_type": "stream",
     "text": [
      "6526\n"
     ]
    }
   ],
   "source": [
    "pad_length = 100\n",
    "\n",
    "size = len(tokenize.word_index) + 1\n",
    "print(size)"
   ]
  },
  {
   "cell_type": "code",
   "execution_count": 39,
   "id": "8ee806e5",
   "metadata": {
    "execution": {
     "iopub.execute_input": "2023-01-04T12:17:08.585818Z",
     "iopub.status.busy": "2023-01-04T12:17:08.585396Z",
     "iopub.status.idle": "2023-01-04T12:17:08.609638Z",
     "shell.execute_reply": "2023-01-04T12:17:08.608505Z"
    },
    "id": "X_JB7GX723sL",
    "outputId": "d9165bdc-c6b5-417b-c4ee-a37630b4a91b",
    "papermill": {
     "duration": 0.05534,
     "end_time": "2023-01-04T12:17:08.612000",
     "exception": false,
     "start_time": "2023-01-04T12:17:08.556660",
     "status": "completed"
    },
    "tags": []
   },
   "outputs": [
    {
     "name": "stdout",
     "output_type": "stream",
     "text": [
      "[[   0    0    0 ...   62   77  206]\n",
      " [   0    0    0 ... 3237   22  832]\n",
      " [   0    0    0 ...   14   38   20]\n",
      " ...\n",
      " [   0    0    0 ... 1151    5  253]\n",
      " [   0    0    0 ...  749 1096  749]\n",
      " [   0    0    0 ...   56  129  946]] \n",
      "\n",
      "[[   0    0    0 ...   90 4228 5711]\n",
      " [   0    0    0 ...   57   57  432]\n",
      " [   0    0    0 ...    4  159 4814]\n",
      " ...\n",
      " [   0    0    0 ... 3164   35   88]\n",
      " [   0    0    0 ...    0    2    3]\n",
      " [   0    0    0 ...  296    2  469]]\n"
     ]
    }
   ],
   "source": [
    "x_train = pad_sequences(x_train, padding='pre', maxlen=pad_length)\n",
    "x_test = pad_sequences(x_test, padding='pre', maxlen=pad_length)\n",
    "\n",
    "print(x_train,'\\n')\n",
    "print(x_test)"
   ]
  },
  {
   "cell_type": "code",
   "execution_count": 40,
   "id": "adfa39a1",
   "metadata": {
    "execution": {
     "iopub.execute_input": "2023-01-04T12:17:08.667015Z",
     "iopub.status.busy": "2023-01-04T12:17:08.666596Z",
     "iopub.status.idle": "2023-01-04T12:17:08.920521Z",
     "shell.execute_reply": "2023-01-04T12:17:08.918677Z"
    },
    "id": "D7NhGSiv4v3-",
    "papermill": {
     "duration": 0.285976,
     "end_time": "2023-01-04T12:17:08.924919",
     "exception": false,
     "start_time": "2023-01-04T12:17:08.638943",
     "status": "completed"
    },
    "tags": []
   },
   "outputs": [],
   "source": [
    "from imblearn.over_sampling import SMOTE\n",
    "\n",
    "x_resampled, y_resampled = SMOTE().fit_resample(x_train, y_train)"
   ]
  },
  {
   "cell_type": "code",
   "execution_count": 41,
   "id": "44fbad53",
   "metadata": {
    "execution": {
     "iopub.execute_input": "2023-01-04T12:17:09.035243Z",
     "iopub.status.busy": "2023-01-04T12:17:09.034810Z",
     "iopub.status.idle": "2023-01-04T12:17:09.042323Z",
     "shell.execute_reply": "2023-01-04T12:17:09.041595Z"
    },
    "id": "Rl2uJifR62D_",
    "outputId": "17ecbb64-6516-45fa-a81d-1fe20d46084c",
    "papermill": {
     "duration": 0.049838,
     "end_time": "2023-01-04T12:17:09.044184",
     "exception": false,
     "start_time": "2023-01-04T12:17:08.994346",
     "status": "completed"
    },
    "tags": []
   },
   "outputs": [
    {
     "data": {
      "text/plain": [
       "array([[   0,    0,    0, ...,   62,   77,  206],\n",
       "       [   0,    0,    0, ..., 3237,   22,  832],\n",
       "       [   0,    0,    0, ...,   14,   38,   20],\n",
       "       ...,\n",
       "       [   0,    0,    0, ...,  418,  342,  221],\n",
       "       [   0,    0,    0, ...,  771,   17,  683],\n",
       "       [   0,    0,    0, ...,  668,   29,  402]], dtype=int32)"
      ]
     },
     "execution_count": 41,
     "metadata": {},
     "output_type": "execute_result"
    }
   ],
   "source": [
    "x_resampled"
   ]
  },
  {
   "cell_type": "code",
   "execution_count": 42,
   "id": "f8b7b97a",
   "metadata": {
    "execution": {
     "iopub.execute_input": "2023-01-04T12:17:09.098394Z",
     "iopub.status.busy": "2023-01-04T12:17:09.097498Z",
     "iopub.status.idle": "2023-01-04T12:17:09.104363Z",
     "shell.execute_reply": "2023-01-04T12:17:09.102798Z"
    },
    "id": "kTz84pjK60q6",
    "outputId": "3e42b38d-c5f0-41e2-9d85-32c2bdac2bdc",
    "papermill": {
     "duration": 0.036898,
     "end_time": "2023-01-04T12:17:09.107084",
     "exception": false,
     "start_time": "2023-01-04T12:17:09.070186",
     "status": "completed"
    },
    "tags": []
   },
   "outputs": [
    {
     "name": "stdout",
     "output_type": "stream",
     "text": [
      "shape of x_resampled :(7754, 100)\n",
      "shape of y_resampled :(7754,)\n"
     ]
    }
   ],
   "source": [
    "print(f'shape of x_resampled :{x_resampled.shape}')\n",
    "\n",
    "print(f'shape of y_resampled :{y_resampled.shape}')\n"
   ]
  },
  {
   "cell_type": "code",
   "execution_count": 43,
   "id": "8b41ff80",
   "metadata": {
    "execution": {
     "iopub.execute_input": "2023-01-04T12:17:09.163863Z",
     "iopub.status.busy": "2023-01-04T12:17:09.163022Z",
     "iopub.status.idle": "2023-01-04T12:19:52.105291Z",
     "shell.execute_reply": "2023-01-04T12:19:52.104105Z"
    },
    "id": "Uk--tA4qMOxf",
    "outputId": "b39cde3d-0e52-4a40-e62c-aa334d17881e",
    "papermill": {
     "duration": 162.975531,
     "end_time": "2023-01-04T12:19:52.108640",
     "exception": false,
     "start_time": "2023-01-04T12:17:09.133109",
     "status": "completed"
    },
    "tags": []
   },
   "outputs": [
    {
     "name": "stdout",
     "output_type": "stream",
     "text": [
      "--2023-01-04 12:17:10--  http://nlp.stanford.edu/data/glove.6B.zip\r\n",
      "Resolving nlp.stanford.edu (nlp.stanford.edu)... 171.64.67.140\r\n",
      "Connecting to nlp.stanford.edu (nlp.stanford.edu)|171.64.67.140|:80... connected.\r\n",
      "HTTP request sent, awaiting response... 302 Found\r\n",
      "Location: https://nlp.stanford.edu/data/glove.6B.zip [following]\r\n",
      "--2023-01-04 12:17:10--  https://nlp.stanford.edu/data/glove.6B.zip\r\n",
      "Connecting to nlp.stanford.edu (nlp.stanford.edu)|171.64.67.140|:443... connected.\r\n",
      "HTTP request sent, awaiting response... 301 Moved Permanently\r\n",
      "Location: https://downloads.cs.stanford.edu/nlp/data/glove.6B.zip [following]\r\n",
      "--2023-01-04 12:17:10--  https://downloads.cs.stanford.edu/nlp/data/glove.6B.zip\r\n",
      "Resolving downloads.cs.stanford.edu (downloads.cs.stanford.edu)... 171.64.64.22\r\n",
      "Connecting to downloads.cs.stanford.edu (downloads.cs.stanford.edu)|171.64.64.22|:443... connected.\r\n",
      "HTTP request sent, awaiting response... 200 OK\r\n",
      "Length: 862182613 (822M) [application/zip]\r\n",
      "Saving to: ‘glove.6B.zip’\r\n",
      "\r\n",
      "glove.6B.zip        100%[===================>] 822.24M  4.32MB/s    in 2m 41s  \r\n",
      "\r\n",
      "2023-01-04 12:19:51 (5.11 MB/s) - ‘glove.6B.zip’ saved [862182613/862182613]\r\n",
      "\r\n"
     ]
    }
   ],
   "source": [
    "!wget -N http://nlp.stanford.edu/data/glove.6B.zip"
   ]
  },
  {
   "cell_type": "code",
   "execution_count": 44,
   "id": "eae7b951",
   "metadata": {
    "execution": {
     "iopub.execute_input": "2023-01-04T12:19:52.278973Z",
     "iopub.status.busy": "2023-01-04T12:19:52.278422Z",
     "iopub.status.idle": "2023-01-04T12:20:17.084561Z",
     "shell.execute_reply": "2023-01-04T12:20:17.083413Z"
    },
    "id": "WQ31_fNUMOu6",
    "outputId": "1ab07f78-0375-4c26-ceea-e6a72074b580",
    "papermill": {
     "duration": 24.895077,
     "end_time": "2023-01-04T12:20:17.087789",
     "exception": false,
     "start_time": "2023-01-04T12:19:52.192712",
     "status": "completed"
    },
    "tags": []
   },
   "outputs": [
    {
     "name": "stdout",
     "output_type": "stream",
     "text": [
      "Archive:  glove.6B.zip\r\n",
      "  inflating: glove.6B.50d.txt        \r\n",
      "  inflating: glove.6B.100d.txt       \r\n",
      "  inflating: glove.6B.200d.txt       \r\n",
      "  inflating: glove.6B.300d.txt       \r\n"
     ]
    }
   ],
   "source": [
    "!unzip -n glove.6B.zip"
   ]
  },
  {
   "cell_type": "code",
   "execution_count": 45,
   "id": "c90c202a",
   "metadata": {
    "execution": {
     "iopub.execute_input": "2023-01-04T12:20:17.247125Z",
     "iopub.status.busy": "2023-01-04T12:20:17.246178Z",
     "iopub.status.idle": "2023-01-04T12:20:25.900389Z",
     "shell.execute_reply": "2023-01-04T12:20:25.899410Z"
    },
    "id": "Ulrwp9hHMH_w",
    "papermill": {
     "duration": 8.738517,
     "end_time": "2023-01-04T12:20:25.905165",
     "exception": false,
     "start_time": "2023-01-04T12:20:17.166648",
     "status": "completed"
    },
    "tags": []
   },
   "outputs": [],
   "source": [
    "glove_100 = pd.read_csv('glove.6B.100d.txt', sep=\" \", quoting=3, header=None, index_col=0)"
   ]
  },
  {
   "cell_type": "code",
   "execution_count": 46,
   "id": "434be1a6",
   "metadata": {
    "execution": {
     "iopub.execute_input": "2023-01-04T12:20:26.181907Z",
     "iopub.status.busy": "2023-01-04T12:20:26.180942Z",
     "iopub.status.idle": "2023-01-04T12:20:26.233279Z",
     "shell.execute_reply": "2023-01-04T12:20:26.229749Z"
    },
    "id": "5t7UWbuxMH9E",
    "outputId": "d5fe41e9-c5a9-43db-97d5-4c7c16965713",
    "papermill": {
     "duration": 0.207219,
     "end_time": "2023-01-04T12:20:26.239249",
     "exception": false,
     "start_time": "2023-01-04T12:20:26.032030",
     "status": "completed"
    },
    "tags": []
   },
   "outputs": [
    {
     "data": {
      "text/html": [
       "<div>\n",
       "<style scoped>\n",
       "    .dataframe tbody tr th:only-of-type {\n",
       "        vertical-align: middle;\n",
       "    }\n",
       "\n",
       "    .dataframe tbody tr th {\n",
       "        vertical-align: top;\n",
       "    }\n",
       "\n",
       "    .dataframe thead th {\n",
       "        text-align: right;\n",
       "    }\n",
       "</style>\n",
       "<table border=\"1\" class=\"dataframe\">\n",
       "  <thead>\n",
       "    <tr style=\"text-align: right;\">\n",
       "      <th></th>\n",
       "      <th>1</th>\n",
       "      <th>2</th>\n",
       "      <th>3</th>\n",
       "      <th>4</th>\n",
       "      <th>5</th>\n",
       "      <th>6</th>\n",
       "      <th>7</th>\n",
       "      <th>8</th>\n",
       "      <th>9</th>\n",
       "      <th>10</th>\n",
       "      <th>...</th>\n",
       "      <th>91</th>\n",
       "      <th>92</th>\n",
       "      <th>93</th>\n",
       "      <th>94</th>\n",
       "      <th>95</th>\n",
       "      <th>96</th>\n",
       "      <th>97</th>\n",
       "      <th>98</th>\n",
       "      <th>99</th>\n",
       "      <th>100</th>\n",
       "    </tr>\n",
       "    <tr>\n",
       "      <th>0</th>\n",
       "      <th></th>\n",
       "      <th></th>\n",
       "      <th></th>\n",
       "      <th></th>\n",
       "      <th></th>\n",
       "      <th></th>\n",
       "      <th></th>\n",
       "      <th></th>\n",
       "      <th></th>\n",
       "      <th></th>\n",
       "      <th></th>\n",
       "      <th></th>\n",
       "      <th></th>\n",
       "      <th></th>\n",
       "      <th></th>\n",
       "      <th></th>\n",
       "      <th></th>\n",
       "      <th></th>\n",
       "      <th></th>\n",
       "      <th></th>\n",
       "      <th></th>\n",
       "    </tr>\n",
       "  </thead>\n",
       "  <tbody>\n",
       "    <tr>\n",
       "      <th>the</th>\n",
       "      <td>-0.038194</td>\n",
       "      <td>-0.244870</td>\n",
       "      <td>0.72812</td>\n",
       "      <td>-0.399610</td>\n",
       "      <td>0.083172</td>\n",
       "      <td>0.043953</td>\n",
       "      <td>-0.391410</td>\n",
       "      <td>0.334400</td>\n",
       "      <td>-0.57545</td>\n",
       "      <td>0.087459</td>\n",
       "      <td>...</td>\n",
       "      <td>0.016215</td>\n",
       "      <td>-0.017099</td>\n",
       "      <td>-0.389840</td>\n",
       "      <td>0.87424</td>\n",
       "      <td>-0.72569</td>\n",
       "      <td>-0.51058</td>\n",
       "      <td>-0.520280</td>\n",
       "      <td>-0.14590</td>\n",
       "      <td>0.82780</td>\n",
       "      <td>0.270620</td>\n",
       "    </tr>\n",
       "    <tr>\n",
       "      <th>,</th>\n",
       "      <td>-0.107670</td>\n",
       "      <td>0.110530</td>\n",
       "      <td>0.59812</td>\n",
       "      <td>-0.543610</td>\n",
       "      <td>0.673960</td>\n",
       "      <td>0.106630</td>\n",
       "      <td>0.038867</td>\n",
       "      <td>0.354810</td>\n",
       "      <td>0.06351</td>\n",
       "      <td>-0.094189</td>\n",
       "      <td>...</td>\n",
       "      <td>0.349510</td>\n",
       "      <td>-0.722600</td>\n",
       "      <td>0.375490</td>\n",
       "      <td>0.44410</td>\n",
       "      <td>-0.99059</td>\n",
       "      <td>0.61214</td>\n",
       "      <td>-0.351110</td>\n",
       "      <td>-0.83155</td>\n",
       "      <td>0.45293</td>\n",
       "      <td>0.082577</td>\n",
       "    </tr>\n",
       "    <tr>\n",
       "      <th>.</th>\n",
       "      <td>-0.339790</td>\n",
       "      <td>0.209410</td>\n",
       "      <td>0.46348</td>\n",
       "      <td>-0.647920</td>\n",
       "      <td>-0.383770</td>\n",
       "      <td>0.038034</td>\n",
       "      <td>0.171270</td>\n",
       "      <td>0.159780</td>\n",
       "      <td>0.46619</td>\n",
       "      <td>-0.019169</td>\n",
       "      <td>...</td>\n",
       "      <td>-0.063351</td>\n",
       "      <td>-0.674120</td>\n",
       "      <td>-0.068895</td>\n",
       "      <td>0.53604</td>\n",
       "      <td>-0.87773</td>\n",
       "      <td>0.31802</td>\n",
       "      <td>-0.392420</td>\n",
       "      <td>-0.23394</td>\n",
       "      <td>0.47298</td>\n",
       "      <td>-0.028803</td>\n",
       "    </tr>\n",
       "    <tr>\n",
       "      <th>of</th>\n",
       "      <td>-0.152900</td>\n",
       "      <td>-0.242790</td>\n",
       "      <td>0.89837</td>\n",
       "      <td>0.169960</td>\n",
       "      <td>0.535160</td>\n",
       "      <td>0.487840</td>\n",
       "      <td>-0.588260</td>\n",
       "      <td>-0.179820</td>\n",
       "      <td>-1.35810</td>\n",
       "      <td>0.425410</td>\n",
       "      <td>...</td>\n",
       "      <td>0.187120</td>\n",
       "      <td>-0.018488</td>\n",
       "      <td>-0.267570</td>\n",
       "      <td>0.72700</td>\n",
       "      <td>-0.59363</td>\n",
       "      <td>-0.34839</td>\n",
       "      <td>-0.560940</td>\n",
       "      <td>-0.59100</td>\n",
       "      <td>1.00390</td>\n",
       "      <td>0.206640</td>\n",
       "    </tr>\n",
       "    <tr>\n",
       "      <th>to</th>\n",
       "      <td>-0.189700</td>\n",
       "      <td>0.050024</td>\n",
       "      <td>0.19084</td>\n",
       "      <td>-0.049184</td>\n",
       "      <td>-0.089737</td>\n",
       "      <td>0.210060</td>\n",
       "      <td>-0.549520</td>\n",
       "      <td>0.098377</td>\n",
       "      <td>-0.20135</td>\n",
       "      <td>0.342410</td>\n",
       "      <td>...</td>\n",
       "      <td>-0.131340</td>\n",
       "      <td>0.058617</td>\n",
       "      <td>-0.318690</td>\n",
       "      <td>-0.61419</td>\n",
       "      <td>-0.62393</td>\n",
       "      <td>-0.41548</td>\n",
       "      <td>-0.038175</td>\n",
       "      <td>-0.39804</td>\n",
       "      <td>0.47647</td>\n",
       "      <td>-0.159830</td>\n",
       "    </tr>\n",
       "  </tbody>\n",
       "</table>\n",
       "<p>5 rows × 100 columns</p>\n",
       "</div>"
      ],
      "text/plain": [
       "          1         2        3         4         5         6         7    \\\n",
       "0                                                                          \n",
       "the -0.038194 -0.244870  0.72812 -0.399610  0.083172  0.043953 -0.391410   \n",
       ",   -0.107670  0.110530  0.59812 -0.543610  0.673960  0.106630  0.038867   \n",
       ".   -0.339790  0.209410  0.46348 -0.647920 -0.383770  0.038034  0.171270   \n",
       "of  -0.152900 -0.242790  0.89837  0.169960  0.535160  0.487840 -0.588260   \n",
       "to  -0.189700  0.050024  0.19084 -0.049184 -0.089737  0.210060 -0.549520   \n",
       "\n",
       "          8        9         10   ...       91        92        93       94   \\\n",
       "0                                 ...                                          \n",
       "the  0.334400 -0.57545  0.087459  ...  0.016215 -0.017099 -0.389840  0.87424   \n",
       ",    0.354810  0.06351 -0.094189  ...  0.349510 -0.722600  0.375490  0.44410   \n",
       ".    0.159780  0.46619 -0.019169  ... -0.063351 -0.674120 -0.068895  0.53604   \n",
       "of  -0.179820 -1.35810  0.425410  ...  0.187120 -0.018488 -0.267570  0.72700   \n",
       "to   0.098377 -0.20135  0.342410  ... -0.131340  0.058617 -0.318690 -0.61419   \n",
       "\n",
       "         95       96        97       98       99        100  \n",
       "0                                                            \n",
       "the -0.72569 -0.51058 -0.520280 -0.14590  0.82780  0.270620  \n",
       ",   -0.99059  0.61214 -0.351110 -0.83155  0.45293  0.082577  \n",
       ".   -0.87773  0.31802 -0.392420 -0.23394  0.47298 -0.028803  \n",
       "of  -0.59363 -0.34839 -0.560940 -0.59100  1.00390  0.206640  \n",
       "to  -0.62393 -0.41548 -0.038175 -0.39804  0.47647 -0.159830  \n",
       "\n",
       "[5 rows x 100 columns]"
      ]
     },
     "execution_count": 46,
     "metadata": {},
     "output_type": "execute_result"
    }
   ],
   "source": [
    "glove_100.head()"
   ]
  },
  {
   "cell_type": "code",
   "execution_count": 47,
   "id": "8ddae126",
   "metadata": {
    "execution": {
     "iopub.execute_input": "2023-01-04T12:20:26.449848Z",
     "iopub.status.busy": "2023-01-04T12:20:26.449365Z",
     "iopub.status.idle": "2023-01-04T12:20:35.987732Z",
     "shell.execute_reply": "2023-01-04T12:20:35.986709Z"
    },
    "id": "NIeFn3aweedB",
    "papermill": {
     "duration": 9.624641,
     "end_time": "2023-01-04T12:20:35.990647",
     "exception": false,
     "start_time": "2023-01-04T12:20:26.366006",
     "status": "completed"
    },
    "tags": []
   },
   "outputs": [],
   "source": [
    "embeddings_dictionary = {key: val.values for key, val in glove_100.T.items()}"
   ]
  },
  {
   "cell_type": "code",
   "execution_count": 48,
   "id": "04199bd6",
   "metadata": {
    "execution": {
     "iopub.execute_input": "2023-01-04T12:20:36.151863Z",
     "iopub.status.busy": "2023-01-04T12:20:36.151080Z",
     "iopub.status.idle": "2023-01-04T12:20:36.159315Z",
     "shell.execute_reply": "2023-01-04T12:20:36.158517Z"
    },
    "id": "7lqUNQ8_eeaA",
    "outputId": "12f0c19a-73b2-4c31-e545-7352b28c14e3",
    "papermill": {
     "duration": 0.091492,
     "end_time": "2023-01-04T12:20:36.161364",
     "exception": false,
     "start_time": "2023-01-04T12:20:36.069872",
     "status": "completed"
    },
    "tags": []
   },
   "outputs": [
    {
     "data": {
      "text/plain": [
       "array([-0.064549, -0.13812 ,  0.50017 ,  0.41434 ,  0.45832 , -0.048331,\n",
       "       -0.21651 ,  0.34987 , -0.83235 , -0.62282 , -0.40099 , -0.31978 ,\n",
       "        0.42928 , -0.026035, -0.16171 , -0.32513 ,  0.77604 , -0.39852 ,\n",
       "       -0.67013 , -0.55876 , -0.39863 , -0.28143 ,  0.68614 ,  0.29229 ,\n",
       "       -0.7146  ,  0.36995 , -0.45309 , -0.23193 ,  0.76916 , -0.031589,\n",
       "        1.0603  ,  1.5446  , -0.13272 ,  0.33701 , -0.97561 ,  0.73617 ,\n",
       "        0.60841 ,  0.558   , -0.39274 ,  0.1121  , -1.0474  , -0.03692 ,\n",
       "        0.99908 , -0.044925, -0.41186 ,  0.19605 ,  0.093281, -0.59623 ,\n",
       "       -0.60765 , -0.4742  , -0.30162 , -0.70128 , -0.20055 ,  0.99519 ,\n",
       "        0.20088 , -2.5636  , -0.14627 ,  0.77824 ,  1.4913  ,  0.29724 ,\n",
       "       -0.12084 , -0.060082,  0.079881, -0.38348 ,  0.41371 , -0.41284 ,\n",
       "        0.61702 ,  1.1316  , -0.047434,  0.2848  ,  0.57694 , -0.45501 ,\n",
       "       -0.76359 , -1.1659  ,  0.068946, -0.22498 ,  0.18691 ,  0.64142 ,\n",
       "       -1.7505  , -0.091248,  0.85848 , -0.52203 , -0.38122 , -0.43335 ,\n",
       "       -0.73706 , -0.51609 , -0.13884 ,  0.65128 ,  0.66747 , -2.1334  ,\n",
       "        0.93429 ,  0.24036 , -0.43398 ,  0.86494 , -0.78319 , -0.032875,\n",
       "       -0.19761 , -0.23146 , -0.20256 ,  0.1193  ])"
      ]
     },
     "execution_count": 48,
     "metadata": {},
     "output_type": "execute_result"
    }
   ],
   "source": [
    "embeddings_dictionary['president']"
   ]
  },
  {
   "cell_type": "code",
   "execution_count": 49,
   "id": "7bbd4d44",
   "metadata": {
    "execution": {
     "iopub.execute_input": "2023-01-04T12:20:36.322763Z",
     "iopub.status.busy": "2023-01-04T12:20:36.321961Z",
     "iopub.status.idle": "2023-01-04T12:20:36.350030Z",
     "shell.execute_reply": "2023-01-04T12:20:36.348619Z"
    },
    "id": "SBpao9-YeeXe",
    "papermill": {
     "duration": 0.112547,
     "end_time": "2023-01-04T12:20:36.352872",
     "exception": false,
     "start_time": "2023-01-04T12:20:36.240325",
     "status": "completed"
    },
    "tags": []
   },
   "outputs": [],
   "source": [
    "embeddings_matrix = np.zeros((size, 100))\n",
    "\n",
    "for word, index in tokenize.word_index.items():\n",
    "  emb_vector = embeddings_dictionary.get(word)\n",
    "  if emb_vector is not None:\n",
    "    embeddings_matrix[index] = emb_vector\n",
    "     \n"
   ]
  },
  {
   "cell_type": "code",
   "execution_count": 50,
   "id": "3ec2ac9b",
   "metadata": {
    "execution": {
     "iopub.execute_input": "2023-01-04T12:20:36.513668Z",
     "iopub.status.busy": "2023-01-04T12:20:36.512689Z",
     "iopub.status.idle": "2023-01-04T12:20:36.520522Z",
     "shell.execute_reply": "2023-01-04T12:20:36.519419Z"
    },
    "id": "_2JNQvJKeeUs",
    "outputId": "bedf93cd-2cfc-46e1-8034-09d2ddf3b3da",
    "papermill": {
     "duration": 0.09085,
     "end_time": "2023-01-04T12:20:36.522868",
     "exception": false,
     "start_time": "2023-01-04T12:20:36.432018",
     "status": "completed"
    },
    "tags": []
   },
   "outputs": [
    {
     "data": {
      "text/plain": [
       "(6526, 100)"
      ]
     },
     "execution_count": 50,
     "metadata": {},
     "output_type": "execute_result"
    }
   ],
   "source": [
    "embeddings_matrix.shape"
   ]
  },
  {
   "cell_type": "code",
   "execution_count": 51,
   "id": "6e5a2ba1",
   "metadata": {
    "execution": {
     "iopub.execute_input": "2023-01-04T12:20:36.683019Z",
     "iopub.status.busy": "2023-01-04T12:20:36.681652Z",
     "iopub.status.idle": "2023-01-04T12:20:36.689697Z",
     "shell.execute_reply": "2023-01-04T12:20:36.688478Z"
    },
    "id": "wrxG5riMeeR7",
    "outputId": "edd3764a-1b0d-42c5-e262-7e8b0661dce6",
    "papermill": {
     "duration": 0.090279,
     "end_time": "2023-01-04T12:20:36.691891",
     "exception": false,
     "start_time": "2023-01-04T12:20:36.601612",
     "status": "completed"
    },
    "tags": []
   },
   "outputs": [
    {
     "data": {
      "text/plain": [
       "(100,)"
      ]
     },
     "execution_count": 51,
     "metadata": {},
     "output_type": "execute_result"
    }
   ],
   "source": [
    "embeddings_matrix[0].shape"
   ]
  },
  {
   "cell_type": "code",
   "execution_count": 52,
   "id": "183a531d",
   "metadata": {
    "execution": {
     "iopub.execute_input": "2023-01-04T12:20:36.939626Z",
     "iopub.status.busy": "2023-01-04T12:20:36.939075Z",
     "iopub.status.idle": "2023-01-04T12:20:36.954498Z",
     "shell.execute_reply": "2023-01-04T12:20:36.953357Z"
    },
    "id": "inZijVYoeePT",
    "outputId": "e2294bbf-5c7c-4012-9952-87a59c2dc735",
    "papermill": {
     "duration": 0.098507,
     "end_time": "2023-01-04T12:20:36.956848",
     "exception": false,
     "start_time": "2023-01-04T12:20:36.858341",
     "status": "completed"
    },
    "tags": []
   },
   "outputs": [
    {
     "data": {
      "text/plain": [
       "array([[ 0.0000e+00,  0.0000e+00,  0.0000e+00,  0.0000e+00,  0.0000e+00,\n",
       "         0.0000e+00,  0.0000e+00,  0.0000e+00,  0.0000e+00,  0.0000e+00,\n",
       "         0.0000e+00,  0.0000e+00,  0.0000e+00,  0.0000e+00,  0.0000e+00,\n",
       "         0.0000e+00,  0.0000e+00,  0.0000e+00,  0.0000e+00,  0.0000e+00,\n",
       "         0.0000e+00,  0.0000e+00,  0.0000e+00,  0.0000e+00,  0.0000e+00,\n",
       "         0.0000e+00,  0.0000e+00,  0.0000e+00,  0.0000e+00,  0.0000e+00,\n",
       "         0.0000e+00,  0.0000e+00,  0.0000e+00,  0.0000e+00,  0.0000e+00,\n",
       "         0.0000e+00,  0.0000e+00,  0.0000e+00,  0.0000e+00,  0.0000e+00,\n",
       "         0.0000e+00,  0.0000e+00,  0.0000e+00,  0.0000e+00,  0.0000e+00,\n",
       "         0.0000e+00,  0.0000e+00,  0.0000e+00,  0.0000e+00,  0.0000e+00,\n",
       "         0.0000e+00,  0.0000e+00,  0.0000e+00,  0.0000e+00,  0.0000e+00,\n",
       "         0.0000e+00,  0.0000e+00,  0.0000e+00,  0.0000e+00,  0.0000e+00,\n",
       "         0.0000e+00,  0.0000e+00,  0.0000e+00,  0.0000e+00,  0.0000e+00,\n",
       "         0.0000e+00,  0.0000e+00,  0.0000e+00,  0.0000e+00,  0.0000e+00,\n",
       "         0.0000e+00,  0.0000e+00,  0.0000e+00,  0.0000e+00,  0.0000e+00,\n",
       "         0.0000e+00,  0.0000e+00,  0.0000e+00,  0.0000e+00,  0.0000e+00,\n",
       "         0.0000e+00,  0.0000e+00,  0.0000e+00,  0.0000e+00,  0.0000e+00,\n",
       "         0.0000e+00,  0.0000e+00,  0.0000e+00,  0.0000e+00,  0.0000e+00,\n",
       "         0.0000e+00,  0.0000e+00,  0.0000e+00,  0.0000e+00,  0.0000e+00,\n",
       "         0.0000e+00,  0.0000e+00,  0.0000e+00,  0.0000e+00,  0.0000e+00],\n",
       "       [-4.6539e-02,  6.1966e-01,  5.6647e-01, -4.6584e-01, -1.1890e+00,\n",
       "         4.4599e-01,  6.6035e-02,  3.1910e-01,  1.4679e-01, -2.2119e-01,\n",
       "         7.9239e-01,  2.9905e-01,  1.6073e-01,  2.5324e-02,  1.8678e-01,\n",
       "        -3.1001e-01, -2.8108e-01,  6.0515e-01, -1.0654e+00,  5.2476e-01,\n",
       "         6.4152e-02,  1.0358e+00, -4.0779e-01, -3.8011e-01,  3.0801e-01,\n",
       "         5.9964e-01, -2.6991e-01, -7.6035e-01,  9.4222e-01, -4.6919e-01,\n",
       "        -1.8278e-01,  9.0652e-01,  7.9671e-01,  2.4825e-01,  2.5713e-01,\n",
       "         6.2320e-01, -4.4768e-01,  6.5357e-01,  7.6902e-01, -5.1229e-01,\n",
       "        -4.4333e-01, -2.1867e-01,  3.8370e-01, -1.1483e+00, -9.4398e-01,\n",
       "        -1.5062e-01,  3.0012e-01, -5.7806e-01,  2.0175e-01, -1.6591e+00,\n",
       "        -7.9195e-02,  2.6423e-02,  2.2051e-01,  9.9714e-01, -5.7539e-01,\n",
       "        -2.7266e+00,  3.1448e-01,  7.0522e-01,  1.4381e+00,  9.9126e-01,\n",
       "         1.3976e-01,  1.3474e+00, -1.1753e+00,  3.9503e-03,  1.0298e+00,\n",
       "         6.4637e-02,  9.0887e-01,  8.2872e-01, -4.7003e-01, -1.0575e-01,\n",
       "         5.9160e-01, -4.2210e-01,  5.7331e-01, -5.4114e-01,  1.0768e-01,\n",
       "         3.9784e-01, -4.8744e-02,  6.4596e-02, -6.1437e-01, -2.8600e-01,\n",
       "         5.0670e-01, -4.9758e-01, -8.1570e-01,  1.6408e-01, -1.9630e+00,\n",
       "        -2.6693e-01, -3.7593e-01, -9.5847e-01, -8.5840e-01, -7.1577e-01,\n",
       "        -3.2343e-01, -4.3121e-01,  4.1392e-01,  2.8374e-01, -7.0931e-01,\n",
       "         1.5003e-01, -2.1540e-01, -3.7616e-01, -3.2502e-02,  8.0620e-01],\n",
       "       [-3.1087e-02,  2.2155e-01,  4.4494e-01,  9.2176e-01, -1.8663e-01,\n",
       "         6.9117e-02,  3.2930e-01,  2.6915e-01,  1.5562e-01,  3.1308e-01,\n",
       "         6.1152e-01, -1.1215e-01,  2.1906e-01,  4.9481e-01,  8.7445e-02,\n",
       "         9.1590e-02, -1.4941e-01, -3.5240e-03,  3.5123e-02,  4.2403e-01,\n",
       "         1.3093e+00,  3.8263e-01, -4.0788e-01,  1.6399e-01, -4.0562e-01,\n",
       "         8.7825e-01,  3.8619e-01,  4.5630e-01,  9.0609e-01, -4.8334e-01,\n",
       "         3.0580e-01,  1.1697e+00,  2.2698e-01,  4.0321e-01, -1.9317e-01,\n",
       "         4.6835e-01,  5.0217e-01,  1.2198e+00,  1.1228e-01, -7.0321e-01,\n",
       "         1.6696e-01, -1.3545e-01,  1.4074e-01, -5.0954e-01,  1.0954e-01,\n",
       "         7.0928e-02, -4.3888e-01,  5.7235e-01,  2.8055e-01,  4.4428e-01,\n",
       "        -3.9781e-01,  2.8689e-01,  4.0588e-01,  2.5379e-01,  2.2166e-02,\n",
       "        -7.7768e-01, -2.8908e-01,  5.2274e-01,  1.0746e+00, -1.8212e-01,\n",
       "        -1.1388e+00, -5.5753e-01, -7.8220e-01, -3.1826e-01,  4.3901e-01,\n",
       "         7.1711e-01,  7.0671e-01,  8.4200e-01,  1.4151e-02,  3.7457e-01,\n",
       "         2.6225e-01,  4.7146e-01,  1.9087e-01, -1.0960e+00,  3.5595e-01,\n",
       "         2.5326e-01, -8.6234e-02,  6.9395e-01, -7.7498e-03, -3.5524e-01,\n",
       "        -1.1673e-01, -1.5351e+00, -2.2939e-01, -1.9140e-01, -9.4135e-01,\n",
       "         3.3092e-01,  3.5075e-01, -1.6227e+00,  4.2651e-01, -1.0422e-01,\n",
       "        -1.0879e-01,  8.1115e-01, -2.6946e-01,  4.7199e-01,  8.4800e-02,\n",
       "        -7.0241e-01,  1.8598e-01, -6.7097e-01,  2.4698e-01, -6.2001e-01],\n",
       "       [-5.7833e-01, -3.6551e-03,  3.4658e-01, -1.3135e-01, -5.5454e-01,\n",
       "         5.1136e-01, -3.3964e-01,  2.1444e-01, -1.4875e-01, -4.0632e-01,\n",
       "        -2.4877e-01, -1.3711e-02, -7.7743e-02, -3.1011e-03,  3.9742e-01,\n",
       "        -9.2896e-02,  5.1331e-02, -5.7702e-02, -1.0554e+00,  4.4600e-01,\n",
       "         1.3033e-01, -1.0070e-01, -4.6623e-01, -4.1154e-01,  2.3996e-01,\n",
       "         1.0277e-02, -3.1810e-01,  1.2289e-02,  8.1148e-01,  6.4896e-03,\n",
       "         1.9668e-01,  7.2425e-01,  1.4470e-01,  3.2890e-01,  1.0419e-01,\n",
       "         4.3356e-01, -2.2548e-01, -4.1436e-01,  6.7698e-01, -3.1664e-01,\n",
       "        -5.6414e-01,  9.9459e-02,  1.2022e-03, -4.3698e-01, -2.8734e-01,\n",
       "        -4.1786e-01, -5.1603e-01, -2.0215e-01,  4.5103e-02, -1.0291e+00,\n",
       "         3.3465e-01,  4.0716e-01,  3.5260e-01,  5.1566e-01, -4.0057e-01,\n",
       "        -2.1249e+00,  1.8735e-01,  7.0587e-02,  1.7854e+00,  2.5659e-01,\n",
       "        -3.5064e-01, -1.5965e-01, -9.7151e-02, -8.4694e-01,  4.4468e-01,\n",
       "        -3.3631e-01, -7.5343e-03,  3.6411e-01,  2.5368e-01, -3.0346e-01,\n",
       "        -5.4467e-01, -1.8555e-02, -5.9607e-01, -1.1053e+00,  5.9089e-03,\n",
       "         1.1293e-01,  1.2558e-01,  1.6152e-01, -1.0960e+00, -4.2930e-01,\n",
       "         4.3090e-01, -8.1201e-01, -3.0434e-01, -4.9247e-01, -1.5306e+00,\n",
       "        -6.3408e-02,  5.6379e-01,  2.4842e-01,  1.8647e-01, -3.2636e-01,\n",
       "         1.1546e-01,  2.9028e-01, -2.3353e-01, -1.6417e-01, -5.9932e-01,\n",
       "        -3.0300e-01, -1.1732e-01,  7.0204e-02,  4.4509e-01,  2.4148e-01],\n",
       "       [ 1.4433e-01,  4.3951e-01,  5.8324e-01, -7.4477e-01, -4.9797e-01,\n",
       "         8.6928e-02, -2.9798e-01,  3.9964e-01,  1.4083e-01, -3.6578e-01,\n",
       "         3.3322e-01,  4.7181e-01,  1.9960e-01,  1.8278e-01,  1.7176e-01,\n",
       "        -3.4297e-01,  4.2520e-02,  3.9309e-01, -6.6272e-01,  6.2738e-01,\n",
       "         2.2845e-01,  4.4657e-01,  1.1174e-01, -4.1396e-01,  7.9795e-02,\n",
       "         7.8823e-02, -2.6135e-01, -8.0966e-01,  5.2807e-01, -4.7327e-01,\n",
       "         5.5901e-02,  8.5753e-01,  1.9722e-01,  3.0782e-01,  3.9039e-01,\n",
       "         3.1804e-01, -5.3604e-01,  1.8350e-01,  8.1918e-02,  2.7753e-01,\n",
       "        -2.5792e-01, -3.7158e-01, -2.2150e-01, -1.0916e+00, -5.2179e-01,\n",
       "         1.2665e-01, -4.8591e-01, -2.6716e-01,  3.7119e-01, -1.0525e+00,\n",
       "        -3.0202e-01, -1.6279e-01, -3.2528e-01,  9.5493e-01,  1.4915e-01,\n",
       "        -2.4934e+00,  2.7505e-01,  1.6308e-01,  1.8972e+00,  2.1172e-01,\n",
       "         1.0776e-01,  1.1318e+00, -8.5962e-01,  6.0199e-02,  8.3713e-01,\n",
       "         3.0006e-02,  5.9344e-01,  4.2821e-01, -1.3722e-01, -4.9128e-01,\n",
       "         4.3155e-03, -5.1829e-01, -5.9878e-02, -5.8476e-01,  6.2621e-02,\n",
       "         3.1269e-01, -5.2613e-01, -3.5209e-01, -4.9959e-01, -1.3117e-01,\n",
       "         6.2349e-01, -9.2936e-02, -9.2224e-01, -3.2487e-01, -1.8286e+00,\n",
       "        -1.2840e-01,  5.0507e-01, -3.4628e-02, -7.9806e-01, -4.9739e-01,\n",
       "        -9.6325e-02, -1.7695e-01, -3.6351e-02, -7.5977e-01, -4.9938e-01,\n",
       "        -2.0278e-01,  3.4232e-01,  5.0134e-01,  4.9536e-01,  4.9920e-01]])"
      ]
     },
     "execution_count": 52,
     "metadata": {},
     "output_type": "execute_result"
    }
   ],
   "source": [
    "embeddings_matrix[:5]"
   ]
  },
  {
   "cell_type": "code",
   "execution_count": 53,
   "id": "994bf654",
   "metadata": {
    "execution": {
     "iopub.execute_input": "2023-01-04T12:20:37.118187Z",
     "iopub.status.busy": "2023-01-04T12:20:37.116975Z",
     "iopub.status.idle": "2023-01-04T12:20:37.611156Z",
     "shell.execute_reply": "2023-01-04T12:20:37.609871Z"
    },
    "id": "NoNykr_z23pW",
    "papermill": {
     "duration": 0.578379,
     "end_time": "2023-01-04T12:20:37.614260",
     "exception": false,
     "start_time": "2023-01-04T12:20:37.035881",
     "status": "completed"
    },
    "tags": []
   },
   "outputs": [
    {
     "name": "stderr",
     "output_type": "stream",
     "text": [
      "2023-01-04 12:20:37.177843: I tensorflow/core/common_runtime/process_util.cc:146] Creating new thread pool with default inter op setting: 2. Tune using inter_op_parallelism_threads for best performance.\n"
     ]
    }
   ],
   "source": [
    "model = tf.keras.Sequential([\n",
    "    tf.keras.layers.Embedding(input_dim = size, output_dim = 100,\n",
    "                              weights=[embeddings_matrix],input_length=pad_length,\n",
    "                              trainable=False),\n",
    "    tf.keras.layers.LSTM(128,activation = 'tanh'),\n",
    "    tf.keras.layers.Dense(32, activation='tanh'),\n",
    "    tf.keras.layers.Dropout(rate=0.5),\n",
    "    tf.keras.layers.Dense(6, activation='tanh'),\n",
    "    tf.keras.layers.Dense(1, activation='sigmoid')\n",
    "])"
   ]
  },
  {
   "cell_type": "code",
   "execution_count": 54,
   "id": "9316d863",
   "metadata": {
    "execution": {
     "iopub.execute_input": "2023-01-04T12:20:37.776184Z",
     "iopub.status.busy": "2023-01-04T12:20:37.775297Z",
     "iopub.status.idle": "2023-01-04T12:20:37.790739Z",
     "shell.execute_reply": "2023-01-04T12:20:37.789792Z"
    },
    "id": "cAwPj62723mV",
    "papermill": {
     "duration": 0.09862,
     "end_time": "2023-01-04T12:20:37.793075",
     "exception": false,
     "start_time": "2023-01-04T12:20:37.694455",
     "status": "completed"
    },
    "tags": []
   },
   "outputs": [],
   "source": [
    "model.compile(loss='binary_crossentropy',optimizer='adam',metrics=['accuracy'])"
   ]
  },
  {
   "cell_type": "code",
   "execution_count": 55,
   "id": "144b06fc",
   "metadata": {
    "execution": {
     "iopub.execute_input": "2023-01-04T12:20:37.954518Z",
     "iopub.status.busy": "2023-01-04T12:20:37.954016Z",
     "iopub.status.idle": "2023-01-04T12:20:37.961370Z",
     "shell.execute_reply": "2023-01-04T12:20:37.960231Z"
    },
    "id": "Z9nyetIM23jh",
    "outputId": "7c1dd1de-b773-419a-ea88-85dbdd709e2d",
    "papermill": {
     "duration": 0.091672,
     "end_time": "2023-01-04T12:20:37.963864",
     "exception": false,
     "start_time": "2023-01-04T12:20:37.872192",
     "status": "completed"
    },
    "tags": []
   },
   "outputs": [
    {
     "name": "stdout",
     "output_type": "stream",
     "text": [
      "Model: \"sequential\"\n",
      "_________________________________________________________________\n",
      "Layer (type)                 Output Shape              Param #   \n",
      "=================================================================\n",
      "embedding (Embedding)        (None, 100, 100)          652600    \n",
      "_________________________________________________________________\n",
      "lstm (LSTM)                  (None, 128)               117248    \n",
      "_________________________________________________________________\n",
      "dense (Dense)                (None, 32)                4128      \n",
      "_________________________________________________________________\n",
      "dropout (Dropout)            (None, 32)                0         \n",
      "_________________________________________________________________\n",
      "dense_1 (Dense)              (None, 6)                 198       \n",
      "_________________________________________________________________\n",
      "dense_2 (Dense)              (None, 1)                 7         \n",
      "=================================================================\n",
      "Total params: 774,181\n",
      "Trainable params: 121,581\n",
      "Non-trainable params: 652,600\n",
      "_________________________________________________________________\n"
     ]
    }
   ],
   "source": [
    "model.summary()"
   ]
  },
  {
   "cell_type": "code",
   "execution_count": 56,
   "id": "da97009e",
   "metadata": {
    "execution": {
     "iopub.execute_input": "2023-01-04T12:20:38.128016Z",
     "iopub.status.busy": "2023-01-04T12:20:38.127545Z",
     "iopub.status.idle": "2023-01-04T12:20:38.134858Z",
     "shell.execute_reply": "2023-01-04T12:20:38.133503Z"
    },
    "id": "j9oj6PhFAE5Y",
    "papermill": {
     "duration": 0.09342,
     "end_time": "2023-01-04T12:20:38.137385",
     "exception": false,
     "start_time": "2023-01-04T12:20:38.043965",
     "status": "completed"
    },
    "tags": []
   },
   "outputs": [],
   "source": [
    "class myCallback(tf.keras.callbacks.Callback):\n",
    "  def on_epoch_end(self, epoch, logs={}):\n",
    "    if(logs.get('accuracy')>0.98):\n",
    "      print(\"\\nReached 99% accuracy so cancelling training!\")\n",
    "      self.model.stop_training = True\n",
    "\n",
    "callbacks = myCallback()"
   ]
  },
  {
   "cell_type": "code",
   "execution_count": 57,
   "id": "c1464914",
   "metadata": {
    "execution": {
     "iopub.execute_input": "2023-01-04T12:20:38.307829Z",
     "iopub.status.busy": "2023-01-04T12:20:38.305773Z",
     "iopub.status.idle": "2023-01-04T12:23:17.393580Z",
     "shell.execute_reply": "2023-01-04T12:23:17.392159Z"
    },
    "id": "EsKVD0bk23hB",
    "outputId": "d7e7b1da-f4ee-4dfa-e878-14e837736e6b",
    "papermill": {
     "duration": 159.176303,
     "end_time": "2023-01-04T12:23:17.396927",
     "exception": false,
     "start_time": "2023-01-04T12:20:38.220624",
     "status": "completed"
    },
    "tags": []
   },
   "outputs": [
    {
     "name": "stderr",
     "output_type": "stream",
     "text": [
      "2023-01-04 12:20:38.377393: I tensorflow/compiler/mlir/mlir_graph_optimization_pass.cc:185] None of the MLIR Optimization Passes are enabled (registered 2)\n"
     ]
    },
    {
     "name": "stdout",
     "output_type": "stream",
     "text": [
      "Epoch 1/50\n",
      "97/97 [==============================] - 17s 145ms/step - loss: 0.3852 - accuracy: 0.8409 - val_loss: 0.4643 - val_accuracy: 0.8117\n",
      "Epoch 2/50\n",
      "97/97 [==============================] - 12s 125ms/step - loss: 0.2609 - accuracy: 0.9052 - val_loss: 0.2936 - val_accuracy: 0.9014\n",
      "Epoch 3/50\n",
      "97/97 [==============================] - 13s 133ms/step - loss: 0.2237 - accuracy: 0.9218 - val_loss: 0.4525 - val_accuracy: 0.8195\n",
      "Epoch 4/50\n",
      "97/97 [==============================] - 13s 136ms/step - loss: 0.1906 - accuracy: 0.9365 - val_loss: 0.2622 - val_accuracy: 0.9052\n",
      "Epoch 5/50\n",
      "97/97 [==============================] - 13s 130ms/step - loss: 0.1644 - accuracy: 0.9471 - val_loss: 0.2455 - val_accuracy: 0.9162\n",
      "Epoch 6/50\n",
      "97/97 [==============================] - 13s 137ms/step - loss: 0.1491 - accuracy: 0.9528 - val_loss: 0.2820 - val_accuracy: 0.9001\n",
      "Epoch 7/50\n",
      "97/97 [==============================] - 13s 132ms/step - loss: 0.1296 - accuracy: 0.9626 - val_loss: 0.3857 - val_accuracy: 0.8743\n",
      "Epoch 8/50\n",
      "97/97 [==============================] - 13s 135ms/step - loss: 0.1075 - accuracy: 0.9689 - val_loss: 0.2916 - val_accuracy: 0.9046\n",
      "Epoch 9/50\n",
      "97/97 [==============================] - 13s 130ms/step - loss: 0.0929 - accuracy: 0.9742 - val_loss: 0.2909 - val_accuracy: 0.9033\n",
      "Epoch 10/50\n",
      "97/97 [==============================] - 13s 129ms/step - loss: 0.0863 - accuracy: 0.9744 - val_loss: 0.2911 - val_accuracy: 0.9110\n",
      "Epoch 11/50\n",
      "97/97 [==============================] - 14s 142ms/step - loss: 0.0758 - accuracy: 0.9771 - val_loss: 0.3752 - val_accuracy: 0.8865\n",
      "Epoch 12/50\n",
      "97/97 [==============================] - 13s 133ms/step - loss: 0.0530 - accuracy: 0.9890 - val_loss: 0.4230 - val_accuracy: 0.8814\n",
      "\n",
      "Reached 99% accuracy so cancelling training!\n"
     ]
    }
   ],
   "source": [
    "history = model.fit(x_resampled,y_resampled,batch_size=64,epochs=50,validation_split=0.20,callbacks=[callbacks]) "
   ]
  },
  {
   "cell_type": "code",
   "execution_count": 58,
   "id": "3cc7c591",
   "metadata": {
    "execution": {
     "iopub.execute_input": "2023-01-04T12:23:17.702307Z",
     "iopub.status.busy": "2023-01-04T12:23:17.701024Z",
     "iopub.status.idle": "2023-01-04T12:24:02.865796Z",
     "shell.execute_reply": "2023-01-04T12:24:02.864596Z"
    },
    "id": "TTc6jt5B23eK",
    "papermill": {
     "duration": 45.466496,
     "end_time": "2023-01-04T12:24:03.017060",
     "exception": false,
     "start_time": "2023-01-04T12:23:17.550564",
     "status": "completed"
    },
    "tags": []
   },
   "outputs": [
    {
     "data": {
      "image/png": "[encoded data removed]",
      "text/plain": [
       "<Figure size 720x288 with 1 Axes>"
      ]
     },
     "metadata": {
      "needs_background": "light"
     },
     "output_type": "display_data"
    }
   ],
   "source": [
    "fig = plt.figure(figsize=(10, 4))\n",
    "plt.plot(history.history['accuracy'])\n",
    "plt.plot(history.history['val_accuracy'])\n",
    "plt.title('Accuracy of Model')\n",
    "plt.xlabel('Epochs')\n",
    "plt.ylabel('Accuracy')\n",
    "plt.legend(['train', 'test'], loc='lower right')\n",
    "plt.show()"
   ]
  },
  {
   "cell_type": "code",
   "execution_count": 59,
   "id": "3ff763d6",
   "metadata": {
    "execution": {
     "iopub.execute_input": "2023-01-04T12:24:03.313300Z",
     "iopub.status.busy": "2023-01-04T12:24:03.312427Z",
     "iopub.status.idle": "2023-01-04T12:24:03.517885Z",
     "shell.execute_reply": "2023-01-04T12:24:03.516573Z"
    },
    "id": "EuQ2Ln1R23bX",
    "papermill": {
     "duration": 0.354697,
     "end_time": "2023-01-04T12:24:03.520371",
     "exception": false,
     "start_time": "2023-01-04T12:24:03.165674",
     "status": "completed"
    },
    "tags": []
   },
   "outputs": [
    {
     "data": {
      "image/png": "[encoded data removed]",
      "text/plain": [
       "<Figure size 720x288 with 1 Axes>"
      ]
     },
     "metadata": {
      "needs_background": "light"
     },
     "output_type": "display_data"
    }
   ],
   "source": [
    "fig = plt.figure(figsize=(10, 4))\n",
    "plt.plot(history.history['loss'])\n",
    "plt.plot(history.history['val_loss'])\n",
    "plt.title('Loss of Model')\n",
    "plt.xlabel('Epochs')\n",
    "plt.ylabel('Loss')\n",
    "plt.legend(['train', 'test'], loc='upper right')\n",
    "plt.show()\n"
   ]
  },
  {
   "cell_type": "code",
   "execution_count": null,
   "id": "f294c1f3",
   "metadata": {
    "id": "VKKDe5zd23Yd",
    "papermill": {
     "duration": 0.205135,
     "end_time": "2023-01-04T12:24:03.871550",
     "exception": false,
     "start_time": "2023-01-04T12:24:03.666415",
     "status": "completed"
    },
    "tags": []
   },
   "outputs": [],
   "source": []
  },
  {
   "cell_type": "code",
   "execution_count": null,
   "id": "b5af2e54",
   "metadata": {
    "id": "1MZsaalZ23Vv",
    "papermill": {
     "duration": 0.147458,
     "end_time": "2023-01-04T12:24:04.164768",
     "exception": false,
     "start_time": "2023-01-04T12:24:04.017310",
     "status": "completed"
    },
    "tags": []
   },
   "outputs": [],
   "source": []
  },
  {
   "cell_type": "code",
   "execution_count": null,
   "id": "68294c57",
   "metadata": {
    "id": "WzM9Cj3823S7",
    "papermill": {
     "duration": 0.147083,
     "end_time": "2023-01-04T12:24:04.458194",
     "exception": false,
     "start_time": "2023-01-04T12:24:04.311111",
     "status": "completed"
    },
    "tags": []
   },
   "outputs": [],
   "source": []
  },
  {
   "cell_type": "code",
   "execution_count": null,
   "id": "38cd5f3d",
   "metadata": {
    "id": "6-FHNxZY23QM",
    "papermill": {
     "duration": 0.148975,
     "end_time": "2023-01-04T12:24:04.760952",
     "exception": false,
     "start_time": "2023-01-04T12:24:04.611977",
     "status": "completed"
    },
    "tags": []
   },
   "outputs": [],
   "source": []
  },
  {
   "cell_type": "code",
   "execution_count": null,
   "id": "313de220",
   "metadata": {
    "id": "X05axsv123Ne",
    "papermill": {
     "duration": 0.14967,
     "end_time": "2023-01-04T12:24:05.056377",
     "exception": false,
     "start_time": "2023-01-04T12:24:04.906707",
     "status": "completed"
    },
    "tags": []
   },
   "outputs": [],
   "source": []
  },
  {
   "cell_type": "code",
   "execution_count": null,
   "id": "0ca305ea",
   "metadata": {
    "id": "yNesyNkH23Ks",
    "papermill": {
     "duration": 0.147614,
     "end_time": "2023-01-04T12:24:05.357694",
     "exception": false,
     "start_time": "2023-01-04T12:24:05.210080",
     "status": "completed"
    },
    "tags": []
   },
   "outputs": [],
   "source": []
  },
  {
   "cell_type": "code",
   "execution_count": null,
   "id": "541ed6b5",
   "metadata": {
    "id": "uMt-EiLH23IJ",
    "papermill": {
     "duration": 0.146089,
     "end_time": "2023-01-04T12:24:05.652995",
     "exception": false,
     "start_time": "2023-01-04T12:24:05.506906",
     "status": "completed"
    },
    "tags": []
   },
   "outputs": [],
   "source": []
  },
  {
   "cell_type": "code",
   "execution_count": null,
   "id": "22b16c63",
   "metadata": {
    "id": "NP4Ibd-X23Fd",
    "papermill": {
     "duration": 0.210489,
     "end_time": "2023-01-04T12:24:06.011260",
     "exception": false,
     "start_time": "2023-01-04T12:24:05.800771",
     "status": "completed"
    },
    "tags": []
   },
   "outputs": [],
   "source": []
  },
  {
   "cell_type": "code",
   "execution_count": null,
   "id": "5f655cb4",
   "metadata": {
    "id": "snqf82Nn23C6",
    "papermill": {
     "duration": 0.175205,
     "end_time": "2023-01-04T12:24:06.331811",
     "exception": false,
     "start_time": "2023-01-04T12:24:06.156606",
     "status": "completed"
    },
    "tags": []
   },
   "outputs": [],
   "source": []
  },
  {
   "cell_type": "code",
   "execution_count": null,
   "id": "eb68b320",
   "metadata": {
    "id": "u8F34cxO23AI",
    "papermill": {
     "duration": 0.146879,
     "end_time": "2023-01-04T12:24:06.629425",
     "exception": false,
     "start_time": "2023-01-04T12:24:06.482546",
     "status": "completed"
    },
    "tags": []
   },
   "outputs": [],
   "source": []
  },
  {
   "cell_type": "code",
   "execution_count": null,
   "id": "7300261b",
   "metadata": {
    "id": "O0Uq55kg229n",
    "papermill": {
     "duration": 0.148456,
     "end_time": "2023-01-04T12:24:06.919603",
     "exception": false,
     "start_time": "2023-01-04T12:24:06.771147",
     "status": "completed"
    },
    "tags": []
   },
   "outputs": [],
   "source": []
  },
  {
   "cell_type": "code",
   "execution_count": null,
   "id": "cc28ddea",
   "metadata": {
    "id": "lD-XAwYh2266",
    "papermill": {
     "duration": 0.15005,
     "end_time": "2023-01-04T12:24:07.217294",
     "exception": false,
     "start_time": "2023-01-04T12:24:07.067244",
     "status": "completed"
    },
    "tags": []
   },
   "outputs": [],
   "source": []
  },
  {
   "cell_type": "code",
   "execution_count": null,
   "id": "60338534",
   "metadata": {
    "id": "Wel30JmV224P",
    "papermill": {
     "duration": 0.150453,
     "end_time": "2023-01-04T12:24:07.519844",
     "exception": false,
     "start_time": "2023-01-04T12:24:07.369391",
     "status": "completed"
    },
    "tags": []
   },
   "outputs": [],
   "source": []
  },
  {
   "cell_type": "code",
   "execution_count": null,
   "id": "8c8c2322",
   "metadata": {
    "id": "zJmDF4vw221T",
    "papermill": {
     "duration": 0.142998,
     "end_time": "2023-01-04T12:24:07.808987",
     "exception": false,
     "start_time": "2023-01-04T12:24:07.665989",
     "status": "completed"
    },
    "tags": []
   },
   "outputs": [],
   "source": []
  },
  {
   "cell_type": "code",
   "execution_count": null,
   "id": "33f477bb",
   "metadata": {
    "id": "u1wyTK0c22ys",
    "papermill": {
     "duration": 0.14459,
     "end_time": "2023-01-04T12:24:08.162745",
     "exception": false,
     "start_time": "2023-01-04T12:24:08.018155",
     "status": "completed"
    },
    "tags": []
   },
   "outputs": [],
   "source": []
  },
  {
   "cell_type": "code",
   "execution_count": null,
   "id": "7a2365a5",
   "metadata": {
    "id": "2ju9PK6322vu",
    "papermill": {
     "duration": 0.14875,
     "end_time": "2023-01-04T12:24:08.455433",
     "exception": false,
     "start_time": "2023-01-04T12:24:08.306683",
     "status": "completed"
    },
    "tags": []
   },
   "outputs": [],
   "source": []
  },
  {
   "cell_type": "code",
   "execution_count": null,
   "id": "580b33f6",
   "metadata": {
    "id": "mzVHqiEd22tE",
    "papermill": {
     "duration": 0.147211,
     "end_time": "2023-01-04T12:24:08.756041",
     "exception": false,
     "start_time": "2023-01-04T12:24:08.608830",
     "status": "completed"
    },
    "tags": []
   },
   "outputs": [],
   "source": []
  },
  {
   "cell_type": "code",
   "execution_count": null,
   "id": "a97a48e1",
   "metadata": {
    "id": "_E9XyNdx22qM",
    "papermill": {
     "duration": 0.146085,
     "end_time": "2023-01-04T12:24:09.050964",
     "exception": false,
     "start_time": "2023-01-04T12:24:08.904879",
     "status": "completed"
    },
    "tags": []
   },
   "outputs": [],
   "source": []
  },
  {
   "cell_type": "code",
   "execution_count": null,
   "id": "4a3dfc8a",
   "metadata": {
    "id": "nRgShawg22ng",
    "papermill": {
     "duration": 0.146532,
     "end_time": "2023-01-04T12:24:09.345649",
     "exception": false,
     "start_time": "2023-01-04T12:24:09.199117",
     "status": "completed"
    },
    "tags": []
   },
   "outputs": [],
   "source": []
  },
  {
   "cell_type": "code",
   "execution_count": null,
   "id": "b4f3dc97",
   "metadata": {
    "id": "BpSE6MAp22kz",
    "papermill": {
     "duration": 0.145407,
     "end_time": "2023-01-04T12:24:09.642067",
     "exception": false,
     "start_time": "2023-01-04T12:24:09.496660",
     "status": "completed"
    },
    "tags": []
   },
   "outputs": [],
   "source": []
  },
  {
   "cell_type": "code",
   "execution_count": null,
   "id": "a26e5398",
   "metadata": {
    "id": "SN4OWOAO22iR",
    "papermill": {
     "duration": 0.145503,
     "end_time": "2023-01-04T12:24:09.930575",
     "exception": false,
     "start_time": "2023-01-04T12:24:09.785072",
     "status": "completed"
    },
    "tags": []
   },
   "outputs": [],
   "source": []
  },
  {
   "cell_type": "code",
   "execution_count": null,
   "id": "1a367893",
   "metadata": {
    "id": "ZYFim3jx22fn",
    "papermill": {
     "duration": 0.148586,
     "end_time": "2023-01-04T12:24:10.285623",
     "exception": false,
     "start_time": "2023-01-04T12:24:10.137037",
     "status": "completed"
    },
    "tags": []
   },
   "outputs": [],
   "source": []
  },
  {
   "cell_type": "code",
   "execution_count": null,
   "id": "5fb2db7e",
   "metadata": {
    "id": "CC-hB8Gj22dH",
    "papermill": {
     "duration": 0.151308,
     "end_time": "2023-01-04T12:24:10.591950",
     "exception": false,
     "start_time": "2023-01-04T12:24:10.440642",
     "status": "completed"
    },
    "tags": []
   },
   "outputs": [],
   "source": []
  },
  {
   "cell_type": "code",
   "execution_count": null,
   "id": "e3bbfaa6",
   "metadata": {
    "id": "XrMaQ0RB22aT",
    "papermill": {
     "duration": 0.14821,
     "end_time": "2023-01-04T12:24:10.887555",
     "exception": false,
     "start_time": "2023-01-04T12:24:10.739345",
     "status": "completed"
    },
    "tags": []
   },
   "outputs": [],
   "source": []
  },
  {
   "cell_type": "code",
   "execution_count": null,
   "id": "2d889f77",
   "metadata": {
    "id": "QWssKnkF22Xm",
    "papermill": {
     "duration": 0.147991,
     "end_time": "2023-01-04T12:24:11.187016",
     "exception": false,
     "start_time": "2023-01-04T12:24:11.039025",
     "status": "completed"
    },
    "tags": []
   },
   "outputs": [],
   "source": []
  },
  {
   "cell_type": "code",
   "execution_count": null,
   "id": "bf5da739",
   "metadata": {
    "id": "W-x_ic2L22Uy",
    "papermill": {
     "duration": 0.152414,
     "end_time": "2023-01-04T12:24:11.485568",
     "exception": false,
     "start_time": "2023-01-04T12:24:11.333154",
     "status": "completed"
    },
    "tags": []
   },
   "outputs": [],
   "source": []
  },
  {
   "cell_type": "code",
   "execution_count": null,
   "id": "7abe4dac",
   "metadata": {
    "id": "ESGmRRkU22SK",
    "papermill": {
     "duration": 0.142879,
     "end_time": "2023-01-04T12:24:11.778526",
     "exception": false,
     "start_time": "2023-01-04T12:24:11.635647",
     "status": "completed"
    },
    "tags": []
   },
   "outputs": [],
   "source": []
  },
  {
   "cell_type": "code",
   "execution_count": null,
   "id": "11929eae",
   "metadata": {
    "id": "DCA4An1322Pi",
    "papermill": {
     "duration": 0.143953,
     "end_time": "2023-01-04T12:24:12.067833",
     "exception": false,
     "start_time": "2023-01-04T12:24:11.923880",
     "status": "completed"
    },
    "tags": []
   },
   "outputs": [],
   "source": []
  },
  {
   "cell_type": "code",
   "execution_count": null,
   "id": "960036c3",
   "metadata": {
    "id": "C_0gad7Y22M2",
    "papermill": {
     "duration": 0.206768,
     "end_time": "2023-01-04T12:24:12.422068",
     "exception": false,
     "start_time": "2023-01-04T12:24:12.215300",
     "status": "completed"
    },
    "tags": []
   },
   "outputs": [],
   "source": []
  },
  {
   "cell_type": "code",
   "execution_count": null,
   "id": "caa44f07",
   "metadata": {
    "id": "wlnpjemW22KF",
    "papermill": {
     "duration": 0.147921,
     "end_time": "2023-01-04T12:24:12.716684",
     "exception": false,
     "start_time": "2023-01-04T12:24:12.568763",
     "status": "completed"
    },
    "tags": []
   },
   "outputs": [],
   "source": []
  },
  {
   "cell_type": "code",
   "execution_count": null,
   "id": "bc069494",
   "metadata": {
    "id": "jbBeKJ1r22HU",
    "papermill": {
     "duration": 0.14396,
     "end_time": "2023-01-04T12:24:13.003903",
     "exception": false,
     "start_time": "2023-01-04T12:24:12.859943",
     "status": "completed"
    },
    "tags": []
   },
   "outputs": [],
   "source": []
  },
  {
   "cell_type": "code",
   "execution_count": null,
   "id": "bfdcee34",
   "metadata": {
    "id": "FCh8cUn122Et",
    "papermill": {
     "duration": 0.142391,
     "end_time": "2023-01-04T12:24:13.288372",
     "exception": false,
     "start_time": "2023-01-04T12:24:13.145981",
     "status": "completed"
    },
    "tags": []
   },
   "outputs": [],
   "source": []
  },
  {
   "cell_type": "code",
   "execution_count": null,
   "id": "57f82b93",
   "metadata": {
    "id": "fpLo5HP422CG",
    "papermill": {
     "duration": 0.144191,
     "end_time": "2023-01-04T12:24:13.577881",
     "exception": false,
     "start_time": "2023-01-04T12:24:13.433690",
     "status": "completed"
    },
    "tags": []
   },
   "outputs": [],
   "source": []
  },
  {
   "cell_type": "code",
   "execution_count": null,
   "id": "7d6c779a",
   "metadata": {
    "id": "i58zmrNX21_2",
    "papermill": {
     "duration": 0.147045,
     "end_time": "2023-01-04T12:24:13.874279",
     "exception": false,
     "start_time": "2023-01-04T12:24:13.727234",
     "status": "completed"
    },
    "tags": []
   },
   "outputs": [],
   "source": []
  },
  {
   "cell_type": "code",
   "execution_count": null,
   "id": "d8e4c58f",
   "metadata": {
    "id": "TnOPevck218x",
    "papermill": {
     "duration": 0.151662,
     "end_time": "2023-01-04T12:24:14.172545",
     "exception": false,
     "start_time": "2023-01-04T12:24:14.020883",
     "status": "completed"
    },
    "tags": []
   },
   "outputs": [],
   "source": []
  },
  {
   "cell_type": "code",
   "execution_count": null,
   "id": "baa1cfab",
   "metadata": {
    "id": "vyCNYIm_216X",
    "papermill": {
     "duration": 0.152732,
     "end_time": "2023-01-04T12:24:14.473622",
     "exception": false,
     "start_time": "2023-01-04T12:24:14.320890",
     "status": "completed"
    },
    "tags": []
   },
   "outputs": [],
   "source": []
  },
  {
   "cell_type": "code",
   "execution_count": null,
   "id": "760f235e",
   "metadata": {
    "id": "f16VRUI6213e",
    "papermill": {
     "duration": 0.212558,
     "end_time": "2023-01-04T12:24:14.837347",
     "exception": false,
     "start_time": "2023-01-04T12:24:14.624789",
     "status": "completed"
    },
    "tags": []
   },
   "outputs": [],
   "source": []
  },
  {
   "cell_type": "code",
   "execution_count": null,
   "id": "9e0bb57e",
   "metadata": {
    "id": "jiJTt9lw210x",
    "papermill": {
     "duration": 0.14593,
     "end_time": "2023-01-04T12:24:15.129552",
     "exception": false,
     "start_time": "2023-01-04T12:24:14.983622",
     "status": "completed"
    },
    "tags": []
   },
   "outputs": [],
   "source": []
  },
  {
   "cell_type": "code",
   "execution_count": null,
   "id": "5528a734",
   "metadata": {
    "id": "LZg1puJw21yP",
    "papermill": {
     "duration": 0.143228,
     "end_time": "2023-01-04T12:24:15.413307",
     "exception": false,
     "start_time": "2023-01-04T12:24:15.270079",
     "status": "completed"
    },
    "tags": []
   },
   "outputs": [],
   "source": []
  },
  {
   "cell_type": "code",
   "execution_count": null,
   "id": "c9e1ca4a",
   "metadata": {
    "id": "9HP0C8xD21ve",
    "papermill": {
     "duration": 0.14867,
     "end_time": "2023-01-04T12:24:15.711181",
     "exception": false,
     "start_time": "2023-01-04T12:24:15.562511",
     "status": "completed"
    },
    "tags": []
   },
   "outputs": [],
   "source": []
  },
  {
   "cell_type": "code",
   "execution_count": null,
   "id": "f4f0ad36",
   "metadata": {
    "id": "4Pgt-0iC21s1",
    "papermill": {
     "duration": 0.151582,
     "end_time": "2023-01-04T12:24:16.015995",
     "exception": false,
     "start_time": "2023-01-04T12:24:15.864413",
     "status": "completed"
    },
    "tags": []
   },
   "outputs": [],
   "source": []
  },
  {
   "cell_type": "code",
   "execution_count": null,
   "id": "d51ef9da",
   "metadata": {
    "id": "ciFkqwYa21qW",
    "papermill": {
     "duration": 0.149831,
     "end_time": "2023-01-04T12:24:16.319138",
     "exception": false,
     "start_time": "2023-01-04T12:24:16.169307",
     "status": "completed"
    },
    "tags": []
   },
   "outputs": [],
   "source": []
  },
  {
   "cell_type": "code",
   "execution_count": null,
   "id": "3732c010",
   "metadata": {
    "id": "ErN9jDrW21nn",
    "papermill": {
     "duration": 0.145498,
     "end_time": "2023-01-04T12:24:16.612727",
     "exception": false,
     "start_time": "2023-01-04T12:24:16.467229",
     "status": "completed"
    },
    "tags": []
   },
   "outputs": [],
   "source": []
  },
  {
   "cell_type": "code",
   "execution_count": null,
   "id": "ca670c36",
   "metadata": {
    "id": "9m-125pt21k0",
    "papermill": {
     "duration": 0.140306,
     "end_time": "2023-01-04T12:24:16.893656",
     "exception": false,
     "start_time": "2023-01-04T12:24:16.753350",
     "status": "completed"
    },
    "tags": []
   },
   "outputs": [],
   "source": []
  },
  {
   "cell_type": "code",
   "execution_count": null,
   "id": "742ca9c3",
   "metadata": {
    "id": "xVucz8tq21iF",
    "papermill": {
     "duration": 0.151757,
     "end_time": "2023-01-04T12:24:17.187627",
     "exception": false,
     "start_time": "2023-01-04T12:24:17.035870",
     "status": "completed"
    },
    "tags": []
   },
   "outputs": [],
   "source": []
  },
  {
   "cell_type": "code",
   "execution_count": null,
   "id": "4c0d4591",
   "metadata": {
    "id": "VVQdOiY221fy",
    "papermill": {
     "duration": 0.146722,
     "end_time": "2023-01-04T12:24:17.562419",
     "exception": false,
     "start_time": "2023-01-04T12:24:17.415697",
     "status": "completed"
    },
    "tags": []
   },
   "outputs": [],
   "source": []
  },
  {
   "cell_type": "code",
   "execution_count": null,
   "id": "30627c36",
   "metadata": {
    "id": "2vLuzXcP21cw",
    "papermill": {
     "duration": 0.142801,
     "end_time": "2023-01-04T12:24:17.852365",
     "exception": false,
     "start_time": "2023-01-04T12:24:17.709564",
     "status": "completed"
    },
    "tags": []
   },
   "outputs": [],
   "source": []
  },
  {
   "cell_type": "code",
   "execution_count": null,
   "id": "e1883d21",
   "metadata": {
    "id": "qBiAPEAf21aK",
    "papermill": {
     "duration": 0.144887,
     "end_time": "2023-01-04T12:24:18.138991",
     "exception": false,
     "start_time": "2023-01-04T12:24:17.994104",
     "status": "completed"
    },
    "tags": []
   },
   "outputs": [],
   "source": []
  },
  {
   "cell_type": "code",
   "execution_count": null,
   "id": "370bb276",
   "metadata": {
    "id": "s_U4zfhF21Xb",
    "papermill": {
     "duration": 0.142578,
     "end_time": "2023-01-04T12:24:18.425782",
     "exception": false,
     "start_time": "2023-01-04T12:24:18.283204",
     "status": "completed"
    },
    "tags": []
   },
   "outputs": [],
   "source": []
  },
  {
   "cell_type": "code",
   "execution_count": null,
   "id": "de5217c8",
   "metadata": {
    "id": "QGqG7Ubl21VB",
    "papermill": {
     "duration": 0.145966,
     "end_time": "2023-01-04T12:24:18.715763",
     "exception": false,
     "start_time": "2023-01-04T12:24:18.569797",
     "status": "completed"
    },
    "tags": []
   },
   "outputs": [],
   "source": []
  },
  {
   "cell_type": "code",
   "execution_count": null,
   "id": "66c9ad90",
   "metadata": {
    "id": "HVJ9f42m21SV",
    "papermill": {
     "duration": 0.143791,
     "end_time": "2023-01-04T12:24:19.003328",
     "exception": false,
     "start_time": "2023-01-04T12:24:18.859537",
     "status": "completed"
    },
    "tags": []
   },
   "outputs": [],
   "source": []
  },
  {
   "cell_type": "code",
   "execution_count": null,
   "id": "e1bd1e1a",
   "metadata": {
    "id": "JCevQmjx21Pu",
    "papermill": {
     "duration": 0.142038,
     "end_time": "2023-01-04T12:24:19.287365",
     "exception": false,
     "start_time": "2023-01-04T12:24:19.145327",
     "status": "completed"
    },
    "tags": []
   },
   "outputs": [],
   "source": []
  },
  {
   "cell_type": "code",
   "execution_count": null,
   "id": "440e39e6",
   "metadata": {
    "id": "Cnufo1uY21NB",
    "papermill": {
     "duration": 0.143668,
     "end_time": "2023-01-04T12:24:19.570633",
     "exception": false,
     "start_time": "2023-01-04T12:24:19.426965",
     "status": "completed"
    },
    "tags": []
   },
   "outputs": [],
   "source": []
  },
  {
   "cell_type": "code",
   "execution_count": null,
   "id": "12f29519",
   "metadata": {
    "id": "EkpkMzDz21Kq",
    "papermill": {
     "duration": 0.197628,
     "end_time": "2023-01-04T12:24:19.912376",
     "exception": false,
     "start_time": "2023-01-04T12:24:19.714748",
     "status": "completed"
    },
    "tags": []
   },
   "outputs": [],
   "source": []
  },
  {
   "cell_type": "code",
   "execution_count": null,
   "id": "b8a225b9",
   "metadata": {
    "id": "p9qrx8Wi21IZ",
    "papermill": {
     "duration": 0.142371,
     "end_time": "2023-01-04T12:24:20.197572",
     "exception": false,
     "start_time": "2023-01-04T12:24:20.055201",
     "status": "completed"
    },
    "tags": []
   },
   "outputs": [],
   "source": []
  },
  {
   "cell_type": "code",
   "execution_count": null,
   "id": "9b063446",
   "metadata": {
    "id": "m37kI5DB21F4",
    "papermill": {
     "duration": 0.142361,
     "end_time": "2023-01-04T12:24:20.482621",
     "exception": false,
     "start_time": "2023-01-04T12:24:20.340260",
     "status": "completed"
    },
    "tags": []
   },
   "outputs": [],
   "source": []
  },
  {
   "cell_type": "code",
   "execution_count": null,
   "id": "a621038f",
   "metadata": {
    "id": "wIGzBxua21DZ",
    "papermill": {
     "duration": 0.146602,
     "end_time": "2023-01-04T12:24:20.773978",
     "exception": false,
     "start_time": "2023-01-04T12:24:20.627376",
     "status": "completed"
    },
    "tags": []
   },
   "outputs": [],
   "source": []
  },
  {
   "cell_type": "code",
   "execution_count": null,
   "id": "cfd8a00d",
   "metadata": {
    "id": "Ref8abbM21Aw",
    "papermill": {
     "duration": 0.141417,
     "end_time": "2023-01-04T12:24:21.060121",
     "exception": false,
     "start_time": "2023-01-04T12:24:20.918704",
     "status": "completed"
    },
    "tags": []
   },
   "outputs": [],
   "source": []
  },
  {
   "cell_type": "code",
   "execution_count": null,
   "id": "40d85386",
   "metadata": {
    "id": "YDvCk5yM20-a",
    "papermill": {
     "duration": 0.146072,
     "end_time": "2023-01-04T12:24:21.350526",
     "exception": false,
     "start_time": "2023-01-04T12:24:21.204454",
     "status": "completed"
    },
    "tags": []
   },
   "outputs": [],
   "source": []
  },
  {
   "cell_type": "code",
   "execution_count": null,
   "id": "1004847d",
   "metadata": {
    "id": "K6WRuIMJ207z",
    "papermill": {
     "duration": 0.151172,
     "end_time": "2023-01-04T12:24:21.652033",
     "exception": false,
     "start_time": "2023-01-04T12:24:21.500861",
     "status": "completed"
    },
    "tags": []
   },
   "outputs": [],
   "source": []
  },
  {
   "cell_type": "code",
   "execution_count": null,
   "id": "d9d5cd3a",
   "metadata": {
    "id": "GJEVNlB4205N",
    "papermill": {
     "duration": 0.149313,
     "end_time": "2023-01-04T12:24:21.952377",
     "exception": false,
     "start_time": "2023-01-04T12:24:21.803064",
     "status": "completed"
    },
    "tags": []
   },
   "outputs": [],
   "source": []
  },
  {
   "cell_type": "code",
   "execution_count": null,
   "id": "1a0fb995",
   "metadata": {
    "id": "_z3APm5v203B",
    "papermill": {
     "duration": 0.148378,
     "end_time": "2023-01-04T12:24:22.249493",
     "exception": false,
     "start_time": "2023-01-04T12:24:22.101115",
     "status": "completed"
    },
    "tags": []
   },
   "outputs": [],
   "source": []
  },
  {
   "cell_type": "code",
   "execution_count": null,
   "id": "475cdb6c",
   "metadata": {
    "id": "sT-HVhoy200K",
    "papermill": {
     "duration": 0.152288,
     "end_time": "2023-01-04T12:24:22.619937",
     "exception": false,
     "start_time": "2023-01-04T12:24:22.467649",
     "status": "completed"
    },
    "tags": []
   },
   "outputs": [],
   "source": []
  },
  {
   "cell_type": "code",
   "execution_count": null,
   "id": "8b5e3440",
   "metadata": {
    "id": "BKUERecs20xj",
    "papermill": {
     "duration": 0.14526,
     "end_time": "2023-01-04T12:24:22.912624",
     "exception": false,
     "start_time": "2023-01-04T12:24:22.767364",
     "status": "completed"
    },
    "tags": []
   },
   "outputs": [],
   "source": []
  },
  {
   "cell_type": "code",
   "execution_count": null,
   "id": "aaaab699",
   "metadata": {
    "id": "v-ae2tXH20vS",
    "papermill": {
     "duration": 0.146089,
     "end_time": "2023-01-04T12:24:23.206526",
     "exception": false,
     "start_time": "2023-01-04T12:24:23.060437",
     "status": "completed"
    },
    "tags": []
   },
   "outputs": [],
   "source": []
  }
 ],
 "metadata": {
  "kernelspec": {
   "display_name": "Python 3",
   "language": "python",
   "name": "python3"
  },
  "language_info": {
   "codemirror_mode": {
    "name": "ipython",
    "version": 3
   },
   "file_extension": ".py",
   "mimetype": "text/x-python",
   "name": "python",
   "nbconvert_exporter": "python",
   "pygments_lexer": "ipython3",
   "version": "3.7.12"
  },
  "papermill": {
   "default_parameters": {},
   "duration": 471.718363,
   "end_time": "2023-01-04T12:24:26.724016",
   "environment_variables": {},
   "exception": null,
   "input_path": "__notebook__.ipynb",
   "output_path": "__notebook__.ipynb",
   "parameters": {},
   "start_time": "2023-01-04T12:16:35.005653",
   "version": "2.3.4"
  }
 },
 "nbformat": 4,
 "nbformat_minor": 5
}
