{
  "nbformat": 4,
  "nbformat_minor": 0,
  "metadata": {
    "colab": {
      "provenance": [],
      "authorship_tag": "ABX9TyOlLIYUQrHyp5I98wqb8qQ3",
      "include_colab_link": true
    },
    "kernelspec": {
      "name": "python3",
      "display_name": "Python 3"
    },
    "language_info": {
      "name": "python"
    },
    "accelerator": "GPU",
    "gpuClass": "standard"
  },
  "cells": [
    {
      "cell_type": "markdown",
      "metadata": {
        "id": "view-in-github",
        "colab_type": "text"
      },
      "source": [
        "<a href=\"https://colab.research.google.com/github/prashanth-ds-ml/Projects/blob/main/spam_classification.ipynb\" target=\"_parent\"><img src=\"https://colab.research.google.com/assets/colab-badge.svg\" alt=\"Open In Colab\"/></a>"
      ]
    },
    {
      "cell_type": "code",
      "execution_count": 1,
      "metadata": {
        "id": "liNEb60dEiS6"
      },
      "outputs": [],
      "source": [
        "import tensorflow as tf\n",
        "import pandas as pd\n",
        "import numpy as np\n",
        "import seaborn as sb\n",
        "import matplotlib.pyplot as plt"
      ]
    },
    {
      "cell_type": "code",
      "source": [
        "df = pd.read_csv('/content/spam.csv',encoding = 'ISO-8859-1')"
      ],
      "metadata": {
        "id": "nK5T32GFFGKO"
      },
      "execution_count": 2,
      "outputs": []
    },
    {
      "cell_type": "code",
      "source": [
        "df.head()"
      ],
      "metadata": {
        "colab": {
          "base_uri": "https://localhost:8080/",
          "height": 206
        },
        "id": "hGvEy1dtFnaq",
        "outputId": "9107d6f2-c59c-47a3-dbc7-6a0a7cf2ac8a"
      },
      "execution_count": 3,
      "outputs": [
        {
          "output_type": "execute_result",
          "data": {
            "text/plain": [
              "     v1                                                 v2 Unnamed: 2  \\\n",
              "0   ham  Go until jurong point, crazy.. Available only ...        NaN   \n",
              "1   ham                      Ok lar... Joking wif u oni...        NaN   \n",
              "2  spam  Free entry in 2 a wkly comp to win FA Cup fina...        NaN   \n",
              "3   ham  U dun say so early hor... U c already then say...        NaN   \n",
              "4   ham  Nah I don't think he goes to usf, he lives aro...        NaN   \n",
              "\n",
              "  Unnamed: 3 Unnamed: 4  \n",
              "0        NaN        NaN  \n",
              "1        NaN        NaN  \n",
              "2        NaN        NaN  \n",
              "3        NaN        NaN  \n",
              "4        NaN        NaN  "
            ],
            "text/html": [
              "\n",
              "  <div id=\"df-c56d492a-b330-44c2-974d-3a57ede7e8f6\">\n",
              "    <div class=\"colab-df-container\">\n",
              "      <div>\n",
              "<style scoped>\n",
              "    .dataframe tbody tr th:only-of-type {\n",
              "        vertical-align: middle;\n",
              "    }\n",
              "\n",
              "    .dataframe tbody tr th {\n",
              "        vertical-align: top;\n",
              "    }\n",
              "\n",
              "    .dataframe thead th {\n",
              "        text-align: right;\n",
              "    }\n",
              "</style>\n",
              "<table border=\"1\" class=\"dataframe\">\n",
              "  <thead>\n",
              "    <tr style=\"text-align: right;\">\n",
              "      <th></th>\n",
              "      <th>v1</th>\n",
              "      <th>v2</th>\n",
              "      <th>Unnamed: 2</th>\n",
              "      <th>Unnamed: 3</th>\n",
              "      <th>Unnamed: 4</th>\n",
              "    </tr>\n",
              "  </thead>\n",
              "  <tbody>\n",
              "    <tr>\n",
              "      <th>0</th>\n",
              "      <td>ham</td>\n",
              "      <td>Go until jurong point, crazy.. Available only ...</td>\n",
              "      <td>NaN</td>\n",
              "      <td>NaN</td>\n",
              "      <td>NaN</td>\n",
              "    </tr>\n",
              "    <tr>\n",
              "      <th>1</th>\n",
              "      <td>ham</td>\n",
              "      <td>Ok lar... Joking wif u oni...</td>\n",
              "      <td>NaN</td>\n",
              "      <td>NaN</td>\n",
              "      <td>NaN</td>\n",
              "    </tr>\n",
              "    <tr>\n",
              "      <th>2</th>\n",
              "      <td>spam</td>\n",
              "      <td>Free entry in 2 a wkly comp to win FA Cup fina...</td>\n",
              "      <td>NaN</td>\n",
              "      <td>NaN</td>\n",
              "      <td>NaN</td>\n",
              "    </tr>\n",
              "    <tr>\n",
              "      <th>3</th>\n",
              "      <td>ham</td>\n",
              "      <td>U dun say so early hor... U c already then say...</td>\n",
              "      <td>NaN</td>\n",
              "      <td>NaN</td>\n",
              "      <td>NaN</td>\n",
              "    </tr>\n",
              "    <tr>\n",
              "      <th>4</th>\n",
              "      <td>ham</td>\n",
              "      <td>Nah I don't think he goes to usf, he lives aro...</td>\n",
              "      <td>NaN</td>\n",
              "      <td>NaN</td>\n",
              "      <td>NaN</td>\n",
              "    </tr>\n",
              "  </tbody>\n",
              "</table>\n",
              "</div>\n",
              "      <button class=\"colab-df-convert\" onclick=\"convertToInteractive('df-c56d492a-b330-44c2-974d-3a57ede7e8f6')\"\n",
              "              title=\"Convert this dataframe to an interactive table.\"\n",
              "              style=\"display:none;\">\n",
              "        \n",
              "  <svg xmlns=\"http://www.w3.org/2000/svg\" height=\"24px\"viewBox=\"0 0 24 24\"\n",
              "       width=\"24px\">\n",
              "    <path d=\"M0 0h24v24H0V0z\" fill=\"none\"/>\n",
              "    <path d=\"M18.56 5.44l.94 2.06.94-2.06 2.06-.94-2.06-.94-.94-2.06-.94 2.06-2.06.94zm-11 1L8.5 8.5l.94-2.06 2.06-.94-2.06-.94L8.5 2.5l-.94 2.06-2.06.94zm10 10l.94 2.06.94-2.06 2.06-.94-2.06-.94-.94-2.06-.94 2.06-2.06.94z\"/><path d=\"M17.41 7.96l-1.37-1.37c-.4-.4-.92-.59-1.43-.59-.52 0-1.04.2-1.43.59L10.3 9.45l-7.72 7.72c-.78.78-.78 2.05 0 2.83L4 21.41c.39.39.9.59 1.41.59.51 0 1.02-.2 1.41-.59l7.78-7.78 2.81-2.81c.8-.78.8-2.07 0-2.86zM5.41 20L4 18.59l7.72-7.72 1.47 1.35L5.41 20z\"/>\n",
              "  </svg>\n",
              "      </button>\n",
              "      \n",
              "  <style>\n",
              "    .colab-df-container {\n",
              "      display:flex;\n",
              "      flex-wrap:wrap;\n",
              "      gap: 12px;\n",
              "    }\n",
              "\n",
              "    .colab-df-convert {\n",
              "      background-color: #E8F0FE;\n",
              "      border: none;\n",
              "      border-radius: 50%;\n",
              "      cursor: pointer;\n",
              "      display: none;\n",
              "      fill: #1967D2;\n",
              "      height: 32px;\n",
              "      padding: 0 0 0 0;\n",
              "      width: 32px;\n",
              "    }\n",
              "\n",
              "    .colab-df-convert:hover {\n",
              "      background-color: #E2EBFA;\n",
              "      box-shadow: 0px 1px 2px rgba(60, 64, 67, 0.3), 0px 1px 3px 1px rgba(60, 64, 67, 0.15);\n",
              "      fill: #174EA6;\n",
              "    }\n",
              "\n",
              "    [theme=dark] .colab-df-convert {\n",
              "      background-color: #3B4455;\n",
              "      fill: #D2E3FC;\n",
              "    }\n",
              "\n",
              "    [theme=dark] .colab-df-convert:hover {\n",
              "      background-color: #434B5C;\n",
              "      box-shadow: 0px 1px 3px 1px rgba(0, 0, 0, 0.15);\n",
              "      filter: drop-shadow(0px 1px 2px rgba(0, 0, 0, 0.3));\n",
              "      fill: #FFFFFF;\n",
              "    }\n",
              "  </style>\n",
              "\n",
              "      <script>\n",
              "        const buttonEl =\n",
              "          document.querySelector('#df-c56d492a-b330-44c2-974d-3a57ede7e8f6 button.colab-df-convert');\n",
              "        buttonEl.style.display =\n",
              "          google.colab.kernel.accessAllowed ? 'block' : 'none';\n",
              "\n",
              "        async function convertToInteractive(key) {\n",
              "          const element = document.querySelector('#df-c56d492a-b330-44c2-974d-3a57ede7e8f6');\n",
              "          const dataTable =\n",
              "            await google.colab.kernel.invokeFunction('convertToInteractive',\n",
              "                                                     [key], {});\n",
              "          if (!dataTable) return;\n",
              "\n",
              "          const docLinkHtml = 'Like what you see? Visit the ' +\n",
              "            '<a target=\"_blank\" href=https://colab.research.google.com/notebooks/data_table.ipynb>data table notebook</a>'\n",
              "            + ' to learn more about interactive tables.';\n",
              "          element.innerHTML = '';\n",
              "          dataTable['output_type'] = 'display_data';\n",
              "          await google.colab.output.renderOutput(dataTable, element);\n",
              "          const docLink = document.createElement('div');\n",
              "          docLink.innerHTML = docLinkHtml;\n",
              "          element.appendChild(docLink);\n",
              "        }\n",
              "      </script>\n",
              "    </div>\n",
              "  </div>\n",
              "  "
            ]
          },
          "metadata": {},
          "execution_count": 3
        }
      ]
    },
    {
      "cell_type": "code",
      "source": [
        "df.isnull().sum()"
      ],
      "metadata": {
        "colab": {
          "base_uri": "https://localhost:8080/"
        },
        "id": "BrM7Wu1_M3cI",
        "outputId": "75afff91-4789-4fde-81e7-fcbc8177cd65"
      },
      "execution_count": 4,
      "outputs": [
        {
          "output_type": "execute_result",
          "data": {
            "text/plain": [
              "v1               0\n",
              "v2               0\n",
              "Unnamed: 2    5522\n",
              "Unnamed: 3    5560\n",
              "Unnamed: 4    5566\n",
              "dtype: int64"
            ]
          },
          "metadata": {},
          "execution_count": 4
        }
      ]
    },
    {
      "cell_type": "code",
      "source": [
        "df.info()"
      ],
      "metadata": {
        "colab": {
          "base_uri": "https://localhost:8080/"
        },
        "id": "zMe01KhXM66b",
        "outputId": "7e68874a-b512-47d7-f25e-3de4538597a5"
      },
      "execution_count": 5,
      "outputs": [
        {
          "output_type": "stream",
          "name": "stdout",
          "text": [
            "<class 'pandas.core.frame.DataFrame'>\n",
            "RangeIndex: 5572 entries, 0 to 5571\n",
            "Data columns (total 5 columns):\n",
            " #   Column      Non-Null Count  Dtype \n",
            "---  ------      --------------  ----- \n",
            " 0   v1          5572 non-null   object\n",
            " 1   v2          5572 non-null   object\n",
            " 2   Unnamed: 2  50 non-null     object\n",
            " 3   Unnamed: 3  12 non-null     object\n",
            " 4   Unnamed: 4  6 non-null      object\n",
            "dtypes: object(5)\n",
            "memory usage: 217.8+ KB\n"
          ]
        }
      ]
    },
    {
      "cell_type": "code",
      "source": [
        "df.shape"
      ],
      "metadata": {
        "colab": {
          "base_uri": "https://localhost:8080/"
        },
        "id": "-6uO2-NTM9XK",
        "outputId": "be8ed9ad-3bc3-496b-e85a-5faf37da811e"
      },
      "execution_count": 6,
      "outputs": [
        {
          "output_type": "execute_result",
          "data": {
            "text/plain": [
              "(5572, 5)"
            ]
          },
          "metadata": {},
          "execution_count": 6
        }
      ]
    },
    {
      "cell_type": "code",
      "source": [
        "df.drop(['Unnamed: 2','Unnamed: 3','Unnamed: 4'], axis=1,inplace = True)"
      ],
      "metadata": {
        "id": "V9Y4J6gyHEZm"
      },
      "execution_count": 7,
      "outputs": []
    },
    {
      "cell_type": "code",
      "source": [
        "df.head()"
      ],
      "metadata": {
        "colab": {
          "base_uri": "https://localhost:8080/",
          "height": 206
        },
        "id": "Q_jKe0gTHdvw",
        "outputId": "57d3905d-059b-40f8-9870-153ef776d59d"
      },
      "execution_count": 8,
      "outputs": [
        {
          "output_type": "execute_result",
          "data": {
            "text/plain": [
              "     v1                                                 v2\n",
              "0   ham  Go until jurong point, crazy.. Available only ...\n",
              "1   ham                      Ok lar... Joking wif u oni...\n",
              "2  spam  Free entry in 2 a wkly comp to win FA Cup fina...\n",
              "3   ham  U dun say so early hor... U c already then say...\n",
              "4   ham  Nah I don't think he goes to usf, he lives aro..."
            ],
            "text/html": [
              "\n",
              "  <div id=\"df-d92402fb-9c4a-42a3-94a5-50bcf6c2f164\">\n",
              "    <div class=\"colab-df-container\">\n",
              "      <div>\n",
              "<style scoped>\n",
              "    .dataframe tbody tr th:only-of-type {\n",
              "        vertical-align: middle;\n",
              "    }\n",
              "\n",
              "    .dataframe tbody tr th {\n",
              "        vertical-align: top;\n",
              "    }\n",
              "\n",
              "    .dataframe thead th {\n",
              "        text-align: right;\n",
              "    }\n",
              "</style>\n",
              "<table border=\"1\" class=\"dataframe\">\n",
              "  <thead>\n",
              "    <tr style=\"text-align: right;\">\n",
              "      <th></th>\n",
              "      <th>v1</th>\n",
              "      <th>v2</th>\n",
              "    </tr>\n",
              "  </thead>\n",
              "  <tbody>\n",
              "    <tr>\n",
              "      <th>0</th>\n",
              "      <td>ham</td>\n",
              "      <td>Go until jurong point, crazy.. Available only ...</td>\n",
              "    </tr>\n",
              "    <tr>\n",
              "      <th>1</th>\n",
              "      <td>ham</td>\n",
              "      <td>Ok lar... Joking wif u oni...</td>\n",
              "    </tr>\n",
              "    <tr>\n",
              "      <th>2</th>\n",
              "      <td>spam</td>\n",
              "      <td>Free entry in 2 a wkly comp to win FA Cup fina...</td>\n",
              "    </tr>\n",
              "    <tr>\n",
              "      <th>3</th>\n",
              "      <td>ham</td>\n",
              "      <td>U dun say so early hor... U c already then say...</td>\n",
              "    </tr>\n",
              "    <tr>\n",
              "      <th>4</th>\n",
              "      <td>ham</td>\n",
              "      <td>Nah I don't think he goes to usf, he lives aro...</td>\n",
              "    </tr>\n",
              "  </tbody>\n",
              "</table>\n",
              "</div>\n",
              "      <button class=\"colab-df-convert\" onclick=\"convertToInteractive('df-d92402fb-9c4a-42a3-94a5-50bcf6c2f164')\"\n",
              "              title=\"Convert this dataframe to an interactive table.\"\n",
              "              style=\"display:none;\">\n",
              "        \n",
              "  <svg xmlns=\"http://www.w3.org/2000/svg\" height=\"24px\"viewBox=\"0 0 24 24\"\n",
              "       width=\"24px\">\n",
              "    <path d=\"M0 0h24v24H0V0z\" fill=\"none\"/>\n",
              "    <path d=\"M18.56 5.44l.94 2.06.94-2.06 2.06-.94-2.06-.94-.94-2.06-.94 2.06-2.06.94zm-11 1L8.5 8.5l.94-2.06 2.06-.94-2.06-.94L8.5 2.5l-.94 2.06-2.06.94zm10 10l.94 2.06.94-2.06 2.06-.94-2.06-.94-.94-2.06-.94 2.06-2.06.94z\"/><path d=\"M17.41 7.96l-1.37-1.37c-.4-.4-.92-.59-1.43-.59-.52 0-1.04.2-1.43.59L10.3 9.45l-7.72 7.72c-.78.78-.78 2.05 0 2.83L4 21.41c.39.39.9.59 1.41.59.51 0 1.02-.2 1.41-.59l7.78-7.78 2.81-2.81c.8-.78.8-2.07 0-2.86zM5.41 20L4 18.59l7.72-7.72 1.47 1.35L5.41 20z\"/>\n",
              "  </svg>\n",
              "      </button>\n",
              "      \n",
              "  <style>\n",
              "    .colab-df-container {\n",
              "      display:flex;\n",
              "      flex-wrap:wrap;\n",
              "      gap: 12px;\n",
              "    }\n",
              "\n",
              "    .colab-df-convert {\n",
              "      background-color: #E8F0FE;\n",
              "      border: none;\n",
              "      border-radius: 50%;\n",
              "      cursor: pointer;\n",
              "      display: none;\n",
              "      fill: #1967D2;\n",
              "      height: 32px;\n",
              "      padding: 0 0 0 0;\n",
              "      width: 32px;\n",
              "    }\n",
              "\n",
              "    .colab-df-convert:hover {\n",
              "      background-color: #E2EBFA;\n",
              "      box-shadow: 0px 1px 2px rgba(60, 64, 67, 0.3), 0px 1px 3px 1px rgba(60, 64, 67, 0.15);\n",
              "      fill: #174EA6;\n",
              "    }\n",
              "\n",
              "    [theme=dark] .colab-df-convert {\n",
              "      background-color: #3B4455;\n",
              "      fill: #D2E3FC;\n",
              "    }\n",
              "\n",
              "    [theme=dark] .colab-df-convert:hover {\n",
              "      background-color: #434B5C;\n",
              "      box-shadow: 0px 1px 3px 1px rgba(0, 0, 0, 0.15);\n",
              "      filter: drop-shadow(0px 1px 2px rgba(0, 0, 0, 0.3));\n",
              "      fill: #FFFFFF;\n",
              "    }\n",
              "  </style>\n",
              "\n",
              "      <script>\n",
              "        const buttonEl =\n",
              "          document.querySelector('#df-d92402fb-9c4a-42a3-94a5-50bcf6c2f164 button.colab-df-convert');\n",
              "        buttonEl.style.display =\n",
              "          google.colab.kernel.accessAllowed ? 'block' : 'none';\n",
              "\n",
              "        async function convertToInteractive(key) {\n",
              "          const element = document.querySelector('#df-d92402fb-9c4a-42a3-94a5-50bcf6c2f164');\n",
              "          const dataTable =\n",
              "            await google.colab.kernel.invokeFunction('convertToInteractive',\n",
              "                                                     [key], {});\n",
              "          if (!dataTable) return;\n",
              "\n",
              "          const docLinkHtml = 'Like what you see? Visit the ' +\n",
              "            '<a target=\"_blank\" href=https://colab.research.google.com/notebooks/data_table.ipynb>data table notebook</a>'\n",
              "            + ' to learn more about interactive tables.';\n",
              "          element.innerHTML = '';\n",
              "          dataTable['output_type'] = 'display_data';\n",
              "          await google.colab.output.renderOutput(dataTable, element);\n",
              "          const docLink = document.createElement('div');\n",
              "          docLink.innerHTML = docLinkHtml;\n",
              "          element.appendChild(docLink);\n",
              "        }\n",
              "      </script>\n",
              "    </div>\n",
              "  </div>\n",
              "  "
            ]
          },
          "metadata": {},
          "execution_count": 8
        }
      ]
    },
    {
      "cell_type": "code",
      "source": [
        "df.rename(columns = {'v1':'Label','v2':'Messsage'}, inplace = True)"
      ],
      "metadata": {
        "id": "mL_pylqtHfg_"
      },
      "execution_count": 9,
      "outputs": []
    },
    {
      "cell_type": "code",
      "source": [
        "df.head()"
      ],
      "metadata": {
        "colab": {
          "base_uri": "https://localhost:8080/",
          "height": 206
        },
        "id": "Fv_sW-c1HzIB",
        "outputId": "0848f638-b5f7-41a7-cb7b-a3355aeb329b"
      },
      "execution_count": 10,
      "outputs": [
        {
          "output_type": "execute_result",
          "data": {
            "text/plain": [
              "  Label                                           Messsage\n",
              "0   ham  Go until jurong point, crazy.. Available only ...\n",
              "1   ham                      Ok lar... Joking wif u oni...\n",
              "2  spam  Free entry in 2 a wkly comp to win FA Cup fina...\n",
              "3   ham  U dun say so early hor... U c already then say...\n",
              "4   ham  Nah I don't think he goes to usf, he lives aro..."
            ],
            "text/html": [
              "\n",
              "  <div id=\"df-40d54e96-bc6a-40ba-8869-f4bc0074c2c0\">\n",
              "    <div class=\"colab-df-container\">\n",
              "      <div>\n",
              "<style scoped>\n",
              "    .dataframe tbody tr th:only-of-type {\n",
              "        vertical-align: middle;\n",
              "    }\n",
              "\n",
              "    .dataframe tbody tr th {\n",
              "        vertical-align: top;\n",
              "    }\n",
              "\n",
              "    .dataframe thead th {\n",
              "        text-align: right;\n",
              "    }\n",
              "</style>\n",
              "<table border=\"1\" class=\"dataframe\">\n",
              "  <thead>\n",
              "    <tr style=\"text-align: right;\">\n",
              "      <th></th>\n",
              "      <th>Label</th>\n",
              "      <th>Messsage</th>\n",
              "    </tr>\n",
              "  </thead>\n",
              "  <tbody>\n",
              "    <tr>\n",
              "      <th>0</th>\n",
              "      <td>ham</td>\n",
              "      <td>Go until jurong point, crazy.. Available only ...</td>\n",
              "    </tr>\n",
              "    <tr>\n",
              "      <th>1</th>\n",
              "      <td>ham</td>\n",
              "      <td>Ok lar... Joking wif u oni...</td>\n",
              "    </tr>\n",
              "    <tr>\n",
              "      <th>2</th>\n",
              "      <td>spam</td>\n",
              "      <td>Free entry in 2 a wkly comp to win FA Cup fina...</td>\n",
              "    </tr>\n",
              "    <tr>\n",
              "      <th>3</th>\n",
              "      <td>ham</td>\n",
              "      <td>U dun say so early hor... U c already then say...</td>\n",
              "    </tr>\n",
              "    <tr>\n",
              "      <th>4</th>\n",
              "      <td>ham</td>\n",
              "      <td>Nah I don't think he goes to usf, he lives aro...</td>\n",
              "    </tr>\n",
              "  </tbody>\n",
              "</table>\n",
              "</div>\n",
              "      <button class=\"colab-df-convert\" onclick=\"convertToInteractive('df-40d54e96-bc6a-40ba-8869-f4bc0074c2c0')\"\n",
              "              title=\"Convert this dataframe to an interactive table.\"\n",
              "              style=\"display:none;\">\n",
              "        \n",
              "  <svg xmlns=\"http://www.w3.org/2000/svg\" height=\"24px\"viewBox=\"0 0 24 24\"\n",
              "       width=\"24px\">\n",
              "    <path d=\"M0 0h24v24H0V0z\" fill=\"none\"/>\n",
              "    <path d=\"M18.56 5.44l.94 2.06.94-2.06 2.06-.94-2.06-.94-.94-2.06-.94 2.06-2.06.94zm-11 1L8.5 8.5l.94-2.06 2.06-.94-2.06-.94L8.5 2.5l-.94 2.06-2.06.94zm10 10l.94 2.06.94-2.06 2.06-.94-2.06-.94-.94-2.06-.94 2.06-2.06.94z\"/><path d=\"M17.41 7.96l-1.37-1.37c-.4-.4-.92-.59-1.43-.59-.52 0-1.04.2-1.43.59L10.3 9.45l-7.72 7.72c-.78.78-.78 2.05 0 2.83L4 21.41c.39.39.9.59 1.41.59.51 0 1.02-.2 1.41-.59l7.78-7.78 2.81-2.81c.8-.78.8-2.07 0-2.86zM5.41 20L4 18.59l7.72-7.72 1.47 1.35L5.41 20z\"/>\n",
              "  </svg>\n",
              "      </button>\n",
              "      \n",
              "  <style>\n",
              "    .colab-df-container {\n",
              "      display:flex;\n",
              "      flex-wrap:wrap;\n",
              "      gap: 12px;\n",
              "    }\n",
              "\n",
              "    .colab-df-convert {\n",
              "      background-color: #E8F0FE;\n",
              "      border: none;\n",
              "      border-radius: 50%;\n",
              "      cursor: pointer;\n",
              "      display: none;\n",
              "      fill: #1967D2;\n",
              "      height: 32px;\n",
              "      padding: 0 0 0 0;\n",
              "      width: 32px;\n",
              "    }\n",
              "\n",
              "    .colab-df-convert:hover {\n",
              "      background-color: #E2EBFA;\n",
              "      box-shadow: 0px 1px 2px rgba(60, 64, 67, 0.3), 0px 1px 3px 1px rgba(60, 64, 67, 0.15);\n",
              "      fill: #174EA6;\n",
              "    }\n",
              "\n",
              "    [theme=dark] .colab-df-convert {\n",
              "      background-color: #3B4455;\n",
              "      fill: #D2E3FC;\n",
              "    }\n",
              "\n",
              "    [theme=dark] .colab-df-convert:hover {\n",
              "      background-color: #434B5C;\n",
              "      box-shadow: 0px 1px 3px 1px rgba(0, 0, 0, 0.15);\n",
              "      filter: drop-shadow(0px 1px 2px rgba(0, 0, 0, 0.3));\n",
              "      fill: #FFFFFF;\n",
              "    }\n",
              "  </style>\n",
              "\n",
              "      <script>\n",
              "        const buttonEl =\n",
              "          document.querySelector('#df-40d54e96-bc6a-40ba-8869-f4bc0074c2c0 button.colab-df-convert');\n",
              "        buttonEl.style.display =\n",
              "          google.colab.kernel.accessAllowed ? 'block' : 'none';\n",
              "\n",
              "        async function convertToInteractive(key) {\n",
              "          const element = document.querySelector('#df-40d54e96-bc6a-40ba-8869-f4bc0074c2c0');\n",
              "          const dataTable =\n",
              "            await google.colab.kernel.invokeFunction('convertToInteractive',\n",
              "                                                     [key], {});\n",
              "          if (!dataTable) return;\n",
              "\n",
              "          const docLinkHtml = 'Like what you see? Visit the ' +\n",
              "            '<a target=\"_blank\" href=https://colab.research.google.com/notebooks/data_table.ipynb>data table notebook</a>'\n",
              "            + ' to learn more about interactive tables.';\n",
              "          element.innerHTML = '';\n",
              "          dataTable['output_type'] = 'display_data';\n",
              "          await google.colab.output.renderOutput(dataTable, element);\n",
              "          const docLink = document.createElement('div');\n",
              "          docLink.innerHTML = docLinkHtml;\n",
              "          element.appendChild(docLink);\n",
              "        }\n",
              "      </script>\n",
              "    </div>\n",
              "  </div>\n",
              "  "
            ]
          },
          "metadata": {},
          "execution_count": 10
        }
      ]
    },
    {
      "cell_type": "code",
      "source": [
        "import re\n",
        "\n",
        "def cleaning_text(text):\n",
        "  text = re.sub('[^a-zA-Z]', ' ', text)\n",
        "  text = re.sub('<.*?>','',text)\n",
        "  text = re.sub('[^\\w\\d\\s]','',text)\n",
        "  text = re.sub('^\\s+|\\s+?$','',text)\n",
        "  return text"
      ],
      "metadata": {
        "id": "KGhJPHzA24ck"
      },
      "execution_count": 11,
      "outputs": []
    },
    {
      "cell_type": "code",
      "source": [
        "clean_messages = df['Messsage'].apply(func=cleaning_text)\n",
        "clean_messages.head()"
      ],
      "metadata": {
        "colab": {
          "base_uri": "https://localhost:8080/"
        },
        "id": "jZ3LKiFa24Y6",
        "outputId": "4e5126e5-57e5-41c1-cbae-2d1af0e0d84b"
      },
      "execution_count": 12,
      "outputs": [
        {
          "output_type": "execute_result",
          "data": {
            "text/plain": [
              "0    Go until jurong point  crazy   Available only ...\n",
              "1                           Ok lar    Joking wif u oni\n",
              "2    Free entry in   a wkly comp to win FA Cup fina...\n",
              "3       U dun say so early hor    U c already then say\n",
              "4    Nah I don t think he goes to usf  he lives aro...\n",
              "Name: Messsage, dtype: object"
            ]
          },
          "metadata": {},
          "execution_count": 12
        }
      ]
    },
    {
      "cell_type": "code",
      "source": [
        "labels = df['Label']"
      ],
      "metadata": {
        "id": "kXMzG7hr24WY"
      },
      "execution_count": 13,
      "outputs": []
    },
    {
      "cell_type": "code",
      "source": [
        "labels = pd.get_dummies(labels, columns=['Label'])"
      ],
      "metadata": {
        "id": "froagQYK24Tj"
      },
      "execution_count": 14,
      "outputs": []
    },
    {
      "cell_type": "code",
      "source": [
        "labels.drop(['ham'], axis=1,inplace = True)"
      ],
      "metadata": {
        "id": "MJL7rIH324Qo"
      },
      "execution_count": 15,
      "outputs": []
    },
    {
      "cell_type": "code",
      "source": [
        "labels.head()"
      ],
      "metadata": {
        "colab": {
          "base_uri": "https://localhost:8080/",
          "height": 206
        },
        "id": "81C3Z7qq24N3",
        "outputId": "73e9c207-432f-495b-c7f1-aa7e9965be4d"
      },
      "execution_count": 16,
      "outputs": [
        {
          "output_type": "execute_result",
          "data": {
            "text/plain": [
              "   spam\n",
              "0     0\n",
              "1     0\n",
              "2     1\n",
              "3     0\n",
              "4     0"
            ],
            "text/html": [
              "\n",
              "  <div id=\"df-93086753-996a-4f17-a88d-e7a672bb1919\">\n",
              "    <div class=\"colab-df-container\">\n",
              "      <div>\n",
              "<style scoped>\n",
              "    .dataframe tbody tr th:only-of-type {\n",
              "        vertical-align: middle;\n",
              "    }\n",
              "\n",
              "    .dataframe tbody tr th {\n",
              "        vertical-align: top;\n",
              "    }\n",
              "\n",
              "    .dataframe thead th {\n",
              "        text-align: right;\n",
              "    }\n",
              "</style>\n",
              "<table border=\"1\" class=\"dataframe\">\n",
              "  <thead>\n",
              "    <tr style=\"text-align: right;\">\n",
              "      <th></th>\n",
              "      <th>spam</th>\n",
              "    </tr>\n",
              "  </thead>\n",
              "  <tbody>\n",
              "    <tr>\n",
              "      <th>0</th>\n",
              "      <td>0</td>\n",
              "    </tr>\n",
              "    <tr>\n",
              "      <th>1</th>\n",
              "      <td>0</td>\n",
              "    </tr>\n",
              "    <tr>\n",
              "      <th>2</th>\n",
              "      <td>1</td>\n",
              "    </tr>\n",
              "    <tr>\n",
              "      <th>3</th>\n",
              "      <td>0</td>\n",
              "    </tr>\n",
              "    <tr>\n",
              "      <th>4</th>\n",
              "      <td>0</td>\n",
              "    </tr>\n",
              "  </tbody>\n",
              "</table>\n",
              "</div>\n",
              "      <button class=\"colab-df-convert\" onclick=\"convertToInteractive('df-93086753-996a-4f17-a88d-e7a672bb1919')\"\n",
              "              title=\"Convert this dataframe to an interactive table.\"\n",
              "              style=\"display:none;\">\n",
              "        \n",
              "  <svg xmlns=\"http://www.w3.org/2000/svg\" height=\"24px\"viewBox=\"0 0 24 24\"\n",
              "       width=\"24px\">\n",
              "    <path d=\"M0 0h24v24H0V0z\" fill=\"none\"/>\n",
              "    <path d=\"M18.56 5.44l.94 2.06.94-2.06 2.06-.94-2.06-.94-.94-2.06-.94 2.06-2.06.94zm-11 1L8.5 8.5l.94-2.06 2.06-.94-2.06-.94L8.5 2.5l-.94 2.06-2.06.94zm10 10l.94 2.06.94-2.06 2.06-.94-2.06-.94-.94-2.06-.94 2.06-2.06.94z\"/><path d=\"M17.41 7.96l-1.37-1.37c-.4-.4-.92-.59-1.43-.59-.52 0-1.04.2-1.43.59L10.3 9.45l-7.72 7.72c-.78.78-.78 2.05 0 2.83L4 21.41c.39.39.9.59 1.41.59.51 0 1.02-.2 1.41-.59l7.78-7.78 2.81-2.81c.8-.78.8-2.07 0-2.86zM5.41 20L4 18.59l7.72-7.72 1.47 1.35L5.41 20z\"/>\n",
              "  </svg>\n",
              "      </button>\n",
              "      \n",
              "  <style>\n",
              "    .colab-df-container {\n",
              "      display:flex;\n",
              "      flex-wrap:wrap;\n",
              "      gap: 12px;\n",
              "    }\n",
              "\n",
              "    .colab-df-convert {\n",
              "      background-color: #E8F0FE;\n",
              "      border: none;\n",
              "      border-radius: 50%;\n",
              "      cursor: pointer;\n",
              "      display: none;\n",
              "      fill: #1967D2;\n",
              "      height: 32px;\n",
              "      padding: 0 0 0 0;\n",
              "      width: 32px;\n",
              "    }\n",
              "\n",
              "    .colab-df-convert:hover {\n",
              "      background-color: #E2EBFA;\n",
              "      box-shadow: 0px 1px 2px rgba(60, 64, 67, 0.3), 0px 1px 3px 1px rgba(60, 64, 67, 0.15);\n",
              "      fill: #174EA6;\n",
              "    }\n",
              "\n",
              "    [theme=dark] .colab-df-convert {\n",
              "      background-color: #3B4455;\n",
              "      fill: #D2E3FC;\n",
              "    }\n",
              "\n",
              "    [theme=dark] .colab-df-convert:hover {\n",
              "      background-color: #434B5C;\n",
              "      box-shadow: 0px 1px 3px 1px rgba(0, 0, 0, 0.15);\n",
              "      filter: drop-shadow(0px 1px 2px rgba(0, 0, 0, 0.3));\n",
              "      fill: #FFFFFF;\n",
              "    }\n",
              "  </style>\n",
              "\n",
              "      <script>\n",
              "        const buttonEl =\n",
              "          document.querySelector('#df-93086753-996a-4f17-a88d-e7a672bb1919 button.colab-df-convert');\n",
              "        buttonEl.style.display =\n",
              "          google.colab.kernel.accessAllowed ? 'block' : 'none';\n",
              "\n",
              "        async function convertToInteractive(key) {\n",
              "          const element = document.querySelector('#df-93086753-996a-4f17-a88d-e7a672bb1919');\n",
              "          const dataTable =\n",
              "            await google.colab.kernel.invokeFunction('convertToInteractive',\n",
              "                                                     [key], {});\n",
              "          if (!dataTable) return;\n",
              "\n",
              "          const docLinkHtml = 'Like what you see? Visit the ' +\n",
              "            '<a target=\"_blank\" href=https://colab.research.google.com/notebooks/data_table.ipynb>data table notebook</a>'\n",
              "            + ' to learn more about interactive tables.';\n",
              "          element.innerHTML = '';\n",
              "          dataTable['output_type'] = 'display_data';\n",
              "          await google.colab.output.renderOutput(dataTable, element);\n",
              "          const docLink = document.createElement('div');\n",
              "          docLink.innerHTML = docLinkHtml;\n",
              "          element.appendChild(docLink);\n",
              "        }\n",
              "      </script>\n",
              "    </div>\n",
              "  </div>\n",
              "  "
            ]
          },
          "metadata": {},
          "execution_count": 16
        }
      ]
    },
    {
      "cell_type": "code",
      "source": [
        "labels.rename(columns = {'spam':'Label'}, inplace = True)"
      ],
      "metadata": {
        "id": "ShPHOovw24LG"
      },
      "execution_count": 17,
      "outputs": []
    },
    {
      "cell_type": "code",
      "source": [
        "labels"
      ],
      "metadata": {
        "colab": {
          "base_uri": "https://localhost:8080/",
          "height": 423
        },
        "id": "74Mlky0I24IR",
        "outputId": "bf805289-d502-4418-a729-f6030f669fed"
      },
      "execution_count": 18,
      "outputs": [
        {
          "output_type": "execute_result",
          "data": {
            "text/plain": [
              "      Label\n",
              "0         0\n",
              "1         0\n",
              "2         1\n",
              "3         0\n",
              "4         0\n",
              "...     ...\n",
              "5567      1\n",
              "5568      0\n",
              "5569      0\n",
              "5570      0\n",
              "5571      0\n",
              "\n",
              "[5572 rows x 1 columns]"
            ],
            "text/html": [
              "\n",
              "  <div id=\"df-c4fef610-3086-4c14-9092-494f364b1960\">\n",
              "    <div class=\"colab-df-container\">\n",
              "      <div>\n",
              "<style scoped>\n",
              "    .dataframe tbody tr th:only-of-type {\n",
              "        vertical-align: middle;\n",
              "    }\n",
              "\n",
              "    .dataframe tbody tr th {\n",
              "        vertical-align: top;\n",
              "    }\n",
              "\n",
              "    .dataframe thead th {\n",
              "        text-align: right;\n",
              "    }\n",
              "</style>\n",
              "<table border=\"1\" class=\"dataframe\">\n",
              "  <thead>\n",
              "    <tr style=\"text-align: right;\">\n",
              "      <th></th>\n",
              "      <th>Label</th>\n",
              "    </tr>\n",
              "  </thead>\n",
              "  <tbody>\n",
              "    <tr>\n",
              "      <th>0</th>\n",
              "      <td>0</td>\n",
              "    </tr>\n",
              "    <tr>\n",
              "      <th>1</th>\n",
              "      <td>0</td>\n",
              "    </tr>\n",
              "    <tr>\n",
              "      <th>2</th>\n",
              "      <td>1</td>\n",
              "    </tr>\n",
              "    <tr>\n",
              "      <th>3</th>\n",
              "      <td>0</td>\n",
              "    </tr>\n",
              "    <tr>\n",
              "      <th>4</th>\n",
              "      <td>0</td>\n",
              "    </tr>\n",
              "    <tr>\n",
              "      <th>...</th>\n",
              "      <td>...</td>\n",
              "    </tr>\n",
              "    <tr>\n",
              "      <th>5567</th>\n",
              "      <td>1</td>\n",
              "    </tr>\n",
              "    <tr>\n",
              "      <th>5568</th>\n",
              "      <td>0</td>\n",
              "    </tr>\n",
              "    <tr>\n",
              "      <th>5569</th>\n",
              "      <td>0</td>\n",
              "    </tr>\n",
              "    <tr>\n",
              "      <th>5570</th>\n",
              "      <td>0</td>\n",
              "    </tr>\n",
              "    <tr>\n",
              "      <th>5571</th>\n",
              "      <td>0</td>\n",
              "    </tr>\n",
              "  </tbody>\n",
              "</table>\n",
              "<p>5572 rows × 1 columns</p>\n",
              "</div>\n",
              "      <button class=\"colab-df-convert\" onclick=\"convertToInteractive('df-c4fef610-3086-4c14-9092-494f364b1960')\"\n",
              "              title=\"Convert this dataframe to an interactive table.\"\n",
              "              style=\"display:none;\">\n",
              "        \n",
              "  <svg xmlns=\"http://www.w3.org/2000/svg\" height=\"24px\"viewBox=\"0 0 24 24\"\n",
              "       width=\"24px\">\n",
              "    <path d=\"M0 0h24v24H0V0z\" fill=\"none\"/>\n",
              "    <path d=\"M18.56 5.44l.94 2.06.94-2.06 2.06-.94-2.06-.94-.94-2.06-.94 2.06-2.06.94zm-11 1L8.5 8.5l.94-2.06 2.06-.94-2.06-.94L8.5 2.5l-.94 2.06-2.06.94zm10 10l.94 2.06.94-2.06 2.06-.94-2.06-.94-.94-2.06-.94 2.06-2.06.94z\"/><path d=\"M17.41 7.96l-1.37-1.37c-.4-.4-.92-.59-1.43-.59-.52 0-1.04.2-1.43.59L10.3 9.45l-7.72 7.72c-.78.78-.78 2.05 0 2.83L4 21.41c.39.39.9.59 1.41.59.51 0 1.02-.2 1.41-.59l7.78-7.78 2.81-2.81c.8-.78.8-2.07 0-2.86zM5.41 20L4 18.59l7.72-7.72 1.47 1.35L5.41 20z\"/>\n",
              "  </svg>\n",
              "      </button>\n",
              "      \n",
              "  <style>\n",
              "    .colab-df-container {\n",
              "      display:flex;\n",
              "      flex-wrap:wrap;\n",
              "      gap: 12px;\n",
              "    }\n",
              "\n",
              "    .colab-df-convert {\n",
              "      background-color: #E8F0FE;\n",
              "      border: none;\n",
              "      border-radius: 50%;\n",
              "      cursor: pointer;\n",
              "      display: none;\n",
              "      fill: #1967D2;\n",
              "      height: 32px;\n",
              "      padding: 0 0 0 0;\n",
              "      width: 32px;\n",
              "    }\n",
              "\n",
              "    .colab-df-convert:hover {\n",
              "      background-color: #E2EBFA;\n",
              "      box-shadow: 0px 1px 2px rgba(60, 64, 67, 0.3), 0px 1px 3px 1px rgba(60, 64, 67, 0.15);\n",
              "      fill: #174EA6;\n",
              "    }\n",
              "\n",
              "    [theme=dark] .colab-df-convert {\n",
              "      background-color: #3B4455;\n",
              "      fill: #D2E3FC;\n",
              "    }\n",
              "\n",
              "    [theme=dark] .colab-df-convert:hover {\n",
              "      background-color: #434B5C;\n",
              "      box-shadow: 0px 1px 3px 1px rgba(0, 0, 0, 0.15);\n",
              "      filter: drop-shadow(0px 1px 2px rgba(0, 0, 0, 0.3));\n",
              "      fill: #FFFFFF;\n",
              "    }\n",
              "  </style>\n",
              "\n",
              "      <script>\n",
              "        const buttonEl =\n",
              "          document.querySelector('#df-c4fef610-3086-4c14-9092-494f364b1960 button.colab-df-convert');\n",
              "        buttonEl.style.display =\n",
              "          google.colab.kernel.accessAllowed ? 'block' : 'none';\n",
              "\n",
              "        async function convertToInteractive(key) {\n",
              "          const element = document.querySelector('#df-c4fef610-3086-4c14-9092-494f364b1960');\n",
              "          const dataTable =\n",
              "            await google.colab.kernel.invokeFunction('convertToInteractive',\n",
              "                                                     [key], {});\n",
              "          if (!dataTable) return;\n",
              "\n",
              "          const docLinkHtml = 'Like what you see? Visit the ' +\n",
              "            '<a target=\"_blank\" href=https://colab.research.google.com/notebooks/data_table.ipynb>data table notebook</a>'\n",
              "            + ' to learn more about interactive tables.';\n",
              "          element.innerHTML = '';\n",
              "          dataTable['output_type'] = 'display_data';\n",
              "          await google.colab.output.renderOutput(dataTable, element);\n",
              "          const docLink = document.createElement('div');\n",
              "          docLink.innerHTML = docLinkHtml;\n",
              "          element.appendChild(docLink);\n",
              "        }\n",
              "      </script>\n",
              "    </div>\n",
              "  </div>\n",
              "  "
            ]
          },
          "metadata": {},
          "execution_count": 18
        }
      ]
    },
    {
      "cell_type": "code",
      "source": [
        "from sklearn.model_selection import train_test_split\n",
        "\n",
        "x_train, x_test, y_train, y_test = train_test_split(clean_messages, labels, test_size=0.25, random_state=10)"
      ],
      "metadata": {
        "id": "yZTp2QlU24Ff"
      },
      "execution_count": 19,
      "outputs": []
    },
    {
      "cell_type": "code",
      "source": [
        "print(f'shape of x_train :{x_train.shape}')\n",
        "print(f'shape of x_test :{x_test.shape}')\n",
        "print(f'shape of y_train :{y_train.shape}')\n",
        "print(f'shape of y_test :{y_test.shape}')"
      ],
      "metadata": {
        "colab": {
          "base_uri": "https://localhost:8080/"
        },
        "id": "EdIWhH8k24Cz",
        "outputId": "97247d70-d427-42ab-bf5c-9d2f8ec8d078"
      },
      "execution_count": 20,
      "outputs": [
        {
          "output_type": "stream",
          "name": "stdout",
          "text": [
            "shape of x_train :(4179,)\n",
            "shape of x_test :(1393,)\n",
            "shape of y_train :(4179, 1)\n",
            "shape of y_test :(1393, 1)\n"
          ]
        }
      ]
    },
    {
      "cell_type": "code",
      "source": [
        "y_train = np.squeeze(y_train)"
      ],
      "metadata": {
        "id": "OYOMd8LG9QXh"
      },
      "execution_count": 21,
      "outputs": []
    },
    {
      "cell_type": "code",
      "source": [
        "y_test = np.squeeze(y_test)"
      ],
      "metadata": {
        "id": "3jnmkQXW9rs4"
      },
      "execution_count": 22,
      "outputs": []
    },
    {
      "cell_type": "code",
      "source": [
        "y_test.head()"
      ],
      "metadata": {
        "colab": {
          "base_uri": "https://localhost:8080/"
        },
        "id": "QLefg1oe23_8",
        "outputId": "5498928c-78bb-41ee-c666-bb7fc922f17d"
      },
      "execution_count": 23,
      "outputs": [
        {
          "output_type": "execute_result",
          "data": {
            "text/plain": [
              "4635    0\n",
              "2279    0\n",
              "4545    0\n",
              "5084    0\n",
              "5298    0\n",
              "Name: Label, dtype: uint8"
            ]
          },
          "metadata": {},
          "execution_count": 23
        }
      ]
    },
    {
      "cell_type": "code",
      "source": [
        "print(f'shape of y_train :{y_train.shape}')\n",
        "print(f'shape of y_test :{y_test.shape}')"
      ],
      "metadata": {
        "colab": {
          "base_uri": "https://localhost:8080/"
        },
        "id": "ZALFNi6o2388",
        "outputId": "6e484629-9903-4b96-b925-790c52983408"
      },
      "execution_count": 24,
      "outputs": [
        {
          "output_type": "stream",
          "name": "stdout",
          "text": [
            "shape of y_train :(4179,)\n",
            "shape of y_test :(1393,)\n"
          ]
        }
      ]
    },
    {
      "cell_type": "code",
      "source": [
        "from tensorflow.keras.preprocessing.text import Tokenizer"
      ],
      "metadata": {
        "id": "K7Mil4_T236L"
      },
      "execution_count": 25,
      "outputs": []
    },
    {
      "cell_type": "code",
      "source": [
        "tokenize = Tokenizer(num_words=10000)\n",
        "\n",
        "tokenize.fit_on_texts(x_train)\n",
        "\n",
        "x_train = tokenize.texts_to_sequences(x_train)\n",
        "x_test = tokenize.texts_to_sequences(x_test)"
      ],
      "metadata": {
        "id": "tc6HFygb233l"
      },
      "execution_count": 26,
      "outputs": []
    },
    {
      "cell_type": "code",
      "source": [
        "print(tokenize.word_index)"
      ],
      "metadata": {
        "colab": {
          "base_uri": "https://localhost:8080/"
        },
        "id": "MYCyDExa230q",
        "outputId": "1ea59fb8-e0ff-46f9-ec42-8f116fbd4051"
      },
      "execution_count": 27,
      "outputs": [
        {
          "output_type": "stream",
          "name": "stdout",
          "text": [
            "{'i': 1, 'to': 2, 'you': 3, 'a': 4, 'the': 5, 'u': 6, 'and': 7, 'in': 8, 'is': 9, 'me': 10, 'my': 11, 'it': 12, 'for': 13, 'your': 14, 'of': 15, 'call': 16, 's': 17, 'have': 18, 'that': 19, 'on': 20, 'are': 21, 'now': 22, 't': 23, 'so': 24, 'can': 25, 'not': 26, 'but': 27, 'm': 28, 'or': 29, 'be': 30, 'do': 31, 'we': 32, 'at': 33, 'will': 34, 'if': 35, 'get': 36, 'with': 37, 'no': 38, 'ur': 39, 'just': 40, 'this': 41, 'how': 42, 'gt': 43, 'lt': 44, 'when': 45, 'up': 46, 'free': 47, 'from': 48, 'what': 49, 'ok': 50, 'all': 51, 'go': 52, 'out': 53, 'know': 54, 'll': 55, 'got': 56, 'come': 57, 'am': 58, 'good': 59, 'like': 60, 'day': 61, 'there': 62, 'then': 63, 'was': 64, 'he': 65, 'time': 66, 'only': 67, 'its': 68, 'love': 69, 'txt': 70, 'p': 71, 'want': 72, 'send': 73, 'as': 74, 'one': 75, 'by': 76, 'home': 77, 'going': 78, 'r': 79, 'text': 80, 'stop': 81, 'need': 82, 'n': 83, 'don': 84, 'k': 85, 'd': 86, 'she': 87, 'lor': 88, 'about': 89, 'today': 90, 'dont': 91, 'still': 92, 'da': 93, 'reply': 94, 'sorry': 95, 'they': 96, 'our': 97, 'see': 98, 'tell': 99, 'back': 100, 'her': 101, 'take': 102, 'been': 103, 'any': 104, 'mobile': 105, 'hi': 106, 'later': 107, 'new': 108, 'week': 109, 'much': 110, 'pls': 111, 'here': 112, 'did': 113, 'please': 114, 'think': 115, 'well': 116, 'phone': 117, 'oh': 118, 'dear': 119, 'c': 120, 'great': 121, 'an': 122, 'has': 123, 'where': 124, 're': 125, 'msg': 126, 'hope': 127, 'night': 128, 'hey': 129, 'some': 130, 'claim': 131, 'b': 132, 'who': 133, 'too': 134, 'had': 135, 'more': 136, 'yes': 137, 'work': 138, 'wat': 139, 'www': 140, 'him': 141, 'way': 142, 'right': 143, 'e': 144, 'should': 145, 've': 146, 'yeah': 147, 'said': 148, 'after': 149, 'message': 150, 'prize': 151, 'make': 152, 'life': 153, 'number': 154, 'them': 155, 'give': 156, 'doing': 157, 'won': 158, 'say': 159, 'cash': 160, 'very': 161, 'happy': 162, 'im': 163, 'tomorrow': 164, 'ask': 165, 'win': 166, 'com': 167, 'miss': 168, 'already': 169, 'cos': 170, 'would': 171, 'really': 172, 'morning': 173, 'keep': 174, 'anything': 175, 'babe': 176, 'also': 177, 'care': 178, 'thanks': 179, 'meet': 180, 'find': 181, 'every': 182, 'x': 183, 'last': 184, 'nokia': 185, 'amp': 186, 'urgent': 187, 'min': 188, 'sure': 189, 'uk': 190, 'why': 191, 'lol': 192, 'pick': 193, 'feel': 194, 'something': 195, 'cant': 196, 'let': 197, 'went': 198, 'before': 199, 'over': 200, 'thing': 201, 'contact': 202, 'sent': 203, 'mins': 204, 'wait': 205, 'someone': 206, 'us': 207, 'even': 208, 'tone': 209, 'leave': 210, 'again': 211, 'were': 212, 'gud': 213, 'first': 214, 'buy': 215, 'tonight': 216, 'which': 217, 'ya': 218, 'place': 219, 'could': 220, 'next': 221, 'dun': 222, 'always': 223, 'around': 224, 'box': 225, 'w': 226, 'down': 227, 'gonna': 228, 'his': 229, 'customer': 230, 'help': 231, 'off': 232, 'nice': 233, 'wish': 234, 'told': 235, 'per': 236, 'service': 237, 'many': 238, 'money': 239, 'fine': 240, 'things': 241, 'late': 242, 'co': 243, 'sleep': 244, 'sms': 245, 'friends': 246, 'friend': 247, 'may': 248, 'waiting': 249, 'soon': 250, 'same': 251, 'name': 252, 'st': 253, 'guaranteed': 254, 'ppm': 255, 'done': 256, 'pm': 257, 'yet': 258, 'smile': 259, 'try': 260, 'draw': 261, 'v': 262, 'holiday': 263, 'talk': 264, 'people': 265, 'use': 266, 'year': 267, 'wan': 268, 'because': 269, 'best': 270, 'class': 271, 'days': 272, 'other': 273, 'man': 274, 'chat': 275, 'haha': 276, 'thk': 277, 'dat': 278, 'having': 279, 'few': 280, 'y': 281, 'cool': 282, 'never': 283, 'god': 284, 'coming': 285, 'half': 286, 'being': 287, 'live': 288, 'ill': 289, 'yup': 290, 'heart': 291, 'person': 292, 'bit': 293, 'month': 294, 'getting': 295, 'world': 296, 'hello': 297, 'trying': 298, 'lunch': 299, 'cs': 300, 'wk': 301, 'lot': 302, 'camera': 303, 'didn': 304, 'stuff': 305, 'end': 306, 'start': 307, 'line': 308, 'liao': 309, 'account': 310, 'lar': 311, 'thought': 312, 'thats': 313, 'meeting': 314, 'real': 315, 'th': 316, 'play': 317, 'problem': 318, 'bt': 319, 'latest': 320, 'guess': 321, 'car': 322, 'word': 323, 'cost': 324, 'yo': 325, 'sir': 326, 'mind': 327, 'better': 328, 'wanna': 329, 'awarded': 330, 'ever': 331, 'special': 332, 'check': 333, 'finish': 334, 'big': 335, 'nothing': 336, 'into': 337, 'might': 338, 'house': 339, 'receive': 340, 'ready': 341, 'enjoy': 342, 'g': 343, 'long': 344, 'guys': 345, 'shows': 346, 'than': 347, 'landline': 348, 'po': 349, 'luv': 350, 'called': 351, 'shit': 352, 'age': 353, 'ah': 354, 'shopping': 355, 'sat': 356, 'jus': 357, 'hrs': 358, 'offer': 359, 'pobox': 360, 'chance': 361, 'job': 362, 'orange': 363, 'bad': 364, 'shall': 365, 'without': 366, 'look': 367, 'rate': 368, 'eat': 369, 'another': 370, 'dinner': 371, 'gift': 372, 'nd': 373, 'wont': 374, 'calls': 375, 'fun': 376, 'two': 377, 'face': 378, 'den': 379, 'ringtone': 380, 'pay': 381, 'thank': 382, 'quite': 383, 'watch': 384, 'room': 385, 'does': 386, 'tv': 387, 'probably': 388, 'easy': 389, 'leh': 390, 'sweet': 391, 'aight': 392, 'boy': 393, 'girl': 394, 'watching': 395, 'xxx': 396, 'de': 397, 'speak': 398, 'xmas': 399, 'didnt': 400, 'baby': 401, 'afternoon': 402, 'hear': 403, 'nite': 404, 'once': 405, 'hour': 406, 'birthday': 407, 'those': 408, 'apply': 409, 'collection': 410, 'bus': 411, 'plan': 412, 'part': 413, 'little': 414, 'dunno': 415, 'hav': 416, 'remember': 417, 'left': 418, 'enough': 419, 'fuck': 420, 'minutes': 421, 'most': 422, 'forgot': 423, 'true': 424, 'princess': 425, 'working': 426, 'weekend': 427, 'able': 428, 'years': 429, 'thanx': 430, 'asked': 431, 'guy': 432, 'bed': 433, 'looking': 434, 'xx': 435, 'entry': 436, 'tones': 437, 'everything': 438, 'school': 439, 'dis': 440, 'code': 441, 'juz': 442, 'dad': 443, 'anyway': 444, 'kiss': 445, 'selected': 446, 'sch': 447, 'put': 448, 'worry': 449, 'weekly': 450, 'important': 451, 'made': 452, 'update': 453, 'texts': 454, 'between': 455, 'plz': 456, 'maybe': 457, 'o': 458, 'makes': 459, 'plus': 460, 'abt': 461, 'hurt': 462, 'bring': 463, 'til': 464, 'goes': 465, 'else': 466, 'must': 467, 'wif': 468, 'music': 469, 'double': 470, 'collect': 471, 'missed': 472, 'since': 473, 'pain': 474, 'mob': 475, 'lei': 476, 'means': 477, 'optout': 478, 'valid': 479, 'wanted': 480, 'came': 481, 'video': 482, 'price': 483, 'movie': 484, 'wake': 485, 'wife': 486, 'run': 487, 'okay': 488, 'details': 489, 'times': 490, 'lose': 491, 'haven': 492, 'book': 493, 'words': 494, 'actually': 495, 'dreams': 496, 'messages': 497, 'games': 498, 'office': 499, 'wot': 500, 'national': 501, 'join': 502, 'says': 503, 'making': 504, 'evening': 505, 'both': 506, 'change': 507, 'await': 508, 'sae': 509, 'early': 510, 'calling': 511, 'while': 512, 'alright': 513, 'attempt': 514, 'haf': 515, 'together': 516, 'though': 517, 'tmr': 518, 'set': 519, 'gr': 520, 'pa': 521, 'chikku': 522, 'show': 523, 'pub': 524, 'these': 525, 'wen': 526, 'reach': 527, 'award': 528, 'missing': 529, 'full': 530, 'colour': 531, 'network': 532, 'oso': 533, 'yours': 534, 'order': 535, 'decimal': 536, 'tried': 537, 'old': 538, 'havent': 539, 'busy': 540, 'huh': 541, 'test': 542, 'happen': 543, 'trip': 544, 'tho': 545, 'either': 546, 'brother': 547, 'leaving': 548, 'card': 549, 'yesterday': 550, 'shop': 551, 'mail': 552, 'till': 553, 'town': 554, 'address': 555, 'poly': 556, 'yourself': 557, 'okie': 558, 'mine': 559, 'j': 560, 'eve': 561, 'thinking': 562, 'family': 563, 'rite': 564, 'online': 565, 'beautiful': 566, 'head': 567, 'kind': 568, 'top': 569, 'until': 570, 'story': 571, 'congrats': 572, 'wants': 573, 'food': 574, 'todays': 575, 'pic': 576, 'saw': 577, 'hot': 578, 'delivery': 579, 'date': 580, 'net': 581, 'msgs': 582, 'stay': 583, 'hours': 584, 'club': 585, 'ard': 586, 'mobileupd': 587, 'believe': 588, 'charge': 589, 'available': 590, 'points': 591, 'simple': 592, 'finished': 593, 'frnd': 594, 'lets': 595, 'f': 596, 'drink': 597, 'drive': 598, 'bonus': 599, 'nt': 600, 'everyone': 601, 'anyone': 602, 'touch': 603, 'game': 604, 'search': 605, 'feeling': 606, 'coz': 607, 'whats': 608, 'vouchers': 609, 'drop': 610, 'mean': 611, 'hair': 612, 'tot': 613, 'aft': 614, 'question': 615, 'break': 616, 'bored': 617, 'dude': 618, 'forget': 619, 'saying': 620, 'pounds': 621, 'prob': 622, 'cause': 623, 'services': 624, 'sexy': 625, 'company': 626, 'private': 627, 'angry': 628, 'news': 629, 'took': 630, 'opt': 631, 'driving': 632, 'sun': 633, 'dating': 634, 'doesn': 635, 'sleeping': 636, 'comes': 637, 'goodmorning': 638, 'started': 639, 'hmm': 640, 'fast': 641, 'their': 642, 'gd': 643, 'ring': 644, 'email': 645, 'awesome': 646, 'mum': 647, 'smiling': 648, 'smth': 649, 'answer': 650, 'fri': 651, 'neva': 652, 'hold': 653, 'hl': 654, 'goin': 655, 'minute': 656, 'wid': 657, 'statement': 658, 'expires': 659, 'mom': 660, 'loving': 661, 'fucking': 662, 'sis': 663, 'tomo': 664, 'type': 665, 'sad': 666, 'close': 667, 'least': 668, 'reason': 669, 'lesson': 670, 'choose': 671, 'frnds': 672, 'lots': 673, 'ha': 674, 'away': 675, 'land': 676, 'blue': 677, 'pics': 678, 'friendship': 679, 'freemsg': 680, 'course': 681, 'parents': 682, 'voucher': 683, 'http': 684, 'congratulations': 685, 'used': 686, 'mths': 687, 'info': 688, 'wil': 689, 'motorola': 690, 'tc': 691, 'knw': 692, 'oredi': 693, 'ltd': 694, 'suite': 695, 'identifier': 696, 'whole': 697, 'snow': 698, 'walk': 699, 'operator': 700, 'hungry': 701, 'isn': 702, 'listen': 703, 'mayb': 704, 'mate': 705, 'lovely': 706, 'open': 707, 'mates': 708, 'post': 709, 'needs': 710, 'wq': 711, 'months': 712, 'chennai': 713, 'gone': 714, 'alone': 715, 'row': 716, 'download': 717, 'worth': 718, 'log': 719, 'smoke': 720, 'second': 721, 'nope': 722, 'couple': 723, 'happened': 724, 'die': 725, 'complimentary': 726, 'monday': 727, 'fr': 728, 'pretty': 729, 'takes': 730, 'darlin': 731, 'sunday': 732, 'winner': 733, 'supposed': 734, 'christmas': 735, 'ans': 736, 'bslvyl': 737, 'enter': 738, 'wine': 739, 'hows': 740, 'project': 741, 'sounds': 742, 'each': 743, 'credit': 744, 'mrng': 745, 'fancy': 746, 'party': 747, 'carlos': 748, 'case': 749, 'police': 750, 'picking': 751, 'met': 752, 'far': 753, 'gn': 754, 'eh': 755, 'crave': 756, 'auction': 757, 'side': 758, 'grins': 759, 'treat': 760, 'friday': 761, 'read': 762, 'txts': 763, 'ni': 764, 'laptop': 765, 'taking': 766, 'lucky': 767, 'content': 768, 'player': 769, 'wit': 770, 'comp': 771, 'girls': 772, 'questions': 773, 'area': 774, 'wkly': 775, 'secret': 776, 'gal': 777, 'unsubscribe': 778, 'shower': 779, 'l': 780, 'boytoy': 781, 'sk': 782, 'max': 783, 'knows': 784, 'anytime': 785, 'camcorder': 786, 'checking': 787, 'sex': 788, 'telling': 789, 'ass': 790, 'gym': 791, 'decided': 792, 'point': 793, 'seeing': 794, 'crazy': 795, 'happiness': 796, 'finally': 797, 'final': 798, 'support': 799, 'sending': 800, 'il': 801, 'water': 802, 'whatever': 803, 'ends': 804, 'wap': 805, 'stupid': 806, 'india': 807, 'wrong': 808, 'hmmm': 809, 'found': 810, 'england': 811, 'fone': 812, 'gbp': 813, 'hard': 814, 'visit': 815, 'lost': 816, 'balance': 817, 'lands': 818, 'rs': 819, 'joy': 820, 'college': 821, 'id': 822, 'figure': 823, 'safe': 824, 'tonite': 825, 'dnt': 826, 'within': 827, 'welcome': 828, 'mobiles': 829, 'ten': 830, 'wasn': 831, 'tel': 832, 'loved': 833, 'energy': 834, 'noe': 835, 'park': 836, 'currently': 837, 'earlier': 838, 'paper': 839, 'yrs': 840, 'mu': 841, 'gas': 842, 'felt': 843, 'phones': 844, 'correct': 845, 'tired': 846, 'mm': 847, 'oops': 848, 'cum': 849, 'rest': 850, 'hoping': 851, 'un': 852, 'gettin': 853, 'sea': 854, 'quiz': 855, 'hit': 856, 'myself': 857, 'saturday': 858, 'mon': 859, 'less': 860, 'move': 861, 'dream': 862, 'numbers': 863, 'xy': 864, 'bill': 865, 'invited': 866, 'doctor': 867, 'charged': 868, 'heard': 869, 'empty': 870, 'entered': 871, 'ringtones': 872, 'confirm': 873, 'mah': 874, 'slow': 875, 'ago': 876, 'laugh': 877, 'wana': 878, 'semester': 879, 'wonderful': 880, 'sister': 881, 'seen': 882, 'asking': 883, 'small': 884, 'difficult': 885, 'brings': 886, 'jay': 887, 'frm': 888, 'bcoz': 889, 'ones': 890, 'lovable': 891, 'voice': 892, 'std': 893, 'gotta': 894, 'train': 895, 'store': 896, 'bathe': 897, 'almost': 898, 'txting': 899, 'swing': 900, 'reading': 901, 'song': 902, 'wow': 903, 'glad': 904, 'flag': 905, 'remove': 906, 'through': 907, 'thinks': 908, 'kids': 909, 'press': 910, 'father': 911, 'march': 912, 'ho': 913, 'meant': 914, 'situation': 915, 'askd': 916, 'tht': 917, 'entitled': 918, 'rental': 919, 'planning': 920, 'computer': 921, 'weed': 922, 'na': 923, 'redeemed': 924, 'nyt': 925, 'catch': 926, 'sound': 927, 'caller': 928, 'studying': 929, 'wondering': 930, 'cheers': 931, 'merry': 932, 'buying': 933, 'gave': 934, 'bank': 935, 'different': 936, 'hiya': 937, 'etc': 938, 'decide': 939, 'plans': 940, 'information': 941, 'quick': 942, 'bout': 943, 'truth': 944, 'bb': 945, 'cd': 946, 'understand': 947, 'write': 948, 'cup': 949, 'hw': 950, 'street': 951, 'immediately': 952, 'eg': 953, 'deal': 954, 'luck': 955, 'ipod': 956, 'uncle': 957, 'urself': 958, 'disturb': 959, 'reached': 960, 'whenever': 961, 'yr': 962, 'moment': 963, 'daddy': 964, 'sometimes': 965, 'future': 966, 'somewhere': 967, 'ish': 968, 'sub': 969, 'none': 970, 'light': 971, 'silent': 972, 'power': 973, 'itself': 974, 'ac': 975, 'john': 976, 'drugs': 977, 'darren': 978, 'booked': 979, 'ldew': 980, 'ppmx': 981, 'ex': 982, 'bath': 983, 'knew': 984, 'usf': 985, 'outside': 986, 'unlimited': 987, 'sell': 988, 'registered': 989, 'near': 990, 'valued': 991, 'valentine': 992, 'surprise': 993, 'hr': 994, 'yar': 995, 'cheap': 996, 'exam': 997, 'custcare': 998, 'bluetooth': 999, 'callertune': 1000, 'save': 1001, 'norm': 1002, 'red': 1003, 'hand': 1004, 'getzed': 1005, 'wonder': 1006, 'hmv': 1007, 'workin': 1008, 'valentines': 1009, 'loyalty': 1010, 'kick': 1011, 'del': 1012, 'loads': 1013, 'woke': 1014, 'page': 1015, 'however': 1016, 'abiola': 1017, 'excellent': 1018, 'happening': 1019, 'own': 1020, 'fixed': 1021, 'honey': 1022, 'excuse': 1023, 'hee': 1024, 'staying': 1025, 'running': 1026, 'lemme': 1027, 'ave': 1028, 'specially': 1029, 'possible': 1030, 'interested': 1031, 'sucks': 1032, 'sick': 1033, 'orchard': 1034, 'bother': 1035, 'talking': 1036, 'pass': 1037, 'bx': 1038, 'starting': 1039, 'study': 1040, 'ending': 1041, 'rates': 1042, 'er': 1043, 'mo': 1044, 'mr': 1045, 'add': 1046, 'kb': 1047, 'hospital': 1048, 'ntt': 1049, 'cr': 1050, 'others': 1051, 'imagine': 1052, 'children': 1053, 'normal': 1054, 'loves': 1055, 'logo': 1056, 'giving': 1057, 'spree': 1058, 'din': 1059, 'pete': 1060, 'nobody': 1061, 'hg': 1062, 'wx': 1063, 'promise': 1064, 'rent': 1065, 'mp': 1066, 'lazy': 1067, 'representative': 1068, 'opinion': 1069, 'user': 1070, 'trust': 1071, 'pray': 1072, 'digital': 1073, 'rock': 1074, 'iam': 1075, 'discount': 1076, 'offers': 1077, 'spend': 1078, 'reference': 1079, 'comin': 1080, 'vl': 1081, 'forwarded': 1082, 'direct': 1083, 'coffee': 1084, 'insurance': 1085, 'weeks': 1086, 'dogging': 1087, 'sale': 1088, 'trouble': 1089, 'umma': 1090, 'bak': 1091, 'kinda': 1092, 'warm': 1093, 'somebody': 1094, 'seems': 1095, 'wiv': 1096, 'medical': 1097, 'extra': 1098, 'ugh': 1099, 'em': 1100, 'using': 1101, 'fault': 1102, 'wishing': 1103, 'asap': 1104, 'moon': 1105, 'deep': 1106, 'moral': 1107, 'ge': 1108, 'movies': 1109, 'planned': 1110, 'matches': 1111, 'mode': 1112, 'loan': 1113, 'rain': 1114, 'especially': 1115, 'rply': 1116, 'kate': 1117, 'copy': 1118, 'poor': 1119, 'sort': 1120, 'against': 1121, 'reveal': 1122, 'usual': 1123, 'omg': 1124, 'colleagues': 1125, 'tickets': 1126, 'weekends': 1127, 'costa': 1128, 'sol': 1129, 'strong': 1130, 'stand': 1131, 'ta': 1132, 'doin': 1133, 'feb': 1134, 'short': 1135, 'air': 1136, 'thinkin': 1137, 'usually': 1138, 'gets': 1139, 'otherwise': 1140, 'naughty': 1141, 'meh': 1142, 'following': 1143, 'flower': 1144, 'aftr': 1145, 'seriously': 1146, 'liked': 1147, 'inc': 1148, 'via': 1149, 'fullonsms': 1150, 'willing': 1151, 'link': 1152, 'bucks': 1153, 'mark': 1154, 'sunny': 1155, 'ahead': 1156, 'waste': 1157, 'aha': 1158, 'password': 1159, 'pc': 1160, 'ip': 1161, 'space': 1162, 'nxt': 1163, 'sim': 1164, 'sign': 1165, 'cal': 1166, 'ar': 1167, 'reward': 1168, 'match': 1169, 'hurts': 1170, 'version': 1171, 'arrive': 1172, 'budget': 1173, 'eating': 1174, 'joke': 1175, 'cine': 1176, 'slept': 1177, 'instead': 1178, 'walking': 1179, 'tscs': 1180, 'subscription': 1181, 'polys': 1182, 'thts': 1183, 'thru': 1184, 'idea': 1185, 'eyes': 1186, 'cover': 1187, 'boss': 1188, 'kept': 1189, 'team': 1190, 'joined': 1191, 'yest': 1192, 'cut': 1193, 'lover': 1194, 'yahoo': 1195, 'tat': 1196, 'complete': 1197, 'wer': 1198, 'students': 1199, 'dey': 1200, 'notice': 1201, 'midnight': 1202, 'unsub': 1203, 'black': 1204, 'doesnt': 1205, 'door': 1206, 'omw': 1207, 'tear': 1208, 'leaves': 1209, 'tea': 1210, 'apartment': 1211, 'hai': 1212, 'rcvd': 1213, 'wats': 1214, 'campus': 1215, 'library': 1216, 'completely': 1217, 'terms': 1218, 'lect': 1219, 'tncs': 1220, 'fyi': 1221, 'tampa': 1222, 'access': 1223, 'inviting': 1224, 'sport': 1225, 'boys': 1226, 'maximize': 1227, 'cc': 1228, 'summer': 1229, 'longer': 1230, 'fantastic': 1231, 'slowly': 1232, 'swt': 1233, 'pilates': 1234, 'matter': 1235, 'gay': 1236, 'feels': 1237, 'yijue': 1238, 'convey': 1239, 'pound': 1240, 'clean': 1241, 'wherever': 1242, 'yep': 1243, 'depends': 1244, 'training': 1245, 'process': 1246, 'imma': 1247, 'men': 1248, 'cancel': 1249, 'cafe': 1250, 'forever': 1251, 'picked': 1252, 'surely': 1253, 'oz': 1254, 'pleasure': 1255, 'official': 1256, 'la': 1257, 'paying': 1258, 'eatin': 1259, 'ts': 1260, 'facebook': 1261, 'lessons': 1262, 'quality': 1263, 'past': 1264, 'izzit': 1265, 'kerala': 1266, 'horny': 1267, 'paid': 1268, 'ldn': 1269, 'arcade': 1270, 'awake': 1271, 'weight': 1272, 'vikky': 1273, 'station': 1274, 'meaning': 1275, 'muz': 1276, 'bag': 1277, 'kallis': 1278, 'hp': 1279, 'melle': 1280, 'inside': 1281, 'admirer': 1282, 'directly': 1283, 'sp': 1284, 'model': 1285, 'sony': 1286, 'yoga': 1287, 'high': 1288, 'noon': 1289, 'wc': 1290, 'tariffs': 1291, 'buzz': 1292, 'charity': 1293, 'accept': 1294, 'tick': 1295, 'joking': 1296, 'aren': 1297, 'txtauction': 1298, 'argument': 1299, 'checked': 1300, 'toclaim': 1301, 'stockport': 1302, 'xh': 1303, 'records': 1304, 'biz': 1305, 'spent': 1306, 'pussy': 1307, 'bedroom': 1308, 'mood': 1309, 'cake': 1310, 'except': 1311, 'buns': 1312, 'damn': 1313, 'aiyah': 1314, 'flirt': 1315, 'rather': 1316, 'issues': 1317, 'cheaper': 1318, 'across': 1319, 'flights': 1320, 'personal': 1321, 'daily': 1322, 'weather': 1323, 'photos': 1324, 'whether': 1325, 'worried': 1326, 'pizza': 1327, 'lonely': 1328, 'photo': 1329, 'shouldn': 1330, 'cinema': 1331, 'film': 1332, 'fingers': 1333, 'south': 1334, 'partner': 1335, 'sitting': 1336, 'starts': 1337, 'sum': 1338, 'vry': 1339, 'holding': 1340, 'bold': 1341, 'jazz': 1342, 'respond': 1343, 'croydon': 1344, 'wb': 1345, 'site': 1346, 'self': 1347, 'informed': 1348, 'cbe': 1349, 'city': 1350, 'murder': 1351, 'marriage': 1352, 'advice': 1353, 'goodnight': 1354, 'alrite': 1355, 'round': 1356, 'euro': 1357, 'persons': 1358, 'birds': 1359, 'hate': 1360, 'boo': 1361, 'group': 1362, 'recently': 1363, 'role': 1364, 'sighs': 1365, 'jst': 1366, 'towards': 1367, 'brand': 1368, 'askin': 1369, 'alex': 1370, 'request': 1371, 'sit': 1372, 'plane': 1373, 'tenerife': 1374, 'system': 1375, 'super': 1376, 'cuz': 1377, 'plenty': 1378, 'hv': 1379, 'freephone': 1380, 'unless': 1381, 'turns': 1382, 'under': 1383, 'appreciate': 1384, 'style': 1385, 'earth': 1386, 'teach': 1387, 'quote': 1388, 'rays': 1389, 'worries': 1390, 'nah': 1391, 'rakhesh': 1392, 'present': 1393, 'sipix': 1394, 'savamob': 1395, 'mistake': 1396, 'bitch': 1397, 'woman': 1398, 'unable': 1399, 'character': 1400, 'experience': 1401, 'slave': 1402, 'ahmad': 1403, 'choice': 1404, 'connection': 1405, 'random': 1406, 'aathi': 1407, 'spook': 1408, 'zed': 1409, 'onto': 1410, 'belly': 1411, 'lmao': 1412, 'intro': 1413, 'changed': 1414, 'credits': 1415, 'guide': 1416, 'relax': 1417, 'awaiting': 1418, 'april': 1419, 'miles': 1420, 'theatre': 1421, 'nigeria': 1422, 'expensive': 1423, 'cell': 1424, 'wishes': 1425, 'reaching': 1426, 'gentle': 1427, 'boston': 1428, 'lik': 1429, 'nat': 1430, 'share': 1431, 'gals': 1432, 'click': 1433, 'stock': 1434, 'living': 1435, 'stopped': 1436, 'sup': 1437, 'cds': 1438, 'pix': 1439, 'gives': 1440, 'tough': 1441, 'centre': 1442, 'gm': 1443, 'putting': 1444, 'during': 1445, 'q': 1446, 'track': 1447, 'funny': 1448, 'hotel': 1449, 'gee': 1450, 'married': 1451, 'white': 1452, 'al': 1453, 'moan': 1454, 'asleep': 1455, 'indian': 1456, 'childish': 1457, 'ladies': 1458, 'boost': 1459, 'linerental': 1460, 'frens': 1461, 'fetch': 1462, 'babes': 1463, 'sunshine': 1464, 'heavy': 1465, 'member': 1466, 'fact': 1467, 'ttyl': 1468, 'five': 1469, 'tm': 1470, 'sight': 1471, 'fix': 1472, 'announcement': 1473, 'happens': 1474, 'deliver': 1475, 'places': 1476, 'yogasana': 1477, 'vodafone': 1478, 'aiyo': 1479, 'died': 1480, 'goto': 1481, 'behind': 1482, 'looked': 1483, 'sonyericsson': 1484, 'screaming': 1485, 'sofa': 1486, 'single': 1487, 'dead': 1488, 'lady': 1489, 'tour': 1490, 'envelope': 1491, 'vary': 1492, 'urgnt': 1493, 'easier': 1494, 'wed': 1495, 'advance': 1496, 'mtmsg': 1497, 'derek': 1498, 'theory': 1499, 'wins': 1500, 'argue': 1501, 'wun': 1502, 'shuhui': 1503, 'menu': 1504, 'ibiza': 1505, 'wp': 1506, 'social': 1507, 'airport': 1508, 'road': 1509, 'london': 1510, 'diet': 1511, 'jess': 1512, 'wks': 1513, 'dirty': 1514, 'loverboy': 1515, 'sky': 1516, 'raining': 1517, 'practice': 1518, 'replied': 1519, 'beer': 1520, 'blank': 1521, 'serious': 1522, 'greet': 1523, 'child': 1524, 'ride': 1525, 'ph': 1526, 'anyways': 1527, 'smiles': 1528, 'jordan': 1529, 'hopefully': 1530, 'miracle': 1531, 'decision': 1532, 'become': 1533, 'timing': 1534, 'apparently': 1535, 'accidentally': 1536, 'fighting': 1537, 'cancer': 1538, 'throat': 1539, 'scared': 1540, 'due': 1541, 'posted': 1542, 'lead': 1543, 'unique': 1544, 'created': 1545, 'hands': 1546, 'dollars': 1547, 'masters': 1548, 'num': 1549, 'fat': 1550, 'milk': 1551, 'whom': 1552, 'dog': 1553, 'fantasies': 1554, 'revealed': 1555, 'cold': 1556, 'amt': 1557, 'handset': 1558, 'contacted': 1559, 'tyler': 1560, 'feet': 1561, 'grand': 1562, 'videophones': 1563, 'videochat': 1564, 'java': 1565, 'dload': 1566, 'noline': 1567, 'rentl': 1568, 'solve': 1569, 'murdered': 1570, 'cook': 1571, 'cooking': 1572, 'maid': 1573, 'arrested': 1574, 'murderer': 1575, 'brilliant': 1576, 'realy': 1577, 'moro': 1578, 'legal': 1579, 'forward': 1580, 'schedule': 1581, 'dare': 1582, 'original': 1583, 'wtf': 1584, 'closer': 1585, 'results': 1586, 'lift': 1587, 'hunny': 1588, 'isnt': 1589, 'flat': 1590, 'ive': 1591, 'tb': 1592, 'explain': 1593, 'travel': 1594, 'everybody': 1595, 'holla': 1596, 'rcv': 1597, 'sense': 1598, 'ma': 1599, 'height': 1600, 'confidence': 1601, 'hell': 1602, 'anymore': 1603, 'polyphonic': 1604, 'law': 1605, 'problems': 1606, 'weak': 1607, 'shirt': 1608, 'bet': 1609, 'wnt': 1610, 'lacs': 1611, 'fever': 1612, 'subscriber': 1613, 'delivered': 1614, 'nw': 1615, 'rd': 1616, 'nature': 1617, 'wearing': 1618, 'ended': 1619, 'bay': 1620, 'egg': 1621, 'pin': 1622, 'qatar': 1623, 'opportunity': 1624, 'hurry': 1625, 'key': 1626, 'fromm': 1627, 'quit': 1628, 'addicted': 1629, 'nights': 1630, 'brought': 1631, 'spoke': 1632, 'activate': 1633, 'replying': 1634, 'website': 1635, 'afraid': 1636, 'bloody': 1637, 'str': 1638, 'stylish': 1639, 'unredeemed': 1640, 'essential': 1641, 'gorgeous': 1642, 'bday': 1643, 'tt': 1644, 'pongal': 1645, 'blood': 1646, 'jokes': 1647, 'pissed': 1648, 'skilgme': 1649, 'winawk': 1650, 'rose': 1651, 'eerie': 1652, 'released': 1653, 'urawinner': 1654, 'sec': 1655, 'leona': 1656, 'cute': 1657, 'added': 1658, 'list': 1659, 'thurs': 1660, 'result': 1661, 'body': 1662, 'gb': 1663, 'url': 1664, 'wouldn': 1665, 'regards': 1666, 'dint': 1667, 'cannot': 1668, 'outta': 1669, 'freak': 1670, 'december': 1671, 'clock': 1672, 'exactly': 1673, 'mummy': 1674, 'pleased': 1675, 'romantic': 1676, 'current': 1677, 'obviously': 1678, 'journey': 1679, 'bloomberg': 1680, 'center': 1681, 'nyc': 1682, 'hug': 1683, 'basically': 1684, 'urn': 1685, 'appointment': 1686, 'cat': 1687, 'faster': 1688, 'wrc': 1689, 'rally': 1690, 'lucozade': 1691, 'scream': 1692, 'perfect': 1693, 'review': 1694, 'yer': 1695, 'eng': 1696, 'acc': 1697, 'competition': 1698, 'wear': 1699, 'bugis': 1700, 'waking': 1701, 'exact': 1702, 'meds': 1703, 'works': 1704, 'bahamas': 1705, 'dvd': 1706, 'hook': 1707, 'learn': 1708, 'simply': 1709, 'thnk': 1710, 'arrange': 1711, 'sura': 1712, 'settings': 1713, 'return': 1714, 'english': 1715, 'fall': 1716, 'vip': 1717, 'lookin': 1718, 'fantasy': 1719, 'ntwk': 1720, 'login': 1721, 'letters': 1722, 'mother': 1723, 'mmm': 1724, 'cam': 1725, 'ppl': 1726, 'dropped': 1727, 'rush': 1728, 'ran': 1729, 'saved': 1730, 'santa': 1731, 'total': 1732, 'listening': 1733, 'showing': 1734, 'thangam': 1735, 'subs': 1736, 'bye': 1737, 'somethin': 1738, 'yun': 1739, 'fl': 1740, 'inches': 1741, 'internet': 1742, 'oru': 1743, 'callers': 1744, 'stoptxt': 1745, 'rem': 1746, 'ages': 1747, 'technical': 1748, 'players': 1749, 'kano': 1750, 'mrt': 1751, 'fren': 1752, 'throw': 1753, 'research': 1754, 'begin': 1755, 'king': 1756, 'evng': 1757, 'app': 1758, 'idiot': 1759, 'twice': 1760, 'interview': 1761, 'note': 1762, 'receipt': 1763, 'unsold': 1764, 'remind': 1765, 'wa': 1766, 'ham': 1767, 'sen': 1768, 'definitely': 1769, 'google': 1770, 'salary': 1771, 'green': 1772, 'cartoon': 1773, 'battery': 1774, 'moby': 1775, 'tuesday': 1776, 'ain': 1777, 'naked': 1778, 'torch': 1779, 'boring': 1780, 'mad': 1781, 'bought': 1782, 'fa': 1783, 'selling': 1784, 'bf': 1785, 'contract': 1786, 'harry': 1787, 'iq': 1788, 'barely': 1789, 'bid': 1790, 'malaria': 1791, 'thursday': 1792, 'jamster': 1793, 'wallpaper': 1794, 'loses': 1795, 'hostel': 1796, 'spk': 1797, 'sn': 1798, 'railway': 1799, 'juicy': 1800, 'booty': 1801, 'pple': 1802, 'takin': 1803, 'mid': 1804, 'amount': 1805, 'force': 1806, 'runs': 1807, 'hella': 1808, 'sed': 1809, 'ps': 1810, 'gang': 1811, 'incident': 1812, 'darling': 1813, 'sugar': 1814, 'fit': 1815, 'terrible': 1816, 'smoking': 1817, 'wylie': 1818, 'smokes': 1819, 'tuition': 1820, 'california': 1821, 'toa': 1822, 'payoh': 1823, 'crab': 1824, 'footprints': 1825, 'dot': 1826, 'befor': 1827, 'weird': 1828, 'ru': 1829, 'tells': 1830, 'normally': 1831, 'networking': 1832, 'themob': 1833, 'oic': 1834, 'banks': 1835, 'fees': 1836, 'radio': 1837, 'upgrade': 1838, 'july': 1839, 'hip': 1840, 'hop': 1841, 'peace': 1842, 'jesus': 1843, 'monthly': 1844, 'swimming': 1845, 'magical': 1846, 'issue': 1847, 'suggest': 1848, 'fifteen': 1849, 'ne': 1850, 'closed': 1851, 'career': 1852, 'followed': 1853, 'ikea': 1854, 'among': 1855, 'aiya': 1856, 'fightng': 1857, 'dificult': 1858, 'voda': 1859, 'quoting': 1860, 'standard': 1861, 'cust': 1862, 'concentrate': 1863, 'fear': 1864, 'elsewhere': 1865, 'often': 1866, 'bein': 1867, 'gap': 1868, 'legs': 1869, 'iscoming': 1870, 'gossip': 1871, 'challenge': 1872, 'garage': 1873, 'university': 1874, 'shy': 1875, 'ths': 1876, 'wu': 1877, 'reasons': 1878, 'violence': 1879, 'arun': 1880, 'art': 1881, 'okey': 1882, 'wisdom': 1883, 'alwys': 1884, 'tf': 1885, 'anybody': 1886, 'questioned': 1887, 'gardener': 1888, 'vegetables': 1889, 'neighbour': 1890, 'gary': 1891, 'ptbo': 1892, 'wales': 1893, 'attend': 1894, 'cud': 1895, 'sam': 1896, 'rofl': 1897, 'names': 1898, 'exciting': 1899, 'prizes': 1900, 'community': 1901, 'hun': 1902, 'dates': 1903, 'likes': 1904, 'mrw': 1905, 'american': 1906, 'callin': 1907, 'score': 1908, 'tirupur': 1909, 'painful': 1910, 'verify': 1911, 'searching': 1912, 'transfered': 1913, 'soup': 1914, 'ws': 1915, 'shd': 1916, 'tcs': 1917, 'cw': 1918, 'greetings': 1919, 'fool': 1920, 'subpoly': 1921, 'adore': 1922, 'knowing': 1923, 'hasn': 1924, 'gently': 1925, 'dislikes': 1926, 'bringing': 1927, 'bud': 1928, 'spending': 1929, 'certainly': 1930, 'missin': 1931, 'guilty': 1932, 'comedy': 1933, 'vomit': 1934, 'mt': 1935, 'nearly': 1936, 'infernal': 1937, 'losing': 1938, 'accordingly': 1939, 'addie': 1940, 'shame': 1941, 'returns': 1942, 'headache': 1943, 'abi': 1944, 'amazing': 1945, 'hint': 1946, 'frying': 1947, 'receiving': 1948, 'display': 1949, 'songs': 1950, 'si': 1951, 'fml': 1952, 'bat': 1953, 'finishing': 1954, 'doors': 1955, 'cornwall': 1956, 'expect': 1957, 'msging': 1958, 'shoot': 1959, 'networks': 1960, 'finishes': 1961, 'billed': 1962, 'netcollex': 1963, 'understood': 1964, 'intelligent': 1965, 'alcohol': 1966, 'looks': 1967, 'fell': 1968, 'jada': 1969, 'kusruthi': 1970, 'spl': 1971, 'matured': 1972, 'marry': 1973, 'measure': 1974, 'blessings': 1975, 'floor': 1976, 'blame': 1977, 'laid': 1978, 'uni': 1979, 'truly': 1980, 'bags': 1981, 'sha': 1982, 'pie': 1983, 'regarding': 1984, 'italian': 1985, 'tcr': 1986, 'perwksub': 1987, 'quickly': 1988, 'settle': 1989, 'tease': 1990, 'cry': 1991, 'halloween': 1992, 'fuckin': 1993, 'polyph': 1994, 'impossible': 1995, 'wt': 1996, 'remembered': 1997, 'insha': 1998, 'allah': 1999, 'texting': 2000, 'senthil': 2001, 'ldnw': 2002, 'h': 2003, 'mtmsgrcvd': 2004, 'locations': 2005, 'costs': 2006, 'received': 2007, 'worse': 2008, 'nan': 2009, 'understanding': 2010, 'chillin': 2011, 'evn': 2012, 'itz': 2013, 'waitin': 2014, 'shld': 2015, 'rich': 2016, 'onwards': 2017, 'texted': 2018, 'saucy': 2019, 'howz': 2020, 'medicine': 2021, 'citizen': 2022, 'morphine': 2023, 'tessy': 2024, 'favor': 2025, 'nimya': 2026, 'shijas': 2027, 'meanwhile': 2028, 'gram': 2029, 'ordered': 2030, 'fb': 2031, 'hill': 2032, 'slap': 2033, 'mas': 2034, 'beware': 2035, 'irritating': 2036, 'connect': 2037, 'cheer': 2038, 'picture': 2039, 'sooner': 2040, 'meal': 2041, 'goodnite': 2042, 'lotr': 2043, 'taken': 2044, 'apps': 2045, 'web': 2046, 'anti': 2047, 'supply': 2048, 'xxxxxxxxx': 2049, 'six': 2050, 'lab': 2051, 'pictures': 2052, 'dearer': 2053, 'dem': 2054, 'exams': 2055, 'chatting': 2056, 'membership': 2057, 'pig': 2058, 'honeybee': 2059, 'sweetest': 2060, 'laughed': 2061, 'havnt': 2062, 'crack': 2063, 'di': 2064, 'sw': 2065, 'ss': 2066, 'coins': 2067, 'ignore': 2068, 'skype': 2069, 'idk': 2070, 'forevr': 2071, 'moji': 2072, 'cruise': 2073, 'morn': 2074, 'transaction': 2075, 'credited': 2076, 'percent': 2077, 'postcode': 2078, 'celebrate': 2079, 'january': 2080, 'male': 2081, 'february': 2082, 'respect': 2083, 'settled': 2084, 'fave': 2085, 'speechless': 2086, 'collected': 2087, 'captain': 2088, 'cleaning': 2089, 'xchat': 2090, 'enemy': 2091, 'channel': 2092, 'xuhui': 2093, 'alert': 2094, 'rooms': 2095, 'activities': 2096, 'likely': 2097, 'doc': 2098, 'madam': 2099, 'regret': 2100, 'football': 2101, 'cross': 2102, 'drinks': 2103, 'refused': 2104, 'possession': 2105, 'textcomp': 2106, 'uncles': 2107, 'lions': 2108, 'mono': 2109, 'sorting': 2110, 'bcums': 2111, 'affection': 2112, 'kettoda': 2113, 'manda': 2114, 'becoz': 2115, 'selection': 2116, 'further': 2117, 'ache': 2118, 'teasing': 2119, 'lousy': 2120, 'mite': 2121, 'yummy': 2122, 'newest': 2123, 'minnaminunginte': 2124, 'nurungu': 2125, 'vettam': 2126, 'abta': 2127, 'responding': 2128, 'anywhere': 2129, 'evry': 2130, 'minmobsmorelkpobox': 2131, 'frndship': 2132, 'pack': 2133, 'ja': 2134, 'txtin': 2135, 'confirmed': 2136, 'oni': 2137, 'chinese': 2138, 'calicut': 2139, 'needed': 2140, 'buzy': 2141, 'passed': 2142, 'remain': 2143, 'alive': 2144, 'horrible': 2145, 'belovd': 2146, 'flash': 2147, 'mmmm': 2148, 'born': 2149, 'seat': 2150, 'moments': 2151, 'ate': 2152, 'stomach': 2153, 'sports': 2154, 'bottle': 2155, 'letter': 2156, 'ba': 2157, 'roommate': 2158, 'cabin': 2159, 'pod': 2160, 'asks': 2161, 'iz': 2162, 'ref': 2163, 'tis': 2164, 'include': 2165, 'shortly': 2166, 'basic': 2167, 'major': 2168, 'discuss': 2169, 'sept': 2170, 'doggy': 2171, 'interesting': 2172, 'appt': 2173, 'file': 2174, 'ubi': 2175, 'breathe': 2176, 'dictionary': 2177, 'cramps': 2178, 'charges': 2179, 'prabha': 2180, 'record': 2181, 'cars': 2182, 'roger': 2183, 'biggest': 2184, 'bcm': 2185, 'qu': 2186, 'claire': 2187, 'various': 2188, 'laughing': 2189, 'market': 2190, 'keys': 2191, 'se': 2192, 'walls': 2193, 'sometime': 2194, 'surfing': 2195, 'ice': 2196, 'roommates': 2197, 'adult': 2198, 'singles': 2199, 'enjoyed': 2200, 'provided': 2201, 'express': 2202, 'ron': 2203, 'taunton': 2204, 'ls': 2205, 'walked': 2206, 'cha': 2207, 'comuk': 2208, 'scary': 2209, 'concert': 2210, 'chechi': 2211, 'kidz': 2212, 'profit': 2213, 'booking': 2214, 'eggs': 2215, 'upto': 2216, 'keeping': 2217, 'reminder': 2218, 'geeee': 2219, 'strike': 2220, 'touched': 2221, 'country': 2222, 'temple': 2223, 'church': 2224, 'eight': 2225, 'nvm': 2226, 'reality': 2227, 'value': 2228, 'birth': 2229, 'rude': 2230, 'responce': 2231, 'happend': 2232, 'tkts': 2233, 'speed': 2234, 'lines': 2235, 'sing': 2236, 'ym': 2237, 'smart': 2238, 'series': 2239, 'wednesday': 2240, 'four': 2241, 'teeth': 2242, 'indians': 2243, 'village': 2244, 'holder': 2245, 'dsn': 2246, 'wah': 2247, 'atlanta': 2248, 'yan': 2249, 'jiu': 2250, 'embarassed': 2251, 'pouts': 2252, 'stomps': 2253, 'bloo': 2254, 'atm': 2255, 'expecting': 2256, 'prey': 2257, 'hols': 2258, 'wrk': 2259, 'blah': 2260, 'donno': 2261, 'fly': 2262, 'prefer': 2263, 'tues': 2264, 'gent': 2265, 'ctxt': 2266, 'drunken': 2267, 'suntec': 2268, 'xin': 2269, 'slippers': 2270, 'hrishi': 2271, 'cuddle': 2272, 'arms': 2273, 'bigger': 2274, 'indicate': 2275, 'accident': 2276, 'tomarrow': 2277, 'blur': 2278, 'polo': 2279, 'shore': 2280, 'everyday': 2281, 'cheat': 2282, 'shut': 2283, 'stops': 2284, 'minuts': 2285, 'latr': 2286, 'lag': 2287, 'oi': 2288, 'bang': 2289, 'theres': 2290, 'huge': 2291, 'sweetheart': 2292, 'telly': 2293, 'ruining': 2294, 'dark': 2295, 'nydc': 2296, 'gudnite': 2297, 'prolly': 2298, 'waves': 2299, 'cleared': 2300, 'windows': 2301, 'eastenders': 2302, 'compare': 2303, 'herself': 2304, 'violet': 2305, 'tulip': 2306, 'lily': 2307, 'wkent': 2308, 'freefone': 2309, 'affair': 2310, 'cappuccino': 2311, 'spare': 2312, 'flaky': 2313, 'parent': 2314, 'faith': 2315, 'three': 2316, 'zoe': 2317, 'morow': 2318, 'careful': 2319, 'acted': 2320, 'premium': 2321, 'pink': 2322, 'slice': 2323, 'turn': 2324, 'visionsms': 2325, 'flowing': 2326, 'silver': 2327, 'weigh': 2328, 'blessed': 2329, 'smith': 2330, 'painting': 2331, 'suprman': 2332, 'matrix': 2333, 'starwars': 2334, 'simpler': 2335, 'setting': 2336, 'definite': 2337, 'trains': 2338, 'cann': 2339, 'schools': 2340, 'inch': 2341, 'easter': 2342, 'deleted': 2343, 'suppose': 2344, 'horo': 2345, 'star': 2346, 'yelling': 2347, 'mess': 2348, 'properly': 2349, 'ranjith': 2350, 'drpd': 2351, 'deeraj': 2352, 'deepak': 2353, 'spoken': 2354, 'answering': 2355, 'luxury': 2356, 'canary': 2357, 'islands': 2358, 'mega': 2359, 'giv': 2360, 'table': 2361, 'tree': 2362, 'sentence': 2363, 'educational': 2364, 'roast': 2365, 'language': 2366, 'tight': 2367, 'fill': 2368, 'gaps': 2369, 'macho': 2370, 'strange': 2371, 'tnc': 2372, 'pen': 2373, 'parking': 2374, 'bone': 2375, 'diff': 2376, 'auto': 2377, 'idew': 2378, 'skillgame': 2379, 'winaweek': 2380, 'ppermesssubscription': 2381, 'bbd': 2382, 'transfr': 2383, 'response': 2384, 'occupy': 2385, 'dokey': 2386, 'chase': 2387, 'dubsack': 2388, 'catching': 2389, 'nowadays': 2390, 'hoped': 2391, 'dealing': 2392, 'scotland': 2393, 'discussed': 2394, 'moved': 2395, 'dresser': 2396, 'nic': 2397, 'mag': 2398, 'lick': 2399, 'mouth': 2400, 'dressed': 2401, 'claims': 2402, 'mobno': 2403, 'adam': 2404, 'txtno': 2405, 'ads': 2406, 'removed': 2407, 'eye': 2408, 'rewarding': 2409, 'esplanade': 2410, 'granite': 2411, 'explosive': 2412, 'members': 2413, 'nasdaq': 2414, 'symbol': 2415, 'cdgt': 2416, 'anythin': 2417, 'seemed': 2418, 'ure': 2419, 'loveme': 2420, 'kindly': 2421, 'jen': 2422, 'rents': 2423, 'james': 2424, 'playing': 2425, 'hex': 2426, 'biola': 2427, 'sian': 2428, 'supervisor': 2429, 'pieces': 2430, 'ben': 2431, 'creep': 2432, 'sarasota': 2433, 'hardcore': 2434, 'goodnoon': 2435, 'salon': 2436, 'bruv': 2437, 'moms': 2438, 'aeronautics': 2439, 'professors': 2440, 'calld': 2441, 'aeroplane': 2442, 'hurried': 2443, 'av': 2444, 'dan': 2445, 'correction': 2446, 'applebees': 2447, 'textoperator': 2448, 'ga': 2449, 'joining': 2450, 'praying': 2451, 'replacement': 2452, 'pole': 2453, 'arm': 2454, 'anthony': 2455, 'shu': 2456, 'holy': 2457, 'kidding': 2458, 'kothi': 2459, 'taylor': 2460, 'management': 2461, 'jeans': 2462, 'monkeys': 2463, 'bmw': 2464, 'urgently': 2465, 'shortage': 2466, 'source': 2467, 'arng': 2468, 'woken': 2469, 'tool': 2470, 'sore': 2471, 'castor': 2472, 'unknown': 2473, 'album': 2474, 'gimme': 2475, 'soul': 2476, 'fire': 2477, 'flame': 2478, 'superior': 2479, 'wating': 2480, 'affairs': 2481, 'wonders': 2482, 'personality': 2483, 'removal': 2484, 'greatest': 2485, 'courage': 2486, 'bear': 2487, 'defeat': 2488, 'canada': 2489, 'lie': 2490, 'rumour': 2491, 'chart': 2492, 'lower': 2493, 'bless': 2494, 'miserable': 2495, 'electricity': 2496, 'vivek': 2497, 'telephone': 2498, 'ball': 2499, 'moving': 2500, 'tlk': 2501, 'tmrw': 2502, 'trips': 2503, 'mila': 2504, 'blonde': 2505, 'mtalk': 2506, 'pp': 2507, 'increments': 2508, 'juan': 2509, 'xxxxxxx': 2510, 'natural': 2511, 'absolutly': 2512, 'location': 2513, 'conditions': 2514, 'uz': 2515, 'filled': 2516, 'allow': 2517, 'suzy': 2518, 'colours': 2519, 'expression': 2520, 'sary': 2521, 'amy': 2522, 'spanish': 2523, 'poop': 2524, 'gpu': 2525, 'pw': 2526, 'causing': 2527, 'swoop': 2528, 'armand': 2529, 'restaurant': 2530, 'dance': 2531, 'hm': 2532, 'gods': 2533, 'ned': 2534, 'hurting': 2535, 'stays': 2536, 'sar': 2537, 'airtel': 2538, 'survey': 2539, 'virgin': 2540, 'hyde': 2541, 'mel': 2542, 'confused': 2543, 'lies': 2544, 'bootydelious': 2545, 'effects': 2546, 'bills': 2547, 'walmart': 2548, 'relatives': 2549, 'generally': 2550, 'demand': 2551, 'fo': 2552, 'exhausted': 2553, 'forgiven': 2554, 'btw': 2555, 'germany': 2556, 'mental': 2557, 'ability': 2558, 'rr': 2559, 'staff': 2560, 'grave': 2561, 'epsilon': 2562, 'option': 2563, 'pages': 2564, 'shock': 2565, 'slp': 2566, 'muah': 2567, 'filling': 2568, 'pre': 2569, 'cancelled': 2570, 'pimples': 2571, 'sweets': 2572, 'range': 2573, 'tom': 2574, 'opinions': 2575, 'licks': 2576, 'tests': 2577, 'ovulation': 2578, 'ibhltd': 2579, 'largest': 2580, 'ec': 2581, 'aunts': 2582, 'helen': 2583, 'ibh': 2584, 'package': 2585, 'thot': 2586, 'repair': 2587, 'maturity': 2588, 'mistakes': 2589, 'bristol': 2590, 'drunk': 2591, 'sends': 2592, 'forums': 2593, 'nichols': 2594, 'desires': 2595, 'ship': 2596, 'ful': 2597, 'minor': 2598, 'driver': 2599, 'mei': 2600, 'flirting': 2601, 'nervous': 2602, 'george': 2603, 'celeb': 2604, 'pocketbabe': 2605, 'prospects': 2606, 'inform': 2607, 'application': 2608, 'successfully': 2609, 'innocent': 2610, 'freezing': 2611, 'talks': 2612, 'appreciated': 2613, 'panic': 2614, 'academic': 2615, 'department': 2616, 'transfer': 2617, 'superb': 2618, 'wkend': 2619, 'sticky': 2620, 'treated': 2621, 'flip': 2622, 'hanging': 2623, 'docs': 2624, 'map': 2625, 'apart': 2626, 'careers': 2627, 'films': 2628, 'begging': 2629, 'proof': 2630, 'ee': 2631, 'wkg': 2632, 'natalja': 2633, 'misbehaved': 2634, 'logos': 2635, 'kent': 2636, 'vale': 2637, 'tok': 2638, 'sinco': 2639, 'payee': 2640, 'icicibank': 2641, 'frauds': 2642, 'disclose': 2643, 'size': 2644, 'adoring': 2645, 'waheed': 2646, 'fathima': 2647, 'previous': 2648, 'sry': 2649, 'poem': 2650, 'wave': 2651, 'asp': 2652, 'crisis': 2653, 'xam': 2654, 'june': 2655, 'jogging': 2656, 'jhl': 2657, 'housewives': 2658, 'landlines': 2659, 'le': 2660, 'packs': 2661, 'itcould': 2662, 'howard': 2663, 'dick': 2664, 'clever': 2665, 'billion': 2666, 'classes': 2667, 'beneath': 2668, 'pale': 2669, 'advise': 2670, 'recent': 2671, 'tonights': 2672, 'xxxmobilemovieclub': 2673, 'rg': 2674, 'joanna': 2675, 'bowl': 2676, 'machan': 2677, 'nap': 2678, 'bruce': 2679, 'surprised': 2680, 'sleepin': 2681, 'smsco': 2682, 'approx': 2683, 'farm': 2684, 'slots': 2685, 'behave': 2686, 'bro': 2687, 'loud': 2688, 'mall': 2689, 'iouri': 2690, 'british': 2691, 'hotels': 2692, 'mmmmm': 2693, 'smashed': 2694, 'building': 2695, 'coat': 2696, 'vday': 2697, 'becomes': 2698, 'habit': 2699, 'follow': 2700, 'marrow': 2701, 'stranger': 2702, 'forum': 2703, 'pop': 2704, 'ke': 2705, 'wet': 2706, 'specific': 2707, 'eaten': 2708, 'staring': 2709, 'base': 2710, 'callfreefone': 2711, 'drinkin': 2712, 'textbuddy': 2713, 'gaytextbuddy': 2714, 'commercial': 2715, 'august': 2716, 'helloooo': 2717, 'welcomes': 2718, 'avent': 2719, 'inconsiderate': 2720, 'nag': 2721, 'recession': 2722, 'hence': 2723, 'neck': 2724, 'heading': 2725, 'executive': 2726, 'forgets': 2727, 'lil': 2728, 'brief': 2729, 'history': 2730, 'clear': 2731, 'peak': 2732, 'lido': 2733, 'whose': 2734, 'convinced': 2735, 'dial': 2736, 'annoying': 2737, 'postcard': 2738, 'necessary': 2739, 'wishin': 2740, 'position': 2741, 'easily': 2742, 'mix': 2743, 'usher': 2744, 'britney': 2745, 'consider': 2746, 'aah': 2747, 'lush': 2748, 'uks': 2749, 'msgrcvdhg': 2750, 'drivin': 2751, 'cm': 2752, 'delay': 2753, 'donate': 2754, 'mailbox': 2755, 'messaging': 2756, 'retrieve': 2757, 'pool': 2758, 'morrow': 2759, 'natalie': 2760, 'invaders': 2761, 'orig': 2762, 'console': 2763, 'purchase': 2764, 'ericsson': 2765, 'ticket': 2766, 'apologise': 2767, 'cali': 2768, 'bloke': 2769, 'conform': 2770, 'curious': 2771, 'worlds': 2772, 'thgt': 2773, 'plaza': 2774, 'bedrm': 2775, 'evr': 2776, 'cochin': 2777, 'hubby': 2778, 'stores': 2779, 'rgds': 2780, 'pickle': 2781, 'twelve': 2782, 'custom': 2783, 'sufficient': 2784, 'fastest': 2785, 'growing': 2786, 'purpose': 2787, 'homeowners': 2788, 'tenants': 2789, 'previously': 2790, 'fab': 2791, 'property': 2792, 'wasted': 2793, 'shesil': 2794, 'lionm': 2795, 'lionp': 2796, 'buses': 2797, 'thesis': 2798, 'propsd': 2799, 'gv': 2800, 'lv': 2801, 'lttrs': 2802, 'threw': 2803, 'thm': 2804, 'aproach': 2805, 'dt': 2806, 'truck': 2807, 'speeding': 2808, 'wn': 2809, 'cn': 2810, 'instantly': 2811, 'shouted': 2812, 'thy': 2813, 'lived': 2814, 'happily': 2815, 'gthr': 2816, 'drinking': 2817, 'evrydy': 2818, 'lf': 2819, 'avoiding': 2820, 'pours': 2821, 'assume': 2822, 'expired': 2823, 'goldviking': 2824, 'birthdate': 2825, 'valuable': 2826, 'loss': 2827, 'gain': 2828, 'lovers': 2829, 'knock': 2830, 'switch': 2831, 'escape': 2832, 'innings': 2833, 'funky': 2834, 'mobilesdirect': 2835, 'trade': 2836, 'coping': 2837, 'distance': 2838, 'flight': 2839, 'blake': 2840, 'breath': 2841, 'field': 2842, 'invite': 2843, 'gravity': 2844, 'carefully': 2845, 'flaked': 2846, 'desparate': 2847, 'action': 2848, 'movietrivia': 2849, 'bluff': 2850, 'nok': 2851, 'karaoke': 2852, 'fake': 2853, 'yetunde': 2854, 'neither': 2855, 'thx': 2856, 'mca': 2857, 'carry': 2858, 'noun': 2859, 'ms': 2860, 'craziest': 2861, 'acl': 2862, 'phoned': 2863, 'tape': 2864, 'en': 2865, 'bleh': 2866, 'common': 2867, 'reasonable': 2868, 'spider': 2869, 'chasing': 2870, 'sells': 2871, 'lifetime': 2872, 'favorite': 2873, 'amused': 2874, 'yunny': 2875, 'mmmmmm': 2876, 'yay': 2877, 'calculation': 2878, 'practicing': 2879, 'beauty': 2880, 'thousands': 2881, 'textpod': 2882, 'morro': 2883, 'term': 2884, 'disconnect': 2885, 'terrorist': 2886, 'confirmd': 2887, 'verified': 2888, 'cnn': 2889, 'ibn': 2890, 'whatsup': 2891, 'improved': 2892, 'gentleman': 2893, 'dignity': 2894, 'dearly': 2895, 'ese': 2896, 'delete': 2897, 'including': 2898, 'relation': 2899, 'loose': 2900, 'aint': 2901, 'genius': 2902, 'havin': 2903, 'xxxxx': 2904, 'drug': 2905, 'waxsto': 2906, 'cousin': 2907, 'anniversary': 2908, 'ow': 2909, 'usc': 2910, 'block': 2911, 'format': 2912, 'freedom': 2913, 'foot': 2914, 'wud': 2915, 'skyped': 2916, 'kz': 2917, 'given': 2918, 'ultimatum': 2919, 'countin': 2920, 'aburo': 2921, 'testing': 2922, 'develop': 2923, 'jsco': 2924, 'tech': 2925, 'lk': 2926, 'interest': 2927, 'wanting': 2928, 'aunt': 2929, 'bc': 2930, 'collecting': 2931, 'maintain': 2932, 'sh': 2933, 'title': 2934, 'titles': 2935, 'wipro': 2936, 'vava': 2937, 'held': 2938, 'despite': 2939, 'dry': 2940, 'stayed': 2941, 'pan': 2942, 'perhaps': 2943, 'csbcm': 2944, 'callcost': 2945, 'mobilesvary': 2946, 'rang': 2947, 'sorted': 2948, 'brothas': 2949, 'ic': 2950, 'lotta': 2951, 'cared': 2952, 'necessarily': 2953, 'interflora': 2954, 'youre': 2955, 'edison': 2956, 'rightly': 2957, 'wise': 2958, 'viva': 2959, 'msgrcvd': 2960, 'skip': 2961, 'borin': 2962, 'minmoremobsemspobox': 2963, 'feelin': 2964, 'nuther': 2965, 'yck': 2966, 'threats': 2967, 'sales': 2968, 'shitload': 2969, 'prepare': 2970, 'welp': 2971, 'shining': 2972, 'requests': 2973, 'nahi': 2974, 'zindgi': 2975, 'wo': 2976, 'jo': 2977, 'dime': 2978, 'peaceful': 2979, 'unnecessarily': 2980, 'aww': 2981, 'posts': 2982, 'deliveredtomorrow': 2983, 'med': 2984, 'finance': 2985, 'sem': 2986, 'pee': 2987, 'charles': 2988, 'uh': 2989, 'wiskey': 2990, 'brandy': 2991, 'rum': 2992, 'gin': 2993, 'vodka': 2994, 'scotch': 2995, 'shampain': 2996, 'kudi': 2997, 'yarasu': 2998, 'dhina': 2999, 'vaazhthukkal': 3000, 'maneesha': 3001, 'satisfied': 3002, 'toll': 3003, 'cme': 3004, 'premier': 3005, 'stretch': 3006, 'software': 3007, 'pending': 3008, 'reminding': 3009, 'local': 3010, 'hppnss': 3011, 'sorrow': 3012, 'goodfriend': 3013, 'jerry': 3014, 'irritates': 3015, 'fails': 3016, 'queen': 3017, 'avatar': 3018, 'babies': 3019, 'tog': 3020, 'ding': 3021, 'arts': 3022, 'penis': 3023, 'eta': 3024, 'qp': 3025, 'window': 3026, 'officially': 3027, 'eurodisinc': 3028, 'trav': 3029, 'aco': 3030, 'morefrmmob': 3031, 'shracomorsglsuplt': 3032, 'aj': 3033, 'hlp': 3034, 'hor': 3035, 'ideas': 3036, 'inclusive': 3037, 'wind': 3038, 'wee': 3039, 'bottom': 3040, 'cookies': 3041, 'philosophy': 3042, 'forgotten': 3043, 'nalla': 3044, 'speaking': 3045, 'lo': 3046, 'burger': 3047, 'lounge': 3048, 'makin': 3049, 'alfie': 3050, 'nokias': 3051, 'nos': 3052, 'unfortunately': 3053, 'jane': 3054, 'drove': 3055, 'prem': 3056, 'owns': 3057, 'dx': 3058, 'sooooo': 3059, 'messaged': 3060, 'engin': 3061, 'thoughts': 3062, 'named': 3063, 'singing': 3064, 'curry': 3065, 'realize': 3066, 'hsbc': 3067, 'middle': 3068, 'season': 3069, 'audrey': 3070, 'status': 3071, 'fret': 3072, 'japanese': 3073, 'proverb': 3074, 'algarve': 3075, 'ansr': 3076, 'tyrone': 3077, 'shocking': 3078, 'def': 3079, 'adventure': 3080, 'galileo': 3081, 'favourite': 3082, 'couldn': 3083, 'audition': 3084, 'plm': 3085, 'gender': 3086, 'borrow': 3087, 'txttowin': 3088, 'bhaji': 3089, 'cricketer': 3090, 'sachin': 3091, 'eek': 3092, 'genuine': 3093, 'px': 3094, 'confuses': 3095, 'fish': 3096, 'ashley': 3097, 'steve': 3098, 'furniture': 3099, 'sender': 3100, 'improve': 3101, 'jiayin': 3102, 'sue': 3103, 'remains': 3104, 'parked': 3105, 'sux': 3106, 'shirts': 3107, 'underwear': 3108, 'poker': 3109, 'boat': 3110, 'hearts': 3111, 'mids': 3112, 'christ': 3113, 'women': 3114, 'manage': 3115, 'silently': 3116, 'kisses': 3117, 'vijay': 3118, 'convincing': 3119, 'brah': 3120, 'xavier': 3121, 'knackered': 3122, 'mcat': 3123, 'speedchat': 3124, 'ag': 3125, 'promo': 3126, 'buff': 3127, 'allowed': 3128, 'kadeem': 3129, 'kid': 3130, 'grow': 3131, 'vewy': 3132, 'managed': 3133, 'enuff': 3134, 'receipts': 3135, 'excuses': 3136, 'bec': 3137, 'seem': 3138, 'jolly': 3139, 'cock': 3140, 'ela': 3141, 'hardly': 3142, 'everywhere': 3143, 'lucy': 3144, 'control': 3145, 'massive': 3146, 'hon': 3147, 'tap': 3148, 'spile': 3149, 'seven': 3150, 'broad': 3151, 'canal': 3152, 'differ': 3153, 'steam': 3154, 'toshiba': 3155, 'dippeditinadew': 3156, 'lovingly': 3157, 'itwhichturnedinto': 3158, 'gifted': 3159, 'tomeandsaid': 3160, 'woot': 3161, 'os': 3162, 'files': 3163, 'purse': 3164, 'lays': 3165, 'sheets': 3166, 'husband': 3167, 'yeh': 3168, 'clos': 3169, 'lvblefrnd': 3170, 'jstfrnd': 3171, 'cutefrnd': 3172, 'lifpartnr': 3173, 'swtheart': 3174, 'bstfrnd': 3175, 'lock': 3176, 'potential': 3177, 'yuo': 3178, 'tihs': 3179, 'realized': 3180, 'hospitals': 3181, 'woulda': 3182, 'lately': 3183, 'rhythm': 3184, 'swiss': 3185, 'crore': 3186, 'delhi': 3187, 'lane': 3188, 'roads': 3189, 'politicians': 3190, 'rights': 3191, 'dining': 3192, 'coin': 3193, 'gist': 3194, 'answers': 3195, 'stuck': 3196, 'individual': 3197, 'shoes': 3198, 'bread': 3199, 'prince': 3200, 'usb': 3201, 'tooth': 3202, 'screen': 3203, 'shelf': 3204, 'avoid': 3205, 'boye': 3206, 'wedding': 3207, 'elaine': 3208, 'chest': 3209, 'infections': 3210, 'cares': 3211, 'dr': 3212, 'potter': 3213, 'phoenix': 3214, 'readers': 3215, 'whos': 3216, 'clothes': 3217, 'ias': 3218, 'event': 3219, 'storming': 3220, 'phne': 3221, 'margaret': 3222, 'girlfrnd': 3223, 'grahmbell': 3224, 'invnted': 3225, 'telphone': 3226, 'teaching': 3227, 'responsibility': 3228, 'rule': 3229, 'sarcasm': 3230, 'falling': 3231, 'smeone': 3232, 'eva': 3233, 'chain': 3234, 'papers': 3235, 'administrator': 3236, 'randomly': 3237, 'drms': 3238, 'vote': 3239, 'continue': 3240, 'bathing': 3241, 'mis': 3242, 'sleepy': 3243, 'mac': 3244, 'unbelievable': 3245, 'prof': 3246, 'indeed': 3247, 'northampton': 3248, 'preferably': 3249, 'books': 3250, 'odi': 3251, 'standing': 3252, 'admin': 3253, 'success': 3254, 'slo': 3255, 'duchess': 3256, 'beloved': 3257, 'blu': 3258, 'doubt': 3259, 'handle': 3260, 'death': 3261, 'buffet': 3262, 'cream': 3263, 'shipped': 3264, 'totally': 3265, 'stick': 3266, 'tacos': 3267, 'hahaha': 3268, 'brain': 3269, 'stars': 3270, 'jacket': 3271, 'ad': 3272, 'winning': 3273, 'tooo': 3274, 'heads': 3275, 'river': 3276, 'tahan': 3277, 'anot': 3278, 'lyfu': 3279, 'lyf': 3280, 'ali': 3281, 'meow': 3282, 'vth': 3283, 'paris': 3284, 'straight': 3285, 'cashbin': 3286, 'purity': 3287, 'devouring': 3288, 'vegas': 3289, 'mnths': 3290, 'callback': 3291, 'aom': 3292, 'genes': 3293, 'invention': 3294, 'aluable': 3295, 'ffectionate': 3296, 'oveable': 3297, 'ternal': 3298, 'oble': 3299, 'ruthful': 3300, 'ntimate': 3301, 'atural': 3302, 'namous': 3303, 'opposed': 3304, 'erutupalam': 3305, 'thandiyachu': 3306, 'hui': 3307, 'lib': 3308, 'kicks': 3309, 'returning': 3310, 'stuffs': 3311, 'compensation': 3312, 'court': 3313, 'inspection': 3314, 'nursery': 3315, 'ignorant': 3316, 'perumbavoor': 3317, 'contents': 3318, 'adding': 3319, 'zeros': 3320, 'savings': 3321, 'raise': 3322, 'iraq': 3323, 'afghanistan': 3324, 'stable': 3325, 'honest': 3326, 'traveling': 3327, 'fatty': 3328, 'gotten': 3329, 'begun': 3330, 'registration': 3331, 'permanent': 3332, 'residency': 3333, 'photoshop': 3334, 'flood': 3335, 'ups': 3336, 'shipping': 3337, 'usps': 3338, 'bribe': 3339, 'nipost': 3340, 'ami': 3341, 'parchi': 3342, 'kicchu': 3343, 'kaaj': 3344, 'korte': 3345, 'iccha': 3346, 'korche': 3347, 'tul': 3348, 'fran': 3349, 'anal': 3350, 'chick': 3351, 'boobs': 3352, 'plum': 3353, 'smacks': 3354, 'engalnd': 3355, 'mia': 3356, 'elliot': 3357, 'kissing': 3358, 'iron': 3359, 'jeremiah': 3360, 'justify': 3361, 'wheellock': 3362, 'harri': 3363, 'manageable': 3364, 'stability': 3365, 'tranquility': 3366, 'vibrant': 3367, 'colourful': 3368, 'arithmetic': 3369, 'percentages': 3370, 'formatting': 3371, 'clearing': 3372, 'fox': 3373, 'frndsship': 3374, 'dwn': 3375, 'infact': 3376, 'logoff': 3377, 'decades': 3378, 'petrol': 3379, 'goverment': 3380, 'expects': 3381, 'canteen': 3382, 'snowboarding': 3383, 'sip': 3384, 'easiest': 3385, 'barcelona': 3386, 'snot': 3387, 'unintentional': 3388, 'nonetheless': 3389, 'shitin': 3390, 'defo': 3391, 'hardest': 3392, 'millions': 3393, 'lekdog': 3394, 'prompts': 3395, 'bitching': 3396, 'useful': 3397, 'aptitude': 3398, 'panther': 3399, 'sugababes': 3400, 'zebra': 3401, 'animation': 3402, 'badass': 3403, 'hoody': 3404, 'toledo': 3405, 'forced': 3406, 'abroad': 3407, 'xxsp': 3408, 'stopcost': 3409, 'convenience': 3410, 'nevering': 3411, 'africa': 3412, 'avin': 3413, 'upgrdcentre': 3414, 'kg': 3415, 'gayle': 3416, 'wall': 3417, 'explicitly': 3418, 'nora': 3419, 'keen': 3420, 'gokila': 3421, 'mobsi': 3422, 'ajith': 3423, 'greece': 3424, 'clas': 3425, 'unintentionally': 3426, 'along': 3427, 'warning': 3428, 'positions': 3429, 'kama': 3430, 'sutra': 3431, 'onwords': 3432, 'mtnl': 3433, 'mumbai': 3434, 'wknd': 3435, 'dramatic': 3436, 'archive': 3437, 'haiz': 3438, 'flyng': 3439, 'aries': 3440, 'spelled': 3441, 'caps': 3442, 'bullshit': 3443, 'brin': 3444, 'sheet': 3445, 'supose': 3446, 'babysit': 3447, 'everyones': 3448, 'babysitting': 3449, 'chatlines': 3450, 'inclu': 3451, 'servs': 3452, 'bailiff': 3453, 'occupied': 3454, 'arty': 3455, 'collages': 3456, 'tryin': 3457, 'submitting': 3458, 'fainting': 3459, 'housework': 3460, 'cuppa': 3461, 'everyso': 3462, 'panicks': 3463, 'brison': 3464, 'deserve': 3465, 'btwn': 3466, 'arestaurant': 3467, 'squid': 3468, 'dosomething': 3469, 'drama': 3470, 'struggling': 3471, 'ego': 3472, 'necessity': 3473, 'reppurcussions': 3474, 'beyond': 3475, 'biro': 3476, 'zoom': 3477, 'wherre': 3478, 'initiate': 3479, 'juswoke': 3480, 'boatin': 3481, 'docks': 3482, 'spinout': 3483, 'immed': 3484, 'splashmobile': 3485, 'subscrition': 3486, 'costing': 3487, 'collapsed': 3488, 'peoples': 3489, 'antha': 3490, 'corrct': 3491, 'dane': 3492, 'apple': 3493, 'tulsi': 3494, 'leaf': 3495, 'lemon': 3496, 'problms': 3497, 'litres': 3498, 'watr': 3499, 'diseases': 3500, 'snd': 3501, 'squatting': 3502, 'uworld': 3503, 'qbank': 3504, 'assessment': 3505, 'tonexs': 3506, 'renewed': 3507, 'clubzed': 3508, 'billing': 3509, 'dvg': 3510, 'vinobanagar': 3511, 'condition': 3512, 'powerful': 3513, 'weapon': 3514, 'dice': 3515, 'swashbuckling': 3516, 'crossing': 3517, 'waited': 3518, 'literally': 3519, 'recharge': 3520, 'rub': 3521, 'stalk': 3522, 'profiles': 3523, 'mention': 3524, 'served': 3525, 'chip': 3526, 'beach': 3527, 'expected': 3528, 'polyh': 3529, 'showrooms': 3530, 'shaping': 3531, 'regretted': 3532, 'annie': 3533, 'soz': 3534, 'imat': 3535, 'mums': 3536, 'split': 3537, 'macedonia': 3538, 'goals': 3539, 'poboxox': 3540, 'league': 3541, 'accordin': 3542, 'dileep': 3543, 'muchand': 3544, 'contacts': 3545, 'venugopal': 3546, 'mentioned': 3547, 'funk': 3548, 'checkin': 3549, 'avo': 3550, 'hhahhaahahah': 3551, 'nig': 3552, 'leonardo': 3553, 'cheque': 3554, 'rajini': 3555, 'sickness': 3556, 'doke': 3557, 'laying': 3558, 'fortune': 3559, 'dept': 3560, 'goods': 3561, 'jot': 3562, 'foley': 3563, 'folks': 3564, 'reache': 3565, 'rebooting': 3566, 'walkabout': 3567, 'dorothy': 3568, 'kiefer': 3569, 'breeze': 3570, 'bright': 3571, 'fresh': 3572, 'twittering': 3573, 'restrict': 3574, 'payed': 3575, 'suganya': 3576, 'misundrstud': 3577, 'enjoyin': 3578, 'yourjob': 3579, 'llspeak': 3580, 'soonlots': 3581, 'xxxx': 3582, 'mobstorequiz': 3583, 'ninish': 3584, 'icky': 3585, 'freek': 3586, 'sac': 3587, 'hundred': 3588, 'batsman': 3589, 'jon': 3590, 'bin': 3591, 'spain': 3592, 'dinero': 3593, 'pes': 3594, 'stage': 3595, 'combine': 3596, 'parts': 3597, 'bits': 3598, 'yellow': 3599, 'expert': 3600, 'landmark': 3601, 'bob': 3602, 'barry': 3603, 'recognises': 3604, 'svc': 3605, 'ft': 3606, 'combination': 3607, 'sometme': 3608, 'tortilla': 3609, 'yummmm': 3610, 'stu': 3611, 'truble': 3612, 'evone': 3613, 'hates': 3614, 'bck': 3615, 'minus': 3616, 'paragraphs': 3617, 'dave': 3618, 'andrews': 3619, 'shant': 3620, 'jia': 3621, 'errors': 3622, 'difficulties': 3623, 'lunchtime': 3624, 'organise': 3625, 'banneduk': 3626, 'compliments': 3627, 'formally': 3628, 'earliest': 3629, 'murali': 3630, 'toppoly': 3631, 'tune': 3632, 'breather': 3633, 'granted': 3634, 'fulfil': 3635, 'blessing': 3636, 'meatballs': 3637, 'shot': 3638, 'oooh': 3639, 'singapore': 3640, 'weren': 3641, 'print': 3642, 'marandratha': 3643, 'pull': 3644, 'ceri': 3645, 'rebel': 3646, 'dreamz': 3647, 'buddy': 3648, 'blokes': 3649, 'select': 3650, 'astrology': 3651, 'flying': 3652, 'divorce': 3653, 'jog': 3654, 'ahhhh': 3655, 'dose': 3656, 'tablet': 3657, 'exp': 3658, 'apr': 3659, 'grinule': 3660, 'gurl': 3661, 'appropriate': 3662, 'stereo': 3663, 'mi': 3664, 'hme': 3665, 'spark': 3666, 'rawring': 3667, 'xoxo': 3668, 'banned': 3669, 'repeat': 3670, 'dudette': 3671, 'cld': 3672, 'didntgive': 3673, 'bellearlier': 3674, 'math': 3675, 'pants': 3676, 'poking': 3677, 'costumes': 3678, 'yowifes': 3679, 'function': 3680, 'crammed': 3681, 'heroes': 3682, 'tips': 3683, 'rebtel': 3684, 'firefox': 3685, 'cruisin': 3686, 'jenny': 3687, 'thfeb': 3688, 'cheesy': 3689, 'frosty': 3690, 'snowman': 3691, 'prayers': 3692, 'rajitha': 3693, 'raj': 3694, 'ranju': 3695, 'fones': 3696, 'wild': 3697, 'mylife': 3698, 'cedar': 3699, 'vomitin': 3700, 'oreo': 3701, 'truffles': 3702, 'drunkard': 3703, 'mandy': 3704, 'sullivan': 3705, 'hotmix': 3706, 'fm': 3707, 'chosen': 3708, 'transferred': 3709, 'spin': 3710, 'moves': 3711, 'restrictions': 3712, 'buddys': 3713, 'shite': 3714, 'kip': 3715, 'presents': 3716, 'nicky': 3717, 'drivby': 3718, 'edrunk': 3719, 'iff': 3720, 'pthis': 3721, 'senrd': 3722, 'dnot': 3723, 'dancce': 3724, 'drum': 3725, 'basq': 3726, 'ihave': 3727, 'nhite': 3728, 'ros': 3729, 'humans': 3730, 'noncomittal': 3731, 'suffers': 3732, 'silence': 3733, 'swollen': 3734, 'glands': 3735, 'breakfast': 3736, 'hamper': 3737, 'slurp': 3738, 'fixes': 3739, 'spelling': 3740, 'gmw': 3741, 'connected': 3742, 'puzzeles': 3743, 'answered': 3744, 'mw': 3745, 'tuth': 3746, 'spiffing': 3747, 'workage': 3748, 'companies': 3749, 'responsible': 3750, 'suppliers': 3751, 'shag': 3752, 'sextextuk': 3753, 'xxuk': 3754, 'ebay': 3755, 'alertfrom': 3756, 'jeri': 3757, 'stewartsize': 3758, 'kbsubject': 3759, 'low': 3760, 'prescripiton': 3761, 'drvgsto': 3762, 'kit': 3763, 'strip': 3764, 'ig': 3765, 'oja': 3766, 'darker': 3767, 'styling': 3768, 'teenager': 3769, 'depression': 3770, 'goodmate': 3771, 'asusual': 3772, 'cheered': 3773, 'franyxxxxx': 3774, 'surname': 3775, 'clue': 3776, 'begins': 3777, 'safely': 3778, 'host': 3779, 'based': 3780, 'idps': 3781, 'linux': 3782, 'systems': 3783, 'rimac': 3784, 'nr': 3785, 'zs': 3786, 'cps': 3787, 'outages': 3788, 'conserve': 3789, 'upstairs': 3790, 'hectic': 3791, 'chachi': 3792, 'pl': 3793, 'tiz': 3794, 'kanagu': 3795, 'hang': 3796, 'limit': 3797, 'grace': 3798, 'boundaries': 3799, 'endless': 3800, 'shaking': 3801, 'stone': 3802, 'sparkling': 3803, 'breaks': 3804, 'shortbreaks': 3805, 'org': 3806, 'specify': 3807, 'domain': 3808, 'nusstu': 3809, 'convince': 3810, 'witot': 3811, 'main': 3812, 'ors': 3813, 'stool': 3814, 'punish': 3815, 'sabarish': 3816, 'youdoing': 3817, 'stripes': 3818, 'skirt': 3819, 'werethe': 3820, 'monkeespeople': 3821, 'monkeyaround': 3822, 'howdy': 3823, 'earn': 3824, 'catches': 3825, 'defer': 3826, 'admission': 3827, 'enufcredeit': 3828, 'tocall': 3829, 'ileave': 3830, 'yor': 3831, 'sumfing': 3832, 'paragon': 3833, 'lambu': 3834, 'ji': 3835, 'batchlor': 3836, 'opps': 3837, 'chgs': 3838, 'showers': 3839, 'possessiveness': 3840, 'poured': 3841, 'golden': 3842, 'brighten': 3843, 'coincidence': 3844, 'visa': 3845, 'gucci': 3846, 'perf': 3847, 'mouse': 3848, 'desk': 3849, 'priscilla': 3850, 'serving': 3851, 'hourish': 3852, 'acknowledgement': 3853, 'astoundingly': 3854, 'tactless': 3855, 'faggy': 3856, 'oath': 3857, 'tank': 3858, 'wesleys': 3859, 'commit': 3860, 'pence': 3861, 'prepayment': 3862, 'grumpy': 3863, 'lying': 3864, 'hopeing': 3865, 'sisters': 3866, 'promotion': 3867, 'pisces': 3868, 'aquarius': 3869, 'cosign': 3870, 'xxxxxx': 3871, 'prizeawaiting': 3872, 'daaaaa': 3873, 'forgiveness': 3874, 'darlings': 3875, 'kills': 3876, 'reaction': 3877, 'sdryb': 3878, 'enc': 3879, 'appy': 3880, 'fizz': 3881, 'contains': 3882, 'srsly': 3883, 'yi': 3884, 'sacked': 3885, 'pooja': 3886, 'sweatter': 3887, 'crowd': 3888, 'cardiff': 3889, 'forfeit': 3890, 'environment': 3891, 'terrific': 3892, 'drugdealer': 3893, 'changes': 3894, 'appendix': 3895, 'chill': 3896, 'mk': 3897, 'sheffield': 3898, 'categories': 3899, 'ethnicity': 3900, 'census': 3901, 'transcribing': 3902, 'perform': 3903, 'form': 3904, 'clark': 3905, 'utter': 3906, 'lobby': 3907, 'onam': 3908, 'sirji': 3909, 'tata': 3910, 'aig': 3911, 'tissco': 3912, 'tayseer': 3913, 'owl': 3914, 'smoked': 3915, 'repairs': 3916, 'followin': 3917, 'waaaat': 3918, 'lololo': 3919, 'apnt': 3920, 'ou': 3921, 'urination': 3922, 'textand': 3923, 'gravel': 3924, 'floppy': 3925, 'snappy': 3926, 'upload': 3927, 'quiet': 3928, 'beth': 3929, 'charlie': 3930, 'pierre': 3931, 'cardin': 3932, 'tim': 3933, 'bollox': 3934, 'tol': 3935, 'gek': 3936, 'teresa': 3937, 'dec': 3938, 'ld': 3939, 'bam': 3940, 'aid': 3941, 'usmle': 3942, 'avalarr': 3943, 'hollalater': 3944, 'marsms': 3945, 'utele': 3946, 'creepy': 3947, 'responsibilities': 3948, 'yalrigu': 3949, 'heltini': 3950, 'iyo': 3951, 'shared': 3952, 'uttered': 3953, 'trusting': 3954, 'cer': 3955, 'les': 3956, 'rudi': 3957, 'snoring': 3958, 'ink': 3959, 'blimey': 3960, 'exercise': 3961, 'specialisation': 3962, 'labor': 3963, 'shakara': 3964, 'beggar': 3965, 'inpersonation': 3966, 'flea': 3967, 'hmph': 3968, 'baller': 3969, 'equally': 3970, 'uneventful': 3971, 'pesky': 3972, 'cyclists': 3973, 'matric': 3974, 'minimum': 3975, 'occasion': 3976, 'celebrated': 3977, 'reflection': 3978, 'values': 3979, 'affections': 3980, 'traditions': 3981, 'ideal': 3982, 'rdy': 3983, 'lyrics': 3984, 'ndship': 3985, 'needle': 3986, 'seconds': 3987, 'conected': 3988, 'shindig': 3989, 'jide': 3990, 'visiting': 3991, 'companion': 3992, 'chef': 3993, 'listener': 3994, 'organizer': 3995, 'boyfriend': 3996, 'sympathetic': 3997, 'athletic': 3998, 'courageous': 3999, 'determined': 4000, 'dependable': 4001, 'psychologist': 4002, 'pest': 4003, 'exterminator': 4004, 'psychiatrist': 4005, 'healer': 4006, 'stylist': 4007, 'aaniye': 4008, 'pudunga': 4009, 'venaam': 4010, 'referin': 4011, 'paperwork': 4012, 'fired': 4013, 'bluray': 4014, 'spice': 4015, 'justbeen': 4016, 'overa': 4017, 'broke': 4018, 'brains': 4019, 'mush': 4020, 'handsome': 4021, 'finding': 4022, 'broadband': 4023, 'processed': 4024, 'installation': 4025, 'several': 4026, 'tension': 4027, 'terror': 4028, 'cruel': 4029, 'decent': 4030, 'joker': 4031, 'windy': 4032, 'taka': 4033, 'langport': 4034, 'sri': 4035, 'lanka': 4036, 'contribute': 4037, 'greatly': 4038, 'alot': 4039, 'surrender': 4040, 'shola': 4041, 'secretary': 4042, 'sagamu': 4043, 'lautech': 4044, 'vital': 4045, 'completes': 4046, 'education': 4047, 'zealand': 4048, 'jontin': 4049, 'nimbomsons': 4050, 'lim': 4051, 'grateful': 4052, 'happier': 4053, 'marking': 4054, 'erm': 4055, 'woodland': 4056, 'avenue': 4057, 'parish': 4058, 'magazine': 4059, 'flavour': 4060, 'twins': 4061, 'washob': 4062, 'nobbing': 4063, 'nickey': 4064, 'platt': 4065, 'unlike': 4066, 'patients': 4067, 'turkeys': 4068, 'semi': 4069, 'intrepid': 4070, 'duo': 4071, 'piece': 4072, 'lux': 4073, 'eighth': 4074, 'smarter': 4075, 'signin': 4076, 'ignoring': 4077, 'rupaul': 4078, 'worc': 4079, 'foregate': 4080, 'shrub': 4081, 'opener': 4082, 'kappa': 4083, 'poortiyagi': 4084, 'odalebeku': 4085, 'hanumanji': 4086, 'hanuman': 4087, 'bajarangabali': 4088, 'maruti': 4089, 'pavanaputra': 4090, 'sankatmochan': 4091, 'ramaduth': 4092, 'mahaveer': 4093, 'janarige': 4094, 'ivatte': 4095, 'kalisidare': 4096, 'olage': 4097, 'ondu': 4098, 'keluviri': 4099, 'maretare': 4100, 'inde': 4101, 'dodda': 4102, 'problum': 4103, 'nalli': 4104, 'siguviri': 4105, 'idu': 4106, 'matra': 4107, 'neglet': 4108, 'ay': 4109, 'squeeeeeze': 4110, 'frndshp': 4111, 'luvd': 4112, 'spacebucks': 4113, 'priest': 4114, 'mgs': 4115, 'stoners': 4116, 'bognor': 4117, 'splendid': 4118, 'yah': 4119, 'videosound': 4120, 'gold': 4121, 'videosounds': 4122, 'musicnews': 4123, 'ooh': 4124, 'dancing': 4125, 'moseley': 4126, 'weds': 4127, 'returned': 4128, 'hanks': 4129, 'lotsly': 4130, 'sweater': 4131, 'mango': 4132, 'diddy': 4133, 'neighbor': 4134, 'toothpaste': 4135, 'suggestion': 4136, 'helps': 4137, 'forgt': 4138, 'siva': 4139, 'tats': 4140, 'dentists': 4141, 'prescription': 4142, 'downstem': 4143, 'alto': 4144, 'li': 4145, 'lecturer': 4146, 'repeating': 4147, 'solved': 4148, 'answr': 4149, 'soiree': 4150, 'attached': 4151, 'fridge': 4152, 'guai': 4153, 'lastest': 4154, 'stereophonics': 4155, 'marley': 4156, 'dizzee': 4157, 'racal': 4158, 'libertines': 4159, 'strokes': 4160, 'nookii': 4161, 'bookmark': 4162, 'sunoco': 4163, 'dolls': 4164, 'patrick': 4165, 'swayze': 4166, 'pears': 4167, 'incomm': 4168, 'holby': 4169, 'praveesh': 4170, 'delicious': 4171, 'lodge': 4172, 'shun': 4173, 'bian': 4174, 'glass': 4175, 'exhibition': 4176, 'qjkgighjjgcbl': 4177, 'txtx': 4178, 'chad': 4179, 'gymnastics': 4180, 'christians': 4181, 'becausethey': 4182, 'pleasant': 4183, 'statements': 4184, 'tddnewsletter': 4185, 'emc': 4186, 'thedailydraw': 4187, 'dozens': 4188, 'prizeswith': 4189, 'twinks': 4190, 'bears': 4191, 'scallies': 4192, 'skins': 4193, 'jocks': 4194, 'cuddling': 4195, 'sleeps': 4196, 'physics': 4197, 'downs': 4198, 'fletcher': 4199, 'pansy': 4200, 'jungle': 4201, 'sigh': 4202, 'cashto': 4203, 'getstop': 4204, 'php': 4205, 'jx': 4206, 'fuuuuck': 4207, 'mystery': 4208, 'dang': 4209, 'ripped': 4210, 'clubmoby': 4211, 'downloads': 4212, 'goggles': 4213, 'bomb': 4214, 'simulate': 4215, 'readiness': 4216, 'exhaust': 4217, 'replacing': 4218, 'jackpot': 4219, 'dbuk': 4220, 'lccltd': 4221, 'rw': 4222, 'creative': 4223, 'prestige': 4224, 'dull': 4225, 'asthma': 4226, 'attack': 4227, 'prakesh': 4228, 'kaila': 4229, 'nauseous': 4230, 'dieting': 4231, 'dent': 4232, 'dhanush': 4233, 'rocks': 4234, 'parachute': 4235, 'hiding': 4236, 'olol': 4237, 'printed': 4238, 'tootsie': 4239, 'scrumptious': 4240, 'qi': 4241, 'suddenly': 4242, 'jaklin': 4243, 'stated': 4244, 'ello': 4245, 'merely': 4246, 'relationship': 4247, 'wherevr': 4248, 'whenevr': 4249, 'gudnyt': 4250, 'prepared': 4251, 'finalise': 4252, 'neft': 4253, 'beneficiary': 4254, 'mentor': 4255, 'drastic': 4256, 'outstanding': 4257, 'hasbro': 4258, 'jump': 4259, 'hoops': 4260, 'cutie': 4261, 'hills': 4262, 'killed': 4263, 'breathing': 4264, 'voicemail': 4265, 'lul': 4266, 'nurses': 4267, 'shes': 4268, 'obese': 4269, 'oyea': 4270, 'jd': 4271, 'accounts': 4272, 'bull': 4273, 'floating': 4274, 'classmates': 4275, 'guesses': 4276, 'attach': 4277, 'buyers': 4278, 'stitch': 4279, 'trouser': 4280, 'remembrs': 4281, 'everytime': 4282, 'covers': 4283, 'trends': 4284, 'pros': 4285, 'cons': 4286, 'description': 4287, 'nuclear': 4288, 'fusion': 4289, 'iter': 4290, 'jet': 4291, 'pookie': 4292, 'copies': 4293, 'jan': 4294, 'yuou': 4295, 'spot': 4296, 'meets': 4297, 'bcaz': 4298, 'spreadsheet': 4299, 'determine': 4300, 'entire': 4301, 'revealing': 4302, 'conversations': 4303, 'senses': 4304, 'overemphasise': 4305, 'browser': 4306, 'surf': 4307, 'harish': 4308, 'transfred': 4309, 'acnt': 4310, 'reminded': 4311, 'newquay': 4312, 'talkin': 4313, 'massages': 4314, 'oil': 4315, 'lengths': 4316, 'behalf': 4317, 'stunning': 4318, 'sorta': 4319, 'blown': 4320, 'excused': 4321, 'tirunelvai': 4322, 'leo': 4323, 'fumbling': 4324, 'pleassssssseeeeee': 4325, 'sportsx': 4326, 'uve': 4327, 'wildest': 4328, 'pure': 4329, 'hearted': 4330, 'enemies': 4331, 'smiley': 4332, 'geva': 4333, 'wondarfull': 4334, 'significance': 4335, 'shoppin': 4336, 'chocolate': 4337, 'posible': 4338, 'century': 4339, 'frwd': 4340, 'unicef': 4341, 'asian': 4342, 'tsunami': 4343, 'disaster': 4344, 'fund': 4345, 'pubs': 4346, 'frankie': 4347, 'bennys': 4348, 'warner': 4349, 'lamp': 4350, 'caroline': 4351, 'jacuzzi': 4352, 'ashwini': 4353, 'gower': 4354, 'freaky': 4355, 'clarify': 4356, 'preponed': 4357, 'invitation': 4358, 'weddin': 4359, 'gautham': 4360, 'videos': 4361, 'shsex': 4362, 'netun': 4363, 'fgkslpopw': 4364, 'fgkslpo': 4365, 'ours': 4366, 'significant': 4367, 'discreet': 4368, 'shanghai': 4369, 'cya': 4370, 'clash': 4371, 'textin': 4372, 'hype': 4373, 'studio': 4374, 'recieve': 4375, 'teletext': 4376, 'pg': 4377, 'witin': 4378, 'annoncement': 4379, 'nordstrom': 4380, 'cherthala': 4381, 'bfore': 4382, 'tmorow': 4383, 'engaged': 4384, 'solihull': 4385, 'fiting': 4386, 'load': 4387, 'mj': 4388, 'lighters': 4389, 'fudge': 4390, 'oreos': 4391, 'disturbance': 4392, 'dlf': 4393, 'premarica': 4394, 'gamestar': 4395, 'active': 4396, 'scoring': 4397, 'register': 4398, 'coccooning': 4399, 'fetching': 4400, 'thin': 4401, 'arguments': 4402, 'fed': 4403, 'himso': 4404, 'fifty': 4405, 'rearrange': 4406, 'dormitory': 4407, 'astronomer': 4408, 'starer': 4409, 'election': 4410, 'recount': 4411, 'hitler': 4412, 'eleven': 4413, 'lightly': 4414, 'checkboxes': 4415, 'gosh': 4416, 'spose': 4417, 'positive': 4418, 'negative': 4419, 'hmmmm': 4420, 'showr': 4421, 'asjesus': 4422, 'wrote': 4423, 'samus': 4424, 'shoulders': 4425, 'digi': 4426, 'coupla': 4427, 'chiong': 4428, 'atleast': 4429, 'shakespeare': 4430, 'mountain': 4431, 'deer': 4432, 'genus': 4433, 'hundreds': 4434, 'handsomes': 4435, 'beauties': 4436, 'aunties': 4437, 'accenture': 4438, 'gona': 4439, 'gon': 4440, 'neighbors': 4441, 'difference': 4442, 'keeps': 4443, 'ruin': 4444, 'rushing': 4445, 'womdarfull': 4446, 'actor': 4447, 'narcotics': 4448, 'extreme': 4449, 'privacy': 4450, 'sic': 4451, 'burden': 4452, 'callon': 4453, 'lifted': 4454, 'hopes': 4455, 'approaches': 4456, 'monoc': 4457, 'monos': 4458, 'polyc': 4459, 'stream': 4460, 'spjanuary': 4461, 'someday': 4462, 'poorly': 4463, 'punishment': 4464, 'worst': 4465, 'brb': 4466, 'kill': 4467, 'upon': 4468, 'payments': 4469, 'fedex': 4470, 'garden': 4471, 'bulbs': 4472, 'seeds': 4473, 'scotsman': 4474, 'notxt': 4475, 'wined': 4476, 'dined': 4477, 'certificate': 4478, 'publish': 4479, 'screamed': 4480, 'dedicated': 4481, 'dedicate': 4482, 'wining': 4483, 'meat': 4484, 'supreme': 4485, 'swan': 4486, 'mapquest': 4487, 'dogwood': 4488, 'route': 4489, 'tkls': 4490, 'stoptxtstop': 4491, 'starshine': 4492, 'sips': 4493, 'aq': 4494, 'dammit': 4495, 'comprehensive': 4496, 'dizzamn': 4497, 'suitemates': 4498, 'kavalan': 4499, 'rounder': 4500, 'required': 4501, 'payasam': 4502, 'rinu': 4503, 'auntie': 4504, 'huai': 4505, 'ilol': 4506, 'personally': 4507, 'wuldnt': 4508, 'fink': 4509, 'promised': 4510, 'carlie': 4511, 'minmobsmore': 4512, 'lkpobox': 4513, 'prin': 4514, 'jolt': 4515, 'nationwide': 4516, 'newport': 4517, 'das': 4518, 'iknow': 4519, 'wellda': 4520, 'peril': 4521, 'studentfinancial': 4522, 'related': 4523, 'arul': 4524, 'ams': 4525, 'bot': 4526, 'notes': 4527, 'abj': 4528, 'guild': 4529, 'occurs': 4530, 'romcapspam': 4531, 'presence': 4532, 'outgoing': 4533, 'belive': 4534, 'poo': 4535, 'bare': 4536, 'relaxing': 4537, 'varaya': 4538, 'elaya': 4539, 'bw': 4540, 'sez': 4541, 'arab': 4542, 'eshxxxxxxxxxxx': 4543, 'urfeeling': 4544, 'bettersn': 4545, 'probthat': 4546, 'overdose': 4547, 'lovejen': 4548, 'beerage': 4549, 'daytime': 4550, 'busty': 4551, 'janinexx': 4552, 'showered': 4553, 'ything': 4554, 'cereals': 4555, 'gari': 4556, 'liquor': 4557, 'loko': 4558, 'recorded': 4559, 'bari': 4560, 'hudgi': 4561, 'yorge': 4562, 'pataistha': 4563, 'ertini': 4564, 'wright': 4565, 'deduct': 4566, 'debating': 4567, 'recd': 4568, 'torture': 4569, 'reffering': 4570, 'getiing': 4571, 'steak': 4572, 'areyouunique': 4573, 'mailed': 4574, 'varma': 4575, 'refilled': 4576, 'inr': 4577, 'keralacircle': 4578, 'prepaid': 4579, 'kr': 4580, 'shell': 4581, 'unconsciously': 4582, 'unhappy': 4583, 'signal': 4584, 'unusual': 4585, 'hugs': 4586, 'snogs': 4587, 'someonone': 4588, 'ch': 4589, 'mini': 4590, 'snap': 4591, 'quizclub': 4592, 'rwm': 4593, 'lyricalladie': 4594, 'hmmross': 4595, 'blankets': 4596, 'ahold': 4597, 'familiar': 4598, 'plural': 4599, 'ibored': 4600, 'unconvinced': 4601, 'elaborate': 4602, 'willpower': 4603, 'mc': 4604, 'ummma': 4605, 'chk': 4606, 'dict': 4607, 'lodging': 4608, 'disappointment': 4609, 'deepest': 4610, 'darkest': 4611, 'memorable': 4612, 'scores': 4613, 'sophas': 4614, 'secondary': 4615, 'applying': 4616, 'ogunrinde': 4617, 'wallet': 4618, 'favour': 4619, 'telugu': 4620, 'wasnt': 4621, 'evo': 4622, 'jealous': 4623, 'howda': 4624, 'mathe': 4625, 'samachara': 4626, 'selflessness': 4627, 'stuffed': 4628, 'writhing': 4629, 'spoil': 4630, 'kanji': 4631, 'tix': 4632, 'lord': 4633, 'rings': 4634, 'soundtrack': 4635, 'stdtxtrate': 4636, 'fundamentals': 4637, 'hearin': 4638, 'prix': 4639, 'woah': 4640, 'realising': 4641, 'ryan': 4642, 'fair': 4643, 'weaknesses': 4644, 'pushes': 4645, 'knee': 4646, 'exposes': 4647, 'pulls': 4648, 'wicked': 4649, 'monkey': 4650, 'asshole': 4651, 'agree': 4652, 'marvel': 4653, 'ultimate': 4654, 'fring': 4655, 'judgemental': 4656, 'fridays': 4657, 'deny': 4658, 'ericson': 4659, 'der': 4660, 'luks': 4661, 'modl': 4662, 'mandan': 4663, 'above': 4664, 'closes': 4665, 'jos': 4666, 'twenty': 4667, 'durham': 4668, 'reserved': 4669, 'meaningless': 4670, 'awkward': 4671, 'weirdo': 4672, 'recycling': 4673, 'earning': 4674, 'wenever': 4675, 'slices': 4676, 'atten': 4677, 'oyster': 4678, 'sashimi': 4679, 'rumbling': 4680, 'amk': 4681, 'interfued': 4682, 'blackberry': 4683, 'guessing': 4684, 'jb': 4685, 'reckon': 4686, 'eightish': 4687, 'carpark': 4688, 'mostly': 4689, 'lyk': 4690, 'footbl': 4691, 'crckt': 4692, 'ing': 4693, 'laughs': 4694, 'topped': 4695, 'bubbletext': 4696, 'renewal': 4697, 'tgxxrz': 4698, 'citylink': 4699, 'successful': 4700, 'mathews': 4701, 'tait': 4702, 'edwards': 4703, 'anderson': 4704, 'cutting': 4705, 'gua': 4706, 'faber': 4707, 'orh': 4708, 'cartons': 4709, 'shelves': 4710, 'soc': 4711, 'gep': 4712, 'sppok': 4713, 'spell': 4714, 'such': 4715, 'oooooh': 4716, 'units': 4717, 'accent': 4718, 'dental': 4719, 'nmde': 4720, 'hides': 4721, 'secrets': 4722, 'passion': 4723, 'dena': 4724, 'arrived': 4725, 'fights': 4726, 'conveying': 4727, 'phasing': 4728, 'fourth': 4729, 'dimension': 4730, 'continent': 4731, 'luvs': 4732, 'compass': 4733, 'gnun': 4734, 'frog': 4735, 'axel': 4736, 'akon': 4737, 'eyed': 4738, 'tex': 4739, 'mecause': 4740, 'werebored': 4741, 'okden': 4742, 'uin': 4743, 'likeyour': 4744, 'updat': 4745, 'countinlots': 4746, 'optin': 4747, 'bbc': 4748, 'charts': 4749, 'shhhhh': 4750, 'tarpon': 4751, 'springs': 4752, 'thousad': 4753, 'vague': 4754, 'accounting': 4755, 'delayed': 4756, 'housing': 4757, 'agency': 4758, 'renting': 4759, 'breaker': 4760, 'deluxe': 4761, 'features': 4762, 'graphics': 4763, 'bbdeluxe': 4764, 'pushbutton': 4765, 'dontcha': 4766, 'babygoodbye': 4767, 'golddigger': 4768, 'webeburnin': 4769, 'mushy': 4770, 'embarrassed': 4771, 'dealer': 4772, 'lunsford': 4773, 'wrking': 4774, 'rstm': 4775, 'gota': 4776, 'sayy': 4777, 'leadership': 4778, 'skills': 4779, 'psychic': 4780, 'irene': 4781, 'ere': 4782, 'cres': 4783, 'coimbatore': 4784, 'figuring': 4785, 'woul': 4786, 'curfew': 4787, 'gibe': 4788, 'getsleep': 4789, 'studdying': 4790, 'ear': 4791, 'flow': 4792, 'developed': 4793, 'ovarian': 4794, 'cysts': 4795, 'shrink': 4796, 'selfish': 4797, 'officer': 4798, 'bhaskar': 4799, 'configure': 4800, 'jas': 4801, 'mobs': 4802, 'crazyin': 4803, 'sleepingwith': 4804, 'finest': 4805, 'ymca': 4806, 'ew': 4807, 'typical': 4808, 'browsin': 4809, 'compulsory': 4810, 'ppmpobox': 4811, 'bhamb': 4812, 'xe': 4813, 'fifa': 4814, 'beads': 4815, 'printer': 4816, 'groovy': 4817, 'groovying': 4818, 'uncountable': 4819, 'shortcode': 4820, 'refunded': 4821, 'stash': 4822, 'ouch': 4823, 'soryda': 4824, 'sory': 4825, 'wrkin': 4826, 'notified': 4827, 'marketing': 4828, 'silly': 4829, 'predicting': 4830, 'accumulation': 4831, 'rgent': 4832, 'ambitious': 4833, 'grinder': 4834, 'ava': 4835, 'goodtime': 4836, 'oli': 4837, 'melnite': 4838, 'ifink': 4839, 'everythin': 4840, 'roles': 4841, 'outreach': 4842, 'attracts': 4843, 'muhommad': 4844, 'penny': 4845, 'childporn': 4846, 'ree': 4847, 'ktv': 4848, 'shiny': 4849, 'warming': 4850, 'constant': 4851, 'waliking': 4852, 'barring': 4853, 'sudden': 4854, 'influx': 4855, 'helens': 4856, 'princes': 4857, 'wahala': 4858, 'headin': 4859, 'cl': 4860, 'flowers': 4861, 'dependents': 4862, 'mirror': 4863, 'turning': 4864, 'vu': 4865, 'image': 4866, 'riley': 4867, 'repent': 4868, 'customercare': 4869, 'professional': 4870, 'tiger': 4871, 'woods': 4872, 'filthy': 4873, 'stories': 4874, 'impressed': 4875, 'funs': 4876, 'edge': 4877, 'surly': 4878, 'abbey': 4879, 'buffy': 4880, 'satisfy': 4881, 'randy': 4882, 'qlynnbv': 4883, 'scrappy': 4884, 'baaaaaaaabe': 4885, 'attention': 4886, 'ammae': 4887, 'steering': 4888, 'diwali': 4889, 'payment': 4890, 'portal': 4891, 'netflix': 4892, 'knickers': 4893, 'beg': 4894, 'nikiyu': 4895, 'wuld': 4896, 'seekers': 4897, 'uv': 4898, 'causes': 4899, 'mutations': 4900, 'sunscreen': 4901, 'thesedays': 4902, 'accommodation': 4903, 'global': 4904, 'phb': 4905, 'shifad': 4906, 'raised': 4907, 'complaint': 4908, 'placed': 4909, 'birla': 4910, 'soft': 4911, 'relieved': 4912, 'westonzoyland': 4913, 'karnan': 4914, 'reassuring': 4915, 'badrith': 4916, 'diamonds': 4917, 'retired': 4918, 'chances': 4919, 'csh': 4920, 'tsandcs': 4921, 'spageddies': 4922, 'possibility': 4923, 'saibaba': 4924, 'colany': 4925, 'worms': 4926, 'honestly': 4927, 'promptly': 4928, 'burnt': 4929, 'gifts': 4930, 'cliff': 4931, 'denying': 4932, 'whr': 4933, 'maga': 4934, 'complexities': 4935, 'freely': 4936, 'taxes': 4937, 'outrageous': 4938, 'motivate': 4939, 'darkness': 4940, 'stchoice': 4941, 'girlie': 4942, 'cherish': 4943, 'waqt': 4944, 'pehle': 4945, 'naseeb': 4946, 'zyada': 4947, 'kisi': 4948, 'ko': 4949, 'kuch': 4950, 'milta': 4951, 'hum': 4952, 'sochte': 4953, 'jeetey': 4954, 'rayan': 4955, 'macleran': 4956, 'strain': 4957, 'practical': 4958, 'chinatown': 4959, 'porridge': 4960, 'claypot': 4961, 'rice': 4962, 'yam': 4963, 'fishhead': 4964, 'beehoon': 4965, 'aaooooright': 4966, 'zogtorius': 4967, 'deciding': 4968, 'bunkers': 4969, 'affectionate': 4970, 'luton': 4971, 'approve': 4972, 'panalam': 4973, 'prescribed': 4974, 'ystrday': 4975, 'converted': 4976, 'module': 4977, 'humanities': 4978, 'modules': 4979, 'truro': 4980, 'ext': 4981, 'skateboarding': 4982, 'thrown': 4983, 'winds': 4984, 'bandages': 4985, 'fires': 4986, 'burns': 4987, 'ooooooh': 4988, 'yoville': 4989, 'fried': 4990, 'spares': 4991, 'looovvve': 4992, 'mittelschmertz': 4993, 'paracetamol': 4994, 'gate': 4995, 'shattered': 4996, 'elaborating': 4997, 'safety': 4998, 'aspects': 4999, 'scratches': 5000, 'soooo': 5001, 'provider': 5002, 'tming': 5003, 'tensed': 5004, 'aldrine': 5005, 'rtm': 5006, 'hos': 5007, 'completing': 5008, 'associate': 5009, 'cumming': 5010, 'owe': 5011, 'tiime': 5012, 'tears': 5013, 'perpetual': 5014, 'dd': 5015, 'santacalling': 5016, 'fans': 5017, 'jade': 5018, 'paul': 5019, 'barmed': 5020, 'kotees': 5021, 'exposed': 5022, 'vomiting': 5023, 'remb': 5024, 'scenery': 5025, 'freeentry': 5026, 'xt': 5027, 'board': 5028, 'overheating': 5029, 'reslove': 5030, 'inst': 5031, 'animal': 5032, 'apeshit': 5033, 'byatch': 5034, 'whassup': 5035, 'flirtparty': 5036, 'replys': 5037, 'detroit': 5038, 'treats': 5039, 'tiwary': 5040, 'rcb': 5041, 'battle': 5042, 'kochi': 5043, 'passable': 5044, 'phd': 5045, 'argh': 5046, 'spotty': 5047, 'province': 5048, 'sterling': 5049, 'lip': 5050, 'caveboy': 5051, 'tunji': 5052, 'decorating': 5053, 'swell': 5054, 'nigro': 5055, 'dialogue': 5056, 'reltnship': 5057, 'nange': 5058, 'bakra': 5059, 'kalstiya': 5060, 'younger': 5061, 'fwiw': 5062, 'afford': 5063, 'adventuring': 5064, 'dawns': 5065, 'refreshed': 5066, 'tai': 5067, 'feng': 5068, 'reservations': 5069, 'sonetimes': 5070, 'rough': 5071, 'signing': 5072, 'gobi': 5073, 'qet': 5074, 'okday': 5075, 'flew': 5076, 'icic': 5077, 'balloon': 5078, 'latests': 5079, 'llc': 5080, 'ny': 5081, 'usa': 5082, 'lnly': 5083, 'quiteamuzing': 5084, 'scool': 5085, 'detail': 5086, 'nike': 5087, 'rounds': 5088, 'qxj': 5089, 'ae': 5090, 'depressed': 5091, 'sittin': 5092, 'drops': 5093, 'anna': 5094, 'nagar': 5095, 'prediction': 5096, 'amanda': 5097, 'regard': 5098, 'renewing': 5099, 'upgrading': 5100, 'subject': 5101, 'thread': 5102, 'wishlist': 5103, 'section': 5104, 'nitro': 5105, 'opposite': 5106, 'christmassy': 5107, 'jelly': 5108, 'freaking': 5109, 'myspace': 5110, 'logged': 5111, 'honeymoon': 5112, 'outfit': 5113, 'resent': 5114, 'failed': 5115, 'error': 5116, 'queries': 5117, 'customersqueries': 5118, 'netvision': 5119, 'totes': 5120, 'cantdo': 5121, 'anythingtomorrow': 5122, 'myparents': 5123, 'aretaking': 5124, 'outfor': 5125, 'katexxx': 5126, 'billy': 5127, 'enjoying': 5128, 'overtime': 5129, 'nigpun': 5130, 'treasure': 5131, 'smokin': 5132, 'continued': 5133, 'president': 5134, 'magic': 5135, 'grasp': 5136, 'rct': 5137, 'thnq': 5138, 'adrian': 5139, 'vatian': 5140, 'sorts': 5141, 'sacrifice': 5142, 'thinked': 5143, 'betta': 5144, 'invest': 5145, 'aging': 5146, 'products': 5147, 'lined': 5148, 'mentionned': 5149, 'walsall': 5150, 'tue': 5151, 'terry': 5152, 'finn': 5153, 'resolution': 5154, 'frank': 5155, 'footy': 5156, 'stadium': 5157, 'large': 5158, 'coca': 5159, 'cola': 5160, 'jerk': 5161, 'predict': 5162, 'messenger': 5163, 'doctors': 5164, 'reminds': 5165, 'mcfly': 5166, 'ab': 5167, 'sara': 5168, 'jorge': 5169, 'instructions': 5170, 'dip': 5171, 'ganesh': 5172, 'dress': 5173, 'hangin': 5174, 'imin': 5175, 'dontmatter': 5176, 'urgoin': 5177, 'outl': 5178, 'ambrith': 5179, 'madurai': 5180, 'dha': 5181, 'marrge': 5182, 'remembr': 5183, 'gsoh': 5184, 'spam': 5185, 'gigolo': 5186, 'mens': 5187, 'oncall': 5188, 'mjzgroup': 5189, 'transport': 5190, 'problematic': 5191, 'general': 5192, 'arabian': 5193, 'steed': 5194, 'hillsborough': 5195, 'impressively': 5196, 'sensible': 5197, 'shanil': 5198, 'exchanged': 5199, 'uncut': 5200, 'diamond': 5201, 'dino': 5202, 'resubbing': 5203, 'designation': 5204, 'developer': 5205, 'passionate': 5206, 'sometext': 5207, 'pocked': 5208, 'uncomfortable': 5209, 'pert': 5210, 'potato': 5211, 'hcl': 5212, 'requires': 5213, 'freshers': 5214, 'suman': 5215, 'telephonic': 5216, 'indyarocks': 5217, 'uhhhhrmm': 5218, 'slower': 5219, 'maniac': 5220, 'disturbing': 5221, 'admit': 5222, 'cncl': 5223, 'stopcs': 5224, 'sts': 5225, 'attraction': 5226, 'sorrows': 5227, 'fight': 5228, 'proove': 5229, 'planet': 5230, 'praises': 5231, 'chicken': 5232, 'makiing': 5233, 'sambar': 5234, 'jp': 5235, 'mofo': 5236, 'tattoos': 5237, 'flatter': 5238, 'pints': 5239, 'carlin': 5240, 'hide': 5241, 'anythiing': 5242, 'hf': 5243, 'downloaded': 5244, 'doit': 5245, 'mymoby': 5246, 'sundayish': 5247, 'minded': 5248, 'minapn': 5249, 'webpage': 5250, 'hooked': 5251, 'poet': 5252, 'imagination': 5253, 'drizzling': 5254, 'smartcall': 5255, 'subscriptn': 5256, 'landlineonly': 5257, 'tantrum': 5258, 'ovulate': 5259, 'sexychat': 5260, 'although': 5261, 'baig': 5262, 'watches': 5263, 'wifi': 5264, 'blanked': 5265, 'upping': 5266, 'grams': 5267, 'props': 5268, 'excited': 5269, 'trackmarque': 5270, 'vipclub': 5271, 'crash': 5272, 'taxi': 5273, 'actual': 5274, 'harder': 5275, 'nbme': 5276, 'mys': 5277, 'syria': 5278, 'squishy': 5279, 'mwahs': 5280, 'chile': 5281, 'subletting': 5282, 'chez': 5283, 'jules': 5284, 'weirdy': 5285, 'brownies': 5286, 'lives': 5287, 'skye': 5288, 'kickoff': 5289, 'ploughing': 5290, 'pile': 5291, 'ironing': 5292, 'chinky': 5293, 'smaller': 5294, 'capacity': 5295, 'scrounge': 5296, 'useless': 5297, 'sth': 5298, 'specs': 5299, 'scraped': 5300, 'barrel': 5301, 'misfits': 5302, 'toot': 5303, 'fringe': 5304, 'taste': 5305, 'stink': 5306, 'loooooool': 5307, 'couch': 5308, 'celebration': 5309, 'firsg': 5310, 'fassyole': 5311, 'blacko': 5312, 'londn': 5313, 'hen': 5314, 'pressies': 5315, 'roomate': 5316, 'graduated': 5317, 'xafter': 5318, 'cst': 5319, 'chg': 5320, 'virtual': 5321, 'jap': 5322, 'complementary': 5323, 'hol': 5324, 'timings': 5325, 'method': 5326, 'korean': 5327, 'exe': 5328, 'puttin': 5329, 'lapdancer': 5330, 'ppmsg': 5331, 'intentions': 5332, 'unconscious': 5333, 'adults': 5334, 'abnormally': 5335, 'watever': 5336, 'built': 5337, 'atlast': 5338, 'lonlines': 5339, 'lotz': 5340, 'memories': 5341, 'arguing': 5342, 'sunroof': 5343, 'popped': 5344, 'involve': 5345, 'imposed': 5346, 'smoothly': 5347, 'challenging': 5348, 'plumbers': 5349, 'wrench': 5350, 'necklace': 5351, 'token': 5352, 'liking': 5353, 'lb': 5354, 'brilliantly': 5355, 'raping': 5356, 'dudes': 5357, 'dock': 5358, 'rolled': 5359, 'newscaster': 5360, 'dabbles': 5361, 'flute': 5362, 'wheel': 5363, 'nver': 5364, 'somtimes': 5365, 'quarter': 5366, 'giggle': 5367, 'possibly': 5368, 'nvq': 5369, 'nigh': 5370, 'clearly': 5371, 'bcum': 5372, 'balls': 5373, 'cried': 5374, 'nannys': 5375, 'maths': 5376, 'chapter': 5377, 'shagged': 5378, 'warwick': 5379, 'tmw': 5380, 'canceled': 5381, 'havn': 5382, 'noice': 5383, 'hall': 5384, 'hesitation': 5385, 'intha': 5386, 'ponnungale': 5387, 'ipaditan': 5388, 'detailed': 5389, 'agents': 5390, 'experiment': 5391, 'surya': 5392, 'pokkiri': 5393, 'idc': 5394, 'weaseling': 5395, 'neglect': 5396, 'arent': 5397, 'cakes': 5398, 'blanket': 5399, 'providing': 5400, 'assistance': 5401, 'bar': 5402, 'satsgettin': 5403, 'parkin': 5404, 'machines': 5405, 'dreading': 5406, 'thou': 5407, 'tke': 5408, 'suffering': 5409, 'dysentry': 5410, 'trauma': 5411, 'swear': 5412, 'practising': 5413, 'curtsey': 5414, 'rpl': 5415, 'cnl': 5416, 'poyyarikatur': 5417, 'kolathupalayam': 5418, 'unjalur': 5419, 'erode': 5420, 'dying': 5421, 'shorter': 5422, 'gaze': 5423, 'needa': 5424, 'swap': 5425, 'chatter': 5426, 'rcd': 5427, 'steyn': 5428, 'wicket': 5429, 'utxt': 5430, 'snake': 5431, 'raiden': 5432, 'swimsuit': 5433, 'paranoid': 5434, 'handed': 5435, 'celebrations': 5436, 'inner': 5437, 'tigress': 5438, 'absolutely': 5439, 'mesages': 5440, 'coveragd': 5441, 'vasai': 5442, 'subscribed': 5443, 'follows': 5444, 'subsequent': 5445, 'pride': 5446, 'grownup': 5447, 'hero': 5448, 'apt': 5449, 'openings': 5450, 'thanksgiving': 5451, 'upcharge': 5452, 'thet': 5453, 'skinny': 5454, 'casting': 5455, 'smell': 5456, 'tobacco': 5457, 'brdget': 5458, 'jones': 5459, 'webadres': 5460, 'geting': 5461, 'slip': 5462, 'fav': 5463, 'temales': 5464, 'proze': 5465, 'norcorp': 5466, 'qf': 5467, 'uploaded': 5468, 'bird': 5469, 'antelope': 5470, 'toplay': 5471, 'fieldof': 5472, 'selfindependence': 5473, 'contention': 5474, 'fne': 5475, 'secretly': 5476, 'fancies': 5477, 'datebox': 5478, 'essexcm': 5479, 'xn': 5480, 'inconvenient': 5481, 'missions': 5482, 'identification': 5483, 'profile': 5484, 'bpo': 5485, 'knocking': 5486, 'receivea': 5487, 'kl': 5488, 'strt': 5489, 'ltdhelpdesk': 5490, 'stairs': 5491, 'phews': 5492, 'porn': 5493, 'stopbcm': 5494, 'sf': 5495, 'apologetic': 5496, 'fallen': 5497, 'actin': 5498, 'spoilt': 5499, 'caught': 5500, 'badly': 5501, 'lubly': 5502, 'liver': 5503, 'allday': 5504, 'piss': 5505, 'stalking': 5506, 'pendent': 5507, 'shrek': 5508, 'african': 5509, 'soil': 5510, 'bp': 5511, 'warranty': 5512, 'maangalyam': 5513, 'alaipayuthe': 5514, 'bsn': 5515, 'advising': 5516, 'pt': 5517, 'guoyang': 5518, 'ez': 5519, 'thankyou': 5520, 'rhode': 5521, 'island': 5522, 'bong': 5523, 'lara': 5524, 'te': 5525, 'florida': 5526, 'rp': 5527, 'regalportfolio': 5528, 'sink': 5529, 'paces': 5530, 'cage': 5531, 'surrounded': 5532, 'cuck': 5533, 'legitimat': 5534, 'efreefone': 5535, 'onum': 5536, 'lay': 5537, 'bimbo': 5538, 'ugo': 5539, 'tram': 5540, 'vic': 5541, 'forms': 5542, 'toilet': 5543, 'stolen': 5544, 'cops': 5545, 'recognise': 5546, 'meetins': 5547, 'cumin': 5548, 'lifting': 5549, 'fan': 5550, 'prasad': 5551, 'bao': 5552, 'sugardad': 5553, 'goten': 5554, 'scammers': 5555, 'regular': 5556, 'gut': 5557, 'wrenching': 5558, 'nearby': 5559, 'cliffs': 5560, 'barred': 5561, 'twat': 5562, 'dungerees': 5563, 'decking': 5564, 'punch': 5565, 'enters': 5566, 'cmon': 5567, 'replies': 5568, 'ldns': 5569, 'portege': 5570, 'grandfather': 5571, 'stuffing': 5572, 'step': 5573, 'ubandu': 5574, 'installing': 5575, 'disk': 5576, 'connections': 5577, 'grandma': 5578, 'parade': 5579, 'basket': 5580, 'swatch': 5581, 'nit': 5582, 'aiyar': 5583, 'cupboard': 5584, 'engagement': 5585, 'fixd': 5586, 'njan': 5587, 'vilikkam': 5588, 'sudn': 5589, 'bookedthe': 5590, 'hut': 5591, 'casualty': 5592, 'includes': 5593, 'ayo': 5594, 'travelled': 5595, 'tmorrow': 5596, 'accomodate': 5597, 'east': 5598, 'coast': 5599, 'brum': 5600, 'aids': 5601, 'patent': 5602, 'thasa': 5603, 'messed': 5604, 'seperated': 5605, 'ud': 5606, 'miwa': 5607, 'lit': 5608, 'adsense': 5609, 'approved': 5610, 'hooch': 5611, 'toaday': 5612, 'splat': 5613, 'grazed': 5614, 'knees': 5615, 'locks': 5616, 'jenne': 5617, 'mornin': 5618, 'thanku': 5619, 'respectful': 5620, 'talent': 5621, 'kfc': 5622, 'meals': 5623, 'gravy': 5624, 'iphone': 5625, 'meaningful': 5626, 'compromised': 5627, 'trivia': 5628, 'studies': 5629, 'anyones': 5630, 'konw': 5631, 'waht': 5632, 'rael': 5633, 'gving': 5634, 'exmpel': 5635, 'jsut': 5636, 'evrey': 5637, 'splleing': 5638, 'wrnog': 5639, 'sitll': 5640, 'raed': 5641, 'wihtuot': 5642, 'ayn': 5643, 'mitsake': 5644, 'saeed': 5645, 'hallaq': 5646, 'gonnamissu': 5647, 'buttheres': 5648, 'aboutas': 5649, 'merememberin': 5650, 'asthere': 5651, 'ofsi': 5652, 'breakin': 5653, 'yaxx': 5654, 'chop': 5655, 'clover': 5656, 'friendships': 5657, 'emailed': 5658, 'yifeng': 5659, 'absence': 5660, 'theyre': 5661, 'eachother': 5662, 'yavnt': 5663, 'played': 5664, 'punto': 5665, 'outsider': 5666, 'stands': 5667, 'nitz': 5668, 'aslamalaikkum': 5669, 'tohar': 5670, 'beeen': 5671, 'muht': 5672, 'albi': 5673, 'mufti': 5674, 'mahfuuz': 5675, 'bowls': 5676, 'ortxt': 5677, 'corvettes': 5678, 'intend': 5679, 'iwas': 5680, 'marine': 5681, 'itried': 5682, 'urmom': 5683, 'careabout': 5684, 'multimedia': 5685, 'establish': 5686, 'monster': 5687, 'cutest': 5688, 'zaher': 5689, 'directors': 5690, 'lac': 5691, 'deposited': 5692, 'taxless': 5693, 'jobs': 5694, 'suply': 5695, 'projects': 5696, 'imf': 5697, 'blocked': 5698, 'corrupt': 5699, 'itna': 5700, 'karo': 5701, 'ki': 5702, 'pura': 5703, 'padhe': 5704, 'risk': 5705, 'fffff': 5706, 'meg': 5707, 'hugging': 5708, 'yupz': 5709, 'recharged': 5710, 'somewhr': 5711, 'crushes': 5712, 'experiencehttp': 5713, 'vouch': 5714, 'etlp': 5715, 'abstract': 5716, 'ingredients': 5717, 'erotic': 5718, 'ecstacy': 5719, 'performance': 5720, 'calculated': 5721, 'period': 5722, 'jokin': 5723, 'shorts': 5724, 'lark': 5725, 'flippin': 5726, 'passes': 5727, 'fills': 5728, 'complain': 5729, 'bettr': 5730, 'bsnl': 5731, 'offc': 5732, 'mumhas': 5733, 'beendropping': 5734, 'theplace': 5735, 'adress': 5736, 'choices': 5737, 'toss': 5738, 'gudni': 5739, 'velusamy': 5740, 'facilities': 5741, 'emotion': 5742, 'prayrs': 5743, 'othrwise': 5744, 'manual': 5745, 'reset': 5746, 'troubleshooting': 5747, 'youi': 5748, 'ey': 5749, 'calm': 5750, 'downon': 5751, 'theacusations': 5752, 'itxt': 5753, 'iwana': 5754, 'wotu': 5755, 'thew': 5756, 'haventcn': 5757, 'nething': 5758, 'entirely': 5759, 'philosophical': 5760, 'hole': 5761, 'aunty': 5762, 'flurries': 5763, 'melt': 5764, 'ground': 5765, 'tlp': 5766, 'expressoffer': 5767, 'sake': 5768, 'tallahassee': 5769, 'ques': 5770, 'suits': 5771, 'prasanth': 5772, 'ettans': 5773, 'situations': 5774, 'loosing': 5775, 'champ': 5776, 'glasgow': 5777, 'haunt': 5778, 'promoting': 5779, 'oxygen': 5780, 'resort': 5781, 'roller': 5782, 'weighed': 5783, 'woohoo': 5784, 'ryder': 5785, 'gibbs': 5786, 'digits': 5787, 'internal': 5788, 'extract': 5789, 'gong': 5790, 'kaypoh': 5791, 'garbage': 5792, 'jam': 5793, 'hannaford': 5794, 'wheat': 5795, 'chex': 5796, 'ditto': 5797, 'psp': 5798, 'como': 5799, 'listened': 5800, 'plaid': 5801, 'hilarious': 5802, 'braindance': 5803, 'ofstuff': 5804, 'aphex': 5805, 'abel': 5806, 'toughest': 5807, 'heaven': 5808, 'sos': 5809, 'tightly': 5810, 'supports': 5811, 'srt': 5812, 'gran': 5813, 'onlyfound': 5814, 'afew': 5815, 'cusoon': 5816, 'honi': 5817, 'bleak': 5818, 'risks': 5819, 'benefits': 5820, 'secured': 5821, 'unsecured': 5822, 'manky': 5823, 'scouse': 5824, 'travelling': 5825, 'inmind': 5826, 'recreation': 5827, 'sonathaya': 5828, 'soladha': 5829, 'sentiment': 5830, 'rowdy': 5831, 'attitude': 5832, 'attractive': 5833, 'sporadically': 5834, 'brainless': 5835, 'doll': 5836, 'vehicle': 5837, 'sariyag': 5838, 'madoke': 5839, 'barolla': 5840, 'spoiled': 5841, 'tomorro': 5842, 'dobby': 5843, 'view': 5844, 'gays': 5845, 'bell': 5846, 'pattern': 5847, 'emerging': 5848, 'fiend': 5849, 'impede': 5850, 'hesitant': 5851, 'prices': 5852, 'bawling': 5853, 'failure': 5854, 'failing': 5855, 'theoretically': 5856, 'torrents': 5857, 'particularly': 5858, 'slowing': 5859, 'royal': 5860, 'priya': 5861, 'blastin': 5862, 'tsunamis': 5863, 'occur': 5864, 'rajnikant': 5865, 'ocean': 5866, 'txtstar': 5867, 'antibiotic': 5868, 'abdomen': 5869, 'gynae': 5870, 'pity': 5871, 'suggestions': 5872, 'escalator': 5873, 'draws': 5874, 'petey': 5875, 'whereare': 5876, 'friendsare': 5877, 'thekingshead': 5878, 'canlove': 5879, 'involved': 5880, 'evenings': 5881, 'killing': 5882, 'amigos': 5883, 'burn': 5884, 'hvae': 5885, 'joys': 5886, 'lifeis': 5887, 'daywith': 5888, 'somewheresomeone': 5889, 'tosend': 5890, 'greeting': 5891, 'thus': 5892, 'ger': 5893, 'toking': 5894, 'syd': 5895, 'learned': 5896, 'investigate': 5897, 'luckily': 5898, 'starring': 5899, 'lovin': 5900, 'tag': 5901, 'messy': 5902, 'laundry': 5903, 'bras': 5904, 'strewn': 5905, 'pillows': 5906, 'pei': 5907, 'install': 5908, 'browse': 5909, 'artists': 5910, 'loneliness': 5911, 'hlday': 5912, 'camp': 5913, 'amrca': 5914, 'serena': 5915, 'boltblue': 5916, 'slide': 5917, 'jamz': 5918, 'toxic': 5919, 'brownie': 5920, 'wither': 5921, 'rows': 5922, 'sq': 5923, 'arrival': 5924, 'brolly': 5925, 'franxx': 5926, 'dollar': 5927, 'hostile': 5928, 'hasnt': 5929, 'jewelry': 5930, 'mcr': 5931, 'wondar': 5932, 'flim': 5933, 'coco': 5934, 'dine': 5935, 'complacent': 5936, 'wetherspoons': 5937, 'adi': 5938, 'entey': 5939, 'nattil': 5940, 'kittum': 5941, 'realise': 5942, 'pouch': 5943, 'business': 5944, 'violated': 5945, 'jackson': 5946, 'rec': 5947, 'somewhat': 5948, 'laden': 5949, 'wrecked': 5950, 'sarcastic': 5951, 'rob': 5952, 'mack': 5953, 'gf': 5954, 'theater': 5955, 'crashing': 5956, 'placement': 5957, 'western': 5958, 'science': 5959, 'nus': 5960, 'edu': 5961, 'sg': 5962, 'phyhcmk': 5963, 'tip': 5964, 'rules': 5965, 'bend': 5966, 'thia': 5967, 'inlude': 5968, 'previews': 5969, 'grab': 5970, 'elephant': 5971, 'tablets': 5972, 'shove': 5973, 'um': 5974, 'offline': 5975, 'anjola': 5976, 'corect': 5977, 'speling': 5978, 'lindsay': 5979, 'bars': 5980, 'heron': 5981, 'grooved': 5982, 'hunt': 5983, 'resend': 5984, 'impression': 5985, 'hidden': 5986, 'attended': 5987, 'southern': 5988, 'belongs': 5989, 'fated': 5990, 'shoranur': 5991, 'fuelled': 5992, 'concern': 5993, 'prior': 5994, 'grief': 5995, 'ceiling': 5996, 'keypad': 5997, 'hitter': 5998, 'ummmmmaah': 5999, 'burgundy': 6000, 'captaining': 6001, 'spoons': 6002, 'completed': 6003, 'degree': 6004, 'tons': 6005, 'paypal': 6006, 'voila': 6007, 'pockets': 6008, 'ccna': 6009, 'becz': 6010, 'undrstndng': 6011, 'avoids': 6012, 'suffer': 6013, 'whn': 6014, 'goal': 6015, 'public': 6016, 'govt': 6017, 'instituitions': 6018, 'hearing': 6019, 'necesity': 6020, 'witout': 6021, 'colleg': 6022, 'wth': 6023, 'functions': 6024, 'events': 6025, 'espe': 6026, 'irritated': 6027, 'wrd': 6028, 'wthout': 6029, 'takecare': 6030, 'multiply': 6031, 'independently': 6032, 'count': 6033, 'division': 6034, 'push': 6035, 'showed': 6036, 'nachos': 6037, 'financial': 6038, 'sday': 6039, 'velly': 6040, 'asus': 6041, 'reformat': 6042, 'loyal': 6043, 'customers': 6044, 'sumthin': 6045, 'babyjontet': 6046, 'abeg': 6047, 'sponsors': 6048, 'fowler': 6049, 'tallent': 6050, 'wasting': 6051, 'bundle': 6052, 'deals': 6053, 'avble': 6054, 'mf': 6055, 'buzzzz': 6056, 'vibrator': 6057, 'shake': 6058, 'vibrate': 6059, 'acting': 6060, 'yeovil': 6061, 'motor': 6062, 'va': 6063, 'vid': 6064, 'finishd': 6065, 'salesman': 6066, 'considering': 6067, 'coughing': 6068, 'lingo': 6069, 'bothering': 6070, 'faded': 6071, 'glory': 6072, 'ralphs': 6073, 'stressfull': 6074, 'adds': 6075, 'spatula': 6076, 'subscribe': 6077, 'mnth': 6078, 'txtstop': 6079, 'brisk': 6080, 'walks': 6081, 'presnts': 6082, 'bcz': 6083, 'jeevithathile': 6084, 'irulinae': 6085, 'neekunna': 6086, 'prakasamanu': 6087, 'sneham': 6088, 'prakasam': 6089, 'ennal': 6090, 'mns': 6091, 'soo': 6092, 'muchxxlove': 6093, 'locaxx': 6094, 'amongst': 6095, 'bros': 6096, 'coulda': 6097, 'grocers': 6098, 'yeesh': 6099, 'lecture': 6100, 'cudnt': 6101, 'ctla': 6102, 'ente': 6103, 'ishtamayoo': 6104, 'bakrid': 6105, 'limited': 6106, 'playng': 6107, 'racing': 6108, 'dusk': 6109, 'puzzles': 6110, 'crucial': 6111, 'cozy': 6112, 'yoyyooo': 6113, 'permissions': 6114, 'stagwood': 6115, 'winterstone': 6116, 'victors': 6117, 'msn': 6118, 'hotmail': 6119, 'subscribers': 6120, 'north': 6121, 'carolina': 6122, 'texas': 6123, 'gre': 6124, 'whore': 6125, 'student': 6126, 'enna': 6127, 'kalaachutaarama': 6128, 'needy': 6129, 'bathroom': 6130, 'skyving': 6131, 'lov': 6132, 'nevr': 6133, 'unrecognized': 6134, 'somone': 6135, 'valuing': 6136, 'definitly': 6137, 'undrstnd': 6138, 'fujitsu': 6139, 'ibm': 6140, 'breadstick': 6141, 'planettalkinstant': 6142, 'pocay': 6143, 'wocay': 6144, 'morrowxxxx': 6145, 'pap': 6146, 'tunde': 6147, 'stress': 6148, 'dorm': 6149, 'notixiquating': 6150, 'laxinorficated': 6151, 'bambling': 6152, 'entropication': 6153, 'oblisingately': 6154, 'opted': 6155, 'masteriastering': 6156, 'amplikater': 6157, 'fidalfication': 6158, 'champlaxigating': 6159, 'atrocious': 6160, 'wotz': 6161, 'junna': 6162, 'alle': 6163, 'mone': 6164, 'eppolum': 6165, 'allalo': 6166, 'items': 6167, 'cfca': 6168, 'reserves': 6169, 'gauge': 6170, 'patty': 6171, 'missionary': 6172, 'gopalettan': 6173, 'participate': 6174, 'posh': 6175, 'chaps': 6176, 'trial': 6177, 'prods': 6178, 'champneys': 6179, 'dob': 6180, 'nasty': 6181, 'filthyguys': 6182, 'missy': 6183, 'stubborn': 6184, 'sucker': 6185, 'suckers': 6186, 'concerned': 6187, 'jez': 6188, 'todo': 6189, 'workand': 6190, 'whilltake': 6191, 'mth': 6192, 'wv': 6193, 'timin': 6194, 'prevent': 6195, 'dehydration': 6196, 'fluids': 6197, 'nothin': 6198, 'hanger': 6199, 'reception': 6200, 'arrow': 6201, 'kalainar': 6202, 'thenampet': 6203, 'kay': 6204, 'ore': 6205, 'owo': 6206, 'fro': 6207, 'passport': 6208, 'guides': 6209, 'consistently': 6210, 'practicum': 6211, 'links': 6212, 'ears': 6213, 'armenia': 6214, 'swann': 6215, 'gail': 6216, 'tr': 6217, 'yaxxx': 6218, 'subtoitles': 6219, 'missunderstding': 6220, 'basketball': 6221, 'outdoors': 6222, 'que': 6223, 'pases': 6224, 'buen': 6225, 'tiempo': 6226, 'kitty': 6227, 'shaved': 6228, 'logging': 6229, 'desert': 6230, 'geoenvironmental': 6231, 'implications': 6232, 'reg': 6233, 'ciao': 6234, 'november': 6235, 'conacted': 6236, 'chloe': 6237, 'gimmi': 6238, 'goss': 6239, 'dao': 6240, 'dismissial': 6241, 'sef': 6242, 'anjie': 6243, 'europe': 6244, 'nnfwfly': 6245, 'hunting': 6246, 'stayin': 6247, 'rugby': 6248, 'nooooooo': 6249, 'cable': 6250, 'outage': 6251, 'lou': 6252, 'gailxx': 6253, 'senor': 6254, 'cts': 6255, 'employee': 6256, 'vco': 6257, 'fellow': 6258, 'pixels': 6259, 'optical': 6260, 'dooms': 6261, 'predicte': 6262, 'lips': 6263, 'splash': 6264, 'disconnected': 6265, 'offense': 6266, 'olympics': 6267, 'bookshelf': 6268, 'slippery': 6269, 'dancin': 6270, 'progress': 6271, 'spontaneously': 6272, 'goodevening': 6273, 'fondly': 6274, 'sections': 6275, 'clearer': 6276, 'ringing': 6277, 'houseful': 6278, 'brats': 6279, 'pulling': 6280, 'emigrated': 6281, 'hopeful': 6282, 'teacher': 6283, 'miiiiiiissssssssss': 6284, 'tee': 6285, 'tms': 6286, 'widelive': 6287, 'index': 6288, 'wml': 6289, 'ecef': 6290, 'ff': 6291, 'jul': 6292, 'scold': 6293, 'zhong': 6294, 'qing': 6295, 'act': 6296, 'thesmszone': 6297, 'anonymous': 6298, 'masked': 6299, 'abuse': 6300, 'data': 6301, 'analysis': 6302, 'slightly': 6303, 'agent': 6304, 'goodies': 6305, 'mat': 6306, 'attending': 6307, 'kaiez': 6308, 'hiphop': 6309, 'papa': 6310, 'cheyyamo': 6311, 'jabo': 6312, 'tau': 6313, 'piah': 6314, 'chuckin': 6315, 'trainners': 6316, 'carryin': 6317, 'bac': 6318, 'dracula': 6319, 'ghost': 6320, 'addamsfa': 6321, 'munsters': 6322, 'exorcist': 6323, 'twilight': 6324, 'elvis': 6325, 'presleys': 6326, 'snickering': 6327, 'chords': 6328, 'greatness': 6329, 'entertaining': 6330, 'hugh': 6331, 'laurie': 6332, 'seeking': 6333, 'peach': 6334, 'tasts': 6335, 'yetty': 6336, 'vijaykanth': 6337, 'otside': 6338, 'jurong': 6339, 'amore': 6340, 'color': 6341, 'musical': 6342, 'multis': 6343, 'prometazine': 6344, 'syrup': 6345, 'mls': 6346, 'feed': 6347, 'nottingham': 6348, 'mph': 6349, 'lucyxx': 6350, 'nose': 6351, 'essay': 6352, 'posting': 6353, 'ijust': 6354, 'talked': 6355, 'sleepwell': 6356, 'lolnice': 6357, 'explicit': 6358, 'secs': 6359, 'khelate': 6360, 'kintu': 6361, 'opponenter': 6362, 'dhorte': 6363, 'lage': 6364, 'screwd': 6365, 'dirt': 6366, 'chores': 6367, 'exist': 6368, 'hail': 6369, 'mist': 6370, 'plate': 6371, 'leftovers': 6372, 'sane': 6373, 'constantly': 6374, 'helping': 6375, 'disc': 6376, 'hont': 6377, 'cloud': 6378, 'hairdressers': 6379, 'beforehand': 6380, 'jaya': 6381, 'resume': 6382, 'puts': 6383, 'perspective': 6384, 'rajas': 6385, 'burrito': 6386, 'gauti': 6387, 'sehwag': 6388, 'propose': 6389, 'seing': 6390, 'asssssholeeee': 6391, 'baaaaabe': 6392, 'misss': 6393, 'youuuuu': 6394, 'dodgey': 6395, 'recovery': 6396, 'dough': 6397, 'applausestore': 6398, 'monthlysubscription': 6399, 'csc': 6400, 'china': 6401, 'noisy': 6402, 'yalru': 6403, 'astne': 6404, 'innu': 6405, 'mundhe': 6406, 'halla': 6407, 'bilo': 6408, 'program': 6409, 'edhae': 6410, 'ovr': 6411, 'vargu': 6412, 'faglord': 6413, 'ukp': 6414, 'wildlife': 6415, 'worzels': 6416, 'wizzle': 6417, 'piggy': 6418, 'dumb': 6419, 'frequently': 6420, 'envy': 6421, 'dump': 6422, 'heap': 6423, 'lowes': 6424, 'satanic': 6425, 'imposter': 6426, 'destiny': 6427, 'cards': 6428, 'wnevr': 6429, 'fal': 6430, 'fals': 6431, 'yen': 6432, 'madodu': 6433, 'nav': 6434, 'pretsorginta': 6435, 'nammanna': 6436, 'pretsovru': 6437, 'alwa': 6438, 'eveb': 6439, 'ummifying': 6440, 'thinkthis': 6441, 'dangerous': 6442, 'crap': 6443, 'boggy': 6444, 'biatch': 6445, 'oral': 6446, 'snatch': 6447, 'stamped': 6448, 'bray': 6449, 'wicklow': 6450, 'eire': 6451, 'rtf': 6452, 'sphosting': 6453, 'converter': 6454, 'varunnathu': 6455, 'edukkukayee': 6456, 'raksha': 6457, 'ollu': 6458, 'retard': 6459, 'elama': 6460, 'mudyadhu': 6461, 'perweeksub': 6462, 'lst': 6463, 'foned': 6464, 'chuck': 6465, 'spirit': 6466, 'meive': 6467, 'gotany': 6468, 'chillaxin': 6469, 'stopsms': 6470, 'pandy': 6471, 'infra': 6472, 'crucify': 6473, 'quitting': 6474, 'wudn': 6475, 'effect': 6476, 'aust': 6477, 'bk': 6478, 'mising': 6479, 'zac': 6480, 'chickened': 6481, 'woould': 6482, 'westlife': 6483, 'unbreakable': 6484, 'untamed': 6485, 'unkempt': 6486, 'gloucesterroad': 6487, 'uup': 6488, 'parties': 6489, 'probs': 6490, 'doinat': 6491, 'leg': 6492, 'musta': 6493, 'overdid': 6494, 'bffs': 6495, 'carly': 6496, 'refund': 6497, 'yf': 6498, 'kickboxing': 6499, 'settling': 6500, 'happenin': 6501, 'ola': 6502, 'appeal': 6503, 'thriller': 6504, 'director': 6505, 'famous': 6506, 'unconditionally': 6507, 'temper': 6508, 'arranging': 6509, 'describe': 6510, 'voted': 6511, 'audiitions': 6512, 'relocate': 6513, 'dats': 6514, 'dogg': 6515, 'sliding': 6516, 'funeral': 6517, 'kvb': 6518, 'nte': 6519, 'spaces': 6520, 'embassy': 6521, 'scorable': 6522, 'changing': 6523, 'diapers': 6524, 'owed': 6525, 'allo': 6526, 'braved': 6527, 'triumphed': 6528, 'arr': 6529, 'oscar': 6530, 'answerin': 6531, 'juliana': 6532, 'motivating': 6533, 'sharing': 6534, 'thkin': 6535, 'parco': 6536, 'nb': 6537, 'univ': 6538, 'butting': 6539, 'vs': 6540, 'ax': 6541, 'optimistic': 6542, 'epi': 6543, 'pdate': 6544, 'yhl': 6545, 'kane': 6546, 'shud': 6547, 'eviction': 6548, 'spiral': 6549, 'michael': 6550, 'riddance': 6551, 'restocked': 6552, 'awww': 6553, 'charming': 6554, 'protect': 6555, 'sib': 6556, 'sensitive': 6557, 'passwords': 6558, 'robs': 6559, 'avenge': 6560, 'sozi': 6561, 'culdnt': 6562, 'talkbut': 6563, 'wannatell': 6564, 'wenwecan': 6565, 'correctly': 6566, 'sized': 6567, 'annoyin': 6568, 'mallika': 6569, 'sherawat': 6570, 'throws': 6571, 'falls': 6572, 'brothers': 6573, 'misplaced': 6574, 'symptoms': 6575, 'capital': 6576, 'fixedline': 6577, 'guessin': 6578, 'shouting': 6579, 'simpsons': 6580, 'band': 6581, 'prominent': 6582, 'bite': 6583, 'cheek': 6584, 'sexiest': 6585, 'dirtiest': 6586, 'highest': 6587, 'maximum': 6588, 'bids': 6589, 'rayman': 6590, 'golf': 6591, 'activ': 6592, 'termsapply': 6593, 'hu': 6594, 'female': 6595, 'navigate': 6596, 'choosing': 6597, 'require': 6598, 'guidance': 6599, 'thout': 6600, 'panasonic': 6601, 'bluetoothhdset': 6602, 'doublemins': 6603, 'doubletxt': 6604, 'opening': 6605, 'gprs': 6606, 'maintaining': 6607, 'ffffuuuuuuu': 6608, 'deficient': 6609, 'non': 6610, 'goigng': 6611, 'perfume': 6612, 'olave': 6613, 'mandara': 6614, 'trishul': 6615, 'sterm': 6616, 'resolved': 6617, 'report': 6618, 'okies': 6619, 'batt': 6620, 'dom': 6621, 'brainy': 6622, 'textbook': 6623, 'algorithms': 6624, 'edition': 6625, 'tg': 6626, 'wavering': 6627, 'decisions': 6628, 'heal': 6629, 'westshore': 6630, 'thnx': 6631, 'bunch': 6632, 'lotto': 6633, 'supplies': 6634, 'dehydrated': 6635, 'bani': 6636, 'lasting': 6637, 'cro': 6638, 'mahal': 6639, 'glorious': 6640, 'finds': 6641, 'coaxing': 6642, 'images': 6643, 'fond': 6644, 'souveniers': 6645, 'cougar': 6646, 'ujhhhhhhh': 6647, 'sandiago': 6648, 'parantella': 6649, 'esaplanade': 6650, 'meetin': 6651, 'dabooks': 6652, 'musthu': 6653, 'sooo': 6654, 'happiest': 6655, 'characters': 6656, 'differences': 6657, 'bishan': 6658, 'nearer': 6659, 'grown': 6660, 'printing': 6661, 'handing': 6662, 'db': 6663, 'wi': 6664, 'nz': 6665, 'comingdown': 6666, 'cast': 6667, 'nudist': 6668, 'themed': 6669, 'endowed': 6670, 'thmarch': 6671, 'availa': 6672, 'young': 6673, 'lion': 6674, 'gastroenteritis': 6675, 'replace': 6676, 'temp': 6677, 'reduce': 6678, 'limiting': 6679, 'illness': 6680, 'costume': 6681, 'tops': 6682, 'scarcasim': 6683, 'dessert': 6684, 'bbq': 6685, 'playin': 6686, 'wrongly': 6687, 'topic': 6688, 'level': 6689, 'mb': 6690, 'audrie': 6691, 'autocorrect': 6692, 'loxahatchee': 6693, 'burning': 6694, 'strips': 6695, 'postal': 6696, 'checkmate': 6697, 'chess': 6698, 'persian': 6699, 'phrase': 6700, 'shah': 6701, 'maat': 6702, 'intention': 6703, 'visitors': 6704, 'velachery': 6705, 'lingerie': 6706, 'bridal': 6707, 'petticoatdreams': 6708, 'weddingfriend': 6709, 'fredericksburg': 6710, 'blowing': 6711, 'pax': 6712, 'deposit': 6713}\n"
          ]
        }
      ]
    },
    {
      "cell_type": "code",
      "source": [
        "from tensorflow.keras.preprocessing.sequence import pad_sequences"
      ],
      "metadata": {
        "id": "G66IFAiO23x7"
      },
      "execution_count": 28,
      "outputs": []
    },
    {
      "cell_type": "code",
      "source": [
        "pad_length = 200\n",
        "\n",
        "size = len(tokenize.word_index) + 1\n",
        "print(size)"
      ],
      "metadata": {
        "colab": {
          "base_uri": "https://localhost:8080/"
        },
        "id": "y0YcIvmf23vB",
        "outputId": "70bbee35-8435-42b0-f44f-442b209e4a40"
      },
      "execution_count": 29,
      "outputs": [
        {
          "output_type": "stream",
          "name": "stdout",
          "text": [
            "6714\n"
          ]
        }
      ]
    },
    {
      "cell_type": "code",
      "source": [
        "x_train = pad_sequences(x_train, padding='pre', maxlen=pad_length)\n",
        "x_test = pad_sequences(x_test, padding='pre', maxlen=pad_length)\n",
        "\n",
        "print(x_train,'\\n')\n",
        "print(x_test)"
      ],
      "metadata": {
        "colab": {
          "base_uri": "https://localhost:8080/"
        },
        "id": "X_JB7GX723sL",
        "outputId": "f291d797-2acc-4bc4-a791-c35d8ac50049"
      },
      "execution_count": 30,
      "outputs": [
        {
          "output_type": "stream",
          "name": "stdout",
          "text": [
            "[[   0    0    0 ... 3293   29  195]\n",
            " [   0    0    0 ...   28   26 1296]\n",
            " [   0    0    0 ...    2   39   77]\n",
            " ...\n",
            " [   0    0    0 ...  967   20 6710]\n",
            " [   0    0    0 ...  334  371  169]\n",
            " [   0    0    0 ... 6713   76  248]] \n",
            "\n",
            "[[   0    0    0 ...   14  299 1158]\n",
            " [   0    0    0 ...  107    8  314]\n",
            " [   0    0    0 ...    2 1431  737]\n",
            " ...\n",
            " [   0    0    0 ...  139  461    6]\n",
            " [   0    0    0 ...  108    4  260]\n",
            " [   0    0    0 ...  800   10   77]]\n"
          ]
        }
      ]
    },
    {
      "cell_type": "code",
      "source": [
        "#!wget -N http://nlp.stanford.edu/data/glove.6B.zip"
      ],
      "metadata": {
        "id": "Uk--tA4qMOxf"
      },
      "execution_count": null,
      "outputs": []
    },
    {
      "cell_type": "code",
      "source": [
        "#!unzip -n glove.6B.zip"
      ],
      "metadata": {
        "id": "WQ31_fNUMOu6"
      },
      "execution_count": null,
      "outputs": []
    },
    {
      "cell_type": "code",
      "source": [
        "glove_300 = pd.read_csv('glove.6B.300d.txt', sep=\" \", quoting=3, header=None, index_col=0)"
      ],
      "metadata": {
        "id": "Ulrwp9hHMH_w"
      },
      "execution_count": 31,
      "outputs": []
    },
    {
      "cell_type": "code",
      "source": [
        "glove_300.head()"
      ],
      "metadata": {
        "colab": {
          "base_uri": "https://localhost:8080/",
          "height": 331
        },
        "id": "5t7UWbuxMH9E",
        "outputId": "9d223c42-de14-414f-9533-43854030c9aa"
      },
      "execution_count": 32,
      "outputs": [
        {
          "output_type": "execute_result",
          "data": {
            "text/plain": [
              "          1         2         3         4         5         6         7    \\\n",
              "0                                                                           \n",
              "the  0.046560  0.213180 -0.007436 -0.458540 -0.035639  0.236430 -0.288360   \n",
              ",   -0.255390 -0.257230  0.131690 -0.042688  0.218170 -0.022702 -0.178540   \n",
              ".   -0.125590  0.013630  0.103060 -0.101230  0.098128  0.136270 -0.107210   \n",
              "of  -0.076947 -0.021211  0.212710 -0.722320 -0.139880 -0.122340 -0.175210   \n",
              "to  -0.257560 -0.057132 -0.671900 -0.380820 -0.364210 -0.082155 -0.010955   \n",
              "\n",
              "          8         9       10   ...       291       292       293       294  \\\n",
              "0                                ...                                           \n",
              "the  0.215210 -0.134860 -1.6413  ... -0.013064 -0.296860 -0.079913  0.195000   \n",
              ",    0.107560  0.058936 -1.3854  ...  0.075968 -0.014359 -0.073794  0.221760   \n",
              ".    0.236970  0.328700 -1.6785  ...  0.060148 -0.156190 -0.119490  0.234450   \n",
              "of   0.121370 -0.070866 -1.5721  ... -0.366730 -0.386030  0.302900  0.015747   \n",
              "to  -0.082047  0.460560 -1.8477  ... -0.012806 -0.597070  0.317340 -0.252670   \n",
              "\n",
              "          295       296       297       298       299       300  \n",
              "0                                                                \n",
              "the  0.031549  0.285060 -0.087461  0.009061 -0.209890  0.053913  \n",
              ",    0.146520  0.566860  0.053307 -0.232900 -0.122260  0.354990  \n",
              ".    0.081367  0.246180 -0.152420 -0.342240 -0.022394  0.136840  \n",
              "of   0.340360  0.478410  0.068617  0.183510 -0.291830 -0.046533  \n",
              "to   0.543840  0.063007 -0.049795 -0.160430  0.046744 -0.070621  \n",
              "\n",
              "[5 rows x 300 columns]"
            ],
            "text/html": [
              "\n",
              "  <div id=\"df-550abf53-f510-4312-a220-abe43c9f7002\">\n",
              "    <div class=\"colab-df-container\">\n",
              "      <div>\n",
              "<style scoped>\n",
              "    .dataframe tbody tr th:only-of-type {\n",
              "        vertical-align: middle;\n",
              "    }\n",
              "\n",
              "    .dataframe tbody tr th {\n",
              "        vertical-align: top;\n",
              "    }\n",
              "\n",
              "    .dataframe thead th {\n",
              "        text-align: right;\n",
              "    }\n",
              "</style>\n",
              "<table border=\"1\" class=\"dataframe\">\n",
              "  <thead>\n",
              "    <tr style=\"text-align: right;\">\n",
              "      <th></th>\n",
              "      <th>1</th>\n",
              "      <th>2</th>\n",
              "      <th>3</th>\n",
              "      <th>4</th>\n",
              "      <th>5</th>\n",
              "      <th>6</th>\n",
              "      <th>7</th>\n",
              "      <th>8</th>\n",
              "      <th>9</th>\n",
              "      <th>10</th>\n",
              "      <th>...</th>\n",
              "      <th>291</th>\n",
              "      <th>292</th>\n",
              "      <th>293</th>\n",
              "      <th>294</th>\n",
              "      <th>295</th>\n",
              "      <th>296</th>\n",
              "      <th>297</th>\n",
              "      <th>298</th>\n",
              "      <th>299</th>\n",
              "      <th>300</th>\n",
              "    </tr>\n",
              "    <tr>\n",
              "      <th>0</th>\n",
              "      <th></th>\n",
              "      <th></th>\n",
              "      <th></th>\n",
              "      <th></th>\n",
              "      <th></th>\n",
              "      <th></th>\n",
              "      <th></th>\n",
              "      <th></th>\n",
              "      <th></th>\n",
              "      <th></th>\n",
              "      <th></th>\n",
              "      <th></th>\n",
              "      <th></th>\n",
              "      <th></th>\n",
              "      <th></th>\n",
              "      <th></th>\n",
              "      <th></th>\n",
              "      <th></th>\n",
              "      <th></th>\n",
              "      <th></th>\n",
              "      <th></th>\n",
              "    </tr>\n",
              "  </thead>\n",
              "  <tbody>\n",
              "    <tr>\n",
              "      <th>the</th>\n",
              "      <td>0.046560</td>\n",
              "      <td>0.213180</td>\n",
              "      <td>-0.007436</td>\n",
              "      <td>-0.458540</td>\n",
              "      <td>-0.035639</td>\n",
              "      <td>0.236430</td>\n",
              "      <td>-0.288360</td>\n",
              "      <td>0.215210</td>\n",
              "      <td>-0.134860</td>\n",
              "      <td>-1.6413</td>\n",
              "      <td>...</td>\n",
              "      <td>-0.013064</td>\n",
              "      <td>-0.296860</td>\n",
              "      <td>-0.079913</td>\n",
              "      <td>0.195000</td>\n",
              "      <td>0.031549</td>\n",
              "      <td>0.285060</td>\n",
              "      <td>-0.087461</td>\n",
              "      <td>0.009061</td>\n",
              "      <td>-0.209890</td>\n",
              "      <td>0.053913</td>\n",
              "    </tr>\n",
              "    <tr>\n",
              "      <th>,</th>\n",
              "      <td>-0.255390</td>\n",
              "      <td>-0.257230</td>\n",
              "      <td>0.131690</td>\n",
              "      <td>-0.042688</td>\n",
              "      <td>0.218170</td>\n",
              "      <td>-0.022702</td>\n",
              "      <td>-0.178540</td>\n",
              "      <td>0.107560</td>\n",
              "      <td>0.058936</td>\n",
              "      <td>-1.3854</td>\n",
              "      <td>...</td>\n",
              "      <td>0.075968</td>\n",
              "      <td>-0.014359</td>\n",
              "      <td>-0.073794</td>\n",
              "      <td>0.221760</td>\n",
              "      <td>0.146520</td>\n",
              "      <td>0.566860</td>\n",
              "      <td>0.053307</td>\n",
              "      <td>-0.232900</td>\n",
              "      <td>-0.122260</td>\n",
              "      <td>0.354990</td>\n",
              "    </tr>\n",
              "    <tr>\n",
              "      <th>.</th>\n",
              "      <td>-0.125590</td>\n",
              "      <td>0.013630</td>\n",
              "      <td>0.103060</td>\n",
              "      <td>-0.101230</td>\n",
              "      <td>0.098128</td>\n",
              "      <td>0.136270</td>\n",
              "      <td>-0.107210</td>\n",
              "      <td>0.236970</td>\n",
              "      <td>0.328700</td>\n",
              "      <td>-1.6785</td>\n",
              "      <td>...</td>\n",
              "      <td>0.060148</td>\n",
              "      <td>-0.156190</td>\n",
              "      <td>-0.119490</td>\n",
              "      <td>0.234450</td>\n",
              "      <td>0.081367</td>\n",
              "      <td>0.246180</td>\n",
              "      <td>-0.152420</td>\n",
              "      <td>-0.342240</td>\n",
              "      <td>-0.022394</td>\n",
              "      <td>0.136840</td>\n",
              "    </tr>\n",
              "    <tr>\n",
              "      <th>of</th>\n",
              "      <td>-0.076947</td>\n",
              "      <td>-0.021211</td>\n",
              "      <td>0.212710</td>\n",
              "      <td>-0.722320</td>\n",
              "      <td>-0.139880</td>\n",
              "      <td>-0.122340</td>\n",
              "      <td>-0.175210</td>\n",
              "      <td>0.121370</td>\n",
              "      <td>-0.070866</td>\n",
              "      <td>-1.5721</td>\n",
              "      <td>...</td>\n",
              "      <td>-0.366730</td>\n",
              "      <td>-0.386030</td>\n",
              "      <td>0.302900</td>\n",
              "      <td>0.015747</td>\n",
              "      <td>0.340360</td>\n",
              "      <td>0.478410</td>\n",
              "      <td>0.068617</td>\n",
              "      <td>0.183510</td>\n",
              "      <td>-0.291830</td>\n",
              "      <td>-0.046533</td>\n",
              "    </tr>\n",
              "    <tr>\n",
              "      <th>to</th>\n",
              "      <td>-0.257560</td>\n",
              "      <td>-0.057132</td>\n",
              "      <td>-0.671900</td>\n",
              "      <td>-0.380820</td>\n",
              "      <td>-0.364210</td>\n",
              "      <td>-0.082155</td>\n",
              "      <td>-0.010955</td>\n",
              "      <td>-0.082047</td>\n",
              "      <td>0.460560</td>\n",
              "      <td>-1.8477</td>\n",
              "      <td>...</td>\n",
              "      <td>-0.012806</td>\n",
              "      <td>-0.597070</td>\n",
              "      <td>0.317340</td>\n",
              "      <td>-0.252670</td>\n",
              "      <td>0.543840</td>\n",
              "      <td>0.063007</td>\n",
              "      <td>-0.049795</td>\n",
              "      <td>-0.160430</td>\n",
              "      <td>0.046744</td>\n",
              "      <td>-0.070621</td>\n",
              "    </tr>\n",
              "  </tbody>\n",
              "</table>\n",
              "<p>5 rows × 300 columns</p>\n",
              "</div>\n",
              "      <button class=\"colab-df-convert\" onclick=\"convertToInteractive('df-550abf53-f510-4312-a220-abe43c9f7002')\"\n",
              "              title=\"Convert this dataframe to an interactive table.\"\n",
              "              style=\"display:none;\">\n",
              "        \n",
              "  <svg xmlns=\"http://www.w3.org/2000/svg\" height=\"24px\"viewBox=\"0 0 24 24\"\n",
              "       width=\"24px\">\n",
              "    <path d=\"M0 0h24v24H0V0z\" fill=\"none\"/>\n",
              "    <path d=\"M18.56 5.44l.94 2.06.94-2.06 2.06-.94-2.06-.94-.94-2.06-.94 2.06-2.06.94zm-11 1L8.5 8.5l.94-2.06 2.06-.94-2.06-.94L8.5 2.5l-.94 2.06-2.06.94zm10 10l.94 2.06.94-2.06 2.06-.94-2.06-.94-.94-2.06-.94 2.06-2.06.94z\"/><path d=\"M17.41 7.96l-1.37-1.37c-.4-.4-.92-.59-1.43-.59-.52 0-1.04.2-1.43.59L10.3 9.45l-7.72 7.72c-.78.78-.78 2.05 0 2.83L4 21.41c.39.39.9.59 1.41.59.51 0 1.02-.2 1.41-.59l7.78-7.78 2.81-2.81c.8-.78.8-2.07 0-2.86zM5.41 20L4 18.59l7.72-7.72 1.47 1.35L5.41 20z\"/>\n",
              "  </svg>\n",
              "      </button>\n",
              "      \n",
              "  <style>\n",
              "    .colab-df-container {\n",
              "      display:flex;\n",
              "      flex-wrap:wrap;\n",
              "      gap: 12px;\n",
              "    }\n",
              "\n",
              "    .colab-df-convert {\n",
              "      background-color: #E8F0FE;\n",
              "      border: none;\n",
              "      border-radius: 50%;\n",
              "      cursor: pointer;\n",
              "      display: none;\n",
              "      fill: #1967D2;\n",
              "      height: 32px;\n",
              "      padding: 0 0 0 0;\n",
              "      width: 32px;\n",
              "    }\n",
              "\n",
              "    .colab-df-convert:hover {\n",
              "      background-color: #E2EBFA;\n",
              "      box-shadow: 0px 1px 2px rgba(60, 64, 67, 0.3), 0px 1px 3px 1px rgba(60, 64, 67, 0.15);\n",
              "      fill: #174EA6;\n",
              "    }\n",
              "\n",
              "    [theme=dark] .colab-df-convert {\n",
              "      background-color: #3B4455;\n",
              "      fill: #D2E3FC;\n",
              "    }\n",
              "\n",
              "    [theme=dark] .colab-df-convert:hover {\n",
              "      background-color: #434B5C;\n",
              "      box-shadow: 0px 1px 3px 1px rgba(0, 0, 0, 0.15);\n",
              "      filter: drop-shadow(0px 1px 2px rgba(0, 0, 0, 0.3));\n",
              "      fill: #FFFFFF;\n",
              "    }\n",
              "  </style>\n",
              "\n",
              "      <script>\n",
              "        const buttonEl =\n",
              "          document.querySelector('#df-550abf53-f510-4312-a220-abe43c9f7002 button.colab-df-convert');\n",
              "        buttonEl.style.display =\n",
              "          google.colab.kernel.accessAllowed ? 'block' : 'none';\n",
              "\n",
              "        async function convertToInteractive(key) {\n",
              "          const element = document.querySelector('#df-550abf53-f510-4312-a220-abe43c9f7002');\n",
              "          const dataTable =\n",
              "            await google.colab.kernel.invokeFunction('convertToInteractive',\n",
              "                                                     [key], {});\n",
              "          if (!dataTable) return;\n",
              "\n",
              "          const docLinkHtml = 'Like what you see? Visit the ' +\n",
              "            '<a target=\"_blank\" href=https://colab.research.google.com/notebooks/data_table.ipynb>data table notebook</a>'\n",
              "            + ' to learn more about interactive tables.';\n",
              "          element.innerHTML = '';\n",
              "          dataTable['output_type'] = 'display_data';\n",
              "          await google.colab.output.renderOutput(dataTable, element);\n",
              "          const docLink = document.createElement('div');\n",
              "          docLink.innerHTML = docLinkHtml;\n",
              "          element.appendChild(docLink);\n",
              "        }\n",
              "      </script>\n",
              "    </div>\n",
              "  </div>\n",
              "  "
            ]
          },
          "metadata": {},
          "execution_count": 32
        }
      ]
    },
    {
      "cell_type": "code",
      "source": [
        "print(glove_300.index.values.take(list(range(0, 100, 10))))\n",
        "print(glove_300.index.values[:10])"
      ],
      "metadata": {
        "colab": {
          "base_uri": "https://localhost:8080/"
        },
        "id": "TI5NKhRmMH6R",
        "outputId": "b8ec8799-a66d-4f22-8ee4-052000541079"
      },
      "execution_count": 33,
      "outputs": [
        {
          "output_type": "stream",
          "name": "stdout",
          "text": [
            "['the' 'for' 'it' 'be' 'had' 'new' 'up' \"n't\" '$' 'president']\n",
            "['the' ',' '.' 'of' 'to' 'and' 'in' 'a' '\"' \"'s\"]\n"
          ]
        }
      ]
    },
    {
      "cell_type": "code",
      "source": [
        "embeddings_dictionary = {key: val.values for key, val in glove_300.T.items()}"
      ],
      "metadata": {
        "id": "NIeFn3aweedB"
      },
      "execution_count": 34,
      "outputs": []
    },
    {
      "cell_type": "code",
      "source": [
        "embeddings_dictionary['president']"
      ],
      "metadata": {
        "colab": {
          "base_uri": "https://localhost:8080/"
        },
        "id": "7lqUNQ8_eeaA",
        "outputId": "fe72978d-dc59-4efb-8693-d13d12212ef2"
      },
      "execution_count": 35,
      "outputs": [
        {
          "output_type": "execute_result",
          "data": {
            "text/plain": [
              "array([ 4.3665e-01,  1.8793e-01, -1.7022e-01, -1.0869e-01,  1.9476e-01,\n",
              "       -2.4502e-01, -7.7660e-01, -2.5813e-01,  4.3630e-01, -2.0884e+00,\n",
              "       -9.6794e-03,  1.4941e-01,  7.2166e-02, -6.5154e-01, -3.0189e-01,\n",
              "        8.5747e-01, -3.1906e-02, -4.5204e-01,  8.4932e-02, -4.1816e-01,\n",
              "        2.6820e-01, -4.5985e-02,  8.0586e-01, -1.3507e-01, -4.7616e-01,\n",
              "        1.4891e-01,  2.3255e-01,  3.2640e-01,  2.1525e-01, -4.9949e-01,\n",
              "        4.6968e-01,  1.5521e-01,  4.8574e-01,  3.3412e-01, -1.4695e+00,\n",
              "        6.2657e-02,  1.9865e-01, -2.9627e-01, -3.4174e-02, -3.9326e-01,\n",
              "        4.5055e-02,  2.7545e-01, -2.3320e-01, -4.9622e-02, -3.3297e-01,\n",
              "       -4.0912e-01, -2.4932e-01, -3.8237e-01,  8.8357e-02, -3.8397e-01,\n",
              "       -2.0878e-01,  1.2368e-03,  3.4651e-01,  1.0924e+00,  5.1525e-01,\n",
              "        2.9204e-01, -2.0349e-01,  4.0670e-01,  7.7727e-01, -7.7313e-02,\n",
              "       -2.3235e-02,  1.2527e-01,  4.2712e-01, -2.3133e-01,  4.2311e-01,\n",
              "       -4.6994e-01, -3.7960e-01,  6.0969e-01, -3.7170e-01, -1.3120e-01,\n",
              "        1.5344e-01,  1.6609e-01, -4.7717e-01,  3.4073e-01,  1.9271e-01,\n",
              "       -5.2350e-01, -1.0370e-01,  2.6739e-01, -6.5121e-02,  1.0389e-01,\n",
              "        7.4172e-03, -2.0989e-01,  1.0296e+00,  6.2499e-01,  1.0013e-01,\n",
              "        1.7658e-01, -5.4048e-01,  6.7968e-01, -1.6671e-01, -1.0488e-01,\n",
              "       -3.4262e-01, -5.8698e-01, -8.5952e-01,  8.8881e-02, -3.2902e-05,\n",
              "        7.5139e-02, -1.7108e-01,  5.6085e-01,  1.8821e-01, -2.1828e-01,\n",
              "        3.6976e-01, -6.3304e-01,  1.5313e-01,  3.8034e-01, -2.0838e-01,\n",
              "        4.0355e-01,  6.6327e-02, -6.2468e-01,  3.1332e-01,  1.7713e-02,\n",
              "        3.3675e-01,  7.3247e-02, -4.2814e-01,  2.2235e-01,  6.3945e-01,\n",
              "        2.2559e-01, -6.5049e-02, -7.2179e-01,  1.6574e-01, -9.9642e-02,\n",
              "       -2.5327e-01,  6.0604e-02, -1.5080e-02, -5.0173e-01,  1.0920e-01,\n",
              "       -2.8777e-01,  4.3032e-01,  2.5513e-01,  2.4696e-01,  5.2616e-01,\n",
              "       -1.0741e+00,  2.9500e-01, -1.8752e-01, -1.9558e-01, -9.7544e-02,\n",
              "       -1.2947e-01, -1.3892e-01, -9.6884e-02,  1.7863e-01,  1.3198e-01,\n",
              "       -2.2575e-01, -2.9770e-01,  4.5885e-02,  4.0300e-01, -2.1635e-01,\n",
              "        4.3531e-02, -1.0648e-01, -7.6258e-01, -5.0216e-01, -3.0577e-01,\n",
              "        1.2029e+00, -5.0100e-02,  5.2683e-01,  2.6516e-01,  5.1376e-01,\n",
              "       -2.2363e-01,  4.3115e-01,  7.9391e-02,  4.6038e-01, -1.3124e-01,\n",
              "        5.3734e-01,  5.7656e-01,  3.5664e-01,  5.0244e-01, -5.5748e-01,\n",
              "       -4.9756e-01, -2.0605e-01, -2.3667e-01,  1.2107e-01,  5.1437e-01,\n",
              "        9.7478e-02,  8.4950e-02, -9.9625e-01, -9.1041e-02,  4.2855e-01,\n",
              "        8.3959e-01, -9.2406e-03,  8.1366e-02, -4.3783e-01,  5.4968e-01,\n",
              "        2.8865e-01,  4.6515e-01,  4.3497e-01, -2.9785e-01, -4.0674e-01,\n",
              "        4.8918e-01, -8.5563e-01,  1.4251e-01, -2.5367e-01,  2.1165e-01,\n",
              "       -4.0318e-03, -2.3372e-01,  1.5675e-01, -7.1197e-01, -1.5919e-01,\n",
              "        1.0081e-01,  8.9967e-01, -7.7928e-02,  4.6789e-01,  3.1028e-01,\n",
              "        5.9796e-01, -4.9359e-01,  4.4960e-01, -1.8579e-01,  5.0421e-01,\n",
              "       -7.9484e-01,  6.4198e-01, -1.3685e-01, -1.6068e-02, -8.3894e-01,\n",
              "        5.9606e-01, -6.2083e-01,  5.7545e-01, -5.0092e-02,  4.4600e-01,\n",
              "       -2.5124e-02,  2.5411e-01, -6.8774e-01, -4.9954e-01, -3.8740e-01,\n",
              "        6.6048e-01, -3.0628e-02, -1.1134e-01,  1.0664e-01,  3.5612e-01,\n",
              "        4.3320e-03,  2.8770e-01,  1.0258e-01, -6.2883e-01,  2.3150e-01,\n",
              "        4.3142e-01,  2.3844e-02,  3.0490e-01,  7.3156e-01,  1.9849e-01,\n",
              "       -9.7109e-01, -1.5122e-01, -7.8800e-01,  4.1911e-01, -1.5073e-01,\n",
              "       -2.1868e-02,  4.0881e-01,  5.7548e-02, -3.2602e-01,  9.9069e-02,\n",
              "        3.4200e-02,  1.2749e-01, -5.7361e-01,  3.5564e-01, -2.0312e-01,\n",
              "        9.2886e-01, -1.8930e-01,  1.2403e-01, -3.1687e-01,  3.7841e-01,\n",
              "       -6.8967e-02,  1.5161e-01, -5.7127e-01,  3.2736e-01, -4.7846e-01,\n",
              "       -6.0216e-01, -6.9381e-02, -2.2023e-01, -4.1122e-01,  5.3483e-01,\n",
              "        3.8502e-01,  1.5791e-02,  7.8551e-01, -1.2136e-01, -9.8496e-02,\n",
              "        1.3987e-01,  1.3828e-01,  2.3389e-01, -3.7980e-01,  5.2184e-01,\n",
              "        3.0150e-01, -1.3715e+00, -2.3495e-02,  1.2326e+00, -6.5452e-01,\n",
              "       -2.1795e-01, -5.8907e-01,  2.0631e-01,  2.9072e-02,  8.4643e-02,\n",
              "        5.8652e-01, -1.3796e-01,  3.5852e-01,  7.5449e-02, -3.7824e-01,\n",
              "        2.6713e-01, -6.7144e-02,  5.2079e-01, -3.1357e-01, -4.5889e-01,\n",
              "        4.9779e-01,  7.4689e-02,  3.2894e-02, -5.2144e-01,  2.2295e-01])"
            ]
          },
          "metadata": {},
          "execution_count": 35
        }
      ]
    },
    {
      "cell_type": "code",
      "source": [
        "embeddings_matrix = np.zeros((size, 300))\n",
        "\n",
        "for word, index in tokenize.word_index.items():\n",
        "  emb_vector = embeddings_dictionary.get(word)\n",
        "  if emb_vector is not None:\n",
        "    embeddings_matrix[index] = emb_vector\n",
        "     \n"
      ],
      "metadata": {
        "id": "SBpao9-YeeXe"
      },
      "execution_count": 36,
      "outputs": []
    },
    {
      "cell_type": "code",
      "source": [
        "embeddings_matrix.shape"
      ],
      "metadata": {
        "colab": {
          "base_uri": "https://localhost:8080/"
        },
        "id": "_2JNQvJKeeUs",
        "outputId": "5df6f0f9-fc0f-4f8d-efed-31ff8fbd3673"
      },
      "execution_count": 37,
      "outputs": [
        {
          "output_type": "execute_result",
          "data": {
            "text/plain": [
              "(6714, 300)"
            ]
          },
          "metadata": {},
          "execution_count": 37
        }
      ]
    },
    {
      "cell_type": "code",
      "source": [
        "embeddings_matrix[0].shape"
      ],
      "metadata": {
        "colab": {
          "base_uri": "https://localhost:8080/"
        },
        "id": "wrxG5riMeeR7",
        "outputId": "4e2acb52-2e84-474c-afcc-aa7f26b09295"
      },
      "execution_count": 38,
      "outputs": [
        {
          "output_type": "execute_result",
          "data": {
            "text/plain": [
              "(300,)"
            ]
          },
          "metadata": {},
          "execution_count": 38
        }
      ]
    },
    {
      "cell_type": "code",
      "source": [
        "embeddings_matrix[:5]"
      ],
      "metadata": {
        "colab": {
          "base_uri": "https://localhost:8080/"
        },
        "id": "inZijVYoeePT",
        "outputId": "de8f2de8-8188-4ce1-824e-e27f0674393c"
      },
      "execution_count": 39,
      "outputs": [
        {
          "output_type": "execute_result",
          "data": {
            "text/plain": [
              "array([[ 0.      ,  0.      ,  0.      , ...,  0.      ,  0.      ,\n",
              "         0.      ],\n",
              "       [-0.13292 ,  0.16985 , -0.1436  , ..., -0.23778 ,  0.14766 ,\n",
              "         0.62902 ],\n",
              "       [-0.25756 , -0.057132, -0.6719  , ..., -0.16043 ,  0.046744,\n",
              "        -0.070621],\n",
              "       [-0.28427 ,  0.047977, -0.15062 , ..., -0.090071,  0.016922,\n",
              "         0.29278 ],\n",
              "       [-0.29712 ,  0.094049, -0.096662, ...,  0.059717, -0.22853 ,\n",
              "         0.29602 ]])"
            ]
          },
          "metadata": {},
          "execution_count": 39
        }
      ]
    },
    {
      "cell_type": "code",
      "source": [
        "model = tf.keras.Sequential([\n",
        "    tf.keras.layers.Embedding(input_dim = size, output_dim = 300,\n",
        "                              weights=[embeddings_matrix],input_length=pad_length,\n",
        "                              trainable=False),\n",
        "    tf.keras.layers.GlobalAveragePooling1D(),\n",
        "    tf.keras.layers.Dense(64, activation='relu'),\n",
        "    tf.keras.layers.Dropout(rate=0.8),\n",
        "    tf.keras.layers.Dense(32, activation='relu'),\n",
        "    tf.keras.layers.Dropout(rate=0.5),\n",
        "    tf.keras.layers.Dense(18, activation='tanh'),\n",
        "    tf.keras.layers.Dropout(rate=0.3),\n",
        "    tf.keras.layers.Dense(6, activation='tanh'),\n",
        "    tf.keras.layers.Dense(1, activation='sigmoid')\n",
        "])"
      ],
      "metadata": {
        "id": "NoNykr_z23pW"
      },
      "execution_count": 49,
      "outputs": []
    },
    {
      "cell_type": "code",
      "source": [
        "model.compile(loss='binary_crossentropy',optimizer='adam',metrics=['accuracy'])"
      ],
      "metadata": {
        "id": "cAwPj62723mV"
      },
      "execution_count": 50,
      "outputs": []
    },
    {
      "cell_type": "code",
      "source": [
        "model.summary()"
      ],
      "metadata": {
        "colab": {
          "base_uri": "https://localhost:8080/"
        },
        "id": "Z9nyetIM23jh",
        "outputId": "fca7553b-be89-45f5-fd0c-a171132d64c6"
      },
      "execution_count": 51,
      "outputs": [
        {
          "output_type": "stream",
          "name": "stdout",
          "text": [
            "Model: \"sequential_1\"\n",
            "_________________________________________________________________\n",
            " Layer (type)                Output Shape              Param #   \n",
            "=================================================================\n",
            " embedding_1 (Embedding)     (None, 200, 300)          2014200   \n",
            "                                                                 \n",
            " global_average_pooling1d_1   (None, 300)              0         \n",
            " (GlobalAveragePooling1D)                                        \n",
            "                                                                 \n",
            " dense_5 (Dense)             (None, 64)                19264     \n",
            "                                                                 \n",
            " dropout_3 (Dropout)         (None, 64)                0         \n",
            "                                                                 \n",
            " dense_6 (Dense)             (None, 32)                2080      \n",
            "                                                                 \n",
            " dropout_4 (Dropout)         (None, 32)                0         \n",
            "                                                                 \n",
            " dense_7 (Dense)             (None, 18)                594       \n",
            "                                                                 \n",
            " dropout_5 (Dropout)         (None, 18)                0         \n",
            "                                                                 \n",
            " dense_8 (Dense)             (None, 6)                 114       \n",
            "                                                                 \n",
            " dense_9 (Dense)             (None, 1)                 7         \n",
            "                                                                 \n",
            "=================================================================\n",
            "Total params: 2,036,259\n",
            "Trainable params: 22,059\n",
            "Non-trainable params: 2,014,200\n",
            "_________________________________________________________________\n"
          ]
        }
      ]
    },
    {
      "cell_type": "code",
      "source": [
        "history = model.fit(\n",
        "    x_train,\n",
        "    y_train,\n",
        "    batch_size=128,\n",
        "    epochs=30,\n",
        "    validation_split=0.30\n",
        ")"
      ],
      "metadata": {
        "colab": {
          "base_uri": "https://localhost:8080/"
        },
        "id": "EsKVD0bk23hB",
        "outputId": "06607d04-5e50-4345-f018-9974f21c0c40"
      },
      "execution_count": 52,
      "outputs": [
        {
          "output_type": "stream",
          "name": "stdout",
          "text": [
            "Epoch 1/30\n",
            "23/23 [==============================] - 1s 13ms/step - loss: 0.5843 - accuracy: 0.8485 - val_loss: 0.4523 - val_accuracy: 0.8756\n",
            "Epoch 2/30\n",
            "23/23 [==============================] - 0s 5ms/step - loss: 0.4323 - accuracy: 0.8636 - val_loss: 0.3610 - val_accuracy: 0.8756\n",
            "Epoch 3/30\n",
            "23/23 [==============================] - 0s 5ms/step - loss: 0.3825 - accuracy: 0.8636 - val_loss: 0.3092 - val_accuracy: 0.8756\n",
            "Epoch 4/30\n",
            "23/23 [==============================] - 0s 6ms/step - loss: 0.3403 - accuracy: 0.8636 - val_loss: 0.2567 - val_accuracy: 0.8756\n",
            "Epoch 5/30\n",
            "23/23 [==============================] - 0s 5ms/step - loss: 0.2943 - accuracy: 0.8636 - val_loss: 0.2174 - val_accuracy: 0.8756\n",
            "Epoch 6/30\n",
            "23/23 [==============================] - 0s 7ms/step - loss: 0.2536 - accuracy: 0.8636 - val_loss: 0.1864 - val_accuracy: 0.8756\n",
            "Epoch 7/30\n",
            "23/23 [==============================] - 0s 5ms/step - loss: 0.2260 - accuracy: 0.8701 - val_loss: 0.1654 - val_accuracy: 0.8764\n",
            "Epoch 8/30\n",
            "23/23 [==============================] - 0s 5ms/step - loss: 0.1993 - accuracy: 0.9053 - val_loss: 0.1436 - val_accuracy: 0.9713\n",
            "Epoch 9/30\n",
            "23/23 [==============================] - 0s 5ms/step - loss: 0.1786 - accuracy: 0.9347 - val_loss: 0.1256 - val_accuracy: 0.9737\n",
            "Epoch 10/30\n",
            "23/23 [==============================] - 0s 5ms/step - loss: 0.1600 - accuracy: 0.9511 - val_loss: 0.1091 - val_accuracy: 0.9737\n",
            "Epoch 11/30\n",
            "23/23 [==============================] - 0s 6ms/step - loss: 0.1389 - accuracy: 0.9610 - val_loss: 0.0998 - val_accuracy: 0.9697\n",
            "Epoch 12/30\n",
            "23/23 [==============================] - 0s 6ms/step - loss: 0.1320 - accuracy: 0.9593 - val_loss: 0.0931 - val_accuracy: 0.9721\n",
            "Epoch 13/30\n",
            "23/23 [==============================] - 0s 6ms/step - loss: 0.1243 - accuracy: 0.9641 - val_loss: 0.0869 - val_accuracy: 0.9737\n",
            "Epoch 14/30\n",
            "23/23 [==============================] - 0s 6ms/step - loss: 0.1230 - accuracy: 0.9655 - val_loss: 0.0844 - val_accuracy: 0.9753\n",
            "Epoch 15/30\n",
            "23/23 [==============================] - 0s 5ms/step - loss: 0.1193 - accuracy: 0.9665 - val_loss: 0.0821 - val_accuracy: 0.9753\n",
            "Epoch 16/30\n",
            "23/23 [==============================] - 0s 5ms/step - loss: 0.1132 - accuracy: 0.9706 - val_loss: 0.0800 - val_accuracy: 0.9769\n",
            "Epoch 17/30\n",
            "23/23 [==============================] - 0s 5ms/step - loss: 0.1115 - accuracy: 0.9675 - val_loss: 0.0793 - val_accuracy: 0.9753\n",
            "Epoch 18/30\n",
            "23/23 [==============================] - 0s 5ms/step - loss: 0.1086 - accuracy: 0.9675 - val_loss: 0.0769 - val_accuracy: 0.9769\n",
            "Epoch 19/30\n",
            "23/23 [==============================] - 0s 7ms/step - loss: 0.0966 - accuracy: 0.9730 - val_loss: 0.0785 - val_accuracy: 0.9753\n",
            "Epoch 20/30\n",
            "23/23 [==============================] - 0s 6ms/step - loss: 0.1002 - accuracy: 0.9720 - val_loss: 0.0771 - val_accuracy: 0.9769\n",
            "Epoch 21/30\n",
            "23/23 [==============================] - 0s 5ms/step - loss: 0.1016 - accuracy: 0.9696 - val_loss: 0.0782 - val_accuracy: 0.9769\n",
            "Epoch 22/30\n",
            "23/23 [==============================] - 0s 6ms/step - loss: 0.1034 - accuracy: 0.9699 - val_loss: 0.0762 - val_accuracy: 0.9745\n",
            "Epoch 23/30\n",
            "23/23 [==============================] - 0s 5ms/step - loss: 0.0952 - accuracy: 0.9723 - val_loss: 0.0713 - val_accuracy: 0.9785\n",
            "Epoch 24/30\n",
            "23/23 [==============================] - 0s 5ms/step - loss: 0.0912 - accuracy: 0.9730 - val_loss: 0.0706 - val_accuracy: 0.9801\n",
            "Epoch 25/30\n",
            "23/23 [==============================] - 0s 5ms/step - loss: 0.0913 - accuracy: 0.9713 - val_loss: 0.0734 - val_accuracy: 0.9793\n",
            "Epoch 26/30\n",
            "23/23 [==============================] - 0s 6ms/step - loss: 0.0926 - accuracy: 0.9726 - val_loss: 0.0710 - val_accuracy: 0.9809\n",
            "Epoch 27/30\n",
            "23/23 [==============================] - 0s 6ms/step - loss: 0.0848 - accuracy: 0.9761 - val_loss: 0.0686 - val_accuracy: 0.9793\n",
            "Epoch 28/30\n",
            "23/23 [==============================] - 0s 6ms/step - loss: 0.0878 - accuracy: 0.9747 - val_loss: 0.0708 - val_accuracy: 0.9761\n",
            "Epoch 29/30\n",
            "23/23 [==============================] - 0s 5ms/step - loss: 0.0787 - accuracy: 0.9764 - val_loss: 0.0709 - val_accuracy: 0.9793\n",
            "Epoch 30/30\n",
            "23/23 [==============================] - 0s 6ms/step - loss: 0.0850 - accuracy: 0.9750 - val_loss: 0.0701 - val_accuracy: 0.9769\n"
          ]
        }
      ]
    },
    {
      "cell_type": "code",
      "source": [
        "fig = plt.figure(figsize=(10, 4))\n",
        "plt.plot(history.history['accuracy'])\n",
        "plt.plot(history.history['val_accuracy'])\n",
        "plt.title('Accuracy of Model')\n",
        "plt.xlabel('Epochs')\n",
        "plt.ylabel('Accuracy')\n",
        "plt.legend(['train', 'test'], loc='lower right')\n",
        "plt.show()"
      ],
      "metadata": {
        "colab": {
          "base_uri": "https://localhost:8080/",
          "height": 295
        },
        "id": "TTc6jt5B23eK",
        "outputId": "0676aebf-d62f-44ca-d55f-ac5ebe7121ff"
      },
      "execution_count": 53,
      "outputs": [
        {
          "output_type": "display_data",
          "data": {
            "text/plain": [
              "<Figure size 720x288 with 1 Axes>"
            ],
            "image/png": "[encoded data removed]"
          },
          "metadata": {
            "needs_background": "light"
          }
        }
      ]
    },
    {
      "cell_type": "code",
      "source": [
        "fig = plt.figure(figsize=(10, 4))\n",
        "plt.plot(history.history['loss'])\n",
        "plt.plot(history.history['val_loss'])\n",
        "plt.title('Loss of Model')\n",
        "plt.xlabel('Epochs')\n",
        "plt.ylabel('Loss')\n",
        "plt.legend(['train', 'test'], loc='upper right')\n",
        "plt.show()\n"
      ],
      "metadata": {
        "colab": {
          "base_uri": "https://localhost:8080/",
          "height": 295
        },
        "id": "EuQ2Ln1R23bX",
        "outputId": "b406905e-0d69-4bd5-e8db-cef92d4da345"
      },
      "execution_count": 54,
      "outputs": [
        {
          "output_type": "display_data",
          "data": {
            "text/plain": [
              "<Figure size 720x288 with 1 Axes>"
            ],
            "image/png": "[encoded data removed]"
          },
          "metadata": {
            "needs_background": "light"
          }
        }
      ]
    },
    {
      "cell_type": "code",
      "source": [],
      "metadata": {
        "id": "VKKDe5zd23Yd"
      },
      "execution_count": null,
      "outputs": []
    },
    {
      "cell_type": "code",
      "source": [],
      "metadata": {
        "id": "1MZsaalZ23Vv"
      },
      "execution_count": null,
      "outputs": []
    },
    {
      "cell_type": "code",
      "source": [],
      "metadata": {
        "id": "WzM9Cj3823S7"
      },
      "execution_count": null,
      "outputs": []
    },
    {
      "cell_type": "code",
      "source": [],
      "metadata": {
        "id": "6-FHNxZY23QM"
      },
      "execution_count": null,
      "outputs": []
    },
    {
      "cell_type": "code",
      "source": [],
      "metadata": {
        "id": "X05axsv123Ne"
      },
      "execution_count": null,
      "outputs": []
    },
    {
      "cell_type": "code",
      "source": [],
      "metadata": {
        "id": "yNesyNkH23Ks"
      },
      "execution_count": null,
      "outputs": []
    },
    {
      "cell_type": "code",
      "source": [],
      "metadata": {
        "id": "uMt-EiLH23IJ"
      },
      "execution_count": null,
      "outputs": []
    },
    {
      "cell_type": "code",
      "source": [],
      "metadata": {
        "id": "NP4Ibd-X23Fd"
      },
      "execution_count": null,
      "outputs": []
    },
    {
      "cell_type": "code",
      "source": [],
      "metadata": {
        "id": "snqf82Nn23C6"
      },
      "execution_count": null,
      "outputs": []
    },
    {
      "cell_type": "code",
      "source": [],
      "metadata": {
        "id": "u8F34cxO23AI"
      },
      "execution_count": null,
      "outputs": []
    },
    {
      "cell_type": "code",
      "source": [],
      "metadata": {
        "id": "O0Uq55kg229n"
      },
      "execution_count": null,
      "outputs": []
    },
    {
      "cell_type": "code",
      "source": [],
      "metadata": {
        "id": "lD-XAwYh2266"
      },
      "execution_count": null,
      "outputs": []
    },
    {
      "cell_type": "code",
      "source": [],
      "metadata": {
        "id": "Wel30JmV224P"
      },
      "execution_count": null,
      "outputs": []
    },
    {
      "cell_type": "code",
      "source": [],
      "metadata": {
        "id": "zJmDF4vw221T"
      },
      "execution_count": null,
      "outputs": []
    },
    {
      "cell_type": "code",
      "source": [],
      "metadata": {
        "id": "u1wyTK0c22ys"
      },
      "execution_count": null,
      "outputs": []
    },
    {
      "cell_type": "code",
      "source": [],
      "metadata": {
        "id": "2ju9PK6322vu"
      },
      "execution_count": null,
      "outputs": []
    },
    {
      "cell_type": "code",
      "source": [],
      "metadata": {
        "id": "mzVHqiEd22tE"
      },
      "execution_count": null,
      "outputs": []
    },
    {
      "cell_type": "code",
      "source": [],
      "metadata": {
        "id": "_E9XyNdx22qM"
      },
      "execution_count": null,
      "outputs": []
    },
    {
      "cell_type": "code",
      "source": [],
      "metadata": {
        "id": "nRgShawg22ng"
      },
      "execution_count": null,
      "outputs": []
    },
    {
      "cell_type": "code",
      "source": [],
      "metadata": {
        "id": "BpSE6MAp22kz"
      },
      "execution_count": null,
      "outputs": []
    },
    {
      "cell_type": "code",
      "source": [],
      "metadata": {
        "id": "SN4OWOAO22iR"
      },
      "execution_count": null,
      "outputs": []
    },
    {
      "cell_type": "code",
      "source": [],
      "metadata": {
        "id": "ZYFim3jx22fn"
      },
      "execution_count": null,
      "outputs": []
    },
    {
      "cell_type": "code",
      "source": [],
      "metadata": {
        "id": "CC-hB8Gj22dH"
      },
      "execution_count": null,
      "outputs": []
    },
    {
      "cell_type": "code",
      "source": [],
      "metadata": {
        "id": "XrMaQ0RB22aT"
      },
      "execution_count": null,
      "outputs": []
    },
    {
      "cell_type": "code",
      "source": [],
      "metadata": {
        "id": "QWssKnkF22Xm"
      },
      "execution_count": null,
      "outputs": []
    },
    {
      "cell_type": "code",
      "source": [],
      "metadata": {
        "id": "W-x_ic2L22Uy"
      },
      "execution_count": null,
      "outputs": []
    },
    {
      "cell_type": "code",
      "source": [],
      "metadata": {
        "id": "ESGmRRkU22SK"
      },
      "execution_count": null,
      "outputs": []
    },
    {
      "cell_type": "code",
      "source": [],
      "metadata": {
        "id": "DCA4An1322Pi"
      },
      "execution_count": null,
      "outputs": []
    },
    {
      "cell_type": "code",
      "source": [],
      "metadata": {
        "id": "C_0gad7Y22M2"
      },
      "execution_count": null,
      "outputs": []
    },
    {
      "cell_type": "code",
      "source": [],
      "metadata": {
        "id": "wlnpjemW22KF"
      },
      "execution_count": null,
      "outputs": []
    },
    {
      "cell_type": "code",
      "source": [],
      "metadata": {
        "id": "jbBeKJ1r22HU"
      },
      "execution_count": null,
      "outputs": []
    },
    {
      "cell_type": "code",
      "source": [],
      "metadata": {
        "id": "FCh8cUn122Et"
      },
      "execution_count": null,
      "outputs": []
    },
    {
      "cell_type": "code",
      "source": [],
      "metadata": {
        "id": "fpLo5HP422CG"
      },
      "execution_count": null,
      "outputs": []
    },
    {
      "cell_type": "code",
      "source": [],
      "metadata": {
        "id": "i58zmrNX21_2"
      },
      "execution_count": null,
      "outputs": []
    },
    {
      "cell_type": "code",
      "source": [],
      "metadata": {
        "id": "TnOPevck218x"
      },
      "execution_count": null,
      "outputs": []
    },
    {
      "cell_type": "code",
      "source": [],
      "metadata": {
        "id": "vyCNYIm_216X"
      },
      "execution_count": null,
      "outputs": []
    },
    {
      "cell_type": "code",
      "source": [],
      "metadata": {
        "id": "f16VRUI6213e"
      },
      "execution_count": null,
      "outputs": []
    },
    {
      "cell_type": "code",
      "source": [],
      "metadata": {
        "id": "jiJTt9lw210x"
      },
      "execution_count": null,
      "outputs": []
    },
    {
      "cell_type": "code",
      "source": [],
      "metadata": {
        "id": "LZg1puJw21yP"
      },
      "execution_count": null,
      "outputs": []
    },
    {
      "cell_type": "code",
      "source": [],
      "metadata": {
        "id": "9HP0C8xD21ve"
      },
      "execution_count": null,
      "outputs": []
    },
    {
      "cell_type": "code",
      "source": [],
      "metadata": {
        "id": "4Pgt-0iC21s1"
      },
      "execution_count": null,
      "outputs": []
    },
    {
      "cell_type": "code",
      "source": [],
      "metadata": {
        "id": "ciFkqwYa21qW"
      },
      "execution_count": null,
      "outputs": []
    },
    {
      "cell_type": "code",
      "source": [],
      "metadata": {
        "id": "ErN9jDrW21nn"
      },
      "execution_count": null,
      "outputs": []
    },
    {
      "cell_type": "code",
      "source": [],
      "metadata": {
        "id": "9m-125pt21k0"
      },
      "execution_count": null,
      "outputs": []
    },
    {
      "cell_type": "code",
      "source": [],
      "metadata": {
        "id": "xVucz8tq21iF"
      },
      "execution_count": null,
      "outputs": []
    },
    {
      "cell_type": "code",
      "source": [],
      "metadata": {
        "id": "VVQdOiY221fy"
      },
      "execution_count": null,
      "outputs": []
    },
    {
      "cell_type": "code",
      "source": [],
      "metadata": {
        "id": "2vLuzXcP21cw"
      },
      "execution_count": null,
      "outputs": []
    },
    {
      "cell_type": "code",
      "source": [],
      "metadata": {
        "id": "qBiAPEAf21aK"
      },
      "execution_count": null,
      "outputs": []
    },
    {
      "cell_type": "code",
      "source": [],
      "metadata": {
        "id": "s_U4zfhF21Xb"
      },
      "execution_count": null,
      "outputs": []
    },
    {
      "cell_type": "code",
      "source": [],
      "metadata": {
        "id": "QGqG7Ubl21VB"
      },
      "execution_count": null,
      "outputs": []
    },
    {
      "cell_type": "code",
      "source": [],
      "metadata": {
        "id": "HVJ9f42m21SV"
      },
      "execution_count": null,
      "outputs": []
    },
    {
      "cell_type": "code",
      "source": [],
      "metadata": {
        "id": "JCevQmjx21Pu"
      },
      "execution_count": null,
      "outputs": []
    },
    {
      "cell_type": "code",
      "source": [],
      "metadata": {
        "id": "Cnufo1uY21NB"
      },
      "execution_count": null,
      "outputs": []
    },
    {
      "cell_type": "code",
      "source": [],
      "metadata": {
        "id": "EkpkMzDz21Kq"
      },
      "execution_count": null,
      "outputs": []
    },
    {
      "cell_type": "code",
      "source": [],
      "metadata": {
        "id": "p9qrx8Wi21IZ"
      },
      "execution_count": null,
      "outputs": []
    },
    {
      "cell_type": "code",
      "source": [],
      "metadata": {
        "id": "m37kI5DB21F4"
      },
      "execution_count": null,
      "outputs": []
    },
    {
      "cell_type": "code",
      "source": [],
      "metadata": {
        "id": "wIGzBxua21DZ"
      },
      "execution_count": null,
      "outputs": []
    },
    {
      "cell_type": "code",
      "source": [],
      "metadata": {
        "id": "Ref8abbM21Aw"
      },
      "execution_count": null,
      "outputs": []
    },
    {
      "cell_type": "code",
      "source": [],
      "metadata": {
        "id": "YDvCk5yM20-a"
      },
      "execution_count": null,
      "outputs": []
    },
    {
      "cell_type": "code",
      "source": [],
      "metadata": {
        "id": "K6WRuIMJ207z"
      },
      "execution_count": null,
      "outputs": []
    },
    {
      "cell_type": "code",
      "source": [],
      "metadata": {
        "id": "GJEVNlB4205N"
      },
      "execution_count": null,
      "outputs": []
    },
    {
      "cell_type": "code",
      "source": [],
      "metadata": {
        "id": "_z3APm5v203B"
      },
      "execution_count": null,
      "outputs": []
    },
    {
      "cell_type": "code",
      "source": [],
      "metadata": {
        "id": "sT-HVhoy200K"
      },
      "execution_count": null,
      "outputs": []
    },
    {
      "cell_type": "code",
      "source": [],
      "metadata": {
        "id": "BKUERecs20xj"
      },
      "execution_count": null,
      "outputs": []
    },
    {
      "cell_type": "code",
      "source": [],
      "metadata": {
        "id": "v-ae2tXH20vS"
      },
      "execution_count": null,
      "outputs": []
    }
  ]
}