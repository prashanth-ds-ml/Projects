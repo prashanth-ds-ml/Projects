{
  "nbformat": 4,
  "nbformat_minor": 0,
  "metadata": {
    "colab": {
      "provenance": [],
      "authorship_tag": "ABX9TyOfQvofSDQP7648yKlDXtYE",
      "include_colab_link": true
    },
    "kernelspec": {
      "name": "python3",
      "display_name": "Python 3"
    },
    "language_info": {
      "name": "python"
    },
    "accelerator": "GPU",
    "gpuClass": "standard"
  },
  "cells": [
    {
      "cell_type": "markdown",
      "metadata": {
        "id": "view-in-github",
        "colab_type": "text"
      },
      "source": [
        "<a href=\"https://colab.research.google.com/github/prashanth-ds-ml/Projects/blob/main/spam_classification.ipynb\" target=\"_parent\"><img src=\"https://colab.research.google.com/assets/colab-badge.svg\" alt=\"Open In Colab\"/></a>"
      ]
    },
    {
      "cell_type": "code",
      "execution_count": 1,
      "metadata": {
        "id": "liNEb60dEiS6"
      },
      "outputs": [],
      "source": [
        "import tensorflow as tf\n",
        "import pandas as pd\n",
        "import numpy as np\n",
        "import seaborn as sb\n",
        "import matplotlib.pyplot as plt"
      ]
    },
    {
      "cell_type": "code",
      "source": [
        "df = pd.read_csv('/content/spam.csv',encoding = 'ISO-8859-1')"
      ],
      "metadata": {
        "id": "nK5T32GFFGKO"
      },
      "execution_count": 2,
      "outputs": []
    },
    {
      "cell_type": "code",
      "source": [
        "df.head()"
      ],
      "metadata": {
        "colab": {
          "base_uri": "https://localhost:8080/",
          "height": 206
        },
        "id": "hGvEy1dtFnaq",
        "outputId": "b05eb4f2-a468-4787-e923-95c9fdad16b4"
      },
      "execution_count": 3,
      "outputs": [
        {
          "output_type": "execute_result",
          "data": {
            "text/plain": [
              "     v1                                                 v2 Unnamed: 2  \\\n",
              "0   ham  Go until jurong point, crazy.. Available only ...        NaN   \n",
              "1   ham                      Ok lar... Joking wif u oni...        NaN   \n",
              "2  spam  Free entry in 2 a wkly comp to win FA Cup fina...        NaN   \n",
              "3   ham  U dun say so early hor... U c already then say...        NaN   \n",
              "4   ham  Nah I don't think he goes to usf, he lives aro...        NaN   \n",
              "\n",
              "  Unnamed: 3 Unnamed: 4  \n",
              "0        NaN        NaN  \n",
              "1        NaN        NaN  \n",
              "2        NaN        NaN  \n",
              "3        NaN        NaN  \n",
              "4        NaN        NaN  "
            ],
            "text/html": [
              "\n",
              "  <div id=\"df-852e7463-7b9c-4d90-9cec-e8eabaae4cb4\">\n",
              "    <div class=\"colab-df-container\">\n",
              "      <div>\n",
              "<style scoped>\n",
              "    .dataframe tbody tr th:only-of-type {\n",
              "        vertical-align: middle;\n",
              "    }\n",
              "\n",
              "    .dataframe tbody tr th {\n",
              "        vertical-align: top;\n",
              "    }\n",
              "\n",
              "    .dataframe thead th {\n",
              "        text-align: right;\n",
              "    }\n",
              "</style>\n",
              "<table border=\"1\" class=\"dataframe\">\n",
              "  <thead>\n",
              "    <tr style=\"text-align: right;\">\n",
              "      <th></th>\n",
              "      <th>v1</th>\n",
              "      <th>v2</th>\n",
              "      <th>Unnamed: 2</th>\n",
              "      <th>Unnamed: 3</th>\n",
              "      <th>Unnamed: 4</th>\n",
              "    </tr>\n",
              "  </thead>\n",
              "  <tbody>\n",
              "    <tr>\n",
              "      <th>0</th>\n",
              "      <td>ham</td>\n",
              "      <td>Go until jurong point, crazy.. Available only ...</td>\n",
              "      <td>NaN</td>\n",
              "      <td>NaN</td>\n",
              "      <td>NaN</td>\n",
              "    </tr>\n",
              "    <tr>\n",
              "      <th>1</th>\n",
              "      <td>ham</td>\n",
              "      <td>Ok lar... Joking wif u oni...</td>\n",
              "      <td>NaN</td>\n",
              "      <td>NaN</td>\n",
              "      <td>NaN</td>\n",
              "    </tr>\n",
              "    <tr>\n",
              "      <th>2</th>\n",
              "      <td>spam</td>\n",
              "      <td>Free entry in 2 a wkly comp to win FA Cup fina...</td>\n",
              "      <td>NaN</td>\n",
              "      <td>NaN</td>\n",
              "      <td>NaN</td>\n",
              "    </tr>\n",
              "    <tr>\n",
              "      <th>3</th>\n",
              "      <td>ham</td>\n",
              "      <td>U dun say so early hor... U c already then say...</td>\n",
              "      <td>NaN</td>\n",
              "      <td>NaN</td>\n",
              "      <td>NaN</td>\n",
              "    </tr>\n",
              "    <tr>\n",
              "      <th>4</th>\n",
              "      <td>ham</td>\n",
              "      <td>Nah I don't think he goes to usf, he lives aro...</td>\n",
              "      <td>NaN</td>\n",
              "      <td>NaN</td>\n",
              "      <td>NaN</td>\n",
              "    </tr>\n",
              "  </tbody>\n",
              "</table>\n",
              "</div>\n",
              "      <button class=\"colab-df-convert\" onclick=\"convertToInteractive('df-852e7463-7b9c-4d90-9cec-e8eabaae4cb4')\"\n",
              "              title=\"Convert this dataframe to an interactive table.\"\n",
              "              style=\"display:none;\">\n",
              "        \n",
              "  <svg xmlns=\"http://www.w3.org/2000/svg\" height=\"24px\"viewBox=\"0 0 24 24\"\n",
              "       width=\"24px\">\n",
              "    <path d=\"M0 0h24v24H0V0z\" fill=\"none\"/>\n",
              "    <path d=\"M18.56 5.44l.94 2.06.94-2.06 2.06-.94-2.06-.94-.94-2.06-.94 2.06-2.06.94zm-11 1L8.5 8.5l.94-2.06 2.06-.94-2.06-.94L8.5 2.5l-.94 2.06-2.06.94zm10 10l.94 2.06.94-2.06 2.06-.94-2.06-.94-.94-2.06-.94 2.06-2.06.94z\"/><path d=\"M17.41 7.96l-1.37-1.37c-.4-.4-.92-.59-1.43-.59-.52 0-1.04.2-1.43.59L10.3 9.45l-7.72 7.72c-.78.78-.78 2.05 0 2.83L4 21.41c.39.39.9.59 1.41.59.51 0 1.02-.2 1.41-.59l7.78-7.78 2.81-2.81c.8-.78.8-2.07 0-2.86zM5.41 20L4 18.59l7.72-7.72 1.47 1.35L5.41 20z\"/>\n",
              "  </svg>\n",
              "      </button>\n",
              "      \n",
              "  <style>\n",
              "    .colab-df-container {\n",
              "      display:flex;\n",
              "      flex-wrap:wrap;\n",
              "      gap: 12px;\n",
              "    }\n",
              "\n",
              "    .colab-df-convert {\n",
              "      background-color: #E8F0FE;\n",
              "      border: none;\n",
              "      border-radius: 50%;\n",
              "      cursor: pointer;\n",
              "      display: none;\n",
              "      fill: #1967D2;\n",
              "      height: 32px;\n",
              "      padding: 0 0 0 0;\n",
              "      width: 32px;\n",
              "    }\n",
              "\n",
              "    .colab-df-convert:hover {\n",
              "      background-color: #E2EBFA;\n",
              "      box-shadow: 0px 1px 2px rgba(60, 64, 67, 0.3), 0px 1px 3px 1px rgba(60, 64, 67, 0.15);\n",
              "      fill: #174EA6;\n",
              "    }\n",
              "\n",
              "    [theme=dark] .colab-df-convert {\n",
              "      background-color: #3B4455;\n",
              "      fill: #D2E3FC;\n",
              "    }\n",
              "\n",
              "    [theme=dark] .colab-df-convert:hover {\n",
              "      background-color: #434B5C;\n",
              "      box-shadow: 0px 1px 3px 1px rgba(0, 0, 0, 0.15);\n",
              "      filter: drop-shadow(0px 1px 2px rgba(0, 0, 0, 0.3));\n",
              "      fill: #FFFFFF;\n",
              "    }\n",
              "  </style>\n",
              "\n",
              "      <script>\n",
              "        const buttonEl =\n",
              "          document.querySelector('#df-852e7463-7b9c-4d90-9cec-e8eabaae4cb4 button.colab-df-convert');\n",
              "        buttonEl.style.display =\n",
              "          google.colab.kernel.accessAllowed ? 'block' : 'none';\n",
              "\n",
              "        async function convertToInteractive(key) {\n",
              "          const element = document.querySelector('#df-852e7463-7b9c-4d90-9cec-e8eabaae4cb4');\n",
              "          const dataTable =\n",
              "            await google.colab.kernel.invokeFunction('convertToInteractive',\n",
              "                                                     [key], {});\n",
              "          if (!dataTable) return;\n",
              "\n",
              "          const docLinkHtml = 'Like what you see? Visit the ' +\n",
              "            '<a target=\"_blank\" href=https://colab.research.google.com/notebooks/data_table.ipynb>data table notebook</a>'\n",
              "            + ' to learn more about interactive tables.';\n",
              "          element.innerHTML = '';\n",
              "          dataTable['output_type'] = 'display_data';\n",
              "          await google.colab.output.renderOutput(dataTable, element);\n",
              "          const docLink = document.createElement('div');\n",
              "          docLink.innerHTML = docLinkHtml;\n",
              "          element.appendChild(docLink);\n",
              "        }\n",
              "      </script>\n",
              "    </div>\n",
              "  </div>\n",
              "  "
            ]
          },
          "metadata": {},
          "execution_count": 3
        }
      ]
    },
    {
      "cell_type": "code",
      "source": [
        "df.isnull().sum()"
      ],
      "metadata": {
        "colab": {
          "base_uri": "https://localhost:8080/"
        },
        "id": "BrM7Wu1_M3cI",
        "outputId": "e63e9eb9-b57f-41d4-86ee-105fdddd241a"
      },
      "execution_count": 4,
      "outputs": [
        {
          "output_type": "execute_result",
          "data": {
            "text/plain": [
              "v1               0\n",
              "v2               0\n",
              "Unnamed: 2    5522\n",
              "Unnamed: 3    5560\n",
              "Unnamed: 4    5566\n",
              "dtype: int64"
            ]
          },
          "metadata": {},
          "execution_count": 4
        }
      ]
    },
    {
      "cell_type": "code",
      "source": [
        "df.info()"
      ],
      "metadata": {
        "colab": {
          "base_uri": "https://localhost:8080/"
        },
        "id": "zMe01KhXM66b",
        "outputId": "86432ae8-7069-4135-b0ed-4ae1fc8e6dd8"
      },
      "execution_count": 5,
      "outputs": [
        {
          "output_type": "stream",
          "name": "stdout",
          "text": [
            "<class 'pandas.core.frame.DataFrame'>\n",
            "RangeIndex: 5572 entries, 0 to 5571\n",
            "Data columns (total 5 columns):\n",
            " #   Column      Non-Null Count  Dtype \n",
            "---  ------      --------------  ----- \n",
            " 0   v1          5572 non-null   object\n",
            " 1   v2          5572 non-null   object\n",
            " 2   Unnamed: 2  50 non-null     object\n",
            " 3   Unnamed: 3  12 non-null     object\n",
            " 4   Unnamed: 4  6 non-null      object\n",
            "dtypes: object(5)\n",
            "memory usage: 217.8+ KB\n"
          ]
        }
      ]
    },
    {
      "cell_type": "code",
      "source": [
        "df.shape"
      ],
      "metadata": {
        "colab": {
          "base_uri": "https://localhost:8080/"
        },
        "id": "-6uO2-NTM9XK",
        "outputId": "0403eb68-cbe9-4fa3-9829-46b666bcfd65"
      },
      "execution_count": 6,
      "outputs": [
        {
          "output_type": "execute_result",
          "data": {
            "text/plain": [
              "(5572, 5)"
            ]
          },
          "metadata": {},
          "execution_count": 6
        }
      ]
    },
    {
      "cell_type": "code",
      "source": [
        "df.drop(['Unnamed: 2','Unnamed: 3','Unnamed: 4'], axis=1,inplace = True)"
      ],
      "metadata": {
        "id": "V9Y4J6gyHEZm"
      },
      "execution_count": 7,
      "outputs": []
    },
    {
      "cell_type": "code",
      "source": [
        "df.head()"
      ],
      "metadata": {
        "colab": {
          "base_uri": "https://localhost:8080/",
          "height": 206
        },
        "id": "Q_jKe0gTHdvw",
        "outputId": "308885c8-3caa-440d-d7b0-61e25792410a"
      },
      "execution_count": 8,
      "outputs": [
        {
          "output_type": "execute_result",
          "data": {
            "text/plain": [
              "     v1                                                 v2\n",
              "0   ham  Go until jurong point, crazy.. Available only ...\n",
              "1   ham                      Ok lar... Joking wif u oni...\n",
              "2  spam  Free entry in 2 a wkly comp to win FA Cup fina...\n",
              "3   ham  U dun say so early hor... U c already then say...\n",
              "4   ham  Nah I don't think he goes to usf, he lives aro..."
            ],
            "text/html": [
              "\n",
              "  <div id=\"df-23898dae-7426-44c2-85c5-43fc22aa23d2\">\n",
              "    <div class=\"colab-df-container\">\n",
              "      <div>\n",
              "<style scoped>\n",
              "    .dataframe tbody tr th:only-of-type {\n",
              "        vertical-align: middle;\n",
              "    }\n",
              "\n",
              "    .dataframe tbody tr th {\n",
              "        vertical-align: top;\n",
              "    }\n",
              "\n",
              "    .dataframe thead th {\n",
              "        text-align: right;\n",
              "    }\n",
              "</style>\n",
              "<table border=\"1\" class=\"dataframe\">\n",
              "  <thead>\n",
              "    <tr style=\"text-align: right;\">\n",
              "      <th></th>\n",
              "      <th>v1</th>\n",
              "      <th>v2</th>\n",
              "    </tr>\n",
              "  </thead>\n",
              "  <tbody>\n",
              "    <tr>\n",
              "      <th>0</th>\n",
              "      <td>ham</td>\n",
              "      <td>Go until jurong point, crazy.. Available only ...</td>\n",
              "    </tr>\n",
              "    <tr>\n",
              "      <th>1</th>\n",
              "      <td>ham</td>\n",
              "      <td>Ok lar... Joking wif u oni...</td>\n",
              "    </tr>\n",
              "    <tr>\n",
              "      <th>2</th>\n",
              "      <td>spam</td>\n",
              "      <td>Free entry in 2 a wkly comp to win FA Cup fina...</td>\n",
              "    </tr>\n",
              "    <tr>\n",
              "      <th>3</th>\n",
              "      <td>ham</td>\n",
              "      <td>U dun say so early hor... U c already then say...</td>\n",
              "    </tr>\n",
              "    <tr>\n",
              "      <th>4</th>\n",
              "      <td>ham</td>\n",
              "      <td>Nah I don't think he goes to usf, he lives aro...</td>\n",
              "    </tr>\n",
              "  </tbody>\n",
              "</table>\n",
              "</div>\n",
              "      <button class=\"colab-df-convert\" onclick=\"convertToInteractive('df-23898dae-7426-44c2-85c5-43fc22aa23d2')\"\n",
              "              title=\"Convert this dataframe to an interactive table.\"\n",
              "              style=\"display:none;\">\n",
              "        \n",
              "  <svg xmlns=\"http://www.w3.org/2000/svg\" height=\"24px\"viewBox=\"0 0 24 24\"\n",
              "       width=\"24px\">\n",
              "    <path d=\"M0 0h24v24H0V0z\" fill=\"none\"/>\n",
              "    <path d=\"M18.56 5.44l.94 2.06.94-2.06 2.06-.94-2.06-.94-.94-2.06-.94 2.06-2.06.94zm-11 1L8.5 8.5l.94-2.06 2.06-.94-2.06-.94L8.5 2.5l-.94 2.06-2.06.94zm10 10l.94 2.06.94-2.06 2.06-.94-2.06-.94-.94-2.06-.94 2.06-2.06.94z\"/><path d=\"M17.41 7.96l-1.37-1.37c-.4-.4-.92-.59-1.43-.59-.52 0-1.04.2-1.43.59L10.3 9.45l-7.72 7.72c-.78.78-.78 2.05 0 2.83L4 21.41c.39.39.9.59 1.41.59.51 0 1.02-.2 1.41-.59l7.78-7.78 2.81-2.81c.8-.78.8-2.07 0-2.86zM5.41 20L4 18.59l7.72-7.72 1.47 1.35L5.41 20z\"/>\n",
              "  </svg>\n",
              "      </button>\n",
              "      \n",
              "  <style>\n",
              "    .colab-df-container {\n",
              "      display:flex;\n",
              "      flex-wrap:wrap;\n",
              "      gap: 12px;\n",
              "    }\n",
              "\n",
              "    .colab-df-convert {\n",
              "      background-color: #E8F0FE;\n",
              "      border: none;\n",
              "      border-radius: 50%;\n",
              "      cursor: pointer;\n",
              "      display: none;\n",
              "      fill: #1967D2;\n",
              "      height: 32px;\n",
              "      padding: 0 0 0 0;\n",
              "      width: 32px;\n",
              "    }\n",
              "\n",
              "    .colab-df-convert:hover {\n",
              "      background-color: #E2EBFA;\n",
              "      box-shadow: 0px 1px 2px rgba(60, 64, 67, 0.3), 0px 1px 3px 1px rgba(60, 64, 67, 0.15);\n",
              "      fill: #174EA6;\n",
              "    }\n",
              "\n",
              "    [theme=dark] .colab-df-convert {\n",
              "      background-color: #3B4455;\n",
              "      fill: #D2E3FC;\n",
              "    }\n",
              "\n",
              "    [theme=dark] .colab-df-convert:hover {\n",
              "      background-color: #434B5C;\n",
              "      box-shadow: 0px 1px 3px 1px rgba(0, 0, 0, 0.15);\n",
              "      filter: drop-shadow(0px 1px 2px rgba(0, 0, 0, 0.3));\n",
              "      fill: #FFFFFF;\n",
              "    }\n",
              "  </style>\n",
              "\n",
              "      <script>\n",
              "        const buttonEl =\n",
              "          document.querySelector('#df-23898dae-7426-44c2-85c5-43fc22aa23d2 button.colab-df-convert');\n",
              "        buttonEl.style.display =\n",
              "          google.colab.kernel.accessAllowed ? 'block' : 'none';\n",
              "\n",
              "        async function convertToInteractive(key) {\n",
              "          const element = document.querySelector('#df-23898dae-7426-44c2-85c5-43fc22aa23d2');\n",
              "          const dataTable =\n",
              "            await google.colab.kernel.invokeFunction('convertToInteractive',\n",
              "                                                     [key], {});\n",
              "          if (!dataTable) return;\n",
              "\n",
              "          const docLinkHtml = 'Like what you see? Visit the ' +\n",
              "            '<a target=\"_blank\" href=https://colab.research.google.com/notebooks/data_table.ipynb>data table notebook</a>'\n",
              "            + ' to learn more about interactive tables.';\n",
              "          element.innerHTML = '';\n",
              "          dataTable['output_type'] = 'display_data';\n",
              "          await google.colab.output.renderOutput(dataTable, element);\n",
              "          const docLink = document.createElement('div');\n",
              "          docLink.innerHTML = docLinkHtml;\n",
              "          element.appendChild(docLink);\n",
              "        }\n",
              "      </script>\n",
              "    </div>\n",
              "  </div>\n",
              "  "
            ]
          },
          "metadata": {},
          "execution_count": 8
        }
      ]
    },
    {
      "cell_type": "code",
      "source": [
        "df.rename(columns = {'v1':'Label','v2':'Messsage'}, inplace = True)"
      ],
      "metadata": {
        "id": "mL_pylqtHfg_"
      },
      "execution_count": 9,
      "outputs": []
    },
    {
      "cell_type": "code",
      "source": [
        "df.head()"
      ],
      "metadata": {
        "colab": {
          "base_uri": "https://localhost:8080/",
          "height": 206
        },
        "id": "Fv_sW-c1HzIB",
        "outputId": "b59ab7d0-be3a-476a-d20a-f855f754882c"
      },
      "execution_count": 10,
      "outputs": [
        {
          "output_type": "execute_result",
          "data": {
            "text/plain": [
              "  Label                                           Messsage\n",
              "0   ham  Go until jurong point, crazy.. Available only ...\n",
              "1   ham                      Ok lar... Joking wif u oni...\n",
              "2  spam  Free entry in 2 a wkly comp to win FA Cup fina...\n",
              "3   ham  U dun say so early hor... U c already then say...\n",
              "4   ham  Nah I don't think he goes to usf, he lives aro..."
            ],
            "text/html": [
              "\n",
              "  <div id=\"df-862620ee-db14-4848-b2e3-8e2e1d35297c\">\n",
              "    <div class=\"colab-df-container\">\n",
              "      <div>\n",
              "<style scoped>\n",
              "    .dataframe tbody tr th:only-of-type {\n",
              "        vertical-align: middle;\n",
              "    }\n",
              "\n",
              "    .dataframe tbody tr th {\n",
              "        vertical-align: top;\n",
              "    }\n",
              "\n",
              "    .dataframe thead th {\n",
              "        text-align: right;\n",
              "    }\n",
              "</style>\n",
              "<table border=\"1\" class=\"dataframe\">\n",
              "  <thead>\n",
              "    <tr style=\"text-align: right;\">\n",
              "      <th></th>\n",
              "      <th>Label</th>\n",
              "      <th>Messsage</th>\n",
              "    </tr>\n",
              "  </thead>\n",
              "  <tbody>\n",
              "    <tr>\n",
              "      <th>0</th>\n",
              "      <td>ham</td>\n",
              "      <td>Go until jurong point, crazy.. Available only ...</td>\n",
              "    </tr>\n",
              "    <tr>\n",
              "      <th>1</th>\n",
              "      <td>ham</td>\n",
              "      <td>Ok lar... Joking wif u oni...</td>\n",
              "    </tr>\n",
              "    <tr>\n",
              "      <th>2</th>\n",
              "      <td>spam</td>\n",
              "      <td>Free entry in 2 a wkly comp to win FA Cup fina...</td>\n",
              "    </tr>\n",
              "    <tr>\n",
              "      <th>3</th>\n",
              "      <td>ham</td>\n",
              "      <td>U dun say so early hor... U c already then say...</td>\n",
              "    </tr>\n",
              "    <tr>\n",
              "      <th>4</th>\n",
              "      <td>ham</td>\n",
              "      <td>Nah I don't think he goes to usf, he lives aro...</td>\n",
              "    </tr>\n",
              "  </tbody>\n",
              "</table>\n",
              "</div>\n",
              "      <button class=\"colab-df-convert\" onclick=\"convertToInteractive('df-862620ee-db14-4848-b2e3-8e2e1d35297c')\"\n",
              "              title=\"Convert this dataframe to an interactive table.\"\n",
              "              style=\"display:none;\">\n",
              "        \n",
              "  <svg xmlns=\"http://www.w3.org/2000/svg\" height=\"24px\"viewBox=\"0 0 24 24\"\n",
              "       width=\"24px\">\n",
              "    <path d=\"M0 0h24v24H0V0z\" fill=\"none\"/>\n",
              "    <path d=\"M18.56 5.44l.94 2.06.94-2.06 2.06-.94-2.06-.94-.94-2.06-.94 2.06-2.06.94zm-11 1L8.5 8.5l.94-2.06 2.06-.94-2.06-.94L8.5 2.5l-.94 2.06-2.06.94zm10 10l.94 2.06.94-2.06 2.06-.94-2.06-.94-.94-2.06-.94 2.06-2.06.94z\"/><path d=\"M17.41 7.96l-1.37-1.37c-.4-.4-.92-.59-1.43-.59-.52 0-1.04.2-1.43.59L10.3 9.45l-7.72 7.72c-.78.78-.78 2.05 0 2.83L4 21.41c.39.39.9.59 1.41.59.51 0 1.02-.2 1.41-.59l7.78-7.78 2.81-2.81c.8-.78.8-2.07 0-2.86zM5.41 20L4 18.59l7.72-7.72 1.47 1.35L5.41 20z\"/>\n",
              "  </svg>\n",
              "      </button>\n",
              "      \n",
              "  <style>\n",
              "    .colab-df-container {\n",
              "      display:flex;\n",
              "      flex-wrap:wrap;\n",
              "      gap: 12px;\n",
              "    }\n",
              "\n",
              "    .colab-df-convert {\n",
              "      background-color: #E8F0FE;\n",
              "      border: none;\n",
              "      border-radius: 50%;\n",
              "      cursor: pointer;\n",
              "      display: none;\n",
              "      fill: #1967D2;\n",
              "      height: 32px;\n",
              "      padding: 0 0 0 0;\n",
              "      width: 32px;\n",
              "    }\n",
              "\n",
              "    .colab-df-convert:hover {\n",
              "      background-color: #E2EBFA;\n",
              "      box-shadow: 0px 1px 2px rgba(60, 64, 67, 0.3), 0px 1px 3px 1px rgba(60, 64, 67, 0.15);\n",
              "      fill: #174EA6;\n",
              "    }\n",
              "\n",
              "    [theme=dark] .colab-df-convert {\n",
              "      background-color: #3B4455;\n",
              "      fill: #D2E3FC;\n",
              "    }\n",
              "\n",
              "    [theme=dark] .colab-df-convert:hover {\n",
              "      background-color: #434B5C;\n",
              "      box-shadow: 0px 1px 3px 1px rgba(0, 0, 0, 0.15);\n",
              "      filter: drop-shadow(0px 1px 2px rgba(0, 0, 0, 0.3));\n",
              "      fill: #FFFFFF;\n",
              "    }\n",
              "  </style>\n",
              "\n",
              "      <script>\n",
              "        const buttonEl =\n",
              "          document.querySelector('#df-862620ee-db14-4848-b2e3-8e2e1d35297c button.colab-df-convert');\n",
              "        buttonEl.style.display =\n",
              "          google.colab.kernel.accessAllowed ? 'block' : 'none';\n",
              "\n",
              "        async function convertToInteractive(key) {\n",
              "          const element = document.querySelector('#df-862620ee-db14-4848-b2e3-8e2e1d35297c');\n",
              "          const dataTable =\n",
              "            await google.colab.kernel.invokeFunction('convertToInteractive',\n",
              "                                                     [key], {});\n",
              "          if (!dataTable) return;\n",
              "\n",
              "          const docLinkHtml = 'Like what you see? Visit the ' +\n",
              "            '<a target=\"_blank\" href=https://colab.research.google.com/notebooks/data_table.ipynb>data table notebook</a>'\n",
              "            + ' to learn more about interactive tables.';\n",
              "          element.innerHTML = '';\n",
              "          dataTable['output_type'] = 'display_data';\n",
              "          await google.colab.output.renderOutput(dataTable, element);\n",
              "          const docLink = document.createElement('div');\n",
              "          docLink.innerHTML = docLinkHtml;\n",
              "          element.appendChild(docLink);\n",
              "        }\n",
              "      </script>\n",
              "    </div>\n",
              "  </div>\n",
              "  "
            ]
          },
          "metadata": {},
          "execution_count": 10
        }
      ]
    },
    {
      "cell_type": "code",
      "source": [
        "import re\n",
        "\n",
        "def cleaning_text(text):\n",
        "  text = re.sub('[^a-zA-Z]', ' ', text)\n",
        "  text = re.sub('<.*?>','',text)\n",
        "  text = re.sub('[^\\w\\d\\s]','',text)\n",
        "  text = re.sub('^\\s+|\\s+?$','',text)\n",
        "  return text"
      ],
      "metadata": {
        "id": "KGhJPHzA24ck"
      },
      "execution_count": 11,
      "outputs": []
    },
    {
      "cell_type": "code",
      "source": [
        "clean_messages = df['Messsage'].apply(func=cleaning_text)\n",
        "clean_messages.head()"
      ],
      "metadata": {
        "colab": {
          "base_uri": "https://localhost:8080/"
        },
        "id": "jZ3LKiFa24Y6",
        "outputId": "6df1afa5-2870-4cf2-f30e-06335ffca295"
      },
      "execution_count": 12,
      "outputs": [
        {
          "output_type": "execute_result",
          "data": {
            "text/plain": [
              "0    Go until jurong point  crazy   Available only ...\n",
              "1                           Ok lar    Joking wif u oni\n",
              "2    Free entry in   a wkly comp to win FA Cup fina...\n",
              "3       U dun say so early hor    U c already then say\n",
              "4    Nah I don t think he goes to usf  he lives aro...\n",
              "Name: Messsage, dtype: object"
            ]
          },
          "metadata": {},
          "execution_count": 12
        }
      ]
    },
    {
      "cell_type": "code",
      "source": [
        "import nltk\n",
        "nltk.download('stopwords')"
      ],
      "metadata": {
        "colab": {
          "base_uri": "https://localhost:8080/"
        },
        "id": "ap-cpdM6oOT6",
        "outputId": "966dd26d-f203-4052-eac3-1feb438455b5"
      },
      "execution_count": 14,
      "outputs": [
        {
          "output_type": "stream",
          "name": "stderr",
          "text": [
            "[nltk_data] Downloading package stopwords to /root/nltk_data...\n",
            "[nltk_data]   Unzipping corpora/stopwords.zip.\n"
          ]
        },
        {
          "output_type": "execute_result",
          "data": {
            "text/plain": [
              "True"
            ]
          },
          "metadata": {},
          "execution_count": 14
        }
      ]
    },
    {
      "cell_type": "code",
      "source": [],
      "metadata": {
        "id": "HeCGcx6RoVJw"
      },
      "execution_count": null,
      "outputs": []
    },
    {
      "cell_type": "code",
      "source": [
        "import nltk\n",
        "from nltk.corpus import stopwords\n",
        "stopwords = nltk.corpus.stopwords.words(\"english\")\n",
        "clean_messages =clean_messages.apply(lambda x: ' '.join(word for word in x.split() if word not in stopwords))\n",
        "clean_messages"
      ],
      "metadata": {
        "colab": {
          "base_uri": "https://localhost:8080/"
        },
        "id": "E7TilCM7nnAD",
        "outputId": "7e38d8c0-294e-4102-c8ef-70ee8e58c9cc"
      },
      "execution_count": 15,
      "outputs": [
        {
          "output_type": "execute_result",
          "data": {
            "text/plain": [
              "0       Go jurong point crazy Available bugis n great ...\n",
              "1                                 Ok lar Joking wif u oni\n",
              "2       Free entry wkly comp win FA Cup final tkts st ...\n",
              "3                     U dun say early hor U c already say\n",
              "4                Nah I think goes usf lives around though\n",
              "                              ...                        \n",
              "5567    This nd time tried contact u U Pound prize cla...\n",
              "5568                       Will b going esplanade fr home\n",
              "5569                             Pity mood So suggestions\n",
              "5570    The guy bitching I acted like interested buyin...\n",
              "5571                                   Rofl Its true name\n",
              "Name: Messsage, Length: 5572, dtype: object"
            ]
          },
          "metadata": {},
          "execution_count": 15
        }
      ]
    },
    {
      "cell_type": "code",
      "source": [
        "nltk.download('wordnet')"
      ],
      "metadata": {
        "colab": {
          "base_uri": "https://localhost:8080/"
        },
        "id": "dczu6wvhoWvn",
        "outputId": "98139ac9-1f18-4fcb-f367-836e2a9f882c"
      },
      "execution_count": 17,
      "outputs": [
        {
          "output_type": "stream",
          "name": "stderr",
          "text": [
            "[nltk_data] Downloading package wordnet to /root/nltk_data...\n"
          ]
        },
        {
          "output_type": "execute_result",
          "data": {
            "text/plain": [
              "True"
            ]
          },
          "metadata": {},
          "execution_count": 17
        }
      ]
    },
    {
      "cell_type": "code",
      "source": [
        "nltk.download('omw-1.4')"
      ],
      "metadata": {
        "colab": {
          "base_uri": "https://localhost:8080/"
        },
        "id": "KkthIAoIoa6q",
        "outputId": "f14b104c-e3df-481a-9bd9-ea603dced965"
      },
      "execution_count": 19,
      "outputs": [
        {
          "output_type": "stream",
          "name": "stderr",
          "text": [
            "[nltk_data] Downloading package omw-1.4 to /root/nltk_data...\n"
          ]
        },
        {
          "output_type": "execute_result",
          "data": {
            "text/plain": [
              "True"
            ]
          },
          "metadata": {},
          "execution_count": 19
        }
      ]
    },
    {
      "cell_type": "code",
      "source": [
        "from nltk.stem import WordNetLemmatizer\n",
        "\n",
        "wn_lemmatizer = WordNetLemmatizer()\n",
        "clean_messages = clean_messages.apply(lambda x: ' '.join(wn_lemmatizer.lemmatize(word) for word in x.split()))\n",
        "\n",
        "clean_messages"
      ],
      "metadata": {
        "colab": {
          "base_uri": "https://localhost:8080/"
        },
        "id": "oaby3Q6snmu1",
        "outputId": "41a9dacc-fbce-404c-be27-07ebfbdc60a7"
      },
      "execution_count": 20,
      "outputs": [
        {
          "output_type": "execute_result",
          "data": {
            "text/plain": [
              "0       Go jurong point crazy Available bugis n great ...\n",
              "1                                 Ok lar Joking wif u oni\n",
              "2       Free entry wkly comp win FA Cup final tkts st ...\n",
              "3                     U dun say early hor U c already say\n",
              "4                   Nah I think go usf life around though\n",
              "                              ...                        \n",
              "5567    This nd time tried contact u U Pound prize cla...\n",
              "5568                       Will b going esplanade fr home\n",
              "5569                              Pity mood So suggestion\n",
              "5570    The guy bitching I acted like interested buyin...\n",
              "5571                                   Rofl Its true name\n",
              "Name: Messsage, Length: 5572, dtype: object"
            ]
          },
          "metadata": {},
          "execution_count": 20
        }
      ]
    },
    {
      "cell_type": "code",
      "source": [],
      "metadata": {
        "id": "UN8-upJWnmcR"
      },
      "execution_count": 20,
      "outputs": []
    },
    {
      "cell_type": "code",
      "source": [
        "labels = df['Label']"
      ],
      "metadata": {
        "id": "kXMzG7hr24WY"
      },
      "execution_count": 21,
      "outputs": []
    },
    {
      "cell_type": "code",
      "source": [
        "labels = pd.get_dummies(labels, columns=['Label'])"
      ],
      "metadata": {
        "id": "froagQYK24Tj"
      },
      "execution_count": 22,
      "outputs": []
    },
    {
      "cell_type": "code",
      "source": [
        "labels.drop(['ham'], axis=1,inplace = True)"
      ],
      "metadata": {
        "id": "MJL7rIH324Qo"
      },
      "execution_count": 23,
      "outputs": []
    },
    {
      "cell_type": "code",
      "source": [
        "labels.head()"
      ],
      "metadata": {
        "colab": {
          "base_uri": "https://localhost:8080/",
          "height": 206
        },
        "id": "81C3Z7qq24N3",
        "outputId": "726eaa95-3f9a-4d8a-d296-1e4393d9a0f7"
      },
      "execution_count": 24,
      "outputs": [
        {
          "output_type": "execute_result",
          "data": {
            "text/plain": [
              "   spam\n",
              "0     0\n",
              "1     0\n",
              "2     1\n",
              "3     0\n",
              "4     0"
            ],
            "text/html": [
              "\n",
              "  <div id=\"df-f2239bc1-a04e-42c5-836f-3d3129e75249\">\n",
              "    <div class=\"colab-df-container\">\n",
              "      <div>\n",
              "<style scoped>\n",
              "    .dataframe tbody tr th:only-of-type {\n",
              "        vertical-align: middle;\n",
              "    }\n",
              "\n",
              "    .dataframe tbody tr th {\n",
              "        vertical-align: top;\n",
              "    }\n",
              "\n",
              "    .dataframe thead th {\n",
              "        text-align: right;\n",
              "    }\n",
              "</style>\n",
              "<table border=\"1\" class=\"dataframe\">\n",
              "  <thead>\n",
              "    <tr style=\"text-align: right;\">\n",
              "      <th></th>\n",
              "      <th>spam</th>\n",
              "    </tr>\n",
              "  </thead>\n",
              "  <tbody>\n",
              "    <tr>\n",
              "      <th>0</th>\n",
              "      <td>0</td>\n",
              "    </tr>\n",
              "    <tr>\n",
              "      <th>1</th>\n",
              "      <td>0</td>\n",
              "    </tr>\n",
              "    <tr>\n",
              "      <th>2</th>\n",
              "      <td>1</td>\n",
              "    </tr>\n",
              "    <tr>\n",
              "      <th>3</th>\n",
              "      <td>0</td>\n",
              "    </tr>\n",
              "    <tr>\n",
              "      <th>4</th>\n",
              "      <td>0</td>\n",
              "    </tr>\n",
              "  </tbody>\n",
              "</table>\n",
              "</div>\n",
              "      <button class=\"colab-df-convert\" onclick=\"convertToInteractive('df-f2239bc1-a04e-42c5-836f-3d3129e75249')\"\n",
              "              title=\"Convert this dataframe to an interactive table.\"\n",
              "              style=\"display:none;\">\n",
              "        \n",
              "  <svg xmlns=\"http://www.w3.org/2000/svg\" height=\"24px\"viewBox=\"0 0 24 24\"\n",
              "       width=\"24px\">\n",
              "    <path d=\"M0 0h24v24H0V0z\" fill=\"none\"/>\n",
              "    <path d=\"M18.56 5.44l.94 2.06.94-2.06 2.06-.94-2.06-.94-.94-2.06-.94 2.06-2.06.94zm-11 1L8.5 8.5l.94-2.06 2.06-.94-2.06-.94L8.5 2.5l-.94 2.06-2.06.94zm10 10l.94 2.06.94-2.06 2.06-.94-2.06-.94-.94-2.06-.94 2.06-2.06.94z\"/><path d=\"M17.41 7.96l-1.37-1.37c-.4-.4-.92-.59-1.43-.59-.52 0-1.04.2-1.43.59L10.3 9.45l-7.72 7.72c-.78.78-.78 2.05 0 2.83L4 21.41c.39.39.9.59 1.41.59.51 0 1.02-.2 1.41-.59l7.78-7.78 2.81-2.81c.8-.78.8-2.07 0-2.86zM5.41 20L4 18.59l7.72-7.72 1.47 1.35L5.41 20z\"/>\n",
              "  </svg>\n",
              "      </button>\n",
              "      \n",
              "  <style>\n",
              "    .colab-df-container {\n",
              "      display:flex;\n",
              "      flex-wrap:wrap;\n",
              "      gap: 12px;\n",
              "    }\n",
              "\n",
              "    .colab-df-convert {\n",
              "      background-color: #E8F0FE;\n",
              "      border: none;\n",
              "      border-radius: 50%;\n",
              "      cursor: pointer;\n",
              "      display: none;\n",
              "      fill: #1967D2;\n",
              "      height: 32px;\n",
              "      padding: 0 0 0 0;\n",
              "      width: 32px;\n",
              "    }\n",
              "\n",
              "    .colab-df-convert:hover {\n",
              "      background-color: #E2EBFA;\n",
              "      box-shadow: 0px 1px 2px rgba(60, 64, 67, 0.3), 0px 1px 3px 1px rgba(60, 64, 67, 0.15);\n",
              "      fill: #174EA6;\n",
              "    }\n",
              "\n",
              "    [theme=dark] .colab-df-convert {\n",
              "      background-color: #3B4455;\n",
              "      fill: #D2E3FC;\n",
              "    }\n",
              "\n",
              "    [theme=dark] .colab-df-convert:hover {\n",
              "      background-color: #434B5C;\n",
              "      box-shadow: 0px 1px 3px 1px rgba(0, 0, 0, 0.15);\n",
              "      filter: drop-shadow(0px 1px 2px rgba(0, 0, 0, 0.3));\n",
              "      fill: #FFFFFF;\n",
              "    }\n",
              "  </style>\n",
              "\n",
              "      <script>\n",
              "        const buttonEl =\n",
              "          document.querySelector('#df-f2239bc1-a04e-42c5-836f-3d3129e75249 button.colab-df-convert');\n",
              "        buttonEl.style.display =\n",
              "          google.colab.kernel.accessAllowed ? 'block' : 'none';\n",
              "\n",
              "        async function convertToInteractive(key) {\n",
              "          const element = document.querySelector('#df-f2239bc1-a04e-42c5-836f-3d3129e75249');\n",
              "          const dataTable =\n",
              "            await google.colab.kernel.invokeFunction('convertToInteractive',\n",
              "                                                     [key], {});\n",
              "          if (!dataTable) return;\n",
              "\n",
              "          const docLinkHtml = 'Like what you see? Visit the ' +\n",
              "            '<a target=\"_blank\" href=https://colab.research.google.com/notebooks/data_table.ipynb>data table notebook</a>'\n",
              "            + ' to learn more about interactive tables.';\n",
              "          element.innerHTML = '';\n",
              "          dataTable['output_type'] = 'display_data';\n",
              "          await google.colab.output.renderOutput(dataTable, element);\n",
              "          const docLink = document.createElement('div');\n",
              "          docLink.innerHTML = docLinkHtml;\n",
              "          element.appendChild(docLink);\n",
              "        }\n",
              "      </script>\n",
              "    </div>\n",
              "  </div>\n",
              "  "
            ]
          },
          "metadata": {},
          "execution_count": 24
        }
      ]
    },
    {
      "cell_type": "code",
      "source": [
        "labels.rename(columns = {'spam':'Label'}, inplace = True)"
      ],
      "metadata": {
        "id": "ShPHOovw24LG"
      },
      "execution_count": 25,
      "outputs": []
    },
    {
      "cell_type": "code",
      "source": [
        "labels"
      ],
      "metadata": {
        "colab": {
          "base_uri": "https://localhost:8080/",
          "height": 423
        },
        "id": "74Mlky0I24IR",
        "outputId": "b9c39a9a-35d5-4a1e-b4ee-7a74ad279c46"
      },
      "execution_count": 26,
      "outputs": [
        {
          "output_type": "execute_result",
          "data": {
            "text/plain": [
              "      Label\n",
              "0         0\n",
              "1         0\n",
              "2         1\n",
              "3         0\n",
              "4         0\n",
              "...     ...\n",
              "5567      1\n",
              "5568      0\n",
              "5569      0\n",
              "5570      0\n",
              "5571      0\n",
              "\n",
              "[5572 rows x 1 columns]"
            ],
            "text/html": [
              "\n",
              "  <div id=\"df-539db087-9e00-457d-852b-93d07a95dbd7\">\n",
              "    <div class=\"colab-df-container\">\n",
              "      <div>\n",
              "<style scoped>\n",
              "    .dataframe tbody tr th:only-of-type {\n",
              "        vertical-align: middle;\n",
              "    }\n",
              "\n",
              "    .dataframe tbody tr th {\n",
              "        vertical-align: top;\n",
              "    }\n",
              "\n",
              "    .dataframe thead th {\n",
              "        text-align: right;\n",
              "    }\n",
              "</style>\n",
              "<table border=\"1\" class=\"dataframe\">\n",
              "  <thead>\n",
              "    <tr style=\"text-align: right;\">\n",
              "      <th></th>\n",
              "      <th>Label</th>\n",
              "    </tr>\n",
              "  </thead>\n",
              "  <tbody>\n",
              "    <tr>\n",
              "      <th>0</th>\n",
              "      <td>0</td>\n",
              "    </tr>\n",
              "    <tr>\n",
              "      <th>1</th>\n",
              "      <td>0</td>\n",
              "    </tr>\n",
              "    <tr>\n",
              "      <th>2</th>\n",
              "      <td>1</td>\n",
              "    </tr>\n",
              "    <tr>\n",
              "      <th>3</th>\n",
              "      <td>0</td>\n",
              "    </tr>\n",
              "    <tr>\n",
              "      <th>4</th>\n",
              "      <td>0</td>\n",
              "    </tr>\n",
              "    <tr>\n",
              "      <th>...</th>\n",
              "      <td>...</td>\n",
              "    </tr>\n",
              "    <tr>\n",
              "      <th>5567</th>\n",
              "      <td>1</td>\n",
              "    </tr>\n",
              "    <tr>\n",
              "      <th>5568</th>\n",
              "      <td>0</td>\n",
              "    </tr>\n",
              "    <tr>\n",
              "      <th>5569</th>\n",
              "      <td>0</td>\n",
              "    </tr>\n",
              "    <tr>\n",
              "      <th>5570</th>\n",
              "      <td>0</td>\n",
              "    </tr>\n",
              "    <tr>\n",
              "      <th>5571</th>\n",
              "      <td>0</td>\n",
              "    </tr>\n",
              "  </tbody>\n",
              "</table>\n",
              "<p>5572 rows × 1 columns</p>\n",
              "</div>\n",
              "      <button class=\"colab-df-convert\" onclick=\"convertToInteractive('df-539db087-9e00-457d-852b-93d07a95dbd7')\"\n",
              "              title=\"Convert this dataframe to an interactive table.\"\n",
              "              style=\"display:none;\">\n",
              "        \n",
              "  <svg xmlns=\"http://www.w3.org/2000/svg\" height=\"24px\"viewBox=\"0 0 24 24\"\n",
              "       width=\"24px\">\n",
              "    <path d=\"M0 0h24v24H0V0z\" fill=\"none\"/>\n",
              "    <path d=\"M18.56 5.44l.94 2.06.94-2.06 2.06-.94-2.06-.94-.94-2.06-.94 2.06-2.06.94zm-11 1L8.5 8.5l.94-2.06 2.06-.94-2.06-.94L8.5 2.5l-.94 2.06-2.06.94zm10 10l.94 2.06.94-2.06 2.06-.94-2.06-.94-.94-2.06-.94 2.06-2.06.94z\"/><path d=\"M17.41 7.96l-1.37-1.37c-.4-.4-.92-.59-1.43-.59-.52 0-1.04.2-1.43.59L10.3 9.45l-7.72 7.72c-.78.78-.78 2.05 0 2.83L4 21.41c.39.39.9.59 1.41.59.51 0 1.02-.2 1.41-.59l7.78-7.78 2.81-2.81c.8-.78.8-2.07 0-2.86zM5.41 20L4 18.59l7.72-7.72 1.47 1.35L5.41 20z\"/>\n",
              "  </svg>\n",
              "      </button>\n",
              "      \n",
              "  <style>\n",
              "    .colab-df-container {\n",
              "      display:flex;\n",
              "      flex-wrap:wrap;\n",
              "      gap: 12px;\n",
              "    }\n",
              "\n",
              "    .colab-df-convert {\n",
              "      background-color: #E8F0FE;\n",
              "      border: none;\n",
              "      border-radius: 50%;\n",
              "      cursor: pointer;\n",
              "      display: none;\n",
              "      fill: #1967D2;\n",
              "      height: 32px;\n",
              "      padding: 0 0 0 0;\n",
              "      width: 32px;\n",
              "    }\n",
              "\n",
              "    .colab-df-convert:hover {\n",
              "      background-color: #E2EBFA;\n",
              "      box-shadow: 0px 1px 2px rgba(60, 64, 67, 0.3), 0px 1px 3px 1px rgba(60, 64, 67, 0.15);\n",
              "      fill: #174EA6;\n",
              "    }\n",
              "\n",
              "    [theme=dark] .colab-df-convert {\n",
              "      background-color: #3B4455;\n",
              "      fill: #D2E3FC;\n",
              "    }\n",
              "\n",
              "    [theme=dark] .colab-df-convert:hover {\n",
              "      background-color: #434B5C;\n",
              "      box-shadow: 0px 1px 3px 1px rgba(0, 0, 0, 0.15);\n",
              "      filter: drop-shadow(0px 1px 2px rgba(0, 0, 0, 0.3));\n",
              "      fill: #FFFFFF;\n",
              "    }\n",
              "  </style>\n",
              "\n",
              "      <script>\n",
              "        const buttonEl =\n",
              "          document.querySelector('#df-539db087-9e00-457d-852b-93d07a95dbd7 button.colab-df-convert');\n",
              "        buttonEl.style.display =\n",
              "          google.colab.kernel.accessAllowed ? 'block' : 'none';\n",
              "\n",
              "        async function convertToInteractive(key) {\n",
              "          const element = document.querySelector('#df-539db087-9e00-457d-852b-93d07a95dbd7');\n",
              "          const dataTable =\n",
              "            await google.colab.kernel.invokeFunction('convertToInteractive',\n",
              "                                                     [key], {});\n",
              "          if (!dataTable) return;\n",
              "\n",
              "          const docLinkHtml = 'Like what you see? Visit the ' +\n",
              "            '<a target=\"_blank\" href=https://colab.research.google.com/notebooks/data_table.ipynb>data table notebook</a>'\n",
              "            + ' to learn more about interactive tables.';\n",
              "          element.innerHTML = '';\n",
              "          dataTable['output_type'] = 'display_data';\n",
              "          await google.colab.output.renderOutput(dataTable, element);\n",
              "          const docLink = document.createElement('div');\n",
              "          docLink.innerHTML = docLinkHtml;\n",
              "          element.appendChild(docLink);\n",
              "        }\n",
              "      </script>\n",
              "    </div>\n",
              "  </div>\n",
              "  "
            ]
          },
          "metadata": {},
          "execution_count": 26
        }
      ]
    },
    {
      "cell_type": "code",
      "source": [
        "from sklearn.model_selection import train_test_split\n",
        "\n",
        "x_train, x_test, y_train, y_test = train_test_split(clean_messages, labels, test_size=0.25, random_state=10)"
      ],
      "metadata": {
        "id": "yZTp2QlU24Ff"
      },
      "execution_count": 27,
      "outputs": []
    },
    {
      "cell_type": "code",
      "source": [
        "print(f'shape of x_train :{x_train.shape}')\n",
        "print(f'shape of x_test :{x_test.shape}')\n",
        "print(f'shape of y_train :{y_train.shape}')\n",
        "print(f'shape of y_test :{y_test.shape}')"
      ],
      "metadata": {
        "colab": {
          "base_uri": "https://localhost:8080/"
        },
        "id": "EdIWhH8k24Cz",
        "outputId": "40cb56b4-27b8-45a9-92bf-2451701b774d"
      },
      "execution_count": 28,
      "outputs": [
        {
          "output_type": "stream",
          "name": "stdout",
          "text": [
            "shape of x_train :(4179,)\n",
            "shape of x_test :(1393,)\n",
            "shape of y_train :(4179, 1)\n",
            "shape of y_test :(1393, 1)\n"
          ]
        }
      ]
    },
    {
      "cell_type": "code",
      "source": [
        "y_train = np.squeeze(y_train)"
      ],
      "metadata": {
        "id": "OYOMd8LG9QXh"
      },
      "execution_count": 29,
      "outputs": []
    },
    {
      "cell_type": "code",
      "source": [
        "y_test = np.squeeze(y_test)"
      ],
      "metadata": {
        "id": "3jnmkQXW9rs4"
      },
      "execution_count": 30,
      "outputs": []
    },
    {
      "cell_type": "code",
      "source": [
        "y_test.head()"
      ],
      "metadata": {
        "colab": {
          "base_uri": "https://localhost:8080/"
        },
        "id": "QLefg1oe23_8",
        "outputId": "373180f6-2e2c-4bfd-81be-c36fbc3fec33"
      },
      "execution_count": 31,
      "outputs": [
        {
          "output_type": "execute_result",
          "data": {
            "text/plain": [
              "4635    0\n",
              "2279    0\n",
              "4545    0\n",
              "5084    0\n",
              "5298    0\n",
              "Name: Label, dtype: uint8"
            ]
          },
          "metadata": {},
          "execution_count": 31
        }
      ]
    },
    {
      "cell_type": "code",
      "source": [
        "print(f'shape of y_train :{y_train.shape}')\n",
        "print(f'shape of y_test :{y_test.shape}')"
      ],
      "metadata": {
        "colab": {
          "base_uri": "https://localhost:8080/"
        },
        "id": "ZALFNi6o2388",
        "outputId": "c03a34c9-6d74-4b9f-aad7-00a5075955ef"
      },
      "execution_count": 32,
      "outputs": [
        {
          "output_type": "stream",
          "name": "stdout",
          "text": [
            "shape of y_train :(4179,)\n",
            "shape of y_test :(1393,)\n"
          ]
        }
      ]
    },
    {
      "cell_type": "code",
      "source": [
        "from tensorflow.keras.preprocessing.text import Tokenizer"
      ],
      "metadata": {
        "id": "K7Mil4_T236L"
      },
      "execution_count": 33,
      "outputs": []
    },
    {
      "cell_type": "code",
      "source": [
        "tokenize = Tokenizer(num_words=10000)\n",
        "\n",
        "tokenize.fit_on_texts(x_train)\n",
        "\n",
        "x_train = tokenize.texts_to_sequences(x_train)\n",
        "x_test = tokenize.texts_to_sequences(x_test)"
      ],
      "metadata": {
        "id": "tc6HFygb233l"
      },
      "execution_count": 34,
      "outputs": []
    },
    {
      "cell_type": "code",
      "source": [
        "print(tokenize.word_index)"
      ],
      "metadata": {
        "colab": {
          "base_uri": "https://localhost:8080/"
        },
        "id": "MYCyDExa230q",
        "outputId": "983900b0-7042-4848-8c49-3487b9979440"
      },
      "execution_count": 35,
      "outputs": [
        {
          "output_type": "stream",
          "name": "stdout",
          "text": [
            "{'i': 1, 'u': 2, 'call': 3, 'get': 4, 'ur': 5, 'you': 6, 'go': 7, 'gt': 8, 'lt': 9, 'free': 10, 'day': 11, 'ok': 12, 'know': 13, 'come': 14, 'time': 15, 'got': 16, 'like': 17, 'good': 18, 'no': 19, 'want': 20, 'love': 21, 'text': 22, 'txt': 23, 'p': 24, 'send': 25, 'one': 26, 'need': 27, 'r': 28, 'home': 29, 'going': 30, 'how': 31, 'stop': 32, 'n': 33, 'take': 34, 'today': 35, 'k': 36, 'lor': 37, 'if': 38, 'but': 39, 'dont': 40, 'tell': 41, 'still': 42, 'reply': 43, 'da': 44, 'sorry': 45, 'mobile': 46, 'see': 47, 'back': 48, 'we': 49, 'week': 50, 'so': 51, 'phone': 52, 'think': 53, 'hi': 54, 'what': 55, 'later': 56, 'msg': 57, 'new': 58, 'the': 59, 'do': 60, 'much': 61, 'pls': 62, 'please': 63, 'it': 64, 'min': 65, 'just': 66, 'well': 67, 'oh': 68, 'dear': 69, 'thing': 70, 'c': 71, 'a': 72, 'great': 73, 'your': 74, 'night': 75, 'co': 76, 'make': 77, 'my': 78, 'message': 79, 'and': 80, 'hope': 81, 'claim': 82, 'say': 83, 'hey': 84, 'work': 85, 'b': 86, 'now': 87, 'have': 88, 'yes': 89, 'right': 90, 'wat': 91, 'www': 92, 'number': 93, 'way': 94, 'e': 95, 'friend': 96, 'can': 97, 'yeah': 98, 'give': 99, 'are': 100, 'prize': 101, 't': 102, 'said': 103, 'life': 104, 'this': 105, 'to': 106, 'win': 107, 'cash': 108, 'happy': 109, 'im': 110, 'tomorrow': 111, 'ask': 112, 'is': 113, 'miss': 114, 'that': 115, 'babe': 116, 'com': 117, 'tone': 118, 'its': 119, 'already': 120, 'would': 121, 'keep': 122, 'really': 123, 'care': 124, 'morning': 125, 'anything': 126, 'let': 127, 'meet': 128, 'find': 129, 'also': 130, 'thanks': 131, 'year': 132, 'every': 133, 'feel': 134, 'x': 135, 'not': 136, 'last': 137, 'nokia': 138, 'amp': 139, 'urgent': 140, 'service': 141, 'sure': 142, 'uk': 143, 'lol': 144, 'pick': 145, 'something': 146, 'cant': 147, 'went': 148, 'place': 149, 'contact': 150, 'guy': 151, 'sent': 152, 'tonight': 153, 'me': 154, 'wish': 155, 'wait': 156, 'someone': 157, 'even': 158, 'leave': 159, 'w': 160, 'gud': 161, 'first': 162, 'buy': 163, 'word': 164, 'show': 165, 'ya': 166, 'could': 167, 'next': 168, 'dun': 169, 'customer': 170, 'help': 171, 'always': 172, 'around': 173, 'box': 174, 'month': 175, 'gonna': 176, 'nice': 177, 'told': 178, 'per': 179, 'in': 180, 'many': 181, 'money': 182, 'fine': 183, 'sleep': 184, 'lot': 185, 'late': 186, 'smile': 187, 'name': 188, 'when': 189, 'did': 190, 'end': 191, 'may': 192, 'as': 193, 'then': 194, 'waiting': 195, 'talk': 196, 'she': 197, 'soon': 198, 'st': 199, 'hour': 200, 'class': 201, 'draw': 202, 'guaranteed': 203, 'ppm': 204, 'v': 205, 'done': 206, 'pm': 207, 'people': 208, 'yet': 209, 'for': 210, 'try': 211, 'person': 212, 'holiday': 213, 'he': 214, 'use': 215, 'wan': 216, 'dat': 217, 'best': 218, 'man': 219, 'chat': 220, 'haha': 221, 'thk': 222, 'cool': 223, 'never': 224, 'problem': 225, 'world': 226, 'god': 227, 'coming': 228, 'offer': 229, 'start': 230, 'heart': 231, 'half': 232, 'line': 233, 'live': 234, 'th': 235, 'will': 236, 'rate': 237, 'car': 238, 'ill': 239, 'yup': 240, 'hr': 241, 'stuff': 242, 'bit': 243, 'all': 244, 'minute': 245, 'thought': 246, 'getting': 247, 'they': 248, 'mean': 249, 'hello': 250, 'finish': 251, 'girl': 252, 'trying': 253, 'cost': 254, 'lunch': 255, 'cs': 256, 'wk': 257, 'camera': 258, 'latest': 259, 'guess': 260, 'only': 261, 'liao': 262, 'account': 263, 'plan': 264, 'lar': 265, 'thats': 266, 'meeting': 267, 'real': 268, 'play': 269, 'bt': 270, 'or': 271, 'yo': 272, 'landline': 273, 'sir': 274, 'mind': 275, 'better': 276, 'wanna': 277, 'awarded': 278, 'age': 279, 'ever': 280, 'special': 281, 'check': 282, 'big': 283, 'nothing': 284, 'might': 285, 'house': 286, 'receive': 287, 'ready': 288, 'enjoy': 289, 'g': 290, 'don': 291, 'long': 292, 'look': 293, 'boy': 294, 'weekend': 295, 'where': 296, 'chance': 297, 'po': 298, 'at': 299, 'luv': 300, 'called': 301, 'job': 302, 's': 303, 'room': 304, 'shit': 305, 'game': 306, 'ah': 307, 'shopping': 308, 'sat': 309, 'jus': 310, 'pobox': 311, 'sms': 312, 'orange': 313, 'bad': 314, 'dream': 315, 'pic': 316, 'shall': 317, 'fun': 318, 'without': 319, 'sweet': 320, 'movie': 321, 'eat': 322, 'another': 323, 'dinner': 324, 'watch': 325, 'gift': 326, 'nd': 327, 'wont': 328, 'baby': 329, 'worry': 330, 'voucher': 331, 'two': 332, 'face': 333, 'den': 334, 'ringtone': 335, 'pay': 336, 'bus': 337, 'thank': 338, 'quite': 339, 'there': 340, 'tv': 341, 'probably': 342, 'easy': 343, 'leh': 344, 'am': 345, 'aight': 346, 'question': 347, 'watching': 348, 'xxx': 349, 'part': 350, 'hurt': 351, 'de': 352, 'speak': 353, 'xmas': 354, 'didnt': 355, 'afternoon': 356, 'hear': 357, 'mate': 358, 'up': 359, 'nite': 360, 'birthday': 361, 'apply': 362, 'collection': 363, 'm': 364, 'little': 365, 'kiss': 366, 'dunno': 367, 'hav': 368, 'remember': 369, 'left': 370, 'enough': 371, 'fuck': 372, 'school': 373, 'forgot': 374, 'true': 375, 'princess': 376, 'working': 377, 'able': 378, 'thanx': 379, 'run': 380, 'point': 381, 'asked': 382, 'on': 383, 'put': 384, 'bed': 385, 'looking': 386, 'xx': 387, 'entry': 388, 'everything': 389, 'dis': 390, 'code': 391, 'juz': 392, 'dad': 393, 'anyway': 394, 'selected': 395, 'sch': 396, 'book': 397, 'weekly': 398, 'was': 399, 'important': 400, 'of': 401, 'made': 402, 'update': 403, 'mob': 404, 'plz': 405, 'maybe': 406, 'pound': 407, 'price': 408, 'plus': 409, 'abt': 410, 'bring': 411, 'til': 412, 'else': 413, 'must': 414, 'wif': 415, 'music': 416, 'with': 417, 'double': 418, 'collect': 419, 'evening': 420, 'missed': 421, 'since': 422, 'pain': 423, 'colour': 424, 'lei': 425, 'optout': 426, 'network': 427, 'valid': 428, 'change': 429, 'wanted': 430, 'came': 431, 'video': 432, 'why': 433, 'wake': 434, 'wife': 435, 'test': 436, 'okay': 437, 'd': 438, 'trip': 439, 'detail': 440, 'lose': 441, 'actually': 442, 'lesson': 443, 'date': 444, 'office': 445, 'wot': 446, 'national': 447, 'pub': 448, 'join': 449, 'making': 450, 'await': 451, 'sae': 452, 'early': 453, 'charge': 454, 'calling': 455, 'head': 456, 'alright': 457, 'attempt': 458, 'haf': 459, 'together': 460, 'though': 461, 'tmr': 462, 'set': 463, 'brother': 464, 'gr': 465, 'pa': 466, 'card': 467, 'chikku': 468, 'wen': 469, 'reach': 470, 'award': 471, 'stay': 472, 'missing': 473, 'full': 474, 'from': 475, 'oso': 476, 'order': 477, 'decimal': 478, 'tried': 479, 'old': 480, 'havent': 481, 'busy': 482, 'huh': 483, 'had': 484, 'happen': 485, 'drink': 486, 'top': 487, 'tho': 488, 'story': 489, 'either': 490, 'leaving': 491, 'yesterday': 492, 'shop': 493, 'mail': 494, 'till': 495, 'town': 496, 'address': 497, 'yr': 498, 'poly': 499, 'okie': 500, 'won': 501, 'mine': 502, 'j': 503, 'eve': 504, 'thinking': 505, 'family': 506, 'rite': 507, 'online': 508, 'beautiful': 509, 'kind': 510, 'si': 511, 'congrats': 512, 'food': 513, 'saw': 514, 'hot': 515, 'reason': 516, 'drop': 517, 'credit': 518, 'delivery': 519, 'who': 520, 'net': 521, 'break': 522, 'dude': 523, 'club': 524, 'answer': 525, 'gal': 526, 'ard': 527, 'mobileupd': 528, 'y': 529, 'believe': 530, 'our': 531, 'cause': 532, 'o': 533, 'available': 534, 'company': 535, 'mom': 536, 'smoke': 537, 'simple': 538, 'finished': 539, 'frnd': 540, 'f': 541, 'drive': 542, 'bonus': 543, 'nt': 544, 'everyone': 545, 'anyone': 546, 'touch': 547, 'search': 548, 'feeling': 549, 'coz': 550, 'whats': 551, 'be': 552, 'cos': 553, 'hair': 554, 'tot': 555, 'aft': 556, 'bored': 557, 'player': 558, 'forget': 559, 'sm': 560, 'saying': 561, 'prob': 562, 'sexy': 563, 'private': 564, 'statement': 565, 'angry': 566, 'news': 567, 'an': 568, 'took': 569, 'opt': 570, 'driving': 571, 'close': 572, 'sun': 573, 'should': 574, 'dating': 575, 'any': 576, 'sleeping': 577, 'post': 578, 'goodmorning': 579, 'started': 580, 'hmm': 581, 'fast': 582, 'land': 583, 'gd': 584, 'friendship': 585, 'ring': 586, 'email': 587, 'awesome': 588, 'mum': 589, 'smiling': 590, 'smth': 591, 'fri': 592, 'neva': 593, 'hold': 594, 'hl': 595, 'goin': 596, 'wid': 597, 'expires': 598, 'loving': 599, 'walk': 600, 'fucking': 601, 'tomo': 602, 'type': 603, 'sad': 604, 'todays': 605, 'match': 606, 'least': 607, 'choose': 608, 'frnds': 609, 'ha': 610, 'row': 611, 'away': 612, 'blue': 613, 'freemsg': 614, 'after': 615, 'course': 616, 'http': 617, 'congratulations': 618, 'used': 619, 'mths': 620, 'second': 621, 'info': 622, 'wil': 623, 'motorola': 624, 'tc': 625, 'knw': 626, 'oredi': 627, 'ltd': 628, 'suite': 629, 'content': 630, 'identifier': 631, 'whole': 632, 'snow': 633, 'sound': 634, 'operator': 635, 'which': 636, 'hungry': 637, 'listen': 638, 'mayb': 639, 'lovely': 640, 'project': 641, 'hand': 642, 'open': 643, 'fancy': 644, 'party': 645, 'wq': 646, 'chennai': 647, 'gone': 648, 'alone': 649, 'treat': 650, 'friday': 651, 'song': 652, 'download': 653, 'welcome': 654, 'worth': 655, 'sub': 656, 'log': 657, 'paper': 658, 'nope': 659, 'secret': 660, 'couple': 661, 'shower': 662, 'happened': 663, 'die': 664, 'complimentary': 665, 'monday': 666, 'fr': 667, 'pretty': 668, 'darlin': 669, 'sunday': 670, 'winner': 671, 'supposed': 672, 'support': 673, 'christmas': 674, 'bslvyl': 675, 'enter': 676, 'bank': 677, 'wine': 678, 'hows': 679, 'le': 680, 'train': 681, 'bill': 682, 'mrng': 683, 'carlos': 684, 'case': 685, 'police': 686, 'picking': 687, 'more': 688, 'uncle': 689, 'met': 690, 'far': 691, 'gn': 692, 'eh': 693, 'crave': 694, 'auction': 695, 'moment': 696, 'joy': 697, 'side': 698, 'grin': 699, 'read': 700, 'txts': 701, 'ni': 702, 'laptop': 703, 'taking': 704, 'lucky': 705, 'wit': 706, 'comp': 707, 'exam': 708, 'area': 709, 'wkly': 710, 'unsubscribe': 711, 'l': 712, 'boytoy': 713, 'sk': 714, 'max': 715, 'anytime': 716, 'camcorder': 717, 'checking': 718, 'sex': 719, 'telling': 720, 'gym': 721, 'decided': 722, 'seeing': 723, 'crazy': 724, 'happiness': 725, 'finally': 726, 'final': 727, 'by': 728, 'sending': 729, 'il': 730, 'water': 731, 'whatever': 732, 'photo': 733, 'wap': 734, 'move': 735, 'stupid': 736, 'mins': 737, 'india': 738, 'wrong': 739, 'doctor': 740, 'hmmm': 741, 'found': 742, 'england': 743, 'fone': 744, 'gbp': 745, 'hard': 746, 'visit': 747, 'lost': 748, 'laugh': 749, 'balance': 750, 'sister': 751, 'college': 752, 'wonder': 753, 'id': 754, 'figure': 755, 'safe': 756, 'tonite': 757, 'dnt': 758, 'within': 759, 'ten': 760, 'tel': 761, 'loved': 762, 'energy': 763, 'noe': 764, 'park': 765, 'drug': 766, 'currently': 767, 'store': 768, 'out': 769, 'earlier': 770, 'sell': 771, 'mu': 772, 'gas': 773, 'felt': 774, 'calls': 775, 'ho': 776, 'situation': 777, 'correct': 778, 'tired': 779, 'mm': 780, 'oops': 781, 'cum': 782, 'page': 783, 'rest': 784, 'hoping': 785, 'un': 786, 'excuse': 787, 'gettin': 788, 'sea': 789, 'catch': 790, 'quiz': 791, 'hit': 792, 'saturday': 793, 'mon': 794, 'xy': 795, 'invited': 796, 'charged': 797, 'heard': 798, 'empty': 799, 'entered': 800, 'his': 801, 'deal': 802, 'tones': 803, 'ringtones': 804, 'confirm': 805, 'mah': 806, 'logo': 807, 'slow': 808, 'ago': 809, 'rent': 810, 'wana': 811, 'lands': 812, 'semester': 813, 'same': 814, 'wonderful': 815, 'seen': 816, 'asking': 817, 'small': 818, 'door': 819, 'opinion': 820, 'difficult': 821, 'brings': 822, 'jay': 823, 'frm': 824, 'bcoz': 825, 'lovable': 826, 'voice': 827, 'std': 828, 'gotta': 829, 'sport': 830, 'bag': 831, 'bathe': 832, 'almost': 833, 'txting': 834, 'sale': 835, 'swing': 836, 'reading': 837, 'very': 838, 'wow': 839, 'glad': 840, 'flag': 841, 'valentine': 842, 'remove': 843, 'press': 844, 'father': 845, 'march': 846, 'lady': 847, 'meant': 848, 'kick': 849, 'askd': 850, 'tht': 851, 'entitled': 852, 'rental': 853, 'planning': 854, 'computer': 855, 'weed': 856, 'na': 857, 'redeemed': 858, 'nyt': 859, 'issue': 860, 'caller': 861, 'studying': 862, 'wondering': 863, 'merry': 864, 'buying': 865, 'gave': 866, 'different': 867, 'hiya': 868, 'etc': 869, 'decide': 870, 'study': 871, 'information': 872, 'quick': 873, 'bout': 874, 'add': 875, 'truth': 876, 'bb': 877, 'cd': 878, 'understand': 879, 'write': 880, 'hospital': 881, 'does': 882, 'cup': 883, 'hw': 884, 'idea': 885, 'street': 886, 'immediately': 887, 'eg': 888, 'luck': 889, 'lover': 890, 'result': 891, 'ipod': 892, 'over': 893, 'urself': 894, 'disturb': 895, 'reached': 896, 'whenever': 897, 'daddy': 898, 'sometimes': 899, 'future': 900, 'somewhere': 901, 'rock': 902, 'ish': 903, 'none': 904, 'light': 905, 'silent': 906, 'power': 907, 'ac': 908, 'john': 909, 'darren': 910, 'booked': 911, 'ldew': 912, 'ppmx': 913, 'ex': 914, 'bath': 915, 'knew': 916, 'usf': 917, 'outside': 918, 'unlimited': 919, 'registered': 920, 'near': 921, 'valued': 922, 'surprise': 923, 'yar': 924, 'copy': 925, 'cheap': 926, 'custcare': 927, 'bluetooth': 928, 'parents': 929, 'callertune': 930, 'sort': 931, 'save': 932, 'norm': 933, 'lets': 934, 'red': 935, 'getzed': 936, 'hmv': 937, 'workin': 938, 'loyalty': 939, 'del': 940, 'record': 941, 'stand': 942, 'load': 943, 'woke': 944, 'however': 945, 'short': 946, 'abiola': 947, 'excellent': 948, 'happening': 949, 'fixed': 950, 'honey': 951, 'hee': 952, 'staying': 953, 'running': 954, 'flower': 955, 'lemme': 956, 'cheers': 957, 'ave': 958, 'specially': 959, 'flight': 960, 'parent': 961, 'possible': 962, 'interested': 963, 'link': 964, 'suck': 965, 'sick': 966, 'orchard': 967, 'bother': 968, 'talking': 969, 'pas': 970, 'bx': 971, 'been': 972, 'film': 973, 'space': 974, 'starting': 975, 'ending': 976, 'er': 977, 'mo': 978, 'sounds': 979, 'mr': 980, 'joke': 981, 'kb': 982, 'leaf': 983, 'ntt': 984, 'cr': 985, 'others': 986, 'imagine': 987, 'cover': 988, 'normal': 989, 'giving': 990, 'spree': 991, 'din': 992, 'pete': 993, 'tat': 994, 'nobody': 995, 'hg': 996, 'student': 997, 'wx': 998, 'promise': 999, 'mp': 1000, 'lazy': 1001, 'representative': 1002, 'user': 1003, 'return': 1004, 'trust': 1005, 'tear': 1006, 'egg': 1007, 'pray': 1008, 'key': 1009, 'digital': 1010, 'iam': 1011, 'friends': 1012, 'discount': 1013, 'mistake': 1014, 'spend': 1015, 'reference': 1016, 'comin': 1017, 'vl': 1018, 'forwarded': 1019, 'direct': 1020, 'coffee': 1021, 'insurance': 1022, 'dogging': 1023, 'gay': 1024, 'trouble': 1025, 'umma': 1026, 'bak': 1027, 'kinda': 1028, 'warm': 1029, 'somebody': 1030, 'seems': 1031, 'wiv': 1032, 'medical': 1033, 'men': 1034, 'extra': 1035, 'ugh': 1036, 'em': 1037, 'using': 1038, 'fault': 1039, 'wishing': 1040, 'asap': 1041, 'moon': 1042, 'deep': 1043, 'moral': 1044, 'ge': 1045, 'hotel': 1046, 'planned': 1047, 'kid': 1048, 'ticket': 1049, 'mode': 1050, 'letter': 1051, 'loan': 1052, 'rain': 1053, 'especially': 1054, 'rply': 1055, 'kate': 1056, 'poor': 1057, 'reveal': 1058, 'usual': 1059, 'omg': 1060, 'single': 1061, 'colleagues': 1062, 'valentines': 1063, 'argument': 1064, 'costa': 1065, 'sol': 1066, 'strong': 1067, 'ta': 1068, 'doin': 1069, 'road': 1070, 'feb': 1071, 'air': 1072, 'thinkin': 1073, 'usually': 1074, 'cake': 1075, 'otherwise': 1076, 'naughty': 1077, 'meh': 1078, 'following': 1079, 'aftr': 1080, 'seriously': 1081, 'liked': 1082, 'inc': 1083, 'child': 1084, 'via': 1085, 'fullonsms': 1086, 'willing': 1087, 'buck': 1088, 'mark': 1089, 'turn': 1090, 'sunny': 1091, 'ahead': 1092, 'waste': 1093, 'aha': 1094, 'password': 1095, 'pc': 1096, 'ip': 1097, 'setting': 1098, 'nxt': 1099, 'inch': 1100, 'sim': 1101, 'sign': 1102, 'cal': 1103, 'ar': 1104, 'reward': 1105, 'version': 1106, 'arrive': 1107, 'budget': 1108, 'eating': 1109, 'cine': 1110, 'slept': 1111, 'instead': 1112, 'walking': 1113, 'tscs': 1114, 'subscription': 1115, 'polys': 1116, 'thts': 1117, 'thru': 1118, 'foot': 1119, 'kept': 1120, 'team': 1121, 'joined': 1122, 'yest': 1123, 'cut': 1124, 'round': 1125, 'yahoo': 1126, 'eye': 1127, 'bird': 1128, 'role': 1129, 'sigh': 1130, 'complete': 1131, 'request': 1132, 'wer': 1133, 'dey': 1134, 'notice': 1135, 'system': 1136, 'midnight': 1137, 'unsub': 1138, 'black': 1139, 'shirt': 1140, 'doesnt': 1141, 'omw': 1142, 'tea': 1143, 'apartment': 1144, 'hai': 1145, 'present': 1146, 'rcvd': 1147, 'wats': 1148, 'campus': 1149, 'library': 1150, 'fix': 1151, 'completely': 1152, 'lect': 1153, 'tncs': 1154, 'fyi': 1155, 'tampa': 1156, 'woman': 1157, 'access': 1158, 'character': 1159, 'choice': 1160, 'inviting': 1161, 'connection': 1162, 'maximize': 1163, 'cc': 1164, 'summer': 1165, 'longer': 1166, 'fantastic': 1167, 'slowly': 1168, 'swt': 1169, 'matter': 1170, 'guide': 1171, 'yijue': 1172, 'convey': 1173, 'were': 1174, 'clean': 1175, 'wherever': 1176, 'yep': 1177, 'depends': 1178, 'training': 1179, 'process': 1180, 'imma': 1181, 'cancel': 1182, 'cafe': 1183, 'forever': 1184, 'picked': 1185, 'picture': 1186, 'surely': 1187, 'oz': 1188, 'pleasure': 1189, 'official': 1190, 'la': 1191, 'paying': 1192, 'games': 1193, 'eatin': 1194, 'ts': 1195, 'facebook': 1196, 'quality': 1197, 'past': 1198, 'izzit': 1199, 'kerala': 1200, 'horny': 1201, 'paid': 1202, 'ldn': 1203, 'arcade': 1204, 'awake': 1205, 'weight': 1206, 'vikky': 1207, 'station': 1208, 'meaning': 1209, 'muz': 1210, 'kallis': 1211, 'hp': 1212, 'melle': 1213, 'inside': 1214, 'admirer': 1215, 'directly': 1216, 'sp': 1217, 'model': 1218, 'sony': 1219, 'tm': 1220, 'roommate': 1221, 'receipt': 1222, 'yoga': 1223, 'high': 1224, 'noon': 1225, 'wc': 1226, 'tariff': 1227, 'buzz': 1228, 'charity': 1229, 'accept': 1230, 'tick': 1231, 'joking': 1232, 'wed': 1233, 'txtauction': 1234, 'checked': 1235, 'toclaim': 1236, 'stockport': 1237, 'xh': 1238, 'biz': 1239, 'spent': 1240, 'pussy': 1241, 'bedroom': 1242, 'mood': 1243, 'except': 1244, 'bun': 1245, 'damn': 1246, 'aiyah': 1247, 'flirt': 1248, 'rather': 1249, 'cheaper': 1250, 'across': 1251, 'personal': 1252, 'daily': 1253, 'weather': 1254, 'whether': 1255, 'worried': 1256, 'pizza': 1257, 'lonely': 1258, 'cinema': 1259, 'decision': 1260, 'timing': 1261, 'south': 1262, 'partner': 1263, 'career': 1264, 'sitting': 1265, 'because': 1266, 'gap': 1267, 'sum': 1268, 'vry': 1269, 'holding': 1270, 'bold': 1271, 'dollar': 1272, 'jazz': 1273, 'respond': 1274, 'croydon': 1275, 'wb': 1276, 'site': 1277, 'self': 1278, 'art': 1279, 'informed': 1280, 'cbe': 1281, 'city': 1282, 'murder': 1283, 'children': 1284, 'marriage': 1285, 'advice': 1286, 'goodnight': 1287, 'alrite': 1288, 'loves': 1289, 'euro': 1290, 'hate': 1291, 'boo': 1292, 'group': 1293, 'recently': 1294, 'jst': 1295, 'towards': 1296, 'brand': 1297, 'askin': 1298, 'alex': 1299, 'sit': 1300, 'plane': 1301, 'tenerife': 1302, 'super': 1303, 'cuz': 1304, 'plenty': 1305, 'hv': 1306, 'subscriber': 1307, 'freephone': 1308, 'unless': 1309, 'appreciate': 1310, 'style': 1311, 'earth': 1312, 'teach': 1313, 'quote': 1314, 'ray': 1315, 'nah': 1316, 'rakhesh': 1317, 'sipix': 1318, 'location': 1319, 'savamob': 1320, 'bitch': 1321, 'begin': 1322, 'unable': 1323, 'experience': 1324, 'both': 1325, 'slave': 1326, 'ahmad': 1327, 'random': 1328, 'aathi': 1329, 'spook': 1330, 'zed': 1331, 'onto': 1332, 'sec': 1333, 'belly': 1334, 'again': 1335, 'lmao': 1336, 'pilate': 1337, 'intro': 1338, 'changed': 1339, 'relax': 1340, 'regard': 1341, 'awaiting': 1342, 'april': 1343, 'theatre': 1344, 'nigeria': 1345, 'expensive': 1346, 'cell': 1347, 'reaching': 1348, 'gentle': 1349, 'doc': 1350, 'boston': 1351, 'lik': 1352, 'nat': 1353, 'share': 1354, 'haven': 1355, 'click': 1356, 'pack': 1357, 'stock': 1358, 'living': 1359, 'stopped': 1360, 'sup': 1361, 'cds': 1362, 'pix': 1363, 'tough': 1364, 'centre': 1365, 'gm': 1366, 'putting': 1367, 'coin': 1368, 'med': 1369, 'q': 1370, 'track': 1371, 'funny': 1372, 'fall': 1373, 'gee': 1374, 'married': 1375, 'white': 1376, 'fantasy': 1377, 'al': 1378, 'moan': 1379, 'asleep': 1380, 'indian': 1381, 'childish': 1382, 'boost': 1383, 'linerental': 1384, 'frens': 1385, 'fetch': 1386, 'note': 1387, 'sunshine': 1388, 'heavy': 1389, 'member': 1390, 'fact': 1391, 'ttyl': 1392, 'throw': 1393, 'five': 1394, 'sight': 1395, 'announcement': 1396, 'happens': 1397, 'deliver': 1398, 'file': 1399, 'yogasana': 1400, 'vodafone': 1401, 'aiyo': 1402, 'died': 1403, 'goto': 1404, 'behind': 1405, 'looked': 1406, 'sonyericsson': 1407, 'screaming': 1408, 'sofa': 1409, 'dead': 1410, 'tour': 1411, 'envelope': 1412, 'vary': 1413, 'urgnt': 1414, 'easier': 1415, 'advance': 1416, 'mtmsg': 1417, 'derek': 1418, 'theory': 1419, 'argue': 1420, 'wun': 1421, 'shuhui': 1422, 'arm': 1423, 'menu': 1424, 'ibiza': 1425, 'wp': 1426, 'social': 1427, 'airport': 1428, 'london': 1429, 'diet': 1430, 'jess': 1431, 'wks': 1432, 'dirty': 1433, 'darling': 1434, 'loverboy': 1435, 'sky': 1436, 'raining': 1437, 'practice': 1438, 'replied': 1439, 'window': 1440, 'beer': 1441, 'blank': 1442, 'serious': 1443, 'greet': 1444, 'affair': 1445, 'ride': 1446, 'ph': 1447, 'anyways': 1448, 'about': 1449, 'jordan': 1450, 'hopefully': 1451, 'miracle': 1452, 'wall': 1453, 'become': 1454, 'apparently': 1455, 'accidentally': 1456, 'fighting': 1457, 'cancer': 1458, 'throat': 1459, 'scared': 1460, 'due': 1461, 'posted': 1462, 'lead': 1463, 'unique': 1464, 'created': 1465, 'leg': 1466, 'master': 1467, 'num': 1468, 'fat': 1469, 'milk': 1470, 'dog': 1471, 'revealed': 1472, 'cold': 1473, 'amt': 1474, 'handset': 1475, 'contacted': 1476, 'tyler': 1477, 'grand': 1478, 'videophones': 1479, 'videochat': 1480, 'java': 1481, 'dload': 1482, 'noline': 1483, 'rentl': 1484, 'solve': 1485, 'murdered': 1486, 'cook': 1487, 'cooking': 1488, 'maid': 1489, 'arrested': 1490, 'murderer': 1491, 'brilliant': 1492, 'realy': 1493, 'moro': 1494, 'legal': 1495, 'forward': 1496, 'schedule': 1497, 'dare': 1498, 'original': 1499, 'wtf': 1500, 'lick': 1501, 'closer': 1502, 'ad': 1503, 'lift': 1504, 'hunny': 1505, 'isnt': 1506, 'flat': 1507, 'score': 1508, 'ive': 1509, 'tb': 1510, 'explain': 1511, 'travel': 1512, 'everybody': 1513, 'holla': 1514, 'rcv': 1515, 'sense': 1516, 'rs': 1517, 'height': 1518, 'confidence': 1519, 'hell': 1520, 'anymore': 1521, 'polyphonic': 1522, 'blessing': 1523, 'law': 1524, 'weak': 1525, 'bet': 1526, 'wnt': 1527, 'fever': 1528, 'delivered': 1529, 'nw': 1530, 'rd': 1531, 'nature': 1532, 'wearing': 1533, 'ended': 1534, 'bay': 1535, 'once': 1536, 'pin': 1537, 'qatar': 1538, 'opportunity': 1539, 'hurry': 1540, 'fromm': 1541, 'quit': 1542, 'addicted': 1543, 'brought': 1544, 'spoke': 1545, 'activate': 1546, 'replying': 1547, 'term': 1548, 'website': 1549, 'afraid': 1550, 'bloody': 1551, 'str': 1552, 'stylish': 1553, 'unredeemed': 1554, 'essential': 1555, 'gorgeous': 1556, 'bday': 1557, 'tt': 1558, 'pongal': 1559, 'blood': 1560, 'down': 1561, 'pissed': 1562, 'skilgme': 1563, 'winawk': 1564, 'rose': 1565, 'eerie': 1566, 'released': 1567, 'urawinner': 1568, 'leona': 1569, 'cute': 1570, 'added': 1571, 'list': 1572, 'thurs': 1573, 'body': 1574, 'gb': 1575, 'url': 1576, 'aunt': 1577, 'dint': 1578, 'cannot': 1579, 'outta': 1580, 'forum': 1581, 'freak': 1582, 'december': 1583, 'mile': 1584, 'clock': 1585, 'exactly': 1586, 'mummy': 1587, 'pleased': 1588, 'romantic': 1589, 'current': 1590, 'obviously': 1591, 'journey': 1592, 'gram': 1593, 'bloomberg': 1594, 'center': 1595, 'nyc': 1596, 'hill': 1597, 'hug': 1598, 'basically': 1599, 'ma': 1600, 'urn': 1601, 'appointment': 1602, 'cheer': 1603, 'cat': 1604, 'faster': 1605, 'meal': 1606, 'wrc': 1607, 'rally': 1608, 'lucozade': 1609, 'scream': 1610, 'perfect': 1611, 'review': 1612, 'yer': 1613, 'eng': 1614, 'acc': 1615, 'competition': 1616, 'wear': 1617, 'supply': 1618, 'bugis': 1619, 'waking': 1620, 'exact': 1621, 'bahamas': 1622, 'dvd': 1623, 'hook': 1624, 'learn': 1625, 'simply': 1626, 'enemy': 1627, 'thnk': 1628, 'arrange': 1629, 'sura': 1630, 'terms': 1631, 'english': 1632, 'vip': 1633, 'lookin': 1634, 'ntwk': 1635, 'login': 1636, 'mother': 1637, 'mmm': 1638, 'cam': 1639, 'mono': 1640, 'ppl': 1641, 'dropped': 1642, 'rush': 1643, 'ran': 1644, 'saved': 1645, 'santa': 1646, 'total': 1647, 'listening': 1648, 'showing': 1649, 'thangam': 1650, 'bye': 1651, 'somethin': 1652, 'yun': 1653, 'fl': 1654, 'internet': 1655, 'oru': 1656, 'callers': 1657, 'stoptxt': 1658, 'rem': 1659, 'technical': 1660, 'kano': 1661, 'mrt': 1662, 'fren': 1663, 'research': 1664, 'king': 1665, 'evng': 1666, 'app': 1667, 'idiot': 1668, 'twice': 1669, 'interview': 1670, 'unsold': 1671, 'remind': 1672, 'wa': 1673, 'ham': 1674, 'sen': 1675, 'definitely': 1676, 'google': 1677, 'adult': 1678, 'salary': 1679, 'green': 1680, 'cartoon': 1681, 'battery': 1682, 'moby': 1683, 'tuesday': 1684, 'kids': 1685, 'naked': 1686, 'torch': 1687, 'boring': 1688, 'mad': 1689, 'bought': 1690, 'fa': 1691, 'before': 1692, 'selling': 1693, 'bf': 1694, 'contract': 1695, 'harry': 1696, 'iq': 1697, 'barely': 1698, 'bid': 1699, 'malaria': 1700, 'thursday': 1701, 'jamster': 1702, 'wallpaper': 1703, 'loses': 1704, 'hostel': 1705, 'spk': 1706, 'sn': 1707, 'railway': 1708, 'juicy': 1709, 'booty': 1710, 'pple': 1711, 'takin': 1712, 'mid': 1713, 'amount': 1714, 'force': 1715, 'hella': 1716, 'sed': 1717, 'gang': 1718, 'incident': 1719, 'sugar': 1720, 'fit': 1721, 'terrible': 1722, 'smoking': 1723, 'wylie': 1724, 'tuition': 1725, 'california': 1726, 'toa': 1727, 'payoh': 1728, 'crab': 1729, 'wave': 1730, 'footprint': 1731, 'dot': 1732, 'befor': 1733, 'weird': 1734, 'spare': 1735, 'ru': 1736, 'normally': 1737, 'networking': 1738, 'themob': 1739, 'oic': 1740, 'fee': 1741, 'radio': 1742, 'slice': 1743, 'upgrade': 1744, 'july': 1745, 'hip': 1746, 'hop': 1747, 'peace': 1748, 'jesus': 1749, 'monthly': 1750, 'swimming': 1751, 'magical': 1752, 'suggest': 1753, 'fifteen': 1754, 'position': 1755, 'ne': 1756, 'closed': 1757, 'followed': 1758, 'star': 1759, 'ikea': 1760, 'among': 1761, 'aiya': 1762, 'sheet': 1763, 'fightng': 1764, 'dificult': 1765, 'voda': 1766, 'quoting': 1767, 'standard': 1768, 'cust': 1769, 'concentrate': 1770, 'fear': 1771, 'elsewhere': 1772, 'often': 1773, 'bein': 1774, 'didn': 1775, 'finger': 1776, 'fill': 1777, 'iscoming': 1778, 'gossip': 1779, 'challenge': 1780, 'garage': 1781, 'university': 1782, 'shy': 1783, 'fantasies': 1784, 'wu': 1785, 'violence': 1786, 'condition': 1787, 'arun': 1788, 'okey': 1789, 'wisdom': 1790, 'alwys': 1791, 'tf': 1792, 'anybody': 1793, 'bos': 1794, 'questioned': 1795, 'gardener': 1796, 'vegetable': 1797, 'neighbour': 1798, 'gary': 1799, 'ptbo': 1800, 'wales': 1801, 'attend': 1802, 'cud': 1803, 'sam': 1804, 'rofl': 1805, 'exciting': 1806, 'community': 1807, 'hun': 1808, 'mrw': 1809, 'american': 1810, 'callin': 1811, 'tirupur': 1812, 'piece': 1813, 'painful': 1814, 'verify': 1815, 'searching': 1816, 'transfered': 1817, 'soup': 1818, 'shd': 1819, 'tcs': 1820, 'cw': 1821, 'greeting': 1822, 'fool': 1823, 'subpoly': 1824, 'adore': 1825, 'knowing': 1826, 'gently': 1827, 'dislike': 1828, 'bringing': 1829, 'bud': 1830, 'spending': 1831, 'monkey': 1832, 'certainly': 1833, 'lac': 1834, 'missin': 1835, 'guilty': 1836, 'comedy': 1837, 'vomit': 1838, 'mi': 1839, 'fire': 1840, 'mt': 1841, 'nearly': 1842, 'infernal': 1843, 'bear': 1844, 'losing': 1845, 'accordingly': 1846, 'addie': 1847, 'shame': 1848, 'headache': 1849, 'abi': 1850, 'amazing': 1851, 'lie': 1852, 'hint': 1853, 'frying': 1854, 'chart': 1855, 'receiving': 1856, 'display': 1857, 'fml': 1858, 'bat': 1859, 'finishing': 1860, 'cornwall': 1861, 'expect': 1862, 'msging': 1863, 'most': 1864, 'shoot': 1865, 'billed': 1866, 'netcollex': 1867, 'understood': 1868, 'intelligent': 1869, 'alcohol': 1870, 'fell': 1871, 'jada': 1872, 'kusruthi': 1873, 'spl': 1874, 'matured': 1875, 'marry': 1876, 'measure': 1877, 'points': 1878, 'floor': 1879, 'blame': 1880, 'laid': 1881, 'uni': 1882, 'truly': 1883, 'effect': 1884, 'sha': 1885, 'pie': 1886, 'regarding': 1887, 'italian': 1888, 'tcr': 1889, 'perwksub': 1890, 'quickly': 1891, 'settle': 1892, 'tease': 1893, 'cry': 1894, 'halloween': 1895, 'fuckin': 1896, 'polyph': 1897, 'impossible': 1898, 'wt': 1899, 'remembered': 1900, 'insha': 1901, 'allah': 1902, 'texting': 1903, 'repair': 1904, 'senthil': 1905, 'ldnw': 1906, 'h': 1907, 'mtmsgrcvd': 1908, 'helen': 1909, 'received': 1910, 'worse': 1911, 'responsibility': 1912, 'nan': 1913, 'understanding': 1914, 'chillin': 1915, 'evn': 1916, 'itz': 1917, 'waitin': 1918, 'shld': 1919, 'rich': 1920, 'onwards': 1921, 'texted': 1922, 'saucy': 1923, 'brain': 1924, 'howz': 1925, 'medicine': 1926, 'citizen': 1927, 'these': 1928, 'morphine': 1929, 'tessy': 1930, 'favor': 1931, 'nimya': 1932, 'shijas': 1933, 'meanwhile': 1934, 'ordered': 1935, 'fb': 1936, 'slap': 1937, 'beware': 1938, 'irritating': 1939, 'connect': 1940, 'sooner': 1941, 'goodnite': 1942, 'lotr': 1943, 'taken': 1944, 'apps': 1945, 'web': 1946, 'anti': 1947, 'bowl': 1948, 'xxxxxxxxx': 1949, 'six': 1950, 'lab': 1951, 'dearer': 1952, 'dem': 1953, 'chatting': 1954, 'membership': 1955, 'pig': 1956, 'honeybee': 1957, 'sweetest': 1958, 'laughed': 1959, 'havnt': 1960, 'crack': 1961, 'jokes': 1962, 'di': 1963, 'sw': 1964, 'ss': 1965, 'ignore': 1966, 'skype': 1967, 'idk': 1968, 'forevr': 1969, 'moji': 1970, 'cruise': 1971, 'morn': 1972, 'transaction': 1973, 'credited': 1974, 'percent': 1975, 'postcode': 1976, 'here': 1977, 'celebrate': 1978, 'january': 1979, 'male': 1980, 'february': 1981, 'each': 1982, 'respect': 1983, 'girls': 1984, 'settled': 1985, 'fave': 1986, 'speechless': 1987, 'collected': 1988, 'captain': 1989, 'cleaning': 1990, 'xchat': 1991, 'channel': 1992, 'xuhui': 1993, 'alert': 1994, 'activity': 1995, 'likely': 1996, 'years': 1997, 'madam': 1998, 'regret': 1999, 'football': 2000, 'cross': 2001, 'refused': 2002, 'possession': 2003, 'textcomp': 2004, 'beauty': 2005, 'lions': 2006, 'some': 2007, 'her': 2008, 'sorting': 2009, 'bcums': 2010, 'affection': 2011, 'kettoda': 2012, 'manda': 2013, 'becoz': 2014, 'selection': 2015, 'ache': 2016, 'teasing': 2017, 'lousy': 2018, 'mite': 2019, 'yummy': 2020, 'newest': 2021, 'minnaminunginte': 2022, 'nurungu': 2023, 'vettam': 2024, 'abta': 2025, 'responding': 2026, 'anywhere': 2027, 'evry': 2028, 'minmobsmorelkpobox': 2029, 'frndship': 2030, 'ja': 2031, 'txtin': 2032, 'confirmed': 2033, 'oni': 2034, 'chinese': 2035, 'calicut': 2036, 'needed': 2037, 'buzy': 2038, 'passed': 2039, 'remain': 2040, 'alive': 2041, 'horrible': 2042, 'belovd': 2043, 'flash': 2044, 'mmmm': 2045, 'born': 2046, 'seat': 2047, 'ate': 2048, 'stomach': 2049, 'bottle': 2050, 'ba': 2051, 'shelf': 2052, 'cabin': 2053, 'boss': 2054, 'pod': 2055, 'asks': 2056, 'iz': 2057, 'ref': 2058, 'include': 2059, 'shortly': 2060, 'basic': 2061, 'major': 2062, 'discus': 2063, 'sept': 2064, 'doggy': 2065, 'interesting': 2066, 'appt': 2067, 'ubi': 2068, 'breathe': 2069, 'dictionary': 2070, 'prabha': 2071, 'prince': 2072, 'roger': 2073, 'biggest': 2074, 'bcm': 2075, 'qu': 2076, 'claire': 2077, 'various': 2078, 'laughing': 2079, 'market': 2080, 'se': 2081, 'sometime': 2082, 'surfing': 2083, 'ice': 2084, 'wind': 2085, 'enjoyed': 2086, 'provided': 2087, 'sorrow': 2088, 'express': 2089, 'ron': 2090, 'taunton': 2091, 'ls': 2092, 'walked': 2093, 'cha': 2094, 'services': 2095, 'comuk': 2096, 'scary': 2097, 'concert': 2098, 'chechi': 2099, 'kidz': 2100, 'profit': 2101, 'booking': 2102, 'upto': 2103, 'keeping': 2104, 'reminder': 2105, 'geeee': 2106, 'him': 2107, 'strike': 2108, 'touched': 2109, 'country': 2110, 'temple': 2111, 'church': 2112, 'eight': 2113, 'nvm': 2114, 'reality': 2115, 'value': 2116, 'those': 2117, 'birth': 2118, 'rude': 2119, 'responce': 2120, 'happend': 2121, 'tkts': 2122, 'speed': 2123, 'sing': 2124, 'ym': 2125, 'smart': 2126, 'series': 2127, 'lay': 2128, 'wednesday': 2129, 'four': 2130, 'lock': 2131, 'teeth': 2132, 'indians': 2133, 'village': 2134, 'holder': 2135, 'dsn': 2136, 'wah': 2137, 'atlanta': 2138, 'minutes': 2139, 'yan': 2140, 'jiu': 2141, 'embarassed': 2142, 'pout': 2143, 'stomp': 2144, 'event': 2145, 'rule': 2146, 'bloo': 2147, 'atm': 2148, 'expecting': 2149, 'prey': 2150, 'hols': 2151, 'wrk': 2152, 'blah': 2153, 'donno': 2154, 'fly': 2155, 'prefer': 2156, 'tues': 2157, 'gent': 2158, 'ctxt': 2159, 'drunken': 2160, 'suntec': 2161, 'xin': 2162, 'slipper': 2163, 've': 2164, 'hrishi': 2165, 'cuddle': 2166, 'bigger': 2167, 'indicate': 2168, 'accident': 2169, 'tomarrow': 2170, 'blur': 2171, 'polo': 2172, 'shore': 2173, 'everyday': 2174, 'cheat': 2175, 'shut': 2176, 'minuts': 2177, 'latr': 2178, 'lag': 2179, 'oi': 2180, 'ps': 2181, 'bang': 2182, 'huge': 2183, 'sweetheart': 2184, 'telly': 2185, 'ruining': 2186, 'dark': 2187, 'nydc': 2188, 'gudnite': 2189, 'prolly': 2190, 'cleared': 2191, 'eastenders': 2192, 'compare': 2193, 'violet': 2194, 'tulip': 2195, 'lily': 2196, 'wkent': 2197, 'freefone': 2198, 'sip': 2199, 'cappuccino': 2200, 'flaky': 2201, 'faith': 2202, 'three': 2203, 'zoe': 2204, 'morow': 2205, 'careful': 2206, 'acted': 2207, 'premium': 2208, 'pink': 2209, 'visionsms': 2210, 'flowing': 2211, 'silver': 2212, 'weigh': 2213, 'blessed': 2214, 'smith': 2215, 'painting': 2216, 'suprman': 2217, 'matrix': 2218, 'starwars': 2219, 'simpler': 2220, 'definite': 2221, 'fingers': 2222, 'cann': 2223, 'easter': 2224, 'deleted': 2225, 'suppose': 2226, 'horo': 2227, 'yelling': 2228, 'mess': 2229, 'properly': 2230, 'ranjith': 2231, 'drpd': 2232, 'deeraj': 2233, 'deepak': 2234, 'spoken': 2235, 'answering': 2236, 'luxury': 2237, 'canary': 2238, 'islands': 2239, 'mega': 2240, 'giv': 2241, 'days': 2242, 'table': 2243, 'tree': 2244, 'sentence': 2245, 'educational': 2246, 'roast': 2247, 'language': 2248, 'tight': 2249, 'macho': 2250, 'strange': 2251, 'tnc': 2252, 'pen': 2253, 'parking': 2254, 'bone': 2255, 'whom': 2256, 'diff': 2257, 'auto': 2258, 'vouchers': 2259, 'idew': 2260, 'skillgame': 2261, 'winaweek': 2262, 'ppermesssubscription': 2263, 'bbd': 2264, 'transfr': 2265, 'response': 2266, 'occupy': 2267, 'dokey': 2268, 'chase': 2269, 'eyes': 2270, 'dubsack': 2271, 'catching': 2272, 'profile': 2273, 'nowadays': 2274, 'hoped': 2275, 'dealing': 2276, 'goal': 2277, 'scotland': 2278, 'discussed': 2279, 'moved': 2280, 'dresser': 2281, 'nic': 2282, 'mag': 2283, 'mouth': 2284, 'dressed': 2285, 'mobno': 2286, 'adam': 2287, 'txtno': 2288, 'removed': 2289, 'rewarding': 2290, 'esplanade': 2291, 'granite': 2292, 'explosive': 2293, 'members': 2294, 'nasdaq': 2295, 'symbol': 2296, 'cdgt': 2297, 'anythin': 2298, 'seemed': 2299, 'ure': 2300, 'loveme': 2301, 'kindly': 2302, 'jen': 2303, 'hundred': 2304, 'james': 2305, 'playing': 2306, 'hex': 2307, 'biola': 2308, 'sian': 2309, 'supervisor': 2310, 'ben': 2311, 'creep': 2312, 'sarasota': 2313, 'hardcore': 2314, 'goodnoon': 2315, 'salon': 2316, 'bruv': 2317, 'aeronautics': 2318, 'professor': 2319, 'calld': 2320, 'aeroplane': 2321, 'hurried': 2322, 'av': 2323, 'dan': 2324, 'error': 2325, 'correction': 2326, 'applebees': 2327, 'textoperator': 2328, 'ga': 2329, 'joining': 2330, 'praying': 2331, 'replacement': 2332, 'pole': 2333, 'anthony': 2334, 'shu': 2335, 'holy': 2336, 'kidding': 2337, 'kothi': 2338, 'pull': 2339, 'taylor': 2340, 'management': 2341, 'buddy': 2342, 'jean': 2343, 'bmw': 2344, 'urgently': 2345, 'shortage': 2346, 'lacs': 2347, 'source': 2348, 'arng': 2349, 'woken': 2350, 'tablet': 2351, 'tool': 2352, 'sore': 2353, 'castor': 2354, 'unknown': 2355, 'album': 2356, 'gimme': 2357, 'soul': 2358, 'flame': 2359, 'superior': 2360, 'wating': 2361, 'personality': 2362, 'removal': 2363, 'greatest': 2364, 'courage': 2365, 'defeat': 2366, 'math': 2367, 'canada': 2368, 'costume': 2369, 'function': 2370, 'rumour': 2371, 'pics': 2372, 'tip': 2373, 'lower': 2374, 'bless': 2375, 'miserable': 2376, 'electricity': 2377, 'vivek': 2378, 'telephone': 2379, 'ball': 2380, 'moving': 2381, 'tlk': 2382, 'tmrw': 2383, 'mila': 2384, 'blonde': 2385, 'mtalk': 2386, 'pp': 2387, 'increment': 2388, 'juan': 2389, 'xxxxxxx': 2390, 'natural': 2391, 'absolutly': 2392, 'messages': 2393, 'uz': 2394, 'filled': 2395, 'allow': 2396, 'suzy': 2397, 'strip': 2398, 'expression': 2399, 'sary': 2400, 'amy': 2401, 'spanish': 2402, 'poop': 2403, 'gpu': 2404, 'pw': 2405, 'causing': 2406, 'outage': 2407, 'swoop': 2408, 'armand': 2409, 'restaurant': 2410, 'dance': 2411, 'hm': 2412, 'gods': 2413, 'ned': 2414, 'hurting': 2415, 'sar': 2416, 'airtel': 2417, 'survey': 2418, 'virgin': 2419, 'hyde': 2420, 'mel': 2421, 'confused': 2422, 'bootydelious': 2423, 'walmart': 2424, 'relative': 2425, 'generally': 2426, 'demand': 2427, 'fo': 2428, 'exhausted': 2429, 'too': 2430, 'forgiven': 2431, 'btw': 2432, 'germany': 2433, 'penny': 2434, 'mental': 2435, 'ability': 2436, 'rr': 2437, 'staff': 2438, 'having': 2439, 'grave': 2440, 'epsilon': 2441, 'option': 2442, 'kill': 2443, 'shock': 2444, 'slp': 2445, 'muah': 2446, 'filling': 2447, 'pre': 2448, 'cancelled': 2449, 'pimple': 2450, 'range': 2451, 'off': 2452, 'tom': 2453, 'form': 2454, 'ovulation': 2455, 'ibhltd': 2456, 'largest': 2457, 'ec': 2458, 'ibh': 2459, 'yours': 2460, 'package': 2461, 'thot': 2462, 'aid': 2463, 'maturity': 2464, 'bristol': 2465, 'drunk': 2466, 'sends': 2467, 'nichols': 2468, 'desires': 2469, 'ship': 2470, 'ful': 2471, 'minor': 2472, 'driver': 2473, 'mei': 2474, 'flirting': 2475, 'nervous': 2476, 'george': 2477, 'celeb': 2478, 'pocketbabe': 2479, 'prospect': 2480, 'inform': 2481, 'application': 2482, 'successfully': 2483, 'innocent': 2484, 'freezing': 2485, 'appreciated': 2486, 'panic': 2487, 'academic': 2488, 'department': 2489, 'transfer': 2490, 'superb': 2491, 'wkend': 2492, 'sticky': 2493, 'treated': 2494, 'flip': 2495, 'hanging': 2496, 'map': 2497, 'apart': 2498, 'begging': 2499, 'proof': 2500, 'ee': 2501, 'wkg': 2502, 'natalja': 2503, 'misbehaved': 2504, 'kent': 2505, 'vale': 2506, 'tok': 2507, 'sinco': 2508, 'payee': 2509, 'icicibank': 2510, 'fraud': 2511, 'disclose': 2512, 'size': 2513, 'neighbor': 2514, 'adoring': 2515, 'waheed': 2516, 'fathima': 2517, 'suggestion': 2518, 'previous': 2519, 'sry': 2520, 'poem': 2521, 'asp': 2522, 'crisis': 2523, 'xam': 2524, 'june': 2525, 'jogging': 2526, 'jhl': 2527, 'housewife': 2528, 'itcould': 2529, 'howard': 2530, 'dick': 2531, 'clever': 2532, 'billion': 2533, 'beneath': 2534, 'pale': 2535, 'advise': 2536, 'recent': 2537, 'xxxmobilemovieclub': 2538, 'rg': 2539, 'joanna': 2540, 'machan': 2541, 'nap': 2542, 'bruce': 2543, 'surprised': 2544, 'sleepin': 2545, 'smsco': 2546, 'approx': 2547, 'farm': 2548, 'slot': 2549, 'behave': 2550, 'bro': 2551, 'loud': 2552, 'mall': 2553, 'iouri': 2554, 'british': 2555, 'mmmmm': 2556, 'smashed': 2557, 'building': 2558, 'coat': 2559, 'vday': 2560, 'yourself': 2561, 'becomes': 2562, 'habit': 2563, 'follow': 2564, 'marrow': 2565, 'stranger': 2566, 'pop': 2567, 'ke': 2568, 'wet': 2569, 'specific': 2570, 'eaten': 2571, 'staring': 2572, 'base': 2573, 'callfreefone': 2574, 'drinkin': 2575, 'textbuddy': 2576, 'gaytextbuddy': 2577, 'commercial': 2578, 'august': 2579, 'helloooo': 2580, 'avent': 2581, 'inconsiderate': 2582, 'nag': 2583, 'recession': 2584, 'hence': 2585, 'neck': 2586, 'heading': 2587, 'executive': 2588, 'mobiles': 2589, 'forgets': 2590, 'lil': 2591, 'brief': 2592, 'history': 2593, 'clear': 2594, 'peak': 2595, 'lido': 2596, 'whose': 2597, 'convinced': 2598, 'dial': 2599, 'annoying': 2600, 'postcard': 2601, 'necessary': 2602, 'wishin': 2603, 'easily': 2604, 'mix': 2605, 'usher': 2606, 'britney': 2607, 'consider': 2608, 'aah': 2609, 'lush': 2610, 'uks': 2611, 'msgrcvdhg': 2612, 'drivin': 2613, 'cm': 2614, 'delay': 2615, 'donate': 2616, 'mailbox': 2617, 'messaging': 2618, 'retrieve': 2619, 'pool': 2620, 'morrow': 2621, 'natalie': 2622, 'invaders': 2623, 'orig': 2624, 'console': 2625, 'purchase': 2626, 'ericsson': 2627, 'apologise': 2628, 'cali': 2629, 'bloke': 2630, 'conform': 2631, 'curious': 2632, 'thgt': 2633, 'plaza': 2634, 'bedrm': 2635, 'evr': 2636, 'cochin': 2637, 'hubby': 2638, 'rgds': 2639, 'pickle': 2640, 'twelve': 2641, 'custom': 2642, 'sufficient': 2643, 'fastest': 2644, 'growing': 2645, 'msgs': 2646, 'purpose': 2647, 'homeowners': 2648, 'tenants': 2649, 'previously': 2650, 'fab': 2651, 'property': 2652, 'wasted': 2653, 'shesil': 2654, 'aunty': 2655, 'lionm': 2656, 'lionp': 2657, 'difference': 2658, 'thesis': 2659, 'propsd': 2660, 'gv': 2661, 'lv': 2662, 'lttrs': 2663, 'threw': 2664, 'thm': 2665, 'aproach': 2666, 'dt': 2667, 'truck': 2668, 'speeding': 2669, 'wn': 2670, 'cn': 2671, 'instantly': 2672, 'shouted': 2673, 'thy': 2674, 'lived': 2675, 'happily': 2676, 'gthr': 2677, 'drinking': 2678, 'evrydy': 2679, 'lf': 2680, 'knows': 2681, 'avoiding': 2682, 'pours': 2683, 'hurts': 2684, 'assume': 2685, 'expired': 2686, 'goldviking': 2687, 'payment': 2688, 'birthdate': 2689, 'valuable': 2690, 'loss': 2691, 'gain': 2692, 'knock': 2693, 'switch': 2694, 'escape': 2695, 'inning': 2696, 'funky': 2697, 'mobilesdirect': 2698, 'trade': 2699, 'coping': 2700, 'distance': 2701, 'blake': 2702, 'breath': 2703, 'field': 2704, 'invite': 2705, 're': 2706, 'lots': 2707, 'gravity': 2708, 'carefully': 2709, 'flaked': 2710, 'desparate': 2711, 'action': 2712, 'movietrivia': 2713, 'bluff': 2714, 'nok': 2715, 'karaoke': 2716, 'fake': 2717, 'yetunde': 2718, 'neither': 2719, 'blanket': 2720, 'thx': 2721, 'mca': 2722, 'carry': 2723, 'noun': 2724, 'craziest': 2725, 'acl': 2726, 'phoned': 2727, 'tape': 2728, 'en': 2729, 'bleh': 2730, 'common': 2731, 'reasonable': 2732, 'push': 2733, 'knee': 2734, 'spider': 2735, 'chasing': 2736, 'lifetime': 2737, 'doing': 2738, 'favorite': 2739, 'amused': 2740, 'yunny': 2741, 'mmmmmm': 2742, 'yay': 2743, 'calculation': 2744, 'practicing': 2745, 'hide': 2746, 'thousand': 2747, 'textpod': 2748, 'morro': 2749, 'disconnect': 2750, 'terrorist': 2751, 'confirmd': 2752, 'verified': 2753, 'cnn': 2754, 'ibn': 2755, 'whatsup': 2756, 'improved': 2757, 'gentleman': 2758, 'dignity': 2759, 'dearly': 2760, 'ese': 2761, 'delete': 2762, 'including': 2763, 'relation': 2764, 'loose': 2765, 'aint': 2766, 'genius': 2767, 'havin': 2768, 'xxxxx': 2769, 'waxsto': 2770, 'cousin': 2771, 'anniversary': 2772, 'ow': 2773, 'usc': 2774, 'block': 2775, 'format': 2776, 'freedom': 2777, 'wud': 2778, 'skyped': 2779, 'kz': 2780, 'given': 2781, 'ultimatum': 2782, 'countin': 2783, 'aburo': 2784, 'testing': 2785, 'develop': 2786, 'jsco': 2787, 'tech': 2788, 'lk': 2789, 'interest': 2790, 'wanting': 2791, 'ear': 2792, 'bc': 2793, 'collecting': 2794, 'maintain': 2795, 'sh': 2796, 'title': 2797, 'titles': 2798, 'wipro': 2799, 'vava': 2800, 'held': 2801, 'despite': 2802, 'cramp': 2803, 'dry': 2804, 'stayed': 2805, 'pan': 2806, 'perhaps': 2807, 'csbcm': 2808, 'callcost': 2809, 'mobilesvary': 2810, 'rang': 2811, 'sorted': 2812, 'brothas': 2813, 'ic': 2814, 'lotta': 2815, 'cared': 2816, 'necessarily': 2817, 'interflora': 2818, 'youre': 2819, 'image': 2820, 'edison': 2821, 'rightly': 2822, 'wise': 2823, 'viva': 2824, 'means': 2825, 'msgrcvd': 2826, 'skip': 2827, 'borin': 2828, 'minmoremobsemspobox': 2829, 'feelin': 2830, 'nuther': 2831, 'yck': 2832, 'threat': 2833, 'shitload': 2834, 'diamond': 2835, 'prepare': 2836, 'welp': 2837, 'doesn': 2838, 'cliff': 2839, 'shining': 2840, 'nahi': 2841, 'zindgi': 2842, 'wo': 2843, 'jo': 2844, 'dime': 2845, 'peaceful': 2846, 'unnecessarily': 2847, 'aww': 2848, 'deliveredtomorrow': 2849, 'finance': 2850, 'module': 2851, 'sem': 2852, 'pee': 2853, 'burn': 2854, 'charles': 2855, 'uh': 2856, 'wiskey': 2857, 'brandy': 2858, 'rum': 2859, 'gin': 2860, 'vodka': 2861, 'scotch': 2862, 'shampain': 2863, 'kudi': 2864, 'yarasu': 2865, 'dhina': 2866, 'vaazhthukkal': 2867, 'maneesha': 2868, 'satisfied': 2869, 'toll': 2870, 'cme': 2871, 'fan': 2872, 'premier': 2873, 'stretch': 2874, 'software': 2875, 'pending': 2876, 'reminding': 2877, 'local': 2878, 'hppnss': 2879, 'goodfriend': 2880, 'jerry': 2881, 'irritates': 2882, 'fails': 2883, 'lip': 2884, 'queen': 2885, 'avatar': 2886, 'tog': 2887, 'ding': 2888, 'penis': 2889, 'eta': 2890, 'qp': 2891, 'officially': 2892, 'eurodisinc': 2893, 'trav': 2894, 'aco': 2895, 'morefrmmob': 2896, 'shracomorsglsuplt': 2897, 'aj': 2898, 'hlp': 2899, 'hor': 2900, 'inclusive': 2901, 'wee': 2902, 'section': 2903, 'bottom': 2904, 'cooky': 2905, 'philosophy': 2906, 'forgotten': 2907, 'nalla': 2908, 'us': 2909, 'speaking': 2910, 'lo': 2911, 'burger': 2912, 'lounge': 2913, 'makin': 2914, 'alfie': 2915, 'nokias': 2916, 'starts': 2917, 'unfortunately': 2918, 'jane': 2919, 'drove': 2920, 'prem': 2921, 'owns': 2922, 'dx': 2923, 'sooooo': 2924, 'messaged': 2925, 'engin': 2926, 'named': 2927, 'singing': 2928, 'curry': 2929, 'realize': 2930, 'hsbc': 2931, 'middle': 2932, 'season': 2933, 'audrey': 2934, 'status': 2935, 'fret': 2936, 'japanese': 2937, 'proverb': 2938, 'algarve': 2939, 'ansr': 2940, 'tyrone': 2941, 'boys': 2942, 'tickets': 2943, 'shocking': 2944, 'def': 2945, 'adventure': 2946, 'galileo': 2947, 'favourite': 2948, 'audition': 2949, 'plm': 2950, 'brownie': 2951, 'gender': 2952, 'borrow': 2953, 'txttowin': 2954, 'bhaji': 2955, 'cricketer': 2956, 'sachin': 2957, 'eek': 2958, 'genuine': 2959, 'px': 2960, 'confuses': 2961, 'fish': 2962, 'ashley': 2963, 'steve': 2964, 'furniture': 2965, 'sender': 2966, 'improve': 2967, 'jiayin': 2968, 'sue': 2969, 'intention': 2970, 'remains': 2971, 'parked': 2972, 'sux': 2973, 'underwear': 2974, 'poker': 2975, 'boat': 2976, 'mids': 2977, 'christ': 2978, 'manage': 2979, 'silently': 2980, 'agent': 2981, 'vijay': 2982, 'convincing': 2983, 'bar': 2984, 'brah': 2985, 'xavier': 2986, 'knackered': 2987, 'mcat': 2988, 'speedchat': 2989, 'ag': 2990, 'promo': 2991, 'buff': 2992, 'allowed': 2993, 'kadeem': 2994, 'opening': 2995, 'grow': 2996, 'hrs': 2997, 'vewy': 2998, 'managed': 2999, 'enuff': 3000, 'bec': 3001, 'seem': 3002, 'jolly': 3003, 'cock': 3004, 'ela': 3005, 'hardly': 3006, 'everywhere': 3007, 'lucy': 3008, 'control': 3009, 'massive': 3010, 'hon': 3011, 'tap': 3012, 'spile': 3013, 'seven': 3014, 'broad': 3015, 'canal': 3016, 'differ': 3017, 'steam': 3018, 'toshiba': 3019, 'dippeditinadew': 3020, 'lovingly': 3021, 'itwhichturnedinto': 3022, 'gifted': 3023, 'tomeandsaid': 3024, 'woot': 3025, 'purse': 3026, 'under': 3027, 'husband': 3028, 'yeh': 3029, 'clos': 3030, 'lvblefrnd': 3031, 'jstfrnd': 3032, 'cutefrnd': 3033, 'lifpartnr': 3034, 'swtheart': 3035, 'bstfrnd': 3036, 'potential': 3037, 'yuo': 3038, 'tihs': 3039, 'realized': 3040, 'woulda': 3041, 'lately': 3042, 'rhythm': 3043, 'swiss': 3044, 'director': 3045, 'crore': 3046, 'delhi': 3047, 'lane': 3048, 'politician': 3049, 'risk': 3050, 'dining': 3051, 'pass': 3052, 'words': 3053, 'ages': 3054, 'gist': 3055, 'stuck': 3056, 'individual': 3057, 'shoe': 3058, 'bread': 3059, 'usb': 3060, 'tooth': 3061, 'screen': 3062, 'avoid': 3063, 'boye': 3064, 'wedding': 3065, 'elaine': 3066, 'chest': 3067, 'infection': 3068, 'dr': 3069, 'potter': 3070, 'phoenix': 3071, 'reader': 3072, 'babes': 3073, 'clothes': 3074, 'tis': 3075, 'ias': 3076, 'storming': 3077, 'phne': 3078, 'margaret': 3079, 'girlfrnd': 3080, 'grahmbell': 3081, 'invnted': 3082, 'telphone': 3083, 'teaching': 3084, 'sarcasm': 3085, 'falling': 3086, 'smeone': 3087, 'eva': 3088, 'chain': 3089, 'administrator': 3090, 'randomly': 3091, 'drms': 3092, 'vote': 3093, 'continue': 3094, 'bathing': 3095, 'sleepy': 3096, 'mac': 3097, 'unbelievable': 3098, 'prof': 3099, 'indeed': 3100, 'northampton': 3101, 'preferably': 3102, 'odi': 3103, 'standing': 3104, 'admin': 3105, 'success': 3106, 'slo': 3107, 'sucker': 3108, 'duchess': 3109, 'beloved': 3110, 'blu': 3111, 'doubt': 3112, 'handle': 3113, 'death': 3114, 'buffet': 3115, 'cream': 3116, 'shipped': 3117, 'totally': 3118, 'stick': 3119, 'taco': 3120, 'hahaha': 3121, 'jacket': 3122, 'winning': 3123, 'tooo': 3124, 'river': 3125, 'tahan': 3126, 'anot': 3127, 'lyfu': 3128, 'lyf': 3129, 'ali': 3130, 'meow': 3131, 'vth': 3132, 'paris': 3133, 'straight': 3134, 'cashbin': 3135, 'purity': 3136, 'devouring': 3137, 'mnths': 3138, 'callback': 3139, 'aom': 3140, 'gene': 3141, 'invention': 3142, 'aluable': 3143, 'ffectionate': 3144, 'oveable': 3145, 'ternal': 3146, 'oble': 3147, 'ruthful': 3148, 'ntimate': 3149, 'atural': 3150, 'namous': 3151, 'opposed': 3152, 'erutupalam': 3153, 'thandiyachu': 3154, 'hui': 3155, 'lib': 3156, 'returning': 3157, 'compensation': 3158, 'court': 3159, 'inspection': 3160, 'nursery': 3161, 'ignorant': 3162, 'perumbavoor': 3163, 'adding': 3164, 'zero': 3165, 'saving': 3166, 'raise': 3167, 'iraq': 3168, 'afghanistan': 3169, 'stable': 3170, 'honest': 3171, 'traveling': 3172, 'fatty': 3173, 'gotten': 3174, 'begun': 3175, 'registration': 3176, 'permanent': 3177, 'residency': 3178, 'photoshop': 3179, 'flood': 3180, 'ups': 3181, 'shipping': 3182, 'usps': 3183, 'bribe': 3184, 'nipost': 3185, 'ami': 3186, 'parchi': 3187, 'kicchu': 3188, 'kaaj': 3189, 'korte': 3190, 'iccha': 3191, 'korche': 3192, 'tul': 3193, 'fran': 3194, 'anal': 3195, 'chick': 3196, 'boob': 3197, 'plum': 3198, 'smack': 3199, 'engalnd': 3200, 'mia': 3201, 'elliot': 3202, 'kissing': 3203, 'iron': 3204, 'jeremiah': 3205, 'justify': 3206, 'wheellock': 3207, 'harri': 3208, 'manageable': 3209, 'stability': 3210, 'tranquility': 3211, 'vibrant': 3212, 'colourful': 3213, 'arithmetic': 3214, 'percentage': 3215, 'formatting': 3216, 'clearing': 3217, 'waves': 3218, 'fox': 3219, 'frndsship': 3220, 'dwn': 3221, 'infact': 3222, 'logoff': 3223, 'decade': 3224, 'petrol': 3225, 'goverment': 3226, 'expects': 3227, 'canteen': 3228, 'snowboarding': 3229, 'easiest': 3230, 'barcelona': 3231, 'snot': 3232, 'unintentional': 3233, 'nonetheless': 3234, 'shitin': 3235, 'myself': 3236, 'defo': 3237, 'hardest': 3238, 'millions': 3239, 'lekdog': 3240, 'prompt': 3241, 'bitching': 3242, 'useful': 3243, 'aptitude': 3244, 'panther': 3245, 'sugababes': 3246, 'zebra': 3247, 'animation': 3248, 'badass': 3249, 'hoody': 3250, 'toledo': 3251, 'forced': 3252, 'abroad': 3253, 'xxsp': 3254, 'stopcost': 3255, 'convenience': 3256, 'nevering': 3257, 'africa': 3258, 'avin': 3259, 'upgrdcentre': 3260, 'kg': 3261, 'gayle': 3262, 'explicitly': 3263, 'nora': 3264, 'keen': 3265, 'gokila': 3266, 'mobsi': 3267, 'ajith': 3268, 'greece': 3269, 'clas': 3270, 'unintentionally': 3271, 'along': 3272, 'warning': 3273, 'kama': 3274, 'sutra': 3275, 'onwords': 3276, 'mtnl': 3277, 'mumbai': 3278, 'wknd': 3279, 'dramatic': 3280, 'schools': 3281, 'archive': 3282, 'haiz': 3283, 'flyng': 3284, 'aries': 3285, 'spelled': 3286, 'cap': 3287, 'bullshit': 3288, 'brin': 3289, 'supose': 3290, 'babysit': 3291, 'everyones': 3292, 'babysitting': 3293, 'chatlines': 3294, 'inclu': 3295, 'servs': 3296, 'bailiff': 3297, 'occupied': 3298, 'arty': 3299, 'collage': 3300, 'tryin': 3301, 'submitting': 3302, 'fainting': 3303, 'housework': 3304, 'cuppa': 3305, 'everyso': 3306, 'panicks': 3307, 'brison': 3308, 'deserve': 3309, 'btwn': 3310, 'arestaurant': 3311, 'squid': 3312, 'dosomething': 3313, 'drama': 3314, 'struggling': 3315, 'ego': 3316, 'necessity': 3317, 'reppurcussions': 3318, 'beyond': 3319, 'biro': 3320, 'zoom': 3321, 'wherre': 3322, 'initiate': 3323, 'juswoke': 3324, 'boatin': 3325, 'docks': 3326, 'spinout': 3327, 'immed': 3328, 'splashmobile': 3329, 'subscrition': 3330, 'costing': 3331, 'collapsed': 3332, 'antha': 3333, 'corrct': 3334, 'dane': 3335, 'apple': 3336, 'tulsi': 3337, 'lemon': 3338, 'problms': 3339, 'litres': 3340, 'watr': 3341, 'diseases': 3342, 'snd': 3343, 'squatting': 3344, 'uworld': 3345, 'qbank': 3346, 'assessment': 3347, 'tonexs': 3348, 'renewed': 3349, 'clubzed': 3350, 'billing': 3351, 'dvg': 3352, 'vinobanagar': 3353, 'powerful': 3354, 'weapon': 3355, 'dice': 3356, 'swashbuckling': 3357, 'crossing': 3358, 'waited': 3359, 'literally': 3360, 'recharge': 3361, 'rub': 3362, 'stalk': 3363, 'mention': 3364, 'served': 3365, 'chip': 3366, 'beach': 3367, 'expected': 3368, 'polyh': 3369, 'showroom': 3370, 'shaping': 3371, 'regretted': 3372, 'annie': 3373, 'soz': 3374, 'imat': 3375, 'mums': 3376, 'split': 3377, 'macedonia': 3378, 'poboxox': 3379, 'league': 3380, 'accordin': 3381, 'dileep': 3382, 'muchand': 3383, 'venugopal': 3384, 'mentioned': 3385, 'funk': 3386, 'checkin': 3387, 'avo': 3388, 'hhahhaahahah': 3389, 'nig': 3390, 'leonardo': 3391, 'cheque': 3392, 'rajini': 3393, 'sickness': 3394, 'doke': 3395, 'laying': 3396, 'fortune': 3397, 'dept': 3398, 'them': 3399, 'jot': 3400, 'foley': 3401, 'folk': 3402, 'reache': 3403, 'rebooting': 3404, 'walkabout': 3405, 'dorothy': 3406, 'kiefer': 3407, 'breeze': 3408, 'bright': 3409, 'fresh': 3410, 'twittering': 3411, 'restrict': 3412, 'payed': 3413, 'suganya': 3414, 'misundrstud': 3415, 'enjoyin': 3416, 'yourjob': 3417, 'llspeak': 3418, 'soonlots': 3419, 'xxxx': 3420, 'mobstorequiz': 3421, 'ninish': 3422, 'icky': 3423, 'freek': 3424, 'sac': 3425, 'batsman': 3426, 'jon': 3427, 'bin': 3428, 'spain': 3429, 'dinero': 3430, 'pe': 3431, 'stage': 3432, 'combine': 3433, 'bits': 3434, 'yellow': 3435, 'expert': 3436, 'landmark': 3437, 'bob': 3438, 'barry': 3439, 'recognises': 3440, 'svc': 3441, 'ft': 3442, 'combination': 3443, 'sometme': 3444, 'tortilla': 3445, 'yummmm': 3446, 'stu': 3447, 'truble': 3448, 'evone': 3449, 'hates': 3450, 'bck': 3451, 'minus': 3452, 'paragraph': 3453, 'dave': 3454, 'andrew': 3455, 'shant': 3456, 'jia': 3457, 'difficulty': 3458, 'lunchtime': 3459, 'organise': 3460, 'banneduk': 3461, 'compliments': 3462, 'formally': 3463, 'earliest': 3464, 'murali': 3465, 'toppoly': 3466, 'tune': 3467, 'breather': 3468, 'granted': 3469, 'fulfil': 3470, 'meatball': 3471, 'shot': 3472, 'oooh': 3473, 'singapore': 3474, 'print': 3475, 'marandratha': 3476, 'ceri': 3477, 'rebel': 3478, 'dreamz': 3479, 'needs': 3480, 'blokes': 3481, 'select': 3482, 'astrology': 3483, 'flying': 3484, 'divorce': 3485, 'jog': 3486, 'ahhhh': 3487, 'dose': 3488, 'exp': 3489, 'apr': 3490, 'grinule': 3491, 'gurl': 3492, 'appropriate': 3493, 'stereo': 3494, 'hme': 3495, 'spark': 3496, 'rawring': 3497, 'xoxo': 3498, 'banned': 3499, 'repeat': 3500, 'dudette': 3501, 'cld': 3502, 'didntgive': 3503, 'bellearlier': 3504, 'pant': 3505, 'poking': 3506, 'yowifes': 3507, 'crammed': 3508, 'heroes': 3509, 'rebtel': 3510, 'firefox': 3511, 'cruisin': 3512, 'jenny': 3513, 'thfeb': 3514, 'cheesy': 3515, 'frosty': 3516, 'snowman': 3517, 'prayer': 3518, 'rajitha': 3519, 'raj': 3520, 'ranju': 3521, 'fones': 3522, 'wild': 3523, 'mylife': 3524, 'cedar': 3525, 'vomitin': 3526, 'oreo': 3527, 'truffle': 3528, 'drunkard': 3529, 'mandy': 3530, 'sullivan': 3531, 'hotmix': 3532, 'fm': 3533, 'chosen': 3534, 'transferred': 3535, 'spin': 3536, 'restriction': 3537, 'shite': 3538, 'kip': 3539, 'loads': 3540, 'nicky': 3541, 'drivby': 3542, 'edrunk': 3543, 'iff': 3544, 'pthis': 3545, 'senrd': 3546, 'dnot': 3547, 'dancce': 3548, 'drum': 3549, 'basq': 3550, 'ihave': 3551, 'nhite': 3552, 'ro': 3553, 'human': 3554, 'noncomittal': 3555, 'suffers': 3556, 'silence': 3557, 'swollen': 3558, 'gland': 3559, 'breakfast': 3560, 'hamper': 3561, 'slurp': 3562, 'spelling': 3563, 'gmw': 3564, 'connected': 3565, 'puzzeles': 3566, 'answered': 3567, 'mw': 3568, 'tuth': 3569, 'spiffing': 3570, 'workage': 3571, 'networks': 3572, 'responsible': 3573, 'supplier': 3574, 'shag': 3575, 'sextextuk': 3576, 'xxuk': 3577, 'ebay': 3578, 'alertfrom': 3579, 'jeri': 3580, 'stewartsize': 3581, 'kbsubject': 3582, 'low': 3583, 'prescripiton': 3584, 'drvgsto': 3585, 'kit': 3586, 'ig': 3587, 'oja': 3588, 'darker': 3589, 'styling': 3590, 'teenager': 3591, 'depression': 3592, 'goodmate': 3593, 'asusual': 3594, 'cheered': 3595, 'franyxxxxx': 3596, 'surname': 3597, 'clue': 3598, 'safely': 3599, 'host': 3600, 'based': 3601, 'idps': 3602, 'linux': 3603, 'rimac': 3604, 'looks': 3605, 'nr': 3606, 'zs': 3607, 'cps': 3608, 'conserve': 3609, 'upstairs': 3610, 'hectic': 3611, 'chachi': 3612, 'pl': 3613, 'tiz': 3614, 'kanagu': 3615, 'hang': 3616, 'limit': 3617, 'grace': 3618, 'boundary': 3619, 'endless': 3620, 'shaking': 3621, 'stone': 3622, 'sparkling': 3623, 'shortbreaks': 3624, 'org': 3625, 'specify': 3626, 'domain': 3627, 'nusstu': 3628, 'convince': 3629, 'witot': 3630, 'main': 3631, 'stool': 3632, 'punish': 3633, 'sabarish': 3634, 'youdoing': 3635, 'stripe': 3636, 'skirt': 3637, 'werethe': 3638, 'monkeespeople': 3639, 'monkeyaround': 3640, 'howdy': 3641, 'earn': 3642, 'defer': 3643, 'admission': 3644, 'enufcredeit': 3645, 'tocall': 3646, 'ileave': 3647, 'yor': 3648, 'sumfing': 3649, 'paragon': 3650, 'lambu': 3651, 'ji': 3652, 'batchlor': 3653, 'opps': 3654, 'chgs': 3655, 'possessiveness': 3656, 'poured': 3657, 'golden': 3658, 'brighten': 3659, 'coincidence': 3660, 'visa': 3661, 'gucci': 3662, 'perf': 3663, 'mouse': 3664, 'desk': 3665, 'priscilla': 3666, 'serving': 3667, 'hourish': 3668, 'acknowledgement': 3669, 'astoundingly': 3670, 'tactless': 3671, 'faggy': 3672, 'oath': 3673, 'tank': 3674, 'wesley': 3675, 'commit': 3676, 'prepayment': 3677, 'grumpy': 3678, 'lying': 3679, 'hopeing': 3680, 'promotion': 3681, 'pisces': 3682, 'aquarius': 3683, 'cosign': 3684, 'xxxxxx': 3685, 'prizeawaiting': 3686, 'daaaaa': 3687, 'forgiveness': 3688, 'reaction': 3689, 'sdryb': 3690, 'enc': 3691, 'appy': 3692, 'fizz': 3693, 'contains': 3694, 'srsly': 3695, 'yi': 3696, 'sacked': 3697, 'pooja': 3698, 'sweatter': 3699, 'crowd': 3700, 'cardiff': 3701, 'forfeit': 3702, 'environment': 3703, 'terrific': 3704, 'drugdealer': 3705, 'appendix': 3706, 'chill': 3707, 'mk': 3708, 'sheffield': 3709, 'category': 3710, 'ethnicity': 3711, 'census': 3712, 'transcribing': 3713, 'perform': 3714, 'clark': 3715, 'utter': 3716, 'lobby': 3717, 'onam': 3718, 'sirji': 3719, 'tata': 3720, 'aig': 3721, 'tissco': 3722, 'tayseer': 3723, 'owl': 3724, 'smoked': 3725, 'followin': 3726, 'waaaat': 3727, 'lololo': 3728, 'apnt': 3729, 'ou': 3730, 'urination': 3731, 'textand': 3732, 'gravel': 3733, 'floppy': 3734, 'snappy': 3735, 'upload': 3736, 'feels': 3737, 'quiet': 3738, 'beth': 3739, 'charlie': 3740, 'pierre': 3741, 'cardin': 3742, 'tim': 3743, 'bollox': 3744, 'tol': 3745, 'gek': 3746, 'teresa': 3747, 'dec': 3748, 'ld': 3749, 'bam': 3750, 'usmle': 3751, 'avalarr': 3752, 'hollalater': 3753, 'marsms': 3754, 'utele': 3755, 'creepy': 3756, 'yalrigu': 3757, 'heltini': 3758, 'iyo': 3759, 'shared': 3760, 'uttered': 3761, 'trusting': 3762, 'cer': 3763, 'les': 3764, 'rudi': 3765, 'yrs': 3766, 'snoring': 3767, 'ink': 3768, 'blimey': 3769, 'exercise': 3770, 'specialisation': 3771, 'labor': 3772, 'shakara': 3773, 'beggar': 3774, 'inpersonation': 3775, 'flea': 3776, 'hmph': 3777, 'baller': 3778, 'equally': 3779, 'uneventful': 3780, 'pesky': 3781, 'cyclist': 3782, 'matric': 3783, 'minimum': 3784, 'occasion': 3785, 'celebrated': 3786, 'reflection': 3787, 'values': 3788, 'affections': 3789, 'traditions': 3790, 'ideal': 3791, 'rdy': 3792, 'lyric': 3793, 'ndship': 3794, 'needle': 3795, 'conected': 3796, 'shindig': 3797, 'jide': 3798, 'visiting': 3799, 'companion': 3800, 'chef': 3801, 'listener': 3802, 'organizer': 3803, 'boyfriend': 3804, 'sympathetic': 3805, 'athletic': 3806, 'courageous': 3807, 'determined': 3808, 'dependable': 3809, 'psychologist': 3810, 'pest': 3811, 'exterminator': 3812, 'psychiatrist': 3813, 'healer': 3814, 'stylist': 3815, 'aaniye': 3816, 'pudunga': 3817, 'venaam': 3818, 'referin': 3819, 'paperwork': 3820, 'fired': 3821, 'bluray': 3822, 'spice': 3823, 'justbeen': 3824, 'overa': 3825, 'broke': 3826, 'mush': 3827, 'handsome': 3828, 'finding': 3829, 'broadband': 3830, 'processed': 3831, 'installation': 3832, 'several': 3833, 'tension': 3834, 'terror': 3835, 'cruel': 3836, 'decent': 3837, 'joker': 3838, 'windy': 3839, 'taka': 3840, 'langport': 3841, 'sri': 3842, 'lanka': 3843, 'contribute': 3844, 'greatly': 3845, 'alot': 3846, 'surrender': 3847, 'shola': 3848, 'secretary': 3849, 'sagamu': 3850, 'lautech': 3851, 'vital': 3852, 'completes': 3853, 'education': 3854, 'zealand': 3855, 'jontin': 3856, 'nimbomsons': 3857, 'lim': 3858, 'grateful': 3859, 'happier': 3860, 'marking': 3861, 'erm': 3862, 'woodland': 3863, 'avenue': 3864, 'parish': 3865, 'magazine': 3866, 'flavour': 3867, 'twin': 3868, 'washob': 3869, 'nobbing': 3870, 'nickey': 3871, 'platt': 3872, 'unlike': 3873, 'patient': 3874, 'turkey': 3875, 'semi': 3876, 'intrepid': 3877, 'duo': 3878, 'lux': 3879, 'eighth': 3880, 'smarter': 3881, 'signin': 3882, 'ignoring': 3883, 'rupaul': 3884, 'worc': 3885, 'foregate': 3886, 'shrub': 3887, 'opener': 3888, 'kappa': 3889, 'poortiyagi': 3890, 'odalebeku': 3891, 'hanumanji': 3892, 'hanuman': 3893, 'bajarangabali': 3894, 'maruti': 3895, 'pavanaputra': 3896, 'sankatmochan': 3897, 'ramaduth': 3898, 'mahaveer': 3899, 'janarige': 3900, 'ivatte': 3901, 'kalisidare': 3902, 'olage': 3903, 'ondu': 3904, 'keluviri': 3905, 'maretare': 3906, 'inde': 3907, 'dodda': 3908, 'problum': 3909, 'nalli': 3910, 'siguviri': 3911, 'idu': 3912, 'matra': 3913, 'neglet': 3914, 'ay': 3915, 'squeeeeeze': 3916, 'frndshp': 3917, 'luvd': 3918, 'spacebucks': 3919, 'priest': 3920, 'mg': 3921, 'stoner': 3922, 'bognor': 3923, 'splendid': 3924, 'yah': 3925, 'videosound': 3926, 'gold': 3927, 'videosounds': 3928, 'musicnews': 3929, 'ooh': 3930, 'dancing': 3931, 'moseley': 3932, 'returned': 3933, 'hank': 3934, 'lotsly': 3935, 'sweater': 3936, 'mango': 3937, 'diddy': 3938, 'toothpaste': 3939, 'forgt': 3940, 'siva': 3941, 'dentist': 3942, 'prescription': 3943, 'downstem': 3944, 'alto': 3945, 'li': 3946, 'lecturer': 3947, 'repeating': 3948, 'solved': 3949, 'answr': 3950, 'soiree': 3951, 'attached': 3952, 'fridge': 3953, 'guai': 3954, 'lastest': 3955, 'stereophonics': 3956, 'marley': 3957, 'dizzee': 3958, 'racal': 3959, 'libertines': 3960, 'strokes': 3961, 'nookii': 3962, 'bookmark': 3963, 'sunoco': 3964, 'guys': 3965, 'dolls': 3966, 'patrick': 3967, 'swayze': 3968, 'pear': 3969, 'incomm': 3970, 'holby': 3971, 'praveesh': 3972, 'delicious': 3973, 'lodge': 3974, 'shun': 3975, 'bian': 3976, 'glass': 3977, 'exhibition': 3978, 'qjkgighjjgcbl': 3979, 'txtx': 3980, 'chad': 3981, 'gymnastics': 3982, 'christians': 3983, 'becausethey': 3984, 'pleasant': 3985, 'tddnewsletter': 3986, 'emc': 3987, 'thedailydraw': 3988, 'dozens': 3989, 'prizeswith': 3990, 'twinks': 3991, 'scallies': 3992, 'skin': 3993, 'jock': 3994, 'cuddling': 3995, 'physic': 3996, 'fletcher': 3997, 'pansy': 3998, 'jungle': 3999, 'cashto': 4000, 'getstop': 4001, 'php': 4002, 'jx': 4003, 'fuuuuck': 4004, 'records': 4005, 'mystery': 4006, 'dang': 4007, 'ripped': 4008, 'clubmoby': 4009, 'downloads': 4010, 'goggles': 4011, 'bomb': 4012, 'simulate': 4013, 'readiness': 4014, 'exhaust': 4015, 'replacing': 4016, 'jackpot': 4017, 'dbuk': 4018, 'lccltd': 4019, 'rw': 4020, 'creative': 4021, 'prestige': 4022, 'dull': 4023, 'asthma': 4024, 'attack': 4025, 'prakesh': 4026, 'kaila': 4027, 'nauseous': 4028, 'dieting': 4029, 'dent': 4030, 'dhanush': 4031, 'parachute': 4032, 'hiding': 4033, 'olol': 4034, 'printed': 4035, 'tootsie': 4036, 'scrumptious': 4037, 'qi': 4038, 'suddenly': 4039, 'jaklin': 4040, 'stated': 4041, 'ello': 4042, 'merely': 4043, 'relationship': 4044, 'wherevr': 4045, 'whenevr': 4046, 'gudnyt': 4047, 'prepared': 4048, 'finalise': 4049, 'neft': 4050, 'beneficiary': 4051, 'mentor': 4052, 'drastic': 4053, 'outstanding': 4054, 'hasbro': 4055, 'jump': 4056, 'hoop': 4057, 'cutie': 4058, 'killed': 4059, 'breathing': 4060, 'voicemail': 4061, 'lul': 4062, 'nurse': 4063, 'shes': 4064, 'obese': 4065, 'oyea': 4066, 'jd': 4067, 'accounts': 4068, 'bull': 4069, 'floating': 4070, 'classmate': 4071, 'attach': 4072, 'buyer': 4073, 'stitch': 4074, 'trouser': 4075, 'remembrs': 4076, 'everytime': 4077, 'trend': 4078, 'pro': 4079, 'con': 4080, 'description': 4081, 'nuclear': 4082, 'fusion': 4083, 'iter': 4084, 'jet': 4085, 'pookie': 4086, 'jan': 4087, 'yuou': 4088, 'spot': 4089, 'bcaz': 4090, 'spreadsheet': 4091, 'determine': 4092, 'entire': 4093, 'revealing': 4094, 'conversation': 4095, 'sens': 4096, 'overemphasise': 4097, 'browser': 4098, 'surf': 4099, 'harish': 4100, 'transfred': 4101, 'acnt': 4102, 'reminded': 4103, 'newquay': 4104, 'while': 4105, 'talkin': 4106, 'massage': 4107, 'oil': 4108, 'length': 4109, 'behalf': 4110, 'stunning': 4111, 'sorta': 4112, 'blown': 4113, 'greetings': 4114, 'excused': 4115, 'tirunelvai': 4116, 'leo': 4117, 'fumbling': 4118, 'pleassssssseeeeee': 4119, 'sportsx': 4120, 'uve': 4121, 'wildest': 4122, 'pure': 4123, 'hearted': 4124, 'smiley': 4125, 'geva': 4126, 'than': 4127, 'wondarfull': 4128, 'significance': 4129, 'shoppin': 4130, 'chocolate': 4131, 'posible': 4132, 'century': 4133, 'frwd': 4134, 'unicef': 4135, 'asian': 4136, 'tsunami': 4137, 'disaster': 4138, 'fund': 4139, 'frankie': 4140, 'bennys': 4141, 'warner': 4142, 'lamp': 4143, 'caroline': 4144, 'jacuzzi': 4145, 'ashwini': 4146, 'gower': 4147, 'freaky': 4148, 'clarify': 4149, 'preponed': 4150, 'invitation': 4151, 'weddin': 4152, 'gautham': 4153, 'videos': 4154, 'shsex': 4155, 'netun': 4156, 'fgkslpopw': 4157, 'fgkslpo': 4158, 'significant': 4159, 'discreet': 4160, 'shanghai': 4161, 'cya': 4162, 'clash': 4163, 'textin': 4164, 'hype': 4165, 'studio': 4166, 'recieve': 4167, 'teletext': 4168, 'pg': 4169, 'witin': 4170, 'annoncement': 4171, 'nordstrom': 4172, 'cherthala': 4173, 'bfore': 4174, 'tmorow': 4175, 'engaged': 4176, 'solihull': 4177, 'fiting': 4178, 'mj': 4179, 'lighter': 4180, 'fudge': 4181, 'oreos': 4182, 'stores': 4183, 'disturbance': 4184, 'dlf': 4185, 'premarica': 4186, 'gamestar': 4187, 'active': 4188, 'scoring': 4189, 'register': 4190, 'coccooning': 4191, 'fetching': 4192, 'thin': 4193, 'fed': 4194, 'himso': 4195, 'fifty': 4196, 'rearrange': 4197, 'dormitory': 4198, 'astronomer': 4199, 'starer': 4200, 'election': 4201, 'lies': 4202, 'recount': 4203, 'hitler': 4204, 'eleven': 4205, 'lightly': 4206, 'checkboxes': 4207, 'gosh': 4208, 'spose': 4209, 'positive': 4210, 'negative': 4211, 'hmmmm': 4212, 'showr': 4213, 'asjesus': 4214, 'wrote': 4215, 'samus': 4216, 'shoulder': 4217, 'digi': 4218, 'coupla': 4219, 'chiong': 4220, 'atleast': 4221, 'shakespeare': 4222, 'mountain': 4223, 'deer': 4224, 'ladies': 4225, 'genus': 4226, 'handsomes': 4227, 'accenture': 4228, 'gona': 4229, 'gon': 4230, 'miles': 4231, 'ruin': 4232, 'rushing': 4233, 'womdarfull': 4234, 'actor': 4235, 'narcotic': 4236, 'extreme': 4237, 'privacy': 4238, 'sic': 4239, 'burden': 4240, 'callon': 4241, 'lifted': 4242, 'approach': 4243, 'monoc': 4244, 'polyc': 4245, 'stream': 4246, 'spjanuary': 4247, 'someday': 4248, 'poorly': 4249, 'punishment': 4250, 'worst': 4251, 'brb': 4252, 'upon': 4253, 'fedex': 4254, 'garden': 4255, 'bulb': 4256, 'seed': 4257, 'scotsman': 4258, 'notxt': 4259, 'wined': 4260, 'dined': 4261, 'certificate': 4262, 'publish': 4263, 'screamed': 4264, 'dedicated': 4265, 'dedicate': 4266, 'wining': 4267, 'meat': 4268, 'supreme': 4269, 'swan': 4270, 'mapquest': 4271, 'dogwood': 4272, 'route': 4273, 'tkls': 4274, 'stoptxtstop': 4275, 'starshine': 4276, 'aq': 4277, 'dammit': 4278, 'comprehensive': 4279, 'dizzamn': 4280, 'suitemates': 4281, 'kavalan': 4282, 'rounder': 4283, 'required': 4284, 'payasam': 4285, 'rinu': 4286, 'auntie': 4287, 'huai': 4288, 'ilol': 4289, 'personally': 4290, 'wuldnt': 4291, 'fink': 4292, 'promised': 4293, 'carlie': 4294, 'minmobsmore': 4295, 'lkpobox': 4296, 'prin': 4297, 'jolt': 4298, 'nationwide': 4299, 'newport': 4300, 'das': 4301, 'iknow': 4302, 'wellda': 4303, 'peril': 4304, 'studentfinancial': 4305, 'related': 4306, 'arul': 4307, 'bot': 4308, 'abj': 4309, 'guild': 4310, 'occurs': 4311, 'romcapspam': 4312, 'presence': 4313, 'outgoing': 4314, 'belive': 4315, 'poo': 4316, 'bare': 4317, 'relaxing': 4318, 'varaya': 4319, 'elaya': 4320, 'bw': 4321, 'sez': 4322, 'arab': 4323, 'eshxxxxxxxxxxx': 4324, 'urfeeling': 4325, 'bettersn': 4326, 'probthat': 4327, 'overdose': 4328, 'lovejen': 4329, 'beerage': 4330, 'daytime': 4331, 'busty': 4332, 'janinexx': 4333, 'showered': 4334, 'ything': 4335, 'cereal': 4336, 'gari': 4337, 'liquor': 4338, 'loko': 4339, 'recorded': 4340, 'bari': 4341, 'hudgi': 4342, 'yorge': 4343, 'pataistha': 4344, 'ertini': 4345, 'wright': 4346, 'deduct': 4347, 'debating': 4348, 'recd': 4349, 'torture': 4350, 'reffering': 4351, 'getiing': 4352, 'steak': 4353, 'areyouunique': 4354, 'mailed': 4355, 'varma': 4356, 'refilled': 4357, 'inr': 4358, 'keralacircle': 4359, 'prepaid': 4360, 'kr': 4361, 'shell': 4362, 'unconsciously': 4363, 'unhappy': 4364, 'signal': 4365, 'unusual': 4366, 'hugs': 4367, 'snogs': 4368, 'someonone': 4369, 'ch': 4370, 'mini': 4371, 'snap': 4372, 'quizclub': 4373, 'rwm': 4374, 'lyricalladie': 4375, 'hmmross': 4376, 'ahold': 4377, 'familiar': 4378, 'plural': 4379, 'ibored': 4380, 'unconvinced': 4381, 'elaborate': 4382, 'willpower': 4383, 'mc': 4384, 'ummma': 4385, 'chk': 4386, 'dict': 4387, 'lodging': 4388, 'disappointment': 4389, 'deepest': 4390, 'darkest': 4391, 'memorable': 4392, 'sophas': 4393, 'secondary': 4394, 'applying': 4395, 'ogunrinde': 4396, 'wallet': 4397, 'favour': 4398, 'telugu': 4399, 'wasnt': 4400, 'evo': 4401, 'jealous': 4402, 'howda': 4403, 'mathe': 4404, 'samachara': 4405, 'selflessness': 4406, 'stuffed': 4407, 'writhing': 4408, 'spoil': 4409, 'kanji': 4410, 'tix': 4411, 'lord': 4412, 'rings': 4413, 'soundtrack': 4414, 'stdtxtrate': 4415, 'fundamental': 4416, 'hearin': 4417, 'prix': 4418, 'woah': 4419, 'realising': 4420, 'ryan': 4421, 'fair': 4422, 'weakness': 4423, 'expose': 4424, 'wicked': 4425, 'asshole': 4426, 'agree': 4427, 'marvel': 4428, 'ultimate': 4429, 'fring': 4430, 'judgemental': 4431, 'deny': 4432, 'ericson': 4433, 'der': 4434, 'luks': 4435, 'modl': 4436, 'mandan': 4437, 'jos': 4438, 'twenty': 4439, 'durham': 4440, 'reserved': 4441, 'meaningless': 4442, 'awkward': 4443, 'weirdo': 4444, 'recycling': 4445, 'earning': 4446, 'wenever': 4447, 'atten': 4448, 'oyster': 4449, 'sashimi': 4450, 'rumbling': 4451, 'amk': 4452, 'interfued': 4453, 'blackberry': 4454, 'guessing': 4455, 'jb': 4456, 'reckon': 4457, 'eightish': 4458, 'carpark': 4459, 'mostly': 4460, 'lyk': 4461, 'footbl': 4462, 'crckt': 4463, 'ing': 4464, 'topped': 4465, 'bubbletext': 4466, 'renewal': 4467, 'tgxxrz': 4468, 'citylink': 4469, 'successful': 4470, 'mathews': 4471, 'tait': 4472, 'edward': 4473, 'anderson': 4474, 'cutting': 4475, 'gua': 4476, 'faber': 4477, 'orh': 4478, 'carton': 4479, 'soc': 4480, 'gep': 4481, 'sppok': 4482, 'spell': 4483, 'such': 4484, 'oooooh': 4485, 'unit': 4486, 'accent': 4487, 'dental': 4488, 'nmde': 4489, 'passion': 4490, 'dena': 4491, 'arrived': 4492, 'fights': 4493, 'conveying': 4494, 'phasing': 4495, 'fourth': 4496, 'dimension': 4497, 'continent': 4498, 'ti': 4499, 'luvs': 4500, 'compass': 4501, 'gnun': 4502, 'frog': 4503, 'axel': 4504, 'akon': 4505, 'eyed': 4506, 'tex': 4507, 'mecause': 4508, 'werebored': 4509, 'okden': 4510, 'uin': 4511, 'likeyour': 4512, 'updat': 4513, 'countinlots': 4514, 'optin': 4515, 'bbc': 4516, 'shhhhh': 4517, 'tarpon': 4518, 'spring': 4519, 'thousad': 4520, 'vague': 4521, 'accounting': 4522, 'delayed': 4523, 'housing': 4524, 'agency': 4525, 'renting': 4526, 'breaker': 4527, 'deluxe': 4528, 'feature': 4529, 'graphic': 4530, 'bbdeluxe': 4531, 'pushbutton': 4532, 'dontcha': 4533, 'babygoodbye': 4534, 'golddigger': 4535, 'webeburnin': 4536, 'mushy': 4537, 'embarrassed': 4538, 'dealer': 4539, 'lunsford': 4540, 'wrking': 4541, 'rstm': 4542, 'gota': 4543, 'sayy': 4544, 'leadership': 4545, 'skill': 4546, 'psychic': 4547, 'ans': 4548, 'irene': 4549, 'ere': 4550, 'cres': 4551, 'coimbatore': 4552, 'figuring': 4553, 'woul': 4554, 'curfew': 4555, 'gibe': 4556, 'getsleep': 4557, 'studdying': 4558, 'flow': 4559, 'developed': 4560, 'ovarian': 4561, 'cyst': 4562, 'shrink': 4563, 'selfish': 4564, 'officer': 4565, 'bhaskar': 4566, 'configure': 4567, 'jas': 4568, 'crazyin': 4569, 'sleepingwith': 4570, 'finest': 4571, 'ymca': 4572, 'ew': 4573, 'typical': 4574, 'browsin': 4575, 'compulsory': 4576, 'ppmpobox': 4577, 'bhamb': 4578, 'xe': 4579, 'fifa': 4580, 'bead': 4581, 'printer': 4582, 'groovy': 4583, 'groovying': 4584, 'uncountable': 4585, 'shortcode': 4586, 'refunded': 4587, 'stash': 4588, 'ouch': 4589, 'soryda': 4590, 'sory': 4591, 'wrkin': 4592, 'notified': 4593, 'marketing': 4594, 'silly': 4595, 'predicting': 4596, 'accumulation': 4597, 'rgent': 4598, 'until': 4599, 'ambitious': 4600, 'grinder': 4601, 'ava': 4602, 'goodtime': 4603, 'oli': 4604, 'melnite': 4605, 'ifink': 4606, 'everythin': 4607, 'outreach': 4608, 'attracts': 4609, 'muhommad': 4610, 'childporn': 4611, 'ree': 4612, 'ktv': 4613, 'shiny': 4614, 'warming': 4615, 'constant': 4616, 'waliking': 4617, 'barring': 4618, 'sudden': 4619, 'influx': 4620, 'wahala': 4621, 'headin': 4622, 'cl': 4623, 'dependent': 4624, 'mirror': 4625, 'turning': 4626, 'vu': 4627, 'riley': 4628, 'repent': 4629, 'customercare': 4630, 'professional': 4631, 'tiger': 4632, 'woods': 4633, 'filthy': 4634, 'impressed': 4635, 'edge': 4636, 'surly': 4637, 'abbey': 4638, 'buffy': 4639, 'satisfy': 4640, 'randy': 4641, 'qlynnbv': 4642, 'scrappy': 4643, 'baaaaaaaabe': 4644, 'attention': 4645, 'ammae': 4646, 'steering': 4647, 'diwali': 4648, 'portal': 4649, 'netflix': 4650, 'knickers': 4651, 'beg': 4652, 'nikiyu': 4653, 'wuld': 4654, 'seeker': 4655, 'uv': 4656, 'mutation': 4657, 'sunscreen': 4658, 'thesedays': 4659, 'accommodation': 4660, 'global': 4661, 'phb': 4662, 'shifad': 4663, 'raised': 4664, 'complaint': 4665, 'placed': 4666, 'birla': 4667, 'soft': 4668, 'relieved': 4669, 'westonzoyland': 4670, 'karnan': 4671, 'reassuring': 4672, 'badrith': 4673, 'retired': 4674, 'csh': 4675, 'tsandcs': 4676, 'spageddies': 4677, 'possibility': 4678, 'saibaba': 4679, 'colany': 4680, 'worm': 4681, 'honestly': 4682, 'promptly': 4683, 'burnt': 4684, 'gifts': 4685, 'denying': 4686, 'whr': 4687, 'maga': 4688, 'complexity': 4689, 'freely': 4690, 'tax': 4691, 'outrageous': 4692, 'motivate': 4693, 'darkness': 4694, 'requests': 4695, 'stchoice': 4696, 'girlie': 4697, 'cherish': 4698, 'waqt': 4699, 'pehle': 4700, 'naseeb': 4701, 'zyada': 4702, 'kisi': 4703, 'ko': 4704, 'kuch': 4705, 'milta': 4706, 'hum': 4707, 'sochte': 4708, 'jeetey': 4709, 'rayan': 4710, 'macleran': 4711, 'strain': 4712, 'practical': 4713, 'chinatown': 4714, 'porridge': 4715, 'claypot': 4716, 'rice': 4717, 'yam': 4718, 'fishhead': 4719, 'beehoon': 4720, 'aaooooright': 4721, 'zogtorius': 4722, 'deciding': 4723, 'bunker': 4724, 'affectionate': 4725, 'luton': 4726, 'approve': 4727, 'panalam': 4728, 'prescribed': 4729, 'ystrday': 4730, 'converted': 4731, 'humanity': 4732, 'truro': 4733, 'ext': 4734, 'skateboarding': 4735, 'thrown': 4736, 'bandage': 4737, 'ooooooh': 4738, 'yoville': 4739, 'fried': 4740, 'looovvve': 4741, 'mittelschmertz': 4742, 'paracetamol': 4743, 'gate': 4744, 'shattered': 4745, 'elaborating': 4746, 'safety': 4747, 'aspect': 4748, 'scratch': 4749, 'soooo': 4750, 'provider': 4751, 'tming': 4752, 'tensed': 4753, 'aldrine': 4754, 'rtm': 4755, 'completing': 4756, 'associate': 4757, 'cumming': 4758, 'owe': 4759, 'tiime': 4760, 'perpetual': 4761, 'dd': 4762, 'santacalling': 4763, 'jade': 4764, 'paul': 4765, 'barmed': 4766, 'kotees': 4767, 'exposed': 4768, 'vomiting': 4769, 'remb': 4770, 'scenery': 4771, 'freeentry': 4772, 'xt': 4773, 'board': 4774, 'overheating': 4775, 'reslove': 4776, 'inst': 4777, 'animal': 4778, 'apeshit': 4779, 'byatch': 4780, 'whassup': 4781, 'flirtparty': 4782, 'replys': 4783, 'detroit': 4784, 'tiwary': 4785, 'rcb': 4786, 'battle': 4787, 'kochi': 4788, 'passable': 4789, 'phd': 4790, 'argh': 4791, 'spotty': 4792, 'province': 4793, 'sterling': 4794, 'caveboy': 4795, 'tunji': 4796, 'decorating': 4797, 'swell': 4798, 'nigro': 4799, 'dialogue': 4800, 'reltnship': 4801, 'nange': 4802, 'bakra': 4803, 'kalstiya': 4804, 'younger': 4805, 'fwiw': 4806, 'afford': 4807, 'adventuring': 4808, 'dawn': 4809, 'refreshed': 4810, 'tai': 4811, 'feng': 4812, 'reservation': 4813, 'sonetimes': 4814, 'rough': 4815, 'signing': 4816, 'gobi': 4817, 'qet': 4818, 'okday': 4819, 'flew': 4820, 'icic': 4821, 'balloon': 4822, 'llc': 4823, 'ny': 4824, 'usa': 4825, 'lnly': 4826, 'quiteamuzing': 4827, 'scool': 4828, 'nike': 4829, 'qxj': 4830, 'ae': 4831, 'depressed': 4832, 'sittin': 4833, 'anna': 4834, 'nagar': 4835, 'prediction': 4836, 'amanda': 4837, 'renewing': 4838, 'upgrading': 4839, 'subject': 4840, 'thread': 4841, 'wishlist': 4842, 'nitro': 4843, 'opposite': 4844, 'christmassy': 4845, 'jelly': 4846, 'freaking': 4847, 'myspace': 4848, 'logged': 4849, 'honeymoon': 4850, 'outfit': 4851, 'resent': 4852, 'failed': 4853, 'queries': 4854, 'customersqueries': 4855, 'netvision': 4856, 'tote': 4857, 'cantdo': 4858, 'anythingtomorrow': 4859, 'myparents': 4860, 'aretaking': 4861, 'outfor': 4862, 'katexxx': 4863, 'billy': 4864, 'enjoying': 4865, 'overtime': 4866, 'nigpun': 4867, 'treasure': 4868, 'smokin': 4869, 'continued': 4870, 'president': 4871, 'magic': 4872, 'grasp': 4873, 'rct': 4874, 'thnq': 4875, 'adrian': 4876, 'vatian': 4877, 'sacrifice': 4878, 'thinked': 4879, 'betta': 4880, 'invest': 4881, 'aging': 4882, 'product': 4883, 'lined': 4884, 'mentionned': 4885, 'walsall': 4886, 'tue': 4887, 'terry': 4888, 'finn': 4889, 'resolution': 4890, 'frank': 4891, 'footy': 4892, 'stadium': 4893, 'large': 4894, 'coca': 4895, 'cola': 4896, 'jerk': 4897, 'predict': 4898, 'messenger': 4899, 'reminds': 4900, 'mcfly': 4901, 'ab': 4902, 'sara': 4903, 'jorge': 4904, 'instruction': 4905, 'dip': 4906, 'ganesh': 4907, 'dress': 4908, 'hangin': 4909, 'imin': 4910, 'dontmatter': 4911, 'urgoin': 4912, 'outl': 4913, 'ambrith': 4914, 'madurai': 4915, 'dha': 4916, 'marrge': 4917, 'remembr': 4918, 'gsoh': 4919, 'spam': 4920, 'gigolo': 4921, 'oncall': 4922, 'mjzgroup': 4923, 'transport': 4924, 'problematic': 4925, 'general': 4926, 'arabian': 4927, 'steed': 4928, 'hillsborough': 4929, 'impressively': 4930, 'sensible': 4931, 'shanil': 4932, 'exchanged': 4933, 'uncut': 4934, 'dino': 4935, 'resubbing': 4936, 'cramps': 4937, 'designation': 4938, 'developer': 4939, 'passionate': 4940, 'sometext': 4941, 'pocked': 4942, 'uncomfortable': 4943, 'pert': 4944, 'potato': 4945, 'hcl': 4946, 'requires': 4947, 'freshers': 4948, 'ms': 4949, 'suman': 4950, 'telephonic': 4951, 'indyarocks': 4952, 'uhhhhrmm': 4953, 'slower': 4954, 'maniac': 4955, 'disturbing': 4956, 'admit': 4957, 'cncl': 4958, 'stopcs': 4959, 'sts': 4960, 'attraction': 4961, 'fight': 4962, 'proove': 4963, 'planet': 4964, 'praise': 4965, 'chicken': 4966, 'makiing': 4967, 'sambar': 4968, 'jp': 4969, 'mofo': 4970, 'tattoo': 4971, 'flatter': 4972, 'pint': 4973, 'carlin': 4974, 'anythiing': 4975, 'hf': 4976, 'downloaded': 4977, 'doit': 4978, 'mymoby': 4979, 'sundayish': 4980, 'minded': 4981, 'minapn': 4982, 'webpage': 4983, 'hooked': 4984, 'poet': 4985, 'imagination': 4986, 'drizzling': 4987, 'smartcall': 4988, 'subscriptn': 4989, 'landlineonly': 4990, 'tantrum': 4991, 'ovulate': 4992, 'sexychat': 4993, 'although': 4994, 'baig': 4995, 'wifi': 4996, 'blanked': 4997, 'upping': 4998, 'props': 4999, 'excited': 5000, 'trackmarque': 5001, 'vipclub': 5002, 'crash': 5003, 'taxi': 5004, 'actual': 5005, 'harder': 5006, 'nbme': 5007, 'mys': 5008, 'syria': 5009, 'squishy': 5010, 'mwahs': 5011, 'chile': 5012, 'subletting': 5013, 'chez': 5014, 'jules': 5015, 'weirdy': 5016, 'skye': 5017, 'kickoff': 5018, 'turns': 5019, 'ploughing': 5020, 'pile': 5021, 'ironing': 5022, 'chinky': 5023, 'smaller': 5024, 'capacity': 5025, 'scrounge': 5026, 'useless': 5027, 'sth': 5028, 'spec': 5029, 'scraped': 5030, 'barrel': 5031, 'misfit': 5032, 'toot': 5033, 'fringe': 5034, 'taste': 5035, 'stink': 5036, 'loooooool': 5037, 'couch': 5038, 'wasn': 5039, 'celebration': 5040, 'firsg': 5041, 'fassyole': 5042, 'blacko': 5043, 'londn': 5044, 'hen': 5045, 'pressies': 5046, 'roomate': 5047, 'graduated': 5048, 'xafter': 5049, 'cst': 5050, 'chg': 5051, 'virtual': 5052, 'jap': 5053, 'complementary': 5054, 'hol': 5055, 'method': 5056, 'korean': 5057, 'exe': 5058, 'puttin': 5059, 'lapdancer': 5060, 'ppmsg': 5061, 'unconscious': 5062, 'abnormally': 5063, 'watever': 5064, 'built': 5065, 'atlast': 5066, 'lonlines': 5067, 'lotz': 5068, 'memory': 5069, 'arguing': 5070, 'sunroof': 5071, 'popped': 5072, 'involve': 5073, 'imposed': 5074, 'smoothly': 5075, 'challenging': 5076, 'plumber': 5077, 'wrench': 5078, 'necklace': 5079, 'token': 5080, 'liking': 5081, 'lb': 5082, 'brilliantly': 5083, 'raping': 5084, 'dock': 5085, 'rolled': 5086, 'newscaster': 5087, 'dabbles': 5088, 'flute': 5089, 'wheel': 5090, 'nver': 5091, 'somtimes': 5092, 'hearts': 5093, 'quarter': 5094, 'giggle': 5095, 'possibly': 5096, 'nvq': 5097, 'nigh': 5098, 'clearly': 5099, 'bcum': 5100, 'balls': 5101, 'cried': 5102, 'nanny': 5103, 'chapter': 5104, 'shagged': 5105, 'warwick': 5106, 'tmw': 5107, 'canceled': 5108, 'havn': 5109, 'noice': 5110, 'hall': 5111, 'hesitation': 5112, 'intha': 5113, 'ponnungale': 5114, 'ipaditan': 5115, 'detailed': 5116, 'experiment': 5117, 'surya': 5118, 'pokkiri': 5119, 'idc': 5120, 'weaseling': 5121, 'neglect': 5122, 'arent': 5123, 'providing': 5124, 'assistance': 5125, 'satsgettin': 5126, 'parkin': 5127, 'machine': 5128, 'dreading': 5129, 'thou': 5130, 'tke': 5131, 'suffering': 5132, 'dysentry': 5133, 'trauma': 5134, 'swear': 5135, 'practising': 5136, 'curtsey': 5137, 'rpl': 5138, 'cnl': 5139, 'poyyarikatur': 5140, 'kolathupalayam': 5141, 'unjalur': 5142, 'erode': 5143, 'dying': 5144, 'shorter': 5145, 'gaze': 5146, 'needa': 5147, 'swap': 5148, 'chatter': 5149, 'rcd': 5150, 'steyn': 5151, 'wicket': 5152, 'utxt': 5153, 'snake': 5154, 'raiden': 5155, 'swimsuit': 5156, 'paranoid': 5157, 'handed': 5158, 'celebrations': 5159, 'inner': 5160, 'tigress': 5161, 'absolutely': 5162, 'mesages': 5163, 'coveragd': 5164, 'vasai': 5165, 'subscribed': 5166, 'follows': 5167, 'subsequent': 5168, 'pride': 5169, 'grownup': 5170, 'hero': 5171, 'apt': 5172, 'thanksgiving': 5173, 'upcharge': 5174, 'thet': 5175, 'skinny': 5176, 'casting': 5177, 'smell': 5178, 'tobacco': 5179, 'brdget': 5180, 'jones': 5181, 'webadres': 5182, 'geting': 5183, 'slip': 5184, 'fav': 5185, 'temales': 5186, 'proze': 5187, 'norcorp': 5188, 'qf': 5189, 'uploaded': 5190, 'antelope': 5191, 'toplay': 5192, 'fieldof': 5193, 'selfindependence': 5194, 'contention': 5195, 'fne': 5196, 'secretly': 5197, 'datebox': 5198, 'essexcm': 5199, 'xn': 5200, 'inconvenient': 5201, 'mission': 5202, 'identification': 5203, 'bpo': 5204, 'knocking': 5205, 'receivea': 5206, 'kl': 5207, 'strt': 5208, 'ltdhelpdesk': 5209, 'stair': 5210, 'phews': 5211, 'porn': 5212, 'stopbcm': 5213, 'sf': 5214, 'apologetic': 5215, 'fallen': 5216, 'actin': 5217, 'spoilt': 5218, 'caught': 5219, 'badly': 5220, 'lubly': 5221, 'liver': 5222, 'allday': 5223, 'piss': 5224, 'stalking': 5225, 'pendent': 5226, 'shrek': 5227, 'african': 5228, 'soil': 5229, 'bp': 5230, 'warranty': 5231, 'maangalyam': 5232, 'alaipayuthe': 5233, 'bsn': 5234, 'advising': 5235, 'pt': 5236, 'guoyang': 5237, 'ez': 5238, 'thankyou': 5239, 'rhode': 5240, 'island': 5241, 'bong': 5242, 'lara': 5243, 'te': 5244, 'florida': 5245, 'rp': 5246, 'regalportfolio': 5247, 'sink': 5248, 'pace': 5249, 'cage': 5250, 'surrounded': 5251, 'cuck': 5252, 'legitimat': 5253, 'efreefone': 5254, 'wouldn': 5255, 'onum': 5256, 'bimbo': 5257, 'ugo': 5258, 'tram': 5259, 'vic': 5260, 'toilet': 5261, 'stolen': 5262, 'cop': 5263, 'recognise': 5264, 'meetins': 5265, 'cumin': 5266, 'lifting': 5267, 'prasad': 5268, 'bao': 5269, 'sugardad': 5270, 'goten': 5271, 'scammer': 5272, 'regular': 5273, 'other': 5274, 'gut': 5275, 'wrenching': 5276, 'nearby': 5277, 'barred': 5278, 'twat': 5279, 'dungerees': 5280, 'decking': 5281, 'punch': 5282, 'enters': 5283, 'cmon': 5284, 'ldns': 5285, 'portege': 5286, 'grandfather': 5287, 'stuffing': 5288, 'step': 5289, 'ubandu': 5290, 'installing': 5291, 'disk': 5292, 'grandma': 5293, 'parade': 5294, 'basket': 5295, 'swatch': 5296, 'nit': 5297, 'aiyar': 5298, 'cupboard': 5299, 'engagement': 5300, 'fixd': 5301, 'njan': 5302, 'vilikkam': 5303, 'sudn': 5304, 'bookedthe': 5305, 'hut': 5306, 'casualty': 5307, 'includes': 5308, 'ayo': 5309, 'travelled': 5310, 'tmorrow': 5311, 'accomodate': 5312, 'east': 5313, 'coast': 5314, 'brum': 5315, 'patent': 5316, 'thasa': 5317, 'messed': 5318, 'seperated': 5319, 'ud': 5320, 'miwa': 5321, 'lit': 5322, 'adsense': 5323, 'approved': 5324, 'hooch': 5325, 'toaday': 5326, 'splat': 5327, 'grazed': 5328, 'jenne': 5329, 'mornin': 5330, 'thanku': 5331, 'respectful': 5332, 'talent': 5333, 'kfc': 5334, 'gravy': 5335, 'iphone': 5336, 'meaningful': 5337, 'compromised': 5338, 'trivia': 5339, 'anyones': 5340, 'konw': 5341, 'waht': 5342, 'rael': 5343, 'gving': 5344, 'exmpel': 5345, 'jsut': 5346, 'evrey': 5347, 'splleing': 5348, 'wrnog': 5349, 'sitll': 5350, 'raed': 5351, 'wihtuot': 5352, 'ayn': 5353, 'mitsake': 5354, 'dreams': 5355, 'saeed': 5356, 'hallaq': 5357, 'gonnamissu': 5358, 'buttheres': 5359, 'aboutas': 5360, 'merememberin': 5361, 'asthere': 5362, 'ofsi': 5363, 'breakin': 5364, 'yaxx': 5365, 'chop': 5366, 'clover': 5367, 'emailed': 5368, 'yifeng': 5369, 'absence': 5370, 'theyre': 5371, 'eachother': 5372, 'yavnt': 5373, 'played': 5374, 'punto': 5375, 'outsider': 5376, 'nitz': 5377, 'aslamalaikkum': 5378, 'tohar': 5379, 'beeen': 5380, 'muht': 5381, 'albi': 5382, 'mufti': 5383, 'mahfuuz': 5384, 'ortxt': 5385, 'corvette': 5386, 'intend': 5387, 'iwas': 5388, 'marine': 5389, 'itried': 5390, 'urmom': 5391, 'careabout': 5392, 'multimedia': 5393, 'establish': 5394, 'monster': 5395, 'things': 5396, 'cutest': 5397, 'zaher': 5398, 'says': 5399, 'deposited': 5400, 'taxless': 5401, 'suply': 5402, 'imf': 5403, 'blocked': 5404, 'corrupt': 5405, 'itna': 5406, 'karo': 5407, 'ki': 5408, 'pura': 5409, 'padhe': 5410, 'fffff': 5411, 'meg': 5412, 'hugging': 5413, 'yupz': 5414, 'recharged': 5415, 'somewhr': 5416, 'crush': 5417, 'experiencehttp': 5418, 'vouch': 5419, 'etlp': 5420, 'abstract': 5421, 'ingredient': 5422, 'erotic': 5423, 'ecstacy': 5424, 'performance': 5425, 'calculated': 5426, 'period': 5427, 'jokin': 5428, 'lark': 5429, 'flippin': 5430, 'complain': 5431, 'bettr': 5432, 'bsnl': 5433, 'offc': 5434, 'mumhas': 5435, 'beendropping': 5436, 'theplace': 5437, 'adress': 5438, 'toss': 5439, 'gudni': 5440, 'velusamy': 5441, 'facility': 5442, 'emotion': 5443, 'prayrs': 5444, 'othrwise': 5445, 'manual': 5446, 'reset': 5447, 'troubleshooting': 5448, 'youi': 5449, 'ey': 5450, 'calm': 5451, 'downon': 5452, 'theacusations': 5453, 'itxt': 5454, 'iwana': 5455, 'wotu': 5456, 'thew': 5457, 'haventcn': 5458, 'nething': 5459, 'entirely': 5460, 'philosophical': 5461, 'hole': 5462, 'flurry': 5463, 'melt': 5464, 'ground': 5465, 'tlp': 5466, 'expressoffer': 5467, 'sake': 5468, 'tallahassee': 5469, 'ques': 5470, 'suit': 5471, 'prasanth': 5472, 'ettans': 5473, 'loosing': 5474, 'champ': 5475, 'glasgow': 5476, 'haunt': 5477, 'promoting': 5478, 'oxygen': 5479, 'resort': 5480, 'roller': 5481, 'weighed': 5482, 'woohoo': 5483, 'ryder': 5484, 'gibbs': 5485, 'digit': 5486, 'internal': 5487, 'extract': 5488, 'gong': 5489, 'kaypoh': 5490, 'garbage': 5491, 'jam': 5492, 'hannaford': 5493, 'wheat': 5494, 'chex': 5495, 'ditto': 5496, 'psp': 5497, 'como': 5498, 'listened': 5499, 'plaid': 5500, 'hilarious': 5501, 'braindance': 5502, 'ofstuff': 5503, 'aphex': 5504, 'abel': 5505, 'toughest': 5506, 'heaven': 5507, 'sos': 5508, 'tightly': 5509, 'srt': 5510, 'gran': 5511, 'onlyfound': 5512, 'afew': 5513, 'cusoon': 5514, 'honi': 5515, 'bleak': 5516, 'benefit': 5517, 'secured': 5518, 'unsecured': 5519, 'manky': 5520, 'scouse': 5521, 'travelling': 5522, 'inmind': 5523, 'recreation': 5524, 'sonathaya': 5525, 'soladha': 5526, 'sentiment': 5527, 'rowdy': 5528, 'attitude': 5529, 'attractive': 5530, 'sporadically': 5531, 'brainless': 5532, 'doll': 5533, 'vehicle': 5534, 'sariyag': 5535, 'madoke': 5536, 'barolla': 5537, 'spoiled': 5538, 'tomorro': 5539, 'dobby': 5540, 'view': 5541, 'bell': 5542, 'pattern': 5543, 'emerging': 5544, 'fiend': 5545, 'impede': 5546, 'hesitant': 5547, 'bawling': 5548, 'failure': 5549, 'failing': 5550, 'theoretically': 5551, 'torrent': 5552, 'particularly': 5553, 'slowing': 5554, 'royal': 5555, 'priya': 5556, 'blastin': 5557, 'tsunamis': 5558, 'occur': 5559, 'rajnikant': 5560, 'ocean': 5561, 'txtstar': 5562, 'antibiotic': 5563, 'abdomen': 5564, 'gynae': 5565, 'pity': 5566, 'escalator': 5567, 'petey': 5568, 'whereare': 5569, 'friendsare': 5570, 'thekingshead': 5571, 'canlove': 5572, 'involved': 5573, 'killing': 5574, 'amigo': 5575, 'hvae': 5576, 'lifeis': 5577, 'daywith': 5578, 'somewheresomeone': 5579, 'tosend': 5580, 'thus': 5581, 'ger': 5582, 'toking': 5583, 'syd': 5584, 'learned': 5585, 'investigate': 5586, 'luckily': 5587, 'starring': 5588, 'lovin': 5589, 'tag': 5590, 'messy': 5591, 'laundry': 5592, 'bra': 5593, 'strewn': 5594, 'pillow': 5595, 'pei': 5596, 'install': 5597, 'browse': 5598, 'artist': 5599, 'loneliness': 5600, 'hlday': 5601, 'camp': 5602, 'amrca': 5603, 'serena': 5604, 'boltblue': 5605, 'slide': 5606, 'jamz': 5607, 'toxic': 5608, 'singles': 5609, 'wither': 5610, 'sq': 5611, 'arrival': 5612, 'brolly': 5613, 'franxx': 5614, 'hostile': 5615, 'hasnt': 5616, 'jewelry': 5617, 'mcr': 5618, 'wondar': 5619, 'flim': 5620, 'coco': 5621, 'dine': 5622, 'complacent': 5623, 'wetherspoons': 5624, 'adi': 5625, 'entey': 5626, 'nattil': 5627, 'kittum': 5628, 'realise': 5629, 'pouch': 5630, 'business': 5631, 'violated': 5632, 'jackson': 5633, 'rec': 5634, 'somewhat': 5635, 'laden': 5636, 'wrecked': 5637, 'sarcastic': 5638, 'rob': 5639, 'mack': 5640, 'gf': 5641, 'theater': 5642, 'crashing': 5643, 'placement': 5644, 'western': 5645, 'science': 5646, 'nu': 5647, 'edu': 5648, 'sg': 5649, 'phyhcmk': 5650, 'bend': 5651, 'thia': 5652, 'inlude': 5653, 'preview': 5654, 'grab': 5655, 'elephant': 5656, 'shove': 5657, 'um': 5658, 'offline': 5659, 'anjola': 5660, 'corect': 5661, 'speling': 5662, 'lindsay': 5663, 'heron': 5664, 'grooved': 5665, 'hunt': 5666, 'resend': 5667, 'impression': 5668, 'hidden': 5669, 'attended': 5670, 'southern': 5671, 'belongs': 5672, 'fated': 5673, 'shoranur': 5674, 'fuelled': 5675, 'concern': 5676, 'prior': 5677, 'grief': 5678, 'against': 5679, 'women': 5680, 'ceiling': 5681, 'keypad': 5682, 'hitter': 5683, 'ummmmmaah': 5684, 'burgundy': 5685, 'captaining': 5686, 'spoons': 5687, 'completed': 5688, 'degree': 5689, 'ton': 5690, 'paypal': 5691, 'voila': 5692, 'pocket': 5693, 'ccna': 5694, 'becz': 5695, 'undrstndng': 5696, 'avoids': 5697, 'suffer': 5698, 'whn': 5699, 'public': 5700, 'govt': 5701, 'instituitions': 5702, 'hearing': 5703, 'isn': 5704, 'necesity': 5705, 'witout': 5706, 'colleg': 5707, 'wth': 5708, 'espe': 5709, 'irritated': 5710, 'wrd': 5711, 'wthout': 5712, 'takecare': 5713, 'multiply': 5714, 'independently': 5715, 'count': 5716, 'division': 5717, 'showed': 5718, 'nacho': 5719, 'financial': 5720, 'sday': 5721, 'velly': 5722, 'asus': 5723, 'reformat': 5724, 'loyal': 5725, 'sumthin': 5726, 'babyjontet': 5727, 'abeg': 5728, 'sponsor': 5729, 'fowler': 5730, 'tallent': 5731, 'wasting': 5732, 'bundle': 5733, 'avble': 5734, 'mf': 5735, 'buzzzz': 5736, 'vibrator': 5737, 'shake': 5738, 'vibrate': 5739, 'acting': 5740, 'yeovil': 5741, 'motor': 5742, 'va': 5743, 'vid': 5744, 'finishd': 5745, 'salesman': 5746, 'considering': 5747, 'coughing': 5748, 'lingo': 5749, 'bothering': 5750, 'makes': 5751, 'faded': 5752, 'glory': 5753, 'ralphs': 5754, 'stressfull': 5755, 'spatula': 5756, 'subscribe': 5757, 'mnth': 5758, 'txtstop': 5759, 'brisk': 5760, 'presnts': 5761, 'bcz': 5762, 'jeevithathile': 5763, 'irulinae': 5764, 'neekunna': 5765, 'prakasamanu': 5766, 'sneham': 5767, 'prakasam': 5768, 'ennal': 5769, 'mn': 5770, 'soo': 5771, 'muchxxlove': 5772, 'locaxx': 5773, 'amongst': 5774, 'bros': 5775, 'coulda': 5776, 'grocer': 5777, 'yeesh': 5778, 'lecture': 5779, 'cudnt': 5780, 'ctla': 5781, 'ente': 5782, 'ishtamayoo': 5783, 'bakrid': 5784, 'limited': 5785, 'playng': 5786, 'racing': 5787, 'dusk': 5788, 'puzzle': 5789, 'crucial': 5790, 'cozy': 5791, 'yoyyooo': 5792, 'permission': 5793, 'stagwood': 5794, 'winterstone': 5795, 'victor': 5796, 'msn': 5797, 'hotmail': 5798, 'north': 5799, 'carolina': 5800, 'texas': 5801, 'gre': 5802, 'whore': 5803, 'enna': 5804, 'kalaachutaarama': 5805, 'needy': 5806, 'bathroom': 5807, 'skyving': 5808, 'lov': 5809, 'nevr': 5810, 'unrecognized': 5811, 'somone': 5812, 'valuing': 5813, 'definitly': 5814, 'undrstnd': 5815, 'fujitsu': 5816, 'ibm': 5817, 'breadstick': 5818, 'planettalkinstant': 5819, 'pocay': 5820, 'wocay': 5821, 'morrowxxxx': 5822, 'pap': 5823, 'tunde': 5824, 'stress': 5825, 'dorm': 5826, 'notixiquating': 5827, 'laxinorficated': 5828, 'bambling': 5829, 'entropication': 5830, 'oblisingately': 5831, 'opted': 5832, 'masteriastering': 5833, 'amplikater': 5834, 'fidalfication': 5835, 'champlaxigating': 5836, 'atrocious': 5837, 'wotz': 5838, 'junna': 5839, 'alle': 5840, 'mone': 5841, 'eppolum': 5842, 'allalo': 5843, 'item': 5844, 'cfca': 5845, 'reserve': 5846, 'gauge': 5847, 'patty': 5848, 'missionary': 5849, 'gopalettan': 5850, 'participate': 5851, 'posh': 5852, 'chap': 5853, 'trial': 5854, 'prod': 5855, 'champneys': 5856, 'dob': 5857, 'nasty': 5858, 'filthyguys': 5859, 'missy': 5860, 'questions': 5861, 'stubborn': 5862, 'hospitals': 5863, 'concerned': 5864, 'jez': 5865, 'todo': 5866, 'workand': 5867, 'whilltake': 5868, 'mth': 5869, 'wv': 5870, 'timin': 5871, 'prevent': 5872, 'dehydration': 5873, 'fluid': 5874, 'nothin': 5875, 'hanger': 5876, 'reception': 5877, 'arrow': 5878, 'kalainar': 5879, 'thenampet': 5880, 'kay': 5881, 'ore': 5882, 'owo': 5883, 'fro': 5884, 'passport': 5885, 'consistently': 5886, 'practicum': 5887, 'armenia': 5888, 'swann': 5889, 'gail': 5890, 'tr': 5891, 'yaxxx': 5892, 'subtoitles': 5893, 'missunderstding': 5894, 'basketball': 5895, 'outdoors': 5896, 'que': 5897, 'buen': 5898, 'tiempo': 5899, 'kitty': 5900, 'shaved': 5901, 'logging': 5902, 'desert': 5903, 'geoenvironmental': 5904, 'implication': 5905, 'reg': 5906, 'ciao': 5907, 'november': 5908, 'conacted': 5909, 'chloe': 5910, 'gimmi': 5911, 'goss': 5912, 'dao': 5913, 'dismissial': 5914, 'sef': 5915, 'anjie': 5916, 'europe': 5917, 'nnfwfly': 5918, 'hunting': 5919, 'stayin': 5920, 'rugby': 5921, 'nooooooo': 5922, 'cable': 5923, 'pilates': 5924, 'lou': 5925, 'gailxx': 5926, 'senor': 5927, 'ct': 5928, 'employee': 5929, 'vco': 5930, 'fellow': 5931, 'pixel': 5932, 'optical': 5933, 'doom': 5934, 'predicte': 5935, 'splash': 5936, 'disconnected': 5937, 'offense': 5938, 'olympics': 5939, 'bookshelf': 5940, 'slippery': 5941, 'meds': 5942, 'dancin': 5943, 'progress': 5944, 'spontaneously': 5945, 'goodevening': 5946, 'fondly': 5947, 'clearer': 5948, 'ringing': 5949, 'houseful': 5950, 'brat': 5951, 'pulling': 5952, 'emigrated': 5953, 'hopeful': 5954, 'teacher': 5955, 'miiiiiiissssssssss': 5956, 'tee': 5957, 'widelive': 5958, 'index': 5959, 'wml': 5960, 'ecef': 5961, 'ff': 5962, 'jul': 5963, 'scold': 5964, 'zhong': 5965, 'qing': 5966, 'act': 5967, 'thesmszone': 5968, 'anonymous': 5969, 'masked': 5970, 'abuse': 5971, 'data': 5972, 'analysis': 5973, 'slightly': 5974, 'goody': 5975, 'mat': 5976, 'attending': 5977, 'kaiez': 5978, 'hiphop': 5979, 'papa': 5980, 'cheyyamo': 5981, 'jabo': 5982, 'tau': 5983, 'piah': 5984, 'chuckin': 5985, 'trainners': 5986, 'carryin': 5987, 'bac': 5988, 'dracula': 5989, 'ghost': 5990, 'addamsfa': 5991, 'munsters': 5992, 'exorcist': 5993, 'twilight': 5994, 'elvis': 5995, 'presleys': 5996, 'snickering': 5997, 'chord': 5998, 'greatness': 5999, 'entertaining': 6000, 'hugh': 6001, 'laurie': 6002, 'seeking': 6003, 'peach': 6004, 'tasts': 6005, 'yetty': 6006, 'vijaykanth': 6007, 'otside': 6008, 'jurong': 6009, 'amore': 6010, 'color': 6011, 'stars': 6012, 'musical': 6013, 'multis': 6014, 'prometazine': 6015, 'syrup': 6016, 'ml': 6017, 'feed': 6018, 'nottingham': 6019, 'mph': 6020, 'lucyxx': 6021, 'nose': 6022, 'essay': 6023, 'posting': 6024, 'into': 6025, 'ijust': 6026, 'talked': 6027, 'being': 6028, 'sleepwell': 6029, 'lolnice': 6030, 'explicit': 6031, 'costs': 6032, 'khelate': 6033, 'kintu': 6034, 'opponenter': 6035, 'dhorte': 6036, 'lage': 6037, 'screwd': 6038, 'dirt': 6039, 'chore': 6040, 'exist': 6041, 'hail': 6042, 'mist': 6043, 'plate': 6044, 'leftover': 6045, 'sane': 6046, 'constantly': 6047, 'helping': 6048, 'disc': 6049, 'hont': 6050, 'cloud': 6051, 'hairdresser': 6052, 'beforehand': 6053, 'jaya': 6054, 'resume': 6055, 'perspective': 6056, 'raja': 6057, 'burrito': 6058, 'gauti': 6059, 'sehwag': 6060, 'propose': 6061, 'seing': 6062, 'asssssholeeee': 6063, 'baaaaabe': 6064, 'youuuuu': 6065, 'dodgey': 6066, 'recovery': 6067, 'dough': 6068, 'applausestore': 6069, 'monthlysubscription': 6070, 'csc': 6071, 'china': 6072, 'noisy': 6073, 'yalru': 6074, 'astne': 6075, 'innu': 6076, 'mundhe': 6077, 'halla': 6078, 'bilo': 6079, 'program': 6080, 'edhae': 6081, 'ovr': 6082, 'vargu': 6083, 'faglord': 6084, 'ukp': 6085, 'wildlife': 6086, 'worzels': 6087, 'wizzle': 6088, 'piggy': 6089, 'dumb': 6090, 'frequently': 6091, 'envy': 6092, 'dump': 6093, 'heap': 6094, 'lowes': 6095, 'satanic': 6096, 'imposter': 6097, 'destiny': 6098, 'wnevr': 6099, 'fal': 6100, 'fals': 6101, 'yen': 6102, 'madodu': 6103, 'nav': 6104, 'pretsorginta': 6105, 'nammanna': 6106, 'pretsovru': 6107, 'alwa': 6108, 'eveb': 6109, 'ummifying': 6110, 'thinkthis': 6111, 'dangerous': 6112, 'crap': 6113, 'boggy': 6114, 'biatch': 6115, 'oral': 6116, 'snatch': 6117, 'stamped': 6118, 'drinks': 6119, 'bray': 6120, 'wicklow': 6121, 'eire': 6122, 'rtf': 6123, 'sphosting': 6124, 'converter': 6125, 'varunnathu': 6126, 'edukkukayee': 6127, 'raksha': 6128, 'ollu': 6129, 'retard': 6130, 'elama': 6131, 'mudyadhu': 6132, 'perweeksub': 6133, 'lst': 6134, 'foned': 6135, 'chuck': 6136, 'spirit': 6137, 'meive': 6138, 'gotany': 6139, 'chillaxin': 6140, 'stopsms': 6141, 'pandy': 6142, 'infra': 6143, 'crucify': 6144, 'quitting': 6145, 'wudn': 6146, 'aust': 6147, 'bk': 6148, 'mising': 6149, 'zac': 6150, 'chickened': 6151, 'woould': 6152, 'westlife': 6153, 'unbreakable': 6154, 'untamed': 6155, 'unkempt': 6156, 'gloucesterroad': 6157, 'uup': 6158, 'probs': 6159, 'doinat': 6160, 'musta': 6161, 'overdid': 6162, 'bffs': 6163, 'carly': 6164, 'refund': 6165, 'yf': 6166, 'kickboxing': 6167, 'settling': 6168, 'happenin': 6169, 'ola': 6170, 'appeal': 6171, 'thriller': 6172, 'famous': 6173, 'unconditionally': 6174, 'temper': 6175, 'arranging': 6176, 'describe': 6177, 'voted': 6178, 'audiitions': 6179, 'relocate': 6180, 'dogg': 6181, 'sliding': 6182, 'funeral': 6183, 'kvb': 6184, 'nte': 6185, 'embassy': 6186, 'scorable': 6187, 'changing': 6188, 'diaper': 6189, 'owed': 6190, 'allo': 6191, 'braved': 6192, 'triumphed': 6193, 'arr': 6194, 'oscar': 6195, 'answerin': 6196, 'juliana': 6197, 'motivating': 6198, 'sharing': 6199, 'thkin': 6200, 'parco': 6201, 'nb': 6202, 'univ': 6203, 'butting': 6204, 'ax': 6205, 'optimistic': 6206, 'epi': 6207, 'pdate': 6208, 'yhl': 6209, 'kane': 6210, 'shud': 6211, 'eviction': 6212, 'spiral': 6213, 'michael': 6214, 'riddance': 6215, 'restocked': 6216, 'awww': 6217, 'charming': 6218, 'protect': 6219, 'sib': 6220, 'sensitive': 6221, 'passwords': 6222, 'robs': 6223, 'avenge': 6224, 'sozi': 6225, 'culdnt': 6226, 'talkbut': 6227, 'wannatell': 6228, 'details': 6229, 'wenwecan': 6230, 'correctly': 6231, 'sized': 6232, 'annoyin': 6233, 'mallika': 6234, 'sherawat': 6235, 'misplaced': 6236, 'symptoms': 6237, 'capital': 6238, 'fixedline': 6239, 'guessin': 6240, 'shouting': 6241, 'simpsons': 6242, 'band': 6243, 'prominent': 6244, 'bite': 6245, 'cheek': 6246, 'sexiest': 6247, 'dirtiest': 6248, 'highest': 6249, 'maximum': 6250, 'bids': 6251, 'rayman': 6252, 'golf': 6253, 'activ': 6254, 'termsapply': 6255, 'hu': 6256, 'female': 6257, 'navigate': 6258, 'choosing': 6259, 'require': 6260, 'guidance': 6261, 'thout': 6262, 'panasonic': 6263, 'bluetoothhdset': 6264, 'doublemins': 6265, 'doubletxt': 6266, 'gprs': 6267, 'maintaining': 6268, 'ffffuuuuuuu': 6269, 'deficient': 6270, 'non': 6271, 'goigng': 6272, 'perfume': 6273, 'olave': 6274, 'mandara': 6275, 'trishul': 6276, 'sterm': 6277, 'resolved': 6278, 'report': 6279, 'okies': 6280, 'batt': 6281, 'dom': 6282, 'brainy': 6283, 'textbook': 6284, 'algorithm': 6285, 'edition': 6286, 'tg': 6287, 'wavering': 6288, 'heal': 6289, 'westshore': 6290, 'thnx': 6291, 'bunch': 6292, 'lotto': 6293, 'dehydrated': 6294, 'vegas': 6295, 'vega': 6296, 'bani': 6297, 'lasting': 6298, 'cro': 6299, 'mahal': 6300, 'glorious': 6301, 'coaxing': 6302, 'fond': 6303, 'souveniers': 6304, 'cougar': 6305, 'ujhhhhhhh': 6306, 'sandiago': 6307, 'parantella': 6308, 'esaplanade': 6309, 'meetin': 6310, 'dabooks': 6311, 'musthu': 6312, 'sooo': 6313, 'happiest': 6314, 'bishan': 6315, 'nearer': 6316, 'grown': 6317, 'printing': 6318, 'handing': 6319, 'db': 6320, 'wi': 6321, 'nz': 6322, 'comingdown': 6323, 'cast': 6324, 'nudist': 6325, 'themed': 6326, 'endowed': 6327, 'thmarch': 6328, 'availa': 6329, 'young': 6330, 'lion': 6331, 'gastroenteritis': 6332, 'replace': 6333, 'temp': 6334, 'reduce': 6335, 'limiting': 6336, 'illness': 6337, 'scarcasim': 6338, 'dessert': 6339, 'bbq': 6340, 'playin': 6341, 'wrongly': 6342, 'topic': 6343, 'level': 6344, 'mb': 6345, 'audrie': 6346, 'autocorrect': 6347, 'loxahatchee': 6348, 'burning': 6349, 'postal': 6350, 'checkmate': 6351, 'chess': 6352, 'persian': 6353, 'phrase': 6354, 'shah': 6355, 'maat': 6356, 'visitor': 6357, 'velachery': 6358, 'lingerie': 6359, 'bridal': 6360, 'petticoatdreams': 6361, 'weddingfriend': 6362, 'fredericksburg': 6363, 'blowing': 6364, 'pax': 6365, 'deposit': 6366}\n"
          ]
        }
      ]
    },
    {
      "cell_type": "code",
      "source": [
        "from tensorflow.keras.preprocessing.sequence import pad_sequences"
      ],
      "metadata": {
        "id": "G66IFAiO23x7"
      },
      "execution_count": 36,
      "outputs": []
    },
    {
      "cell_type": "code",
      "source": [
        "pad_length = 200\n",
        "\n",
        "size = len(tokenize.word_index) + 1\n",
        "print(size)"
      ],
      "metadata": {
        "colab": {
          "base_uri": "https://localhost:8080/"
        },
        "id": "y0YcIvmf23vB",
        "outputId": "b4dd9c15-e812-417e-8ba3-4ee9575a021f"
      },
      "execution_count": 37,
      "outputs": [
        {
          "output_type": "stream",
          "name": "stdout",
          "text": [
            "6367\n"
          ]
        }
      ]
    },
    {
      "cell_type": "code",
      "source": [
        "x_train = pad_sequences(x_train, padding='pre', maxlen=pad_length)\n",
        "x_test = pad_sequences(x_test, padding='pre', maxlen=pad_length)\n",
        "\n",
        "print(x_train,'\\n')\n",
        "print(x_test)"
      ],
      "metadata": {
        "colab": {
          "base_uri": "https://localhost:8080/"
        },
        "id": "X_JB7GX723sL",
        "outputId": "e3f19a95-7542-488b-d29b-fcd83c17dff8"
      },
      "execution_count": 38,
      "outputs": [
        {
          "output_type": "stream",
          "name": "stdout",
          "text": [
            "[[   0    0    0 ... 2154 3141  146]\n",
            " [   0    0    0 ... 3142 2155 1232]\n",
            " [   0    0    0 ...   94    5   29]\n",
            " ...\n",
            " [   0    0    0 ... 1174  901 6363]\n",
            " [   0    0    0 ...  251  324  120]\n",
            " [   0    0    0 ... 6365 6366  192]] \n",
            "\n",
            "[[   0    0    0 ...  484  255 1094]\n",
            " [   0    0    0 ...    3   56  267]\n",
            " [   0    0    0 ...   96 1354  675]\n",
            " ...\n",
            " [   0    0    0 ...   91  410    2]\n",
            " [   0    0    0 ...   99   58  211]\n",
            " [   0    0    0 ...  379  729   29]]\n"
          ]
        }
      ]
    },
    {
      "cell_type": "code",
      "source": [
        "#!wget -N http://nlp.stanford.edu/data/glove.6B.zip"
      ],
      "metadata": {
        "id": "Uk--tA4qMOxf"
      },
      "execution_count": 39,
      "outputs": []
    },
    {
      "cell_type": "code",
      "source": [
        "#!unzip -n glove.6B.zip"
      ],
      "metadata": {
        "id": "WQ31_fNUMOu6"
      },
      "execution_count": 40,
      "outputs": []
    },
    {
      "cell_type": "code",
      "source": [
        "glove_300 = pd.read_csv('glove.6B.300d.txt', sep=\" \", quoting=3, header=None, index_col=0)"
      ],
      "metadata": {
        "id": "Ulrwp9hHMH_w"
      },
      "execution_count": 41,
      "outputs": []
    },
    {
      "cell_type": "code",
      "source": [
        "glove_300.head()"
      ],
      "metadata": {
        "colab": {
          "base_uri": "https://localhost:8080/",
          "height": 331
        },
        "id": "5t7UWbuxMH9E",
        "outputId": "bf917deb-b029-4c68-a61b-3f7f25a5ce60"
      },
      "execution_count": 42,
      "outputs": [
        {
          "output_type": "execute_result",
          "data": {
            "text/plain": [
              "          1         2         3         4         5         6         7    \\\n",
              "0                                                                           \n",
              "the  0.046560  0.213180 -0.007436 -0.458540 -0.035639  0.236430 -0.288360   \n",
              ",   -0.255390 -0.257230  0.131690 -0.042688  0.218170 -0.022702 -0.178540   \n",
              ".   -0.125590  0.013630  0.103060 -0.101230  0.098128  0.136270 -0.107210   \n",
              "of  -0.076947 -0.021211  0.212710 -0.722320 -0.139880 -0.122340 -0.175210   \n",
              "to  -0.257560 -0.057132 -0.671900 -0.380820 -0.364210 -0.082155 -0.010955   \n",
              "\n",
              "          8         9       10   ...       291       292       293       294  \\\n",
              "0                                ...                                           \n",
              "the  0.215210 -0.134860 -1.6413  ... -0.013064 -0.296860 -0.079913  0.195000   \n",
              ",    0.107560  0.058936 -1.3854  ...  0.075968 -0.014359 -0.073794  0.221760   \n",
              ".    0.236970  0.328700 -1.6785  ...  0.060148 -0.156190 -0.119490  0.234450   \n",
              "of   0.121370 -0.070866 -1.5721  ... -0.366730 -0.386030  0.302900  0.015747   \n",
              "to  -0.082047  0.460560 -1.8477  ... -0.012806 -0.597070  0.317340 -0.252670   \n",
              "\n",
              "          295       296       297       298       299       300  \n",
              "0                                                                \n",
              "the  0.031549  0.285060 -0.087461  0.009061 -0.209890  0.053913  \n",
              ",    0.146520  0.566860  0.053307 -0.232900 -0.122260  0.354990  \n",
              ".    0.081367  0.246180 -0.152420 -0.342240 -0.022394  0.136840  \n",
              "of   0.340360  0.478410  0.068617  0.183510 -0.291830 -0.046533  \n",
              "to   0.543840  0.063007 -0.049795 -0.160430  0.046744 -0.070621  \n",
              "\n",
              "[5 rows x 300 columns]"
            ],
            "text/html": [
              "\n",
              "  <div id=\"df-f67397ff-1bdc-4464-b0a4-ef222fb01a3a\">\n",
              "    <div class=\"colab-df-container\">\n",
              "      <div>\n",
              "<style scoped>\n",
              "    .dataframe tbody tr th:only-of-type {\n",
              "        vertical-align: middle;\n",
              "    }\n",
              "\n",
              "    .dataframe tbody tr th {\n",
              "        vertical-align: top;\n",
              "    }\n",
              "\n",
              "    .dataframe thead th {\n",
              "        text-align: right;\n",
              "    }\n",
              "</style>\n",
              "<table border=\"1\" class=\"dataframe\">\n",
              "  <thead>\n",
              "    <tr style=\"text-align: right;\">\n",
              "      <th></th>\n",
              "      <th>1</th>\n",
              "      <th>2</th>\n",
              "      <th>3</th>\n",
              "      <th>4</th>\n",
              "      <th>5</th>\n",
              "      <th>6</th>\n",
              "      <th>7</th>\n",
              "      <th>8</th>\n",
              "      <th>9</th>\n",
              "      <th>10</th>\n",
              "      <th>...</th>\n",
              "      <th>291</th>\n",
              "      <th>292</th>\n",
              "      <th>293</th>\n",
              "      <th>294</th>\n",
              "      <th>295</th>\n",
              "      <th>296</th>\n",
              "      <th>297</th>\n",
              "      <th>298</th>\n",
              "      <th>299</th>\n",
              "      <th>300</th>\n",
              "    </tr>\n",
              "    <tr>\n",
              "      <th>0</th>\n",
              "      <th></th>\n",
              "      <th></th>\n",
              "      <th></th>\n",
              "      <th></th>\n",
              "      <th></th>\n",
              "      <th></th>\n",
              "      <th></th>\n",
              "      <th></th>\n",
              "      <th></th>\n",
              "      <th></th>\n",
              "      <th></th>\n",
              "      <th></th>\n",
              "      <th></th>\n",
              "      <th></th>\n",
              "      <th></th>\n",
              "      <th></th>\n",
              "      <th></th>\n",
              "      <th></th>\n",
              "      <th></th>\n",
              "      <th></th>\n",
              "      <th></th>\n",
              "    </tr>\n",
              "  </thead>\n",
              "  <tbody>\n",
              "    <tr>\n",
              "      <th>the</th>\n",
              "      <td>0.046560</td>\n",
              "      <td>0.213180</td>\n",
              "      <td>-0.007436</td>\n",
              "      <td>-0.458540</td>\n",
              "      <td>-0.035639</td>\n",
              "      <td>0.236430</td>\n",
              "      <td>-0.288360</td>\n",
              "      <td>0.215210</td>\n",
              "      <td>-0.134860</td>\n",
              "      <td>-1.6413</td>\n",
              "      <td>...</td>\n",
              "      <td>-0.013064</td>\n",
              "      <td>-0.296860</td>\n",
              "      <td>-0.079913</td>\n",
              "      <td>0.195000</td>\n",
              "      <td>0.031549</td>\n",
              "      <td>0.285060</td>\n",
              "      <td>-0.087461</td>\n",
              "      <td>0.009061</td>\n",
              "      <td>-0.209890</td>\n",
              "      <td>0.053913</td>\n",
              "    </tr>\n",
              "    <tr>\n",
              "      <th>,</th>\n",
              "      <td>-0.255390</td>\n",
              "      <td>-0.257230</td>\n",
              "      <td>0.131690</td>\n",
              "      <td>-0.042688</td>\n",
              "      <td>0.218170</td>\n",
              "      <td>-0.022702</td>\n",
              "      <td>-0.178540</td>\n",
              "      <td>0.107560</td>\n",
              "      <td>0.058936</td>\n",
              "      <td>-1.3854</td>\n",
              "      <td>...</td>\n",
              "      <td>0.075968</td>\n",
              "      <td>-0.014359</td>\n",
              "      <td>-0.073794</td>\n",
              "      <td>0.221760</td>\n",
              "      <td>0.146520</td>\n",
              "      <td>0.566860</td>\n",
              "      <td>0.053307</td>\n",
              "      <td>-0.232900</td>\n",
              "      <td>-0.122260</td>\n",
              "      <td>0.354990</td>\n",
              "    </tr>\n",
              "    <tr>\n",
              "      <th>.</th>\n",
              "      <td>-0.125590</td>\n",
              "      <td>0.013630</td>\n",
              "      <td>0.103060</td>\n",
              "      <td>-0.101230</td>\n",
              "      <td>0.098128</td>\n",
              "      <td>0.136270</td>\n",
              "      <td>-0.107210</td>\n",
              "      <td>0.236970</td>\n",
              "      <td>0.328700</td>\n",
              "      <td>-1.6785</td>\n",
              "      <td>...</td>\n",
              "      <td>0.060148</td>\n",
              "      <td>-0.156190</td>\n",
              "      <td>-0.119490</td>\n",
              "      <td>0.234450</td>\n",
              "      <td>0.081367</td>\n",
              "      <td>0.246180</td>\n",
              "      <td>-0.152420</td>\n",
              "      <td>-0.342240</td>\n",
              "      <td>-0.022394</td>\n",
              "      <td>0.136840</td>\n",
              "    </tr>\n",
              "    <tr>\n",
              "      <th>of</th>\n",
              "      <td>-0.076947</td>\n",
              "      <td>-0.021211</td>\n",
              "      <td>0.212710</td>\n",
              "      <td>-0.722320</td>\n",
              "      <td>-0.139880</td>\n",
              "      <td>-0.122340</td>\n",
              "      <td>-0.175210</td>\n",
              "      <td>0.121370</td>\n",
              "      <td>-0.070866</td>\n",
              "      <td>-1.5721</td>\n",
              "      <td>...</td>\n",
              "      <td>-0.366730</td>\n",
              "      <td>-0.386030</td>\n",
              "      <td>0.302900</td>\n",
              "      <td>0.015747</td>\n",
              "      <td>0.340360</td>\n",
              "      <td>0.478410</td>\n",
              "      <td>0.068617</td>\n",
              "      <td>0.183510</td>\n",
              "      <td>-0.291830</td>\n",
              "      <td>-0.046533</td>\n",
              "    </tr>\n",
              "    <tr>\n",
              "      <th>to</th>\n",
              "      <td>-0.257560</td>\n",
              "      <td>-0.057132</td>\n",
              "      <td>-0.671900</td>\n",
              "      <td>-0.380820</td>\n",
              "      <td>-0.364210</td>\n",
              "      <td>-0.082155</td>\n",
              "      <td>-0.010955</td>\n",
              "      <td>-0.082047</td>\n",
              "      <td>0.460560</td>\n",
              "      <td>-1.8477</td>\n",
              "      <td>...</td>\n",
              "      <td>-0.012806</td>\n",
              "      <td>-0.597070</td>\n",
              "      <td>0.317340</td>\n",
              "      <td>-0.252670</td>\n",
              "      <td>0.543840</td>\n",
              "      <td>0.063007</td>\n",
              "      <td>-0.049795</td>\n",
              "      <td>-0.160430</td>\n",
              "      <td>0.046744</td>\n",
              "      <td>-0.070621</td>\n",
              "    </tr>\n",
              "  </tbody>\n",
              "</table>\n",
              "<p>5 rows × 300 columns</p>\n",
              "</div>\n",
              "      <button class=\"colab-df-convert\" onclick=\"convertToInteractive('df-f67397ff-1bdc-4464-b0a4-ef222fb01a3a')\"\n",
              "              title=\"Convert this dataframe to an interactive table.\"\n",
              "              style=\"display:none;\">\n",
              "        \n",
              "  <svg xmlns=\"http://www.w3.org/2000/svg\" height=\"24px\"viewBox=\"0 0 24 24\"\n",
              "       width=\"24px\">\n",
              "    <path d=\"M0 0h24v24H0V0z\" fill=\"none\"/>\n",
              "    <path d=\"M18.56 5.44l.94 2.06.94-2.06 2.06-.94-2.06-.94-.94-2.06-.94 2.06-2.06.94zm-11 1L8.5 8.5l.94-2.06 2.06-.94-2.06-.94L8.5 2.5l-.94 2.06-2.06.94zm10 10l.94 2.06.94-2.06 2.06-.94-2.06-.94-.94-2.06-.94 2.06-2.06.94z\"/><path d=\"M17.41 7.96l-1.37-1.37c-.4-.4-.92-.59-1.43-.59-.52 0-1.04.2-1.43.59L10.3 9.45l-7.72 7.72c-.78.78-.78 2.05 0 2.83L4 21.41c.39.39.9.59 1.41.59.51 0 1.02-.2 1.41-.59l7.78-7.78 2.81-2.81c.8-.78.8-2.07 0-2.86zM5.41 20L4 18.59l7.72-7.72 1.47 1.35L5.41 20z\"/>\n",
              "  </svg>\n",
              "      </button>\n",
              "      \n",
              "  <style>\n",
              "    .colab-df-container {\n",
              "      display:flex;\n",
              "      flex-wrap:wrap;\n",
              "      gap: 12px;\n",
              "    }\n",
              "\n",
              "    .colab-df-convert {\n",
              "      background-color: #E8F0FE;\n",
              "      border: none;\n",
              "      border-radius: 50%;\n",
              "      cursor: pointer;\n",
              "      display: none;\n",
              "      fill: #1967D2;\n",
              "      height: 32px;\n",
              "      padding: 0 0 0 0;\n",
              "      width: 32px;\n",
              "    }\n",
              "\n",
              "    .colab-df-convert:hover {\n",
              "      background-color: #E2EBFA;\n",
              "      box-shadow: 0px 1px 2px rgba(60, 64, 67, 0.3), 0px 1px 3px 1px rgba(60, 64, 67, 0.15);\n",
              "      fill: #174EA6;\n",
              "    }\n",
              "\n",
              "    [theme=dark] .colab-df-convert {\n",
              "      background-color: #3B4455;\n",
              "      fill: #D2E3FC;\n",
              "    }\n",
              "\n",
              "    [theme=dark] .colab-df-convert:hover {\n",
              "      background-color: #434B5C;\n",
              "      box-shadow: 0px 1px 3px 1px rgba(0, 0, 0, 0.15);\n",
              "      filter: drop-shadow(0px 1px 2px rgba(0, 0, 0, 0.3));\n",
              "      fill: #FFFFFF;\n",
              "    }\n",
              "  </style>\n",
              "\n",
              "      <script>\n",
              "        const buttonEl =\n",
              "          document.querySelector('#df-f67397ff-1bdc-4464-b0a4-ef222fb01a3a button.colab-df-convert');\n",
              "        buttonEl.style.display =\n",
              "          google.colab.kernel.accessAllowed ? 'block' : 'none';\n",
              "\n",
              "        async function convertToInteractive(key) {\n",
              "          const element = document.querySelector('#df-f67397ff-1bdc-4464-b0a4-ef222fb01a3a');\n",
              "          const dataTable =\n",
              "            await google.colab.kernel.invokeFunction('convertToInteractive',\n",
              "                                                     [key], {});\n",
              "          if (!dataTable) return;\n",
              "\n",
              "          const docLinkHtml = 'Like what you see? Visit the ' +\n",
              "            '<a target=\"_blank\" href=https://colab.research.google.com/notebooks/data_table.ipynb>data table notebook</a>'\n",
              "            + ' to learn more about interactive tables.';\n",
              "          element.innerHTML = '';\n",
              "          dataTable['output_type'] = 'display_data';\n",
              "          await google.colab.output.renderOutput(dataTable, element);\n",
              "          const docLink = document.createElement('div');\n",
              "          docLink.innerHTML = docLinkHtml;\n",
              "          element.appendChild(docLink);\n",
              "        }\n",
              "      </script>\n",
              "    </div>\n",
              "  </div>\n",
              "  "
            ]
          },
          "metadata": {},
          "execution_count": 42
        }
      ]
    },
    {
      "cell_type": "code",
      "source": [
        "print(glove_300.index.values.take(list(range(0, 100, 10))))\n",
        "print(glove_300.index.values[:10])"
      ],
      "metadata": {
        "colab": {
          "base_uri": "https://localhost:8080/"
        },
        "id": "TI5NKhRmMH6R",
        "outputId": "f2c8a144-66b6-4074-8411-a5dbfa060a53"
      },
      "execution_count": 43,
      "outputs": [
        {
          "output_type": "stream",
          "name": "stdout",
          "text": [
            "['the' 'for' 'it' 'be' 'had' 'new' 'up' \"n't\" '$' 'president']\n",
            "['the' ',' '.' 'of' 'to' 'and' 'in' 'a' '\"' \"'s\"]\n"
          ]
        }
      ]
    },
    {
      "cell_type": "code",
      "source": [
        "embeddings_dictionary = {key: val.values for key, val in glove_300.T.items()}"
      ],
      "metadata": {
        "id": "NIeFn3aweedB"
      },
      "execution_count": 44,
      "outputs": []
    },
    {
      "cell_type": "code",
      "source": [
        "embeddings_dictionary['president']"
      ],
      "metadata": {
        "colab": {
          "base_uri": "https://localhost:8080/"
        },
        "id": "7lqUNQ8_eeaA",
        "outputId": "7be05172-730b-43e6-950b-58856edcc190"
      },
      "execution_count": 45,
      "outputs": [
        {
          "output_type": "execute_result",
          "data": {
            "text/plain": [
              "array([ 4.3665e-01,  1.8793e-01, -1.7022e-01, -1.0869e-01,  1.9476e-01,\n",
              "       -2.4502e-01, -7.7660e-01, -2.5813e-01,  4.3630e-01, -2.0884e+00,\n",
              "       -9.6794e-03,  1.4941e-01,  7.2166e-02, -6.5154e-01, -3.0189e-01,\n",
              "        8.5747e-01, -3.1906e-02, -4.5204e-01,  8.4932e-02, -4.1816e-01,\n",
              "        2.6820e-01, -4.5985e-02,  8.0586e-01, -1.3507e-01, -4.7616e-01,\n",
              "        1.4891e-01,  2.3255e-01,  3.2640e-01,  2.1525e-01, -4.9949e-01,\n",
              "        4.6968e-01,  1.5521e-01,  4.8574e-01,  3.3412e-01, -1.4695e+00,\n",
              "        6.2657e-02,  1.9865e-01, -2.9627e-01, -3.4174e-02, -3.9326e-01,\n",
              "        4.5055e-02,  2.7545e-01, -2.3320e-01, -4.9622e-02, -3.3297e-01,\n",
              "       -4.0912e-01, -2.4932e-01, -3.8237e-01,  8.8357e-02, -3.8397e-01,\n",
              "       -2.0878e-01,  1.2368e-03,  3.4651e-01,  1.0924e+00,  5.1525e-01,\n",
              "        2.9204e-01, -2.0349e-01,  4.0670e-01,  7.7727e-01, -7.7313e-02,\n",
              "       -2.3235e-02,  1.2527e-01,  4.2712e-01, -2.3133e-01,  4.2311e-01,\n",
              "       -4.6994e-01, -3.7960e-01,  6.0969e-01, -3.7170e-01, -1.3120e-01,\n",
              "        1.5344e-01,  1.6609e-01, -4.7717e-01,  3.4073e-01,  1.9271e-01,\n",
              "       -5.2350e-01, -1.0370e-01,  2.6739e-01, -6.5121e-02,  1.0389e-01,\n",
              "        7.4172e-03, -2.0989e-01,  1.0296e+00,  6.2499e-01,  1.0013e-01,\n",
              "        1.7658e-01, -5.4048e-01,  6.7968e-01, -1.6671e-01, -1.0488e-01,\n",
              "       -3.4262e-01, -5.8698e-01, -8.5952e-01,  8.8881e-02, -3.2902e-05,\n",
              "        7.5139e-02, -1.7108e-01,  5.6085e-01,  1.8821e-01, -2.1828e-01,\n",
              "        3.6976e-01, -6.3304e-01,  1.5313e-01,  3.8034e-01, -2.0838e-01,\n",
              "        4.0355e-01,  6.6327e-02, -6.2468e-01,  3.1332e-01,  1.7713e-02,\n",
              "        3.3675e-01,  7.3247e-02, -4.2814e-01,  2.2235e-01,  6.3945e-01,\n",
              "        2.2559e-01, -6.5049e-02, -7.2179e-01,  1.6574e-01, -9.9642e-02,\n",
              "       -2.5327e-01,  6.0604e-02, -1.5080e-02, -5.0173e-01,  1.0920e-01,\n",
              "       -2.8777e-01,  4.3032e-01,  2.5513e-01,  2.4696e-01,  5.2616e-01,\n",
              "       -1.0741e+00,  2.9500e-01, -1.8752e-01, -1.9558e-01, -9.7544e-02,\n",
              "       -1.2947e-01, -1.3892e-01, -9.6884e-02,  1.7863e-01,  1.3198e-01,\n",
              "       -2.2575e-01, -2.9770e-01,  4.5885e-02,  4.0300e-01, -2.1635e-01,\n",
              "        4.3531e-02, -1.0648e-01, -7.6258e-01, -5.0216e-01, -3.0577e-01,\n",
              "        1.2029e+00, -5.0100e-02,  5.2683e-01,  2.6516e-01,  5.1376e-01,\n",
              "       -2.2363e-01,  4.3115e-01,  7.9391e-02,  4.6038e-01, -1.3124e-01,\n",
              "        5.3734e-01,  5.7656e-01,  3.5664e-01,  5.0244e-01, -5.5748e-01,\n",
              "       -4.9756e-01, -2.0605e-01, -2.3667e-01,  1.2107e-01,  5.1437e-01,\n",
              "        9.7478e-02,  8.4950e-02, -9.9625e-01, -9.1041e-02,  4.2855e-01,\n",
              "        8.3959e-01, -9.2406e-03,  8.1366e-02, -4.3783e-01,  5.4968e-01,\n",
              "        2.8865e-01,  4.6515e-01,  4.3497e-01, -2.9785e-01, -4.0674e-01,\n",
              "        4.8918e-01, -8.5563e-01,  1.4251e-01, -2.5367e-01,  2.1165e-01,\n",
              "       -4.0318e-03, -2.3372e-01,  1.5675e-01, -7.1197e-01, -1.5919e-01,\n",
              "        1.0081e-01,  8.9967e-01, -7.7928e-02,  4.6789e-01,  3.1028e-01,\n",
              "        5.9796e-01, -4.9359e-01,  4.4960e-01, -1.8579e-01,  5.0421e-01,\n",
              "       -7.9484e-01,  6.4198e-01, -1.3685e-01, -1.6068e-02, -8.3894e-01,\n",
              "        5.9606e-01, -6.2083e-01,  5.7545e-01, -5.0092e-02,  4.4600e-01,\n",
              "       -2.5124e-02,  2.5411e-01, -6.8774e-01, -4.9954e-01, -3.8740e-01,\n",
              "        6.6048e-01, -3.0628e-02, -1.1134e-01,  1.0664e-01,  3.5612e-01,\n",
              "        4.3320e-03,  2.8770e-01,  1.0258e-01, -6.2883e-01,  2.3150e-01,\n",
              "        4.3142e-01,  2.3844e-02,  3.0490e-01,  7.3156e-01,  1.9849e-01,\n",
              "       -9.7109e-01, -1.5122e-01, -7.8800e-01,  4.1911e-01, -1.5073e-01,\n",
              "       -2.1868e-02,  4.0881e-01,  5.7548e-02, -3.2602e-01,  9.9069e-02,\n",
              "        3.4200e-02,  1.2749e-01, -5.7361e-01,  3.5564e-01, -2.0312e-01,\n",
              "        9.2886e-01, -1.8930e-01,  1.2403e-01, -3.1687e-01,  3.7841e-01,\n",
              "       -6.8967e-02,  1.5161e-01, -5.7127e-01,  3.2736e-01, -4.7846e-01,\n",
              "       -6.0216e-01, -6.9381e-02, -2.2023e-01, -4.1122e-01,  5.3483e-01,\n",
              "        3.8502e-01,  1.5791e-02,  7.8551e-01, -1.2136e-01, -9.8496e-02,\n",
              "        1.3987e-01,  1.3828e-01,  2.3389e-01, -3.7980e-01,  5.2184e-01,\n",
              "        3.0150e-01, -1.3715e+00, -2.3495e-02,  1.2326e+00, -6.5452e-01,\n",
              "       -2.1795e-01, -5.8907e-01,  2.0631e-01,  2.9072e-02,  8.4643e-02,\n",
              "        5.8652e-01, -1.3796e-01,  3.5852e-01,  7.5449e-02, -3.7824e-01,\n",
              "        2.6713e-01, -6.7144e-02,  5.2079e-01, -3.1357e-01, -4.5889e-01,\n",
              "        4.9779e-01,  7.4689e-02,  3.2894e-02, -5.2144e-01,  2.2295e-01])"
            ]
          },
          "metadata": {},
          "execution_count": 45
        }
      ]
    },
    {
      "cell_type": "code",
      "source": [
        "embeddings_matrix = np.zeros((size, 300))\n",
        "\n",
        "for word, index in tokenize.word_index.items():\n",
        "  emb_vector = embeddings_dictionary.get(word)\n",
        "  if emb_vector is not None:\n",
        "    embeddings_matrix[index] = emb_vector\n",
        "     \n"
      ],
      "metadata": {
        "id": "SBpao9-YeeXe"
      },
      "execution_count": 46,
      "outputs": []
    },
    {
      "cell_type": "code",
      "source": [
        "embeddings_matrix.shape"
      ],
      "metadata": {
        "colab": {
          "base_uri": "https://localhost:8080/"
        },
        "id": "_2JNQvJKeeUs",
        "outputId": "c8302757-af07-429a-e75f-c550354bf809"
      },
      "execution_count": 47,
      "outputs": [
        {
          "output_type": "execute_result",
          "data": {
            "text/plain": [
              "(6367, 300)"
            ]
          },
          "metadata": {},
          "execution_count": 47
        }
      ]
    },
    {
      "cell_type": "code",
      "source": [
        "embeddings_matrix[0].shape"
      ],
      "metadata": {
        "colab": {
          "base_uri": "https://localhost:8080/"
        },
        "id": "wrxG5riMeeR7",
        "outputId": "ea43c8ec-12ec-41a2-e45f-a864b7edc83e"
      },
      "execution_count": 48,
      "outputs": [
        {
          "output_type": "execute_result",
          "data": {
            "text/plain": [
              "(300,)"
            ]
          },
          "metadata": {},
          "execution_count": 48
        }
      ]
    },
    {
      "cell_type": "code",
      "source": [
        "embeddings_matrix[:5]"
      ],
      "metadata": {
        "colab": {
          "base_uri": "https://localhost:8080/"
        },
        "id": "inZijVYoeePT",
        "outputId": "087386e8-2861-49b7-8718-080f071114cf"
      },
      "execution_count": 49,
      "outputs": [
        {
          "output_type": "execute_result",
          "data": {
            "text/plain": [
              "array([[ 0.      ,  0.      ,  0.      , ...,  0.      ,  0.      ,\n",
              "         0.      ],\n",
              "       [-0.13292 ,  0.16985 , -0.1436  , ..., -0.23778 ,  0.14766 ,\n",
              "         0.62902 ],\n",
              "       [ 0.016393, -0.40067 , -0.26541 , ..., -0.63718 , -0.066708,\n",
              "         0.35212 ],\n",
              "       [ 0.048021,  0.13645 , -0.33734 , ..., -0.27052 , -0.12922 ,\n",
              "        -0.013268],\n",
              "       [-0.14124 , -0.11836 , -0.30782 , ..., -0.19883 , -0.061105,\n",
              "         0.11568 ]])"
            ]
          },
          "metadata": {},
          "execution_count": 49
        }
      ]
    },
    {
      "cell_type": "code",
      "source": [
        "model = tf.keras.Sequential([\n",
        "    tf.keras.layers.Embedding(input_dim = size, output_dim = 300,\n",
        "                              weights=[embeddings_matrix],input_length=pad_length,\n",
        "                              trainable=False),\n",
        "    tf.keras.layers.GlobalAveragePooling1D(),\n",
        "    tf.keras.layers.Dense(64, activation='relu'),\n",
        "    tf.keras.layers.Dropout(rate=0.8),\n",
        "    tf.keras.layers.Dense(32, activation='relu'),\n",
        "    tf.keras.layers.Dropout(rate=0.5),\n",
        "    tf.keras.layers.Dense(18, activation='tanh'),\n",
        "    tf.keras.layers.Dropout(rate=0.3),\n",
        "    tf.keras.layers.Dense(6, activation='tanh'),\n",
        "    tf.keras.layers.Dense(1, activation='sigmoid')\n",
        "])"
      ],
      "metadata": {
        "id": "NoNykr_z23pW"
      },
      "execution_count": 50,
      "outputs": []
    },
    {
      "cell_type": "code",
      "source": [
        "model.compile(loss='binary_crossentropy',optimizer='adam',metrics=['accuracy'])"
      ],
      "metadata": {
        "id": "cAwPj62723mV"
      },
      "execution_count": 51,
      "outputs": []
    },
    {
      "cell_type": "code",
      "source": [
        "model.summary()"
      ],
      "metadata": {
        "colab": {
          "base_uri": "https://localhost:8080/"
        },
        "id": "Z9nyetIM23jh",
        "outputId": "43a7c05d-b96c-45dc-81a0-3b791b4336b6"
      },
      "execution_count": 52,
      "outputs": [
        {
          "output_type": "stream",
          "name": "stdout",
          "text": [
            "Model: \"sequential\"\n",
            "_________________________________________________________________\n",
            " Layer (type)                Output Shape              Param #   \n",
            "=================================================================\n",
            " embedding (Embedding)       (None, 200, 300)          1910100   \n",
            "                                                                 \n",
            " global_average_pooling1d (G  (None, 300)              0         \n",
            " lobalAveragePooling1D)                                          \n",
            "                                                                 \n",
            " dense (Dense)               (None, 64)                19264     \n",
            "                                                                 \n",
            " dropout (Dropout)           (None, 64)                0         \n",
            "                                                                 \n",
            " dense_1 (Dense)             (None, 32)                2080      \n",
            "                                                                 \n",
            " dropout_1 (Dropout)         (None, 32)                0         \n",
            "                                                                 \n",
            " dense_2 (Dense)             (None, 18)                594       \n",
            "                                                                 \n",
            " dropout_2 (Dropout)         (None, 18)                0         \n",
            "                                                                 \n",
            " dense_3 (Dense)             (None, 6)                 114       \n",
            "                                                                 \n",
            " dense_4 (Dense)             (None, 1)                 7         \n",
            "                                                                 \n",
            "=================================================================\n",
            "Total params: 1,932,159\n",
            "Trainable params: 22,059\n",
            "Non-trainable params: 1,910,100\n",
            "_________________________________________________________________\n"
          ]
        }
      ]
    },
    {
      "cell_type": "code",
      "source": [
        "history = model.fit(x_train,y_train,batch_size=128,epochs=30,validation_split=0.30)"
      ],
      "metadata": {
        "colab": {
          "base_uri": "https://localhost:8080/"
        },
        "id": "EsKVD0bk23hB",
        "outputId": "3b9698ad-542f-4a90-d398-f43312f9ec03"
      },
      "execution_count": 53,
      "outputs": [
        {
          "output_type": "stream",
          "name": "stdout",
          "text": [
            "Epoch 1/30\n",
            "23/23 [==============================] - 2s 23ms/step - loss: 0.6114 - accuracy: 0.8311 - val_loss: 0.4874 - val_accuracy: 0.8756\n",
            "Epoch 2/30\n",
            "23/23 [==============================] - 0s 7ms/step - loss: 0.4438 - accuracy: 0.8636 - val_loss: 0.3566 - val_accuracy: 0.8756\n",
            "Epoch 3/30\n",
            "23/23 [==============================] - 0s 6ms/step - loss: 0.3827 - accuracy: 0.8636 - val_loss: 0.2979 - val_accuracy: 0.8756\n",
            "Epoch 4/30\n",
            "23/23 [==============================] - 0s 5ms/step - loss: 0.3209 - accuracy: 0.8660 - val_loss: 0.2298 - val_accuracy: 0.8748\n",
            "Epoch 5/30\n",
            "23/23 [==============================] - 0s 6ms/step - loss: 0.2598 - accuracy: 0.8872 - val_loss: 0.1630 - val_accuracy: 0.9625\n",
            "Epoch 6/30\n",
            "23/23 [==============================] - 0s 5ms/step - loss: 0.2099 - accuracy: 0.9241 - val_loss: 0.1234 - val_accuracy: 0.9689\n",
            "Epoch 7/30\n",
            "23/23 [==============================] - 0s 6ms/step - loss: 0.1735 - accuracy: 0.9460 - val_loss: 0.1074 - val_accuracy: 0.9705\n",
            "Epoch 8/30\n",
            "23/23 [==============================] - 0s 6ms/step - loss: 0.1508 - accuracy: 0.9528 - val_loss: 0.0991 - val_accuracy: 0.9713\n",
            "Epoch 9/30\n",
            "23/23 [==============================] - 0s 6ms/step - loss: 0.1410 - accuracy: 0.9569 - val_loss: 0.0954 - val_accuracy: 0.9745\n",
            "Epoch 10/30\n",
            "23/23 [==============================] - 0s 5ms/step - loss: 0.1221 - accuracy: 0.9638 - val_loss: 0.0952 - val_accuracy: 0.9721\n",
            "Epoch 11/30\n",
            "23/23 [==============================] - 0s 5ms/step - loss: 0.1171 - accuracy: 0.9662 - val_loss: 0.0899 - val_accuracy: 0.9745\n",
            "Epoch 12/30\n",
            "23/23 [==============================] - 0s 5ms/step - loss: 0.1167 - accuracy: 0.9668 - val_loss: 0.0906 - val_accuracy: 0.9753\n",
            "Epoch 13/30\n",
            "23/23 [==============================] - 0s 5ms/step - loss: 0.1142 - accuracy: 0.9699 - val_loss: 0.0889 - val_accuracy: 0.9753\n",
            "Epoch 14/30\n",
            "23/23 [==============================] - 0s 6ms/step - loss: 0.1107 - accuracy: 0.9679 - val_loss: 0.0876 - val_accuracy: 0.9753\n",
            "Epoch 15/30\n",
            "23/23 [==============================] - 0s 7ms/step - loss: 0.1021 - accuracy: 0.9740 - val_loss: 0.0852 - val_accuracy: 0.9753\n",
            "Epoch 16/30\n",
            "23/23 [==============================] - 0s 5ms/step - loss: 0.1043 - accuracy: 0.9709 - val_loss: 0.0853 - val_accuracy: 0.9761\n",
            "Epoch 17/30\n",
            "23/23 [==============================] - 0s 5ms/step - loss: 0.0958 - accuracy: 0.9737 - val_loss: 0.0822 - val_accuracy: 0.9777\n",
            "Epoch 18/30\n",
            "23/23 [==============================] - 0s 7ms/step - loss: 0.0946 - accuracy: 0.9730 - val_loss: 0.0827 - val_accuracy: 0.9761\n",
            "Epoch 19/30\n",
            "23/23 [==============================] - 0s 5ms/step - loss: 0.0939 - accuracy: 0.9740 - val_loss: 0.0811 - val_accuracy: 0.9777\n",
            "Epoch 20/30\n",
            "23/23 [==============================] - 0s 6ms/step - loss: 0.0866 - accuracy: 0.9768 - val_loss: 0.0805 - val_accuracy: 0.9777\n",
            "Epoch 21/30\n",
            "23/23 [==============================] - 0s 7ms/step - loss: 0.0876 - accuracy: 0.9774 - val_loss: 0.0779 - val_accuracy: 0.9777\n",
            "Epoch 22/30\n",
            "23/23 [==============================] - 0s 7ms/step - loss: 0.0893 - accuracy: 0.9744 - val_loss: 0.0779 - val_accuracy: 0.9785\n",
            "Epoch 23/30\n",
            "23/23 [==============================] - 0s 6ms/step - loss: 0.0855 - accuracy: 0.9747 - val_loss: 0.0776 - val_accuracy: 0.9785\n",
            "Epoch 24/30\n",
            "23/23 [==============================] - 0s 5ms/step - loss: 0.0782 - accuracy: 0.9791 - val_loss: 0.0793 - val_accuracy: 0.9801\n",
            "Epoch 25/30\n",
            "23/23 [==============================] - 0s 5ms/step - loss: 0.0893 - accuracy: 0.9744 - val_loss: 0.0779 - val_accuracy: 0.9769\n",
            "Epoch 26/30\n",
            "23/23 [==============================] - 0s 5ms/step - loss: 0.0819 - accuracy: 0.9768 - val_loss: 0.0790 - val_accuracy: 0.9785\n",
            "Epoch 27/30\n",
            "23/23 [==============================] - 0s 5ms/step - loss: 0.0766 - accuracy: 0.9809 - val_loss: 0.0797 - val_accuracy: 0.9777\n",
            "Epoch 28/30\n",
            "23/23 [==============================] - 0s 5ms/step - loss: 0.0817 - accuracy: 0.9757 - val_loss: 0.0785 - val_accuracy: 0.9777\n",
            "Epoch 29/30\n",
            "23/23 [==============================] - 0s 6ms/step - loss: 0.0719 - accuracy: 0.9819 - val_loss: 0.0791 - val_accuracy: 0.9793\n",
            "Epoch 30/30\n",
            "23/23 [==============================] - 0s 6ms/step - loss: 0.0710 - accuracy: 0.9815 - val_loss: 0.0790 - val_accuracy: 0.9793\n"
          ]
        }
      ]
    },
    {
      "cell_type": "code",
      "source": [
        "fig = plt.figure(figsize=(10, 4))\n",
        "plt.plot(history.history['accuracy'])\n",
        "plt.plot(history.history['val_accuracy'])\n",
        "plt.title('Accuracy of Model')\n",
        "plt.xlabel('Epochs')\n",
        "plt.ylabel('Accuracy')\n",
        "plt.legend(['train', 'test'], loc='lower right')\n",
        "plt.show()"
      ],
      "metadata": {
        "colab": {
          "base_uri": "https://localhost:8080/",
          "height": 295
        },
        "id": "TTc6jt5B23eK",
        "outputId": "903e62ed-2160-4d46-a745-6df3ffbf9e86"
      },
      "execution_count": 54,
      "outputs": [
        {
          "output_type": "display_data",
          "data": {
            "text/plain": [
              "<Figure size 720x288 with 1 Axes>"
            ],
            "image/png": "[encoded data removed]"
          },
          "metadata": {
            "needs_background": "light"
          }
        }
      ]
    },
    {
      "cell_type": "code",
      "source": [
        "fig = plt.figure(figsize=(10, 4))\n",
        "plt.plot(history.history['loss'])\n",
        "plt.plot(history.history['val_loss'])\n",
        "plt.title('Loss of Model')\n",
        "plt.xlabel('Epochs')\n",
        "plt.ylabel('Loss')\n",
        "plt.legend(['train', 'test'], loc='upper right')\n",
        "plt.show()\n"
      ],
      "metadata": {
        "colab": {
          "base_uri": "https://localhost:8080/",
          "height": 295
        },
        "id": "EuQ2Ln1R23bX",
        "outputId": "0d1e9b31-ff25-4761-a596-edf5fe152c5c"
      },
      "execution_count": 55,
      "outputs": [
        {
          "output_type": "display_data",
          "data": {
            "text/plain": [
              "<Figure size 720x288 with 1 Axes>"
            ],
            "image/png": "[encoded data removed]"
          },
          "metadata": {
            "needs_background": "light"
          }
        }
      ]
    },
    {
      "cell_type": "code",
      "source": [],
      "metadata": {
        "id": "VKKDe5zd23Yd"
      },
      "execution_count": 55,
      "outputs": []
    },
    {
      "cell_type": "code",
      "source": [],
      "metadata": {
        "id": "1MZsaalZ23Vv"
      },
      "execution_count": null,
      "outputs": []
    },
    {
      "cell_type": "code",
      "source": [],
      "metadata": {
        "id": "WzM9Cj3823S7"
      },
      "execution_count": null,
      "outputs": []
    },
    {
      "cell_type": "code",
      "source": [],
      "metadata": {
        "id": "6-FHNxZY23QM"
      },
      "execution_count": null,
      "outputs": []
    },
    {
      "cell_type": "code",
      "source": [],
      "metadata": {
        "id": "X05axsv123Ne"
      },
      "execution_count": null,
      "outputs": []
    },
    {
      "cell_type": "code",
      "source": [],
      "metadata": {
        "id": "yNesyNkH23Ks"
      },
      "execution_count": null,
      "outputs": []
    },
    {
      "cell_type": "code",
      "source": [],
      "metadata": {
        "id": "uMt-EiLH23IJ"
      },
      "execution_count": null,
      "outputs": []
    },
    {
      "cell_type": "code",
      "source": [],
      "metadata": {
        "id": "NP4Ibd-X23Fd"
      },
      "execution_count": null,
      "outputs": []
    },
    {
      "cell_type": "code",
      "source": [],
      "metadata": {
        "id": "snqf82Nn23C6"
      },
      "execution_count": null,
      "outputs": []
    },
    {
      "cell_type": "code",
      "source": [],
      "metadata": {
        "id": "u8F34cxO23AI"
      },
      "execution_count": null,
      "outputs": []
    },
    {
      "cell_type": "code",
      "source": [],
      "metadata": {
        "id": "O0Uq55kg229n"
      },
      "execution_count": null,
      "outputs": []
    },
    {
      "cell_type": "code",
      "source": [],
      "metadata": {
        "id": "lD-XAwYh2266"
      },
      "execution_count": null,
      "outputs": []
    },
    {
      "cell_type": "code",
      "source": [],
      "metadata": {
        "id": "Wel30JmV224P"
      },
      "execution_count": null,
      "outputs": []
    },
    {
      "cell_type": "code",
      "source": [],
      "metadata": {
        "id": "zJmDF4vw221T"
      },
      "execution_count": null,
      "outputs": []
    },
    {
      "cell_type": "code",
      "source": [],
      "metadata": {
        "id": "u1wyTK0c22ys"
      },
      "execution_count": null,
      "outputs": []
    },
    {
      "cell_type": "code",
      "source": [],
      "metadata": {
        "id": "2ju9PK6322vu"
      },
      "execution_count": null,
      "outputs": []
    },
    {
      "cell_type": "code",
      "source": [],
      "metadata": {
        "id": "mzVHqiEd22tE"
      },
      "execution_count": null,
      "outputs": []
    },
    {
      "cell_type": "code",
      "source": [],
      "metadata": {
        "id": "_E9XyNdx22qM"
      },
      "execution_count": null,
      "outputs": []
    },
    {
      "cell_type": "code",
      "source": [],
      "metadata": {
        "id": "nRgShawg22ng"
      },
      "execution_count": null,
      "outputs": []
    },
    {
      "cell_type": "code",
      "source": [],
      "metadata": {
        "id": "BpSE6MAp22kz"
      },
      "execution_count": null,
      "outputs": []
    },
    {
      "cell_type": "code",
      "source": [],
      "metadata": {
        "id": "SN4OWOAO22iR"
      },
      "execution_count": null,
      "outputs": []
    },
    {
      "cell_type": "code",
      "source": [],
      "metadata": {
        "id": "ZYFim3jx22fn"
      },
      "execution_count": null,
      "outputs": []
    },
    {
      "cell_type": "code",
      "source": [],
      "metadata": {
        "id": "CC-hB8Gj22dH"
      },
      "execution_count": null,
      "outputs": []
    },
    {
      "cell_type": "code",
      "source": [],
      "metadata": {
        "id": "XrMaQ0RB22aT"
      },
      "execution_count": null,
      "outputs": []
    },
    {
      "cell_type": "code",
      "source": [],
      "metadata": {
        "id": "QWssKnkF22Xm"
      },
      "execution_count": null,
      "outputs": []
    },
    {
      "cell_type": "code",
      "source": [],
      "metadata": {
        "id": "W-x_ic2L22Uy"
      },
      "execution_count": null,
      "outputs": []
    },
    {
      "cell_type": "code",
      "source": [],
      "metadata": {
        "id": "ESGmRRkU22SK"
      },
      "execution_count": null,
      "outputs": []
    },
    {
      "cell_type": "code",
      "source": [],
      "metadata": {
        "id": "DCA4An1322Pi"
      },
      "execution_count": null,
      "outputs": []
    },
    {
      "cell_type": "code",
      "source": [],
      "metadata": {
        "id": "C_0gad7Y22M2"
      },
      "execution_count": null,
      "outputs": []
    },
    {
      "cell_type": "code",
      "source": [],
      "metadata": {
        "id": "wlnpjemW22KF"
      },
      "execution_count": null,
      "outputs": []
    },
    {
      "cell_type": "code",
      "source": [],
      "metadata": {
        "id": "jbBeKJ1r22HU"
      },
      "execution_count": null,
      "outputs": []
    },
    {
      "cell_type": "code",
      "source": [],
      "metadata": {
        "id": "FCh8cUn122Et"
      },
      "execution_count": null,
      "outputs": []
    },
    {
      "cell_type": "code",
      "source": [],
      "metadata": {
        "id": "fpLo5HP422CG"
      },
      "execution_count": null,
      "outputs": []
    },
    {
      "cell_type": "code",
      "source": [],
      "metadata": {
        "id": "i58zmrNX21_2"
      },
      "execution_count": null,
      "outputs": []
    },
    {
      "cell_type": "code",
      "source": [],
      "metadata": {
        "id": "TnOPevck218x"
      },
      "execution_count": null,
      "outputs": []
    },
    {
      "cell_type": "code",
      "source": [],
      "metadata": {
        "id": "vyCNYIm_216X"
      },
      "execution_count": null,
      "outputs": []
    },
    {
      "cell_type": "code",
      "source": [],
      "metadata": {
        "id": "f16VRUI6213e"
      },
      "execution_count": null,
      "outputs": []
    },
    {
      "cell_type": "code",
      "source": [],
      "metadata": {
        "id": "jiJTt9lw210x"
      },
      "execution_count": null,
      "outputs": []
    },
    {
      "cell_type": "code",
      "source": [],
      "metadata": {
        "id": "LZg1puJw21yP"
      },
      "execution_count": null,
      "outputs": []
    },
    {
      "cell_type": "code",
      "source": [],
      "metadata": {
        "id": "9HP0C8xD21ve"
      },
      "execution_count": null,
      "outputs": []
    },
    {
      "cell_type": "code",
      "source": [],
      "metadata": {
        "id": "4Pgt-0iC21s1"
      },
      "execution_count": null,
      "outputs": []
    },
    {
      "cell_type": "code",
      "source": [],
      "metadata": {
        "id": "ciFkqwYa21qW"
      },
      "execution_count": null,
      "outputs": []
    },
    {
      "cell_type": "code",
      "source": [],
      "metadata": {
        "id": "ErN9jDrW21nn"
      },
      "execution_count": null,
      "outputs": []
    },
    {
      "cell_type": "code",
      "source": [],
      "metadata": {
        "id": "9m-125pt21k0"
      },
      "execution_count": null,
      "outputs": []
    },
    {
      "cell_type": "code",
      "source": [],
      "metadata": {
        "id": "xVucz8tq21iF"
      },
      "execution_count": null,
      "outputs": []
    },
    {
      "cell_type": "code",
      "source": [],
      "metadata": {
        "id": "VVQdOiY221fy"
      },
      "execution_count": null,
      "outputs": []
    },
    {
      "cell_type": "code",
      "source": [],
      "metadata": {
        "id": "2vLuzXcP21cw"
      },
      "execution_count": null,
      "outputs": []
    },
    {
      "cell_type": "code",
      "source": [],
      "metadata": {
        "id": "qBiAPEAf21aK"
      },
      "execution_count": null,
      "outputs": []
    },
    {
      "cell_type": "code",
      "source": [],
      "metadata": {
        "id": "s_U4zfhF21Xb"
      },
      "execution_count": null,
      "outputs": []
    },
    {
      "cell_type": "code",
      "source": [],
      "metadata": {
        "id": "QGqG7Ubl21VB"
      },
      "execution_count": null,
      "outputs": []
    },
    {
      "cell_type": "code",
      "source": [],
      "metadata": {
        "id": "HVJ9f42m21SV"
      },
      "execution_count": null,
      "outputs": []
    },
    {
      "cell_type": "code",
      "source": [],
      "metadata": {
        "id": "JCevQmjx21Pu"
      },
      "execution_count": null,
      "outputs": []
    },
    {
      "cell_type": "code",
      "source": [],
      "metadata": {
        "id": "Cnufo1uY21NB"
      },
      "execution_count": null,
      "outputs": []
    },
    {
      "cell_type": "code",
      "source": [],
      "metadata": {
        "id": "EkpkMzDz21Kq"
      },
      "execution_count": null,
      "outputs": []
    },
    {
      "cell_type": "code",
      "source": [],
      "metadata": {
        "id": "p9qrx8Wi21IZ"
      },
      "execution_count": null,
      "outputs": []
    },
    {
      "cell_type": "code",
      "source": [],
      "metadata": {
        "id": "m37kI5DB21F4"
      },
      "execution_count": null,
      "outputs": []
    },
    {
      "cell_type": "code",
      "source": [],
      "metadata": {
        "id": "wIGzBxua21DZ"
      },
      "execution_count": null,
      "outputs": []
    },
    {
      "cell_type": "code",
      "source": [],
      "metadata": {
        "id": "Ref8abbM21Aw"
      },
      "execution_count": null,
      "outputs": []
    },
    {
      "cell_type": "code",
      "source": [],
      "metadata": {
        "id": "YDvCk5yM20-a"
      },
      "execution_count": null,
      "outputs": []
    },
    {
      "cell_type": "code",
      "source": [],
      "metadata": {
        "id": "K6WRuIMJ207z"
      },
      "execution_count": null,
      "outputs": []
    },
    {
      "cell_type": "code",
      "source": [],
      "metadata": {
        "id": "GJEVNlB4205N"
      },
      "execution_count": null,
      "outputs": []
    },
    {
      "cell_type": "code",
      "source": [],
      "metadata": {
        "id": "_z3APm5v203B"
      },
      "execution_count": null,
      "outputs": []
    },
    {
      "cell_type": "code",
      "source": [],
      "metadata": {
        "id": "sT-HVhoy200K"
      },
      "execution_count": null,
      "outputs": []
    },
    {
      "cell_type": "code",
      "source": [],
      "metadata": {
        "id": "BKUERecs20xj"
      },
      "execution_count": null,
      "outputs": []
    },
    {
      "cell_type": "code",
      "source": [],
      "metadata": {
        "id": "v-ae2tXH20vS"
      },
      "execution_count": null,
      "outputs": []
    }
  ]
}