{
 "cells": [
  {
   "cell_type": "code",
   "execution_count": 1,
   "id": "41aa1faa-2495-4913-9aac-bb457c062f23",
   "metadata": {
    "id": "41aa1faa-2495-4913-9aac-bb457c062f23"
   },
   "outputs": [],
   "source": [
    "import nltk\n",
    "import spacy\n",
    "import pandas as pd\n",
    "import re\n",
    "import tensorflow as tf"
   ]
  },
  {
   "cell_type": "code",
   "execution_count": 2,
   "id": "7ae74447-0c45-4d02-93cf-fd8825e4d4e3",
   "metadata": {
    "id": "7ae74447-0c45-4d02-93cf-fd8825e4d4e3"
   },
   "outputs": [],
   "source": [
    "import json\n",
    "with open('tweets.json') as file:\n",
    "    df = json.load(file)"
   ]
  },
  {
   "cell_type": "code",
   "execution_count": 3,
   "id": "15a2532b-ffb9-4ce1-891b-09f4c17adec6",
   "metadata": {
    "id": "15a2532b-ffb9-4ce1-891b-09f4c17adec6"
   },
   "outputs": [],
   "source": [
    "gpus = tf.config.experimental.list_physical_devices('GPU')\n",
    "for gpu in gpus: \n",
    "    tf.config.experimental.set_memory_growth(gpu, True)"
   ]
  },
  {
   "cell_type": "code",
   "execution_count": 4,
   "id": "bd1eb844-3cb1-48b4-8791-a76242cb8580",
   "metadata": {
    "id": "bd1eb844-3cb1-48b4-8791-a76242cb8580"
   },
   "outputs": [],
   "source": [
    "tweets = []\n",
    "authors = []\n",
    "for key in df:\n",
    "    tweets.append(df[key]['tweet_text'])\n",
    "    authors.append(df[key]['tweet_author'])"
   ]
  },
  {
   "cell_type": "code",
   "execution_count": 5,
   "id": "5fe7de03-78db-4eff-a929-0192bc3d996a",
   "metadata": {
    "colab": {
     "base_uri": "https://localhost:8080/"
    },
    "id": "5fe7de03-78db-4eff-a929-0192bc3d996a",
    "outputId": "e9d45b93-549a-40b7-9473-6a3265baf816"
   },
   "outputs": [
    {
     "data": {
      "text/plain": [
       "['Hematopoiesis News',\n",
       " 'Michael Wang, MD',\n",
       " '1stOncology',\n",
       " 'Toby Eyre',\n",
       " 'Lymphoma Hub']"
      ]
     },
     "execution_count": 5,
     "metadata": {},
     "output_type": "execute_result"
    }
   ],
   "source": [
    "authors[:5]"
   ]
  },
  {
   "cell_type": "code",
   "execution_count": 6,
   "id": "ce1329ae-f297-41e0-9e7a-12f6f05025c9",
   "metadata": {
    "id": "ce1329ae-f297-41e0-9e7a-12f6f05025c9"
   },
   "outputs": [],
   "source": [
    "data = {'Author': authors, 'Tweet': tweets}\n",
    "df = pd.DataFrame(data)"
   ]
  },
  {
   "cell_type": "code",
   "execution_count": 7,
   "id": "c89173da-ec00-4945-9369-3bf685169085",
   "metadata": {
    "colab": {
     "base_uri": "https://localhost:8080/",
     "height": 52
    },
    "id": "c89173da-ec00-4945-9369-3bf685169085",
    "outputId": "e89ab353-8de9-45fb-eec0-388a2aeab250"
   },
   "outputs": [
    {
     "data": {
      "text/plain": [
       "'⚕️ Scientists conducted a Phase II study of acalabrutinib in patients with relapsed/refractory #CLL who were ibrutinib-intolerant, and found an overall response rate of 73%. \\n '"
      ]
     },
     "execution_count": 7,
     "metadata": {},
     "output_type": "execute_result"
    }
   ],
   "source": [
    "df[\"cleaned_tweets\"] = [re.sub(r'http\\S+', '', tweet) for tweet in df['Tweet']]\n",
    "\n",
    "df[\"cleaned_tweets\"][0]"
   ]
  },
  {
   "cell_type": "code",
   "execution_count": 8,
   "id": "98fe5573-5509-4c35-ae6e-dde28e03b0d7",
   "metadata": {
    "colab": {
     "base_uri": "https://localhost:8080/",
     "height": 52
    },
    "id": "98fe5573-5509-4c35-ae6e-dde28e03b0d7",
    "outputId": "ab49a8e5-31bb-48b9-ad33-7e312fb95740"
   },
   "outputs": [
    {
     "data": {
      "text/plain": [
       "'⚕️ Scientists conducted a Phase II study of acalabrutinib in patients with relapsed/refractory  who were ibrutinib-intolerant, and found an overall response rate of 73%. \\n '"
      ]
     },
     "execution_count": 8,
     "metadata": {},
     "output_type": "execute_result"
    }
   ],
   "source": [
    "df[\"cleaned_tweets\"] = [re.sub(r'#\\S+', '', tweet) for tweet in df[\"cleaned_tweets\"]]\n",
    "\n",
    "df[\"cleaned_tweets\"][0]"
   ]
  },
  {
   "cell_type": "code",
   "execution_count": 9,
   "id": "50725ffb-b0ff-40b7-a244-51dd4e14b551",
   "metadata": {
    "colab": {
     "base_uri": "https://localhost:8080/",
     "height": 52
    },
    "id": "50725ffb-b0ff-40b7-a244-51dd4e14b551",
    "outputId": "abd71c4c-f9ac-4ca6-9196-5613d36e6729"
   },
   "outputs": [
    {
     "data": {
      "text/plain": [
       "' Scientists conducted a Phase II study of acalabrutinib in patients with relapsedrefractory  who were ibrutinibintolerant and found an overall response rate of 73 \\n '"
      ]
     },
     "execution_count": 9,
     "metadata": {},
     "output_type": "execute_result"
    }
   ],
   "source": [
    "df[\"cleaned_tweets\"] = [re.sub(r'[^A-Za-z0-9\\s]+', '', tweet) for tweet in df[\"cleaned_tweets\"]]\n",
    "\n",
    "df[\"cleaned_tweets\"][0]"
   ]
  },
  {
   "cell_type": "code",
   "execution_count": 10,
   "id": "9a86c43e-32ee-42e3-89c9-7a2d566d8240",
   "metadata": {
    "colab": {
     "base_uri": "https://localhost:8080/",
     "height": 52
    },
    "id": "9a86c43e-32ee-42e3-89c9-7a2d566d8240",
    "outputId": "defdcf46-fcc2-4509-9814-10fa24a167e7"
   },
   "outputs": [
    {
     "data": {
      "text/plain": [
       "' Scientists conducted a Phase II study of acalabrutinib in patients with relapsedrefractory  who were ibrutinibintolerant and found an overall response rate of 73  '"
      ]
     },
     "execution_count": 10,
     "metadata": {},
     "output_type": "execute_result"
    }
   ],
   "source": [
    "df[\"cleaned_tweets\"] = [re.sub(r'\\n', '', tweet) for tweet in df[\"cleaned_tweets\"]]\n",
    "\n",
    "df[\"cleaned_tweets\"][0]"
   ]
  },
  {
   "cell_type": "code",
   "execution_count": 11,
   "id": "d918d171-ab64-4d0c-8143-d0ccbec218e9",
   "metadata": {
    "colab": {
     "base_uri": "https://localhost:8080/",
     "height": 52
    },
    "id": "d918d171-ab64-4d0c-8143-d0ccbec218e9",
    "outputId": "82f04ff1-8d23-46e8-900b-b0a7ca4ed31b"
   },
   "outputs": [
    {
     "data": {
      "text/plain": [
       "'This phase  AcalabrutinibVenetoclax AV trial that is still in recruitment phase will study how well venetoclax and acalabrutinib works in MCL patients who either relapsed or nonrespondent to the initial therapy'"
      ]
     },
     "execution_count": 11,
     "metadata": {},
     "output_type": "execute_result"
    }
   ],
   "source": [
    "df[\"cleaned_tweets\"] = [re.sub(r'\\d+', '', tweet) for tweet in df[\"cleaned_tweets\"]]\n",
    "\n",
    "df[\"cleaned_tweets\"][1]"
   ]
  },
  {
   "cell_type": "code",
   "execution_count": 12,
   "id": "be08b703-6404-4d74-8620-7f1c141a4145",
   "metadata": {
    "id": "be08b703-6404-4d74-8620-7f1c141a4145"
   },
   "outputs": [],
   "source": [
    "nlp = spacy.load(\"en_core_web_sm\")\n",
    "\n",
    "def text_preprocessing(text):\n",
    "    doc = nlp(text)\n",
    "    removing_stopword =  [token for token in doc if not token.is_stop]\n",
    "    lemmatization = [token.lemma_ for token in removing_stopword]\n",
    "    preprocessed_tweets = \" \".join(lemmatization)\n",
    "    return preprocessed_tweets"
   ]
  },
  {
   "cell_type": "code",
   "execution_count": 13,
   "id": "59bcd5f9-b15d-4f0a-bfd4-0523314c52b5",
   "metadata": {
    "id": "59bcd5f9-b15d-4f0a-bfd4-0523314c52b5"
   },
   "outputs": [],
   "source": [
    "df[\"cleaned_tweets\"] = df[\"cleaned_tweets\"].apply(text_preprocessing)"
   ]
  },
  {
   "cell_type": "code",
   "execution_count": 14,
   "id": "3c226ffb-49c7-40a1-9b70-ebf586307cfa",
   "metadata": {
    "id": "3c226ffb-49c7-40a1-9b70-ebf586307cfa"
   },
   "outputs": [],
   "source": [
    "def extracting_entities(text):\n",
    "    doc = nlp(text)\n",
    "    entities = []\n",
    "    for ent in doc.ents:\n",
    "        entities.append(ent.text)\n",
    "               \n",
    "    return entities"
   ]
  },
  {
   "cell_type": "code",
   "execution_count": 15,
   "id": "15d6b8a0-b4e8-4e9c-9d71-5e45a776bf30",
   "metadata": {
    "id": "15d6b8a0-b4e8-4e9c-9d71-5e45a776bf30"
   },
   "outputs": [],
   "source": [
    "df['entities'] = df['cleaned_tweets'].apply(extracting_entities)"
   ]
  },
  {
   "cell_type": "code",
   "execution_count": 16,
   "id": "87924e82-f4c0-43f8-aed7-d1ffced10486",
   "metadata": {
    "id": "87924e82-f4c0-43f8-aed7-d1ffced10486"
   },
   "outputs": [],
   "source": [
    "df['entities'] = df['entities'].apply(lambda x: ' '.join(x))"
   ]
  },
  {
   "cell_type": "code",
   "execution_count": 17,
   "id": "fb5b3a2e-8082-490b-98d1-f91fe577a068",
   "metadata": {
    "id": "fb5b3a2e-8082-490b-98d1-f91fe577a068"
   },
   "outputs": [],
   "source": [
    "df['combined_tweets'] = df['Author'] + \" \" + df['cleaned_tweets'] + \" \" + df['entities']"
   ]
  },
  {
   "cell_type": "code",
   "execution_count": 18,
   "id": "f3529170-a73f-4986-870a-126383e61059",
   "metadata": {
    "colab": {
     "base_uri": "https://localhost:8080/",
     "height": 406
    },
    "id": "f3529170-a73f-4986-870a-126383e61059",
    "outputId": "c748e512-fdca-45aa-8032-03c734ecf9a5"
   },
   "outputs": [
    {
     "data": {
      "text/html": [
       "<div>\n",
       "<style scoped>\n",
       "    .dataframe tbody tr th:only-of-type {\n",
       "        vertical-align: middle;\n",
       "    }\n",
       "\n",
       "    .dataframe tbody tr th {\n",
       "        vertical-align: top;\n",
       "    }\n",
       "\n",
       "    .dataframe thead th {\n",
       "        text-align: right;\n",
       "    }\n",
       "</style>\n",
       "<table border=\"1\" class=\"dataframe\">\n",
       "  <thead>\n",
       "    <tr style=\"text-align: right;\">\n",
       "      <th></th>\n",
       "      <th>Author</th>\n",
       "      <th>Tweet</th>\n",
       "      <th>cleaned_tweets</th>\n",
       "      <th>entities</th>\n",
       "      <th>combined_tweets</th>\n",
       "    </tr>\n",
       "  </thead>\n",
       "  <tbody>\n",
       "    <tr>\n",
       "      <th>0</th>\n",
       "      <td>Hematopoiesis News</td>\n",
       "      <td>⚕️ Scientists conducted a Phase II study of ac...</td>\n",
       "      <td>scientist conduct Phase II study acalabrutin...</td>\n",
       "      <td>Phase II</td>\n",
       "      <td>Hematopoiesis News   scientist conduct Phase I...</td>\n",
       "    </tr>\n",
       "    <tr>\n",
       "      <th>1</th>\n",
       "      <td>Michael Wang, MD</td>\n",
       "      <td>This phase 2 Acalabrutinib-Venetoclax (AV) tri...</td>\n",
       "      <td>phase   AcalabrutinibVenetoclax AV trial recru...</td>\n",
       "      <td>AcalabrutinibVenetoclax AV MCL</td>\n",
       "      <td>Michael Wang, MD phase   AcalabrutinibVenetocl...</td>\n",
       "    </tr>\n",
       "    <tr>\n",
       "      <th>2</th>\n",
       "      <td>1stOncology</td>\n",
       "      <td>#NICE backs #AstraZenecas #Calquence for #CLL ...</td>\n",
       "      <td>back</td>\n",
       "      <td></td>\n",
       "      <td>1stOncology   back</td>\n",
       "    </tr>\n",
       "    <tr>\n",
       "      <th>3</th>\n",
       "      <td>Toby Eyre</td>\n",
       "      <td>#acalabrutinib is a valuable option in pts int...</td>\n",
       "      <td>valuable option pt intolerant   valuable dat...</td>\n",
       "      <td></td>\n",
       "      <td>Toby Eyre   valuable option pt intolerant   va...</td>\n",
       "    </tr>\n",
       "    <tr>\n",
       "      <th>4</th>\n",
       "      <td>Lymphoma Hub</td>\n",
       "      <td>NICE has recommended the use of acalabrutinib ...</td>\n",
       "      <td>NICE recommend use acalabrutinib patient treat...</td>\n",
       "      <td></td>\n",
       "      <td>Lymphoma Hub NICE recommend use acalabrutinib ...</td>\n",
       "    </tr>\n",
       "  </tbody>\n",
       "</table>\n",
       "</div>"
      ],
      "text/plain": [
       "               Author                                              Tweet  \\\n",
       "0  Hematopoiesis News  ⚕️ Scientists conducted a Phase II study of ac...   \n",
       "1    Michael Wang, MD  This phase 2 Acalabrutinib-Venetoclax (AV) tri...   \n",
       "2         1stOncology  #NICE backs #AstraZenecas #Calquence for #CLL ...   \n",
       "3           Toby Eyre  #acalabrutinib is a valuable option in pts int...   \n",
       "4        Lymphoma Hub  NICE has recommended the use of acalabrutinib ...   \n",
       "\n",
       "                                      cleaned_tweets  \\\n",
       "0    scientist conduct Phase II study acalabrutin...   \n",
       "1  phase   AcalabrutinibVenetoclax AV trial recru...   \n",
       "2                                          back        \n",
       "3    valuable option pt intolerant   valuable dat...   \n",
       "4  NICE recommend use acalabrutinib patient treat...   \n",
       "\n",
       "                         entities  \\\n",
       "0                        Phase II   \n",
       "1  AcalabrutinibVenetoclax AV MCL   \n",
       "2                                   \n",
       "3                                   \n",
       "4                                   \n",
       "\n",
       "                                     combined_tweets  \n",
       "0  Hematopoiesis News   scientist conduct Phase I...  \n",
       "1  Michael Wang, MD phase   AcalabrutinibVenetocl...  \n",
       "2                           1stOncology   back        \n",
       "3  Toby Eyre   valuable option pt intolerant   va...  \n",
       "4  Lymphoma Hub NICE recommend use acalabrutinib ...  "
      ]
     },
     "execution_count": 18,
     "metadata": {},
     "output_type": "execute_result"
    }
   ],
   "source": [
    "df.head()"
   ]
  },
  {
   "cell_type": "code",
   "execution_count": 19,
   "id": "7cea9f77-d337-4aaf-8713-31bd4f772bcf",
   "metadata": {
    "colab": {
     "base_uri": "https://localhost:8080/",
     "height": 252,
     "referenced_widgets": [
      "564dc7cd78834549b5246d02bb76d1c4",
      "bbca28731e6a4722acf838b1c568277e",
      "d1af40e093a24d8384a57455811d5c41",
      "a991390f2f2947d28cede8b0dfb431d7",
      "7a8583afc3124e709ee4610542e38a96",
      "07226734a9164e4fbdde51aa0b13a58f",
      "7d5305465c8c42289d1180a7eefc4bc5",
      "edb65604e80b480fa2be16e6b231288e",
      "f7608b179ac148b3a750984e563a2ab1",
      "a9bf654ae73647c5823ba819fb6660f6",
      "7aae5c522d1e4da28392deac34237b30",
      "6b9d424320f147cd84ce055a0cad8aa4",
      "71adfa629b4f4ef0ae330314b1fa731b",
      "26ad2f3b7690474fa1b0bd64848cfe6e",
      "73164299b94949dfa9a7216b197e7d17",
      "780f806c6aa6485d9a172e5c63fd937e",
      "7260e3efaedc4a5387b888b48ad6f8da",
      "5362fb2dc7f5433aa71f9fef07bfc5d3",
      "8a4cd2f4ae9e4a65b5b5fde0eb47d014",
      "e72210913a6345218aca2db264c3a962",
      "e75c2bf00c0543b99573770fbb80c4a1",
      "11508b2e3d2843a5b91f7e335305f75c",
      "ac42eaa419224ab88cc8cb0ef2f259aa",
      "6ce7a895a4994f28a8e19cc9f07910dc",
      "11aa630d632541a4b1acb230e65e1ffe",
      "0bbba0bf0df34e84a34491a25cc1d2cf",
      "0bb01057915544638cdfd63459915774",
      "24a69c82809a4f03a4df357d88b5cf23",
      "afe630785f344fdbb5837c5b39a02a72",
      "1d522da8fa6e48d59ba24aed9bf24908",
      "56a0b869177c42008ff3d28c8c46e580",
      "0786e2de94994124858734004a8764f7",
      "5afd4a6f2cfa4c41b5a4b0439cf902e8",
      "47bb39f98be7470f829fe1cf81336453",
      "c1f6c61947a6436cbf34c55fa56ca8d8",
      "4bfeabb11a3e46be8d0e6ed620f29a52",
      "de39dffa69c444f386a8b3a731cbe9ee",
      "67c07636e15f44d0a64365f890838d6c",
      "06f3adb0e8ff490481e4312ed4dd233e",
      "83ff0fc46ac04050a79ca1a1bc87bb5f",
      "84f9d1eebb4645718e9eacd97bb0af95",
      "c55761c1e084438cbd1e274aacd76dcf",
      "67c0dd91127049d78ddc8d1440dbfb85",
      "705ed9ed5db1466d865ad6b061449c35"
     ]
    },
    "id": "7cea9f77-d337-4aaf-8713-31bd4f772bcf",
    "outputId": "46d5f6c6-603b-492b-fb9b-a02b0575432e"
   },
   "outputs": [
    {
     "name": "stderr",
     "output_type": "stream",
     "text": [
      "Some layers from the model checkpoint at albert-base-v1 were not used when initializing TFAlbertModel: ['predictions']\n",
      "- This IS expected if you are initializing TFAlbertModel from the checkpoint of a model trained on another task or with another architecture (e.g. initializing a BertForSequenceClassification model from a BertForPreTraining model).\n",
      "- This IS NOT expected if you are initializing TFAlbertModel from the checkpoint of a model that you expect to be exactly identical (initializing a BertForSequenceClassification model from a BertForSequenceClassification model).\n",
      "All the layers of TFAlbertModel were initialized from the model checkpoint at albert-base-v1.\n",
      "If your task is similar to the task the model of the checkpoint was trained on, you can already use TFAlbertModel for predictions without further training.\n"
     ]
    }
   ],
   "source": [
    "from transformers import AutoTokenizer, TFAutoModel\n",
    "\n",
    "tokenizer = AutoTokenizer.from_pretrained(\"albert-base-v1\")\n",
    "model = TFAutoModel.from_pretrained(\"albert-base-v1\")"
   ]
  },
  {
   "cell_type": "code",
   "execution_count": 20,
   "id": "56377b88-a3db-4e45-b253-9f7b8314b4d0",
   "metadata": {
    "id": "56377b88-a3db-4e45-b253-9f7b8314b4d0"
   },
   "outputs": [],
   "source": [
    "def predict_sentiment(text):\n",
    "    input_ids = tokenizer.encode(text, return_tensors='tf')\n",
    "    logits = model(input_ids).last_hidden_state\n",
    "    logits = tf.reduce_mean(logits, axis=-1)\n",
    "    sentiment = tf.where(tf.math.sigmoid(logits) >= 0.5, 1, 0)\n",
    "    return sentiment.numpy().astype(int)"
   ]
  },
  {
   "cell_type": "code",
   "execution_count": 21,
   "id": "df41574a-cb97-49c5-a527-c050862f1157",
   "metadata": {
    "id": "df41574a-cb97-49c5-a527-c050862f1157"
   },
   "outputs": [],
   "source": [
    "df['tokens_sentiment'] = df['combined_tweets'].apply(predict_sentiment)"
   ]
  },
  {
   "cell_type": "code",
   "execution_count": 22,
   "id": "736a63d5-4fce-4e1a-b2f1-9a34966aaf27",
   "metadata": {
    "colab": {
     "base_uri": "https://localhost:8080/"
    },
    "id": "736a63d5-4fce-4e1a-b2f1-9a34966aaf27",
    "outputId": "61655905-650d-48c3-8135-e7a4c2671704"
   },
   "outputs": [
    {
     "data": {
      "text/plain": [
       "array([[0, 0, 0, 0, 0, 0, 0, 0, 0, 0, 0, 0, 0, 0, 0, 0, 0, 0, 0, 0, 0, 0,\n",
       "        0, 0, 0, 0, 0, 0, 0, 0, 0, 0, 0, 0, 0, 0, 1]])"
      ]
     },
     "execution_count": 22,
     "metadata": {},
     "output_type": "execute_result"
    }
   ],
   "source": [
    "df['tokens_sentiment'][0]"
   ]
  },
  {
   "cell_type": "code",
   "execution_count": 23,
   "id": "1e950908-ac7d-4e05-8fb3-99e6a7a277c1",
   "metadata": {
    "colab": {
     "base_uri": "https://localhost:8080/",
     "height": 476
    },
    "id": "1e950908-ac7d-4e05-8fb3-99e6a7a277c1",
    "outputId": "7d339913-0ab2-43f9-c1e8-c61706f52a10"
   },
   "outputs": [
    {
     "data": {
      "text/html": [
       "<div>\n",
       "<style scoped>\n",
       "    .dataframe tbody tr th:only-of-type {\n",
       "        vertical-align: middle;\n",
       "    }\n",
       "\n",
       "    .dataframe tbody tr th {\n",
       "        vertical-align: top;\n",
       "    }\n",
       "\n",
       "    .dataframe thead th {\n",
       "        text-align: right;\n",
       "    }\n",
       "</style>\n",
       "<table border=\"1\" class=\"dataframe\">\n",
       "  <thead>\n",
       "    <tr style=\"text-align: right;\">\n",
       "      <th></th>\n",
       "      <th>Author</th>\n",
       "      <th>Tweet</th>\n",
       "      <th>cleaned_tweets</th>\n",
       "      <th>entities</th>\n",
       "      <th>combined_tweets</th>\n",
       "      <th>tokens_sentiment</th>\n",
       "    </tr>\n",
       "  </thead>\n",
       "  <tbody>\n",
       "    <tr>\n",
       "      <th>0</th>\n",
       "      <td>Hematopoiesis News</td>\n",
       "      <td>⚕️ Scientists conducted a Phase II study of ac...</td>\n",
       "      <td>scientist conduct Phase II study acalabrutin...</td>\n",
       "      <td>Phase II</td>\n",
       "      <td>Hematopoiesis News   scientist conduct Phase I...</td>\n",
       "      <td>[[0, 0, 0, 0, 0, 0, 0, 0, 0, 0, 0, 0, 0, 0, 0,...</td>\n",
       "    </tr>\n",
       "    <tr>\n",
       "      <th>1</th>\n",
       "      <td>Michael Wang, MD</td>\n",
       "      <td>This phase 2 Acalabrutinib-Venetoclax (AV) tri...</td>\n",
       "      <td>phase   AcalabrutinibVenetoclax AV trial recru...</td>\n",
       "      <td>AcalabrutinibVenetoclax AV MCL</td>\n",
       "      <td>Michael Wang, MD phase   AcalabrutinibVenetocl...</td>\n",
       "      <td>[[0, 0, 0, 0, 0, 0, 0, 0, 0, 0, 0, 0, 0, 0, 0,...</td>\n",
       "    </tr>\n",
       "    <tr>\n",
       "      <th>2</th>\n",
       "      <td>1stOncology</td>\n",
       "      <td>#NICE backs #AstraZenecas #Calquence for #CLL ...</td>\n",
       "      <td>back</td>\n",
       "      <td></td>\n",
       "      <td>1stOncology   back</td>\n",
       "      <td>[[0, 0, 0, 0, 0, 0, 1]]</td>\n",
       "    </tr>\n",
       "    <tr>\n",
       "      <th>3</th>\n",
       "      <td>Toby Eyre</td>\n",
       "      <td>#acalabrutinib is a valuable option in pts int...</td>\n",
       "      <td>valuable option pt intolerant   valuable dat...</td>\n",
       "      <td></td>\n",
       "      <td>Toby Eyre   valuable option pt intolerant   va...</td>\n",
       "      <td>[[0, 0, 0, 0, 0, 0, 0, 0, 0, 0, 0, 0, 0, 0, 0,...</td>\n",
       "    </tr>\n",
       "    <tr>\n",
       "      <th>4</th>\n",
       "      <td>Lymphoma Hub</td>\n",
       "      <td>NICE has recommended the use of acalabrutinib ...</td>\n",
       "      <td>NICE recommend use acalabrutinib patient treat...</td>\n",
       "      <td></td>\n",
       "      <td>Lymphoma Hub NICE recommend use acalabrutinib ...</td>\n",
       "      <td>[[0, 0, 0, 0, 0, 0, 0, 0, 0, 0, 0, 0, 0, 0, 0,...</td>\n",
       "    </tr>\n",
       "  </tbody>\n",
       "</table>\n",
       "</div>"
      ],
      "text/plain": [
       "               Author                                              Tweet  \\\n",
       "0  Hematopoiesis News  ⚕️ Scientists conducted a Phase II study of ac...   \n",
       "1    Michael Wang, MD  This phase 2 Acalabrutinib-Venetoclax (AV) tri...   \n",
       "2         1stOncology  #NICE backs #AstraZenecas #Calquence for #CLL ...   \n",
       "3           Toby Eyre  #acalabrutinib is a valuable option in pts int...   \n",
       "4        Lymphoma Hub  NICE has recommended the use of acalabrutinib ...   \n",
       "\n",
       "                                      cleaned_tweets  \\\n",
       "0    scientist conduct Phase II study acalabrutin...   \n",
       "1  phase   AcalabrutinibVenetoclax AV trial recru...   \n",
       "2                                          back        \n",
       "3    valuable option pt intolerant   valuable dat...   \n",
       "4  NICE recommend use acalabrutinib patient treat...   \n",
       "\n",
       "                         entities  \\\n",
       "0                        Phase II   \n",
       "1  AcalabrutinibVenetoclax AV MCL   \n",
       "2                                   \n",
       "3                                   \n",
       "4                                   \n",
       "\n",
       "                                     combined_tweets  \\\n",
       "0  Hematopoiesis News   scientist conduct Phase I...   \n",
       "1  Michael Wang, MD phase   AcalabrutinibVenetocl...   \n",
       "2                           1stOncology   back         \n",
       "3  Toby Eyre   valuable option pt intolerant   va...   \n",
       "4  Lymphoma Hub NICE recommend use acalabrutinib ...   \n",
       "\n",
       "                                    tokens_sentiment  \n",
       "0  [[0, 0, 0, 0, 0, 0, 0, 0, 0, 0, 0, 0, 0, 0, 0,...  \n",
       "1  [[0, 0, 0, 0, 0, 0, 0, 0, 0, 0, 0, 0, 0, 0, 0,...  \n",
       "2                            [[0, 0, 0, 0, 0, 0, 1]]  \n",
       "3  [[0, 0, 0, 0, 0, 0, 0, 0, 0, 0, 0, 0, 0, 0, 0,...  \n",
       "4  [[0, 0, 0, 0, 0, 0, 0, 0, 0, 0, 0, 0, 0, 0, 0,...  "
      ]
     },
     "execution_count": 23,
     "metadata": {},
     "output_type": "execute_result"
    }
   ],
   "source": [
    "df.head()"
   ]
  },
  {
   "cell_type": "code",
   "execution_count": 24,
   "id": "d7dda4cb-d4c6-484d-8172-e626f718b8d2",
   "metadata": {
    "id": "d7dda4cb-d4c6-484d-8172-e626f718b8d2"
   },
   "outputs": [],
   "source": [
    "import numpy as np\n",
    "\n",
    "def convert_to_single_value(arr):\n",
    "    return np.where(np.mean(arr) >= 0.5, 1, 0).item()"
   ]
  },
  {
   "cell_type": "code",
   "execution_count": 25,
   "id": "98b95d12-3d6a-412e-b477-2d11095dda8a",
   "metadata": {
    "id": "98b95d12-3d6a-412e-b477-2d11095dda8a"
   },
   "outputs": [],
   "source": [
    "df['sentiment'] = df['tokens_sentiment'].apply(convert_to_single_value)"
   ]
  },
  {
   "cell_type": "code",
   "execution_count": 26,
   "id": "T7bqFYVDnU4_",
   "metadata": {
    "colab": {
     "base_uri": "https://localhost:8080/",
     "height": 548
    },
    "id": "T7bqFYVDnU4_",
    "outputId": "57f37b43-496a-4af8-8e64-196704d85c5c"
   },
   "outputs": [
    {
     "data": {
      "text/html": [
       "<div>\n",
       "<style scoped>\n",
       "    .dataframe tbody tr th:only-of-type {\n",
       "        vertical-align: middle;\n",
       "    }\n",
       "\n",
       "    .dataframe tbody tr th {\n",
       "        vertical-align: top;\n",
       "    }\n",
       "\n",
       "    .dataframe thead th {\n",
       "        text-align: right;\n",
       "    }\n",
       "</style>\n",
       "<table border=\"1\" class=\"dataframe\">\n",
       "  <thead>\n",
       "    <tr style=\"text-align: right;\">\n",
       "      <th></th>\n",
       "      <th>Author</th>\n",
       "      <th>Tweet</th>\n",
       "      <th>cleaned_tweets</th>\n",
       "      <th>entities</th>\n",
       "      <th>combined_tweets</th>\n",
       "      <th>tokens_sentiment</th>\n",
       "      <th>sentiment</th>\n",
       "    </tr>\n",
       "  </thead>\n",
       "  <tbody>\n",
       "    <tr>\n",
       "      <th>0</th>\n",
       "      <td>Hematopoiesis News</td>\n",
       "      <td>⚕️ Scientists conducted a Phase II study of ac...</td>\n",
       "      <td>scientist conduct Phase II study acalabrutin...</td>\n",
       "      <td>Phase II</td>\n",
       "      <td>Hematopoiesis News   scientist conduct Phase I...</td>\n",
       "      <td>[[0, 0, 0, 0, 0, 0, 0, 0, 0, 0, 0, 0, 0, 0, 0,...</td>\n",
       "      <td>0</td>\n",
       "    </tr>\n",
       "    <tr>\n",
       "      <th>1</th>\n",
       "      <td>Michael Wang, MD</td>\n",
       "      <td>This phase 2 Acalabrutinib-Venetoclax (AV) tri...</td>\n",
       "      <td>phase   AcalabrutinibVenetoclax AV trial recru...</td>\n",
       "      <td>AcalabrutinibVenetoclax AV MCL</td>\n",
       "      <td>Michael Wang, MD phase   AcalabrutinibVenetocl...</td>\n",
       "      <td>[[0, 0, 0, 0, 0, 0, 0, 0, 0, 0, 0, 0, 0, 0, 0,...</td>\n",
       "      <td>0</td>\n",
       "    </tr>\n",
       "    <tr>\n",
       "      <th>2</th>\n",
       "      <td>1stOncology</td>\n",
       "      <td>#NICE backs #AstraZenecas #Calquence for #CLL ...</td>\n",
       "      <td>back</td>\n",
       "      <td></td>\n",
       "      <td>1stOncology   back</td>\n",
       "      <td>[[0, 0, 0, 0, 0, 0, 1]]</td>\n",
       "      <td>0</td>\n",
       "    </tr>\n",
       "    <tr>\n",
       "      <th>3</th>\n",
       "      <td>Toby Eyre</td>\n",
       "      <td>#acalabrutinib is a valuable option in pts int...</td>\n",
       "      <td>valuable option pt intolerant   valuable dat...</td>\n",
       "      <td></td>\n",
       "      <td>Toby Eyre   valuable option pt intolerant   va...</td>\n",
       "      <td>[[0, 0, 0, 0, 0, 0, 0, 0, 0, 0, 0, 0, 0, 0, 0,...</td>\n",
       "      <td>0</td>\n",
       "    </tr>\n",
       "    <tr>\n",
       "      <th>4</th>\n",
       "      <td>Lymphoma Hub</td>\n",
       "      <td>NICE has recommended the use of acalabrutinib ...</td>\n",
       "      <td>NICE recommend use acalabrutinib patient treat...</td>\n",
       "      <td></td>\n",
       "      <td>Lymphoma Hub NICE recommend use acalabrutinib ...</td>\n",
       "      <td>[[0, 0, 0, 0, 0, 0, 0, 0, 0, 0, 0, 0, 0, 0, 0,...</td>\n",
       "      <td>0</td>\n",
       "    </tr>\n",
       "  </tbody>\n",
       "</table>\n",
       "</div>"
      ],
      "text/plain": [
       "               Author                                              Tweet  \\\n",
       "0  Hematopoiesis News  ⚕️ Scientists conducted a Phase II study of ac...   \n",
       "1    Michael Wang, MD  This phase 2 Acalabrutinib-Venetoclax (AV) tri...   \n",
       "2         1stOncology  #NICE backs #AstraZenecas #Calquence for #CLL ...   \n",
       "3           Toby Eyre  #acalabrutinib is a valuable option in pts int...   \n",
       "4        Lymphoma Hub  NICE has recommended the use of acalabrutinib ...   \n",
       "\n",
       "                                      cleaned_tweets  \\\n",
       "0    scientist conduct Phase II study acalabrutin...   \n",
       "1  phase   AcalabrutinibVenetoclax AV trial recru...   \n",
       "2                                          back        \n",
       "3    valuable option pt intolerant   valuable dat...   \n",
       "4  NICE recommend use acalabrutinib patient treat...   \n",
       "\n",
       "                         entities  \\\n",
       "0                        Phase II   \n",
       "1  AcalabrutinibVenetoclax AV MCL   \n",
       "2                                   \n",
       "3                                   \n",
       "4                                   \n",
       "\n",
       "                                     combined_tweets  \\\n",
       "0  Hematopoiesis News   scientist conduct Phase I...   \n",
       "1  Michael Wang, MD phase   AcalabrutinibVenetocl...   \n",
       "2                           1stOncology   back         \n",
       "3  Toby Eyre   valuable option pt intolerant   va...   \n",
       "4  Lymphoma Hub NICE recommend use acalabrutinib ...   \n",
       "\n",
       "                                    tokens_sentiment  sentiment  \n",
       "0  [[0, 0, 0, 0, 0, 0, 0, 0, 0, 0, 0, 0, 0, 0, 0,...          0  \n",
       "1  [[0, 0, 0, 0, 0, 0, 0, 0, 0, 0, 0, 0, 0, 0, 0,...          0  \n",
       "2                            [[0, 0, 0, 0, 0, 0, 1]]          0  \n",
       "3  [[0, 0, 0, 0, 0, 0, 0, 0, 0, 0, 0, 0, 0, 0, 0,...          0  \n",
       "4  [[0, 0, 0, 0, 0, 0, 0, 0, 0, 0, 0, 0, 0, 0, 0,...          0  "
      ]
     },
     "execution_count": 26,
     "metadata": {},
     "output_type": "execute_result"
    }
   ],
   "source": [
    "df.head()"
   ]
  },
  {
   "cell_type": "code",
   "execution_count": 27,
   "id": "5hBCtyFXnWi_",
   "metadata": {
    "id": "5hBCtyFXnWi_"
   },
   "outputs": [],
   "source": [
    "df['overall_polarity'] = df['sentiment'].map({0: 'negative', 1: 'positive'})"
   ]
  },
  {
   "cell_type": "code",
   "execution_count": 28,
   "id": "ZNpU0VxiomxO",
   "metadata": {
    "colab": {
     "base_uri": "https://localhost:8080/",
     "height": 548
    },
    "id": "ZNpU0VxiomxO",
    "outputId": "91b078af-167e-4965-e5f9-fde6cc40fafe"
   },
   "outputs": [
    {
     "data": {
      "text/html": [
       "<div>\n",
       "<style scoped>\n",
       "    .dataframe tbody tr th:only-of-type {\n",
       "        vertical-align: middle;\n",
       "    }\n",
       "\n",
       "    .dataframe tbody tr th {\n",
       "        vertical-align: top;\n",
       "    }\n",
       "\n",
       "    .dataframe thead th {\n",
       "        text-align: right;\n",
       "    }\n",
       "</style>\n",
       "<table border=\"1\" class=\"dataframe\">\n",
       "  <thead>\n",
       "    <tr style=\"text-align: right;\">\n",
       "      <th></th>\n",
       "      <th>Author</th>\n",
       "      <th>Tweet</th>\n",
       "      <th>cleaned_tweets</th>\n",
       "      <th>entities</th>\n",
       "      <th>combined_tweets</th>\n",
       "      <th>tokens_sentiment</th>\n",
       "      <th>sentiment</th>\n",
       "      <th>overall_polarity</th>\n",
       "    </tr>\n",
       "  </thead>\n",
       "  <tbody>\n",
       "    <tr>\n",
       "      <th>0</th>\n",
       "      <td>Hematopoiesis News</td>\n",
       "      <td>⚕️ Scientists conducted a Phase II study of ac...</td>\n",
       "      <td>scientist conduct Phase II study acalabrutin...</td>\n",
       "      <td>Phase II</td>\n",
       "      <td>Hematopoiesis News   scientist conduct Phase I...</td>\n",
       "      <td>[[0, 0, 0, 0, 0, 0, 0, 0, 0, 0, 0, 0, 0, 0, 0,...</td>\n",
       "      <td>0</td>\n",
       "      <td>negative</td>\n",
       "    </tr>\n",
       "    <tr>\n",
       "      <th>1</th>\n",
       "      <td>Michael Wang, MD</td>\n",
       "      <td>This phase 2 Acalabrutinib-Venetoclax (AV) tri...</td>\n",
       "      <td>phase   AcalabrutinibVenetoclax AV trial recru...</td>\n",
       "      <td>AcalabrutinibVenetoclax AV MCL</td>\n",
       "      <td>Michael Wang, MD phase   AcalabrutinibVenetocl...</td>\n",
       "      <td>[[0, 0, 0, 0, 0, 0, 0, 0, 0, 0, 0, 0, 0, 0, 0,...</td>\n",
       "      <td>0</td>\n",
       "      <td>negative</td>\n",
       "    </tr>\n",
       "    <tr>\n",
       "      <th>2</th>\n",
       "      <td>1stOncology</td>\n",
       "      <td>#NICE backs #AstraZenecas #Calquence for #CLL ...</td>\n",
       "      <td>back</td>\n",
       "      <td></td>\n",
       "      <td>1stOncology   back</td>\n",
       "      <td>[[0, 0, 0, 0, 0, 0, 1]]</td>\n",
       "      <td>0</td>\n",
       "      <td>negative</td>\n",
       "    </tr>\n",
       "    <tr>\n",
       "      <th>3</th>\n",
       "      <td>Toby Eyre</td>\n",
       "      <td>#acalabrutinib is a valuable option in pts int...</td>\n",
       "      <td>valuable option pt intolerant   valuable dat...</td>\n",
       "      <td></td>\n",
       "      <td>Toby Eyre   valuable option pt intolerant   va...</td>\n",
       "      <td>[[0, 0, 0, 0, 0, 0, 0, 0, 0, 0, 0, 0, 0, 0, 0,...</td>\n",
       "      <td>0</td>\n",
       "      <td>negative</td>\n",
       "    </tr>\n",
       "    <tr>\n",
       "      <th>4</th>\n",
       "      <td>Lymphoma Hub</td>\n",
       "      <td>NICE has recommended the use of acalabrutinib ...</td>\n",
       "      <td>NICE recommend use acalabrutinib patient treat...</td>\n",
       "      <td></td>\n",
       "      <td>Lymphoma Hub NICE recommend use acalabrutinib ...</td>\n",
       "      <td>[[0, 0, 0, 0, 0, 0, 0, 0, 0, 0, 0, 0, 0, 0, 0,...</td>\n",
       "      <td>0</td>\n",
       "      <td>negative</td>\n",
       "    </tr>\n",
       "  </tbody>\n",
       "</table>\n",
       "</div>"
      ],
      "text/plain": [
       "               Author                                              Tweet  \\\n",
       "0  Hematopoiesis News  ⚕️ Scientists conducted a Phase II study of ac...   \n",
       "1    Michael Wang, MD  This phase 2 Acalabrutinib-Venetoclax (AV) tri...   \n",
       "2         1stOncology  #NICE backs #AstraZenecas #Calquence for #CLL ...   \n",
       "3           Toby Eyre  #acalabrutinib is a valuable option in pts int...   \n",
       "4        Lymphoma Hub  NICE has recommended the use of acalabrutinib ...   \n",
       "\n",
       "                                      cleaned_tweets  \\\n",
       "0    scientist conduct Phase II study acalabrutin...   \n",
       "1  phase   AcalabrutinibVenetoclax AV trial recru...   \n",
       "2                                          back        \n",
       "3    valuable option pt intolerant   valuable dat...   \n",
       "4  NICE recommend use acalabrutinib patient treat...   \n",
       "\n",
       "                         entities  \\\n",
       "0                        Phase II   \n",
       "1  AcalabrutinibVenetoclax AV MCL   \n",
       "2                                   \n",
       "3                                   \n",
       "4                                   \n",
       "\n",
       "                                     combined_tweets  \\\n",
       "0  Hematopoiesis News   scientist conduct Phase I...   \n",
       "1  Michael Wang, MD phase   AcalabrutinibVenetocl...   \n",
       "2                           1stOncology   back         \n",
       "3  Toby Eyre   valuable option pt intolerant   va...   \n",
       "4  Lymphoma Hub NICE recommend use acalabrutinib ...   \n",
       "\n",
       "                                    tokens_sentiment  sentiment  \\\n",
       "0  [[0, 0, 0, 0, 0, 0, 0, 0, 0, 0, 0, 0, 0, 0, 0,...          0   \n",
       "1  [[0, 0, 0, 0, 0, 0, 0, 0, 0, 0, 0, 0, 0, 0, 0,...          0   \n",
       "2                            [[0, 0, 0, 0, 0, 0, 1]]          0   \n",
       "3  [[0, 0, 0, 0, 0, 0, 0, 0, 0, 0, 0, 0, 0, 0, 0,...          0   \n",
       "4  [[0, 0, 0, 0, 0, 0, 0, 0, 0, 0, 0, 0, 0, 0, 0,...          0   \n",
       "\n",
       "  overall_polarity  \n",
       "0         negative  \n",
       "1         negative  \n",
       "2         negative  \n",
       "3         negative  \n",
       "4         negative  "
      ]
     },
     "execution_count": 28,
     "metadata": {},
     "output_type": "execute_result"
    }
   ],
   "source": [
    "df.head()"
   ]
  },
  {
   "cell_type": "code",
   "execution_count": 29,
   "id": "5MrrWIg4ouAY",
   "metadata": {
    "id": "5MrrWIg4ouAY"
   },
   "outputs": [],
   "source": [
    "df_final = df[['entities', 'Author', 'overall_polarity']].copy()"
   ]
  },
  {
   "cell_type": "code",
   "execution_count": 30,
   "id": "BYj0z8eApele",
   "metadata": {
    "colab": {
     "base_uri": "https://localhost:8080/",
     "height": 206
    },
    "id": "BYj0z8eApele",
    "outputId": "50cd1b1a-0437-4bd6-921d-24d9e49bb110"
   },
   "outputs": [
    {
     "data": {
      "text/html": [
       "<div>\n",
       "<style scoped>\n",
       "    .dataframe tbody tr th:only-of-type {\n",
       "        vertical-align: middle;\n",
       "    }\n",
       "\n",
       "    .dataframe tbody tr th {\n",
       "        vertical-align: top;\n",
       "    }\n",
       "\n",
       "    .dataframe thead th {\n",
       "        text-align: right;\n",
       "    }\n",
       "</style>\n",
       "<table border=\"1\" class=\"dataframe\">\n",
       "  <thead>\n",
       "    <tr style=\"text-align: right;\">\n",
       "      <th></th>\n",
       "      <th>entities</th>\n",
       "      <th>Author</th>\n",
       "      <th>overall_polarity</th>\n",
       "    </tr>\n",
       "  </thead>\n",
       "  <tbody>\n",
       "    <tr>\n",
       "      <th>0</th>\n",
       "      <td>Phase II</td>\n",
       "      <td>Hematopoiesis News</td>\n",
       "      <td>negative</td>\n",
       "    </tr>\n",
       "    <tr>\n",
       "      <th>1</th>\n",
       "      <td>AcalabrutinibVenetoclax AV MCL</td>\n",
       "      <td>Michael Wang, MD</td>\n",
       "      <td>negative</td>\n",
       "    </tr>\n",
       "    <tr>\n",
       "      <th>2</th>\n",
       "      <td></td>\n",
       "      <td>1stOncology</td>\n",
       "      <td>negative</td>\n",
       "    </tr>\n",
       "    <tr>\n",
       "      <th>3</th>\n",
       "      <td></td>\n",
       "      <td>Toby Eyre</td>\n",
       "      <td>negative</td>\n",
       "    </tr>\n",
       "    <tr>\n",
       "      <th>4</th>\n",
       "      <td></td>\n",
       "      <td>Lymphoma Hub</td>\n",
       "      <td>negative</td>\n",
       "    </tr>\n",
       "  </tbody>\n",
       "</table>\n",
       "</div>"
      ],
      "text/plain": [
       "                         entities              Author overall_polarity\n",
       "0                        Phase II  Hematopoiesis News         negative\n",
       "1  AcalabrutinibVenetoclax AV MCL    Michael Wang, MD         negative\n",
       "2                                         1stOncology         negative\n",
       "3                                           Toby Eyre         negative\n",
       "4                                        Lymphoma Hub         negative"
      ]
     },
     "execution_count": 30,
     "metadata": {},
     "output_type": "execute_result"
    }
   ],
   "source": [
    "df_final.head()"
   ]
  },
  {
   "cell_type": "code",
   "execution_count": 31,
   "id": "MiAOBztQp3_X",
   "metadata": {
    "id": "MiAOBztQp3_X"
   },
   "outputs": [],
   "source": [
    "df_final.to_csv('objective2.csv', index=False)"
   ]
  },
  {
   "cell_type": "code",
   "execution_count": null,
   "id": "drWeOwOCp9Q2",
   "metadata": {
    "id": "drWeOwOCp9Q2"
   },
   "outputs": [],
   "source": []
  }
 ],
 "metadata": {
  "accelerator": "GPU",
  "colab": {
   "provenance": []
  },
  "gpuClass": "standard",
  "kernelspec": {
   "display_name": "Python 3 (ipykernel)",
   "language": "python",
   "name": "python3"
  },
  "language_info": {
   "codemirror_mode": {
    "name": "ipython",
    "version": 3
   },
   "file_extension": ".py",
   "mimetype": "text/x-python",
   "name": "python",
   "nbconvert_exporter": "python",
   "pygments_lexer": "ipython3",
   "version": "3.9.16"
  },
  "widgets": {
   "application/vnd.jupyter.widget-state+json": {
    "06f3adb0e8ff490481e4312ed4dd233e": {
     "model_module": "@jupyter-widgets/base",
     "model_module_version": "1.2.0",
     "model_name": "LayoutModel",
     "state": {
      "_model_module": "@jupyter-widgets/base",
      "_model_module_version": "1.2.0",
      "_model_name": "LayoutModel",
      "_view_count": null,
      "_view_module": "@jupyter-widgets/base",
      "_view_module_version": "1.2.0",
      "_view_name": "LayoutView",
      "align_content": null,
      "align_items": null,
      "align_self": null,
      "border": null,
      "bottom": null,
      "display": null,
      "flex": null,
      "flex_flow": null,
      "grid_area": null,
      "grid_auto_columns": null,
      "grid_auto_flow": null,
      "grid_auto_rows": null,
      "grid_column": null,
      "grid_gap": null,
      "grid_row": null,
      "grid_template_areas": null,
      "grid_template_columns": null,
      "grid_template_rows": null,
      "height": null,
      "justify_content": null,
      "justify_items": null,
      "left": null,
      "margin": null,
      "max_height": null,
      "max_width": null,
      "min_height": null,
      "min_width": null,
      "object_fit": null,
      "object_position": null,
      "order": null,
      "overflow": null,
      "overflow_x": null,
      "overflow_y": null,
      "padding": null,
      "right": null,
      "top": null,
      "visibility": null,
      "width": null
     }
    },
    "07226734a9164e4fbdde51aa0b13a58f": {
     "model_module": "@jupyter-widgets/base",
     "model_module_version": "1.2.0",
     "model_name": "LayoutModel",
     "state": {
      "_model_module": "@jupyter-widgets/base",
      "_model_module_version": "1.2.0",
      "_model_name": "LayoutModel",
      "_view_count": null,
      "_view_module": "@jupyter-widgets/base",
      "_view_module_version": "1.2.0",
      "_view_name": "LayoutView",
      "align_content": null,
      "align_items": null,
      "align_self": null,
      "border": null,
      "bottom": null,
      "display": null,
      "flex": null,
      "flex_flow": null,
      "grid_area": null,
      "grid_auto_columns": null,
      "grid_auto_flow": null,
      "grid_auto_rows": null,
      "grid_column": null,
      "grid_gap": null,
      "grid_row": null,
      "grid_template_areas": null,
      "grid_template_columns": null,
      "grid_template_rows": null,
      "height": null,
      "justify_content": null,
      "justify_items": null,
      "left": null,
      "margin": null,
      "max_height": null,
      "max_width": null,
      "min_height": null,
      "min_width": null,
      "object_fit": null,
      "object_position": null,
      "order": null,
      "overflow": null,
      "overflow_x": null,
      "overflow_y": null,
      "padding": null,
      "right": null,
      "top": null,
      "visibility": null,
      "width": null
     }
    },
    "0786e2de94994124858734004a8764f7": {
     "model_module": "@jupyter-widgets/base",
     "model_module_version": "1.2.0",
     "model_name": "LayoutModel",
     "state": {
      "_model_module": "@jupyter-widgets/base",
      "_model_module_version": "1.2.0",
      "_model_name": "LayoutModel",
      "_view_count": null,
      "_view_module": "@jupyter-widgets/base",
      "_view_module_version": "1.2.0",
      "_view_name": "LayoutView",
      "align_content": null,
      "align_items": null,
      "align_self": null,
      "border": null,
      "bottom": null,
      "display": null,
      "flex": null,
      "flex_flow": null,
      "grid_area": null,
      "grid_auto_columns": null,
      "grid_auto_flow": null,
      "grid_auto_rows": null,
      "grid_column": null,
      "grid_gap": null,
      "grid_row": null,
      "grid_template_areas": null,
      "grid_template_columns": null,
      "grid_template_rows": null,
      "height": null,
      "justify_content": null,
      "justify_items": null,
      "left": null,
      "margin": null,
      "max_height": null,
      "max_width": null,
      "min_height": null,
      "min_width": null,
      "object_fit": null,
      "object_position": null,
      "order": null,
      "overflow": null,
      "overflow_x": null,
      "overflow_y": null,
      "padding": null,
      "right": null,
      "top": null,
      "visibility": null,
      "width": null
     }
    },
    "0bb01057915544638cdfd63459915774": {
     "model_module": "@jupyter-widgets/base",
     "model_module_version": "1.2.0",
     "model_name": "LayoutModel",
     "state": {
      "_model_module": "@jupyter-widgets/base",
      "_model_module_version": "1.2.0",
      "_model_name": "LayoutModel",
      "_view_count": null,
      "_view_module": "@jupyter-widgets/base",
      "_view_module_version": "1.2.0",
      "_view_name": "LayoutView",
      "align_content": null,
      "align_items": null,
      "align_self": null,
      "border": null,
      "bottom": null,
      "display": null,
      "flex": null,
      "flex_flow": null,
      "grid_area": null,
      "grid_auto_columns": null,
      "grid_auto_flow": null,
      "grid_auto_rows": null,
      "grid_column": null,
      "grid_gap": null,
      "grid_row": null,
      "grid_template_areas": null,
      "grid_template_columns": null,
      "grid_template_rows": null,
      "height": null,
      "justify_content": null,
      "justify_items": null,
      "left": null,
      "margin": null,
      "max_height": null,
      "max_width": null,
      "min_height": null,
      "min_width": null,
      "object_fit": null,
      "object_position": null,
      "order": null,
      "overflow": null,
      "overflow_x": null,
      "overflow_y": null,
      "padding": null,
      "right": null,
      "top": null,
      "visibility": null,
      "width": null
     }
    },
    "0bbba0bf0df34e84a34491a25cc1d2cf": {
     "model_module": "@jupyter-widgets/controls",
     "model_module_version": "1.5.0",
     "model_name": "HTMLModel",
     "state": {
      "_dom_classes": [],
      "_model_module": "@jupyter-widgets/controls",
      "_model_module_version": "1.5.0",
      "_model_name": "HTMLModel",
      "_view_count": null,
      "_view_module": "@jupyter-widgets/controls",
      "_view_module_version": "1.5.0",
      "_view_name": "HTMLView",
      "description": "",
      "description_tooltip": null,
      "layout": "IPY_MODEL_0786e2de94994124858734004a8764f7",
      "placeholder": "​",
      "style": "IPY_MODEL_5afd4a6f2cfa4c41b5a4b0439cf902e8",
      "value": " 1.31M/1.31M [00:01&lt;00:00, 990kB/s]"
     }
    },
    "11508b2e3d2843a5b91f7e335305f75c": {
     "model_module": "@jupyter-widgets/controls",
     "model_module_version": "1.5.0",
     "model_name": "DescriptionStyleModel",
     "state": {
      "_model_module": "@jupyter-widgets/controls",
      "_model_module_version": "1.5.0",
      "_model_name": "DescriptionStyleModel",
      "_view_count": null,
      "_view_module": "@jupyter-widgets/base",
      "_view_module_version": "1.2.0",
      "_view_name": "StyleView",
      "description_width": ""
     }
    },
    "11aa630d632541a4b1acb230e65e1ffe": {
     "model_module": "@jupyter-widgets/controls",
     "model_module_version": "1.5.0",
     "model_name": "FloatProgressModel",
     "state": {
      "_dom_classes": [],
      "_model_module": "@jupyter-widgets/controls",
      "_model_module_version": "1.5.0",
      "_model_name": "FloatProgressModel",
      "_view_count": null,
      "_view_module": "@jupyter-widgets/controls",
      "_view_module_version": "1.5.0",
      "_view_name": "ProgressView",
      "bar_style": "success",
      "description": "",
      "description_tooltip": null,
      "layout": "IPY_MODEL_1d522da8fa6e48d59ba24aed9bf24908",
      "max": 1312669,
      "min": 0,
      "orientation": "horizontal",
      "style": "IPY_MODEL_56a0b869177c42008ff3d28c8c46e580",
      "value": 1312669
     }
    },
    "1d522da8fa6e48d59ba24aed9bf24908": {
     "model_module": "@jupyter-widgets/base",
     "model_module_version": "1.2.0",
     "model_name": "LayoutModel",
     "state": {
      "_model_module": "@jupyter-widgets/base",
      "_model_module_version": "1.2.0",
      "_model_name": "LayoutModel",
      "_view_count": null,
      "_view_module": "@jupyter-widgets/base",
      "_view_module_version": "1.2.0",
      "_view_name": "LayoutView",
      "align_content": null,
      "align_items": null,
      "align_self": null,
      "border": null,
      "bottom": null,
      "display": null,
      "flex": null,
      "flex_flow": null,
      "grid_area": null,
      "grid_auto_columns": null,
      "grid_auto_flow": null,
      "grid_auto_rows": null,
      "grid_column": null,
      "grid_gap": null,
      "grid_row": null,
      "grid_template_areas": null,
      "grid_template_columns": null,
      "grid_template_rows": null,
      "height": null,
      "justify_content": null,
      "justify_items": null,
      "left": null,
      "margin": null,
      "max_height": null,
      "max_width": null,
      "min_height": null,
      "min_width": null,
      "object_fit": null,
      "object_position": null,
      "order": null,
      "overflow": null,
      "overflow_x": null,
      "overflow_y": null,
      "padding": null,
      "right": null,
      "top": null,
      "visibility": null,
      "width": null
     }
    },
    "24a69c82809a4f03a4df357d88b5cf23": {
     "model_module": "@jupyter-widgets/base",
     "model_module_version": "1.2.0",
     "model_name": "LayoutModel",
     "state": {
      "_model_module": "@jupyter-widgets/base",
      "_model_module_version": "1.2.0",
      "_model_name": "LayoutModel",
      "_view_count": null,
      "_view_module": "@jupyter-widgets/base",
      "_view_module_version": "1.2.0",
      "_view_name": "LayoutView",
      "align_content": null,
      "align_items": null,
      "align_self": null,
      "border": null,
      "bottom": null,
      "display": null,
      "flex": null,
      "flex_flow": null,
      "grid_area": null,
      "grid_auto_columns": null,
      "grid_auto_flow": null,
      "grid_auto_rows": null,
      "grid_column": null,
      "grid_gap": null,
      "grid_row": null,
      "grid_template_areas": null,
      "grid_template_columns": null,
      "grid_template_rows": null,
      "height": null,
      "justify_content": null,
      "justify_items": null,
      "left": null,
      "margin": null,
      "max_height": null,
      "max_width": null,
      "min_height": null,
      "min_width": null,
      "object_fit": null,
      "object_position": null,
      "order": null,
      "overflow": null,
      "overflow_x": null,
      "overflow_y": null,
      "padding": null,
      "right": null,
      "top": null,
      "visibility": null,
      "width": null
     }
    },
    "26ad2f3b7690474fa1b0bd64848cfe6e": {
     "model_module": "@jupyter-widgets/controls",
     "model_module_version": "1.5.0",
     "model_name": "FloatProgressModel",
     "state": {
      "_dom_classes": [],
      "_model_module": "@jupyter-widgets/controls",
      "_model_module_version": "1.5.0",
      "_model_name": "FloatProgressModel",
      "_view_count": null,
      "_view_module": "@jupyter-widgets/controls",
      "_view_module_version": "1.5.0",
      "_view_name": "ProgressView",
      "bar_style": "success",
      "description": "",
      "description_tooltip": null,
      "layout": "IPY_MODEL_8a4cd2f4ae9e4a65b5b5fde0eb47d014",
      "max": 760289,
      "min": 0,
      "orientation": "horizontal",
      "style": "IPY_MODEL_e72210913a6345218aca2db264c3a962",
      "value": 760289
     }
    },
    "47bb39f98be7470f829fe1cf81336453": {
     "model_module": "@jupyter-widgets/controls",
     "model_module_version": "1.5.0",
     "model_name": "HBoxModel",
     "state": {
      "_dom_classes": [],
      "_model_module": "@jupyter-widgets/controls",
      "_model_module_version": "1.5.0",
      "_model_name": "HBoxModel",
      "_view_count": null,
      "_view_module": "@jupyter-widgets/controls",
      "_view_module_version": "1.5.0",
      "_view_name": "HBoxView",
      "box_style": "",
      "children": [
       "IPY_MODEL_c1f6c61947a6436cbf34c55fa56ca8d8",
       "IPY_MODEL_4bfeabb11a3e46be8d0e6ed620f29a52",
       "IPY_MODEL_de39dffa69c444f386a8b3a731cbe9ee"
      ],
      "layout": "IPY_MODEL_67c07636e15f44d0a64365f890838d6c"
     }
    },
    "4bfeabb11a3e46be8d0e6ed620f29a52": {
     "model_module": "@jupyter-widgets/controls",
     "model_module_version": "1.5.0",
     "model_name": "FloatProgressModel",
     "state": {
      "_dom_classes": [],
      "_model_module": "@jupyter-widgets/controls",
      "_model_module_version": "1.5.0",
      "_model_name": "FloatProgressModel",
      "_view_count": null,
      "_view_module": "@jupyter-widgets/controls",
      "_view_module_version": "1.5.0",
      "_view_name": "ProgressView",
      "bar_style": "success",
      "description": "",
      "description_tooltip": null,
      "layout": "IPY_MODEL_84f9d1eebb4645718e9eacd97bb0af95",
      "max": 63048368,
      "min": 0,
      "orientation": "horizontal",
      "style": "IPY_MODEL_c55761c1e084438cbd1e274aacd76dcf",
      "value": 63048368
     }
    },
    "5362fb2dc7f5433aa71f9fef07bfc5d3": {
     "model_module": "@jupyter-widgets/controls",
     "model_module_version": "1.5.0",
     "model_name": "DescriptionStyleModel",
     "state": {
      "_model_module": "@jupyter-widgets/controls",
      "_model_module_version": "1.5.0",
      "_model_name": "DescriptionStyleModel",
      "_view_count": null,
      "_view_module": "@jupyter-widgets/base",
      "_view_module_version": "1.2.0",
      "_view_name": "StyleView",
      "description_width": ""
     }
    },
    "564dc7cd78834549b5246d02bb76d1c4": {
     "model_module": "@jupyter-widgets/controls",
     "model_module_version": "1.5.0",
     "model_name": "HBoxModel",
     "state": {
      "_dom_classes": [],
      "_model_module": "@jupyter-widgets/controls",
      "_model_module_version": "1.5.0",
      "_model_name": "HBoxModel",
      "_view_count": null,
      "_view_module": "@jupyter-widgets/controls",
      "_view_module_version": "1.5.0",
      "_view_name": "HBoxView",
      "box_style": "",
      "children": [
       "IPY_MODEL_bbca28731e6a4722acf838b1c568277e",
       "IPY_MODEL_d1af40e093a24d8384a57455811d5c41",
       "IPY_MODEL_a991390f2f2947d28cede8b0dfb431d7"
      ],
      "layout": "IPY_MODEL_7a8583afc3124e709ee4610542e38a96"
     }
    },
    "56a0b869177c42008ff3d28c8c46e580": {
     "model_module": "@jupyter-widgets/controls",
     "model_module_version": "1.5.0",
     "model_name": "ProgressStyleModel",
     "state": {
      "_model_module": "@jupyter-widgets/controls",
      "_model_module_version": "1.5.0",
      "_model_name": "ProgressStyleModel",
      "_view_count": null,
      "_view_module": "@jupyter-widgets/base",
      "_view_module_version": "1.2.0",
      "_view_name": "StyleView",
      "bar_color": null,
      "description_width": ""
     }
    },
    "5afd4a6f2cfa4c41b5a4b0439cf902e8": {
     "model_module": "@jupyter-widgets/controls",
     "model_module_version": "1.5.0",
     "model_name": "DescriptionStyleModel",
     "state": {
      "_model_module": "@jupyter-widgets/controls",
      "_model_module_version": "1.5.0",
      "_model_name": "DescriptionStyleModel",
      "_view_count": null,
      "_view_module": "@jupyter-widgets/base",
      "_view_module_version": "1.2.0",
      "_view_name": "StyleView",
      "description_width": ""
     }
    },
    "67c07636e15f44d0a64365f890838d6c": {
     "model_module": "@jupyter-widgets/base",
     "model_module_version": "1.2.0",
     "model_name": "LayoutModel",
     "state": {
      "_model_module": "@jupyter-widgets/base",
      "_model_module_version": "1.2.0",
      "_model_name": "LayoutModel",
      "_view_count": null,
      "_view_module": "@jupyter-widgets/base",
      "_view_module_version": "1.2.0",
      "_view_name": "LayoutView",
      "align_content": null,
      "align_items": null,
      "align_self": null,
      "border": null,
      "bottom": null,
      "display": null,
      "flex": null,
      "flex_flow": null,
      "grid_area": null,
      "grid_auto_columns": null,
      "grid_auto_flow": null,
      "grid_auto_rows": null,
      "grid_column": null,
      "grid_gap": null,
      "grid_row": null,
      "grid_template_areas": null,
      "grid_template_columns": null,
      "grid_template_rows": null,
      "height": null,
      "justify_content": null,
      "justify_items": null,
      "left": null,
      "margin": null,
      "max_height": null,
      "max_width": null,
      "min_height": null,
      "min_width": null,
      "object_fit": null,
      "object_position": null,
      "order": null,
      "overflow": null,
      "overflow_x": null,
      "overflow_y": null,
      "padding": null,
      "right": null,
      "top": null,
      "visibility": null,
      "width": null
     }
    },
    "67c0dd91127049d78ddc8d1440dbfb85": {
     "model_module": "@jupyter-widgets/base",
     "model_module_version": "1.2.0",
     "model_name": "LayoutModel",
     "state": {
      "_model_module": "@jupyter-widgets/base",
      "_model_module_version": "1.2.0",
      "_model_name": "LayoutModel",
      "_view_count": null,
      "_view_module": "@jupyter-widgets/base",
      "_view_module_version": "1.2.0",
      "_view_name": "LayoutView",
      "align_content": null,
      "align_items": null,
      "align_self": null,
      "border": null,
      "bottom": null,
      "display": null,
      "flex": null,
      "flex_flow": null,
      "grid_area": null,
      "grid_auto_columns": null,
      "grid_auto_flow": null,
      "grid_auto_rows": null,
      "grid_column": null,
      "grid_gap": null,
      "grid_row": null,
      "grid_template_areas": null,
      "grid_template_columns": null,
      "grid_template_rows": null,
      "height": null,
      "justify_content": null,
      "justify_items": null,
      "left": null,
      "margin": null,
      "max_height": null,
      "max_width": null,
      "min_height": null,
      "min_width": null,
      "object_fit": null,
      "object_position": null,
      "order": null,
      "overflow": null,
      "overflow_x": null,
      "overflow_y": null,
      "padding": null,
      "right": null,
      "top": null,
      "visibility": null,
      "width": null
     }
    },
    "6b9d424320f147cd84ce055a0cad8aa4": {
     "model_module": "@jupyter-widgets/controls",
     "model_module_version": "1.5.0",
     "model_name": "HBoxModel",
     "state": {
      "_dom_classes": [],
      "_model_module": "@jupyter-widgets/controls",
      "_model_module_version": "1.5.0",
      "_model_name": "HBoxModel",
      "_view_count": null,
      "_view_module": "@jupyter-widgets/controls",
      "_view_module_version": "1.5.0",
      "_view_name": "HBoxView",
      "box_style": "",
      "children": [
       "IPY_MODEL_71adfa629b4f4ef0ae330314b1fa731b",
       "IPY_MODEL_26ad2f3b7690474fa1b0bd64848cfe6e",
       "IPY_MODEL_73164299b94949dfa9a7216b197e7d17"
      ],
      "layout": "IPY_MODEL_780f806c6aa6485d9a172e5c63fd937e"
     }
    },
    "6ce7a895a4994f28a8e19cc9f07910dc": {
     "model_module": "@jupyter-widgets/controls",
     "model_module_version": "1.5.0",
     "model_name": "HTMLModel",
     "state": {
      "_dom_classes": [],
      "_model_module": "@jupyter-widgets/controls",
      "_model_module_version": "1.5.0",
      "_model_name": "HTMLModel",
      "_view_count": null,
      "_view_module": "@jupyter-widgets/controls",
      "_view_module_version": "1.5.0",
      "_view_name": "HTMLView",
      "description": "",
      "description_tooltip": null,
      "layout": "IPY_MODEL_24a69c82809a4f03a4df357d88b5cf23",
      "placeholder": "​",
      "style": "IPY_MODEL_afe630785f344fdbb5837c5b39a02a72",
      "value": "Downloading (…)/main/tokenizer.json: 100%"
     }
    },
    "705ed9ed5db1466d865ad6b061449c35": {
     "model_module": "@jupyter-widgets/controls",
     "model_module_version": "1.5.0",
     "model_name": "DescriptionStyleModel",
     "state": {
      "_model_module": "@jupyter-widgets/controls",
      "_model_module_version": "1.5.0",
      "_model_name": "DescriptionStyleModel",
      "_view_count": null,
      "_view_module": "@jupyter-widgets/base",
      "_view_module_version": "1.2.0",
      "_view_name": "StyleView",
      "description_width": ""
     }
    },
    "71adfa629b4f4ef0ae330314b1fa731b": {
     "model_module": "@jupyter-widgets/controls",
     "model_module_version": "1.5.0",
     "model_name": "HTMLModel",
     "state": {
      "_dom_classes": [],
      "_model_module": "@jupyter-widgets/controls",
      "_model_module_version": "1.5.0",
      "_model_name": "HTMLModel",
      "_view_count": null,
      "_view_module": "@jupyter-widgets/controls",
      "_view_module_version": "1.5.0",
      "_view_name": "HTMLView",
      "description": "",
      "description_tooltip": null,
      "layout": "IPY_MODEL_7260e3efaedc4a5387b888b48ad6f8da",
      "placeholder": "​",
      "style": "IPY_MODEL_5362fb2dc7f5433aa71f9fef07bfc5d3",
      "value": "Downloading (…)ve/main/spiece.model: 100%"
     }
    },
    "7260e3efaedc4a5387b888b48ad6f8da": {
     "model_module": "@jupyter-widgets/base",
     "model_module_version": "1.2.0",
     "model_name": "LayoutModel",
     "state": {
      "_model_module": "@jupyter-widgets/base",
      "_model_module_version": "1.2.0",
      "_model_name": "LayoutModel",
      "_view_count": null,
      "_view_module": "@jupyter-widgets/base",
      "_view_module_version": "1.2.0",
      "_view_name": "LayoutView",
      "align_content": null,
      "align_items": null,
      "align_self": null,
      "border": null,
      "bottom": null,
      "display": null,
      "flex": null,
      "flex_flow": null,
      "grid_area": null,
      "grid_auto_columns": null,
      "grid_auto_flow": null,
      "grid_auto_rows": null,
      "grid_column": null,
      "grid_gap": null,
      "grid_row": null,
      "grid_template_areas": null,
      "grid_template_columns": null,
      "grid_template_rows": null,
      "height": null,
      "justify_content": null,
      "justify_items": null,
      "left": null,
      "margin": null,
      "max_height": null,
      "max_width": null,
      "min_height": null,
      "min_width": null,
      "object_fit": null,
      "object_position": null,
      "order": null,
      "overflow": null,
      "overflow_x": null,
      "overflow_y": null,
      "padding": null,
      "right": null,
      "top": null,
      "visibility": null,
      "width": null
     }
    },
    "73164299b94949dfa9a7216b197e7d17": {
     "model_module": "@jupyter-widgets/controls",
     "model_module_version": "1.5.0",
     "model_name": "HTMLModel",
     "state": {
      "_dom_classes": [],
      "_model_module": "@jupyter-widgets/controls",
      "_model_module_version": "1.5.0",
      "_model_name": "HTMLModel",
      "_view_count": null,
      "_view_module": "@jupyter-widgets/controls",
      "_view_module_version": "1.5.0",
      "_view_name": "HTMLView",
      "description": "",
      "description_tooltip": null,
      "layout": "IPY_MODEL_e75c2bf00c0543b99573770fbb80c4a1",
      "placeholder": "​",
      "style": "IPY_MODEL_11508b2e3d2843a5b91f7e335305f75c",
      "value": " 760k/760k [00:01&lt;00:00, 689kB/s]"
     }
    },
    "780f806c6aa6485d9a172e5c63fd937e": {
     "model_module": "@jupyter-widgets/base",
     "model_module_version": "1.2.0",
     "model_name": "LayoutModel",
     "state": {
      "_model_module": "@jupyter-widgets/base",
      "_model_module_version": "1.2.0",
      "_model_name": "LayoutModel",
      "_view_count": null,
      "_view_module": "@jupyter-widgets/base",
      "_view_module_version": "1.2.0",
      "_view_name": "LayoutView",
      "align_content": null,
      "align_items": null,
      "align_self": null,
      "border": null,
      "bottom": null,
      "display": null,
      "flex": null,
      "flex_flow": null,
      "grid_area": null,
      "grid_auto_columns": null,
      "grid_auto_flow": null,
      "grid_auto_rows": null,
      "grid_column": null,
      "grid_gap": null,
      "grid_row": null,
      "grid_template_areas": null,
      "grid_template_columns": null,
      "grid_template_rows": null,
      "height": null,
      "justify_content": null,
      "justify_items": null,
      "left": null,
      "margin": null,
      "max_height": null,
      "max_width": null,
      "min_height": null,
      "min_width": null,
      "object_fit": null,
      "object_position": null,
      "order": null,
      "overflow": null,
      "overflow_x": null,
      "overflow_y": null,
      "padding": null,
      "right": null,
      "top": null,
      "visibility": null,
      "width": null
     }
    },
    "7a8583afc3124e709ee4610542e38a96": {
     "model_module": "@jupyter-widgets/base",
     "model_module_version": "1.2.0",
     "model_name": "LayoutModel",
     "state": {
      "_model_module": "@jupyter-widgets/base",
      "_model_module_version": "1.2.0",
      "_model_name": "LayoutModel",
      "_view_count": null,
      "_view_module": "@jupyter-widgets/base",
      "_view_module_version": "1.2.0",
      "_view_name": "LayoutView",
      "align_content": null,
      "align_items": null,
      "align_self": null,
      "border": null,
      "bottom": null,
      "display": null,
      "flex": null,
      "flex_flow": null,
      "grid_area": null,
      "grid_auto_columns": null,
      "grid_auto_flow": null,
      "grid_auto_rows": null,
      "grid_column": null,
      "grid_gap": null,
      "grid_row": null,
      "grid_template_areas": null,
      "grid_template_columns": null,
      "grid_template_rows": null,
      "height": null,
      "justify_content": null,
      "justify_items": null,
      "left": null,
      "margin": null,
      "max_height": null,
      "max_width": null,
      "min_height": null,
      "min_width": null,
      "object_fit": null,
      "object_position": null,
      "order": null,
      "overflow": null,
      "overflow_x": null,
      "overflow_y": null,
      "padding": null,
      "right": null,
      "top": null,
      "visibility": null,
      "width": null
     }
    },
    "7aae5c522d1e4da28392deac34237b30": {
     "model_module": "@jupyter-widgets/controls",
     "model_module_version": "1.5.0",
     "model_name": "DescriptionStyleModel",
     "state": {
      "_model_module": "@jupyter-widgets/controls",
      "_model_module_version": "1.5.0",
      "_model_name": "DescriptionStyleModel",
      "_view_count": null,
      "_view_module": "@jupyter-widgets/base",
      "_view_module_version": "1.2.0",
      "_view_name": "StyleView",
      "description_width": ""
     }
    },
    "7d5305465c8c42289d1180a7eefc4bc5": {
     "model_module": "@jupyter-widgets/controls",
     "model_module_version": "1.5.0",
     "model_name": "DescriptionStyleModel",
     "state": {
      "_model_module": "@jupyter-widgets/controls",
      "_model_module_version": "1.5.0",
      "_model_name": "DescriptionStyleModel",
      "_view_count": null,
      "_view_module": "@jupyter-widgets/base",
      "_view_module_version": "1.2.0",
      "_view_name": "StyleView",
      "description_width": ""
     }
    },
    "83ff0fc46ac04050a79ca1a1bc87bb5f": {
     "model_module": "@jupyter-widgets/controls",
     "model_module_version": "1.5.0",
     "model_name": "DescriptionStyleModel",
     "state": {
      "_model_module": "@jupyter-widgets/controls",
      "_model_module_version": "1.5.0",
      "_model_name": "DescriptionStyleModel",
      "_view_count": null,
      "_view_module": "@jupyter-widgets/base",
      "_view_module_version": "1.2.0",
      "_view_name": "StyleView",
      "description_width": ""
     }
    },
    "84f9d1eebb4645718e9eacd97bb0af95": {
     "model_module": "@jupyter-widgets/base",
     "model_module_version": "1.2.0",
     "model_name": "LayoutModel",
     "state": {
      "_model_module": "@jupyter-widgets/base",
      "_model_module_version": "1.2.0",
      "_model_name": "LayoutModel",
      "_view_count": null,
      "_view_module": "@jupyter-widgets/base",
      "_view_module_version": "1.2.0",
      "_view_name": "LayoutView",
      "align_content": null,
      "align_items": null,
      "align_self": null,
      "border": null,
      "bottom": null,
      "display": null,
      "flex": null,
      "flex_flow": null,
      "grid_area": null,
      "grid_auto_columns": null,
      "grid_auto_flow": null,
      "grid_auto_rows": null,
      "grid_column": null,
      "grid_gap": null,
      "grid_row": null,
      "grid_template_areas": null,
      "grid_template_columns": null,
      "grid_template_rows": null,
      "height": null,
      "justify_content": null,
      "justify_items": null,
      "left": null,
      "margin": null,
      "max_height": null,
      "max_width": null,
      "min_height": null,
      "min_width": null,
      "object_fit": null,
      "object_position": null,
      "order": null,
      "overflow": null,
      "overflow_x": null,
      "overflow_y": null,
      "padding": null,
      "right": null,
      "top": null,
      "visibility": null,
      "width": null
     }
    },
    "8a4cd2f4ae9e4a65b5b5fde0eb47d014": {
     "model_module": "@jupyter-widgets/base",
     "model_module_version": "1.2.0",
     "model_name": "LayoutModel",
     "state": {
      "_model_module": "@jupyter-widgets/base",
      "_model_module_version": "1.2.0",
      "_model_name": "LayoutModel",
      "_view_count": null,
      "_view_module": "@jupyter-widgets/base",
      "_view_module_version": "1.2.0",
      "_view_name": "LayoutView",
      "align_content": null,
      "align_items": null,
      "align_self": null,
      "border": null,
      "bottom": null,
      "display": null,
      "flex": null,
      "flex_flow": null,
      "grid_area": null,
      "grid_auto_columns": null,
      "grid_auto_flow": null,
      "grid_auto_rows": null,
      "grid_column": null,
      "grid_gap": null,
      "grid_row": null,
      "grid_template_areas": null,
      "grid_template_columns": null,
      "grid_template_rows": null,
      "height": null,
      "justify_content": null,
      "justify_items": null,
      "left": null,
      "margin": null,
      "max_height": null,
      "max_width": null,
      "min_height": null,
      "min_width": null,
      "object_fit": null,
      "object_position": null,
      "order": null,
      "overflow": null,
      "overflow_x": null,
      "overflow_y": null,
      "padding": null,
      "right": null,
      "top": null,
      "visibility": null,
      "width": null
     }
    },
    "a991390f2f2947d28cede8b0dfb431d7": {
     "model_module": "@jupyter-widgets/controls",
     "model_module_version": "1.5.0",
     "model_name": "HTMLModel",
     "state": {
      "_dom_classes": [],
      "_model_module": "@jupyter-widgets/controls",
      "_model_module_version": "1.5.0",
      "_model_name": "HTMLModel",
      "_view_count": null,
      "_view_module": "@jupyter-widgets/controls",
      "_view_module_version": "1.5.0",
      "_view_name": "HTMLView",
      "description": "",
      "description_tooltip": null,
      "layout": "IPY_MODEL_a9bf654ae73647c5823ba819fb6660f6",
      "placeholder": "​",
      "style": "IPY_MODEL_7aae5c522d1e4da28392deac34237b30",
      "value": " 684/684 [00:00&lt;00:00, 8.78kB/s]"
     }
    },
    "a9bf654ae73647c5823ba819fb6660f6": {
     "model_module": "@jupyter-widgets/base",
     "model_module_version": "1.2.0",
     "model_name": "LayoutModel",
     "state": {
      "_model_module": "@jupyter-widgets/base",
      "_model_module_version": "1.2.0",
      "_model_name": "LayoutModel",
      "_view_count": null,
      "_view_module": "@jupyter-widgets/base",
      "_view_module_version": "1.2.0",
      "_view_name": "LayoutView",
      "align_content": null,
      "align_items": null,
      "align_self": null,
      "border": null,
      "bottom": null,
      "display": null,
      "flex": null,
      "flex_flow": null,
      "grid_area": null,
      "grid_auto_columns": null,
      "grid_auto_flow": null,
      "grid_auto_rows": null,
      "grid_column": null,
      "grid_gap": null,
      "grid_row": null,
      "grid_template_areas": null,
      "grid_template_columns": null,
      "grid_template_rows": null,
      "height": null,
      "justify_content": null,
      "justify_items": null,
      "left": null,
      "margin": null,
      "max_height": null,
      "max_width": null,
      "min_height": null,
      "min_width": null,
      "object_fit": null,
      "object_position": null,
      "order": null,
      "overflow": null,
      "overflow_x": null,
      "overflow_y": null,
      "padding": null,
      "right": null,
      "top": null,
      "visibility": null,
      "width": null
     }
    },
    "ac42eaa419224ab88cc8cb0ef2f259aa": {
     "model_module": "@jupyter-widgets/controls",
     "model_module_version": "1.5.0",
     "model_name": "HBoxModel",
     "state": {
      "_dom_classes": [],
      "_model_module": "@jupyter-widgets/controls",
      "_model_module_version": "1.5.0",
      "_model_name": "HBoxModel",
      "_view_count": null,
      "_view_module": "@jupyter-widgets/controls",
      "_view_module_version": "1.5.0",
      "_view_name": "HBoxView",
      "box_style": "",
      "children": [
       "IPY_MODEL_6ce7a895a4994f28a8e19cc9f07910dc",
       "IPY_MODEL_11aa630d632541a4b1acb230e65e1ffe",
       "IPY_MODEL_0bbba0bf0df34e84a34491a25cc1d2cf"
      ],
      "layout": "IPY_MODEL_0bb01057915544638cdfd63459915774"
     }
    },
    "afe630785f344fdbb5837c5b39a02a72": {
     "model_module": "@jupyter-widgets/controls",
     "model_module_version": "1.5.0",
     "model_name": "DescriptionStyleModel",
     "state": {
      "_model_module": "@jupyter-widgets/controls",
      "_model_module_version": "1.5.0",
      "_model_name": "DescriptionStyleModel",
      "_view_count": null,
      "_view_module": "@jupyter-widgets/base",
      "_view_module_version": "1.2.0",
      "_view_name": "StyleView",
      "description_width": ""
     }
    },
    "bbca28731e6a4722acf838b1c568277e": {
     "model_module": "@jupyter-widgets/controls",
     "model_module_version": "1.5.0",
     "model_name": "HTMLModel",
     "state": {
      "_dom_classes": [],
      "_model_module": "@jupyter-widgets/controls",
      "_model_module_version": "1.5.0",
      "_model_name": "HTMLModel",
      "_view_count": null,
      "_view_module": "@jupyter-widgets/controls",
      "_view_module_version": "1.5.0",
      "_view_name": "HTMLView",
      "description": "",
      "description_tooltip": null,
      "layout": "IPY_MODEL_07226734a9164e4fbdde51aa0b13a58f",
      "placeholder": "​",
      "style": "IPY_MODEL_7d5305465c8c42289d1180a7eefc4bc5",
      "value": "Downloading (…)lve/main/config.json: 100%"
     }
    },
    "c1f6c61947a6436cbf34c55fa56ca8d8": {
     "model_module": "@jupyter-widgets/controls",
     "model_module_version": "1.5.0",
     "model_name": "HTMLModel",
     "state": {
      "_dom_classes": [],
      "_model_module": "@jupyter-widgets/controls",
      "_model_module_version": "1.5.0",
      "_model_name": "HTMLModel",
      "_view_count": null,
      "_view_module": "@jupyter-widgets/controls",
      "_view_module_version": "1.5.0",
      "_view_name": "HTMLView",
      "description": "",
      "description_tooltip": null,
      "layout": "IPY_MODEL_06f3adb0e8ff490481e4312ed4dd233e",
      "placeholder": "​",
      "style": "IPY_MODEL_83ff0fc46ac04050a79ca1a1bc87bb5f",
      "value": "Downloading (…)&quot;tf_model.h5&quot;;: 100%"
     }
    },
    "c55761c1e084438cbd1e274aacd76dcf": {
     "model_module": "@jupyter-widgets/controls",
     "model_module_version": "1.5.0",
     "model_name": "ProgressStyleModel",
     "state": {
      "_model_module": "@jupyter-widgets/controls",
      "_model_module_version": "1.5.0",
      "_model_name": "ProgressStyleModel",
      "_view_count": null,
      "_view_module": "@jupyter-widgets/base",
      "_view_module_version": "1.2.0",
      "_view_name": "StyleView",
      "bar_color": null,
      "description_width": ""
     }
    },
    "d1af40e093a24d8384a57455811d5c41": {
     "model_module": "@jupyter-widgets/controls",
     "model_module_version": "1.5.0",
     "model_name": "FloatProgressModel",
     "state": {
      "_dom_classes": [],
      "_model_module": "@jupyter-widgets/controls",
      "_model_module_version": "1.5.0",
      "_model_name": "FloatProgressModel",
      "_view_count": null,
      "_view_module": "@jupyter-widgets/controls",
      "_view_module_version": "1.5.0",
      "_view_name": "ProgressView",
      "bar_style": "success",
      "description": "",
      "description_tooltip": null,
      "layout": "IPY_MODEL_edb65604e80b480fa2be16e6b231288e",
      "max": 684,
      "min": 0,
      "orientation": "horizontal",
      "style": "IPY_MODEL_f7608b179ac148b3a750984e563a2ab1",
      "value": 684
     }
    },
    "de39dffa69c444f386a8b3a731cbe9ee": {
     "model_module": "@jupyter-widgets/controls",
     "model_module_version": "1.5.0",
     "model_name": "HTMLModel",
     "state": {
      "_dom_classes": [],
      "_model_module": "@jupyter-widgets/controls",
      "_model_module_version": "1.5.0",
      "_model_name": "HTMLModel",
      "_view_count": null,
      "_view_module": "@jupyter-widgets/controls",
      "_view_module_version": "1.5.0",
      "_view_name": "HTMLView",
      "description": "",
      "description_tooltip": null,
      "layout": "IPY_MODEL_67c0dd91127049d78ddc8d1440dbfb85",
      "placeholder": "​",
      "style": "IPY_MODEL_705ed9ed5db1466d865ad6b061449c35",
      "value": " 63.0M/63.0M [00:04&lt;00:00, 16.4MB/s]"
     }
    },
    "e72210913a6345218aca2db264c3a962": {
     "model_module": "@jupyter-widgets/controls",
     "model_module_version": "1.5.0",
     "model_name": "ProgressStyleModel",
     "state": {
      "_model_module": "@jupyter-widgets/controls",
      "_model_module_version": "1.5.0",
      "_model_name": "ProgressStyleModel",
      "_view_count": null,
      "_view_module": "@jupyter-widgets/base",
      "_view_module_version": "1.2.0",
      "_view_name": "StyleView",
      "bar_color": null,
      "description_width": ""
     }
    },
    "e75c2bf00c0543b99573770fbb80c4a1": {
     "model_module": "@jupyter-widgets/base",
     "model_module_version": "1.2.0",
     "model_name": "LayoutModel",
     "state": {
      "_model_module": "@jupyter-widgets/base",
      "_model_module_version": "1.2.0",
      "_model_name": "LayoutModel",
      "_view_count": null,
      "_view_module": "@jupyter-widgets/base",
      "_view_module_version": "1.2.0",
      "_view_name": "LayoutView",
      "align_content": null,
      "align_items": null,
      "align_self": null,
      "border": null,
      "bottom": null,
      "display": null,
      "flex": null,
      "flex_flow": null,
      "grid_area": null,
      "grid_auto_columns": null,
      "grid_auto_flow": null,
      "grid_auto_rows": null,
      "grid_column": null,
      "grid_gap": null,
      "grid_row": null,
      "grid_template_areas": null,
      "grid_template_columns": null,
      "grid_template_rows": null,
      "height": null,
      "justify_content": null,
      "justify_items": null,
      "left": null,
      "margin": null,
      "max_height": null,
      "max_width": null,
      "min_height": null,
      "min_width": null,
      "object_fit": null,
      "object_position": null,
      "order": null,
      "overflow": null,
      "overflow_x": null,
      "overflow_y": null,
      "padding": null,
      "right": null,
      "top": null,
      "visibility": null,
      "width": null
     }
    },
    "edb65604e80b480fa2be16e6b231288e": {
     "model_module": "@jupyter-widgets/base",
     "model_module_version": "1.2.0",
     "model_name": "LayoutModel",
     "state": {
      "_model_module": "@jupyter-widgets/base",
      "_model_module_version": "1.2.0",
      "_model_name": "LayoutModel",
      "_view_count": null,
      "_view_module": "@jupyter-widgets/base",
      "_view_module_version": "1.2.0",
      "_view_name": "LayoutView",
      "align_content": null,
      "align_items": null,
      "align_self": null,
      "border": null,
      "bottom": null,
      "display": null,
      "flex": null,
      "flex_flow": null,
      "grid_area": null,
      "grid_auto_columns": null,
      "grid_auto_flow": null,
      "grid_auto_rows": null,
      "grid_column": null,
      "grid_gap": null,
      "grid_row": null,
      "grid_template_areas": null,
      "grid_template_columns": null,
      "grid_template_rows": null,
      "height": null,
      "justify_content": null,
      "justify_items": null,
      "left": null,
      "margin": null,
      "max_height": null,
      "max_width": null,
      "min_height": null,
      "min_width": null,
      "object_fit": null,
      "object_position": null,
      "order": null,
      "overflow": null,
      "overflow_x": null,
      "overflow_y": null,
      "padding": null,
      "right": null,
      "top": null,
      "visibility": null,
      "width": null
     }
    },
    "f7608b179ac148b3a750984e563a2ab1": {
     "model_module": "@jupyter-widgets/controls",
     "model_module_version": "1.5.0",
     "model_name": "ProgressStyleModel",
     "state": {
      "_model_module": "@jupyter-widgets/controls",
      "_model_module_version": "1.5.0",
      "_model_name": "ProgressStyleModel",
      "_view_count": null,
      "_view_module": "@jupyter-widgets/base",
      "_view_module_version": "1.2.0",
      "_view_name": "StyleView",
      "bar_color": null,
      "description_width": ""
     }
    }
   }
  }
 },
 "nbformat": 4,
 "nbformat_minor": 5
}
