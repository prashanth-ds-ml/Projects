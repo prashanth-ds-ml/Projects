{
 "cells": [
  {
   "cell_type": "markdown",
   "id": "ead770cc-1fc6-4506-84fc-4091deba3305",
   "metadata": {},
   "source": [
    "# Importing all the required libraries"
   ]
  },
  {
   "cell_type": "code",
   "execution_count": 1,
   "id": "4ac90d9d-a236-411c-80dd-60a089db22fc",
   "metadata": {
    "tags": []
   },
   "outputs": [],
   "source": [
    "import os\n",
    "import cv2\n",
    "import uuid\n",
    "import time\n",
    "import tensorflow as tf\n",
    "import matplotlib.pyplot as plt\n",
    "import wget"
   ]
  },
  {
   "cell_type": "code",
   "execution_count": 2,
   "id": "0a90fb30-7e31-4bbf-a6bf-fe25e78eb65c",
   "metadata": {
    "tags": []
   },
   "outputs": [
    {
     "name": "stdout",
     "output_type": "stream",
     "text": [
      "Num GPUs Available:  1\n"
     ]
    }
   ],
   "source": [
    "gpus = tf.config.list_physical_devices('GPU')\n",
    "if gpus: [tf.config.experimental.set_memory_growth(gpu, True) for gpu in gpus]\n",
    "print(\"Num GPUs Available: \", len(gpus))"
   ]
  },
  {
   "cell_type": "markdown",
   "id": "df19eb28-20bf-4d02-aae1-576bbf7ff681",
   "metadata": {},
   "source": [
    "# Collecting the data"
   ]
  },
  {
   "cell_type": "code",
   "execution_count": 3,
   "id": "5e721bf5-5053-4eee-8f76-dc2fc59e3823",
   "metadata": {
    "tags": []
   },
   "outputs": [],
   "source": [
    "labels = ['zero', 'one', 'two', 'three', 'four', 'five', 'six', 'seven', 'eight', 'nine']\n",
    "num_imgs = 5"
   ]
  },
  {
   "cell_type": "code",
   "execution_count": 4,
   "id": "6434aef8-02da-4ba2-bab2-9214f7167363",
   "metadata": {
    "tags": []
   },
   "outputs": [],
   "source": [
    "img_path = os.path.join('Workspace','Training','Images','Collected_images')"
   ]
  },
  {
   "cell_type": "code",
   "execution_count": 5,
   "id": "922ae060-6713-4fe1-895d-7308eaa0fe70",
   "metadata": {
    "tags": []
   },
   "outputs": [],
   "source": [
    "if not os.path.exists(img_path):\n",
    "    if os.name == 'nt':\n",
    "        !mkdir {img_path}\n",
    "for label in labels:\n",
    "    path = os.path.join(img_path,label)\n",
    "    if not os.path.exists(path):\n",
    "        !mkdir {path}"
   ]
  },
  {
   "cell_type": "code",
   "execution_count": null,
   "id": "7424e89d-e346-4467-baec-50db66ffc43e",
   "metadata": {
    "tags": []
   },
   "outputs": [],
   "source": [
    "cap = cv2.VideoCapture(0)\n",
    "\n",
    "for label in labels:\n",
    "    print('Collecting images for {}'.format(label))\n",
    "    time.sleep(5)\n",
    "\n",
    "    for img_num in range(num_imgs):\n",
    "        print('Collecting images for {}, image num {}'.format(label, img_num))\n",
    "\n",
    "        ret, frame = cap.read()\n",
    "\n",
    "        img_name = os.path.join(img_path, label, label + '.' + str(uuid.uuid1()) + '.jpg')\n",
    "        cv2.imwrite(img_name, frame)\n",
    "        cv2.imshow('IMG Collection', frame)\n",
    "\n",
    "        # Wait for user input to continue or break out of inner for loop\n",
    "        key = cv2.waitKey(0) & 0xFF\n",
    "        if key == ord('q'):  # Quit the loop entirely\n",
    "            break\n",
    "        elif key == ord('c'):  # Continue with the next image\n",
    "            continue\n",
    "\n",
    "        time.sleep(3)\n",
    "\n",
    "    # Wait for user input to continue or break out of outer for loop\n",
    "    key = cv2.waitKey(0) & 0xFF\n",
    "    if key == ord('q'):  # Quit the loop entirely\n",
    "        break\n",
    "    elif key == ord('c'):  # Continue with the next label\n",
    "        continue\n",
    "\n",
    "cap.release()\n",
    "cv2.destroyAllWindows()"
   ]
  },
  {
   "cell_type": "markdown",
   "id": "a4f93a46-37d6-4dff-a6a2-8ead2e0c85cd",
   "metadata": {},
   "source": [
    "# Annotating the collected images"
   ]
  },
  {
   "cell_type": "code",
   "execution_count": null,
   "id": "a093278e-ccca-484e-9e1f-8148cdc062fa",
   "metadata": {},
   "outputs": [],
   "source": [
    "!pip install labelImg"
   ]
  },
  {
   "cell_type": "code",
   "execution_count": null,
   "id": "ac7cb24b-7b56-4714-89c4-29e57442d1a3",
   "metadata": {
    "tags": []
   },
   "outputs": [],
   "source": [
    "!labelImg"
   ]
  },
  {
   "cell_type": "markdown",
   "id": "1aa0ea05-aab7-42fe-a805-779caead7749",
   "metadata": {},
   "source": [
    "# Setting up the Model and verifying the installation"
   ]
  },
  {
   "cell_type": "code",
   "execution_count": 6,
   "id": "1b432de3-bce7-4d70-a267-5a1301351e1f",
   "metadata": {
    "tags": []
   },
   "outputs": [],
   "source": [
    "model_name = 'my_ssd_mobilenetv2_fpn_640'\n",
    "pre_trained_model_name = 'ssd_mobilenet_v2_fpnlite_640x640_coco17_tpu-8'\n",
    "pre_trained_model_url = 'http://download.tensorflow.org/models/object_detection/tf2/20200711/ssd_mobilenet_v2_fpnlite_640x640_coco17_tpu-8.tar.gz'\n",
    "tf_record_script_name = 'generate_tfrecord.py'\n",
    "label_map_name = 'label_map.pbtxt'"
   ]
  },
  {
   "cell_type": "code",
   "execution_count": 7,
   "id": "cf587e76-ccce-487d-928a-76db6563e6d2",
   "metadata": {
    "tags": []
   },
   "outputs": [],
   "source": [
    "paths = {\n",
    "    'WORKSPACE_PATH': os.path.join('Workspace'),\n",
    "    'SCRIPTS_PATH': os.path.join('scripts'),\n",
    "    'APIMODEL_PATH': os.path.join('models'),\n",
    "    'ANNOTATION_PATH': os.path.join('Workspace','Training','Annotations'),\n",
    "    'IMAGE_PATH': os.path.join('Workspace','Training','Images'),\n",
    "    'MODEL_PATH': os.path.join('Workspace','Training','models'),\n",
    "    'PRETRAINED_MODEL_PATH': os.path.join('Workspace','Training','pre_trained_models'),\n",
    "    'CHECKPOINT_PATH': os.path.join('Workspace','Training','models',model_name), \n",
    "    'OUTPUT_PATH': os.path.join('Workspace','Training','models',model_name, 'export'), \n",
    "    'TFJS_PATH':os.path.join('Workspace','Training','models',model_name, 'tfjsexport'), \n",
    "    'TFLITE_PATH':os.path.join('Workspace','Training','models',model_name, 'tfliteexport'), \n",
    " }"
   ]
  },
  {
   "cell_type": "code",
   "execution_count": 8,
   "id": "70c8cec2-216d-4edc-a837-b445cd39d544",
   "metadata": {
    "tags": []
   },
   "outputs": [],
   "source": [
    "files = {\n",
    "    'PIPELINE_CONFIG':os.path.join('Workspace','Training','models', model_name, 'pipeline.config'),\n",
    "    'TF_RECORD_SCRIPT': os.path.join(paths['SCRIPTS_PATH'], tf_record_script_name), \n",
    "    'LABELMAP': os.path.join(paths['ANNOTATION_PATH'], label_map_name)\n",
    "}"
   ]
  },
  {
   "cell_type": "code",
   "execution_count": 9,
   "id": "b025b071-3c31-48f4-8d4d-90a382ee677a",
   "metadata": {
    "tags": []
   },
   "outputs": [],
   "source": [
    "for path in paths.values():\n",
    "    if not os.path.exists(path):\n",
    "        if os.name == 'nt':\n",
    "            !mkdir {path}"
   ]
  },
  {
   "cell_type": "code",
   "execution_count": null,
   "id": "9d979ab8-9230-4e15-bb6c-e2b01fcdadaa",
   "metadata": {
    "scrolled": true,
    "tags": []
   },
   "outputs": [],
   "source": [
    "VERIFICATION_SCRIPT = os.path.join(paths['APIMODEL_PATH'], 'research', 'object_detection', 'builders', 'model_builder_tf2_test.py')\n",
    "# Verify Installation\n",
    "!python {VERIFICATION_SCRIPT}"
   ]
  },
  {
   "cell_type": "code",
   "execution_count": 11,
   "id": "52bfbb2e-043b-445d-aaaf-dedf5c992610",
   "metadata": {
    "tags": []
   },
   "outputs": [],
   "source": [
    "import object_detection"
   ]
  },
  {
   "cell_type": "code",
   "execution_count": 12,
   "id": "b1311357-fc66-400f-b4d4-ca390e8287ad",
   "metadata": {
    "tags": []
   },
   "outputs": [
    {
     "name": "stdout",
     "output_type": "stream",
     "text": [
      "100% [........................................................................] 20518283 / 20518283        1 file(s) moved.\n"
     ]
    },
    {
     "name": "stderr",
     "output_type": "stream",
     "text": [
      "x ssd_mobilenet_v2_fpnlite_640x640_coco17_tpu-8/\n",
      "x ssd_mobilenet_v2_fpnlite_640x640_coco17_tpu-8/checkpoint/\n",
      "x ssd_mobilenet_v2_fpnlite_640x640_coco17_tpu-8/checkpoint/ckpt-0.data-00000-of-00001\n",
      "x ssd_mobilenet_v2_fpnlite_640x640_coco17_tpu-8/checkpoint/checkpoint\n",
      "x ssd_mobilenet_v2_fpnlite_640x640_coco17_tpu-8/checkpoint/ckpt-0.index\n",
      "x ssd_mobilenet_v2_fpnlite_640x640_coco17_tpu-8/pipeline.config\n",
      "x ssd_mobilenet_v2_fpnlite_640x640_coco17_tpu-8/saved_model/\n",
      "x ssd_mobilenet_v2_fpnlite_640x640_coco17_tpu-8/saved_model/saved_model.pb\n",
      "x ssd_mobilenet_v2_fpnlite_640x640_coco17_tpu-8/saved_model/variables/\n",
      "x ssd_mobilenet_v2_fpnlite_640x640_coco17_tpu-8/saved_model/variables/variables.data-00000-of-00001\n",
      "x ssd_mobilenet_v2_fpnlite_640x640_coco17_tpu-8/saved_model/variables/variables.index\n"
     ]
    }
   ],
   "source": [
    "wget.download(pre_trained_model_url)\n",
    "!move {pre_trained_model_name+'.tar.gz'} {paths['PRETRAINED_MODEL_PATH']}\n",
    "!cd {paths['PRETRAINED_MODEL_PATH']} && tar -zxvf {pre_trained_model_name+'.tar.gz'}"
   ]
  },
  {
   "cell_type": "markdown",
   "id": "d4953bbe-da76-4277-b241-12627a90d668",
   "metadata": {},
   "source": [
    "# Creating label and record files"
   ]
  },
  {
   "cell_type": "code",
   "execution_count": 13,
   "id": "1cecee1f-0066-4a92-aaf3-5c3f4fa2a24f",
   "metadata": {
    "tags": []
   },
   "outputs": [],
   "source": [
    "labels = [{'name':'zero','id':1},\n",
    "          {'name':'one','id':2},\n",
    "          {'name':'two','id':3},\n",
    "          {'name':'three','id':4},\n",
    "          {'name':'four','id':5},\n",
    "          {'name':'five','id':6},\n",
    "          {'name':'six','id':7},\n",
    "          {'name':'seven','id':8},\n",
    "          {'name':'eight','id':9},\n",
    "          {'name':'nine','id':10}]\n",
    "with open(files['LABELMAP'],'w') as f:\n",
    "    for label in labels:\n",
    "        f.write('item { \\n')\n",
    "        f.write('\\tname:\\'{}\\'\\n'.format(label['name']))\n",
    "        f.write('\\tid:{}\\n'.format(label['id']))\n",
    "        f.write('}\\n')"
   ]
  },
  {
   "cell_type": "code",
   "execution_count": 14,
   "id": "1a46ea9e-9add-48cb-898a-ec0b26f281b2",
   "metadata": {
    "tags": []
   },
   "outputs": [
    {
     "data": {
      "text/plain": [
       "10"
      ]
     },
     "execution_count": 14,
     "metadata": {},
     "output_type": "execute_result"
    }
   ],
   "source": [
    "len(labels)"
   ]
  },
  {
   "cell_type": "code",
   "execution_count": 15,
   "id": "2ef00e8e-d85a-4d28-adcc-37dbd1c17046",
   "metadata": {
    "tags": []
   },
   "outputs": [
    {
     "name": "stdout",
     "output_type": "stream",
     "text": [
      "Successfully created the TFRecord file: Workspace\\Training\\Annotations\\train.record\n",
      "Successfully created the TFRecord file: Workspace\\Training\\Annotations\\test.record\n"
     ]
    }
   ],
   "source": [
    "!python {files['TF_RECORD_SCRIPT']} -x {os.path.join(paths['IMAGE_PATH'], 'train_images')} -l {files['LABELMAP']} -o {os.path.join(paths['ANNOTATION_PATH'], 'train.record')} \n",
    "!python {files['TF_RECORD_SCRIPT']} -x {os.path.join(paths['IMAGE_PATH'], 'test_images')} -l {files['LABELMAP']} -o {os.path.join(paths['ANNOTATION_PATH'], 'test.record')}"
   ]
  },
  {
   "cell_type": "code",
   "execution_count": 16,
   "id": "25f0f9dc-5828-4838-8dec-cd2db0f4a053",
   "metadata": {
    "tags": []
   },
   "outputs": [
    {
     "name": "stdout",
     "output_type": "stream",
     "text": [
      "        1 file(s) copied.\n"
     ]
    }
   ],
   "source": [
    " !copy {os.path.join(paths['PRETRAINED_MODEL_PATH'], pre_trained_model_name, 'pipeline.config')} {os.path.join(paths['CHECKPOINT_PATH'])}"
   ]
  },
  {
   "cell_type": "markdown",
   "id": "e4bfc942-b5ae-4e71-b170-63c285836abd",
   "metadata": {},
   "source": [
    "# Configuring the model for the task"
   ]
  },
  {
   "cell_type": "code",
   "execution_count": 17,
   "id": "e2de3cf5-d8e5-4c71-8946-37c6f34b8e05",
   "metadata": {
    "tags": []
   },
   "outputs": [],
   "source": [
    "import tensorflow as tf\n",
    "from object_detection.utils import config_util\n",
    "from object_detection.protos import pipeline_pb2\n",
    "from google.protobuf import text_format"
   ]
  },
  {
   "cell_type": "code",
   "execution_count": 18,
   "id": "3b09343f-0600-4889-8395-54804d11510c",
   "metadata": {
    "tags": []
   },
   "outputs": [],
   "source": [
    "config = config_util.get_configs_from_pipeline_file(files['PIPELINE_CONFIG'])"
   ]
  },
  {
   "cell_type": "code",
   "execution_count": null,
   "id": "ee97fd7e-e7d1-4edb-84c7-d3ffd21ba6c1",
   "metadata": {
    "scrolled": true,
    "tags": []
   },
   "outputs": [],
   "source": [
    "config"
   ]
  },
  {
   "cell_type": "code",
   "execution_count": 20,
   "id": "b0f62cd5-7c6c-49a7-968e-39969e37e650",
   "metadata": {
    "tags": []
   },
   "outputs": [],
   "source": [
    "pipeline_config = pipeline_pb2.TrainEvalPipelineConfig()\n",
    "with tf.io.gfile.GFile(files['PIPELINE_CONFIG'], \"r\") as f:                                                                                                                                                                                                                     \n",
    "    proto_str = f.read()                                                                                                                                                                                                                                          \n",
    "    text_format.Merge(proto_str, pipeline_config) "
   ]
  },
  {
   "cell_type": "code",
   "execution_count": 21,
   "id": "43d418bb-5fb4-4d26-a269-b81c07417802",
   "metadata": {
    "tags": []
   },
   "outputs": [],
   "source": [
    "pipeline_config.model.ssd.num_classes = len(labels)\n",
    "pipeline_config.train_config.batch_size = 4\n",
    "pipeline_config.train_config.fine_tune_checkpoint = os.path.join(paths['PRETRAINED_MODEL_PATH'], pre_trained_model_name, 'checkpoint', 'ckpt-0')\n",
    "pipeline_config.train_config.fine_tune_checkpoint_type = \"detection\"\n",
    "pipeline_config.train_input_reader.label_map_path= files['LABELMAP']\n",
    "pipeline_config.train_input_reader.tf_record_input_reader.input_path[:] = [os.path.join(paths['ANNOTATION_PATH'], 'train.record')]\n",
    "pipeline_config.eval_input_reader[0].label_map_path = files['LABELMAP']\n",
    "pipeline_config.eval_input_reader[0].tf_record_input_reader.input_path[:] = [os.path.join(paths['ANNOTATION_PATH'], 'test.record')]"
   ]
  },
  {
   "cell_type": "code",
   "execution_count": 22,
   "id": "51ffce86-65d5-4597-97b0-7f07cb7ceeae",
   "metadata": {
    "tags": []
   },
   "outputs": [],
   "source": [
    "config_text = text_format.MessageToString(pipeline_config)                                                                                                                                                                                                        \n",
    "with tf.io.gfile.GFile(files['PIPELINE_CONFIG'], \"wb\") as f:                                                                                                                                                                                                                     \n",
    "    f.write(config_text)  "
   ]
  },
  {
   "cell_type": "markdown",
   "id": "80570c26-cae3-4ca3-89b4-e58f14d403d3",
   "metadata": {},
   "source": [
    "# Training the model"
   ]
  },
  {
   "cell_type": "code",
   "execution_count": 23,
   "id": "5535e426-b21b-4b06-b309-9572a05af209",
   "metadata": {
    "tags": []
   },
   "outputs": [],
   "source": [
    "TRAINING_SCRIPT = os.path.join(paths['APIMODEL_PATH'], 'research', 'object_detection', 'model_main_tf2.py')"
   ]
  },
  {
   "cell_type": "code",
   "execution_count": 24,
   "id": "a6a9ed14-9316-4108-b164-75ac0f485077",
   "metadata": {
    "tags": []
   },
   "outputs": [],
   "source": [
    "command = \"python {} --model_dir={} --pipeline_config_path={} --num_train_steps=8000\".format(TRAINING_SCRIPT, paths['CHECKPOINT_PATH'],files['PIPELINE_CONFIG'])"
   ]
  },
  {
   "cell_type": "code",
   "execution_count": 25,
   "id": "2cdc7b68-dca4-4964-aaee-fc22c983a38a",
   "metadata": {
    "tags": []
   },
   "outputs": [
    {
     "name": "stdout",
     "output_type": "stream",
     "text": [
      "python models\\research\\object_detection\\model_main_tf2.py --model_dir=Workspace\\Training\\models\\my_ssd_mobilenetv2_fpn_640 --pipeline_config_path=Workspace\\Training\\models\\my_ssd_mobilenetv2_fpn_640\\pipeline.config --num_train_steps=8000\n"
     ]
    }
   ],
   "source": [
    "print(command) # run the command in the miniconda prompt after activating the environment and changing to the working directory"
   ]
  },
  {
   "cell_type": "markdown",
   "id": "0dcbb840-7400-4c9b-a0af-b67bc507c572",
   "metadata": {},
   "source": [
    "# Evaluating the model"
   ]
  },
  {
   "cell_type": "code",
   "execution_count": 26,
   "id": "67ec36ed-12db-42f5-b761-11a438baed21",
   "metadata": {
    "tags": []
   },
   "outputs": [],
   "source": [
    "command = \"python {} --model_dir={} --pipeline_config_path={} --checkpoint_dir={}\".format(TRAINING_SCRIPT, paths['CHECKPOINT_PATH'],files['PIPELINE_CONFIG'], paths['CHECKPOINT_PATH'])"
   ]
  },
  {
   "cell_type": "code",
   "execution_count": 27,
   "id": "7db09c83-975e-4e31-b444-13d2ad5c5be2",
   "metadata": {
    "tags": []
   },
   "outputs": [
    {
     "name": "stdout",
     "output_type": "stream",
     "text": [
      "python models\\research\\object_detection\\model_main_tf2.py --model_dir=Workspace\\Training\\models\\my_ssd_mobilenetv2_fpn_640 --pipeline_config_path=Workspace\\Training\\models\\my_ssd_mobilenetv2_fpn_640\\pipeline.config --checkpoint_dir=Workspace\\Training\\models\\my_ssd_mobilenetv2_fpn_640\n"
     ]
    }
   ],
   "source": [
    "print(command)\n",
    "\n",
    "# run the command in the miniconda prompt after activating the environment and changing to the working directory\n",
    "# after the completion of the training "
   ]
  },
  {
   "cell_type": "markdown",
   "id": "110caba2-0509-49b0-bab5-92bc8510d98c",
   "metadata": {},
   "source": [
    "# Real-time detections and saving"
   ]
  },
  {
   "cell_type": "code",
   "execution_count": 39,
   "id": "a8d4fc5d-8575-4bf7-9607-48daa0163793",
   "metadata": {
    "tags": []
   },
   "outputs": [],
   "source": [
    "from object_detection.utils import label_map_util\n",
    "from object_detection.utils import visualization_utils as viz_utils\n",
    "from object_detection.builders import model_builder\n",
    "from object_detection.utils import config_util"
   ]
  },
  {
   "cell_type": "code",
   "execution_count": 40,
   "id": "0a17395a-c234-425c-8040-c422040c8d75",
   "metadata": {
    "tags": []
   },
   "outputs": [],
   "source": [
    "# Load pipeline config and build a detection model\n",
    "configs = config_util.get_configs_from_pipeline_file(files['PIPELINE_CONFIG'])\n",
    "detection_model = model_builder.build(model_config=configs['model'], is_training=False)\n",
    "\n",
    "# Restore checkpoint\n",
    "ckpt = tf.compat.v2.train.Checkpoint(model=detection_model)\n",
    "ckpt.restore(os.path.join(paths['CHECKPOINT_PATH'], 'ckpt-9')).expect_partial()\n",
    "\n",
    "@tf.function\n",
    "def detect_fn(image):\n",
    "    image, shapes = detection_model.preprocess(image)\n",
    "    prediction_dict = detection_model.predict(image, shapes)\n",
    "    detections = detection_model.postprocess(prediction_dict, shapes)\n",
    "    return detections"
   ]
  },
  {
   "cell_type": "code",
   "execution_count": 42,
   "id": "c55ac04d-b328-4582-a181-4b5d6dc7273c",
   "metadata": {
    "tags": []
   },
   "outputs": [],
   "source": [
    "import numpy as np\n",
    "from matplotlib import pyplot as plt\n",
    "%matplotlib inline\n",
    "\n",
    "category_index = label_map_util.create_category_index_from_labelmap(files['LABELMAP'])"
   ]
  },
  {
   "cell_type": "code",
   "execution_count": 55,
   "id": "50430e07-2c29-44df-9a2a-bd8be8ed828e",
   "metadata": {},
   "outputs": [],
   "source": [
    "cap = cv2.VideoCapture(0)\n",
    "width = int(cap.get(cv2.CAP_PROP_FRAME_WIDTH))\n",
    "height = int(cap.get(cv2.CAP_PROP_FRAME_HEIGHT))\n",
    "\n",
    "# Define the codec and create VideoWriter object\n",
    "fourcc = cv2.VideoWriter_fourcc(*'XVID')\n",
    "out = cv2.VideoWriter('output.avi', fourcc, 20.0, (width, height))\n",
    "\n",
    "while cap.isOpened(): \n",
    "    ret, frame = cap.read()\n",
    "    image_np = np.array(frame)\n",
    "    \n",
    "    input_tensor = tf.convert_to_tensor(np.expand_dims(image_np, 0), dtype=tf.float32)\n",
    "    detections = detect_fn(input_tensor)\n",
    "    \n",
    "    num_detections = int(detections.pop('num_detections'))\n",
    "    detections = {key: value[0, :num_detections].numpy()\n",
    "                  for key, value in detections.items()}\n",
    "    detections['num_detections'] = num_detections\n",
    "\n",
    "    # detection_classes should be ints.\n",
    "    detections['detection_classes'] = detections['detection_classes'].astype(np.int64)\n",
    "\n",
    "    label_id_offset = 1\n",
    "    image_np_with_detections = image_np.copy()\n",
    "\n",
    "    viz_utils.visualize_boxes_and_labels_on_image_array(\n",
    "                image_np_with_detections,\n",
    "                detections['detection_boxes'],\n",
    "                detections['detection_classes']+label_id_offset,\n",
    "                detections['detection_scores'],\n",
    "                category_index,\n",
    "                use_normalized_coordinates=True,\n",
    "                max_boxes_to_draw=10,\n",
    "                min_score_thresh=.7,\n",
    "                agnostic_mode=False)\n",
    "\n",
    "    # Write the video frame to file\n",
    "    out.write(image_np_with_detections)\n",
    "\n",
    "    cv2.imshow('object detection',  cv2.resize(image_np_with_detections, (800, 600)))\n",
    "    \n",
    "    if cv2.waitKey(10) & 0xFF == ord('q'):\n",
    "        cap.release()\n",
    "        out.release()  # Release the video writer\n",
    "        cv2.destroyAllWindows()\n",
    "        break\n"
   ]
  },
  {
   "cell_type": "markdown",
   "id": "be027b8c-607e-4df9-9b80-cc26cf9aea24",
   "metadata": {},
   "source": [
    "# Resources"
   ]
  },
  {
   "cell_type": "markdown",
   "id": "6f186613-12b5-48e3-91c2-cca9c400bedf",
   "metadata": {},
   "source": [
    "for installation and doing project these youtube videos helped me a lot\n",
    "\n",
    "1. https://www.youtube.com/watch?v=rRwflsS67ow&t=803s&ab_channel=LazyTech"
   ]
  },
  {
   "cell_type": "markdown",
   "id": "4657f000-9826-47fb-9952-b35b321d695c",
   "metadata": {},
   "source": [
    "2. https://www.youtube.com/watch?v=yqkISICHH-U&t=11494s&ab_channel=NicholasRenotte"
   ]
  },
  {
   "cell_type": "markdown",
   "id": "a909d211-7ed8-443b-baf0-6c782e3c8dd3",
   "metadata": {},
   "source": [
    "# Further Improvements"
   ]
  },
  {
   "cell_type": "markdown",
   "id": "e3ac041a-6103-47df-9ea7-151a642aa554",
   "metadata": {},
   "source": [
    "1. Collecting more data and doing data agumentation for a robust model"
   ]
  },
  {
   "cell_type": "markdown",
   "id": "f950917a-b186-4e61-9fa0-afe16f1a8b8e",
   "metadata": {},
   "source": [
    "2. Converting it to tensorflow lite version and deploying it on modile device"
   ]
  }
 ],
 "metadata": {
  "kernelspec": {
   "display_name": "Python 3 (ipykernel)",
   "language": "python",
   "name": "python3"
  },
  "language_info": {
   "codemirror_mode": {
    "name": "ipython",
    "version": 3
   },
   "file_extension": ".py",
   "mimetype": "text/x-python",
   "name": "python",
   "nbconvert_exporter": "python",
   "pygments_lexer": "ipython3",
   "version": "3.9.16"
  }
 },
 "nbformat": 4,
 "nbformat_minor": 5
}
